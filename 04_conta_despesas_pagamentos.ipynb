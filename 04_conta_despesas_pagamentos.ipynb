{
 "cells": [
  {
   "cell_type": "code",
   "execution_count": 1,
   "metadata": {},
   "outputs": [],
   "source": [
    "# -*- coding: utf-8\n",
    "# Reinaldo Chaves (@paidatocandeira)\n",
    "# Acessa o arquivo criado com pagamentos de empenho da covid19\n",
    "# E faz diversas estatísticas\n",
    "#"
   ]
  },
  {
   "cell_type": "code",
   "execution_count": 2,
   "metadata": {},
   "outputs": [],
   "source": [
    "import pandas as pd"
   ]
  },
  {
   "cell_type": "code",
   "execution_count": null,
   "metadata": {},
   "outputs": [],
   "source": []
  },
  {
   "cell_type": "code",
   "execution_count": 3,
   "metadata": {},
   "outputs": [],
   "source": [
    "pd.options.display.float_format = '{:,.2f}'.format"
   ]
  },
  {
   "cell_type": "code",
   "execution_count": null,
   "metadata": {},
   "outputs": [],
   "source": []
  },
  {
   "cell_type": "code",
   "execution_count": 4,
   "metadata": {},
   "outputs": [],
   "source": [
    "kwargs = {'sep': ',', 'dtype': str, 'encoding': 'utf-8'}\n",
    "pagamentos_covid19 = pd.read_csv(\"resultados/pagamentos_covid19/pagamentos_feitos_de_empenhos_covid19_ate_03_junho_2020.csv\", **kwargs)"
   ]
  },
  {
   "cell_type": "code",
   "execution_count": 5,
   "metadata": {},
   "outputs": [],
   "source": [
    "# Carrega nomes de colunas"
   ]
  },
  {
   "cell_type": "code",
   "execution_count": 6,
   "metadata": {},
   "outputs": [
    {
     "data": {
      "text/plain": [
       "['Id Empenho',\n",
       " 'Código Empenho',\n",
       " 'Código Empenho Resumido',\n",
       " 'Data Emissão_x',\n",
       " 'Código Tipo Documento_x',\n",
       " 'Tipo Documento_x',\n",
       " 'Tipo Empenho',\n",
       " 'Espécie Empenho',\n",
       " 'Código Órgão Superior_x',\n",
       " 'Órgão Superior_x',\n",
       " 'Código Órgão_x',\n",
       " 'Órgão_x',\n",
       " 'Código Unidade Gestora_x',\n",
       " 'Unidade Gestora_x',\n",
       " 'Código Gestão_x',\n",
       " 'Gestão_x',\n",
       " 'Código Favorecido_x',\n",
       " 'Favorecido_x',\n",
       " 'Observação_x',\n",
       " 'Código Esfera Orçamentária',\n",
       " 'Esfera Orçamentária',\n",
       " 'Código Tipo Crédito',\n",
       " 'Tipo Crédito',\n",
       " 'Código Grupo Fonte Recurso',\n",
       " 'Grupo Fonte Recurso',\n",
       " 'Código Fonte Recurso',\n",
       " 'Fonte Recurso',\n",
       " 'Código Unidade Orçamentária',\n",
       " 'Unidade Orçamentária',\n",
       " 'Código Função',\n",
       " 'Função',\n",
       " 'Código SubFunção',\n",
       " 'SubFunção',\n",
       " 'Código Programa',\n",
       " 'Programa',\n",
       " 'Código Ação',\n",
       " 'Ação',\n",
       " 'Linguagem Cidadã',\n",
       " 'Código Subtítulo (Localizador)',\n",
       " 'Subtítulo (Localizador)',\n",
       " 'Código Plano Orçamentário_x',\n",
       " 'Plano Orçamentário_x',\n",
       " 'Código Programa Governo_x',\n",
       " 'Nome Programa Governo_x',\n",
       " 'Autor Emenda',\n",
       " 'Código Categoria de Despesa_x',\n",
       " 'Categoria de Despesa_x',\n",
       " 'Código Grupo de Despesa_x',\n",
       " 'Grupo de Despesa_x',\n",
       " 'Código Modalidade de Aplicação_x',\n",
       " 'Modalidade de Aplicação_x',\n",
       " 'Código Elemento de Despesa_x',\n",
       " 'Elemento de Despesa_x',\n",
       " 'Processo_x',\n",
       " 'Modalidade de Licitação',\n",
       " 'Inciso',\n",
       " 'Amparo',\n",
       " 'Referência de Dispensa ou Inexigibilidade',\n",
       " 'Código Convênio',\n",
       " 'Contrato de Repasse / Termo de Parceria / Outros',\n",
       " 'Valor Original do Empenho',\n",
       " 'Valor do Empenho Convertido pra R$',\n",
       " 'Valor Utilizado na Conversão_x',\n",
       " 'Código Pagamento',\n",
       " 'Código Natureza Despesa Completa',\n",
       " 'Subitem',\n",
       " 'Valor Pago (R$)',\n",
       " 'Valor Restos a Pagar Inscritos (R$)',\n",
       " 'Valor Restos a Pagar Cancelado (R$)',\n",
       " 'Valor Restos a Pagar Pagos (R$)',\n",
       " 'Código Pagamento Resumido',\n",
       " 'Data Emissão_y',\n",
       " 'Código Tipo Documento_y',\n",
       " 'Tipo Documento_y',\n",
       " 'Tipo OB',\n",
       " 'Extraorçamentário',\n",
       " 'Código Órgão Superior_y',\n",
       " 'Órgão Superior_y',\n",
       " 'Código Órgão_y',\n",
       " 'Órgão_y',\n",
       " 'Código Unidade Gestora_y',\n",
       " 'Unidade Gestora_y',\n",
       " 'Código Gestão_y',\n",
       " 'Gestão_y',\n",
       " 'Código Favorecido_y',\n",
       " 'Favorecido_y',\n",
       " 'Observação_y',\n",
       " 'Processo_y',\n",
       " 'Código Categoria de Despesa_y',\n",
       " 'Categoria de Despesa_y',\n",
       " 'Código Grupo de Despesa_y',\n",
       " 'Grupo de Despesa_y',\n",
       " 'Código Modalidade de Aplicação_y',\n",
       " 'Modalidade de Aplicação_y',\n",
       " 'Código Elemento de Despesa_y',\n",
       " 'Elemento de Despesa_y',\n",
       " 'Código Plano Orçamentário_y',\n",
       " 'Plano Orçamentário_y',\n",
       " 'Código Programa Governo_y',\n",
       " 'Nome Programa Governo_y',\n",
       " 'Valor Original do Pagamento',\n",
       " 'Valor do Pagamento Convertido pra R$',\n",
       " 'Valor Utilizado na Conversão_y']"
      ]
     },
     "execution_count": 6,
     "metadata": {},
     "output_type": "execute_result"
    }
   ],
   "source": [
    "list(pagamentos_covid19.columns.values.tolist())"
   ]
  },
  {
   "cell_type": "code",
   "execution_count": null,
   "metadata": {},
   "outputs": [],
   "source": []
  },
  {
   "cell_type": "code",
   "execution_count": 7,
   "metadata": {},
   "outputs": [],
   "source": [
    "# Quantidade de favorecidos nos pagamentos"
   ]
  },
  {
   "cell_type": "code",
   "execution_count": 8,
   "metadata": {},
   "outputs": [
    {
     "data": {
      "text/plain": [
       "2526"
      ]
     },
     "execution_count": 8,
     "metadata": {},
     "output_type": "execute_result"
    }
   ],
   "source": [
    "a = len(pagamentos_covid19['Favorecido_x'].value_counts())\n",
    "a"
   ]
  },
  {
   "cell_type": "code",
   "execution_count": null,
   "metadata": {},
   "outputs": [],
   "source": []
  },
  {
   "cell_type": "code",
   "execution_count": 9,
   "metadata": {},
   "outputs": [],
   "source": [
    "# Transforma em numero campos de valores"
   ]
  },
  {
   "cell_type": "code",
   "execution_count": 10,
   "metadata": {},
   "outputs": [],
   "source": [
    "pagamentos_covid19['Valor Original do Empenho'] = pagamentos_covid19['Valor Original do Empenho'].str.replace(',','.')\n",
    "pagamentos_covid19['Valor Original do Empenho'] = pagamentos_covid19['Valor Original do Empenho'].astype('float64') \n",
    "\n",
    "pagamentos_covid19['Valor do Empenho Convertido pra R$'] = pagamentos_covid19['Valor do Empenho Convertido pra R$'].str.replace(',','.')\n",
    "pagamentos_covid19['Valor do Empenho Convertido pra R$'] = pagamentos_covid19['Valor do Empenho Convertido pra R$'].astype('float64') \n",
    "\n",
    "pagamentos_covid19['Valor Utilizado na Conversão_x'] = pagamentos_covid19['Valor Utilizado na Conversão_x'].str.replace(',','.')\n",
    "pagamentos_covid19['Valor Utilizado na Conversão_x'] = pagamentos_covid19['Valor Utilizado na Conversão_x'].astype('float64') \n",
    "\n",
    "pagamentos_covid19['Valor Pago (R$)'] = pagamentos_covid19['Valor Pago (R$)'].str.replace(',','.')\n",
    "pagamentos_covid19['Valor Pago (R$)'] = pagamentos_covid19['Valor Pago (R$)'].astype('float64') \n",
    "pagamentos_covid19.rename(columns = {'Valor Pago (R$)':'valor_pago_em_real'},inplace = True)\n",
    "\n",
    "pagamentos_covid19['Valor Restos a Pagar Inscritos (R$)'] = pagamentos_covid19['Valor Restos a Pagar Inscritos (R$)'].str.replace(',','.')\n",
    "pagamentos_covid19['Valor Restos a Pagar Inscritos (R$)'] = pagamentos_covid19['Valor Restos a Pagar Inscritos (R$)'].astype('float64') \n",
    "\n",
    "pagamentos_covid19['Valor Restos a Pagar Cancelado (R$)'] = pagamentos_covid19['Valor Restos a Pagar Cancelado (R$)'].str.replace(',','.')\n",
    "pagamentos_covid19['Valor Restos a Pagar Cancelado (R$)'] = pagamentos_covid19['Valor Restos a Pagar Cancelado (R$)'].astype('float64') \n",
    "\n",
    "pagamentos_covid19['Valor Restos a Pagar Pagos (R$)'] = pagamentos_covid19['Valor Restos a Pagar Pagos (R$)'].str.replace(',','.')\n",
    "pagamentos_covid19['Valor Restos a Pagar Pagos (R$)'] = pagamentos_covid19['Valor Restos a Pagar Pagos (R$)'].astype('float64') \n",
    "\n",
    "pagamentos_covid19['Valor Original do Pagamento'] = pagamentos_covid19['Valor Original do Pagamento'].str.replace(',','.')\n",
    "pagamentos_covid19['Valor Original do Pagamento'] = pagamentos_covid19['Valor Original do Pagamento'].astype('float64') \n",
    "\n",
    "pagamentos_covid19['Valor do Pagamento Convertido pra R$'] = pagamentos_covid19['Valor do Pagamento Convertido pra R$'].str.replace(',','.')\n",
    "pagamentos_covid19['Valor do Pagamento Convertido pra R$'] = pagamentos_covid19['Valor do Pagamento Convertido pra R$'].astype('float64') \n",
    "\n",
    "pagamentos_covid19['Valor Utilizado na Conversão_y'] = pagamentos_covid19['Valor Utilizado na Conversão_y'].str.replace(',','.')\n",
    "pagamentos_covid19['Valor Utilizado na Conversão_y'] = pagamentos_covid19['Valor Utilizado na Conversão_y'].astype('float64') "
   ]
  },
  {
   "cell_type": "code",
   "execution_count": null,
   "metadata": {},
   "outputs": [],
   "source": []
  },
  {
   "cell_type": "code",
   "execution_count": 11,
   "metadata": {},
   "outputs": [
    {
     "data": {
      "text/plain": [
       "12164532533.4"
      ]
     },
     "execution_count": 11,
     "metadata": {},
     "output_type": "execute_result"
    }
   ],
   "source": [
    "pagamentos_covid19['valor_pago_em_real'].sum()"
   ]
  },
  {
   "cell_type": "code",
   "execution_count": 12,
   "metadata": {},
   "outputs": [
    {
     "data": {
      "text/plain": [
       "31339151742.949997"
      ]
     },
     "execution_count": 12,
     "metadata": {},
     "output_type": "execute_result"
    }
   ],
   "source": [
    "pagamentos_covid19['Valor Original do Empenho'].sum()"
   ]
  },
  {
   "cell_type": "code",
   "execution_count": 13,
   "metadata": {},
   "outputs": [
    {
     "data": {
      "text/plain": [
       "30667676948.58"
      ]
     },
     "execution_count": 13,
     "metadata": {},
     "output_type": "execute_result"
    }
   ],
   "source": [
    "pagamentos_covid19['Valor do Empenho Convertido pra R$'].sum()"
   ]
  },
  {
   "cell_type": "code",
   "execution_count": null,
   "metadata": {},
   "outputs": [],
   "source": []
  },
  {
   "cell_type": "code",
   "execution_count": 14,
   "metadata": {},
   "outputs": [],
   "source": [
    "# Média de valores pagos"
   ]
  },
  {
   "cell_type": "code",
   "execution_count": 15,
   "metadata": {},
   "outputs": [
    {
     "data": {
      "text/plain": [
       "1076412.0461375099"
      ]
     },
     "execution_count": 15,
     "metadata": {},
     "output_type": "execute_result"
    }
   ],
   "source": [
    "pagamentos_covid19['valor_pago_em_real'].mean()"
   ]
  },
  {
   "cell_type": "code",
   "execution_count": 16,
   "metadata": {},
   "outputs": [],
   "source": [
    "# Mediana de valores pagos"
   ]
  },
  {
   "cell_type": "code",
   "execution_count": 17,
   "metadata": {},
   "outputs": [
    {
     "data": {
      "text/plain": [
       "2337.48"
      ]
     },
     "execution_count": 17,
     "metadata": {},
     "output_type": "execute_result"
    }
   ],
   "source": [
    "pagamentos_covid19['valor_pago_em_real'].median()"
   ]
  },
  {
   "cell_type": "code",
   "execution_count": 18,
   "metadata": {},
   "outputs": [],
   "source": [
    "# Moda de valores pagos"
   ]
  },
  {
   "cell_type": "code",
   "execution_count": 19,
   "metadata": {},
   "outputs": [
    {
     "data": {
      "text/plain": [
       "0   442.50\n",
       "dtype: float64"
      ]
     },
     "execution_count": 19,
     "metadata": {},
     "output_type": "execute_result"
    }
   ],
   "source": [
    "pagamentos_covid19['valor_pago_em_real'].mode()"
   ]
  },
  {
   "cell_type": "code",
   "execution_count": 20,
   "metadata": {},
   "outputs": [],
   "source": [
    "procura = pagamentos_covid19[(pagamentos_covid19['valor_pago_em_real'] == 442.50)]"
   ]
  },
  {
   "cell_type": "code",
   "execution_count": 21,
   "metadata": {},
   "outputs": [
    {
     "data": {
      "text/plain": [
       "(329, 103)"
      ]
     },
     "execution_count": 21,
     "metadata": {},
     "output_type": "execute_result"
    }
   ],
   "source": [
    "procura.shape"
   ]
  },
  {
   "cell_type": "code",
   "execution_count": 22,
   "metadata": {},
   "outputs": [
    {
     "data": {
      "text/html": [
       "<div>\n",
       "<style scoped>\n",
       "    .dataframe tbody tr th:only-of-type {\n",
       "        vertical-align: middle;\n",
       "    }\n",
       "\n",
       "    .dataframe tbody tr th {\n",
       "        vertical-align: top;\n",
       "    }\n",
       "\n",
       "    .dataframe thead th {\n",
       "        text-align: right;\n",
       "    }\n",
       "</style>\n",
       "<table border=\"1\" class=\"dataframe\">\n",
       "  <thead>\n",
       "    <tr style=\"text-align: right;\">\n",
       "      <th></th>\n",
       "      <th>Data Emissão_x</th>\n",
       "      <th>Código Empenho</th>\n",
       "      <th>Id Empenho</th>\n",
       "      <th>Órgão_x</th>\n",
       "      <th>Unidade Gestora_x</th>\n",
       "      <th>Código Favorecido_x</th>\n",
       "      <th>Favorecido_x</th>\n",
       "      <th>Valor do Empenho Convertido pra R$</th>\n",
       "      <th>valor_pago_em_real</th>\n",
       "      <th>Valor Restos a Pagar Inscritos (R$)</th>\n",
       "      <th>Observação_x</th>\n",
       "      <th>Observação_y</th>\n",
       "      <th>Modalidade de Licitação</th>\n",
       "    </tr>\n",
       "  </thead>\n",
       "  <tbody>\n",
       "    <tr>\n",
       "      <th>102</th>\n",
       "      <td>08/04/2020</td>\n",
       "      <td>194010192082020NE000002</td>\n",
       "      <td>180100348</td>\n",
       "      <td>Fundação Nacional do Índio</td>\n",
       "      <td>COORD. REG. CENTRO-LESTE DO PARA/PA</td>\n",
       "      <td>PFCOL4010</td>\n",
       "      <td>FUNDACAO NACIONAL DO INDIO - DIARIAS DE COLABO...</td>\n",
       "      <td>10,620.00</td>\n",
       "      <td>442.50</td>\n",
       "      <td>0.00</td>\n",
       "      <td>08748.000961/2019-19 - DIARIAS DE COLABORADOR ...</td>\n",
       "      <td>PROC 001194/20 DOC GERADO PELO SCDP. PCDP 0011...</td>\n",
       "      <td>Não se Aplica</td>\n",
       "    </tr>\n",
       "    <tr>\n",
       "      <th>1234</th>\n",
       "      <td>24/03/2020</td>\n",
       "      <td>120638000012020NE000019</td>\n",
       "      <td>160400393</td>\n",
       "      <td>Comando da Aeronáutica</td>\n",
       "      <td>GRUPAMENTO DE APOIO DE CAMPO GRANDE</td>\n",
       "      <td>120638</td>\n",
       "      <td>GRUPAMENTO DE APOIO DE CAMPO GRANDE</td>\n",
       "      <td>31,405.70</td>\n",
       "      <td>442.50</td>\n",
       "      <td>0.00</td>\n",
       "      <td>DIARIAS DE MILITARES DA ALA-5.</td>\n",
       "      <td>PROC 009243/20 DOC GERADO PELO SCDP. PCDP 0092...</td>\n",
       "      <td>Não se Aplica</td>\n",
       "    </tr>\n",
       "    <tr>\n",
       "      <th>1235</th>\n",
       "      <td>24/03/2020</td>\n",
       "      <td>120638000012020NE000019</td>\n",
       "      <td>160400393</td>\n",
       "      <td>Comando da Aeronáutica</td>\n",
       "      <td>GRUPAMENTO DE APOIO DE CAMPO GRANDE</td>\n",
       "      <td>120638</td>\n",
       "      <td>GRUPAMENTO DE APOIO DE CAMPO GRANDE</td>\n",
       "      <td>31,405.70</td>\n",
       "      <td>442.50</td>\n",
       "      <td>0.00</td>\n",
       "      <td>DIARIAS DE MILITARES DA ALA-5.</td>\n",
       "      <td>PROC 009241/20 DOC GERADO PELO SCDP. PCDP 0092...</td>\n",
       "      <td>Não se Aplica</td>\n",
       "    </tr>\n",
       "    <tr>\n",
       "      <th>1236</th>\n",
       "      <td>24/03/2020</td>\n",
       "      <td>120638000012020NE000019</td>\n",
       "      <td>160400393</td>\n",
       "      <td>Comando da Aeronáutica</td>\n",
       "      <td>GRUPAMENTO DE APOIO DE CAMPO GRANDE</td>\n",
       "      <td>120638</td>\n",
       "      <td>GRUPAMENTO DE APOIO DE CAMPO GRANDE</td>\n",
       "      <td>31,405.70</td>\n",
       "      <td>442.50</td>\n",
       "      <td>0.00</td>\n",
       "      <td>DIARIAS DE MILITARES DA ALA-5.</td>\n",
       "      <td>PROC 009238/20 DOC GERADO PELO SCDP. PCDP 0092...</td>\n",
       "      <td>Não se Aplica</td>\n",
       "    </tr>\n",
       "    <tr>\n",
       "      <th>1238</th>\n",
       "      <td>24/03/2020</td>\n",
       "      <td>120638000012020NE000019</td>\n",
       "      <td>160400393</td>\n",
       "      <td>Comando da Aeronáutica</td>\n",
       "      <td>GRUPAMENTO DE APOIO DE CAMPO GRANDE</td>\n",
       "      <td>120638</td>\n",
       "      <td>GRUPAMENTO DE APOIO DE CAMPO GRANDE</td>\n",
       "      <td>31,405.70</td>\n",
       "      <td>442.50</td>\n",
       "      <td>0.00</td>\n",
       "      <td>DIARIAS DE MILITARES DA ALA-5.</td>\n",
       "      <td>PROC 009242/20 DOC GERADO PELO SCDP. PCDP 0092...</td>\n",
       "      <td>Não se Aplica</td>\n",
       "    </tr>\n",
       "    <tr>\n",
       "      <th>...</th>\n",
       "      <td>...</td>\n",
       "      <td>...</td>\n",
       "      <td>...</td>\n",
       "      <td>...</td>\n",
       "      <td>...</td>\n",
       "      <td>...</td>\n",
       "      <td>...</td>\n",
       "      <td>...</td>\n",
       "      <td>...</td>\n",
       "      <td>...</td>\n",
       "      <td>...</td>\n",
       "      <td>...</td>\n",
       "      <td>...</td>\n",
       "    </tr>\n",
       "    <tr>\n",
       "      <th>7897</th>\n",
       "      <td>16/04/2020</td>\n",
       "      <td>194151192082020NE000032</td>\n",
       "      <td>172900706</td>\n",
       "      <td>Fundação Nacional do Índio</td>\n",
       "      <td>FUNAI-DIRETORIA DE PROTEÇÃO TERRITORIAL</td>\n",
       "      <td>PF0023COV</td>\n",
       "      <td>AUXILIO FINACEIRO - ACAO DE COMBATE AO COVID 19</td>\n",
       "      <td>130,000.00</td>\n",
       "      <td>442.50</td>\n",
       "      <td>0.00</td>\n",
       "      <td>COBRIR DESPESAS COM DIARIAS DE SERVIDOR E DE C...</td>\n",
       "      <td>PROC 001056/20 DOC GERADO PELO SCDP. PCDP 0010...</td>\n",
       "      <td>Não se Aplica</td>\n",
       "    </tr>\n",
       "    <tr>\n",
       "      <th>7910</th>\n",
       "      <td>16/04/2020</td>\n",
       "      <td>194151192082020NE000032</td>\n",
       "      <td>172900706</td>\n",
       "      <td>Fundação Nacional do Índio</td>\n",
       "      <td>FUNAI-DIRETORIA DE PROTEÇÃO TERRITORIAL</td>\n",
       "      <td>PF0023COV</td>\n",
       "      <td>AUXILIO FINACEIRO - ACAO DE COMBATE AO COVID 19</td>\n",
       "      <td>130,000.00</td>\n",
       "      <td>442.50</td>\n",
       "      <td>0.00</td>\n",
       "      <td>COBRIR DESPESAS COM DIARIAS DE SERVIDOR E DE C...</td>\n",
       "      <td>PROC 000584/20-1C DOC GERADO PELO SCDP. PCDP 0...</td>\n",
       "      <td>Não se Aplica</td>\n",
       "    </tr>\n",
       "    <tr>\n",
       "      <th>8225</th>\n",
       "      <td>09/04/2020</td>\n",
       "      <td>200117000012020NE000126</td>\n",
       "      <td>176300500</td>\n",
       "      <td>Departamento de Polícia Rodoviária Federal</td>\n",
       "      <td>SUPERINTENDENCIA REG. POL. RODV. FEDERAL-SP</td>\n",
       "      <td>-11</td>\n",
       "      <td>Informação protegida por sigilo nos termos da ...</td>\n",
       "      <td>95,121.60</td>\n",
       "      <td>442.50</td>\n",
       "      <td>0.00</td>\n",
       "      <td>Informação protegida por sigilo nos termos da ...</td>\n",
       "      <td>Informação protegida por sigilo nos termos da ...</td>\n",
       "      <td>Não se Aplica</td>\n",
       "    </tr>\n",
       "    <tr>\n",
       "      <th>8947</th>\n",
       "      <td>12/03/2020</td>\n",
       "      <td>120006000012020NE000025</td>\n",
       "      <td>155306009</td>\n",
       "      <td>Comando da Aeronáutica</td>\n",
       "      <td>GRUPAMENTO DE APOIO DE BRASILIA</td>\n",
       "      <td>120006</td>\n",
       "      <td>GRUPAMENTO DE APOIO DE BRASILIA</td>\n",
       "      <td>8,000.00</td>\n",
       "      <td>442.50</td>\n",
       "      <td>0.00</td>\n",
       "      <td>ATENDER AS NECESSIDADES DA SEFA               ...</td>\n",
       "      <td>PAGAMENTO DE DIARIA  - OPERACAO REGRESSO A PAT...</td>\n",
       "      <td>Não se Aplica</td>\n",
       "    </tr>\n",
       "    <tr>\n",
       "      <th>8952</th>\n",
       "      <td>12/03/2020</td>\n",
       "      <td>120006000012020NE000025</td>\n",
       "      <td>155306009</td>\n",
       "      <td>Comando da Aeronáutica</td>\n",
       "      <td>GRUPAMENTO DE APOIO DE BRASILIA</td>\n",
       "      <td>120006</td>\n",
       "      <td>GRUPAMENTO DE APOIO DE BRASILIA</td>\n",
       "      <td>8,000.00</td>\n",
       "      <td>442.50</td>\n",
       "      <td>0.00</td>\n",
       "      <td>ATENDER AS NECESSIDADES DA SEFA               ...</td>\n",
       "      <td>PAGAMENTO DE DIARIA  - OPERACAO REGRESSO A PAT...</td>\n",
       "      <td>Não se Aplica</td>\n",
       "    </tr>\n",
       "  </tbody>\n",
       "</table>\n",
       "<p>329 rows × 13 columns</p>\n",
       "</div>"
      ],
      "text/plain": [
       "     Data Emissão_x           Código Empenho Id Empenho  \\\n",
       "102      08/04/2020  194010192082020NE000002  180100348   \n",
       "1234     24/03/2020  120638000012020NE000019  160400393   \n",
       "1235     24/03/2020  120638000012020NE000019  160400393   \n",
       "1236     24/03/2020  120638000012020NE000019  160400393   \n",
       "1238     24/03/2020  120638000012020NE000019  160400393   \n",
       "...             ...                      ...        ...   \n",
       "7897     16/04/2020  194151192082020NE000032  172900706   \n",
       "7910     16/04/2020  194151192082020NE000032  172900706   \n",
       "8225     09/04/2020  200117000012020NE000126  176300500   \n",
       "8947     12/03/2020  120006000012020NE000025  155306009   \n",
       "8952     12/03/2020  120006000012020NE000025  155306009   \n",
       "\n",
       "                                         Órgão_x  \\\n",
       "102                   Fundação Nacional do Índio   \n",
       "1234                      Comando da Aeronáutica   \n",
       "1235                      Comando da Aeronáutica   \n",
       "1236                      Comando da Aeronáutica   \n",
       "1238                      Comando da Aeronáutica   \n",
       "...                                          ...   \n",
       "7897                  Fundação Nacional do Índio   \n",
       "7910                  Fundação Nacional do Índio   \n",
       "8225  Departamento de Polícia Rodoviária Federal   \n",
       "8947                      Comando da Aeronáutica   \n",
       "8952                      Comando da Aeronáutica   \n",
       "\n",
       "                                Unidade Gestora_x Código Favorecido_x  \\\n",
       "102           COORD. REG. CENTRO-LESTE DO PARA/PA           PFCOL4010   \n",
       "1234          GRUPAMENTO DE APOIO DE CAMPO GRANDE              120638   \n",
       "1235          GRUPAMENTO DE APOIO DE CAMPO GRANDE              120638   \n",
       "1236          GRUPAMENTO DE APOIO DE CAMPO GRANDE              120638   \n",
       "1238          GRUPAMENTO DE APOIO DE CAMPO GRANDE              120638   \n",
       "...                                           ...                 ...   \n",
       "7897      FUNAI-DIRETORIA DE PROTEÇÃO TERRITORIAL           PF0023COV   \n",
       "7910      FUNAI-DIRETORIA DE PROTEÇÃO TERRITORIAL           PF0023COV   \n",
       "8225  SUPERINTENDENCIA REG. POL. RODV. FEDERAL-SP                 -11   \n",
       "8947              GRUPAMENTO DE APOIO DE BRASILIA              120006   \n",
       "8952              GRUPAMENTO DE APOIO DE BRASILIA              120006   \n",
       "\n",
       "                                           Favorecido_x  \\\n",
       "102   FUNDACAO NACIONAL DO INDIO - DIARIAS DE COLABO...   \n",
       "1234                GRUPAMENTO DE APOIO DE CAMPO GRANDE   \n",
       "1235                GRUPAMENTO DE APOIO DE CAMPO GRANDE   \n",
       "1236                GRUPAMENTO DE APOIO DE CAMPO GRANDE   \n",
       "1238                GRUPAMENTO DE APOIO DE CAMPO GRANDE   \n",
       "...                                                 ...   \n",
       "7897    AUXILIO FINACEIRO - ACAO DE COMBATE AO COVID 19   \n",
       "7910    AUXILIO FINACEIRO - ACAO DE COMBATE AO COVID 19   \n",
       "8225  Informação protegida por sigilo nos termos da ...   \n",
       "8947                    GRUPAMENTO DE APOIO DE BRASILIA   \n",
       "8952                    GRUPAMENTO DE APOIO DE BRASILIA   \n",
       "\n",
       "      Valor do Empenho Convertido pra R$  valor_pago_em_real  \\\n",
       "102                            10,620.00              442.50   \n",
       "1234                           31,405.70              442.50   \n",
       "1235                           31,405.70              442.50   \n",
       "1236                           31,405.70              442.50   \n",
       "1238                           31,405.70              442.50   \n",
       "...                                  ...                 ...   \n",
       "7897                          130,000.00              442.50   \n",
       "7910                          130,000.00              442.50   \n",
       "8225                           95,121.60              442.50   \n",
       "8947                            8,000.00              442.50   \n",
       "8952                            8,000.00              442.50   \n",
       "\n",
       "      Valor Restos a Pagar Inscritos (R$)  \\\n",
       "102                                  0.00   \n",
       "1234                                 0.00   \n",
       "1235                                 0.00   \n",
       "1236                                 0.00   \n",
       "1238                                 0.00   \n",
       "...                                   ...   \n",
       "7897                                 0.00   \n",
       "7910                                 0.00   \n",
       "8225                                 0.00   \n",
       "8947                                 0.00   \n",
       "8952                                 0.00   \n",
       "\n",
       "                                           Observação_x  \\\n",
       "102   08748.000961/2019-19 - DIARIAS DE COLABORADOR ...   \n",
       "1234                     DIARIAS DE MILITARES DA ALA-5.   \n",
       "1235                     DIARIAS DE MILITARES DA ALA-5.   \n",
       "1236                     DIARIAS DE MILITARES DA ALA-5.   \n",
       "1238                     DIARIAS DE MILITARES DA ALA-5.   \n",
       "...                                                 ...   \n",
       "7897  COBRIR DESPESAS COM DIARIAS DE SERVIDOR E DE C...   \n",
       "7910  COBRIR DESPESAS COM DIARIAS DE SERVIDOR E DE C...   \n",
       "8225  Informação protegida por sigilo nos termos da ...   \n",
       "8947  ATENDER AS NECESSIDADES DA SEFA               ...   \n",
       "8952  ATENDER AS NECESSIDADES DA SEFA               ...   \n",
       "\n",
       "                                           Observação_y  \\\n",
       "102   PROC 001194/20 DOC GERADO PELO SCDP. PCDP 0011...   \n",
       "1234  PROC 009243/20 DOC GERADO PELO SCDP. PCDP 0092...   \n",
       "1235  PROC 009241/20 DOC GERADO PELO SCDP. PCDP 0092...   \n",
       "1236  PROC 009238/20 DOC GERADO PELO SCDP. PCDP 0092...   \n",
       "1238  PROC 009242/20 DOC GERADO PELO SCDP. PCDP 0092...   \n",
       "...                                                 ...   \n",
       "7897  PROC 001056/20 DOC GERADO PELO SCDP. PCDP 0010...   \n",
       "7910  PROC 000584/20-1C DOC GERADO PELO SCDP. PCDP 0...   \n",
       "8225  Informação protegida por sigilo nos termos da ...   \n",
       "8947  PAGAMENTO DE DIARIA  - OPERACAO REGRESSO A PAT...   \n",
       "8952  PAGAMENTO DE DIARIA  - OPERACAO REGRESSO A PAT...   \n",
       "\n",
       "     Modalidade de Licitação  \n",
       "102            Não se Aplica  \n",
       "1234           Não se Aplica  \n",
       "1235           Não se Aplica  \n",
       "1236           Não se Aplica  \n",
       "1238           Não se Aplica  \n",
       "...                      ...  \n",
       "7897           Não se Aplica  \n",
       "7910           Não se Aplica  \n",
       "8225           Não se Aplica  \n",
       "8947           Não se Aplica  \n",
       "8952           Não se Aplica  \n",
       "\n",
       "[329 rows x 13 columns]"
      ]
     },
     "execution_count": 22,
     "metadata": {},
     "output_type": "execute_result"
    }
   ],
   "source": [
    "procura[[\"Data Emissão_x\",\"Código Empenho\", \"Id Empenho\", \"Órgão_x\", \"Unidade Gestora_x\", \"Código Favorecido_x\", \"Favorecido_x\", \"Valor do Empenho Convertido pra R$\", \"valor_pago_em_real\", \"Valor Restos a Pagar Inscritos (R$)\", \"Observação_x\", \"Observação_y\",  \"Modalidade de Licitação\"]]"
   ]
  },
  {
   "cell_type": "code",
   "execution_count": null,
   "metadata": {},
   "outputs": [],
   "source": []
  },
  {
   "cell_type": "code",
   "execution_count": null,
   "metadata": {},
   "outputs": [],
   "source": []
  },
  {
   "cell_type": "code",
   "execution_count": 23,
   "metadata": {},
   "outputs": [],
   "source": [
    "# Maior valor originalmente empenhado"
   ]
  },
  {
   "cell_type": "code",
   "execution_count": 24,
   "metadata": {},
   "outputs": [
    {
     "data": {
      "text/plain": [
       "694320000.0"
      ]
     },
     "execution_count": 24,
     "metadata": {},
     "output_type": "execute_result"
    }
   ],
   "source": [
    "pagamentos_covid19['Valor do Empenho Convertido pra R$'].max()"
   ]
  },
  {
   "cell_type": "code",
   "execution_count": 25,
   "metadata": {},
   "outputs": [
    {
     "data": {
      "text/plain": [
       "Data Emissão_x                                                                03/04/2020\n",
       "Código Empenho                                                   250005000012020NE000096\n",
       "Id Empenho                                                                     176600022\n",
       "Órgão_x                                    Ministério da Saúde - Unidades com vínculo di\n",
       "Unidade Gestora_x                              DEPARTAMENTO DE LOGISTICA EM SAUDE - DLOG\n",
       "Código Favorecido_x                                                            EX2590112\n",
       "Favorecido_x                                          GLOBAL BASE DEVELOPMENT HK LIMITED\n",
       "Valor do Empenho Convertido pra R$                                        694,320,000.00\n",
       "valor_pago_em_real                                                         21,965,856.00\n",
       "Valor Restos a Pagar Inscritos (R$)                                                 0.00\n",
       "Observação_x                           ATNDER DESPESAS COM AQUISICAO DE MASCARA SMS 3...\n",
       "Observação_y                           CT 112/2020 - PAGAMENTO PARA IMPORTACAO DE MAS...\n",
       "Modalidade de Licitação                                                    Não se Aplica\n",
       "Name: 3790, dtype: object"
      ]
     },
     "execution_count": 25,
     "metadata": {},
     "output_type": "execute_result"
    }
   ],
   "source": [
    "pagamentos_covid19.loc[pagamentos_covid19['Valor do Empenho Convertido pra R$'].idxmax()][[\"Data Emissão_x\", \"Código Empenho\", \"Id Empenho\", \"Órgão_x\", \"Unidade Gestora_x\", \"Código Favorecido_x\", \"Favorecido_x\", \"Valor do Empenho Convertido pra R$\", \"valor_pago_em_real\", \"Valor Restos a Pagar Inscritos (R$)\", \"Observação_x\", \"Observação_y\", \"Modalidade de Licitação\"]]"
   ]
  },
  {
   "cell_type": "code",
   "execution_count": null,
   "metadata": {},
   "outputs": [],
   "source": []
  },
  {
   "cell_type": "code",
   "execution_count": 26,
   "metadata": {},
   "outputs": [],
   "source": [
    "# Menor valor originalmente empenhado"
   ]
  },
  {
   "cell_type": "code",
   "execution_count": 27,
   "metadata": {},
   "outputs": [
    {
     "data": {
      "text/plain": [
       "1.0"
      ]
     },
     "execution_count": 27,
     "metadata": {},
     "output_type": "execute_result"
    }
   ],
   "source": [
    "pagamentos_covid19['Valor do Empenho Convertido pra R$'].min()"
   ]
  },
  {
   "cell_type": "code",
   "execution_count": 28,
   "metadata": {},
   "outputs": [
    {
     "data": {
      "text/plain": [
       "Data Emissão_x                                                                24/03/2020\n",
       "Código Empenho                                                   155001152752020NE516283\n",
       "Id Empenho                                                                     167200532\n",
       "Órgão_x                                             Hospital de Clínicas de Porto Alegre\n",
       "Unidade Gestora_x                                   HOSPITAL DE CLINICAS DE PORTO ALEGRE\n",
       "Código Favorecido_x                                                       91154310000116\n",
       "Favorecido_x                           3 F COMERCIO DE EQUIPAMENTOS DE PROTECAO INDIV...\n",
       "Valor do Empenho Convertido pra R$                                                  1.00\n",
       "valor_pago_em_real                                                                319.00\n",
       "Valor Restos a Pagar Inscritos (R$)                                                 0.00\n",
       "Observação_x                                            MATERIAL DE PROTECAO E SEGURANCA\n",
       "Observação_y                           (DARF): RETENCAO DE TRIBUTOS, CONFORME IN NRO ...\n",
       "Modalidade de Licitação                                            Dispensa de Licitação\n",
       "Name: 1210, dtype: object"
      ]
     },
     "execution_count": 28,
     "metadata": {},
     "output_type": "execute_result"
    }
   ],
   "source": [
    "pagamentos_covid19.loc[pagamentos_covid19['Valor do Empenho Convertido pra R$'].idxmin()][[\"Data Emissão_x\",\"Código Empenho\", \"Id Empenho\", \"Órgão_x\", \"Unidade Gestora_x\", \"Código Favorecido_x\", \"Favorecido_x\", \"Valor do Empenho Convertido pra R$\", \"valor_pago_em_real\", \"Valor Restos a Pagar Inscritos (R$)\", \"Observação_x\", \"Observação_y\", \"Modalidade de Licitação\"]]"
   ]
  },
  {
   "cell_type": "code",
   "execution_count": null,
   "metadata": {},
   "outputs": [],
   "source": []
  },
  {
   "cell_type": "code",
   "execution_count": 29,
   "metadata": {},
   "outputs": [],
   "source": [
    "# Maior valor pago em real "
   ]
  },
  {
   "cell_type": "code",
   "execution_count": 30,
   "metadata": {},
   "outputs": [
    {
     "data": {
      "text/plain": [
       "440894813.73"
      ]
     },
     "execution_count": 30,
     "metadata": {},
     "output_type": "execute_result"
    }
   ],
   "source": [
    "pagamentos_covid19['valor_pago_em_real'].max()"
   ]
  },
  {
   "cell_type": "code",
   "execution_count": 31,
   "metadata": {},
   "outputs": [
    {
     "data": {
      "text/plain": [
       "Data Emissão_x                                                                09/04/2020\n",
       "Código Empenho                                                   257001000012020NE810544\n",
       "Id Empenho                                                                     174800424\n",
       "Órgão_x                                    Ministério da Saúde - Unidades com vínculo di\n",
       "Unidade Gestora_x                             DIRETORIA EXECUTIVA DO FUNDO NAC. DE SAUDE\n",
       "Código Favorecido_x                                                               257001\n",
       "Favorecido_x                                  DIRETORIA EXECUTIVA DO FUNDO NAC. DE SAUDE\n",
       "Valor do Empenho Convertido pra R$                                        440,894,813.73\n",
       "valor_pago_em_real                                                        440,894,813.73\n",
       "Valor Restos a Pagar Inscritos (R$)                                                 0.00\n",
       "Observação_x                           CORONAVIRUS (COVID-19)MUNICIPAL_PARCELA_UNICA_...\n",
       "Observação_y                           PAGAMENTO DE 65702-CORONAVIRUS (COVID-19) PARC...\n",
       "Modalidade de Licitação                                                    Não se Aplica\n",
       "Name: 8695, dtype: object"
      ]
     },
     "execution_count": 31,
     "metadata": {},
     "output_type": "execute_result"
    }
   ],
   "source": [
    "pagamentos_covid19.loc[pagamentos_covid19['valor_pago_em_real'].idxmax()][[\"Data Emissão_x\",\"Código Empenho\", \"Id Empenho\", \"Órgão_x\", \"Unidade Gestora_x\", \"Código Favorecido_x\", \"Favorecido_x\", \"Valor do Empenho Convertido pra R$\", \"valor_pago_em_real\", \"Valor Restos a Pagar Inscritos (R$)\", \"Observação_x\", \"Observação_y\",  \"Modalidade de Licitação\"]]"
   ]
  },
  {
   "cell_type": "code",
   "execution_count": null,
   "metadata": {},
   "outputs": [],
   "source": []
  },
  {
   "cell_type": "code",
   "execution_count": 32,
   "metadata": {},
   "outputs": [],
   "source": [
    "# Menor valor pago em real "
   ]
  },
  {
   "cell_type": "code",
   "execution_count": 33,
   "metadata": {},
   "outputs": [
    {
     "data": {
      "text/plain": [
       "-2169600.0"
      ]
     },
     "execution_count": 33,
     "metadata": {},
     "output_type": "execute_result"
    }
   ],
   "source": [
    "pagamentos_covid19['valor_pago_em_real'].min()"
   ]
  },
  {
   "cell_type": "code",
   "execution_count": 34,
   "metadata": {},
   "outputs": [
    {
     "data": {
      "text/plain": [
       "Data Emissão_x                                                                25/03/2020\n",
       "Código Empenho                                                   250005000012020NE000076\n",
       "Id Empenho                                                                     168900527\n",
       "Órgão_x                                    Ministério da Saúde - Unidades com vínculo di\n",
       "Unidade Gestora_x                              DEPARTAMENTO DE LOGISTICA EM SAUDE - DLOG\n",
       "Código Favorecido_x                                                       01057428000214\n",
       "Favorecido_x                                      DESCARPACK DESCARTAVEIS DO BRASIL LTDA\n",
       "Valor do Empenho Convertido pra R$                                          2,960,000.00\n",
       "valor_pago_em_real                                                         -2,169,600.00\n",
       "Valor Restos a Pagar Inscritos (R$)                                                 0.00\n",
       "Observação_x                           ATENDER DESPESAS COM TOUCA HOSPITALAR, LUVA P,...\n",
       "Observação_y                                                             ACERTO CONTABIL\n",
       "Modalidade de Licitação                                                    Não se Aplica\n",
       "Name: 65, dtype: object"
      ]
     },
     "execution_count": 34,
     "metadata": {},
     "output_type": "execute_result"
    }
   ],
   "source": [
    "pagamentos_covid19.loc[pagamentos_covid19['valor_pago_em_real'].idxmin()][[\"Data Emissão_x\",\"Código Empenho\", \"Id Empenho\", \"Órgão_x\", \"Unidade Gestora_x\", \"Código Favorecido_x\", \"Favorecido_x\", \"Valor do Empenho Convertido pra R$\", \"valor_pago_em_real\", \"Valor Restos a Pagar Inscritos (R$)\", \"Observação_x\", \"Observação_y\",  \"Modalidade de Licitação\"]]"
   ]
  },
  {
   "cell_type": "code",
   "execution_count": null,
   "metadata": {},
   "outputs": [],
   "source": []
  },
  {
   "cell_type": "code",
   "execution_count": 35,
   "metadata": {},
   "outputs": [],
   "source": [
    "# Agrupa a soma de valores pagos em Código Empenho+Id Empenho "
   ]
  },
  {
   "cell_type": "code",
   "execution_count": 36,
   "metadata": {},
   "outputs": [
    {
     "data": {
      "text/html": [
       "<div>\n",
       "<style scoped>\n",
       "    .dataframe tbody tr th:only-of-type {\n",
       "        vertical-align: middle;\n",
       "    }\n",
       "\n",
       "    .dataframe tbody tr th {\n",
       "        vertical-align: top;\n",
       "    }\n",
       "\n",
       "    .dataframe thead th {\n",
       "        text-align: right;\n",
       "    }\n",
       "</style>\n",
       "<table border=\"1\" class=\"dataframe\">\n",
       "  <thead>\n",
       "    <tr style=\"text-align: right;\">\n",
       "      <th></th>\n",
       "      <th>Código Empenho</th>\n",
       "      <th>Id Empenho</th>\n",
       "      <th>valor_pago_em_real</th>\n",
       "    </tr>\n",
       "  </thead>\n",
       "  <tbody>\n",
       "    <tr>\n",
       "      <th>3472</th>\n",
       "      <td>257001000012020NE810544</td>\n",
       "      <td>174800424</td>\n",
       "      <td>440,894,813.73</td>\n",
       "    </tr>\n",
       "    <tr>\n",
       "      <th>3314</th>\n",
       "      <td>257001000012020NE453964</td>\n",
       "      <td>177001678</td>\n",
       "      <td>415,121,875.00</td>\n",
       "    </tr>\n",
       "    <tr>\n",
       "      <th>3457</th>\n",
       "      <td>257001000012020NE810529</td>\n",
       "      <td>178400461</td>\n",
       "      <td>360,266,482.23</td>\n",
       "    </tr>\n",
       "    <tr>\n",
       "      <th>3224</th>\n",
       "      <td>250005000012020NE000096</td>\n",
       "      <td>176600022</td>\n",
       "      <td>306,891,634.50</td>\n",
       "    </tr>\n",
       "    <tr>\n",
       "      <th>3499</th>\n",
       "      <td>257001000012020NE810606</td>\n",
       "      <td>174400477</td>\n",
       "      <td>255,666,189.57</td>\n",
       "    </tr>\n",
       "    <tr>\n",
       "      <th>...</th>\n",
       "      <td>...</td>\n",
       "      <td>...</td>\n",
       "      <td>...</td>\n",
       "    </tr>\n",
       "    <tr>\n",
       "      <th>1912</th>\n",
       "      <td>160172000012020NE802861</td>\n",
       "      <td>178000624</td>\n",
       "      <td>0.00</td>\n",
       "    </tr>\n",
       "    <tr>\n",
       "      <th>2839</th>\n",
       "      <td>200116000012020NE800483</td>\n",
       "      <td>181802630</td>\n",
       "      <td>0.00</td>\n",
       "    </tr>\n",
       "    <tr>\n",
       "      <th>2566</th>\n",
       "      <td>160513000012020NE800134</td>\n",
       "      <td>177001165</td>\n",
       "      <td>0.00</td>\n",
       "    </tr>\n",
       "    <tr>\n",
       "      <th>515</th>\n",
       "      <td>153031152502020NE800839</td>\n",
       "      <td>182901746</td>\n",
       "      <td>0.00</td>\n",
       "    </tr>\n",
       "    <tr>\n",
       "      <th>2993</th>\n",
       "      <td>240017000012020NE003889</td>\n",
       "      <td>177700824</td>\n",
       "      <td>-556.20</td>\n",
       "    </tr>\n",
       "  </tbody>\n",
       "</table>\n",
       "<p>5317 rows × 3 columns</p>\n",
       "</div>"
      ],
      "text/plain": [
       "               Código Empenho Id Empenho  valor_pago_em_real\n",
       "3472  257001000012020NE810544  174800424      440,894,813.73\n",
       "3314  257001000012020NE453964  177001678      415,121,875.00\n",
       "3457  257001000012020NE810529  178400461      360,266,482.23\n",
       "3224  250005000012020NE000096  176600022      306,891,634.50\n",
       "3499  257001000012020NE810606  174400477      255,666,189.57\n",
       "...                       ...        ...                 ...\n",
       "1912  160172000012020NE802861  178000624                0.00\n",
       "2839  200116000012020NE800483  181802630                0.00\n",
       "2566  160513000012020NE800134  177001165                0.00\n",
       "515   153031152502020NE800839  182901746                0.00\n",
       "2993  240017000012020NE003889  177700824             -556.20\n",
       "\n",
       "[5317 rows x 3 columns]"
      ]
     },
     "execution_count": 36,
     "metadata": {},
     "output_type": "execute_result"
    }
   ],
   "source": [
    "pagamentos_covid19.groupby([\"Código Empenho\", \"Id Empenho\"]).valor_pago_em_real.sum().reset_index().sort_values(\"valor_pago_em_real\", ascending=False)"
   ]
  },
  {
   "cell_type": "code",
   "execution_count": 37,
   "metadata": {},
   "outputs": [],
   "source": [
    "procura = pagamentos_covid19[(pagamentos_covid19['Código Empenho'] == '257001000012020NE810544') & (pagamentos_covid19['Id Empenho'] == '174800424')]"
   ]
  },
  {
   "cell_type": "code",
   "execution_count": 38,
   "metadata": {},
   "outputs": [
    {
     "data": {
      "text/html": [
       "<div>\n",
       "<style scoped>\n",
       "    .dataframe tbody tr th:only-of-type {\n",
       "        vertical-align: middle;\n",
       "    }\n",
       "\n",
       "    .dataframe tbody tr th {\n",
       "        vertical-align: top;\n",
       "    }\n",
       "\n",
       "    .dataframe thead th {\n",
       "        text-align: right;\n",
       "    }\n",
       "</style>\n",
       "<table border=\"1\" class=\"dataframe\">\n",
       "  <thead>\n",
       "    <tr style=\"text-align: right;\">\n",
       "      <th></th>\n",
       "      <th>Data Emissão_x</th>\n",
       "      <th>Código Empenho</th>\n",
       "      <th>Id Empenho</th>\n",
       "      <th>Órgão_x</th>\n",
       "      <th>Unidade Gestora_x</th>\n",
       "      <th>Código Favorecido_x</th>\n",
       "      <th>Favorecido_x</th>\n",
       "      <th>Valor do Empenho Convertido pra R$</th>\n",
       "      <th>valor_pago_em_real</th>\n",
       "      <th>Valor Restos a Pagar Inscritos (R$)</th>\n",
       "      <th>Observação_x</th>\n",
       "      <th>Observação_y</th>\n",
       "      <th>Modalidade de Licitação</th>\n",
       "    </tr>\n",
       "  </thead>\n",
       "  <tbody>\n",
       "    <tr>\n",
       "      <th>8695</th>\n",
       "      <td>09/04/2020</td>\n",
       "      <td>257001000012020NE810544</td>\n",
       "      <td>174800424</td>\n",
       "      <td>Ministério da Saúde - Unidades com vínculo di</td>\n",
       "      <td>DIRETORIA EXECUTIVA DO FUNDO NAC. DE SAUDE</td>\n",
       "      <td>257001</td>\n",
       "      <td>DIRETORIA EXECUTIVA DO FUNDO NAC. DE SAUDE</td>\n",
       "      <td>440,894,813.73</td>\n",
       "      <td>440,894,813.73</td>\n",
       "      <td>0.00</td>\n",
       "      <td>CORONAVIRUS (COVID-19)MUNICIPAL_PARCELA_UNICA_...</td>\n",
       "      <td>PAGAMENTO DE 65702-CORONAVIRUS (COVID-19) PARC...</td>\n",
       "      <td>Não se Aplica</td>\n",
       "    </tr>\n",
       "  </tbody>\n",
       "</table>\n",
       "</div>"
      ],
      "text/plain": [
       "     Data Emissão_x           Código Empenho Id Empenho  \\\n",
       "8695     09/04/2020  257001000012020NE810544  174800424   \n",
       "\n",
       "                                            Órgão_x  \\\n",
       "8695  Ministério da Saúde - Unidades com vínculo di   \n",
       "\n",
       "                               Unidade Gestora_x Código Favorecido_x  \\\n",
       "8695  DIRETORIA EXECUTIVA DO FUNDO NAC. DE SAUDE              257001   \n",
       "\n",
       "                                    Favorecido_x  \\\n",
       "8695  DIRETORIA EXECUTIVA DO FUNDO NAC. DE SAUDE   \n",
       "\n",
       "      Valor do Empenho Convertido pra R$  valor_pago_em_real  \\\n",
       "8695                      440,894,813.73      440,894,813.73   \n",
       "\n",
       "      Valor Restos a Pagar Inscritos (R$)  \\\n",
       "8695                                 0.00   \n",
       "\n",
       "                                           Observação_x  \\\n",
       "8695  CORONAVIRUS (COVID-19)MUNICIPAL_PARCELA_UNICA_...   \n",
       "\n",
       "                                           Observação_y  \\\n",
       "8695  PAGAMENTO DE 65702-CORONAVIRUS (COVID-19) PARC...   \n",
       "\n",
       "     Modalidade de Licitação  \n",
       "8695           Não se Aplica  "
      ]
     },
     "execution_count": 38,
     "metadata": {},
     "output_type": "execute_result"
    }
   ],
   "source": [
    "procura[[\"Data Emissão_x\",\"Código Empenho\", \"Id Empenho\", \"Órgão_x\", \"Unidade Gestora_x\", \"Código Favorecido_x\", \"Favorecido_x\", \"Valor do Empenho Convertido pra R$\", \"valor_pago_em_real\", \"Valor Restos a Pagar Inscritos (R$)\", \"Observação_x\", \"Observação_y\",  \"Modalidade de Licitação\"]]"
   ]
  },
  {
   "cell_type": "code",
   "execution_count": null,
   "metadata": {},
   "outputs": [],
   "source": []
  },
  {
   "cell_type": "code",
   "execution_count": null,
   "metadata": {},
   "outputs": [],
   "source": []
  },
  {
   "cell_type": "code",
   "execution_count": 39,
   "metadata": {},
   "outputs": [],
   "source": [
    "# Agrupa a soma de valores pagos em Unidade Gestora - 20 primeiros"
   ]
  },
  {
   "cell_type": "code",
   "execution_count": 40,
   "metadata": {},
   "outputs": [
    {
     "data": {
      "text/html": [
       "<div>\n",
       "<style scoped>\n",
       "    .dataframe tbody tr th:only-of-type {\n",
       "        vertical-align: middle;\n",
       "    }\n",
       "\n",
       "    .dataframe tbody tr th {\n",
       "        vertical-align: top;\n",
       "    }\n",
       "\n",
       "    .dataframe thead th {\n",
       "        text-align: right;\n",
       "    }\n",
       "</style>\n",
       "<table border=\"1\" class=\"dataframe\">\n",
       "  <thead>\n",
       "    <tr style=\"text-align: right;\">\n",
       "      <th></th>\n",
       "      <th>Unidade Gestora_x</th>\n",
       "      <th>valor_pago_em_real</th>\n",
       "    </tr>\n",
       "  </thead>\n",
       "  <tbody>\n",
       "    <tr>\n",
       "      <th>331</th>\n",
       "      <td>DIRETORIA EXECUTIVA DO FUNDO NAC. DE SAUDE</td>\n",
       "      <td>9,880,431,123.89</td>\n",
       "    </tr>\n",
       "    <tr>\n",
       "      <th>400</th>\n",
       "      <td>FUNDO NACIONAL DE ASSISTENCIA SOCIAL</td>\n",
       "      <td>983,403,918.81</td>\n",
       "    </tr>\n",
       "    <tr>\n",
       "      <th>324</th>\n",
       "      <td>DEPARTAMENTO DE LOGISTICA EM SAUDE - DLOG</td>\n",
       "      <td>635,816,614.92</td>\n",
       "    </tr>\n",
       "    <tr>\n",
       "      <th>398</th>\n",
       "      <td>FUNDAÇÃO OSWALDO CRUZ</td>\n",
       "      <td>137,697,885.53</td>\n",
       "    </tr>\n",
       "    <tr>\n",
       "      <th>489</th>\n",
       "      <td>SECR. DE GESTAO DO TRAB. E DA EDUC. NA SAUDE</td>\n",
       "      <td>72,620,763.00</td>\n",
       "    </tr>\n",
       "    <tr>\n",
       "      <th>284</th>\n",
       "      <td>COORDENACAO-GERAL DE GESTAO DE PESSOAS</td>\n",
       "      <td>60,425,474.60</td>\n",
       "    </tr>\n",
       "    <tr>\n",
       "      <th>288</th>\n",
       "      <td>COORDENAÇÃO GERAL DE INFRAESTRUTURA DOS CAMPI</td>\n",
       "      <td>51,148,956.55</td>\n",
       "    </tr>\n",
       "    <tr>\n",
       "      <th>468</th>\n",
       "      <td>INSTITUTO DE TECNOLOGIA EM IMUNOBIOLOGICOS</td>\n",
       "      <td>39,448,118.70</td>\n",
       "    </tr>\n",
       "    <tr>\n",
       "      <th>490</th>\n",
       "      <td>SECRETARIA NACIONAL DE AVIAÇÃO CIVIL</td>\n",
       "      <td>29,984,895.63</td>\n",
       "    </tr>\n",
       "    <tr>\n",
       "      <th>417</th>\n",
       "      <td>HOSPITAL DE CLINICAS DE PORTO ALEGRE</td>\n",
       "      <td>23,442,467.81</td>\n",
       "    </tr>\n",
       "    <tr>\n",
       "      <th>180</th>\n",
       "      <td>CENTRO DE AQUISIÇÕES ESPECÍFICAS</td>\n",
       "      <td>19,724,412.57</td>\n",
       "    </tr>\n",
       "    <tr>\n",
       "      <th>488</th>\n",
       "      <td>PRO-REITORIA DE PESQUISA/UFMG</td>\n",
       "      <td>19,416,329.30</td>\n",
       "    </tr>\n",
       "    <tr>\n",
       "      <th>377</th>\n",
       "      <td>ESCRITORIO FINANCEIRO EM NOVA IORQUE</td>\n",
       "      <td>13,970,871.77</td>\n",
       "    </tr>\n",
       "    <tr>\n",
       "      <th>465</th>\n",
       "      <td>INST.NACIONAL DE INFECTOLOGIA EVANDRO CHAGAS</td>\n",
       "      <td>12,494,079.62</td>\n",
       "    </tr>\n",
       "    <tr>\n",
       "      <th>145</th>\n",
       "      <td>AGENCIA BRASILEIRA DE COOPERACAO - ABC</td>\n",
       "      <td>12,000,000.00</td>\n",
       "    </tr>\n",
       "    <tr>\n",
       "      <th>264</th>\n",
       "      <td>CONSULADO-GERAL DO BRASIL EM LISBOA</td>\n",
       "      <td>9,890,762.68</td>\n",
       "    </tr>\n",
       "    <tr>\n",
       "      <th>447</th>\n",
       "      <td>INST.FED.DE EDUC.,CIENC.E TEC.DE GOIAS</td>\n",
       "      <td>7,700,000.00</td>\n",
       "    </tr>\n",
       "    <tr>\n",
       "      <th>391</th>\n",
       "      <td>FUNDACAO UNIVERSIDADE DE BRASILIA - FUB</td>\n",
       "      <td>6,571,954.00</td>\n",
       "    </tr>\n",
       "    <tr>\n",
       "      <th>467</th>\n",
       "      <td>INSTITUTO DE TECNOLOGIA EM FARMACOS</td>\n",
       "      <td>5,467,135.07</td>\n",
       "    </tr>\n",
       "    <tr>\n",
       "      <th>487</th>\n",
       "      <td>PRO-REITORIA DE PESQ. E POS-GRADUACAO DA UFPE</td>\n",
       "      <td>5,340,081.77</td>\n",
       "    </tr>\n",
       "  </tbody>\n",
       "</table>\n",
       "</div>"
      ],
      "text/plain": [
       "                                 Unidade Gestora_x  valor_pago_em_real\n",
       "331     DIRETORIA EXECUTIVA DO FUNDO NAC. DE SAUDE    9,880,431,123.89\n",
       "400           FUNDO NACIONAL DE ASSISTENCIA SOCIAL      983,403,918.81\n",
       "324      DEPARTAMENTO DE LOGISTICA EM SAUDE - DLOG      635,816,614.92\n",
       "398                          FUNDAÇÃO OSWALDO CRUZ      137,697,885.53\n",
       "489   SECR. DE GESTAO DO TRAB. E DA EDUC. NA SAUDE       72,620,763.00\n",
       "284         COORDENACAO-GERAL DE GESTAO DE PESSOAS       60,425,474.60\n",
       "288  COORDENAÇÃO GERAL DE INFRAESTRUTURA DOS CAMPI       51,148,956.55\n",
       "468     INSTITUTO DE TECNOLOGIA EM IMUNOBIOLOGICOS       39,448,118.70\n",
       "490           SECRETARIA NACIONAL DE AVIAÇÃO CIVIL       29,984,895.63\n",
       "417           HOSPITAL DE CLINICAS DE PORTO ALEGRE       23,442,467.81\n",
       "180               CENTRO DE AQUISIÇÕES ESPECÍFICAS       19,724,412.57\n",
       "488                  PRO-REITORIA DE PESQUISA/UFMG       19,416,329.30\n",
       "377           ESCRITORIO FINANCEIRO EM NOVA IORQUE       13,970,871.77\n",
       "465   INST.NACIONAL DE INFECTOLOGIA EVANDRO CHAGAS       12,494,079.62\n",
       "145         AGENCIA BRASILEIRA DE COOPERACAO - ABC       12,000,000.00\n",
       "264            CONSULADO-GERAL DO BRASIL EM LISBOA        9,890,762.68\n",
       "447         INST.FED.DE EDUC.,CIENC.E TEC.DE GOIAS        7,700,000.00\n",
       "391        FUNDACAO UNIVERSIDADE DE BRASILIA - FUB        6,571,954.00\n",
       "467            INSTITUTO DE TECNOLOGIA EM FARMACOS        5,467,135.07\n",
       "487  PRO-REITORIA DE PESQ. E POS-GRADUACAO DA UFPE        5,340,081.77"
      ]
     },
     "execution_count": 40,
     "metadata": {},
     "output_type": "execute_result"
    }
   ],
   "source": [
    "pagamentos_covid19.groupby([\"Unidade Gestora_x\"]).valor_pago_em_real.sum().reset_index().sort_values(\"valor_pago_em_real\", ascending=False).head(20)"
   ]
  },
  {
   "cell_type": "code",
   "execution_count": 41,
   "metadata": {},
   "outputs": [],
   "source": [
    "# Salva em CSV para gráfico"
   ]
  },
  {
   "cell_type": "code",
   "execution_count": 42,
   "metadata": {},
   "outputs": [],
   "source": [
    "salva = pagamentos_covid19.groupby([\"Unidade Gestora_x\"]).valor_pago_em_real.sum().reset_index().sort_values(\"valor_pago_em_real\", ascending=False)"
   ]
  },
  {
   "cell_type": "code",
   "execution_count": 43,
   "metadata": {},
   "outputs": [
    {
     "name": "stdout",
     "output_type": "stream",
     "text": [
      "<class 'pandas.core.frame.DataFrame'>\n",
      "Int64Index: 559 entries, 331 to 494\n",
      "Data columns (total 2 columns):\n",
      " #   Column              Non-Null Count  Dtype  \n",
      "---  ------              --------------  -----  \n",
      " 0   Unidade Gestora_x   559 non-null    object \n",
      " 1   valor_pago_em_real  559 non-null    float64\n",
      "dtypes: float64(1), object(1)\n",
      "memory usage: 13.1+ KB\n"
     ]
    }
   ],
   "source": [
    "salva.info()"
   ]
  },
  {
   "cell_type": "code",
   "execution_count": 44,
   "metadata": {},
   "outputs": [],
   "source": [
    "salva.to_csv('resultados/graficos/soma_ordenada_unidade_gestora_pagamentos_feitos_de_empenhos_covid19_ate_03_junho_2020.csv', index=False)"
   ]
  },
  {
   "cell_type": "code",
   "execution_count": null,
   "metadata": {},
   "outputs": [],
   "source": []
  },
  {
   "cell_type": "code",
   "execution_count": 45,
   "metadata": {},
   "outputs": [],
   "source": [
    "# Detalha DEPARTAMENTO DE LOGISTICA EM SAUDE - DLOG"
   ]
  },
  {
   "cell_type": "code",
   "execution_count": 46,
   "metadata": {},
   "outputs": [
    {
     "data": {
      "text/html": [
       "<div>\n",
       "<style scoped>\n",
       "    .dataframe tbody tr th:only-of-type {\n",
       "        vertical-align: middle;\n",
       "    }\n",
       "\n",
       "    .dataframe tbody tr th {\n",
       "        vertical-align: top;\n",
       "    }\n",
       "\n",
       "    .dataframe thead th {\n",
       "        text-align: right;\n",
       "    }\n",
       "</style>\n",
       "<table border=\"1\" class=\"dataframe\">\n",
       "  <thead>\n",
       "    <tr style=\"text-align: right;\">\n",
       "      <th></th>\n",
       "      <th>Favorecido_x</th>\n",
       "      <th>valor_pago_em_real</th>\n",
       "    </tr>\n",
       "  </thead>\n",
       "  <tbody>\n",
       "    <tr>\n",
       "      <th>5</th>\n",
       "      <td>GLOBAL BASE DEVELOPMENT HK LIMITED</td>\n",
       "      <td>306,891,634.50</td>\n",
       "    </tr>\n",
       "    <tr>\n",
       "      <th>7</th>\n",
       "      <td>INTERMED EQUIPAMENTO MEDICO HOSPITALAR LTDA</td>\n",
       "      <td>141,900,000.00</td>\n",
       "    </tr>\n",
       "    <tr>\n",
       "      <th>14</th>\n",
       "      <td>MAGNAMED TECNOLOGIA MEDICA S/A</td>\n",
       "      <td>129,020,160.00</td>\n",
       "    </tr>\n",
       "    <tr>\n",
       "      <th>3</th>\n",
       "      <td>DESCARPACK DESCARTAVEIS DO BRASIL LTDA</td>\n",
       "      <td>30,544,000.00</td>\n",
       "    </tr>\n",
       "    <tr>\n",
       "      <th>11</th>\n",
       "      <td>LEISTUNG EQUIPAMENTOS LTDA.</td>\n",
       "      <td>12,037,000.00</td>\n",
       "    </tr>\n",
       "    <tr>\n",
       "      <th>12</th>\n",
       "      <td>LIMA &amp; PERGHER INDUSTRIA E COMERCIO S/A</td>\n",
       "      <td>6,387,015.20</td>\n",
       "    </tr>\n",
       "    <tr>\n",
       "      <th>15</th>\n",
       "      <td>NACIONAL COMERCIAL HOSPITALAR S.A.</td>\n",
       "      <td>2,280,000.00</td>\n",
       "    </tr>\n",
       "    <tr>\n",
       "      <th>4</th>\n",
       "      <td>FUTURA DISTRIBUIDORA DE MEDICAMENTOS E PRODUTO...</td>\n",
       "      <td>2,040,000.00</td>\n",
       "    </tr>\n",
       "    <tr>\n",
       "      <th>0</th>\n",
       "      <td>3M DO BRASIL LTDA</td>\n",
       "      <td>1,795,000.00</td>\n",
       "    </tr>\n",
       "    <tr>\n",
       "      <th>10</th>\n",
       "      <td>KTK INDUSTRIA, IMPORTACAO, EXPORTACAO E COMERC...</td>\n",
       "      <td>900,000.00</td>\n",
       "    </tr>\n",
       "    <tr>\n",
       "      <th>18</th>\n",
       "      <td>PROSANIS INDUSTRIA E COMERCIO DE PRODUTOS MEDI...</td>\n",
       "      <td>700,000.00</td>\n",
       "    </tr>\n",
       "    <tr>\n",
       "      <th>21</th>\n",
       "      <td>S.M GUIMARAES</td>\n",
       "      <td>406,200.00</td>\n",
       "    </tr>\n",
       "    <tr>\n",
       "      <th>20</th>\n",
       "      <td>ROCHA LOPES REPRESENTACAO &amp; COMERCIO DE PRODUT...</td>\n",
       "      <td>296,800.00</td>\n",
       "    </tr>\n",
       "    <tr>\n",
       "      <th>9</th>\n",
       "      <td>JOAOMED COMERCIO DE MATERIAIS CIRURGICOS S/A</td>\n",
       "      <td>248,000.00</td>\n",
       "    </tr>\n",
       "    <tr>\n",
       "      <th>6</th>\n",
       "      <td>INDALABOR INDAIA LABORATORIO FARMACEUTICO LTDA</td>\n",
       "      <td>124,000.00</td>\n",
       "    </tr>\n",
       "    <tr>\n",
       "      <th>1</th>\n",
       "      <td>A C L ASSISTENCIA E COMERCIO DE PRODUTOS PARA ...</td>\n",
       "      <td>64,498.80</td>\n",
       "    </tr>\n",
       "    <tr>\n",
       "      <th>19</th>\n",
       "      <td>REAGEN PRODUTOS PARA LABORATORIOS EIRELI</td>\n",
       "      <td>51,800.00</td>\n",
       "    </tr>\n",
       "    <tr>\n",
       "      <th>8</th>\n",
       "      <td>JKLAB PRODUTOS E SOLUCOES PARA LABORATORIOS LTDA</td>\n",
       "      <td>47,505.72</td>\n",
       "    </tr>\n",
       "    <tr>\n",
       "      <th>13</th>\n",
       "      <td>MACMED SOLUCOES EM SAUDE LTDA.</td>\n",
       "      <td>36,000.00</td>\n",
       "    </tr>\n",
       "    <tr>\n",
       "      <th>23</th>\n",
       "      <td>SINTESE BIOTECNOLOGIA LTDA.</td>\n",
       "      <td>17,791.70</td>\n",
       "    </tr>\n",
       "  </tbody>\n",
       "</table>\n",
       "</div>"
      ],
      "text/plain": [
       "                                         Favorecido_x  valor_pago_em_real\n",
       "5                  GLOBAL BASE DEVELOPMENT HK LIMITED      306,891,634.50\n",
       "7         INTERMED EQUIPAMENTO MEDICO HOSPITALAR LTDA      141,900,000.00\n",
       "14                     MAGNAMED TECNOLOGIA MEDICA S/A      129,020,160.00\n",
       "3              DESCARPACK DESCARTAVEIS DO BRASIL LTDA       30,544,000.00\n",
       "11                        LEISTUNG EQUIPAMENTOS LTDA.       12,037,000.00\n",
       "12            LIMA & PERGHER INDUSTRIA E COMERCIO S/A        6,387,015.20\n",
       "15                 NACIONAL COMERCIAL HOSPITALAR S.A.        2,280,000.00\n",
       "4   FUTURA DISTRIBUIDORA DE MEDICAMENTOS E PRODUTO...        2,040,000.00\n",
       "0                                   3M DO BRASIL LTDA        1,795,000.00\n",
       "10  KTK INDUSTRIA, IMPORTACAO, EXPORTACAO E COMERC...          900,000.00\n",
       "18  PROSANIS INDUSTRIA E COMERCIO DE PRODUTOS MEDI...          700,000.00\n",
       "21                                      S.M GUIMARAES          406,200.00\n",
       "20  ROCHA LOPES REPRESENTACAO & COMERCIO DE PRODUT...          296,800.00\n",
       "9        JOAOMED COMERCIO DE MATERIAIS CIRURGICOS S/A          248,000.00\n",
       "6      INDALABOR INDAIA LABORATORIO FARMACEUTICO LTDA          124,000.00\n",
       "1   A C L ASSISTENCIA E COMERCIO DE PRODUTOS PARA ...           64,498.80\n",
       "19           REAGEN PRODUTOS PARA LABORATORIOS EIRELI           51,800.00\n",
       "8    JKLAB PRODUTOS E SOLUCOES PARA LABORATORIOS LTDA           47,505.72\n",
       "13                     MACMED SOLUCOES EM SAUDE LTDA.           36,000.00\n",
       "23                        SINTESE BIOTECNOLOGIA LTDA.           17,791.70"
      ]
     },
     "execution_count": 46,
     "metadata": {},
     "output_type": "execute_result"
    }
   ],
   "source": [
    "procura = pagamentos_covid19[(pagamentos_covid19['Unidade Gestora_x'] == 'DEPARTAMENTO DE LOGISTICA EM SAUDE - DLOG') ]\n",
    "procura.groupby([\"Favorecido_x\"]).valor_pago_em_real.sum().reset_index().sort_values(\"valor_pago_em_real\", ascending=False).head(20)"
   ]
  },
  {
   "cell_type": "code",
   "execution_count": 47,
   "metadata": {},
   "outputs": [
    {
     "data": {
      "text/plain": [
       "635816614.9200001"
      ]
     },
     "execution_count": 47,
     "metadata": {},
     "output_type": "execute_result"
    }
   ],
   "source": [
    "procura['valor_pago_em_real'].sum()"
   ]
  },
  {
   "cell_type": "code",
   "execution_count": null,
   "metadata": {},
   "outputs": [],
   "source": []
  },
  {
   "cell_type": "code",
   "execution_count": 48,
   "metadata": {},
   "outputs": [],
   "source": [
    "# FUNDO NACIONAL DE ASSISTENCIA SOCIAL"
   ]
  },
  {
   "cell_type": "code",
   "execution_count": 49,
   "metadata": {},
   "outputs": [
    {
     "data": {
      "text/html": [
       "<div>\n",
       "<style scoped>\n",
       "    .dataframe tbody tr th:only-of-type {\n",
       "        vertical-align: middle;\n",
       "    }\n",
       "\n",
       "    .dataframe tbody tr th {\n",
       "        vertical-align: top;\n",
       "    }\n",
       "\n",
       "    .dataframe thead th {\n",
       "        text-align: right;\n",
       "    }\n",
       "</style>\n",
       "<table border=\"1\" class=\"dataframe\">\n",
       "  <thead>\n",
       "    <tr style=\"text-align: right;\">\n",
       "      <th></th>\n",
       "      <th>Favorecido_x</th>\n",
       "      <th>valor_pago_em_real</th>\n",
       "    </tr>\n",
       "  </thead>\n",
       "  <tbody>\n",
       "    <tr>\n",
       "      <th>0</th>\n",
       "      <td>FUNDO NACIONAL DE ASSISTENCIA SOCIAL</td>\n",
       "      <td>983,403,918.81</td>\n",
       "    </tr>\n",
       "  </tbody>\n",
       "</table>\n",
       "</div>"
      ],
      "text/plain": [
       "                           Favorecido_x  valor_pago_em_real\n",
       "0  FUNDO NACIONAL DE ASSISTENCIA SOCIAL      983,403,918.81"
      ]
     },
     "execution_count": 49,
     "metadata": {},
     "output_type": "execute_result"
    }
   ],
   "source": [
    "procura = pagamentos_covid19[(pagamentos_covid19['Unidade Gestora_x'] == 'FUNDO NACIONAL DE ASSISTENCIA SOCIAL') ]\n",
    "procura.groupby([\"Favorecido_x\"]).valor_pago_em_real.sum().reset_index().sort_values(\"valor_pago_em_real\", ascending=False).head(20)"
   ]
  },
  {
   "cell_type": "code",
   "execution_count": null,
   "metadata": {},
   "outputs": [],
   "source": []
  },
  {
   "cell_type": "code",
   "execution_count": null,
   "metadata": {},
   "outputs": [],
   "source": []
  },
  {
   "cell_type": "code",
   "execution_count": 50,
   "metadata": {},
   "outputs": [],
   "source": [
    "# Agrupa a soma de valores pagos em Gestão - 20 primeiros"
   ]
  },
  {
   "cell_type": "code",
   "execution_count": 51,
   "metadata": {},
   "outputs": [
    {
     "data": {
      "text/html": [
       "<div>\n",
       "<style scoped>\n",
       "    .dataframe tbody tr th:only-of-type {\n",
       "        vertical-align: middle;\n",
       "    }\n",
       "\n",
       "    .dataframe tbody tr th {\n",
       "        vertical-align: top;\n",
       "    }\n",
       "\n",
       "    .dataframe thead th {\n",
       "        text-align: right;\n",
       "    }\n",
       "</style>\n",
       "<table border=\"1\" class=\"dataframe\">\n",
       "  <thead>\n",
       "    <tr style=\"text-align: right;\">\n",
       "      <th></th>\n",
       "      <th>Gestão_x</th>\n",
       "      <th>valor_pago_em_real</th>\n",
       "    </tr>\n",
       "  </thead>\n",
       "  <tbody>\n",
       "    <tr>\n",
       "      <th>29</th>\n",
       "      <td>TESOURO NACIONAL</td>\n",
       "      <td>11,790,972,320.58</td>\n",
       "    </tr>\n",
       "    <tr>\n",
       "      <th>4</th>\n",
       "      <td>FUNDACAO OSWALDO CRUZ</td>\n",
       "      <td>246,355,468.98</td>\n",
       "    </tr>\n",
       "    <tr>\n",
       "      <th>15</th>\n",
       "      <td>HOSPITAL DE CLINICAS DE PORTO ALEGRE</td>\n",
       "      <td>23,442,467.81</td>\n",
       "    </tr>\n",
       "    <tr>\n",
       "      <th>2</th>\n",
       "      <td>EMPRESA BRASILEIRA DE SERVICOS HOSPITALARES</td>\n",
       "      <td>20,861,031.56</td>\n",
       "    </tr>\n",
       "    <tr>\n",
       "      <th>37</th>\n",
       "      <td>UNIVERSIDADE FEDERAL DE MINAS GERAIS</td>\n",
       "      <td>19,423,983.02</td>\n",
       "    </tr>\n",
       "    <tr>\n",
       "      <th>0</th>\n",
       "      <td>COMPANHIA NACIONAL DE ABASTECIMENTO</td>\n",
       "      <td>14,342,101.69</td>\n",
       "    </tr>\n",
       "    <tr>\n",
       "      <th>17</th>\n",
       "      <td>INST.FED.DE EDUC.,CIENC.E TEC.DE GOIAS</td>\n",
       "      <td>7,700,000.00</td>\n",
       "    </tr>\n",
       "    <tr>\n",
       "      <th>5</th>\n",
       "      <td>FUNDACAO UNIVERSIDADE DE BRASILIA</td>\n",
       "      <td>6,571,954.00</td>\n",
       "    </tr>\n",
       "    <tr>\n",
       "      <th>38</th>\n",
       "      <td>UNIVERSIDADE FEDERAL DE PERNAMBUCO</td>\n",
       "      <td>5,560,499.73</td>\n",
       "    </tr>\n",
       "    <tr>\n",
       "      <th>9</th>\n",
       "      <td>FUNDACAO UNIVERSIDADE FEDERAL DE PELOTAS</td>\n",
       "      <td>5,265,851.80</td>\n",
       "    </tr>\n",
       "    <tr>\n",
       "      <th>3</th>\n",
       "      <td>FUNDACAO NACIONAL DO INDIO</td>\n",
       "      <td>3,820,147.74</td>\n",
       "    </tr>\n",
       "    <tr>\n",
       "      <th>31</th>\n",
       "      <td>UNIVERSIDADE FEDERAL DE ALAGOAS</td>\n",
       "      <td>3,665,613.00</td>\n",
       "    </tr>\n",
       "    <tr>\n",
       "      <th>41</th>\n",
       "      <td>UNIVERSIDADE FEDERAL DE SAO PAULO</td>\n",
       "      <td>2,923,798.21</td>\n",
       "    </tr>\n",
       "    <tr>\n",
       "      <th>46</th>\n",
       "      <td>UNIVERSIDADE FEDERAL DO RIO DE JANEIRO</td>\n",
       "      <td>2,454,473.90</td>\n",
       "    </tr>\n",
       "    <tr>\n",
       "      <th>47</th>\n",
       "      <td>UNIVERSIDADE FEDERAL DO RIO GRANDE DO NORTE</td>\n",
       "      <td>1,461,178.03</td>\n",
       "    </tr>\n",
       "    <tr>\n",
       "      <th>43</th>\n",
       "      <td>UNIVERSIDADE FEDERAL DO CEARA</td>\n",
       "      <td>1,413,300.00</td>\n",
       "    </tr>\n",
       "    <tr>\n",
       "      <th>14</th>\n",
       "      <td>FUNDACAO UNIVERSIDADE FEDERAL DO TOCANTINS</td>\n",
       "      <td>1,345,000.00</td>\n",
       "    </tr>\n",
       "    <tr>\n",
       "      <th>39</th>\n",
       "      <td>UNIVERSIDADE FEDERAL DE SANTA CATARINA</td>\n",
       "      <td>1,268,800.00</td>\n",
       "    </tr>\n",
       "    <tr>\n",
       "      <th>11</th>\n",
       "      <td>FUNDACAO UNIVERSIDADE FEDERAL DE UBERLANDIA</td>\n",
       "      <td>734,587.86</td>\n",
       "    </tr>\n",
       "    <tr>\n",
       "      <th>10</th>\n",
       "      <td>FUNDACAO UNIVERSIDADE FEDERAL DE SAO CARLOS</td>\n",
       "      <td>588,603.65</td>\n",
       "    </tr>\n",
       "  </tbody>\n",
       "</table>\n",
       "</div>"
      ],
      "text/plain": [
       "                                       Gestão_x  valor_pago_em_real\n",
       "29                             TESOURO NACIONAL   11,790,972,320.58\n",
       "4                         FUNDACAO OSWALDO CRUZ      246,355,468.98\n",
       "15         HOSPITAL DE CLINICAS DE PORTO ALEGRE       23,442,467.81\n",
       "2   EMPRESA BRASILEIRA DE SERVICOS HOSPITALARES       20,861,031.56\n",
       "37         UNIVERSIDADE FEDERAL DE MINAS GERAIS       19,423,983.02\n",
       "0           COMPANHIA NACIONAL DE ABASTECIMENTO       14,342,101.69\n",
       "17       INST.FED.DE EDUC.,CIENC.E TEC.DE GOIAS        7,700,000.00\n",
       "5             FUNDACAO UNIVERSIDADE DE BRASILIA        6,571,954.00\n",
       "38           UNIVERSIDADE FEDERAL DE PERNAMBUCO        5,560,499.73\n",
       "9      FUNDACAO UNIVERSIDADE FEDERAL DE PELOTAS        5,265,851.80\n",
       "3                    FUNDACAO NACIONAL DO INDIO        3,820,147.74\n",
       "31              UNIVERSIDADE FEDERAL DE ALAGOAS        3,665,613.00\n",
       "41            UNIVERSIDADE FEDERAL DE SAO PAULO        2,923,798.21\n",
       "46       UNIVERSIDADE FEDERAL DO RIO DE JANEIRO        2,454,473.90\n",
       "47  UNIVERSIDADE FEDERAL DO RIO GRANDE DO NORTE        1,461,178.03\n",
       "43                UNIVERSIDADE FEDERAL DO CEARA        1,413,300.00\n",
       "14   FUNDACAO UNIVERSIDADE FEDERAL DO TOCANTINS        1,345,000.00\n",
       "39       UNIVERSIDADE FEDERAL DE SANTA CATARINA        1,268,800.00\n",
       "11  FUNDACAO UNIVERSIDADE FEDERAL DE UBERLANDIA          734,587.86\n",
       "10  FUNDACAO UNIVERSIDADE FEDERAL DE SAO CARLOS          588,603.65"
      ]
     },
     "execution_count": 51,
     "metadata": {},
     "output_type": "execute_result"
    }
   ],
   "source": [
    "pagamentos_covid19.groupby([\"Gestão_x\"]).valor_pago_em_real.sum().reset_index().sort_values(\"valor_pago_em_real\", ascending=False).head(20)"
   ]
  },
  {
   "cell_type": "code",
   "execution_count": null,
   "metadata": {},
   "outputs": [],
   "source": []
  },
  {
   "cell_type": "code",
   "execution_count": 52,
   "metadata": {},
   "outputs": [],
   "source": [
    "# Agrupa a soma de valores pagos em Favorecido - 20 primeiros"
   ]
  },
  {
   "cell_type": "code",
   "execution_count": 53,
   "metadata": {},
   "outputs": [
    {
     "data": {
      "text/html": [
       "<div>\n",
       "<style scoped>\n",
       "    .dataframe tbody tr th:only-of-type {\n",
       "        vertical-align: middle;\n",
       "    }\n",
       "\n",
       "    .dataframe tbody tr th {\n",
       "        vertical-align: top;\n",
       "    }\n",
       "\n",
       "    .dataframe thead th {\n",
       "        text-align: right;\n",
       "    }\n",
       "</style>\n",
       "<table border=\"1\" class=\"dataframe\">\n",
       "  <thead>\n",
       "    <tr style=\"text-align: right;\">\n",
       "      <th></th>\n",
       "      <th>Favorecido_x</th>\n",
       "      <th>Código Favorecido_x</th>\n",
       "      <th>valor_pago_em_real</th>\n",
       "    </tr>\n",
       "  </thead>\n",
       "  <tbody>\n",
       "    <tr>\n",
       "      <th>549</th>\n",
       "      <td>DIRETORIA EXECUTIVA DO FUNDO NAC. DE SAUDE</td>\n",
       "      <td>257001</td>\n",
       "      <td>7,965,732,190.89</td>\n",
       "    </tr>\n",
       "    <tr>\n",
       "      <th>1604</th>\n",
       "      <td>FUNDO NACIONAL DE ASSISTENCIA SOCIAL</td>\n",
       "      <td>330013</td>\n",
       "      <td>983,403,918.81</td>\n",
       "    </tr>\n",
       "    <tr>\n",
       "      <th>2262</th>\n",
       "      <td>ORGANIZACAO PAN-AMERICANA DA SAUDE/ORGANIZACAO...</td>\n",
       "      <td>04096431000154</td>\n",
       "      <td>432,376,875.00</td>\n",
       "    </tr>\n",
       "    <tr>\n",
       "      <th>1654</th>\n",
       "      <td>GLOBAL BASE DEVELOPMENT HK LIMITED</td>\n",
       "      <td>EX2590112</td>\n",
       "      <td>306,891,634.50</td>\n",
       "    </tr>\n",
       "    <tr>\n",
       "      <th>838</th>\n",
       "      <td>FUNDO ESTADUAL DE SAUDE - FUNDES</td>\n",
       "      <td>13851748000140</td>\n",
       "      <td>152,861,216.00</td>\n",
       "    </tr>\n",
       "    <tr>\n",
       "      <th>1783</th>\n",
       "      <td>INTERMED EQUIPAMENTO MEDICO HOSPITALAR LTDA</td>\n",
       "      <td>49520521000169</td>\n",
       "      <td>141,900,000.00</td>\n",
       "    </tr>\n",
       "    <tr>\n",
       "      <th>2024</th>\n",
       "      <td>MAGNAMED TECNOLOGIA MEDICA S/A</td>\n",
       "      <td>01298443000254</td>\n",
       "      <td>129,020,160.00</td>\n",
       "    </tr>\n",
       "    <tr>\n",
       "      <th>834</th>\n",
       "      <td>FUNDO ESTADUAL DE SAUDE</td>\n",
       "      <td>74031865000151</td>\n",
       "      <td>105,970,421.00</td>\n",
       "    </tr>\n",
       "    <tr>\n",
       "      <th>190</th>\n",
       "      <td>BANCO DO BRASIL SA</td>\n",
       "      <td>00000000000191</td>\n",
       "      <td>72,718,332.48</td>\n",
       "    </tr>\n",
       "    <tr>\n",
       "      <th>456</th>\n",
       "      <td>COORDENACAO-GERAL DE GESTAO DE PESSOAS</td>\n",
       "      <td>250006</td>\n",
       "      <td>60,425,474.60</td>\n",
       "    </tr>\n",
       "    <tr>\n",
       "      <th>839</th>\n",
       "      <td>FUNDO ESTADUAL DE SAUDE DE PERNAMBUCO</td>\n",
       "      <td>11430018000140</td>\n",
       "      <td>54,921,718.00</td>\n",
       "    </tr>\n",
       "    <tr>\n",
       "      <th>840</th>\n",
       "      <td>FUNDO ESTADUAL DE SAUDE DO ESTADO DA BAHIA</td>\n",
       "      <td>05816630000152</td>\n",
       "      <td>54,869,588.00</td>\n",
       "    </tr>\n",
       "    <tr>\n",
       "      <th>774</th>\n",
       "      <td>FIOTEC - FUNDACAO PARA O DESENVOLVIMENTO CIENT...</td>\n",
       "      <td>02385669000174</td>\n",
       "      <td>51,234,488.06</td>\n",
       "    </tr>\n",
       "    <tr>\n",
       "      <th>2404</th>\n",
       "      <td>RAC ENGENHARIA E COMERCIO LTDA</td>\n",
       "      <td>04392190000190</td>\n",
       "      <td>51,148,956.55</td>\n",
       "    </tr>\n",
       "    <tr>\n",
       "      <th>823</th>\n",
       "      <td>FUNDO DE SAUDE DO DISTRITO FEDERAL</td>\n",
       "      <td>12116247000157</td>\n",
       "      <td>50,437,829.00</td>\n",
       "    </tr>\n",
       "    <tr>\n",
       "      <th>775</th>\n",
       "      <td>FIOTEC - FUNDACAO PARA O DESENVOLVIMENTO CIENT...</td>\n",
       "      <td>02385669000174</td>\n",
       "      <td>49,998,378.17</td>\n",
       "    </tr>\n",
       "    <tr>\n",
       "      <th>1258</th>\n",
       "      <td>FUNDO MUNICIPAL DE SAUDE DE DUQUE DE CAXIAS</td>\n",
       "      <td>11128809000110</td>\n",
       "      <td>48,737,165.00</td>\n",
       "    </tr>\n",
       "    <tr>\n",
       "      <th>835</th>\n",
       "      <td>FUNDO ESTADUAL DE SAUDE</td>\n",
       "      <td>87182846000178</td>\n",
       "      <td>48,518,312.00</td>\n",
       "    </tr>\n",
       "    <tr>\n",
       "      <th>707</th>\n",
       "      <td>ESTADO DO MARANHAO - FUNDO ESTADUAL DE SAUDE /...</td>\n",
       "      <td>06023953000151</td>\n",
       "      <td>43,336,600.00</td>\n",
       "    </tr>\n",
       "    <tr>\n",
       "      <th>899</th>\n",
       "      <td>FUNDO MUNICIPAL DE SAUDE</td>\n",
       "      <td>10497795000149</td>\n",
       "      <td>40,004,605.00</td>\n",
       "    </tr>\n",
       "  </tbody>\n",
       "</table>\n",
       "</div>"
      ],
      "text/plain": [
       "                                           Favorecido_x Código Favorecido_x  \\\n",
       "549          DIRETORIA EXECUTIVA DO FUNDO NAC. DE SAUDE              257001   \n",
       "1604               FUNDO NACIONAL DE ASSISTENCIA SOCIAL              330013   \n",
       "2262  ORGANIZACAO PAN-AMERICANA DA SAUDE/ORGANIZACAO...      04096431000154   \n",
       "1654                 GLOBAL BASE DEVELOPMENT HK LIMITED           EX2590112   \n",
       "838                    FUNDO ESTADUAL DE SAUDE - FUNDES      13851748000140   \n",
       "1783        INTERMED EQUIPAMENTO MEDICO HOSPITALAR LTDA      49520521000169   \n",
       "2024                     MAGNAMED TECNOLOGIA MEDICA S/A      01298443000254   \n",
       "834                             FUNDO ESTADUAL DE SAUDE      74031865000151   \n",
       "190                                  BANCO DO BRASIL SA      00000000000191   \n",
       "456              COORDENACAO-GERAL DE GESTAO DE PESSOAS              250006   \n",
       "839               FUNDO ESTADUAL DE SAUDE DE PERNAMBUCO      11430018000140   \n",
       "840          FUNDO ESTADUAL DE SAUDE DO ESTADO DA BAHIA      05816630000152   \n",
       "774   FIOTEC - FUNDACAO PARA O DESENVOLVIMENTO CIENT...      02385669000174   \n",
       "2404                     RAC ENGENHARIA E COMERCIO LTDA      04392190000190   \n",
       "823                  FUNDO DE SAUDE DO DISTRITO FEDERAL      12116247000157   \n",
       "775   FIOTEC - FUNDACAO PARA O DESENVOLVIMENTO CIENT...      02385669000174   \n",
       "1258        FUNDO MUNICIPAL DE SAUDE DE DUQUE DE CAXIAS      11128809000110   \n",
       "835                             FUNDO ESTADUAL DE SAUDE      87182846000178   \n",
       "707   ESTADO DO MARANHAO - FUNDO ESTADUAL DE SAUDE /...      06023953000151   \n",
       "899                            FUNDO MUNICIPAL DE SAUDE      10497795000149   \n",
       "\n",
       "      valor_pago_em_real  \n",
       "549     7,965,732,190.89  \n",
       "1604      983,403,918.81  \n",
       "2262      432,376,875.00  \n",
       "1654      306,891,634.50  \n",
       "838       152,861,216.00  \n",
       "1783      141,900,000.00  \n",
       "2024      129,020,160.00  \n",
       "834       105,970,421.00  \n",
       "190        72,718,332.48  \n",
       "456        60,425,474.60  \n",
       "839        54,921,718.00  \n",
       "840        54,869,588.00  \n",
       "774        51,234,488.06  \n",
       "2404       51,148,956.55  \n",
       "823        50,437,829.00  \n",
       "775        49,998,378.17  \n",
       "1258       48,737,165.00  \n",
       "835        48,518,312.00  \n",
       "707        43,336,600.00  \n",
       "899        40,004,605.00  "
      ]
     },
     "execution_count": 53,
     "metadata": {},
     "output_type": "execute_result"
    }
   ],
   "source": [
    "pagamentos_covid19.groupby([\"Favorecido_x\", \"Código Favorecido_x\"]).valor_pago_em_real.sum().reset_index().sort_values(\"valor_pago_em_real\", ascending=False).head(20)"
   ]
  },
  {
   "cell_type": "code",
   "execution_count": 54,
   "metadata": {},
   "outputs": [],
   "source": [
    "procura = pagamentos_covid19[(pagamentos_covid19['Código Favorecido_x'] == '49520521000169') ]"
   ]
  },
  {
   "cell_type": "code",
   "execution_count": 55,
   "metadata": {},
   "outputs": [
    {
     "data": {
      "text/html": [
       "<div>\n",
       "<style scoped>\n",
       "    .dataframe tbody tr th:only-of-type {\n",
       "        vertical-align: middle;\n",
       "    }\n",
       "\n",
       "    .dataframe tbody tr th {\n",
       "        vertical-align: top;\n",
       "    }\n",
       "\n",
       "    .dataframe thead th {\n",
       "        text-align: right;\n",
       "    }\n",
       "</style>\n",
       "<table border=\"1\" class=\"dataframe\">\n",
       "  <thead>\n",
       "    <tr style=\"text-align: right;\">\n",
       "      <th></th>\n",
       "      <th>Código Empenho</th>\n",
       "      <th>Id Empenho</th>\n",
       "      <th>valor_pago_em_real</th>\n",
       "    </tr>\n",
       "  </thead>\n",
       "  <tbody>\n",
       "    <tr>\n",
       "      <th>0</th>\n",
       "      <td>250005000012020NE000104</td>\n",
       "      <td>178500504</td>\n",
       "      <td>141,900,000.00</td>\n",
       "    </tr>\n",
       "  </tbody>\n",
       "</table>\n",
       "</div>"
      ],
      "text/plain": [
       "            Código Empenho Id Empenho  valor_pago_em_real\n",
       "0  250005000012020NE000104  178500504      141,900,000.00"
      ]
     },
     "execution_count": 55,
     "metadata": {},
     "output_type": "execute_result"
    }
   ],
   "source": [
    "procura.groupby([\"Código Empenho\", \"Id Empenho\"]).valor_pago_em_real.sum().reset_index().sort_values(\"valor_pago_em_real\", ascending=False)"
   ]
  },
  {
   "cell_type": "code",
   "execution_count": 56,
   "metadata": {},
   "outputs": [
    {
     "data": {
      "text/html": [
       "<div>\n",
       "<style scoped>\n",
       "    .dataframe tbody tr th:only-of-type {\n",
       "        vertical-align: middle;\n",
       "    }\n",
       "\n",
       "    .dataframe tbody tr th {\n",
       "        vertical-align: top;\n",
       "    }\n",
       "\n",
       "    .dataframe thead th {\n",
       "        text-align: right;\n",
       "    }\n",
       "</style>\n",
       "<table border=\"1\" class=\"dataframe\">\n",
       "  <thead>\n",
       "    <tr style=\"text-align: right;\">\n",
       "      <th></th>\n",
       "      <th>Data Emissão_x</th>\n",
       "      <th>Código Empenho</th>\n",
       "      <th>Id Empenho</th>\n",
       "      <th>Órgão_x</th>\n",
       "      <th>Unidade Gestora_x</th>\n",
       "      <th>Código Favorecido_x</th>\n",
       "      <th>Favorecido_x</th>\n",
       "      <th>Valor do Empenho Convertido pra R$</th>\n",
       "      <th>valor_pago_em_real</th>\n",
       "      <th>Valor Restos a Pagar Inscritos (R$)</th>\n",
       "      <th>Observação_x</th>\n",
       "      <th>Observação_y</th>\n",
       "      <th>Modalidade de Licitação</th>\n",
       "    </tr>\n",
       "  </thead>\n",
       "  <tbody>\n",
       "    <tr>\n",
       "      <th>10655</th>\n",
       "      <td>13/04/2020</td>\n",
       "      <td>250005000012020NE000104</td>\n",
       "      <td>178500504</td>\n",
       "      <td>Ministério da Saúde - Unidades com vínculo di</td>\n",
       "      <td>DEPARTAMENTO DE LOGISTICA EM SAUDE - DLOG</td>\n",
       "      <td>49520521000169</td>\n",
       "      <td>INTERMED EQUIPAMENTO MEDICO HOSPITALAR LTDA</td>\n",
       "      <td>258,000,000.00</td>\n",
       "      <td>8,301,150.00</td>\n",
       "      <td>0.00</td>\n",
       "      <td>ATENDER DESPESAS COM AQUISICAO DE 4.300 VENTIL...</td>\n",
       "      <td>IN 1234/2012</td>\n",
       "      <td>Não se Aplica</td>\n",
       "    </tr>\n",
       "    <tr>\n",
       "      <th>10656</th>\n",
       "      <td>13/04/2020</td>\n",
       "      <td>250005000012020NE000104</td>\n",
       "      <td>178500504</td>\n",
       "      <td>Ministério da Saúde - Unidades com vínculo di</td>\n",
       "      <td>DEPARTAMENTO DE LOGISTICA EM SAUDE - DLOG</td>\n",
       "      <td>49520521000169</td>\n",
       "      <td>INTERMED EQUIPAMENTO MEDICO HOSPITALAR LTDA</td>\n",
       "      <td>258,000,000.00</td>\n",
       "      <td>133,598,850.00</td>\n",
       "      <td>0.00</td>\n",
       "      <td>ATENDER DESPESAS COM AQUISICAO DE 4.300 VENTIL...</td>\n",
       "      <td>PGTO PARA EMPRESA INTERMED EQUIPAMENTOS REF. A...</td>\n",
       "      <td>Não se Aplica</td>\n",
       "    </tr>\n",
       "  </tbody>\n",
       "</table>\n",
       "</div>"
      ],
      "text/plain": [
       "      Data Emissão_x           Código Empenho Id Empenho  \\\n",
       "10655     13/04/2020  250005000012020NE000104  178500504   \n",
       "10656     13/04/2020  250005000012020NE000104  178500504   \n",
       "\n",
       "                                             Órgão_x  \\\n",
       "10655  Ministério da Saúde - Unidades com vínculo di   \n",
       "10656  Ministério da Saúde - Unidades com vínculo di   \n",
       "\n",
       "                               Unidade Gestora_x Código Favorecido_x  \\\n",
       "10655  DEPARTAMENTO DE LOGISTICA EM SAUDE - DLOG      49520521000169   \n",
       "10656  DEPARTAMENTO DE LOGISTICA EM SAUDE - DLOG      49520521000169   \n",
       "\n",
       "                                      Favorecido_x  \\\n",
       "10655  INTERMED EQUIPAMENTO MEDICO HOSPITALAR LTDA   \n",
       "10656  INTERMED EQUIPAMENTO MEDICO HOSPITALAR LTDA   \n",
       "\n",
       "       Valor do Empenho Convertido pra R$  valor_pago_em_real  \\\n",
       "10655                      258,000,000.00        8,301,150.00   \n",
       "10656                      258,000,000.00      133,598,850.00   \n",
       "\n",
       "       Valor Restos a Pagar Inscritos (R$)  \\\n",
       "10655                                 0.00   \n",
       "10656                                 0.00   \n",
       "\n",
       "                                            Observação_x  \\\n",
       "10655  ATENDER DESPESAS COM AQUISICAO DE 4.300 VENTIL...   \n",
       "10656  ATENDER DESPESAS COM AQUISICAO DE 4.300 VENTIL...   \n",
       "\n",
       "                                            Observação_y  \\\n",
       "10655                                       IN 1234/2012   \n",
       "10656  PGTO PARA EMPRESA INTERMED EQUIPAMENTOS REF. A...   \n",
       "\n",
       "      Modalidade de Licitação  \n",
       "10655           Não se Aplica  \n",
       "10656           Não se Aplica  "
      ]
     },
     "execution_count": 56,
     "metadata": {},
     "output_type": "execute_result"
    }
   ],
   "source": [
    "procura[[\"Data Emissão_x\",\"Código Empenho\", \"Id Empenho\", \"Órgão_x\", \"Unidade Gestora_x\", \"Código Favorecido_x\", \"Favorecido_x\", \"Valor do Empenho Convertido pra R$\", \"valor_pago_em_real\", \"Valor Restos a Pagar Inscritos (R$)\", \"Observação_x\", \"Observação_y\",  \"Modalidade de Licitação\"]]"
   ]
  },
  {
   "cell_type": "code",
   "execution_count": null,
   "metadata": {},
   "outputs": [],
   "source": []
  },
  {
   "cell_type": "code",
   "execution_count": 57,
   "metadata": {},
   "outputs": [],
   "source": [
    "procura = pagamentos_covid19[(pagamentos_covid19['Código Favorecido_x'] == 'EX2590112') ]"
   ]
  },
  {
   "cell_type": "code",
   "execution_count": 58,
   "metadata": {},
   "outputs": [
    {
     "data": {
      "text/plain": [
       "306891634.5"
      ]
     },
     "execution_count": 58,
     "metadata": {},
     "output_type": "execute_result"
    }
   ],
   "source": [
    "procura['valor_pago_em_real'].sum()"
   ]
  },
  {
   "cell_type": "code",
   "execution_count": null,
   "metadata": {},
   "outputs": [],
   "source": []
  },
  {
   "cell_type": "code",
   "execution_count": 59,
   "metadata": {},
   "outputs": [],
   "source": [
    "# Salva um CSV para criar gráfico"
   ]
  },
  {
   "cell_type": "code",
   "execution_count": 60,
   "metadata": {},
   "outputs": [],
   "source": [
    "salva = pagamentos_covid19.groupby([\"Favorecido_x\", \"Código Favorecido_x\"]).valor_pago_em_real.sum().reset_index().sort_values(\"valor_pago_em_real\", ascending=False)"
   ]
  },
  {
   "cell_type": "code",
   "execution_count": 61,
   "metadata": {},
   "outputs": [
    {
     "name": "stdout",
     "output_type": "stream",
     "text": [
      "<class 'pandas.core.frame.DataFrame'>\n",
      "Int64Index: 2807 entries, 549 to 641\n",
      "Data columns (total 3 columns):\n",
      " #   Column               Non-Null Count  Dtype  \n",
      "---  ------               --------------  -----  \n",
      " 0   Favorecido_x         2807 non-null   object \n",
      " 1   Código Favorecido_x  2807 non-null   object \n",
      " 2   valor_pago_em_real   2807 non-null   float64\n",
      "dtypes: float64(1), object(2)\n",
      "memory usage: 87.7+ KB\n"
     ]
    }
   ],
   "source": [
    "salva.info()"
   ]
  },
  {
   "cell_type": "code",
   "execution_count": 62,
   "metadata": {},
   "outputs": [],
   "source": [
    "salva.to_csv('resultados/graficos/soma_ordenada_favorecidos_pagamentos_feitos_de_empenhos_covid19_ate_03_junho_2020.csv', index=False)"
   ]
  },
  {
   "cell_type": "code",
   "execution_count": null,
   "metadata": {},
   "outputs": [],
   "source": []
  },
  {
   "cell_type": "code",
   "execution_count": null,
   "metadata": {},
   "outputs": [],
   "source": []
  },
  {
   "cell_type": "code",
   "execution_count": 63,
   "metadata": {},
   "outputs": [],
   "source": [
    "import seaborn as sns\n",
    "import matplotlib.pyplot as plt\n",
    "\n",
    "%matplotlib inline"
   ]
  },
  {
   "cell_type": "code",
   "execution_count": 64,
   "metadata": {},
   "outputs": [],
   "source": [
    "graf = pagamentos_covid19.groupby([\"Favorecido_x\", \"Código Favorecido_x\"]).valor_pago_em_real.sum().reset_index().sort_values(\"valor_pago_em_real\", ascending=False).head(15)\n",
    "graf.rename(columns = {'Favorecido_x':'instituicao_empresa_favorecida'},inplace = True)\n",
    "graf.rename(columns = {'Código Favorecido_x':'cod_favorecido'},inplace = True)"
   ]
  },
  {
   "cell_type": "code",
   "execution_count": 65,
   "metadata": {},
   "outputs": [
    {
     "name": "stdout",
     "output_type": "stream",
     "text": [
      "<class 'pandas.core.frame.DataFrame'>\n",
      "Int64Index: 15 entries, 549 to 823\n",
      "Data columns (total 3 columns):\n",
      " #   Column                          Non-Null Count  Dtype  \n",
      "---  ------                          --------------  -----  \n",
      " 0   instituicao_empresa_favorecida  15 non-null     object \n",
      " 1   cod_favorecido                  15 non-null     object \n",
      " 2   valor_pago_em_real              15 non-null     float64\n",
      "dtypes: float64(1), object(2)\n",
      "memory usage: 480.0+ bytes\n"
     ]
    }
   ],
   "source": [
    "graf.info()"
   ]
  },
  {
   "cell_type": "code",
   "execution_count": 66,
   "metadata": {},
   "outputs": [
    {
     "data": {
      "image/png": "[encoded data removed]",
      "text/plain": [
       "<Figure size 1440x1008 with 1 Axes>"
      ]
     },
     "metadata": {},
     "output_type": "display_data"
    }
   ],
   "source": [
    "sns.set(style=\"whitegrid\")\n",
    "\n",
    "fig_dims = (20, 14)\n",
    "fig, ax = plt.subplots(figsize=fig_dims)\n",
    "plt.xticks(rotation=45, ha='right')\n",
    "\n",
    "ax = sns.barplot(x=\"instituicao_empresa_favorecida\", y=\"valor_pago_em_real\", data=graf)"
   ]
  },
  {
   "cell_type": "code",
   "execution_count": null,
   "metadata": {},
   "outputs": [],
   "source": []
  },
  {
   "cell_type": "code",
   "execution_count": 67,
   "metadata": {},
   "outputs": [],
   "source": [
    "# Soma valores em sigilo"
   ]
  },
  {
   "cell_type": "code",
   "execution_count": 68,
   "metadata": {},
   "outputs": [],
   "source": [
    "sigilo = pagamentos_covid19[(pagamentos_covid19['Favorecido_x'] == 'Informação protegida por sigilo nos termos da legislaçã') |  \n",
    "                           (pagamentos_covid19['Código Favorecido_x'] == '-11')]"
   ]
  },
  {
   "cell_type": "code",
   "execution_count": 69,
   "metadata": {},
   "outputs": [
    {
     "data": {
      "text/plain": [
       "861253.0299999998"
      ]
     },
     "execution_count": 69,
     "metadata": {},
     "output_type": "execute_result"
    }
   ],
   "source": [
    "sigilo['valor_pago_em_real'].sum()"
   ]
  },
  {
   "cell_type": "code",
   "execution_count": 70,
   "metadata": {},
   "outputs": [],
   "source": [
    "# Máximo em sigilo"
   ]
  },
  {
   "cell_type": "code",
   "execution_count": 71,
   "metadata": {},
   "outputs": [
    {
     "data": {
      "text/plain": [
       "Data Emissão_x                                                                02/04/2020\n",
       "Código Empenho                                                   160062000012020NE000055\n",
       "Id Empenho                                                                     184000107\n",
       "Código Empenho Resumido                                                     2020NE000055\n",
       "Órgão_x                                                              Comando do Exército\n",
       "Unidade Gestora_x                                     CENTRO DE INTELIGENCIA DO EXERCITO\n",
       "Código Favorecido_x                                                                  -11\n",
       "Favorecido_x                           Informação protegida por sigilo nos termos da ...\n",
       "Valor do Empenho Convertido pra R$                                            380,000.00\n",
       "valor_pago_em_real                                                            380,000.00\n",
       "Valor Restos a Pagar Inscritos (R$)                                                 0.00\n",
       "Observação_x                           Informação protegida por sigilo nos termos da ...\n",
       "Observação_y                           Informação protegida por sigilo nos termos da ...\n",
       "Modalidade de Licitação                                                    Não se Aplica\n",
       "Name: 5923, dtype: object"
      ]
     },
     "execution_count": 71,
     "metadata": {},
     "output_type": "execute_result"
    }
   ],
   "source": [
    "sigilo.loc[sigilo['valor_pago_em_real'].idxmax()][[\"Data Emissão_x\",\"Código Empenho\", \"Id Empenho\", \"Código Empenho Resumido\", \"Órgão_x\", \"Unidade Gestora_x\", \"Código Favorecido_x\", \"Favorecido_x\", \"Valor do Empenho Convertido pra R$\", \"valor_pago_em_real\", \"Valor Restos a Pagar Inscritos (R$)\", \"Observação_x\", \"Observação_y\",  \"Modalidade de Licitação\"]]"
   ]
  },
  {
   "cell_type": "code",
   "execution_count": null,
   "metadata": {},
   "outputs": [],
   "source": []
  },
  {
   "cell_type": "code",
   "execution_count": null,
   "metadata": {},
   "outputs": [],
   "source": []
  },
  {
   "cell_type": "code",
   "execution_count": 72,
   "metadata": {},
   "outputs": [],
   "source": [
    "# Soma valores por autores de Emenda"
   ]
  },
  {
   "cell_type": "code",
   "execution_count": 73,
   "metadata": {},
   "outputs": [],
   "source": [
    "emendas = pagamentos_covid19[(pagamentos_covid19['Autor Emenda'] != 'SEM EMENDA')]"
   ]
  },
  {
   "cell_type": "code",
   "execution_count": 74,
   "metadata": {},
   "outputs": [
    {
     "data": {
      "text/plain": [
       "1482322058.0"
      ]
     },
     "execution_count": 74,
     "metadata": {},
     "output_type": "execute_result"
    }
   ],
   "source": [
    "emendas['valor_pago_em_real'].sum()"
   ]
  },
  {
   "cell_type": "code",
   "execution_count": 75,
   "metadata": {},
   "outputs": [
    {
     "data": {
      "text/html": [
       "<div>\n",
       "<style scoped>\n",
       "    .dataframe tbody tr th:only-of-type {\n",
       "        vertical-align: middle;\n",
       "    }\n",
       "\n",
       "    .dataframe tbody tr th {\n",
       "        vertical-align: top;\n",
       "    }\n",
       "\n",
       "    .dataframe thead th {\n",
       "        text-align: right;\n",
       "    }\n",
       "</style>\n",
       "<table border=\"1\" class=\"dataframe\">\n",
       "  <thead>\n",
       "    <tr style=\"text-align: right;\">\n",
       "      <th></th>\n",
       "      <th>Autor Emenda</th>\n",
       "      <th>valor_pago_em_real</th>\n",
       "    </tr>\n",
       "  </thead>\n",
       "  <tbody>\n",
       "    <tr>\n",
       "      <th>33</th>\n",
       "      <td>BANCADA DO CEARA / EMENDA 14</td>\n",
       "      <td>180,966,340.00</td>\n",
       "    </tr>\n",
       "    <tr>\n",
       "      <th>0</th>\n",
       "      <td>BANCADA DA BAHIA / EMENDA 4</td>\n",
       "      <td>126,904,898.00</td>\n",
       "    </tr>\n",
       "    <tr>\n",
       "      <th>32</th>\n",
       "      <td>BANCADA DO AMAZONAS / EMENDA 5</td>\n",
       "      <td>116,834,308.00</td>\n",
       "    </tr>\n",
       "    <tr>\n",
       "      <th>16</th>\n",
       "      <td>BANCADA DE SAO PAULO / EMENDA 1</td>\n",
       "      <td>105,421,280.00</td>\n",
       "    </tr>\n",
       "    <tr>\n",
       "      <th>37</th>\n",
       "      <td>BANCADA DO MARANHAO / EMENDA 3</td>\n",
       "      <td>80,952,724.00</td>\n",
       "    </tr>\n",
       "    <tr>\n",
       "      <th>7</th>\n",
       "      <td>BANCADA DE GOIAS / EMENDA 7</td>\n",
       "      <td>76,803,508.00</td>\n",
       "    </tr>\n",
       "    <tr>\n",
       "      <th>38</th>\n",
       "      <td>BANCADA DO RIO DE JANEIRO / EMENDA 2</td>\n",
       "      <td>53,215,190.00</td>\n",
       "    </tr>\n",
       "    <tr>\n",
       "      <th>34</th>\n",
       "      <td>BANCADA DO DISTRITO FEDERAL / EMENDA 3</td>\n",
       "      <td>50,437,829.00</td>\n",
       "    </tr>\n",
       "    <tr>\n",
       "      <th>15</th>\n",
       "      <td>BANCADA DE RORAIMA / EMENDA 9</td>\n",
       "      <td>49,014,018.00</td>\n",
       "    </tr>\n",
       "    <tr>\n",
       "      <th>26</th>\n",
       "      <td>BANCADA DE SERGIPE / EMENDA 8</td>\n",
       "      <td>46,185,111.00</td>\n",
       "    </tr>\n",
       "    <tr>\n",
       "      <th>39</th>\n",
       "      <td>BANCADA DO RIO DE JANEIRO / EMENDA 9</td>\n",
       "      <td>44,482,630.00</td>\n",
       "    </tr>\n",
       "    <tr>\n",
       "      <th>36</th>\n",
       "      <td>BANCADA DO MARANHAO / EMENDA 2</td>\n",
       "      <td>41,077,800.00</td>\n",
       "    </tr>\n",
       "    <tr>\n",
       "      <th>31</th>\n",
       "      <td>BANCADA DO AMAPA / EMENDA 5</td>\n",
       "      <td>35,457,173.00</td>\n",
       "    </tr>\n",
       "    <tr>\n",
       "      <th>14</th>\n",
       "      <td>BANCADA DE RONDONIA / EMENDA 4</td>\n",
       "      <td>30,991,725.00</td>\n",
       "    </tr>\n",
       "    <tr>\n",
       "      <th>22</th>\n",
       "      <td>BANCADA DE SAO PAULO / EMENDA 6</td>\n",
       "      <td>27,922,527.00</td>\n",
       "    </tr>\n",
       "    <tr>\n",
       "      <th>40</th>\n",
       "      <td>BANCADA DO RIO GRANDE DO NORTE / EMENDA 11</td>\n",
       "      <td>25,316,244.00</td>\n",
       "    </tr>\n",
       "    <tr>\n",
       "      <th>30</th>\n",
       "      <td>BANCADA DO AMAPA / EMENDA 4</td>\n",
       "      <td>23,774,304.00</td>\n",
       "    </tr>\n",
       "    <tr>\n",
       "      <th>21</th>\n",
       "      <td>BANCADA DE SAO PAULO / EMENDA 5</td>\n",
       "      <td>21,947,992.00</td>\n",
       "    </tr>\n",
       "    <tr>\n",
       "      <th>29</th>\n",
       "      <td>BANCADA DO ACRE / EMENDA 6</td>\n",
       "      <td>21,891,153.00</td>\n",
       "    </tr>\n",
       "    <tr>\n",
       "      <th>18</th>\n",
       "      <td>BANCADA DE SAO PAULO / EMENDA 11</td>\n",
       "      <td>19,531,586.00</td>\n",
       "    </tr>\n",
       "  </tbody>\n",
       "</table>\n",
       "</div>"
      ],
      "text/plain": [
       "                                  Autor Emenda  valor_pago_em_real\n",
       "33                BANCADA DO CEARA / EMENDA 14      180,966,340.00\n",
       "0                  BANCADA DA BAHIA / EMENDA 4      126,904,898.00\n",
       "32              BANCADA DO AMAZONAS / EMENDA 5      116,834,308.00\n",
       "16             BANCADA DE SAO PAULO / EMENDA 1      105,421,280.00\n",
       "37              BANCADA DO MARANHAO / EMENDA 3       80,952,724.00\n",
       "7                  BANCADA DE GOIAS / EMENDA 7       76,803,508.00\n",
       "38        BANCADA DO RIO DE JANEIRO / EMENDA 2       53,215,190.00\n",
       "34      BANCADA DO DISTRITO FEDERAL / EMENDA 3       50,437,829.00\n",
       "15               BANCADA DE RORAIMA / EMENDA 9       49,014,018.00\n",
       "26               BANCADA DE SERGIPE / EMENDA 8       46,185,111.00\n",
       "39        BANCADA DO RIO DE JANEIRO / EMENDA 9       44,482,630.00\n",
       "36              BANCADA DO MARANHAO / EMENDA 2       41,077,800.00\n",
       "31                 BANCADA DO AMAPA / EMENDA 5       35,457,173.00\n",
       "14              BANCADA DE RONDONIA / EMENDA 4       30,991,725.00\n",
       "22             BANCADA DE SAO PAULO / EMENDA 6       27,922,527.00\n",
       "40  BANCADA DO RIO GRANDE DO NORTE / EMENDA 11       25,316,244.00\n",
       "30                 BANCADA DO AMAPA / EMENDA 4       23,774,304.00\n",
       "21             BANCADA DE SAO PAULO / EMENDA 5       21,947,992.00\n",
       "29                  BANCADA DO ACRE / EMENDA 6       21,891,153.00\n",
       "18            BANCADA DE SAO PAULO / EMENDA 11       19,531,586.00"
      ]
     },
     "execution_count": 75,
     "metadata": {},
     "output_type": "execute_result"
    }
   ],
   "source": [
    "emendas.groupby([\"Autor Emenda\"]).valor_pago_em_real.sum().reset_index().sort_values(\"valor_pago_em_real\", ascending=False).head(20)"
   ]
  },
  {
   "cell_type": "code",
   "execution_count": 76,
   "metadata": {},
   "outputs": [],
   "source": [
    "# Salva em CSV para gráfico"
   ]
  },
  {
   "cell_type": "code",
   "execution_count": 77,
   "metadata": {},
   "outputs": [],
   "source": [
    "salva = emendas.groupby([\"Autor Emenda\"]).valor_pago_em_real.sum().reset_index().sort_values(\"valor_pago_em_real\", ascending=False)"
   ]
  },
  {
   "cell_type": "code",
   "execution_count": 78,
   "metadata": {},
   "outputs": [
    {
     "name": "stdout",
     "output_type": "stream",
     "text": [
      "<class 'pandas.core.frame.DataFrame'>\n",
      "Int64Index: 50 entries, 33 to 20\n",
      "Data columns (total 2 columns):\n",
      " #   Column              Non-Null Count  Dtype  \n",
      "---  ------              --------------  -----  \n",
      " 0   Autor Emenda        50 non-null     object \n",
      " 1   valor_pago_em_real  50 non-null     float64\n",
      "dtypes: float64(1), object(1)\n",
      "memory usage: 1.2+ KB\n"
     ]
    }
   ],
   "source": [
    "salva.info()"
   ]
  },
  {
   "cell_type": "code",
   "execution_count": 79,
   "metadata": {},
   "outputs": [],
   "source": [
    "salva.to_csv('resultados/graficos/soma_ordenada_emendas_pagamentos_feitos_de_empenhos_covid19_ate_03_junho_2020.csv', index=False)"
   ]
  },
  {
   "cell_type": "code",
   "execution_count": null,
   "metadata": {},
   "outputs": [],
   "source": []
  }
 ],
 "metadata": {
  "kernelspec": {
   "display_name": "Python 3",
   "language": "python",
   "name": "python3"
  },
  "language_info": {
   "codemirror_mode": {
    "name": "ipython",
    "version": 3
   },
   "file_extension": ".py",
   "mimetype": "text/x-python",
   "name": "python",
   "nbconvert_exporter": "python",
   "pygments_lexer": "ipython3",
   "version": "3.6.9"
  }
 },
 "nbformat": 4,
 "nbformat_minor": 4
}
