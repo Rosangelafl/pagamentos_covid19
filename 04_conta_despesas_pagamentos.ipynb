{
 "cells": [
  {
   "cell_type": "code",
   "execution_count": 1,
   "metadata": {},
   "outputs": [],
   "source": [
    "# -*- coding: utf-8\n",
    "# Reinaldo Chaves (@paidatocandeira)\n",
    "# Acessa o arquivo criado com pagamentos de empenho da covid19\n",
    "# E faz diversas estatísticas\n",
    "#"
   ]
  },
  {
   "cell_type": "code",
   "execution_count": 2,
   "metadata": {},
   "outputs": [],
   "source": [
    "import pandas as pd"
   ]
  },
  {
   "cell_type": "code",
   "execution_count": null,
   "metadata": {},
   "outputs": [],
   "source": []
  },
  {
   "cell_type": "code",
   "execution_count": 3,
   "metadata": {},
   "outputs": [],
   "source": [
    "pd.options.display.float_format = '{:,.2f}'.format"
   ]
  },
  {
   "cell_type": "code",
   "execution_count": null,
   "metadata": {},
   "outputs": [],
   "source": []
  },
  {
   "cell_type": "code",
   "execution_count": 4,
   "metadata": {},
   "outputs": [],
   "source": [
    "kwargs = {'sep': ',', 'dtype': str, 'encoding': 'utf-8'}\n",
    "pagamentos_covid19 = pd.read_csv(\"resultados/pagamentos_covid19/pagamentos_feitos_de_empenhos_covid19_ate_22_junho_2020.csv\", **kwargs)"
   ]
  },
  {
   "cell_type": "code",
   "execution_count": 5,
   "metadata": {},
   "outputs": [],
   "source": [
    "# Carrega nomes de colunas"
   ]
  },
  {
   "cell_type": "code",
   "execution_count": 6,
   "metadata": {},
   "outputs": [
    {
     "data": {
      "text/plain": [
       "['Id Empenho',\n",
       " 'Código Empenho',\n",
       " 'Código Empenho Resumido',\n",
       " 'Data Emissão_x',\n",
       " 'Código Tipo Documento_x',\n",
       " 'Tipo Documento_x',\n",
       " 'Tipo Empenho',\n",
       " 'Espécie Empenho',\n",
       " 'Código Órgão Superior_x',\n",
       " 'Órgão Superior_x',\n",
       " 'Código Órgão_x',\n",
       " 'Órgão_x',\n",
       " 'Código Unidade Gestora_x',\n",
       " 'Unidade Gestora_x',\n",
       " 'Código Gestão_x',\n",
       " 'Gestão_x',\n",
       " 'Código Favorecido_x',\n",
       " 'Favorecido_x',\n",
       " 'Observação_x',\n",
       " 'Código Esfera Orçamentária',\n",
       " 'Esfera Orçamentária',\n",
       " 'Código Tipo Crédito',\n",
       " 'Tipo Crédito',\n",
       " 'Código Grupo Fonte Recurso',\n",
       " 'Grupo Fonte Recurso',\n",
       " 'Código Fonte Recurso',\n",
       " 'Fonte Recurso',\n",
       " 'Código Unidade Orçamentária',\n",
       " 'Unidade Orçamentária',\n",
       " 'Código Função',\n",
       " 'Função',\n",
       " 'Código SubFunção',\n",
       " 'SubFunção',\n",
       " 'Código Programa',\n",
       " 'Programa',\n",
       " 'Código Ação',\n",
       " 'Ação',\n",
       " 'Linguagem Cidadã',\n",
       " 'Código Subtítulo (Localizador)',\n",
       " 'Subtítulo (Localizador)',\n",
       " 'Código Plano Orçamentário_x',\n",
       " 'Plano Orçamentário_x',\n",
       " 'Código Programa Governo_x',\n",
       " 'Nome Programa Governo_x',\n",
       " 'Autor Emenda',\n",
       " 'Código Categoria de Despesa_x',\n",
       " 'Categoria de Despesa_x',\n",
       " 'Código Grupo de Despesa_x',\n",
       " 'Grupo de Despesa_x',\n",
       " 'Código Modalidade de Aplicação_x',\n",
       " 'Modalidade de Aplicação_x',\n",
       " 'Código Elemento de Despesa_x',\n",
       " 'Elemento de Despesa_x',\n",
       " 'Processo_x',\n",
       " 'Modalidade de Licitação',\n",
       " 'Inciso',\n",
       " 'Amparo',\n",
       " 'Referência de Dispensa ou Inexigibilidade',\n",
       " 'Código Convênio',\n",
       " 'Contrato de Repasse / Termo de Parceria / Outros',\n",
       " 'Valor Original do Empenho',\n",
       " 'Valor do Empenho Convertido pra R$',\n",
       " 'Valor Utilizado na Conversão_x',\n",
       " 'Código Pagamento',\n",
       " 'Código Natureza Despesa Completa',\n",
       " 'Subitem',\n",
       " 'Valor Pago (R$)',\n",
       " 'Valor Restos a Pagar Inscritos (R$)',\n",
       " 'Valor Restos a Pagar Cancelado (R$)',\n",
       " 'Valor Restos a Pagar Pagos (R$)',\n",
       " 'Código Pagamento Resumido',\n",
       " 'Data Emissão_y',\n",
       " 'Código Tipo Documento_y',\n",
       " 'Tipo Documento_y',\n",
       " 'Tipo OB',\n",
       " 'Extraorçamentário',\n",
       " 'Código Órgão Superior_y',\n",
       " 'Órgão Superior_y',\n",
       " 'Código Órgão_y',\n",
       " 'Órgão_y',\n",
       " 'Código Unidade Gestora_y',\n",
       " 'Unidade Gestora_y',\n",
       " 'Código Gestão_y',\n",
       " 'Gestão_y',\n",
       " 'Código Favorecido_y',\n",
       " 'Favorecido_y',\n",
       " 'Observação_y',\n",
       " 'Processo_y',\n",
       " 'Código Categoria de Despesa_y',\n",
       " 'Categoria de Despesa_y',\n",
       " 'Código Grupo de Despesa_y',\n",
       " 'Grupo de Despesa_y',\n",
       " 'Código Modalidade de Aplicação_y',\n",
       " 'Modalidade de Aplicação_y',\n",
       " 'Código Elemento de Despesa_y',\n",
       " 'Elemento de Despesa_y',\n",
       " 'Código Plano Orçamentário_y',\n",
       " 'Plano Orçamentário_y',\n",
       " 'Código Programa Governo_y',\n",
       " 'Nome Programa Governo_y',\n",
       " 'Valor Original do Pagamento',\n",
       " 'Valor do Pagamento Convertido pra R$',\n",
       " 'Valor Utilizado na Conversão_y']"
      ]
     },
     "execution_count": 6,
     "metadata": {},
     "output_type": "execute_result"
    }
   ],
   "source": [
    "list(pagamentos_covid19.columns.values.tolist())"
   ]
  },
  {
   "cell_type": "code",
   "execution_count": null,
   "metadata": {},
   "outputs": [],
   "source": []
  },
  {
   "cell_type": "code",
   "execution_count": 7,
   "metadata": {},
   "outputs": [],
   "source": [
    "# Quantidade de favorecidos nos pagamentos"
   ]
  },
  {
   "cell_type": "code",
   "execution_count": 8,
   "metadata": {},
   "outputs": [
    {
     "data": {
      "text/plain": [
       "3245"
      ]
     },
     "execution_count": 8,
     "metadata": {},
     "output_type": "execute_result"
    }
   ],
   "source": [
    "a = len(pagamentos_covid19['Favorecido_x'].value_counts())\n",
    "a"
   ]
  },
  {
   "cell_type": "code",
   "execution_count": null,
   "metadata": {},
   "outputs": [],
   "source": []
  },
  {
   "cell_type": "code",
   "execution_count": 9,
   "metadata": {},
   "outputs": [],
   "source": [
    "# Transforma em numero campos de valores"
   ]
  },
  {
   "cell_type": "code",
   "execution_count": 10,
   "metadata": {},
   "outputs": [],
   "source": [
    "pagamentos_covid19['Valor Original do Empenho'] = pagamentos_covid19['Valor Original do Empenho'].str.replace(',','.')\n",
    "pagamentos_covid19['Valor Original do Empenho'] = pagamentos_covid19['Valor Original do Empenho'].astype('float64') \n",
    "\n",
    "pagamentos_covid19['Valor do Empenho Convertido pra R$'] = pagamentos_covid19['Valor do Empenho Convertido pra R$'].str.replace(',','.')\n",
    "pagamentos_covid19['Valor do Empenho Convertido pra R$'] = pagamentos_covid19['Valor do Empenho Convertido pra R$'].astype('float64') \n",
    "\n",
    "pagamentos_covid19['Valor Utilizado na Conversão_x'] = pagamentos_covid19['Valor Utilizado na Conversão_x'].str.replace(',','.')\n",
    "pagamentos_covid19['Valor Utilizado na Conversão_x'] = pagamentos_covid19['Valor Utilizado na Conversão_x'].astype('float64') \n",
    "\n",
    "pagamentos_covid19['Valor Pago (R$)'] = pagamentos_covid19['Valor Pago (R$)'].str.replace(',','.')\n",
    "pagamentos_covid19['Valor Pago (R$)'] = pagamentos_covid19['Valor Pago (R$)'].astype('float64') \n",
    "pagamentos_covid19.rename(columns = {'Valor Pago (R$)':'valor_pago_em_real'},inplace = True)\n",
    "\n",
    "pagamentos_covid19['Valor Restos a Pagar Inscritos (R$)'] = pagamentos_covid19['Valor Restos a Pagar Inscritos (R$)'].str.replace(',','.')\n",
    "pagamentos_covid19['Valor Restos a Pagar Inscritos (R$)'] = pagamentos_covid19['Valor Restos a Pagar Inscritos (R$)'].astype('float64') \n",
    "\n",
    "pagamentos_covid19['Valor Restos a Pagar Cancelado (R$)'] = pagamentos_covid19['Valor Restos a Pagar Cancelado (R$)'].str.replace(',','.')\n",
    "pagamentos_covid19['Valor Restos a Pagar Cancelado (R$)'] = pagamentos_covid19['Valor Restos a Pagar Cancelado (R$)'].astype('float64') \n",
    "\n",
    "pagamentos_covid19['Valor Restos a Pagar Pagos (R$)'] = pagamentos_covid19['Valor Restos a Pagar Pagos (R$)'].str.replace(',','.')\n",
    "pagamentos_covid19['Valor Restos a Pagar Pagos (R$)'] = pagamentos_covid19['Valor Restos a Pagar Pagos (R$)'].astype('float64') \n",
    "\n",
    "pagamentos_covid19['Valor Original do Pagamento'] = pagamentos_covid19['Valor Original do Pagamento'].str.replace(',','.')\n",
    "pagamentos_covid19['Valor Original do Pagamento'] = pagamentos_covid19['Valor Original do Pagamento'].astype('float64') \n",
    "\n",
    "pagamentos_covid19['Valor do Pagamento Convertido pra R$'] = pagamentos_covid19['Valor do Pagamento Convertido pra R$'].str.replace(',','.')\n",
    "pagamentos_covid19['Valor do Pagamento Convertido pra R$'] = pagamentos_covid19['Valor do Pagamento Convertido pra R$'].astype('float64') \n",
    "\n",
    "pagamentos_covid19['Valor Utilizado na Conversão_y'] = pagamentos_covid19['Valor Utilizado na Conversão_y'].str.replace(',','.')\n",
    "pagamentos_covid19['Valor Utilizado na Conversão_y'] = pagamentos_covid19['Valor Utilizado na Conversão_y'].astype('float64') "
   ]
  },
  {
   "cell_type": "code",
   "execution_count": null,
   "metadata": {},
   "outputs": [],
   "source": []
  },
  {
   "cell_type": "code",
   "execution_count": 11,
   "metadata": {},
   "outputs": [
    {
     "data": {
      "text/plain": [
       "13481548181.279999"
      ]
     },
     "execution_count": 11,
     "metadata": {},
     "output_type": "execute_result"
    }
   ],
   "source": [
    "pagamentos_covid19['valor_pago_em_real'].sum()"
   ]
  },
  {
   "cell_type": "code",
   "execution_count": 12,
   "metadata": {},
   "outputs": [
    {
     "data": {
      "text/plain": [
       "43736608816.95"
      ]
     },
     "execution_count": 12,
     "metadata": {},
     "output_type": "execute_result"
    }
   ],
   "source": [
    "pagamentos_covid19['Valor Original do Empenho'].sum()"
   ]
  },
  {
   "cell_type": "code",
   "execution_count": 13,
   "metadata": {},
   "outputs": [
    {
     "data": {
      "text/plain": [
       "43071730315.77"
      ]
     },
     "execution_count": 13,
     "metadata": {},
     "output_type": "execute_result"
    }
   ],
   "source": [
    "pagamentos_covid19['Valor do Empenho Convertido pra R$'].sum()"
   ]
  },
  {
   "cell_type": "code",
   "execution_count": null,
   "metadata": {},
   "outputs": [],
   "source": []
  },
  {
   "cell_type": "code",
   "execution_count": 14,
   "metadata": {},
   "outputs": [],
   "source": [
    "# Média de valores pagos"
   ]
  },
  {
   "cell_type": "code",
   "execution_count": 15,
   "metadata": {},
   "outputs": [
    {
     "data": {
      "text/plain": [
       "836065.0034902325"
      ]
     },
     "execution_count": 15,
     "metadata": {},
     "output_type": "execute_result"
    }
   ],
   "source": [
    "pagamentos_covid19['valor_pago_em_real'].mean()"
   ]
  },
  {
   "cell_type": "code",
   "execution_count": 16,
   "metadata": {},
   "outputs": [],
   "source": [
    "# Mediana de valores pagos"
   ]
  },
  {
   "cell_type": "code",
   "execution_count": 17,
   "metadata": {},
   "outputs": [
    {
     "data": {
      "text/plain": [
       "2106.0"
      ]
     },
     "execution_count": 17,
     "metadata": {},
     "output_type": "execute_result"
    }
   ],
   "source": [
    "pagamentos_covid19['valor_pago_em_real'].median()"
   ]
  },
  {
   "cell_type": "code",
   "execution_count": 18,
   "metadata": {},
   "outputs": [],
   "source": [
    "# Moda de valores pagos"
   ]
  },
  {
   "cell_type": "code",
   "execution_count": 19,
   "metadata": {},
   "outputs": [
    {
     "data": {
      "text/plain": [
       "0   442.50\n",
       "dtype: float64"
      ]
     },
     "execution_count": 19,
     "metadata": {},
     "output_type": "execute_result"
    }
   ],
   "source": [
    "pagamentos_covid19['valor_pago_em_real'].mode()"
   ]
  },
  {
   "cell_type": "code",
   "execution_count": 20,
   "metadata": {},
   "outputs": [],
   "source": [
    "procura = pagamentos_covid19[(pagamentos_covid19['valor_pago_em_real'] == 442.50)]"
   ]
  },
  {
   "cell_type": "code",
   "execution_count": 21,
   "metadata": {},
   "outputs": [
    {
     "data": {
      "text/plain": [
       "(342, 103)"
      ]
     },
     "execution_count": 21,
     "metadata": {},
     "output_type": "execute_result"
    }
   ],
   "source": [
    "procura.shape"
   ]
  },
  {
   "cell_type": "code",
   "execution_count": 22,
   "metadata": {},
   "outputs": [
    {
     "data": {
      "text/html": [
       "<div>\n",
       "<style scoped>\n",
       "    .dataframe tbody tr th:only-of-type {\n",
       "        vertical-align: middle;\n",
       "    }\n",
       "\n",
       "    .dataframe tbody tr th {\n",
       "        vertical-align: top;\n",
       "    }\n",
       "\n",
       "    .dataframe thead th {\n",
       "        text-align: right;\n",
       "    }\n",
       "</style>\n",
       "<table border=\"1\" class=\"dataframe\">\n",
       "  <thead>\n",
       "    <tr style=\"text-align: right;\">\n",
       "      <th></th>\n",
       "      <th>Data Emissão_x</th>\n",
       "      <th>Código Empenho</th>\n",
       "      <th>Id Empenho</th>\n",
       "      <th>Órgão_x</th>\n",
       "      <th>Unidade Gestora_x</th>\n",
       "      <th>Código Favorecido_x</th>\n",
       "      <th>Favorecido_x</th>\n",
       "      <th>Valor do Empenho Convertido pra R$</th>\n",
       "      <th>valor_pago_em_real</th>\n",
       "      <th>Valor Restos a Pagar Inscritos (R$)</th>\n",
       "      <th>Observação_x</th>\n",
       "      <th>Observação_y</th>\n",
       "      <th>Modalidade de Licitação</th>\n",
       "    </tr>\n",
       "  </thead>\n",
       "  <tbody>\n",
       "    <tr>\n",
       "      <th>216</th>\n",
       "      <td>08/04/2020</td>\n",
       "      <td>194010192082020NE000002</td>\n",
       "      <td>180100348</td>\n",
       "      <td>Fundação Nacional do Índio</td>\n",
       "      <td>COORD. REG. CENTRO-LESTE DO PARA/PA</td>\n",
       "      <td>PFCOL4010</td>\n",
       "      <td>FUNDACAO NACIONAL DO INDIO - DIARIAS DE COLABO...</td>\n",
       "      <td>10,620.00</td>\n",
       "      <td>442.50</td>\n",
       "      <td>0.00</td>\n",
       "      <td>08748.000961/2019-19 - DIARIAS DE COLABORADOR ...</td>\n",
       "      <td>PROC 001194/20 DOC GERADO PELO SCDP. PCDP 0011...</td>\n",
       "      <td>Não se Aplica</td>\n",
       "    </tr>\n",
       "    <tr>\n",
       "      <th>217</th>\n",
       "      <td>08/04/2020</td>\n",
       "      <td>194010192082020NE000002</td>\n",
       "      <td>180100348</td>\n",
       "      <td>Fundação Nacional do Índio</td>\n",
       "      <td>COORD. REG. CENTRO-LESTE DO PARA/PA</td>\n",
       "      <td>PFCOL4010</td>\n",
       "      <td>FUNDACAO NACIONAL DO INDIO - DIARIAS DE COLABO...</td>\n",
       "      <td>10,620.00</td>\n",
       "      <td>442.50</td>\n",
       "      <td>0.00</td>\n",
       "      <td>08748.000961/2019-19 - DIARIAS DE COLABORADOR ...</td>\n",
       "      <td>PROC 001569/20 DOC GERADO PELO SCDP. PCDP 0015...</td>\n",
       "      <td>Não se Aplica</td>\n",
       "    </tr>\n",
       "    <tr>\n",
       "      <th>1743</th>\n",
       "      <td>24/03/2020</td>\n",
       "      <td>120638000012020NE000019</td>\n",
       "      <td>160400393</td>\n",
       "      <td>Comando da Aeronáutica</td>\n",
       "      <td>GRUPAMENTO DE APOIO DE CAMPO GRANDE</td>\n",
       "      <td>120638</td>\n",
       "      <td>GRUPAMENTO DE APOIO DE CAMPO GRANDE</td>\n",
       "      <td>31,405.70</td>\n",
       "      <td>442.50</td>\n",
       "      <td>0.00</td>\n",
       "      <td>DIARIAS DE MILITARES DA ALA-5.</td>\n",
       "      <td>PROC 009243/20 DOC GERADO PELO SCDP. PCDP 0092...</td>\n",
       "      <td>Não se Aplica</td>\n",
       "    </tr>\n",
       "    <tr>\n",
       "      <th>1744</th>\n",
       "      <td>24/03/2020</td>\n",
       "      <td>120638000012020NE000019</td>\n",
       "      <td>160400393</td>\n",
       "      <td>Comando da Aeronáutica</td>\n",
       "      <td>GRUPAMENTO DE APOIO DE CAMPO GRANDE</td>\n",
       "      <td>120638</td>\n",
       "      <td>GRUPAMENTO DE APOIO DE CAMPO GRANDE</td>\n",
       "      <td>31,405.70</td>\n",
       "      <td>442.50</td>\n",
       "      <td>0.00</td>\n",
       "      <td>DIARIAS DE MILITARES DA ALA-5.</td>\n",
       "      <td>PROC 009241/20 DOC GERADO PELO SCDP. PCDP 0092...</td>\n",
       "      <td>Não se Aplica</td>\n",
       "    </tr>\n",
       "    <tr>\n",
       "      <th>1745</th>\n",
       "      <td>24/03/2020</td>\n",
       "      <td>120638000012020NE000019</td>\n",
       "      <td>160400393</td>\n",
       "      <td>Comando da Aeronáutica</td>\n",
       "      <td>GRUPAMENTO DE APOIO DE CAMPO GRANDE</td>\n",
       "      <td>120638</td>\n",
       "      <td>GRUPAMENTO DE APOIO DE CAMPO GRANDE</td>\n",
       "      <td>31,405.70</td>\n",
       "      <td>442.50</td>\n",
       "      <td>0.00</td>\n",
       "      <td>DIARIAS DE MILITARES DA ALA-5.</td>\n",
       "      <td>PROC 009238/20 DOC GERADO PELO SCDP. PCDP 0092...</td>\n",
       "      <td>Não se Aplica</td>\n",
       "    </tr>\n",
       "    <tr>\n",
       "      <th>...</th>\n",
       "      <td>...</td>\n",
       "      <td>...</td>\n",
       "      <td>...</td>\n",
       "      <td>...</td>\n",
       "      <td>...</td>\n",
       "      <td>...</td>\n",
       "      <td>...</td>\n",
       "      <td>...</td>\n",
       "      <td>...</td>\n",
       "      <td>...</td>\n",
       "      <td>...</td>\n",
       "      <td>...</td>\n",
       "      <td>...</td>\n",
       "    </tr>\n",
       "    <tr>\n",
       "      <th>11042</th>\n",
       "      <td>16/04/2020</td>\n",
       "      <td>194151192082020NE000032</td>\n",
       "      <td>172900706</td>\n",
       "      <td>Fundação Nacional do Índio</td>\n",
       "      <td>FUNAI-DIRETORIA DE PROTEÇÃO TERRITORIAL</td>\n",
       "      <td>PF0023COV</td>\n",
       "      <td>AUXILIO FINACEIRO - ACAO DE COMBATE AO COVID 19</td>\n",
       "      <td>130,000.00</td>\n",
       "      <td>442.50</td>\n",
       "      <td>0.00</td>\n",
       "      <td>COBRIR DESPESAS COM DIARIAS DE SERVIDOR E DE C...</td>\n",
       "      <td>PROC 001056/20 DOC GERADO PELO SCDP. PCDP 0010...</td>\n",
       "      <td>Não se Aplica</td>\n",
       "    </tr>\n",
       "    <tr>\n",
       "      <th>11055</th>\n",
       "      <td>16/04/2020</td>\n",
       "      <td>194151192082020NE000032</td>\n",
       "      <td>172900706</td>\n",
       "      <td>Fundação Nacional do Índio</td>\n",
       "      <td>FUNAI-DIRETORIA DE PROTEÇÃO TERRITORIAL</td>\n",
       "      <td>PF0023COV</td>\n",
       "      <td>AUXILIO FINACEIRO - ACAO DE COMBATE AO COVID 19</td>\n",
       "      <td>130,000.00</td>\n",
       "      <td>442.50</td>\n",
       "      <td>0.00</td>\n",
       "      <td>COBRIR DESPESAS COM DIARIAS DE SERVIDOR E DE C...</td>\n",
       "      <td>PROC 000584/20-1C DOC GERADO PELO SCDP. PCDP 0...</td>\n",
       "      <td>Não se Aplica</td>\n",
       "    </tr>\n",
       "    <tr>\n",
       "      <th>11486</th>\n",
       "      <td>09/04/2020</td>\n",
       "      <td>200117000012020NE000126</td>\n",
       "      <td>176300500</td>\n",
       "      <td>Departamento de Polícia Rodoviária Federal</td>\n",
       "      <td>SUPERINTENDENCIA REG. POL. RODV. FEDERAL-SP</td>\n",
       "      <td>-11</td>\n",
       "      <td>Informação protegida por sigilo nos termos da ...</td>\n",
       "      <td>95,121.60</td>\n",
       "      <td>442.50</td>\n",
       "      <td>0.00</td>\n",
       "      <td>Informação protegida por sigilo nos termos da ...</td>\n",
       "      <td>Informação protegida por sigilo nos termos da ...</td>\n",
       "      <td>Não se Aplica</td>\n",
       "    </tr>\n",
       "    <tr>\n",
       "      <th>12436</th>\n",
       "      <td>12/03/2020</td>\n",
       "      <td>120006000012020NE000025</td>\n",
       "      <td>155306009</td>\n",
       "      <td>Comando da Aeronáutica</td>\n",
       "      <td>GRUPAMENTO DE APOIO DE BRASILIA</td>\n",
       "      <td>120006</td>\n",
       "      <td>GRUPAMENTO DE APOIO DE BRASILIA</td>\n",
       "      <td>8,000.00</td>\n",
       "      <td>442.50</td>\n",
       "      <td>0.00</td>\n",
       "      <td>ATENDER AS NECESSIDADES DA SEFA               ...</td>\n",
       "      <td>PAGAMENTO DE DIARIA  - OPERACAO REGRESSO A PAT...</td>\n",
       "      <td>Não se Aplica</td>\n",
       "    </tr>\n",
       "    <tr>\n",
       "      <th>12441</th>\n",
       "      <td>12/03/2020</td>\n",
       "      <td>120006000012020NE000025</td>\n",
       "      <td>155306009</td>\n",
       "      <td>Comando da Aeronáutica</td>\n",
       "      <td>GRUPAMENTO DE APOIO DE BRASILIA</td>\n",
       "      <td>120006</td>\n",
       "      <td>GRUPAMENTO DE APOIO DE BRASILIA</td>\n",
       "      <td>8,000.00</td>\n",
       "      <td>442.50</td>\n",
       "      <td>0.00</td>\n",
       "      <td>ATENDER AS NECESSIDADES DA SEFA               ...</td>\n",
       "      <td>PAGAMENTO DE DIARIA  - OPERACAO REGRESSO A PAT...</td>\n",
       "      <td>Não se Aplica</td>\n",
       "    </tr>\n",
       "  </tbody>\n",
       "</table>\n",
       "<p>342 rows × 13 columns</p>\n",
       "</div>"
      ],
      "text/plain": [
       "      Data Emissão_x           Código Empenho Id Empenho  \\\n",
       "216       08/04/2020  194010192082020NE000002  180100348   \n",
       "217       08/04/2020  194010192082020NE000002  180100348   \n",
       "1743      24/03/2020  120638000012020NE000019  160400393   \n",
       "1744      24/03/2020  120638000012020NE000019  160400393   \n",
       "1745      24/03/2020  120638000012020NE000019  160400393   \n",
       "...              ...                      ...        ...   \n",
       "11042     16/04/2020  194151192082020NE000032  172900706   \n",
       "11055     16/04/2020  194151192082020NE000032  172900706   \n",
       "11486     09/04/2020  200117000012020NE000126  176300500   \n",
       "12436     12/03/2020  120006000012020NE000025  155306009   \n",
       "12441     12/03/2020  120006000012020NE000025  155306009   \n",
       "\n",
       "                                          Órgão_x  \\\n",
       "216                    Fundação Nacional do Índio   \n",
       "217                    Fundação Nacional do Índio   \n",
       "1743                       Comando da Aeronáutica   \n",
       "1744                       Comando da Aeronáutica   \n",
       "1745                       Comando da Aeronáutica   \n",
       "...                                           ...   \n",
       "11042                  Fundação Nacional do Índio   \n",
       "11055                  Fundação Nacional do Índio   \n",
       "11486  Departamento de Polícia Rodoviária Federal   \n",
       "12436                      Comando da Aeronáutica   \n",
       "12441                      Comando da Aeronáutica   \n",
       "\n",
       "                                 Unidade Gestora_x Código Favorecido_x  \\\n",
       "216            COORD. REG. CENTRO-LESTE DO PARA/PA           PFCOL4010   \n",
       "217            COORD. REG. CENTRO-LESTE DO PARA/PA           PFCOL4010   \n",
       "1743           GRUPAMENTO DE APOIO DE CAMPO GRANDE              120638   \n",
       "1744           GRUPAMENTO DE APOIO DE CAMPO GRANDE              120638   \n",
       "1745           GRUPAMENTO DE APOIO DE CAMPO GRANDE              120638   \n",
       "...                                            ...                 ...   \n",
       "11042      FUNAI-DIRETORIA DE PROTEÇÃO TERRITORIAL           PF0023COV   \n",
       "11055      FUNAI-DIRETORIA DE PROTEÇÃO TERRITORIAL           PF0023COV   \n",
       "11486  SUPERINTENDENCIA REG. POL. RODV. FEDERAL-SP                 -11   \n",
       "12436              GRUPAMENTO DE APOIO DE BRASILIA              120006   \n",
       "12441              GRUPAMENTO DE APOIO DE BRASILIA              120006   \n",
       "\n",
       "                                            Favorecido_x  \\\n",
       "216    FUNDACAO NACIONAL DO INDIO - DIARIAS DE COLABO...   \n",
       "217    FUNDACAO NACIONAL DO INDIO - DIARIAS DE COLABO...   \n",
       "1743                 GRUPAMENTO DE APOIO DE CAMPO GRANDE   \n",
       "1744                 GRUPAMENTO DE APOIO DE CAMPO GRANDE   \n",
       "1745                 GRUPAMENTO DE APOIO DE CAMPO GRANDE   \n",
       "...                                                  ...   \n",
       "11042    AUXILIO FINACEIRO - ACAO DE COMBATE AO COVID 19   \n",
       "11055    AUXILIO FINACEIRO - ACAO DE COMBATE AO COVID 19   \n",
       "11486  Informação protegida por sigilo nos termos da ...   \n",
       "12436                    GRUPAMENTO DE APOIO DE BRASILIA   \n",
       "12441                    GRUPAMENTO DE APOIO DE BRASILIA   \n",
       "\n",
       "       Valor do Empenho Convertido pra R$  valor_pago_em_real  \\\n",
       "216                             10,620.00              442.50   \n",
       "217                             10,620.00              442.50   \n",
       "1743                            31,405.70              442.50   \n",
       "1744                            31,405.70              442.50   \n",
       "1745                            31,405.70              442.50   \n",
       "...                                   ...                 ...   \n",
       "11042                          130,000.00              442.50   \n",
       "11055                          130,000.00              442.50   \n",
       "11486                           95,121.60              442.50   \n",
       "12436                            8,000.00              442.50   \n",
       "12441                            8,000.00              442.50   \n",
       "\n",
       "       Valor Restos a Pagar Inscritos (R$)  \\\n",
       "216                                   0.00   \n",
       "217                                   0.00   \n",
       "1743                                  0.00   \n",
       "1744                                  0.00   \n",
       "1745                                  0.00   \n",
       "...                                    ...   \n",
       "11042                                 0.00   \n",
       "11055                                 0.00   \n",
       "11486                                 0.00   \n",
       "12436                                 0.00   \n",
       "12441                                 0.00   \n",
       "\n",
       "                                            Observação_x  \\\n",
       "216    08748.000961/2019-19 - DIARIAS DE COLABORADOR ...   \n",
       "217    08748.000961/2019-19 - DIARIAS DE COLABORADOR ...   \n",
       "1743                      DIARIAS DE MILITARES DA ALA-5.   \n",
       "1744                      DIARIAS DE MILITARES DA ALA-5.   \n",
       "1745                      DIARIAS DE MILITARES DA ALA-5.   \n",
       "...                                                  ...   \n",
       "11042  COBRIR DESPESAS COM DIARIAS DE SERVIDOR E DE C...   \n",
       "11055  COBRIR DESPESAS COM DIARIAS DE SERVIDOR E DE C...   \n",
       "11486  Informação protegida por sigilo nos termos da ...   \n",
       "12436  ATENDER AS NECESSIDADES DA SEFA               ...   \n",
       "12441  ATENDER AS NECESSIDADES DA SEFA               ...   \n",
       "\n",
       "                                            Observação_y  \\\n",
       "216    PROC 001194/20 DOC GERADO PELO SCDP. PCDP 0011...   \n",
       "217    PROC 001569/20 DOC GERADO PELO SCDP. PCDP 0015...   \n",
       "1743   PROC 009243/20 DOC GERADO PELO SCDP. PCDP 0092...   \n",
       "1744   PROC 009241/20 DOC GERADO PELO SCDP. PCDP 0092...   \n",
       "1745   PROC 009238/20 DOC GERADO PELO SCDP. PCDP 0092...   \n",
       "...                                                  ...   \n",
       "11042  PROC 001056/20 DOC GERADO PELO SCDP. PCDP 0010...   \n",
       "11055  PROC 000584/20-1C DOC GERADO PELO SCDP. PCDP 0...   \n",
       "11486  Informação protegida por sigilo nos termos da ...   \n",
       "12436  PAGAMENTO DE DIARIA  - OPERACAO REGRESSO A PAT...   \n",
       "12441  PAGAMENTO DE DIARIA  - OPERACAO REGRESSO A PAT...   \n",
       "\n",
       "      Modalidade de Licitação  \n",
       "216             Não se Aplica  \n",
       "217             Não se Aplica  \n",
       "1743            Não se Aplica  \n",
       "1744            Não se Aplica  \n",
       "1745            Não se Aplica  \n",
       "...                       ...  \n",
       "11042           Não se Aplica  \n",
       "11055           Não se Aplica  \n",
       "11486           Não se Aplica  \n",
       "12436           Não se Aplica  \n",
       "12441           Não se Aplica  \n",
       "\n",
       "[342 rows x 13 columns]"
      ]
     },
     "execution_count": 22,
     "metadata": {},
     "output_type": "execute_result"
    }
   ],
   "source": [
    "procura[[\"Data Emissão_x\",\"Código Empenho\", \"Id Empenho\", \"Órgão_x\", \"Unidade Gestora_x\", \"Código Favorecido_x\", \"Favorecido_x\", \"Valor do Empenho Convertido pra R$\", \"valor_pago_em_real\", \"Valor Restos a Pagar Inscritos (R$)\", \"Observação_x\", \"Observação_y\",  \"Modalidade de Licitação\"]]"
   ]
  },
  {
   "cell_type": "code",
   "execution_count": null,
   "metadata": {},
   "outputs": [],
   "source": []
  },
  {
   "cell_type": "code",
   "execution_count": null,
   "metadata": {},
   "outputs": [],
   "source": []
  },
  {
   "cell_type": "code",
   "execution_count": 23,
   "metadata": {},
   "outputs": [],
   "source": [
    "# Maior valor originalmente empenhado"
   ]
  },
  {
   "cell_type": "code",
   "execution_count": 24,
   "metadata": {},
   "outputs": [
    {
     "data": {
      "text/plain": [
       "694320000.0"
      ]
     },
     "execution_count": 24,
     "metadata": {},
     "output_type": "execute_result"
    }
   ],
   "source": [
    "pagamentos_covid19['Valor do Empenho Convertido pra R$'].max()"
   ]
  },
  {
   "cell_type": "code",
   "execution_count": 25,
   "metadata": {},
   "outputs": [
    {
     "data": {
      "text/plain": [
       "Data Emissão_x                                                                03/04/2020\n",
       "Código Empenho                                                   250005000012020NE000096\n",
       "Id Empenho                                                                     176600022\n",
       "Órgão_x                                    Ministério da Saúde - Unidades com vínculo di\n",
       "Unidade Gestora_x                              DEPARTAMENTO DE LOGISTICA EM SAUDE - DLOG\n",
       "Código Favorecido_x                                                            EX2590112\n",
       "Favorecido_x                                          GLOBAL BASE DEVELOPMENT HK LIMITED\n",
       "Valor do Empenho Convertido pra R$                                        694,320,000.00\n",
       "valor_pago_em_real                                                         21,965,856.00\n",
       "Valor Restos a Pagar Inscritos (R$)                                                 0.00\n",
       "Observação_x                           ATNDER DESPESAS COM AQUISICAO DE MASCARA SMS 3...\n",
       "Observação_y                           CT 112/2020 - PAGAMENTO PARA IMPORTACAO DE MAS...\n",
       "Modalidade de Licitação                                                    Não se Aplica\n",
       "Name: 5313, dtype: object"
      ]
     },
     "execution_count": 25,
     "metadata": {},
     "output_type": "execute_result"
    }
   ],
   "source": [
    "pagamentos_covid19.loc[pagamentos_covid19['Valor do Empenho Convertido pra R$'].idxmax()][[\"Data Emissão_x\", \"Código Empenho\", \"Id Empenho\", \"Órgão_x\", \"Unidade Gestora_x\", \"Código Favorecido_x\", \"Favorecido_x\", \"Valor do Empenho Convertido pra R$\", \"valor_pago_em_real\", \"Valor Restos a Pagar Inscritos (R$)\", \"Observação_x\", \"Observação_y\", \"Modalidade de Licitação\"]]"
   ]
  },
  {
   "cell_type": "code",
   "execution_count": null,
   "metadata": {},
   "outputs": [],
   "source": []
  },
  {
   "cell_type": "code",
   "execution_count": 26,
   "metadata": {},
   "outputs": [],
   "source": [
    "# Menor valor originalmente empenhado"
   ]
  },
  {
   "cell_type": "code",
   "execution_count": 27,
   "metadata": {},
   "outputs": [
    {
     "data": {
      "text/plain": [
       "1.0"
      ]
     },
     "execution_count": 27,
     "metadata": {},
     "output_type": "execute_result"
    }
   ],
   "source": [
    "pagamentos_covid19['Valor do Empenho Convertido pra R$'].min()"
   ]
  },
  {
   "cell_type": "code",
   "execution_count": 28,
   "metadata": {},
   "outputs": [
    {
     "data": {
      "text/plain": [
       "Data Emissão_x                                                                24/03/2020\n",
       "Código Empenho                                                   155001152752020NE516283\n",
       "Id Empenho                                                                     167200532\n",
       "Órgão_x                                             Hospital de Clínicas de Porto Alegre\n",
       "Unidade Gestora_x                                   HOSPITAL DE CLINICAS DE PORTO ALEGRE\n",
       "Código Favorecido_x                                                       91154310000116\n",
       "Favorecido_x                           3 F COMERCIO DE EQUIPAMENTOS DE PROTECAO INDIV...\n",
       "Valor do Empenho Convertido pra R$                                                  1.00\n",
       "valor_pago_em_real                                                                319.00\n",
       "Valor Restos a Pagar Inscritos (R$)                                                 0.00\n",
       "Observação_x                                            MATERIAL DE PROTECAO E SEGURANCA\n",
       "Observação_y                           (DARF): RETENCAO DE TRIBUTOS, CONFORME IN NRO ...\n",
       "Modalidade de Licitação                                            Dispensa de Licitação\n",
       "Name: 1719, dtype: object"
      ]
     },
     "execution_count": 28,
     "metadata": {},
     "output_type": "execute_result"
    }
   ],
   "source": [
    "pagamentos_covid19.loc[pagamentos_covid19['Valor do Empenho Convertido pra R$'].idxmin()][[\"Data Emissão_x\",\"Código Empenho\", \"Id Empenho\", \"Órgão_x\", \"Unidade Gestora_x\", \"Código Favorecido_x\", \"Favorecido_x\", \"Valor do Empenho Convertido pra R$\", \"valor_pago_em_real\", \"Valor Restos a Pagar Inscritos (R$)\", \"Observação_x\", \"Observação_y\", \"Modalidade de Licitação\"]]"
   ]
  },
  {
   "cell_type": "code",
   "execution_count": null,
   "metadata": {},
   "outputs": [],
   "source": []
  },
  {
   "cell_type": "code",
   "execution_count": 29,
   "metadata": {},
   "outputs": [],
   "source": [
    "# Maior valor pago em real "
   ]
  },
  {
   "cell_type": "code",
   "execution_count": 30,
   "metadata": {},
   "outputs": [
    {
     "data": {
      "text/plain": [
       "440894813.73"
      ]
     },
     "execution_count": 30,
     "metadata": {},
     "output_type": "execute_result"
    }
   ],
   "source": [
    "pagamentos_covid19['valor_pago_em_real'].max()"
   ]
  },
  {
   "cell_type": "code",
   "execution_count": 31,
   "metadata": {},
   "outputs": [
    {
     "data": {
      "text/plain": [
       "Data Emissão_x                                                                09/04/2020\n",
       "Código Empenho                                                   257001000012020NE810544\n",
       "Id Empenho                                                                     174800424\n",
       "Órgão_x                                    Ministério da Saúde - Unidades com vínculo di\n",
       "Unidade Gestora_x                             DIRETORIA EXECUTIVA DO FUNDO NAC. DE SAUDE\n",
       "Código Favorecido_x                                                               257001\n",
       "Favorecido_x                                  DIRETORIA EXECUTIVA DO FUNDO NAC. DE SAUDE\n",
       "Valor do Empenho Convertido pra R$                                        440,894,813.73\n",
       "valor_pago_em_real                                                        440,894,813.73\n",
       "Valor Restos a Pagar Inscritos (R$)                                                 0.00\n",
       "Observação_x                           CORONAVIRUS (COVID-19)MUNICIPAL_PARCELA_UNICA_...\n",
       "Observação_y                           PAGAMENTO DE 65702-CORONAVIRUS (COVID-19) PARC...\n",
       "Modalidade de Licitação                                                    Não se Aplica\n",
       "Name: 12090, dtype: object"
      ]
     },
     "execution_count": 31,
     "metadata": {},
     "output_type": "execute_result"
    }
   ],
   "source": [
    "pagamentos_covid19.loc[pagamentos_covid19['valor_pago_em_real'].idxmax()][[\"Data Emissão_x\",\"Código Empenho\", \"Id Empenho\", \"Órgão_x\", \"Unidade Gestora_x\", \"Código Favorecido_x\", \"Favorecido_x\", \"Valor do Empenho Convertido pra R$\", \"valor_pago_em_real\", \"Valor Restos a Pagar Inscritos (R$)\", \"Observação_x\", \"Observação_y\",  \"Modalidade de Licitação\"]]"
   ]
  },
  {
   "cell_type": "code",
   "execution_count": null,
   "metadata": {},
   "outputs": [],
   "source": []
  },
  {
   "cell_type": "code",
   "execution_count": 32,
   "metadata": {},
   "outputs": [],
   "source": [
    "# Menor valor pago em real "
   ]
  },
  {
   "cell_type": "code",
   "execution_count": 33,
   "metadata": {},
   "outputs": [
    {
     "data": {
      "text/plain": [
       "-2500000.0"
      ]
     },
     "execution_count": 33,
     "metadata": {},
     "output_type": "execute_result"
    }
   ],
   "source": [
    "pagamentos_covid19['valor_pago_em_real'].min()"
   ]
  },
  {
   "cell_type": "code",
   "execution_count": 34,
   "metadata": {},
   "outputs": [
    {
     "data": {
      "text/plain": [
       "Data Emissão_x                                                                06/04/2020\n",
       "Código Empenho                                                   254462252012020NE800369\n",
       "Id Empenho                                                                     180300207\n",
       "Órgão_x                                                            Fundação Oswaldo Cruz\n",
       "Unidade Gestora_x                          COORDENAÇÃO GERAL DE INFRAESTRUTURA DOS CAMPI\n",
       "Código Favorecido_x                                                       04392190000190\n",
       "Favorecido_x                                              RAC ENGENHARIA E COMERCIO LTDA\n",
       "Valor do Empenho Convertido pra R$                                         56,832,173.94\n",
       "valor_pago_em_real                                                         -2,500,000.00\n",
       "Valor Restos a Pagar Inscritos (R$)                                                 0.00\n",
       "Observação_x                           CONTRATACAO EMERGENCIAL VISANDO A OBRA DE CONS...\n",
       "Observação_y                            ALTERACAO DA CLASSIFICACAO DAS NOTAS DE EMPENHO.\n",
       "Modalidade de Licitação                                            Dispensa de Licitação\n",
       "Name: 6768, dtype: object"
      ]
     },
     "execution_count": 34,
     "metadata": {},
     "output_type": "execute_result"
    }
   ],
   "source": [
    "pagamentos_covid19.loc[pagamentos_covid19['valor_pago_em_real'].idxmin()][[\"Data Emissão_x\",\"Código Empenho\", \"Id Empenho\", \"Órgão_x\", \"Unidade Gestora_x\", \"Código Favorecido_x\", \"Favorecido_x\", \"Valor do Empenho Convertido pra R$\", \"valor_pago_em_real\", \"Valor Restos a Pagar Inscritos (R$)\", \"Observação_x\", \"Observação_y\",  \"Modalidade de Licitação\"]]"
   ]
  },
  {
   "cell_type": "code",
   "execution_count": null,
   "metadata": {},
   "outputs": [],
   "source": []
  },
  {
   "cell_type": "code",
   "execution_count": 35,
   "metadata": {},
   "outputs": [],
   "source": [
    "# Agrupa a soma de valores pagos em Código Empenho+Id Empenho "
   ]
  },
  {
   "cell_type": "code",
   "execution_count": 36,
   "metadata": {},
   "outputs": [
    {
     "data": {
      "text/html": [
       "<div>\n",
       "<style scoped>\n",
       "    .dataframe tbody tr th:only-of-type {\n",
       "        vertical-align: middle;\n",
       "    }\n",
       "\n",
       "    .dataframe tbody tr th {\n",
       "        vertical-align: top;\n",
       "    }\n",
       "\n",
       "    .dataframe thead th {\n",
       "        text-align: right;\n",
       "    }\n",
       "</style>\n",
       "<table border=\"1\" class=\"dataframe\">\n",
       "  <thead>\n",
       "    <tr style=\"text-align: right;\">\n",
       "      <th></th>\n",
       "      <th>Código Empenho</th>\n",
       "      <th>Id Empenho</th>\n",
       "      <th>valor_pago_em_real</th>\n",
       "    </tr>\n",
       "  </thead>\n",
       "  <tbody>\n",
       "    <tr>\n",
       "      <th>4768</th>\n",
       "      <td>250005000012020NE000096</td>\n",
       "      <td>176600022</td>\n",
       "      <td>504,673,834.50</td>\n",
       "    </tr>\n",
       "    <tr>\n",
       "      <th>5116</th>\n",
       "      <td>257001000012020NE810544</td>\n",
       "      <td>174800424</td>\n",
       "      <td>440,894,813.73</td>\n",
       "    </tr>\n",
       "    <tr>\n",
       "      <th>4958</th>\n",
       "      <td>257001000012020NE453964</td>\n",
       "      <td>177001678</td>\n",
       "      <td>415,121,875.00</td>\n",
       "    </tr>\n",
       "    <tr>\n",
       "      <th>5101</th>\n",
       "      <td>257001000012020NE810529</td>\n",
       "      <td>178400461</td>\n",
       "      <td>360,266,482.23</td>\n",
       "    </tr>\n",
       "    <tr>\n",
       "      <th>5143</th>\n",
       "      <td>257001000012020NE810606</td>\n",
       "      <td>174400477</td>\n",
       "      <td>255,666,189.57</td>\n",
       "    </tr>\n",
       "    <tr>\n",
       "      <th>...</th>\n",
       "      <td>...</td>\n",
       "      <td>...</td>\n",
       "      <td>...</td>\n",
       "    </tr>\n",
       "    <tr>\n",
       "      <th>6850</th>\n",
       "      <td>781333000012020NE000152</td>\n",
       "      <td>184502817</td>\n",
       "      <td>0.00</td>\n",
       "    </tr>\n",
       "    <tr>\n",
       "      <th>3892</th>\n",
       "      <td>160513000012020NE800132</td>\n",
       "      <td>173001177</td>\n",
       "      <td>0.00</td>\n",
       "    </tr>\n",
       "    <tr>\n",
       "      <th>3893</th>\n",
       "      <td>160513000012020NE800133</td>\n",
       "      <td>178901079</td>\n",
       "      <td>0.00</td>\n",
       "    </tr>\n",
       "    <tr>\n",
       "      <th>7237</th>\n",
       "      <td>795500000012020NE800106</td>\n",
       "      <td>183802113</td>\n",
       "      <td>0.00</td>\n",
       "    </tr>\n",
       "    <tr>\n",
       "      <th>4492</th>\n",
       "      <td>240017000012020NE003889</td>\n",
       "      <td>177700824</td>\n",
       "      <td>-556.20</td>\n",
       "    </tr>\n",
       "  </tbody>\n",
       "</table>\n",
       "<p>7238 rows × 3 columns</p>\n",
       "</div>"
      ],
      "text/plain": [
       "               Código Empenho Id Empenho  valor_pago_em_real\n",
       "4768  250005000012020NE000096  176600022      504,673,834.50\n",
       "5116  257001000012020NE810544  174800424      440,894,813.73\n",
       "4958  257001000012020NE453964  177001678      415,121,875.00\n",
       "5101  257001000012020NE810529  178400461      360,266,482.23\n",
       "5143  257001000012020NE810606  174400477      255,666,189.57\n",
       "...                       ...        ...                 ...\n",
       "6850  781333000012020NE000152  184502817                0.00\n",
       "3892  160513000012020NE800132  173001177                0.00\n",
       "3893  160513000012020NE800133  178901079                0.00\n",
       "7237  795500000012020NE800106  183802113                0.00\n",
       "4492  240017000012020NE003889  177700824             -556.20\n",
       "\n",
       "[7238 rows x 3 columns]"
      ]
     },
     "execution_count": 36,
     "metadata": {},
     "output_type": "execute_result"
    }
   ],
   "source": [
    "pagamentos_covid19.groupby([\"Código Empenho\", \"Id Empenho\"]).valor_pago_em_real.sum().reset_index().sort_values(\"valor_pago_em_real\", ascending=False)"
   ]
  },
  {
   "cell_type": "code",
   "execution_count": 37,
   "metadata": {},
   "outputs": [],
   "source": [
    "procura = pagamentos_covid19[(pagamentos_covid19['Código Empenho'] == '257001000012020NE810544') & (pagamentos_covid19['Id Empenho'] == '174800424')]"
   ]
  },
  {
   "cell_type": "code",
   "execution_count": 38,
   "metadata": {},
   "outputs": [
    {
     "data": {
      "text/html": [
       "<div>\n",
       "<style scoped>\n",
       "    .dataframe tbody tr th:only-of-type {\n",
       "        vertical-align: middle;\n",
       "    }\n",
       "\n",
       "    .dataframe tbody tr th {\n",
       "        vertical-align: top;\n",
       "    }\n",
       "\n",
       "    .dataframe thead th {\n",
       "        text-align: right;\n",
       "    }\n",
       "</style>\n",
       "<table border=\"1\" class=\"dataframe\">\n",
       "  <thead>\n",
       "    <tr style=\"text-align: right;\">\n",
       "      <th></th>\n",
       "      <th>Data Emissão_x</th>\n",
       "      <th>Código Empenho</th>\n",
       "      <th>Id Empenho</th>\n",
       "      <th>Órgão_x</th>\n",
       "      <th>Unidade Gestora_x</th>\n",
       "      <th>Código Favorecido_x</th>\n",
       "      <th>Favorecido_x</th>\n",
       "      <th>Valor do Empenho Convertido pra R$</th>\n",
       "      <th>valor_pago_em_real</th>\n",
       "      <th>Valor Restos a Pagar Inscritos (R$)</th>\n",
       "      <th>Observação_x</th>\n",
       "      <th>Observação_y</th>\n",
       "      <th>Modalidade de Licitação</th>\n",
       "    </tr>\n",
       "  </thead>\n",
       "  <tbody>\n",
       "    <tr>\n",
       "      <th>12090</th>\n",
       "      <td>09/04/2020</td>\n",
       "      <td>257001000012020NE810544</td>\n",
       "      <td>174800424</td>\n",
       "      <td>Ministério da Saúde - Unidades com vínculo di</td>\n",
       "      <td>DIRETORIA EXECUTIVA DO FUNDO NAC. DE SAUDE</td>\n",
       "      <td>257001</td>\n",
       "      <td>DIRETORIA EXECUTIVA DO FUNDO NAC. DE SAUDE</td>\n",
       "      <td>440,894,813.73</td>\n",
       "      <td>440,894,813.73</td>\n",
       "      <td>0.00</td>\n",
       "      <td>CORONAVIRUS (COVID-19)MUNICIPAL_PARCELA_UNICA_...</td>\n",
       "      <td>PAGAMENTO DE 65702-CORONAVIRUS (COVID-19) PARC...</td>\n",
       "      <td>Não se Aplica</td>\n",
       "    </tr>\n",
       "  </tbody>\n",
       "</table>\n",
       "</div>"
      ],
      "text/plain": [
       "      Data Emissão_x           Código Empenho Id Empenho  \\\n",
       "12090     09/04/2020  257001000012020NE810544  174800424   \n",
       "\n",
       "                                             Órgão_x  \\\n",
       "12090  Ministério da Saúde - Unidades com vínculo di   \n",
       "\n",
       "                                Unidade Gestora_x Código Favorecido_x  \\\n",
       "12090  DIRETORIA EXECUTIVA DO FUNDO NAC. DE SAUDE              257001   \n",
       "\n",
       "                                     Favorecido_x  \\\n",
       "12090  DIRETORIA EXECUTIVA DO FUNDO NAC. DE SAUDE   \n",
       "\n",
       "       Valor do Empenho Convertido pra R$  valor_pago_em_real  \\\n",
       "12090                      440,894,813.73      440,894,813.73   \n",
       "\n",
       "       Valor Restos a Pagar Inscritos (R$)  \\\n",
       "12090                                 0.00   \n",
       "\n",
       "                                            Observação_x  \\\n",
       "12090  CORONAVIRUS (COVID-19)MUNICIPAL_PARCELA_UNICA_...   \n",
       "\n",
       "                                            Observação_y  \\\n",
       "12090  PAGAMENTO DE 65702-CORONAVIRUS (COVID-19) PARC...   \n",
       "\n",
       "      Modalidade de Licitação  \n",
       "12090           Não se Aplica  "
      ]
     },
     "execution_count": 38,
     "metadata": {},
     "output_type": "execute_result"
    }
   ],
   "source": [
    "procura[[\"Data Emissão_x\",\"Código Empenho\", \"Id Empenho\", \"Órgão_x\", \"Unidade Gestora_x\", \"Código Favorecido_x\", \"Favorecido_x\", \"Valor do Empenho Convertido pra R$\", \"valor_pago_em_real\", \"Valor Restos a Pagar Inscritos (R$)\", \"Observação_x\", \"Observação_y\",  \"Modalidade de Licitação\"]]"
   ]
  },
  {
   "cell_type": "code",
   "execution_count": null,
   "metadata": {},
   "outputs": [],
   "source": []
  },
  {
   "cell_type": "code",
   "execution_count": null,
   "metadata": {},
   "outputs": [],
   "source": []
  },
  {
   "cell_type": "code",
   "execution_count": 39,
   "metadata": {},
   "outputs": [],
   "source": [
    "# Agrupa a soma de valores pagos em Unidade Gestora - 20 primeiros"
   ]
  },
  {
   "cell_type": "code",
   "execution_count": 40,
   "metadata": {},
   "outputs": [
    {
     "data": {
      "text/html": [
       "<div>\n",
       "<style scoped>\n",
       "    .dataframe tbody tr th:only-of-type {\n",
       "        vertical-align: middle;\n",
       "    }\n",
       "\n",
       "    .dataframe tbody tr th {\n",
       "        vertical-align: top;\n",
       "    }\n",
       "\n",
       "    .dataframe thead th {\n",
       "        text-align: right;\n",
       "    }\n",
       "</style>\n",
       "<table border=\"1\" class=\"dataframe\">\n",
       "  <thead>\n",
       "    <tr style=\"text-align: right;\">\n",
       "      <th></th>\n",
       "      <th>Unidade Gestora_x</th>\n",
       "      <th>valor_pago_em_real</th>\n",
       "    </tr>\n",
       "  </thead>\n",
       "  <tbody>\n",
       "    <tr>\n",
       "      <th>380</th>\n",
       "      <td>DIRETORIA EXECUTIVA DO FUNDO NAC. DE SAUDE</td>\n",
       "      <td>10,084,137,123.89</td>\n",
       "    </tr>\n",
       "    <tr>\n",
       "      <th>457</th>\n",
       "      <td>FUNDO NACIONAL DE ASSISTENCIA SOCIAL</td>\n",
       "      <td>1,588,224,892.62</td>\n",
       "    </tr>\n",
       "    <tr>\n",
       "      <th>372</th>\n",
       "      <td>DEPARTAMENTO DE LOGISTICA EM SAUDE - DLOG</td>\n",
       "      <td>852,408,422.55</td>\n",
       "    </tr>\n",
       "    <tr>\n",
       "      <th>454</th>\n",
       "      <td>FUNDAÇÃO OSWALDO CRUZ</td>\n",
       "      <td>194,750,952.16</td>\n",
       "    </tr>\n",
       "    <tr>\n",
       "      <th>576</th>\n",
       "      <td>SECR. DE GESTAO DO TRAB. E DA EDUC. NA SAUDE</td>\n",
       "      <td>75,301,287.00</td>\n",
       "    </tr>\n",
       "    <tr>\n",
       "      <th>321</th>\n",
       "      <td>COORDENACAO-GERAL DE GESTAO DE PESSOAS</td>\n",
       "      <td>72,510,569.52</td>\n",
       "    </tr>\n",
       "    <tr>\n",
       "      <th>554</th>\n",
       "      <td>INSTITUTO DE TECNOLOGIA EM IMUNOBIOLOGICOS</td>\n",
       "      <td>72,064,697.98</td>\n",
       "    </tr>\n",
       "    <tr>\n",
       "      <th>329</th>\n",
       "      <td>COORDENAÇÃO GERAL DE INFRAESTRUTURA DOS CAMPI</td>\n",
       "      <td>58,418,657.99</td>\n",
       "    </tr>\n",
       "    <tr>\n",
       "      <th>577</th>\n",
       "      <td>SECRETARIA NACIONAL DE AVIAÇÃO CIVIL</td>\n",
       "      <td>48,025,613.58</td>\n",
       "    </tr>\n",
       "    <tr>\n",
       "      <th>458</th>\n",
       "      <td>FUNDO NACIONAL DE SEGURANÇA PÚBLICA - FNSP</td>\n",
       "      <td>38,235,377.59</td>\n",
       "    </tr>\n",
       "    <tr>\n",
       "      <th>475</th>\n",
       "      <td>HOSPITAL DE CLINICAS DE PORTO ALEGRE</td>\n",
       "      <td>26,157,375.46</td>\n",
       "    </tr>\n",
       "    <tr>\n",
       "      <th>270</th>\n",
       "      <td>COMANDO LOGISTICO</td>\n",
       "      <td>25,017,989.87</td>\n",
       "    </tr>\n",
       "    <tr>\n",
       "      <th>204</th>\n",
       "      <td>CENTRO DE AQUISIÇÕES ESPECÍFICAS</td>\n",
       "      <td>22,029,468.47</td>\n",
       "    </tr>\n",
       "    <tr>\n",
       "      <th>165</th>\n",
       "      <td>AGENCIA BRASILEIRA DE COOPERACAO - ABC</td>\n",
       "      <td>22,000,000.00</td>\n",
       "    </tr>\n",
       "    <tr>\n",
       "      <th>575</th>\n",
       "      <td>PRO-REITORIA DE PESQUISA/UFMG</td>\n",
       "      <td>19,416,329.30</td>\n",
       "    </tr>\n",
       "    <tr>\n",
       "      <th>551</th>\n",
       "      <td>INST.NACIONAL DE INFECTOLOGIA EVANDRO CHAGAS</td>\n",
       "      <td>17,622,882.03</td>\n",
       "    </tr>\n",
       "    <tr>\n",
       "      <th>456</th>\n",
       "      <td>FUNDO NAC.DE DESENV. CIENTIFICO E TECNOLOGICO</td>\n",
       "      <td>17,486,033.13</td>\n",
       "    </tr>\n",
       "    <tr>\n",
       "      <th>429</th>\n",
       "      <td>ESCRITORIO FINANCEIRO EM NOVA IORQUE</td>\n",
       "      <td>13,855,669.00</td>\n",
       "    </tr>\n",
       "    <tr>\n",
       "      <th>301</th>\n",
       "      <td>CONSULADO-GERAL DO BRASIL EM LISBOA</td>\n",
       "      <td>9,901,789.05</td>\n",
       "    </tr>\n",
       "    <tr>\n",
       "      <th>574</th>\n",
       "      <td>PRO-REITORIA DE PESQ. E POS-GRADUACAO DA UFPE</td>\n",
       "      <td>8,150,841.77</td>\n",
       "    </tr>\n",
       "  </tbody>\n",
       "</table>\n",
       "</div>"
      ],
      "text/plain": [
       "                                 Unidade Gestora_x  valor_pago_em_real\n",
       "380     DIRETORIA EXECUTIVA DO FUNDO NAC. DE SAUDE   10,084,137,123.89\n",
       "457           FUNDO NACIONAL DE ASSISTENCIA SOCIAL    1,588,224,892.62\n",
       "372      DEPARTAMENTO DE LOGISTICA EM SAUDE - DLOG      852,408,422.55\n",
       "454                          FUNDAÇÃO OSWALDO CRUZ      194,750,952.16\n",
       "576   SECR. DE GESTAO DO TRAB. E DA EDUC. NA SAUDE       75,301,287.00\n",
       "321         COORDENACAO-GERAL DE GESTAO DE PESSOAS       72,510,569.52\n",
       "554     INSTITUTO DE TECNOLOGIA EM IMUNOBIOLOGICOS       72,064,697.98\n",
       "329  COORDENAÇÃO GERAL DE INFRAESTRUTURA DOS CAMPI       58,418,657.99\n",
       "577           SECRETARIA NACIONAL DE AVIAÇÃO CIVIL       48,025,613.58\n",
       "458     FUNDO NACIONAL DE SEGURANÇA PÚBLICA - FNSP       38,235,377.59\n",
       "475           HOSPITAL DE CLINICAS DE PORTO ALEGRE       26,157,375.46\n",
       "270                              COMANDO LOGISTICO       25,017,989.87\n",
       "204               CENTRO DE AQUISIÇÕES ESPECÍFICAS       22,029,468.47\n",
       "165         AGENCIA BRASILEIRA DE COOPERACAO - ABC       22,000,000.00\n",
       "575                  PRO-REITORIA DE PESQUISA/UFMG       19,416,329.30\n",
       "551   INST.NACIONAL DE INFECTOLOGIA EVANDRO CHAGAS       17,622,882.03\n",
       "456  FUNDO NAC.DE DESENV. CIENTIFICO E TECNOLOGICO       17,486,033.13\n",
       "429           ESCRITORIO FINANCEIRO EM NOVA IORQUE       13,855,669.00\n",
       "301            CONSULADO-GERAL DO BRASIL EM LISBOA        9,901,789.05\n",
       "574  PRO-REITORIA DE PESQ. E POS-GRADUACAO DA UFPE        8,150,841.77"
      ]
     },
     "execution_count": 40,
     "metadata": {},
     "output_type": "execute_result"
    }
   ],
   "source": [
    "pagamentos_covid19.groupby([\"Unidade Gestora_x\"]).valor_pago_em_real.sum().reset_index().sort_values(\"valor_pago_em_real\", ascending=False).head(20)"
   ]
  },
  {
   "cell_type": "code",
   "execution_count": 41,
   "metadata": {},
   "outputs": [],
   "source": [
    "# Salva em CSV para gráfico"
   ]
  },
  {
   "cell_type": "code",
   "execution_count": 42,
   "metadata": {},
   "outputs": [],
   "source": [
    "salva = pagamentos_covid19.groupby([\"Unidade Gestora_x\"]).valor_pago_em_real.sum().reset_index().sort_values(\"valor_pago_em_real\", ascending=False)"
   ]
  },
  {
   "cell_type": "code",
   "execution_count": 43,
   "metadata": {},
   "outputs": [
    {
     "name": "stdout",
     "output_type": "stream",
     "text": [
      "<class 'pandas.core.frame.DataFrame'>\n",
      "Int64Index: 658 entries, 380 to 546\n",
      "Data columns (total 2 columns):\n",
      " #   Column              Non-Null Count  Dtype  \n",
      "---  ------              --------------  -----  \n",
      " 0   Unidade Gestora_x   658 non-null    object \n",
      " 1   valor_pago_em_real  658 non-null    float64\n",
      "dtypes: float64(1), object(1)\n",
      "memory usage: 15.4+ KB\n"
     ]
    }
   ],
   "source": [
    "salva.info()"
   ]
  },
  {
   "cell_type": "code",
   "execution_count": 44,
   "metadata": {},
   "outputs": [],
   "source": [
    "salva.to_csv('resultados/graficos/soma_ordenada_unidade_gestora_pagamentos_feitos_de_empenhos_covid19_ate_22_junho_2020.csv', index=False)"
   ]
  },
  {
   "cell_type": "code",
   "execution_count": null,
   "metadata": {},
   "outputs": [],
   "source": []
  },
  {
   "cell_type": "code",
   "execution_count": 45,
   "metadata": {},
   "outputs": [],
   "source": [
    "# Detalha DEPARTAMENTO DE LOGISTICA EM SAUDE - DLOG"
   ]
  },
  {
   "cell_type": "code",
   "execution_count": 46,
   "metadata": {},
   "outputs": [
    {
     "data": {
      "text/html": [
       "<div>\n",
       "<style scoped>\n",
       "    .dataframe tbody tr th:only-of-type {\n",
       "        vertical-align: middle;\n",
       "    }\n",
       "\n",
       "    .dataframe tbody tr th {\n",
       "        vertical-align: top;\n",
       "    }\n",
       "\n",
       "    .dataframe thead th {\n",
       "        text-align: right;\n",
       "    }\n",
       "</style>\n",
       "<table border=\"1\" class=\"dataframe\">\n",
       "  <thead>\n",
       "    <tr style=\"text-align: right;\">\n",
       "      <th></th>\n",
       "      <th>Favorecido_x</th>\n",
       "      <th>valor_pago_em_real</th>\n",
       "    </tr>\n",
       "  </thead>\n",
       "  <tbody>\n",
       "    <tr>\n",
       "      <th>6</th>\n",
       "      <td>GLOBAL BASE DEVELOPMENT HK LIMITED</td>\n",
       "      <td>504,673,834.50</td>\n",
       "    </tr>\n",
       "    <tr>\n",
       "      <th>8</th>\n",
       "      <td>INTERMED EQUIPAMENTO MEDICO HOSPITALAR LTDA</td>\n",
       "      <td>141,900,000.00</td>\n",
       "    </tr>\n",
       "    <tr>\n",
       "      <th>15</th>\n",
       "      <td>MAGNAMED TECNOLOGIA MEDICA S/A</td>\n",
       "      <td>129,020,160.00</td>\n",
       "    </tr>\n",
       "    <tr>\n",
       "      <th>4</th>\n",
       "      <td>DESCARPACK DESCARTAVEIS DO BRASIL LTDA</td>\n",
       "      <td>30,544,000.00</td>\n",
       "    </tr>\n",
       "    <tr>\n",
       "      <th>12</th>\n",
       "      <td>LEISTUNG EQUIPAMENTOS LTDA.</td>\n",
       "      <td>18,037,000.00</td>\n",
       "    </tr>\n",
       "    <tr>\n",
       "      <th>11</th>\n",
       "      <td>KTK INDUSTRIA, IMPORTACAO, EXPORTACAO E COMERC...</td>\n",
       "      <td>13,440,000.00</td>\n",
       "    </tr>\n",
       "    <tr>\n",
       "      <th>13</th>\n",
       "      <td>LIMA &amp; PERGHER INDUSTRIA E COMERCIO S/A</td>\n",
       "      <td>6,387,015.20</td>\n",
       "    </tr>\n",
       "    <tr>\n",
       "      <th>16</th>\n",
       "      <td>NACIONAL COMERCIAL HOSPITALAR S.A.</td>\n",
       "      <td>2,280,000.00</td>\n",
       "    </tr>\n",
       "    <tr>\n",
       "      <th>5</th>\n",
       "      <td>FUTURA DISTRIBUIDORA DE MEDICAMENTOS E PRODUTO...</td>\n",
       "      <td>2,040,000.00</td>\n",
       "    </tr>\n",
       "    <tr>\n",
       "      <th>0</th>\n",
       "      <td>3M DO BRASIL LTDA</td>\n",
       "      <td>1,795,000.00</td>\n",
       "    </tr>\n",
       "    <tr>\n",
       "      <th>19</th>\n",
       "      <td>PROSANIS INDUSTRIA E COMERCIO DE PRODUTOS MEDI...</td>\n",
       "      <td>700,000.00</td>\n",
       "    </tr>\n",
       "    <tr>\n",
       "      <th>22</th>\n",
       "      <td>S.M GUIMARAES</td>\n",
       "      <td>406,200.00</td>\n",
       "    </tr>\n",
       "    <tr>\n",
       "      <th>21</th>\n",
       "      <td>ROCHA LOPES REPRESENTACAO &amp; COMERCIO DE PRODUT...</td>\n",
       "      <td>347,900.00</td>\n",
       "    </tr>\n",
       "    <tr>\n",
       "      <th>10</th>\n",
       "      <td>JOAOMED COMERCIO DE MATERIAIS CIRURGICOS S/A</td>\n",
       "      <td>248,000.00</td>\n",
       "    </tr>\n",
       "    <tr>\n",
       "      <th>20</th>\n",
       "      <td>REAGEN PRODUTOS PARA LABORATORIOS EIRELI</td>\n",
       "      <td>216,244.15</td>\n",
       "    </tr>\n",
       "    <tr>\n",
       "      <th>7</th>\n",
       "      <td>INDALABOR INDAIA LABORATORIO FARMACEUTICO LTDA</td>\n",
       "      <td>124,000.00</td>\n",
       "    </tr>\n",
       "    <tr>\n",
       "      <th>1</th>\n",
       "      <td>A C L ASSISTENCIA E COMERCIO DE PRODUTOS PARA ...</td>\n",
       "      <td>64,498.80</td>\n",
       "    </tr>\n",
       "    <tr>\n",
       "      <th>3</th>\n",
       "      <td>CONCESSIONARIA DO AEROPORTO INTERNACIONAL DE G...</td>\n",
       "      <td>54,063.48</td>\n",
       "    </tr>\n",
       "    <tr>\n",
       "      <th>9</th>\n",
       "      <td>JKLAB PRODUTOS E SOLUCOES PARA LABORATORIOS LTDA</td>\n",
       "      <td>47,505.72</td>\n",
       "    </tr>\n",
       "    <tr>\n",
       "      <th>14</th>\n",
       "      <td>MACMED SOLUCOES EM SAUDE LTDA.</td>\n",
       "      <td>36,000.00</td>\n",
       "    </tr>\n",
       "  </tbody>\n",
       "</table>\n",
       "</div>"
      ],
      "text/plain": [
       "                                         Favorecido_x  valor_pago_em_real\n",
       "6                  GLOBAL BASE DEVELOPMENT HK LIMITED      504,673,834.50\n",
       "8         INTERMED EQUIPAMENTO MEDICO HOSPITALAR LTDA      141,900,000.00\n",
       "15                     MAGNAMED TECNOLOGIA MEDICA S/A      129,020,160.00\n",
       "4              DESCARPACK DESCARTAVEIS DO BRASIL LTDA       30,544,000.00\n",
       "12                        LEISTUNG EQUIPAMENTOS LTDA.       18,037,000.00\n",
       "11  KTK INDUSTRIA, IMPORTACAO, EXPORTACAO E COMERC...       13,440,000.00\n",
       "13            LIMA & PERGHER INDUSTRIA E COMERCIO S/A        6,387,015.20\n",
       "16                 NACIONAL COMERCIAL HOSPITALAR S.A.        2,280,000.00\n",
       "5   FUTURA DISTRIBUIDORA DE MEDICAMENTOS E PRODUTO...        2,040,000.00\n",
       "0                                   3M DO BRASIL LTDA        1,795,000.00\n",
       "19  PROSANIS INDUSTRIA E COMERCIO DE PRODUTOS MEDI...          700,000.00\n",
       "22                                      S.M GUIMARAES          406,200.00\n",
       "21  ROCHA LOPES REPRESENTACAO & COMERCIO DE PRODUT...          347,900.00\n",
       "10       JOAOMED COMERCIO DE MATERIAIS CIRURGICOS S/A          248,000.00\n",
       "20           REAGEN PRODUTOS PARA LABORATORIOS EIRELI          216,244.15\n",
       "7      INDALABOR INDAIA LABORATORIO FARMACEUTICO LTDA          124,000.00\n",
       "1   A C L ASSISTENCIA E COMERCIO DE PRODUTOS PARA ...           64,498.80\n",
       "3   CONCESSIONARIA DO AEROPORTO INTERNACIONAL DE G...           54,063.48\n",
       "9    JKLAB PRODUTOS E SOLUCOES PARA LABORATORIOS LTDA           47,505.72\n",
       "14                     MACMED SOLUCOES EM SAUDE LTDA.           36,000.00"
      ]
     },
     "execution_count": 46,
     "metadata": {},
     "output_type": "execute_result"
    }
   ],
   "source": [
    "procura = pagamentos_covid19[(pagamentos_covid19['Unidade Gestora_x'] == 'DEPARTAMENTO DE LOGISTICA EM SAUDE - DLOG') ]\n",
    "procura.groupby([\"Favorecido_x\"]).valor_pago_em_real.sum().reset_index().sort_values(\"valor_pago_em_real\", ascending=False).head(20)"
   ]
  },
  {
   "cell_type": "code",
   "execution_count": 47,
   "metadata": {},
   "outputs": [
    {
     "data": {
      "text/plain": [
       "852408422.5500001"
      ]
     },
     "execution_count": 47,
     "metadata": {},
     "output_type": "execute_result"
    }
   ],
   "source": [
    "procura['valor_pago_em_real'].sum()"
   ]
  },
  {
   "cell_type": "code",
   "execution_count": null,
   "metadata": {},
   "outputs": [],
   "source": []
  },
  {
   "cell_type": "code",
   "execution_count": 48,
   "metadata": {},
   "outputs": [],
   "source": [
    "# FUNDO NACIONAL DE ASSISTENCIA SOCIAL"
   ]
  },
  {
   "cell_type": "code",
   "execution_count": 49,
   "metadata": {},
   "outputs": [
    {
     "data": {
      "text/html": [
       "<div>\n",
       "<style scoped>\n",
       "    .dataframe tbody tr th:only-of-type {\n",
       "        vertical-align: middle;\n",
       "    }\n",
       "\n",
       "    .dataframe tbody tr th {\n",
       "        vertical-align: top;\n",
       "    }\n",
       "\n",
       "    .dataframe thead th {\n",
       "        text-align: right;\n",
       "    }\n",
       "</style>\n",
       "<table border=\"1\" class=\"dataframe\">\n",
       "  <thead>\n",
       "    <tr style=\"text-align: right;\">\n",
       "      <th></th>\n",
       "      <th>Favorecido_x</th>\n",
       "      <th>valor_pago_em_real</th>\n",
       "    </tr>\n",
       "  </thead>\n",
       "  <tbody>\n",
       "    <tr>\n",
       "      <th>0</th>\n",
       "      <td>FUNDO NACIONAL DE ASSISTENCIA SOCIAL</td>\n",
       "      <td>1,588,224,892.62</td>\n",
       "    </tr>\n",
       "  </tbody>\n",
       "</table>\n",
       "</div>"
      ],
      "text/plain": [
       "                           Favorecido_x  valor_pago_em_real\n",
       "0  FUNDO NACIONAL DE ASSISTENCIA SOCIAL    1,588,224,892.62"
      ]
     },
     "execution_count": 49,
     "metadata": {},
     "output_type": "execute_result"
    }
   ],
   "source": [
    "procura = pagamentos_covid19[(pagamentos_covid19['Unidade Gestora_x'] == 'FUNDO NACIONAL DE ASSISTENCIA SOCIAL') ]\n",
    "procura.groupby([\"Favorecido_x\"]).valor_pago_em_real.sum().reset_index().sort_values(\"valor_pago_em_real\", ascending=False).head(20)"
   ]
  },
  {
   "cell_type": "code",
   "execution_count": null,
   "metadata": {},
   "outputs": [],
   "source": []
  },
  {
   "cell_type": "code",
   "execution_count": null,
   "metadata": {},
   "outputs": [],
   "source": []
  },
  {
   "cell_type": "code",
   "execution_count": 50,
   "metadata": {},
   "outputs": [],
   "source": [
    "# Agrupa a soma de valores pagos em Gestão - 20 primeiros"
   ]
  },
  {
   "cell_type": "code",
   "execution_count": 51,
   "metadata": {},
   "outputs": [
    {
     "data": {
      "text/html": [
       "<div>\n",
       "<style scoped>\n",
       "    .dataframe tbody tr th:only-of-type {\n",
       "        vertical-align: middle;\n",
       "    }\n",
       "\n",
       "    .dataframe tbody tr th {\n",
       "        vertical-align: top;\n",
       "    }\n",
       "\n",
       "    .dataframe thead th {\n",
       "        text-align: right;\n",
       "    }\n",
       "</style>\n",
       "<table border=\"1\" class=\"dataframe\">\n",
       "  <thead>\n",
       "    <tr style=\"text-align: right;\">\n",
       "      <th></th>\n",
       "      <th>Gestão_x</th>\n",
       "      <th>valor_pago_em_real</th>\n",
       "    </tr>\n",
       "  </thead>\n",
       "  <tbody>\n",
       "    <tr>\n",
       "      <th>38</th>\n",
       "      <td>TESOURO NACIONAL</td>\n",
       "      <td>12,954,305,038.83</td>\n",
       "    </tr>\n",
       "    <tr>\n",
       "      <th>4</th>\n",
       "      <td>FUNDACAO OSWALDO CRUZ</td>\n",
       "      <td>348,786,831.86</td>\n",
       "    </tr>\n",
       "    <tr>\n",
       "      <th>2</th>\n",
       "      <td>EMPRESA BRASILEIRA DE SERVICOS HOSPITALARES</td>\n",
       "      <td>37,673,260.64</td>\n",
       "    </tr>\n",
       "    <tr>\n",
       "      <th>17</th>\n",
       "      <td>HOSPITAL DE CLINICAS DE PORTO ALEGRE</td>\n",
       "      <td>26,157,375.46</td>\n",
       "    </tr>\n",
       "    <tr>\n",
       "      <th>0</th>\n",
       "      <td>COMPANHIA NACIONAL DE ABASTECIMENTO</td>\n",
       "      <td>22,599,848.97</td>\n",
       "    </tr>\n",
       "    <tr>\n",
       "      <th>48</th>\n",
       "      <td>UNIVERSIDADE FEDERAL DE MINAS GERAIS</td>\n",
       "      <td>19,435,671.22</td>\n",
       "    </tr>\n",
       "    <tr>\n",
       "      <th>50</th>\n",
       "      <td>UNIVERSIDADE FEDERAL DE PERNAMBUCO</td>\n",
       "      <td>8,374,944.73</td>\n",
       "    </tr>\n",
       "    <tr>\n",
       "      <th>21</th>\n",
       "      <td>INST.FED.DE EDUC.,CIENC.E TEC.DE GOIAS</td>\n",
       "      <td>7,895,679.66</td>\n",
       "    </tr>\n",
       "    <tr>\n",
       "      <th>5</th>\n",
       "      <td>FUNDACAO UNIVERSIDADE DE BRASILIA</td>\n",
       "      <td>6,571,954.00</td>\n",
       "    </tr>\n",
       "    <tr>\n",
       "      <th>18</th>\n",
       "      <td>HOSPITAL NOSSA SENHORA DA CONCEICAO S/A</td>\n",
       "      <td>6,555,487.45</td>\n",
       "    </tr>\n",
       "    <tr>\n",
       "      <th>9</th>\n",
       "      <td>FUNDACAO UNIVERSIDADE FEDERAL DE PELOTAS</td>\n",
       "      <td>5,302,497.60</td>\n",
       "    </tr>\n",
       "    <tr>\n",
       "      <th>3</th>\n",
       "      <td>FUNDACAO NACIONAL DO INDIO</td>\n",
       "      <td>5,225,424.95</td>\n",
       "    </tr>\n",
       "    <tr>\n",
       "      <th>42</th>\n",
       "      <td>UNIVERSIDADE FEDERAL DE ALAGOAS</td>\n",
       "      <td>4,714,970.00</td>\n",
       "    </tr>\n",
       "    <tr>\n",
       "      <th>59</th>\n",
       "      <td>UNIVERSIDADE FEDERAL DO RIO DE JANEIRO</td>\n",
       "      <td>4,044,599.98</td>\n",
       "    </tr>\n",
       "    <tr>\n",
       "      <th>54</th>\n",
       "      <td>UNIVERSIDADE FEDERAL DE SAO PAULO</td>\n",
       "      <td>3,711,656.86</td>\n",
       "    </tr>\n",
       "    <tr>\n",
       "      <th>61</th>\n",
       "      <td>UNIVERSIDADE FEDERAL DO RIO GRANDE DO NORTE</td>\n",
       "      <td>2,214,618.06</td>\n",
       "    </tr>\n",
       "    <tr>\n",
       "      <th>13</th>\n",
       "      <td>FUNDACAO UNIVERSIDADE FEDERAL DE UBERLANDIA</td>\n",
       "      <td>1,960,385.10</td>\n",
       "    </tr>\n",
       "    <tr>\n",
       "      <th>12</th>\n",
       "      <td>FUNDACAO UNIVERSIDADE FEDERAL DE SERGIPE</td>\n",
       "      <td>1,820,000.00</td>\n",
       "    </tr>\n",
       "    <tr>\n",
       "      <th>56</th>\n",
       "      <td>UNIVERSIDADE FEDERAL DO CEARA</td>\n",
       "      <td>1,488,678.00</td>\n",
       "    </tr>\n",
       "    <tr>\n",
       "      <th>16</th>\n",
       "      <td>FUNDACAO UNIVERSIDADE FEDERAL DO TOCANTINS</td>\n",
       "      <td>1,345,000.00</td>\n",
       "    </tr>\n",
       "  </tbody>\n",
       "</table>\n",
       "</div>"
      ],
      "text/plain": [
       "                                       Gestão_x  valor_pago_em_real\n",
       "38                             TESOURO NACIONAL   12,954,305,038.83\n",
       "4                         FUNDACAO OSWALDO CRUZ      348,786,831.86\n",
       "2   EMPRESA BRASILEIRA DE SERVICOS HOSPITALARES       37,673,260.64\n",
       "17         HOSPITAL DE CLINICAS DE PORTO ALEGRE       26,157,375.46\n",
       "0           COMPANHIA NACIONAL DE ABASTECIMENTO       22,599,848.97\n",
       "48         UNIVERSIDADE FEDERAL DE MINAS GERAIS       19,435,671.22\n",
       "50           UNIVERSIDADE FEDERAL DE PERNAMBUCO        8,374,944.73\n",
       "21       INST.FED.DE EDUC.,CIENC.E TEC.DE GOIAS        7,895,679.66\n",
       "5             FUNDACAO UNIVERSIDADE DE BRASILIA        6,571,954.00\n",
       "18      HOSPITAL NOSSA SENHORA DA CONCEICAO S/A        6,555,487.45\n",
       "9      FUNDACAO UNIVERSIDADE FEDERAL DE PELOTAS        5,302,497.60\n",
       "3                    FUNDACAO NACIONAL DO INDIO        5,225,424.95\n",
       "42              UNIVERSIDADE FEDERAL DE ALAGOAS        4,714,970.00\n",
       "59       UNIVERSIDADE FEDERAL DO RIO DE JANEIRO        4,044,599.98\n",
       "54            UNIVERSIDADE FEDERAL DE SAO PAULO        3,711,656.86\n",
       "61  UNIVERSIDADE FEDERAL DO RIO GRANDE DO NORTE        2,214,618.06\n",
       "13  FUNDACAO UNIVERSIDADE FEDERAL DE UBERLANDIA        1,960,385.10\n",
       "12     FUNDACAO UNIVERSIDADE FEDERAL DE SERGIPE        1,820,000.00\n",
       "56                UNIVERSIDADE FEDERAL DO CEARA        1,488,678.00\n",
       "16   FUNDACAO UNIVERSIDADE FEDERAL DO TOCANTINS        1,345,000.00"
      ]
     },
     "execution_count": 51,
     "metadata": {},
     "output_type": "execute_result"
    }
   ],
   "source": [
    "pagamentos_covid19.groupby([\"Gestão_x\"]).valor_pago_em_real.sum().reset_index().sort_values(\"valor_pago_em_real\", ascending=False).head(20)"
   ]
  },
  {
   "cell_type": "code",
   "execution_count": null,
   "metadata": {},
   "outputs": [],
   "source": []
  },
  {
   "cell_type": "code",
   "execution_count": 52,
   "metadata": {},
   "outputs": [],
   "source": [
    "# Agrupa a soma de valores pagos em Favorecido - 20 primeiros"
   ]
  },
  {
   "cell_type": "code",
   "execution_count": 53,
   "metadata": {},
   "outputs": [
    {
     "data": {
      "text/html": [
       "<div>\n",
       "<style scoped>\n",
       "    .dataframe tbody tr th:only-of-type {\n",
       "        vertical-align: middle;\n",
       "    }\n",
       "\n",
       "    .dataframe tbody tr th {\n",
       "        vertical-align: top;\n",
       "    }\n",
       "\n",
       "    .dataframe thead th {\n",
       "        text-align: right;\n",
       "    }\n",
       "</style>\n",
       "<table border=\"1\" class=\"dataframe\">\n",
       "  <thead>\n",
       "    <tr style=\"text-align: right;\">\n",
       "      <th></th>\n",
       "      <th>Favorecido_x</th>\n",
       "      <th>Código Favorecido_x</th>\n",
       "      <th>valor_pago_em_real</th>\n",
       "    </tr>\n",
       "  </thead>\n",
       "  <tbody>\n",
       "    <tr>\n",
       "      <th>784</th>\n",
       "      <td>DIRETORIA EXECUTIVA DO FUNDO NAC. DE SAUDE</td>\n",
       "      <td>257001</td>\n",
       "      <td>8,169,438,190.89</td>\n",
       "    </tr>\n",
       "    <tr>\n",
       "      <th>1911</th>\n",
       "      <td>FUNDO NACIONAL DE ASSISTENCIA SOCIAL</td>\n",
       "      <td>330013</td>\n",
       "      <td>1,588,224,892.62</td>\n",
       "    </tr>\n",
       "    <tr>\n",
       "      <th>1977</th>\n",
       "      <td>GLOBAL BASE DEVELOPMENT HK LIMITED</td>\n",
       "      <td>EX2590112</td>\n",
       "      <td>504,673,834.50</td>\n",
       "    </tr>\n",
       "    <tr>\n",
       "      <th>2802</th>\n",
       "      <td>ORGANIZACAO PAN-AMERICANA DA SAUDE/ORGANIZACAO...</td>\n",
       "      <td>04096431000154</td>\n",
       "      <td>432,376,875.00</td>\n",
       "    </tr>\n",
       "    <tr>\n",
       "      <th>1145</th>\n",
       "      <td>FUNDO ESTADUAL DE SAUDE - FUNDES</td>\n",
       "      <td>13851748000140</td>\n",
       "      <td>152,861,216.00</td>\n",
       "    </tr>\n",
       "    <tr>\n",
       "      <th>2152</th>\n",
       "      <td>INTERMED EQUIPAMENTO MEDICO HOSPITALAR LTDA</td>\n",
       "      <td>49520521000169</td>\n",
       "      <td>141,900,000.00</td>\n",
       "    </tr>\n",
       "    <tr>\n",
       "      <th>2498</th>\n",
       "      <td>MAGNAMED TECNOLOGIA MEDICA S/A</td>\n",
       "      <td>01298443000254</td>\n",
       "      <td>129,020,160.00</td>\n",
       "    </tr>\n",
       "    <tr>\n",
       "      <th>1141</th>\n",
       "      <td>FUNDO ESTADUAL DE SAUDE</td>\n",
       "      <td>74031865000151</td>\n",
       "      <td>105,970,421.00</td>\n",
       "    </tr>\n",
       "    <tr>\n",
       "      <th>2143</th>\n",
       "      <td>INSTITUTO DE BIOLOGIA MOLECULAR DO PARANA - IBMP</td>\n",
       "      <td>03585986000105</td>\n",
       "      <td>90,034,653.75</td>\n",
       "    </tr>\n",
       "    <tr>\n",
       "      <th>304</th>\n",
       "      <td>BANCO DO BRASIL SA</td>\n",
       "      <td>00000000000191</td>\n",
       "      <td>75,398,856.48</td>\n",
       "    </tr>\n",
       "    <tr>\n",
       "      <th>662</th>\n",
       "      <td>COORDENACAO-GERAL DE GESTAO DE PESSOAS</td>\n",
       "      <td>250006</td>\n",
       "      <td>60,425,474.60</td>\n",
       "    </tr>\n",
       "    <tr>\n",
       "      <th>2987</th>\n",
       "      <td>RAC ENGENHARIA E COMERCIO LTDA</td>\n",
       "      <td>04392190000190</td>\n",
       "      <td>58,055,478.35</td>\n",
       "    </tr>\n",
       "    <tr>\n",
       "      <th>1146</th>\n",
       "      <td>FUNDO ESTADUAL DE SAUDE DE PERNAMBUCO</td>\n",
       "      <td>11430018000140</td>\n",
       "      <td>54,921,718.00</td>\n",
       "    </tr>\n",
       "    <tr>\n",
       "      <th>1147</th>\n",
       "      <td>FUNDO ESTADUAL DE SAUDE DO ESTADO DA BAHIA</td>\n",
       "      <td>05816630000152</td>\n",
       "      <td>54,869,588.00</td>\n",
       "    </tr>\n",
       "    <tr>\n",
       "      <th>1061</th>\n",
       "      <td>FIOTEC - FUNDACAO PARA O DESENVOLVIMENTO CIENT...</td>\n",
       "      <td>02385669000174</td>\n",
       "      <td>51,234,488.06</td>\n",
       "    </tr>\n",
       "    <tr>\n",
       "      <th>1130</th>\n",
       "      <td>FUNDO DE SAUDE DO DISTRITO FEDERAL</td>\n",
       "      <td>12116247000157</td>\n",
       "      <td>50,437,829.00</td>\n",
       "    </tr>\n",
       "    <tr>\n",
       "      <th>1062</th>\n",
       "      <td>FIOTEC - FUNDACAO PARA O DESENVOLVIMENTO CIENT...</td>\n",
       "      <td>02385669000174</td>\n",
       "      <td>49,998,378.17</td>\n",
       "    </tr>\n",
       "    <tr>\n",
       "      <th>1565</th>\n",
       "      <td>FUNDO MUNICIPAL DE SAUDE DE DUQUE DE CAXIAS</td>\n",
       "      <td>11128809000110</td>\n",
       "      <td>48,737,165.00</td>\n",
       "    </tr>\n",
       "    <tr>\n",
       "      <th>1142</th>\n",
       "      <td>FUNDO ESTADUAL DE SAUDE</td>\n",
       "      <td>87182846000178</td>\n",
       "      <td>48,518,312.00</td>\n",
       "    </tr>\n",
       "    <tr>\n",
       "      <th>3304</th>\n",
       "      <td>TAM LINHAS AEREAS S/A.</td>\n",
       "      <td>02012862000160</td>\n",
       "      <td>48,025,613.58</td>\n",
       "    </tr>\n",
       "  </tbody>\n",
       "</table>\n",
       "</div>"
      ],
      "text/plain": [
       "                                           Favorecido_x Código Favorecido_x  \\\n",
       "784          DIRETORIA EXECUTIVA DO FUNDO NAC. DE SAUDE              257001   \n",
       "1911               FUNDO NACIONAL DE ASSISTENCIA SOCIAL              330013   \n",
       "1977                 GLOBAL BASE DEVELOPMENT HK LIMITED           EX2590112   \n",
       "2802  ORGANIZACAO PAN-AMERICANA DA SAUDE/ORGANIZACAO...      04096431000154   \n",
       "1145                   FUNDO ESTADUAL DE SAUDE - FUNDES      13851748000140   \n",
       "2152        INTERMED EQUIPAMENTO MEDICO HOSPITALAR LTDA      49520521000169   \n",
       "2498                     MAGNAMED TECNOLOGIA MEDICA S/A      01298443000254   \n",
       "1141                            FUNDO ESTADUAL DE SAUDE      74031865000151   \n",
       "2143   INSTITUTO DE BIOLOGIA MOLECULAR DO PARANA - IBMP      03585986000105   \n",
       "304                                  BANCO DO BRASIL SA      00000000000191   \n",
       "662              COORDENACAO-GERAL DE GESTAO DE PESSOAS              250006   \n",
       "2987                     RAC ENGENHARIA E COMERCIO LTDA      04392190000190   \n",
       "1146              FUNDO ESTADUAL DE SAUDE DE PERNAMBUCO      11430018000140   \n",
       "1147         FUNDO ESTADUAL DE SAUDE DO ESTADO DA BAHIA      05816630000152   \n",
       "1061  FIOTEC - FUNDACAO PARA O DESENVOLVIMENTO CIENT...      02385669000174   \n",
       "1130                 FUNDO DE SAUDE DO DISTRITO FEDERAL      12116247000157   \n",
       "1062  FIOTEC - FUNDACAO PARA O DESENVOLVIMENTO CIENT...      02385669000174   \n",
       "1565        FUNDO MUNICIPAL DE SAUDE DE DUQUE DE CAXIAS      11128809000110   \n",
       "1142                            FUNDO ESTADUAL DE SAUDE      87182846000178   \n",
       "3304                             TAM LINHAS AEREAS S/A.      02012862000160   \n",
       "\n",
       "      valor_pago_em_real  \n",
       "784     8,169,438,190.89  \n",
       "1911    1,588,224,892.62  \n",
       "1977      504,673,834.50  \n",
       "2802      432,376,875.00  \n",
       "1145      152,861,216.00  \n",
       "2152      141,900,000.00  \n",
       "2498      129,020,160.00  \n",
       "1141      105,970,421.00  \n",
       "2143       90,034,653.75  \n",
       "304        75,398,856.48  \n",
       "662        60,425,474.60  \n",
       "2987       58,055,478.35  \n",
       "1146       54,921,718.00  \n",
       "1147       54,869,588.00  \n",
       "1061       51,234,488.06  \n",
       "1130       50,437,829.00  \n",
       "1062       49,998,378.17  \n",
       "1565       48,737,165.00  \n",
       "1142       48,518,312.00  \n",
       "3304       48,025,613.58  "
      ]
     },
     "execution_count": 53,
     "metadata": {},
     "output_type": "execute_result"
    }
   ],
   "source": [
    "pagamentos_covid19.groupby([\"Favorecido_x\", \"Código Favorecido_x\"]).valor_pago_em_real.sum().reset_index().sort_values(\"valor_pago_em_real\", ascending=False).head(20)"
   ]
  },
  {
   "cell_type": "code",
   "execution_count": 54,
   "metadata": {},
   "outputs": [],
   "source": [
    "procura = pagamentos_covid19[(pagamentos_covid19['Código Favorecido_x'] == '49520521000169') ]"
   ]
  },
  {
   "cell_type": "code",
   "execution_count": 55,
   "metadata": {},
   "outputs": [
    {
     "data": {
      "text/html": [
       "<div>\n",
       "<style scoped>\n",
       "    .dataframe tbody tr th:only-of-type {\n",
       "        vertical-align: middle;\n",
       "    }\n",
       "\n",
       "    .dataframe tbody tr th {\n",
       "        vertical-align: top;\n",
       "    }\n",
       "\n",
       "    .dataframe thead th {\n",
       "        text-align: right;\n",
       "    }\n",
       "</style>\n",
       "<table border=\"1\" class=\"dataframe\">\n",
       "  <thead>\n",
       "    <tr style=\"text-align: right;\">\n",
       "      <th></th>\n",
       "      <th>Código Empenho</th>\n",
       "      <th>Id Empenho</th>\n",
       "      <th>valor_pago_em_real</th>\n",
       "    </tr>\n",
       "  </thead>\n",
       "  <tbody>\n",
       "    <tr>\n",
       "      <th>0</th>\n",
       "      <td>250005000012020NE000104</td>\n",
       "      <td>178500504</td>\n",
       "      <td>141,900,000.00</td>\n",
       "    </tr>\n",
       "  </tbody>\n",
       "</table>\n",
       "</div>"
      ],
      "text/plain": [
       "            Código Empenho Id Empenho  valor_pago_em_real\n",
       "0  250005000012020NE000104  178500504      141,900,000.00"
      ]
     },
     "execution_count": 55,
     "metadata": {},
     "output_type": "execute_result"
    }
   ],
   "source": [
    "procura.groupby([\"Código Empenho\", \"Id Empenho\"]).valor_pago_em_real.sum().reset_index().sort_values(\"valor_pago_em_real\", ascending=False)"
   ]
  },
  {
   "cell_type": "code",
   "execution_count": 56,
   "metadata": {},
   "outputs": [
    {
     "data": {
      "text/html": [
       "<div>\n",
       "<style scoped>\n",
       "    .dataframe tbody tr th:only-of-type {\n",
       "        vertical-align: middle;\n",
       "    }\n",
       "\n",
       "    .dataframe tbody tr th {\n",
       "        vertical-align: top;\n",
       "    }\n",
       "\n",
       "    .dataframe thead th {\n",
       "        text-align: right;\n",
       "    }\n",
       "</style>\n",
       "<table border=\"1\" class=\"dataframe\">\n",
       "  <thead>\n",
       "    <tr style=\"text-align: right;\">\n",
       "      <th></th>\n",
       "      <th>Data Emissão_x</th>\n",
       "      <th>Código Empenho</th>\n",
       "      <th>Id Empenho</th>\n",
       "      <th>Órgão_x</th>\n",
       "      <th>Unidade Gestora_x</th>\n",
       "      <th>Código Favorecido_x</th>\n",
       "      <th>Favorecido_x</th>\n",
       "      <th>Valor do Empenho Convertido pra R$</th>\n",
       "      <th>valor_pago_em_real</th>\n",
       "      <th>Valor Restos a Pagar Inscritos (R$)</th>\n",
       "      <th>Observação_x</th>\n",
       "      <th>Observação_y</th>\n",
       "      <th>Modalidade de Licitação</th>\n",
       "    </tr>\n",
       "  </thead>\n",
       "  <tbody>\n",
       "    <tr>\n",
       "      <th>14969</th>\n",
       "      <td>13/04/2020</td>\n",
       "      <td>250005000012020NE000104</td>\n",
       "      <td>178500504</td>\n",
       "      <td>Ministério da Saúde - Unidades com vínculo di</td>\n",
       "      <td>DEPARTAMENTO DE LOGISTICA EM SAUDE - DLOG</td>\n",
       "      <td>49520521000169</td>\n",
       "      <td>INTERMED EQUIPAMENTO MEDICO HOSPITALAR LTDA</td>\n",
       "      <td>258,000,000.00</td>\n",
       "      <td>8,301,150.00</td>\n",
       "      <td>0.00</td>\n",
       "      <td>ATENDER DESPESAS COM AQUISICAO DE 4.300 VENTIL...</td>\n",
       "      <td>IN 1234/2012</td>\n",
       "      <td>Não se Aplica</td>\n",
       "    </tr>\n",
       "    <tr>\n",
       "      <th>14970</th>\n",
       "      <td>13/04/2020</td>\n",
       "      <td>250005000012020NE000104</td>\n",
       "      <td>178500504</td>\n",
       "      <td>Ministério da Saúde - Unidades com vínculo di</td>\n",
       "      <td>DEPARTAMENTO DE LOGISTICA EM SAUDE - DLOG</td>\n",
       "      <td>49520521000169</td>\n",
       "      <td>INTERMED EQUIPAMENTO MEDICO HOSPITALAR LTDA</td>\n",
       "      <td>258,000,000.00</td>\n",
       "      <td>133,598,850.00</td>\n",
       "      <td>0.00</td>\n",
       "      <td>ATENDER DESPESAS COM AQUISICAO DE 4.300 VENTIL...</td>\n",
       "      <td>PGTO PARA EMPRESA INTERMED EQUIPAMENTOS REF. A...</td>\n",
       "      <td>Não se Aplica</td>\n",
       "    </tr>\n",
       "  </tbody>\n",
       "</table>\n",
       "</div>"
      ],
      "text/plain": [
       "      Data Emissão_x           Código Empenho Id Empenho  \\\n",
       "14969     13/04/2020  250005000012020NE000104  178500504   \n",
       "14970     13/04/2020  250005000012020NE000104  178500504   \n",
       "\n",
       "                                             Órgão_x  \\\n",
       "14969  Ministério da Saúde - Unidades com vínculo di   \n",
       "14970  Ministério da Saúde - Unidades com vínculo di   \n",
       "\n",
       "                               Unidade Gestora_x Código Favorecido_x  \\\n",
       "14969  DEPARTAMENTO DE LOGISTICA EM SAUDE - DLOG      49520521000169   \n",
       "14970  DEPARTAMENTO DE LOGISTICA EM SAUDE - DLOG      49520521000169   \n",
       "\n",
       "                                      Favorecido_x  \\\n",
       "14969  INTERMED EQUIPAMENTO MEDICO HOSPITALAR LTDA   \n",
       "14970  INTERMED EQUIPAMENTO MEDICO HOSPITALAR LTDA   \n",
       "\n",
       "       Valor do Empenho Convertido pra R$  valor_pago_em_real  \\\n",
       "14969                      258,000,000.00        8,301,150.00   \n",
       "14970                      258,000,000.00      133,598,850.00   \n",
       "\n",
       "       Valor Restos a Pagar Inscritos (R$)  \\\n",
       "14969                                 0.00   \n",
       "14970                                 0.00   \n",
       "\n",
       "                                            Observação_x  \\\n",
       "14969  ATENDER DESPESAS COM AQUISICAO DE 4.300 VENTIL...   \n",
       "14970  ATENDER DESPESAS COM AQUISICAO DE 4.300 VENTIL...   \n",
       "\n",
       "                                            Observação_y  \\\n",
       "14969                                       IN 1234/2012   \n",
       "14970  PGTO PARA EMPRESA INTERMED EQUIPAMENTOS REF. A...   \n",
       "\n",
       "      Modalidade de Licitação  \n",
       "14969           Não se Aplica  \n",
       "14970           Não se Aplica  "
      ]
     },
     "execution_count": 56,
     "metadata": {},
     "output_type": "execute_result"
    }
   ],
   "source": [
    "procura[[\"Data Emissão_x\",\"Código Empenho\", \"Id Empenho\", \"Órgão_x\", \"Unidade Gestora_x\", \"Código Favorecido_x\", \"Favorecido_x\", \"Valor do Empenho Convertido pra R$\", \"valor_pago_em_real\", \"Valor Restos a Pagar Inscritos (R$)\", \"Observação_x\", \"Observação_y\",  \"Modalidade de Licitação\"]]"
   ]
  },
  {
   "cell_type": "code",
   "execution_count": null,
   "metadata": {},
   "outputs": [],
   "source": []
  },
  {
   "cell_type": "code",
   "execution_count": 57,
   "metadata": {},
   "outputs": [],
   "source": [
    "procura = pagamentos_covid19[(pagamentos_covid19['Código Favorecido_x'] == 'EX2590112') ]"
   ]
  },
  {
   "cell_type": "code",
   "execution_count": 58,
   "metadata": {},
   "outputs": [
    {
     "data": {
      "text/plain": [
       "504673834.5"
      ]
     },
     "execution_count": 58,
     "metadata": {},
     "output_type": "execute_result"
    }
   ],
   "source": [
    "procura['valor_pago_em_real'].sum()"
   ]
  },
  {
   "cell_type": "code",
   "execution_count": null,
   "metadata": {},
   "outputs": [],
   "source": []
  },
  {
   "cell_type": "code",
   "execution_count": 59,
   "metadata": {},
   "outputs": [],
   "source": [
    "# Salva um CSV para criar gráfico"
   ]
  },
  {
   "cell_type": "code",
   "execution_count": 60,
   "metadata": {},
   "outputs": [],
   "source": [
    "salva = pagamentos_covid19.groupby([\"Favorecido_x\", \"Código Favorecido_x\"]).valor_pago_em_real.sum().reset_index().sort_values(\"valor_pago_em_real\", ascending=False)"
   ]
  },
  {
   "cell_type": "code",
   "execution_count": 61,
   "metadata": {},
   "outputs": [
    {
     "name": "stdout",
     "output_type": "stream",
     "text": [
      "<class 'pandas.core.frame.DataFrame'>\n",
      "Int64Index: 3545 entries, 784 to 905\n",
      "Data columns (total 3 columns):\n",
      " #   Column               Non-Null Count  Dtype  \n",
      "---  ------               --------------  -----  \n",
      " 0   Favorecido_x         3545 non-null   object \n",
      " 1   Código Favorecido_x  3545 non-null   object \n",
      " 2   valor_pago_em_real   3545 non-null   float64\n",
      "dtypes: float64(1), object(2)\n",
      "memory usage: 110.8+ KB\n"
     ]
    }
   ],
   "source": [
    "salva.info()"
   ]
  },
  {
   "cell_type": "code",
   "execution_count": 62,
   "metadata": {},
   "outputs": [],
   "source": [
    "salva.to_csv('resultados/graficos/soma_ordenada_favorecidos_pagamentos_feitos_de_empenhos_covid19_ate_22_junho_2020.csv', index=False)"
   ]
  },
  {
   "cell_type": "code",
   "execution_count": null,
   "metadata": {},
   "outputs": [],
   "source": []
  },
  {
   "cell_type": "code",
   "execution_count": null,
   "metadata": {},
   "outputs": [],
   "source": []
  },
  {
   "cell_type": "code",
   "execution_count": 63,
   "metadata": {},
   "outputs": [],
   "source": [
    "import seaborn as sns\n",
    "import matplotlib.pyplot as plt\n",
    "\n",
    "%matplotlib inline"
   ]
  },
  {
   "cell_type": "code",
   "execution_count": 64,
   "metadata": {},
   "outputs": [],
   "source": [
    "graf = pagamentos_covid19.groupby([\"Favorecido_x\", \"Código Favorecido_x\"]).valor_pago_em_real.sum().reset_index().sort_values(\"valor_pago_em_real\", ascending=False).head(15)\n",
    "graf.rename(columns = {'Favorecido_x':'instituicao_empresa_favorecida'},inplace = True)\n",
    "graf.rename(columns = {'Código Favorecido_x':'cod_favorecido'},inplace = True)"
   ]
  },
  {
   "cell_type": "code",
   "execution_count": 65,
   "metadata": {},
   "outputs": [
    {
     "name": "stdout",
     "output_type": "stream",
     "text": [
      "<class 'pandas.core.frame.DataFrame'>\n",
      "Int64Index: 15 entries, 784 to 1061\n",
      "Data columns (total 3 columns):\n",
      " #   Column                          Non-Null Count  Dtype  \n",
      "---  ------                          --------------  -----  \n",
      " 0   instituicao_empresa_favorecida  15 non-null     object \n",
      " 1   cod_favorecido                  15 non-null     object \n",
      " 2   valor_pago_em_real              15 non-null     float64\n",
      "dtypes: float64(1), object(2)\n",
      "memory usage: 480.0+ bytes\n"
     ]
    }
   ],
   "source": [
    "graf.info()"
   ]
  },
  {
   "cell_type": "code",
   "execution_count": 66,
   "metadata": {},
   "outputs": [
    {
     "data": {
      "image/png": "[encoded data removed]",
      "text/plain": [
       "<Figure size 1440x1008 with 1 Axes>"
      ]
     },
     "metadata": {},
     "output_type": "display_data"
    }
   ],
   "source": [
    "sns.set(style=\"whitegrid\")\n",
    "\n",
    "fig_dims = (20, 14)\n",
    "fig, ax = plt.subplots(figsize=fig_dims)\n",
    "plt.xticks(rotation=45, ha='right')\n",
    "\n",
    "ax = sns.barplot(x=\"instituicao_empresa_favorecida\", y=\"valor_pago_em_real\", data=graf)"
   ]
  },
  {
   "cell_type": "code",
   "execution_count": null,
   "metadata": {},
   "outputs": [],
   "source": []
  },
  {
   "cell_type": "code",
   "execution_count": 67,
   "metadata": {},
   "outputs": [],
   "source": [
    "# Soma valores em sigilo"
   ]
  },
  {
   "cell_type": "code",
   "execution_count": 68,
   "metadata": {},
   "outputs": [],
   "source": [
    "sigilo = pagamentos_covid19[(pagamentos_covid19['Favorecido_x'] == 'Informação protegida por sigilo nos termos da legislaçã') |  \n",
    "                           (pagamentos_covid19['Código Favorecido_x'] == '-11')]"
   ]
  },
  {
   "cell_type": "code",
   "execution_count": 69,
   "metadata": {},
   "outputs": [
    {
     "data": {
      "text/plain": [
       "1050093.68"
      ]
     },
     "execution_count": 69,
     "metadata": {},
     "output_type": "execute_result"
    }
   ],
   "source": [
    "sigilo['valor_pago_em_real'].sum()"
   ]
  },
  {
   "cell_type": "code",
   "execution_count": 70,
   "metadata": {},
   "outputs": [],
   "source": [
    "# Máximo em sigilo"
   ]
  },
  {
   "cell_type": "code",
   "execution_count": 71,
   "metadata": {},
   "outputs": [
    {
     "data": {
      "text/plain": [
       "Data Emissão_x                                                                02/04/2020\n",
       "Código Empenho                                                   160062000012020NE000055\n",
       "Id Empenho                                                                     184000107\n",
       "Código Empenho Resumido                                                     2020NE000055\n",
       "Órgão_x                                                              Comando do Exército\n",
       "Unidade Gestora_x                                     CENTRO DE INTELIGENCIA DO EXERCITO\n",
       "Código Favorecido_x                                                                  -11\n",
       "Favorecido_x                           Informação protegida por sigilo nos termos da ...\n",
       "Valor do Empenho Convertido pra R$                                            380,000.00\n",
       "valor_pago_em_real                                                            380,000.00\n",
       "Valor Restos a Pagar Inscritos (R$)                                                 0.00\n",
       "Observação_x                           Informação protegida por sigilo nos termos da ...\n",
       "Observação_y                           Informação protegida por sigilo nos termos da ...\n",
       "Modalidade de Licitação                                                    Não se Aplica\n",
       "Name: 8046, dtype: object"
      ]
     },
     "execution_count": 71,
     "metadata": {},
     "output_type": "execute_result"
    }
   ],
   "source": [
    "sigilo.loc[sigilo['valor_pago_em_real'].idxmax()][[\"Data Emissão_x\",\"Código Empenho\", \"Id Empenho\", \"Código Empenho Resumido\", \"Órgão_x\", \"Unidade Gestora_x\", \"Código Favorecido_x\", \"Favorecido_x\", \"Valor do Empenho Convertido pra R$\", \"valor_pago_em_real\", \"Valor Restos a Pagar Inscritos (R$)\", \"Observação_x\", \"Observação_y\",  \"Modalidade de Licitação\"]]"
   ]
  },
  {
   "cell_type": "code",
   "execution_count": null,
   "metadata": {},
   "outputs": [],
   "source": []
  },
  {
   "cell_type": "code",
   "execution_count": null,
   "metadata": {},
   "outputs": [],
   "source": []
  },
  {
   "cell_type": "code",
   "execution_count": 72,
   "metadata": {},
   "outputs": [],
   "source": [
    "# Soma valores por autores de Emenda"
   ]
  },
  {
   "cell_type": "code",
   "execution_count": 73,
   "metadata": {},
   "outputs": [],
   "source": [
    "emendas = pagamentos_covid19[(pagamentos_covid19['Autor Emenda'] != 'SEM EMENDA')]"
   ]
  },
  {
   "cell_type": "code",
   "execution_count": 74,
   "metadata": {},
   "outputs": [
    {
     "data": {
      "text/plain": [
       "1482322058.0"
      ]
     },
     "execution_count": 74,
     "metadata": {},
     "output_type": "execute_result"
    }
   ],
   "source": [
    "emendas['valor_pago_em_real'].sum()"
   ]
  },
  {
   "cell_type": "code",
   "execution_count": 75,
   "metadata": {},
   "outputs": [
    {
     "data": {
      "text/html": [
       "<div>\n",
       "<style scoped>\n",
       "    .dataframe tbody tr th:only-of-type {\n",
       "        vertical-align: middle;\n",
       "    }\n",
       "\n",
       "    .dataframe tbody tr th {\n",
       "        vertical-align: top;\n",
       "    }\n",
       "\n",
       "    .dataframe thead th {\n",
       "        text-align: right;\n",
       "    }\n",
       "</style>\n",
       "<table border=\"1\" class=\"dataframe\">\n",
       "  <thead>\n",
       "    <tr style=\"text-align: right;\">\n",
       "      <th></th>\n",
       "      <th>Autor Emenda</th>\n",
       "      <th>valor_pago_em_real</th>\n",
       "    </tr>\n",
       "  </thead>\n",
       "  <tbody>\n",
       "    <tr>\n",
       "      <th>33</th>\n",
       "      <td>BANCADA DO CEARA / EMENDA 14</td>\n",
       "      <td>180,966,340.00</td>\n",
       "    </tr>\n",
       "    <tr>\n",
       "      <th>0</th>\n",
       "      <td>BANCADA DA BAHIA / EMENDA 4</td>\n",
       "      <td>126,904,898.00</td>\n",
       "    </tr>\n",
       "    <tr>\n",
       "      <th>32</th>\n",
       "      <td>BANCADA DO AMAZONAS / EMENDA 5</td>\n",
       "      <td>116,834,308.00</td>\n",
       "    </tr>\n",
       "    <tr>\n",
       "      <th>16</th>\n",
       "      <td>BANCADA DE SAO PAULO / EMENDA 1</td>\n",
       "      <td>105,421,280.00</td>\n",
       "    </tr>\n",
       "    <tr>\n",
       "      <th>37</th>\n",
       "      <td>BANCADA DO MARANHAO / EMENDA 3</td>\n",
       "      <td>80,952,724.00</td>\n",
       "    </tr>\n",
       "    <tr>\n",
       "      <th>7</th>\n",
       "      <td>BANCADA DE GOIAS / EMENDA 7</td>\n",
       "      <td>76,803,508.00</td>\n",
       "    </tr>\n",
       "    <tr>\n",
       "      <th>38</th>\n",
       "      <td>BANCADA DO RIO DE JANEIRO / EMENDA 2</td>\n",
       "      <td>53,215,190.00</td>\n",
       "    </tr>\n",
       "    <tr>\n",
       "      <th>34</th>\n",
       "      <td>BANCADA DO DISTRITO FEDERAL / EMENDA 3</td>\n",
       "      <td>50,437,829.00</td>\n",
       "    </tr>\n",
       "    <tr>\n",
       "      <th>15</th>\n",
       "      <td>BANCADA DE RORAIMA / EMENDA 9</td>\n",
       "      <td>49,014,018.00</td>\n",
       "    </tr>\n",
       "    <tr>\n",
       "      <th>26</th>\n",
       "      <td>BANCADA DE SERGIPE / EMENDA 8</td>\n",
       "      <td>46,185,111.00</td>\n",
       "    </tr>\n",
       "    <tr>\n",
       "      <th>39</th>\n",
       "      <td>BANCADA DO RIO DE JANEIRO / EMENDA 9</td>\n",
       "      <td>44,482,630.00</td>\n",
       "    </tr>\n",
       "    <tr>\n",
       "      <th>36</th>\n",
       "      <td>BANCADA DO MARANHAO / EMENDA 2</td>\n",
       "      <td>41,077,800.00</td>\n",
       "    </tr>\n",
       "    <tr>\n",
       "      <th>31</th>\n",
       "      <td>BANCADA DO AMAPA / EMENDA 5</td>\n",
       "      <td>35,457,173.00</td>\n",
       "    </tr>\n",
       "    <tr>\n",
       "      <th>14</th>\n",
       "      <td>BANCADA DE RONDONIA / EMENDA 4</td>\n",
       "      <td>30,991,725.00</td>\n",
       "    </tr>\n",
       "    <tr>\n",
       "      <th>22</th>\n",
       "      <td>BANCADA DE SAO PAULO / EMENDA 6</td>\n",
       "      <td>27,922,527.00</td>\n",
       "    </tr>\n",
       "    <tr>\n",
       "      <th>40</th>\n",
       "      <td>BANCADA DO RIO GRANDE DO NORTE / EMENDA 11</td>\n",
       "      <td>25,316,244.00</td>\n",
       "    </tr>\n",
       "    <tr>\n",
       "      <th>30</th>\n",
       "      <td>BANCADA DO AMAPA / EMENDA 4</td>\n",
       "      <td>23,774,304.00</td>\n",
       "    </tr>\n",
       "    <tr>\n",
       "      <th>21</th>\n",
       "      <td>BANCADA DE SAO PAULO / EMENDA 5</td>\n",
       "      <td>21,947,992.00</td>\n",
       "    </tr>\n",
       "    <tr>\n",
       "      <th>29</th>\n",
       "      <td>BANCADA DO ACRE / EMENDA 6</td>\n",
       "      <td>21,891,153.00</td>\n",
       "    </tr>\n",
       "    <tr>\n",
       "      <th>18</th>\n",
       "      <td>BANCADA DE SAO PAULO / EMENDA 11</td>\n",
       "      <td>19,531,586.00</td>\n",
       "    </tr>\n",
       "  </tbody>\n",
       "</table>\n",
       "</div>"
      ],
      "text/plain": [
       "                                  Autor Emenda  valor_pago_em_real\n",
       "33                BANCADA DO CEARA / EMENDA 14      180,966,340.00\n",
       "0                  BANCADA DA BAHIA / EMENDA 4      126,904,898.00\n",
       "32              BANCADA DO AMAZONAS / EMENDA 5      116,834,308.00\n",
       "16             BANCADA DE SAO PAULO / EMENDA 1      105,421,280.00\n",
       "37              BANCADA DO MARANHAO / EMENDA 3       80,952,724.00\n",
       "7                  BANCADA DE GOIAS / EMENDA 7       76,803,508.00\n",
       "38        BANCADA DO RIO DE JANEIRO / EMENDA 2       53,215,190.00\n",
       "34      BANCADA DO DISTRITO FEDERAL / EMENDA 3       50,437,829.00\n",
       "15               BANCADA DE RORAIMA / EMENDA 9       49,014,018.00\n",
       "26               BANCADA DE SERGIPE / EMENDA 8       46,185,111.00\n",
       "39        BANCADA DO RIO DE JANEIRO / EMENDA 9       44,482,630.00\n",
       "36              BANCADA DO MARANHAO / EMENDA 2       41,077,800.00\n",
       "31                 BANCADA DO AMAPA / EMENDA 5       35,457,173.00\n",
       "14              BANCADA DE RONDONIA / EMENDA 4       30,991,725.00\n",
       "22             BANCADA DE SAO PAULO / EMENDA 6       27,922,527.00\n",
       "40  BANCADA DO RIO GRANDE DO NORTE / EMENDA 11       25,316,244.00\n",
       "30                 BANCADA DO AMAPA / EMENDA 4       23,774,304.00\n",
       "21             BANCADA DE SAO PAULO / EMENDA 5       21,947,992.00\n",
       "29                  BANCADA DO ACRE / EMENDA 6       21,891,153.00\n",
       "18            BANCADA DE SAO PAULO / EMENDA 11       19,531,586.00"
      ]
     },
     "execution_count": 75,
     "metadata": {},
     "output_type": "execute_result"
    }
   ],
   "source": [
    "emendas.groupby([\"Autor Emenda\"]).valor_pago_em_real.sum().reset_index().sort_values(\"valor_pago_em_real\", ascending=False).head(20)"
   ]
  },
  {
   "cell_type": "code",
   "execution_count": 76,
   "metadata": {},
   "outputs": [],
   "source": [
    "# Salva em CSV para gráfico"
   ]
  },
  {
   "cell_type": "code",
   "execution_count": 77,
   "metadata": {},
   "outputs": [],
   "source": [
    "salva = emendas.groupby([\"Autor Emenda\"]).valor_pago_em_real.sum().reset_index().sort_values(\"valor_pago_em_real\", ascending=False)"
   ]
  },
  {
   "cell_type": "code",
   "execution_count": 78,
   "metadata": {},
   "outputs": [
    {
     "name": "stdout",
     "output_type": "stream",
     "text": [
      "<class 'pandas.core.frame.DataFrame'>\n",
      "Int64Index: 50 entries, 33 to 20\n",
      "Data columns (total 2 columns):\n",
      " #   Column              Non-Null Count  Dtype  \n",
      "---  ------              --------------  -----  \n",
      " 0   Autor Emenda        50 non-null     object \n",
      " 1   valor_pago_em_real  50 non-null     float64\n",
      "dtypes: float64(1), object(1)\n",
      "memory usage: 1.2+ KB\n"
     ]
    }
   ],
   "source": [
    "salva.info()"
   ]
  },
  {
   "cell_type": "code",
   "execution_count": 79,
   "metadata": {},
   "outputs": [],
   "source": [
    "salva.to_csv('resultados/graficos/soma_ordenada_emendas_pagamentos_feitos_de_empenhos_covid19_ate_22_junho_2020.csv', index=False)"
   ]
  },
  {
   "cell_type": "code",
   "execution_count": null,
   "metadata": {},
   "outputs": [],
   "source": []
  }
 ],
 "metadata": {
  "kernelspec": {
   "display_name": "Python 3",
   "language": "python",
   "name": "python3"
  },
  "language_info": {
   "codemirror_mode": {
    "name": "ipython",
    "version": 3
   },
   "file_extension": ".py",
   "mimetype": "text/x-python",
   "name": "python",
   "nbconvert_exporter": "python",
   "pygments_lexer": "ipython3",
   "version": "3.6.9"
  }
 },
 "nbformat": 4,
 "nbformat_minor": 4
}
