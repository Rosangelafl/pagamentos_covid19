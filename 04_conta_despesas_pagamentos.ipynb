{
 "cells": [
  {
   "cell_type": "code",
   "execution_count": 1,
   "metadata": {},
   "outputs": [],
   "source": [
    "# -*- coding: utf-8\n",
    "# Reinaldo Chaves (@paidatocandeira)\n",
    "# Acessa o arquivo criado com pagamentos de empenho da covid19\n",
    "# E faz diversas estatísticas\n",
    "#"
   ]
  },
  {
   "cell_type": "code",
   "execution_count": 2,
   "metadata": {},
   "outputs": [],
   "source": [
    "import pandas as pd"
   ]
  },
  {
   "cell_type": "code",
   "execution_count": null,
   "metadata": {},
   "outputs": [],
   "source": []
  },
  {
   "cell_type": "code",
   "execution_count": 3,
   "metadata": {},
   "outputs": [],
   "source": [
    "pd.options.display.float_format = '{:,.2f}'.format"
   ]
  },
  {
   "cell_type": "code",
   "execution_count": null,
   "metadata": {},
   "outputs": [],
   "source": []
  },
  {
   "cell_type": "code",
   "execution_count": 4,
   "metadata": {},
   "outputs": [],
   "source": [
    "kwargs = {'sep': ',', 'dtype': str, 'encoding': 'utf-8'}\n",
    "pagamentos_covid19 = pd.read_csv(\"resultados/pagamentos_covid19/pagamentos_feitos_de_empenhos_covid19_ate_29_junho_2020.csv\", **kwargs)"
   ]
  },
  {
   "cell_type": "code",
   "execution_count": 5,
   "metadata": {},
   "outputs": [],
   "source": [
    "# Carrega nomes de colunas"
   ]
  },
  {
   "cell_type": "code",
   "execution_count": 6,
   "metadata": {},
   "outputs": [
    {
     "data": {
      "text/plain": [
       "['Id Empenho',\n",
       " 'Código Empenho',\n",
       " 'Código Empenho Resumido',\n",
       " 'Data Emissão_x',\n",
       " 'Código Tipo Documento_x',\n",
       " 'Tipo Documento_x',\n",
       " 'Tipo Empenho',\n",
       " 'Espécie Empenho',\n",
       " 'Código Órgão Superior_x',\n",
       " 'Órgão Superior_x',\n",
       " 'Código Órgão_x',\n",
       " 'Órgão_x',\n",
       " 'Código Unidade Gestora_x',\n",
       " 'Unidade Gestora_x',\n",
       " 'Código Gestão_x',\n",
       " 'Gestão_x',\n",
       " 'Código Favorecido_x',\n",
       " 'Favorecido_x',\n",
       " 'Observação_x',\n",
       " 'Código Esfera Orçamentária',\n",
       " 'Esfera Orçamentária',\n",
       " 'Código Tipo Crédito',\n",
       " 'Tipo Crédito',\n",
       " 'Código Grupo Fonte Recurso',\n",
       " 'Grupo Fonte Recurso',\n",
       " 'Código Fonte Recurso',\n",
       " 'Fonte Recurso',\n",
       " 'Código Unidade Orçamentária',\n",
       " 'Unidade Orçamentária',\n",
       " 'Código Função',\n",
       " 'Função',\n",
       " 'Código SubFunção',\n",
       " 'SubFunção',\n",
       " 'Código Programa',\n",
       " 'Programa',\n",
       " 'Código Ação',\n",
       " 'Ação',\n",
       " 'Linguagem Cidadã',\n",
       " 'Código Subtítulo (Localizador)',\n",
       " 'Subtítulo (Localizador)',\n",
       " 'Código Plano Orçamentário_x',\n",
       " 'Plano Orçamentário_x',\n",
       " 'Código Programa Governo_x',\n",
       " 'Nome Programa Governo_x',\n",
       " 'Autor Emenda',\n",
       " 'Código Categoria de Despesa_x',\n",
       " 'Categoria de Despesa_x',\n",
       " 'Código Grupo de Despesa_x',\n",
       " 'Grupo de Despesa_x',\n",
       " 'Código Modalidade de Aplicação_x',\n",
       " 'Modalidade de Aplicação_x',\n",
       " 'Código Elemento de Despesa_x',\n",
       " 'Elemento de Despesa_x',\n",
       " 'Processo_x',\n",
       " 'Modalidade de Licitação',\n",
       " 'Inciso',\n",
       " 'Amparo',\n",
       " 'Referência de Dispensa ou Inexigibilidade',\n",
       " 'Código Convênio',\n",
       " 'Contrato de Repasse / Termo de Parceria / Outros',\n",
       " 'Valor Original do Empenho',\n",
       " 'Valor do Empenho Convertido pra R$',\n",
       " 'Valor Utilizado na Conversão_x',\n",
       " 'Código Pagamento',\n",
       " 'Código Natureza Despesa Completa',\n",
       " 'Subitem',\n",
       " 'Valor Pago (R$)',\n",
       " 'Valor Restos a Pagar Inscritos (R$)',\n",
       " 'Valor Restos a Pagar Cancelado (R$)',\n",
       " 'Valor Restos a Pagar Pagos (R$)',\n",
       " 'Código Pagamento Resumido',\n",
       " 'Data Emissão_y',\n",
       " 'Código Tipo Documento_y',\n",
       " 'Tipo Documento_y',\n",
       " 'Tipo OB',\n",
       " 'Extraorçamentário',\n",
       " 'Código Órgão Superior_y',\n",
       " 'Órgão Superior_y',\n",
       " 'Código Órgão_y',\n",
       " 'Órgão_y',\n",
       " 'Código Unidade Gestora_y',\n",
       " 'Unidade Gestora_y',\n",
       " 'Código Gestão_y',\n",
       " 'Gestão_y',\n",
       " 'Código Favorecido_y',\n",
       " 'Favorecido_y',\n",
       " 'Observação_y',\n",
       " 'Processo_y',\n",
       " 'Código Categoria de Despesa_y',\n",
       " 'Categoria de Despesa_y',\n",
       " 'Código Grupo de Despesa_y',\n",
       " 'Grupo de Despesa_y',\n",
       " 'Código Modalidade de Aplicação_y',\n",
       " 'Modalidade de Aplicação_y',\n",
       " 'Código Elemento de Despesa_y',\n",
       " 'Elemento de Despesa_y',\n",
       " 'Código Plano Orçamentário_y',\n",
       " 'Plano Orçamentário_y',\n",
       " 'Código Programa Governo_y',\n",
       " 'Nome Programa Governo_y',\n",
       " 'Valor Original do Pagamento',\n",
       " 'Valor do Pagamento Convertido pra R$',\n",
       " 'Valor Utilizado na Conversão_y']"
      ]
     },
     "execution_count": 6,
     "metadata": {},
     "output_type": "execute_result"
    }
   ],
   "source": [
    "list(pagamentos_covid19.columns.values.tolist())"
   ]
  },
  {
   "cell_type": "code",
   "execution_count": null,
   "metadata": {},
   "outputs": [],
   "source": []
  },
  {
   "cell_type": "code",
   "execution_count": 7,
   "metadata": {},
   "outputs": [],
   "source": [
    "# Quantidade de favorecidos nos pagamentos"
   ]
  },
  {
   "cell_type": "code",
   "execution_count": 8,
   "metadata": {},
   "outputs": [
    {
     "data": {
      "text/plain": [
       "3589"
      ]
     },
     "execution_count": 8,
     "metadata": {},
     "output_type": "execute_result"
    }
   ],
   "source": [
    "a = len(pagamentos_covid19['Favorecido_x'].value_counts())\n",
    "a"
   ]
  },
  {
   "cell_type": "code",
   "execution_count": null,
   "metadata": {},
   "outputs": [],
   "source": []
  },
  {
   "cell_type": "code",
   "execution_count": 9,
   "metadata": {},
   "outputs": [],
   "source": [
    "# Transforma em numero campos de valores"
   ]
  },
  {
   "cell_type": "code",
   "execution_count": 10,
   "metadata": {},
   "outputs": [],
   "source": [
    "pagamentos_covid19['Valor Original do Empenho'] = pagamentos_covid19['Valor Original do Empenho'].str.replace(',','.')\n",
    "pagamentos_covid19['Valor Original do Empenho'] = pagamentos_covid19['Valor Original do Empenho'].astype('float64') \n",
    "\n",
    "pagamentos_covid19['Valor do Empenho Convertido pra R$'] = pagamentos_covid19['Valor do Empenho Convertido pra R$'].str.replace(',','.')\n",
    "pagamentos_covid19['Valor do Empenho Convertido pra R$'] = pagamentos_covid19['Valor do Empenho Convertido pra R$'].astype('float64') \n",
    "\n",
    "pagamentos_covid19['Valor Utilizado na Conversão_x'] = pagamentos_covid19['Valor Utilizado na Conversão_x'].str.replace(',','.')\n",
    "pagamentos_covid19['Valor Utilizado na Conversão_x'] = pagamentos_covid19['Valor Utilizado na Conversão_x'].astype('float64') \n",
    "\n",
    "pagamentos_covid19['Valor Pago (R$)'] = pagamentos_covid19['Valor Pago (R$)'].str.replace(',','.')\n",
    "pagamentos_covid19['Valor Pago (R$)'] = pagamentos_covid19['Valor Pago (R$)'].astype('float64') \n",
    "pagamentos_covid19.rename(columns = {'Valor Pago (R$)':'valor_pago_em_real'},inplace = True)\n",
    "\n",
    "pagamentos_covid19['Valor Restos a Pagar Inscritos (R$)'] = pagamentos_covid19['Valor Restos a Pagar Inscritos (R$)'].str.replace(',','.')\n",
    "pagamentos_covid19['Valor Restos a Pagar Inscritos (R$)'] = pagamentos_covid19['Valor Restos a Pagar Inscritos (R$)'].astype('float64') \n",
    "\n",
    "pagamentos_covid19['Valor Restos a Pagar Cancelado (R$)'] = pagamentos_covid19['Valor Restos a Pagar Cancelado (R$)'].str.replace(',','.')\n",
    "pagamentos_covid19['Valor Restos a Pagar Cancelado (R$)'] = pagamentos_covid19['Valor Restos a Pagar Cancelado (R$)'].astype('float64') \n",
    "\n",
    "pagamentos_covid19['Valor Restos a Pagar Pagos (R$)'] = pagamentos_covid19['Valor Restos a Pagar Pagos (R$)'].str.replace(',','.')\n",
    "pagamentos_covid19['Valor Restos a Pagar Pagos (R$)'] = pagamentos_covid19['Valor Restos a Pagar Pagos (R$)'].astype('float64') \n",
    "\n",
    "pagamentos_covid19['Valor Original do Pagamento'] = pagamentos_covid19['Valor Original do Pagamento'].str.replace(',','.')\n",
    "pagamentos_covid19['Valor Original do Pagamento'] = pagamentos_covid19['Valor Original do Pagamento'].astype('float64') \n",
    "\n",
    "pagamentos_covid19['Valor do Pagamento Convertido pra R$'] = pagamentos_covid19['Valor do Pagamento Convertido pra R$'].str.replace(',','.')\n",
    "pagamentos_covid19['Valor do Pagamento Convertido pra R$'] = pagamentos_covid19['Valor do Pagamento Convertido pra R$'].astype('float64') \n",
    "\n",
    "pagamentos_covid19['Valor Utilizado na Conversão_y'] = pagamentos_covid19['Valor Utilizado na Conversão_y'].str.replace(',','.')\n",
    "pagamentos_covid19['Valor Utilizado na Conversão_y'] = pagamentos_covid19['Valor Utilizado na Conversão_y'].astype('float64') "
   ]
  },
  {
   "cell_type": "code",
   "execution_count": null,
   "metadata": {},
   "outputs": [],
   "source": []
  },
  {
   "cell_type": "code",
   "execution_count": 11,
   "metadata": {},
   "outputs": [
    {
     "data": {
      "text/plain": [
       "14284103550.869999"
      ]
     },
     "execution_count": 11,
     "metadata": {},
     "output_type": "execute_result"
    }
   ],
   "source": [
    "pagamentos_covid19['valor_pago_em_real'].sum()"
   ]
  },
  {
   "cell_type": "code",
   "execution_count": 12,
   "metadata": {},
   "outputs": [
    {
     "data": {
      "text/plain": [
       "49570938960.07"
      ]
     },
     "execution_count": 12,
     "metadata": {},
     "output_type": "execute_result"
    }
   ],
   "source": [
    "pagamentos_covid19['Valor Original do Empenho'].sum()"
   ]
  },
  {
   "cell_type": "code",
   "execution_count": 13,
   "metadata": {},
   "outputs": [
    {
     "data": {
      "text/plain": [
       "48905167790.38"
      ]
     },
     "execution_count": 13,
     "metadata": {},
     "output_type": "execute_result"
    }
   ],
   "source": [
    "pagamentos_covid19['Valor do Empenho Convertido pra R$'].sum()"
   ]
  },
  {
   "cell_type": "code",
   "execution_count": null,
   "metadata": {},
   "outputs": [],
   "source": []
  },
  {
   "cell_type": "code",
   "execution_count": 14,
   "metadata": {},
   "outputs": [],
   "source": [
    "# Média de valores pagos"
   ]
  },
  {
   "cell_type": "code",
   "execution_count": 15,
   "metadata": {},
   "outputs": [
    {
     "data": {
      "text/plain": [
       "773996.3993969114"
      ]
     },
     "execution_count": 15,
     "metadata": {},
     "output_type": "execute_result"
    }
   ],
   "source": [
    "pagamentos_covid19['valor_pago_em_real'].mean()"
   ]
  },
  {
   "cell_type": "code",
   "execution_count": 16,
   "metadata": {},
   "outputs": [],
   "source": [
    "# Mediana de valores pagos"
   ]
  },
  {
   "cell_type": "code",
   "execution_count": 17,
   "metadata": {},
   "outputs": [
    {
     "data": {
      "text/plain": [
       "2128.23"
      ]
     },
     "execution_count": 17,
     "metadata": {},
     "output_type": "execute_result"
    }
   ],
   "source": [
    "pagamentos_covid19['valor_pago_em_real'].median()"
   ]
  },
  {
   "cell_type": "code",
   "execution_count": 18,
   "metadata": {},
   "outputs": [],
   "source": [
    "# Moda de valores pagos"
   ]
  },
  {
   "cell_type": "code",
   "execution_count": 19,
   "metadata": {},
   "outputs": [
    {
     "data": {
      "text/plain": [
       "0   442.50\n",
       "dtype: float64"
      ]
     },
     "execution_count": 19,
     "metadata": {},
     "output_type": "execute_result"
    }
   ],
   "source": [
    "pagamentos_covid19['valor_pago_em_real'].mode()"
   ]
  },
  {
   "cell_type": "code",
   "execution_count": 20,
   "metadata": {},
   "outputs": [],
   "source": [
    "procura = pagamentos_covid19[(pagamentos_covid19['valor_pago_em_real'] == 442.50)]"
   ]
  },
  {
   "cell_type": "code",
   "execution_count": 21,
   "metadata": {},
   "outputs": [
    {
     "data": {
      "text/plain": [
       "(342, 103)"
      ]
     },
     "execution_count": 21,
     "metadata": {},
     "output_type": "execute_result"
    }
   ],
   "source": [
    "procura.shape"
   ]
  },
  {
   "cell_type": "code",
   "execution_count": 22,
   "metadata": {},
   "outputs": [
    {
     "data": {
      "text/html": [
       "<div>\n",
       "<style scoped>\n",
       "    .dataframe tbody tr th:only-of-type {\n",
       "        vertical-align: middle;\n",
       "    }\n",
       "\n",
       "    .dataframe tbody tr th {\n",
       "        vertical-align: top;\n",
       "    }\n",
       "\n",
       "    .dataframe thead th {\n",
       "        text-align: right;\n",
       "    }\n",
       "</style>\n",
       "<table border=\"1\" class=\"dataframe\">\n",
       "  <thead>\n",
       "    <tr style=\"text-align: right;\">\n",
       "      <th></th>\n",
       "      <th>Data Emissão_x</th>\n",
       "      <th>Código Empenho</th>\n",
       "      <th>Id Empenho</th>\n",
       "      <th>Órgão_x</th>\n",
       "      <th>Unidade Gestora_x</th>\n",
       "      <th>Código Favorecido_x</th>\n",
       "      <th>Favorecido_x</th>\n",
       "      <th>Valor do Empenho Convertido pra R$</th>\n",
       "      <th>valor_pago_em_real</th>\n",
       "      <th>Valor Restos a Pagar Inscritos (R$)</th>\n",
       "      <th>Observação_x</th>\n",
       "      <th>Observação_y</th>\n",
       "      <th>Modalidade de Licitação</th>\n",
       "    </tr>\n",
       "  </thead>\n",
       "  <tbody>\n",
       "    <tr>\n",
       "      <th>311</th>\n",
       "      <td>08/04/2020</td>\n",
       "      <td>194010192082020NE000002</td>\n",
       "      <td>180100348</td>\n",
       "      <td>Fundação Nacional do Índio</td>\n",
       "      <td>COORD. REG. CENTRO-LESTE DO PARA/PA</td>\n",
       "      <td>PFCOL4010</td>\n",
       "      <td>FUNDACAO NACIONAL DO INDIO - DIARIAS DE COLABO...</td>\n",
       "      <td>10,620.00</td>\n",
       "      <td>442.50</td>\n",
       "      <td>0.00</td>\n",
       "      <td>08748.000961/2019-19 - DIARIAS DE COLABORADOR ...</td>\n",
       "      <td>PROC 001194/20 DOC GERADO PELO SCDP. PCDP 0011...</td>\n",
       "      <td>Não se Aplica</td>\n",
       "    </tr>\n",
       "    <tr>\n",
       "      <th>312</th>\n",
       "      <td>08/04/2020</td>\n",
       "      <td>194010192082020NE000002</td>\n",
       "      <td>180100348</td>\n",
       "      <td>Fundação Nacional do Índio</td>\n",
       "      <td>COORD. REG. CENTRO-LESTE DO PARA/PA</td>\n",
       "      <td>PFCOL4010</td>\n",
       "      <td>FUNDACAO NACIONAL DO INDIO - DIARIAS DE COLABO...</td>\n",
       "      <td>10,620.00</td>\n",
       "      <td>442.50</td>\n",
       "      <td>0.00</td>\n",
       "      <td>08748.000961/2019-19 - DIARIAS DE COLABORADOR ...</td>\n",
       "      <td>PROC 001569/20 DOC GERADO PELO SCDP. PCDP 0015...</td>\n",
       "      <td>Não se Aplica</td>\n",
       "    </tr>\n",
       "    <tr>\n",
       "      <th>2182</th>\n",
       "      <td>24/03/2020</td>\n",
       "      <td>120638000012020NE000019</td>\n",
       "      <td>160400393</td>\n",
       "      <td>Comando da Aeronáutica</td>\n",
       "      <td>GRUPAMENTO DE APOIO DE CAMPO GRANDE</td>\n",
       "      <td>120638</td>\n",
       "      <td>GRUPAMENTO DE APOIO DE CAMPO GRANDE</td>\n",
       "      <td>31,405.70</td>\n",
       "      <td>442.50</td>\n",
       "      <td>0.00</td>\n",
       "      <td>DIARIAS DE MILITARES DA ALA-5.</td>\n",
       "      <td>PROC 009243/20 DOC GERADO PELO SCDP. PCDP 0092...</td>\n",
       "      <td>Não se Aplica</td>\n",
       "    </tr>\n",
       "    <tr>\n",
       "      <th>2183</th>\n",
       "      <td>24/03/2020</td>\n",
       "      <td>120638000012020NE000019</td>\n",
       "      <td>160400393</td>\n",
       "      <td>Comando da Aeronáutica</td>\n",
       "      <td>GRUPAMENTO DE APOIO DE CAMPO GRANDE</td>\n",
       "      <td>120638</td>\n",
       "      <td>GRUPAMENTO DE APOIO DE CAMPO GRANDE</td>\n",
       "      <td>31,405.70</td>\n",
       "      <td>442.50</td>\n",
       "      <td>0.00</td>\n",
       "      <td>DIARIAS DE MILITARES DA ALA-5.</td>\n",
       "      <td>PROC 009241/20 DOC GERADO PELO SCDP. PCDP 0092...</td>\n",
       "      <td>Não se Aplica</td>\n",
       "    </tr>\n",
       "    <tr>\n",
       "      <th>2184</th>\n",
       "      <td>24/03/2020</td>\n",
       "      <td>120638000012020NE000019</td>\n",
       "      <td>160400393</td>\n",
       "      <td>Comando da Aeronáutica</td>\n",
       "      <td>GRUPAMENTO DE APOIO DE CAMPO GRANDE</td>\n",
       "      <td>120638</td>\n",
       "      <td>GRUPAMENTO DE APOIO DE CAMPO GRANDE</td>\n",
       "      <td>31,405.70</td>\n",
       "      <td>442.50</td>\n",
       "      <td>0.00</td>\n",
       "      <td>DIARIAS DE MILITARES DA ALA-5.</td>\n",
       "      <td>PROC 009238/20 DOC GERADO PELO SCDP. PCDP 0092...</td>\n",
       "      <td>Não se Aplica</td>\n",
       "    </tr>\n",
       "    <tr>\n",
       "      <th>...</th>\n",
       "      <td>...</td>\n",
       "      <td>...</td>\n",
       "      <td>...</td>\n",
       "      <td>...</td>\n",
       "      <td>...</td>\n",
       "      <td>...</td>\n",
       "      <td>...</td>\n",
       "      <td>...</td>\n",
       "      <td>...</td>\n",
       "      <td>...</td>\n",
       "      <td>...</td>\n",
       "      <td>...</td>\n",
       "      <td>...</td>\n",
       "    </tr>\n",
       "    <tr>\n",
       "      <th>12764</th>\n",
       "      <td>16/04/2020</td>\n",
       "      <td>194151192082020NE000032</td>\n",
       "      <td>172900706</td>\n",
       "      <td>Fundação Nacional do Índio</td>\n",
       "      <td>FUNAI-DIRETORIA DE PROTEÇÃO TERRITORIAL</td>\n",
       "      <td>PF0023COV</td>\n",
       "      <td>AUXILIO FINACEIRO - ACAO DE COMBATE AO COVID 19</td>\n",
       "      <td>130,000.00</td>\n",
       "      <td>442.50</td>\n",
       "      <td>0.00</td>\n",
       "      <td>COBRIR DESPESAS COM DIARIAS DE SERVIDOR E DE C...</td>\n",
       "      <td>PROC 001056/20 DOC GERADO PELO SCDP. PCDP 0010...</td>\n",
       "      <td>Não se Aplica</td>\n",
       "    </tr>\n",
       "    <tr>\n",
       "      <th>12777</th>\n",
       "      <td>16/04/2020</td>\n",
       "      <td>194151192082020NE000032</td>\n",
       "      <td>172900706</td>\n",
       "      <td>Fundação Nacional do Índio</td>\n",
       "      <td>FUNAI-DIRETORIA DE PROTEÇÃO TERRITORIAL</td>\n",
       "      <td>PF0023COV</td>\n",
       "      <td>AUXILIO FINACEIRO - ACAO DE COMBATE AO COVID 19</td>\n",
       "      <td>130,000.00</td>\n",
       "      <td>442.50</td>\n",
       "      <td>0.00</td>\n",
       "      <td>COBRIR DESPESAS COM DIARIAS DE SERVIDOR E DE C...</td>\n",
       "      <td>PROC 000584/20-1C DOC GERADO PELO SCDP. PCDP 0...</td>\n",
       "      <td>Não se Aplica</td>\n",
       "    </tr>\n",
       "    <tr>\n",
       "      <th>13267</th>\n",
       "      <td>09/04/2020</td>\n",
       "      <td>200117000012020NE000126</td>\n",
       "      <td>176300500</td>\n",
       "      <td>Departamento de Polícia Rodoviária Federal</td>\n",
       "      <td>SUPERINTENDENCIA REG. POL. RODV. FEDERAL-SP</td>\n",
       "      <td>-11</td>\n",
       "      <td>Informação protegida por sigilo nos termos da ...</td>\n",
       "      <td>95,121.60</td>\n",
       "      <td>442.50</td>\n",
       "      <td>0.00</td>\n",
       "      <td>Informação protegida por sigilo nos termos da ...</td>\n",
       "      <td>Informação protegida por sigilo nos termos da ...</td>\n",
       "      <td>Não se Aplica</td>\n",
       "    </tr>\n",
       "    <tr>\n",
       "      <th>14286</th>\n",
       "      <td>12/03/2020</td>\n",
       "      <td>120006000012020NE000025</td>\n",
       "      <td>155306009</td>\n",
       "      <td>Comando da Aeronáutica</td>\n",
       "      <td>GRUPAMENTO DE APOIO DE BRASILIA</td>\n",
       "      <td>120006</td>\n",
       "      <td>GRUPAMENTO DE APOIO DE BRASILIA</td>\n",
       "      <td>8,000.00</td>\n",
       "      <td>442.50</td>\n",
       "      <td>0.00</td>\n",
       "      <td>ATENDER AS NECESSIDADES DA SEFA               ...</td>\n",
       "      <td>PAGAMENTO DE DIARIA  - OPERACAO REGRESSO A PAT...</td>\n",
       "      <td>Não se Aplica</td>\n",
       "    </tr>\n",
       "    <tr>\n",
       "      <th>14291</th>\n",
       "      <td>12/03/2020</td>\n",
       "      <td>120006000012020NE000025</td>\n",
       "      <td>155306009</td>\n",
       "      <td>Comando da Aeronáutica</td>\n",
       "      <td>GRUPAMENTO DE APOIO DE BRASILIA</td>\n",
       "      <td>120006</td>\n",
       "      <td>GRUPAMENTO DE APOIO DE BRASILIA</td>\n",
       "      <td>8,000.00</td>\n",
       "      <td>442.50</td>\n",
       "      <td>0.00</td>\n",
       "      <td>ATENDER AS NECESSIDADES DA SEFA               ...</td>\n",
       "      <td>PAGAMENTO DE DIARIA  - OPERACAO REGRESSO A PAT...</td>\n",
       "      <td>Não se Aplica</td>\n",
       "    </tr>\n",
       "  </tbody>\n",
       "</table>\n",
       "<p>342 rows × 13 columns</p>\n",
       "</div>"
      ],
      "text/plain": [
       "      Data Emissão_x           Código Empenho Id Empenho  \\\n",
       "311       08/04/2020  194010192082020NE000002  180100348   \n",
       "312       08/04/2020  194010192082020NE000002  180100348   \n",
       "2182      24/03/2020  120638000012020NE000019  160400393   \n",
       "2183      24/03/2020  120638000012020NE000019  160400393   \n",
       "2184      24/03/2020  120638000012020NE000019  160400393   \n",
       "...              ...                      ...        ...   \n",
       "12764     16/04/2020  194151192082020NE000032  172900706   \n",
       "12777     16/04/2020  194151192082020NE000032  172900706   \n",
       "13267     09/04/2020  200117000012020NE000126  176300500   \n",
       "14286     12/03/2020  120006000012020NE000025  155306009   \n",
       "14291     12/03/2020  120006000012020NE000025  155306009   \n",
       "\n",
       "                                          Órgão_x  \\\n",
       "311                    Fundação Nacional do Índio   \n",
       "312                    Fundação Nacional do Índio   \n",
       "2182                       Comando da Aeronáutica   \n",
       "2183                       Comando da Aeronáutica   \n",
       "2184                       Comando da Aeronáutica   \n",
       "...                                           ...   \n",
       "12764                  Fundação Nacional do Índio   \n",
       "12777                  Fundação Nacional do Índio   \n",
       "13267  Departamento de Polícia Rodoviária Federal   \n",
       "14286                      Comando da Aeronáutica   \n",
       "14291                      Comando da Aeronáutica   \n",
       "\n",
       "                                 Unidade Gestora_x Código Favorecido_x  \\\n",
       "311            COORD. REG. CENTRO-LESTE DO PARA/PA           PFCOL4010   \n",
       "312            COORD. REG. CENTRO-LESTE DO PARA/PA           PFCOL4010   \n",
       "2182           GRUPAMENTO DE APOIO DE CAMPO GRANDE              120638   \n",
       "2183           GRUPAMENTO DE APOIO DE CAMPO GRANDE              120638   \n",
       "2184           GRUPAMENTO DE APOIO DE CAMPO GRANDE              120638   \n",
       "...                                            ...                 ...   \n",
       "12764      FUNAI-DIRETORIA DE PROTEÇÃO TERRITORIAL           PF0023COV   \n",
       "12777      FUNAI-DIRETORIA DE PROTEÇÃO TERRITORIAL           PF0023COV   \n",
       "13267  SUPERINTENDENCIA REG. POL. RODV. FEDERAL-SP                 -11   \n",
       "14286              GRUPAMENTO DE APOIO DE BRASILIA              120006   \n",
       "14291              GRUPAMENTO DE APOIO DE BRASILIA              120006   \n",
       "\n",
       "                                            Favorecido_x  \\\n",
       "311    FUNDACAO NACIONAL DO INDIO - DIARIAS DE COLABO...   \n",
       "312    FUNDACAO NACIONAL DO INDIO - DIARIAS DE COLABO...   \n",
       "2182                 GRUPAMENTO DE APOIO DE CAMPO GRANDE   \n",
       "2183                 GRUPAMENTO DE APOIO DE CAMPO GRANDE   \n",
       "2184                 GRUPAMENTO DE APOIO DE CAMPO GRANDE   \n",
       "...                                                  ...   \n",
       "12764    AUXILIO FINACEIRO - ACAO DE COMBATE AO COVID 19   \n",
       "12777    AUXILIO FINACEIRO - ACAO DE COMBATE AO COVID 19   \n",
       "13267  Informação protegida por sigilo nos termos da ...   \n",
       "14286                    GRUPAMENTO DE APOIO DE BRASILIA   \n",
       "14291                    GRUPAMENTO DE APOIO DE BRASILIA   \n",
       "\n",
       "       Valor do Empenho Convertido pra R$  valor_pago_em_real  \\\n",
       "311                             10,620.00              442.50   \n",
       "312                             10,620.00              442.50   \n",
       "2182                            31,405.70              442.50   \n",
       "2183                            31,405.70              442.50   \n",
       "2184                            31,405.70              442.50   \n",
       "...                                   ...                 ...   \n",
       "12764                          130,000.00              442.50   \n",
       "12777                          130,000.00              442.50   \n",
       "13267                           95,121.60              442.50   \n",
       "14286                            8,000.00              442.50   \n",
       "14291                            8,000.00              442.50   \n",
       "\n",
       "       Valor Restos a Pagar Inscritos (R$)  \\\n",
       "311                                   0.00   \n",
       "312                                   0.00   \n",
       "2182                                  0.00   \n",
       "2183                                  0.00   \n",
       "2184                                  0.00   \n",
       "...                                    ...   \n",
       "12764                                 0.00   \n",
       "12777                                 0.00   \n",
       "13267                                 0.00   \n",
       "14286                                 0.00   \n",
       "14291                                 0.00   \n",
       "\n",
       "                                            Observação_x  \\\n",
       "311    08748.000961/2019-19 - DIARIAS DE COLABORADOR ...   \n",
       "312    08748.000961/2019-19 - DIARIAS DE COLABORADOR ...   \n",
       "2182                      DIARIAS DE MILITARES DA ALA-5.   \n",
       "2183                      DIARIAS DE MILITARES DA ALA-5.   \n",
       "2184                      DIARIAS DE MILITARES DA ALA-5.   \n",
       "...                                                  ...   \n",
       "12764  COBRIR DESPESAS COM DIARIAS DE SERVIDOR E DE C...   \n",
       "12777  COBRIR DESPESAS COM DIARIAS DE SERVIDOR E DE C...   \n",
       "13267  Informação protegida por sigilo nos termos da ...   \n",
       "14286  ATENDER AS NECESSIDADES DA SEFA               ...   \n",
       "14291  ATENDER AS NECESSIDADES DA SEFA               ...   \n",
       "\n",
       "                                            Observação_y  \\\n",
       "311    PROC 001194/20 DOC GERADO PELO SCDP. PCDP 0011...   \n",
       "312    PROC 001569/20 DOC GERADO PELO SCDP. PCDP 0015...   \n",
       "2182   PROC 009243/20 DOC GERADO PELO SCDP. PCDP 0092...   \n",
       "2183   PROC 009241/20 DOC GERADO PELO SCDP. PCDP 0092...   \n",
       "2184   PROC 009238/20 DOC GERADO PELO SCDP. PCDP 0092...   \n",
       "...                                                  ...   \n",
       "12764  PROC 001056/20 DOC GERADO PELO SCDP. PCDP 0010...   \n",
       "12777  PROC 000584/20-1C DOC GERADO PELO SCDP. PCDP 0...   \n",
       "13267  Informação protegida por sigilo nos termos da ...   \n",
       "14286  PAGAMENTO DE DIARIA  - OPERACAO REGRESSO A PAT...   \n",
       "14291  PAGAMENTO DE DIARIA  - OPERACAO REGRESSO A PAT...   \n",
       "\n",
       "      Modalidade de Licitação  \n",
       "311             Não se Aplica  \n",
       "312             Não se Aplica  \n",
       "2182            Não se Aplica  \n",
       "2183            Não se Aplica  \n",
       "2184            Não se Aplica  \n",
       "...                       ...  \n",
       "12764           Não se Aplica  \n",
       "12777           Não se Aplica  \n",
       "13267           Não se Aplica  \n",
       "14286           Não se Aplica  \n",
       "14291           Não se Aplica  \n",
       "\n",
       "[342 rows x 13 columns]"
      ]
     },
     "execution_count": 22,
     "metadata": {},
     "output_type": "execute_result"
    }
   ],
   "source": [
    "procura[[\"Data Emissão_x\",\"Código Empenho\", \"Id Empenho\", \"Órgão_x\", \"Unidade Gestora_x\", \"Código Favorecido_x\", \"Favorecido_x\", \"Valor do Empenho Convertido pra R$\", \"valor_pago_em_real\", \"Valor Restos a Pagar Inscritos (R$)\", \"Observação_x\", \"Observação_y\",  \"Modalidade de Licitação\"]]"
   ]
  },
  {
   "cell_type": "code",
   "execution_count": null,
   "metadata": {},
   "outputs": [],
   "source": []
  },
  {
   "cell_type": "code",
   "execution_count": null,
   "metadata": {},
   "outputs": [],
   "source": []
  },
  {
   "cell_type": "code",
   "execution_count": 23,
   "metadata": {},
   "outputs": [],
   "source": [
    "# Maior valor originalmente empenhado"
   ]
  },
  {
   "cell_type": "code",
   "execution_count": 24,
   "metadata": {},
   "outputs": [
    {
     "data": {
      "text/plain": [
       "694320000.0"
      ]
     },
     "execution_count": 24,
     "metadata": {},
     "output_type": "execute_result"
    }
   ],
   "source": [
    "pagamentos_covid19['Valor do Empenho Convertido pra R$'].max()"
   ]
  },
  {
   "cell_type": "code",
   "execution_count": 25,
   "metadata": {},
   "outputs": [
    {
     "data": {
      "text/plain": [
       "Data Emissão_x                                                                03/04/2020\n",
       "Código Empenho                                                   250005000012020NE000096\n",
       "Id Empenho                                                                     176600022\n",
       "Órgão_x                                    Ministério da Saúde - Unidades com vínculo di\n",
       "Unidade Gestora_x                              DEPARTAMENTO DE LOGISTICA EM SAUDE - DLOG\n",
       "Código Favorecido_x                                                            EX2590112\n",
       "Favorecido_x                                          GLOBAL BASE DEVELOPMENT HK LIMITED\n",
       "Valor do Empenho Convertido pra R$                                        694,320,000.00\n",
       "valor_pago_em_real                                                         19,313,415.00\n",
       "Valor Restos a Pagar Inscritos (R$)                                                 0.00\n",
       "Observação_x                           ATNDER DESPESAS COM AQUISICAO DE MASCARA SMS 3...\n",
       "Observação_y                           CT 112/2020 - PAGAMENTO PARA IMPORTACAO DE MAS...\n",
       "Modalidade de Licitação                                                    Não se Aplica\n",
       "Name: 6152, dtype: object"
      ]
     },
     "execution_count": 25,
     "metadata": {},
     "output_type": "execute_result"
    }
   ],
   "source": [
    "pagamentos_covid19.loc[pagamentos_covid19['Valor do Empenho Convertido pra R$'].idxmax()][[\"Data Emissão_x\", \"Código Empenho\", \"Id Empenho\", \"Órgão_x\", \"Unidade Gestora_x\", \"Código Favorecido_x\", \"Favorecido_x\", \"Valor do Empenho Convertido pra R$\", \"valor_pago_em_real\", \"Valor Restos a Pagar Inscritos (R$)\", \"Observação_x\", \"Observação_y\", \"Modalidade de Licitação\"]]"
   ]
  },
  {
   "cell_type": "code",
   "execution_count": null,
   "metadata": {},
   "outputs": [],
   "source": []
  },
  {
   "cell_type": "code",
   "execution_count": 26,
   "metadata": {},
   "outputs": [],
   "source": [
    "# Menor valor originalmente empenhado"
   ]
  },
  {
   "cell_type": "code",
   "execution_count": 27,
   "metadata": {},
   "outputs": [
    {
     "data": {
      "text/plain": [
       "1.0"
      ]
     },
     "execution_count": 27,
     "metadata": {},
     "output_type": "execute_result"
    }
   ],
   "source": [
    "pagamentos_covid19['Valor do Empenho Convertido pra R$'].min()"
   ]
  },
  {
   "cell_type": "code",
   "execution_count": 28,
   "metadata": {},
   "outputs": [
    {
     "data": {
      "text/plain": [
       "Data Emissão_x                                                                24/03/2020\n",
       "Código Empenho                                                   155001152752020NE516283\n",
       "Id Empenho                                                                     167200532\n",
       "Órgão_x                                             Hospital de Clínicas de Porto Alegre\n",
       "Unidade Gestora_x                                   HOSPITAL DE CLINICAS DE PORTO ALEGRE\n",
       "Código Favorecido_x                                                       91154310000116\n",
       "Favorecido_x                           3 F COMERCIO DE EQUIPAMENTOS DE PROTECAO INDIV...\n",
       "Valor do Empenho Convertido pra R$                                                  1.00\n",
       "valor_pago_em_real                                                                319.00\n",
       "Valor Restos a Pagar Inscritos (R$)                                                 0.00\n",
       "Observação_x                                            MATERIAL DE PROTECAO E SEGURANCA\n",
       "Observação_y                           (DARF): RETENCAO DE TRIBUTOS, CONFORME IN NRO ...\n",
       "Modalidade de Licitação                                            Dispensa de Licitação\n",
       "Name: 2158, dtype: object"
      ]
     },
     "execution_count": 28,
     "metadata": {},
     "output_type": "execute_result"
    }
   ],
   "source": [
    "pagamentos_covid19.loc[pagamentos_covid19['Valor do Empenho Convertido pra R$'].idxmin()][[\"Data Emissão_x\",\"Código Empenho\", \"Id Empenho\", \"Órgão_x\", \"Unidade Gestora_x\", \"Código Favorecido_x\", \"Favorecido_x\", \"Valor do Empenho Convertido pra R$\", \"valor_pago_em_real\", \"Valor Restos a Pagar Inscritos (R$)\", \"Observação_x\", \"Observação_y\", \"Modalidade de Licitação\"]]"
   ]
  },
  {
   "cell_type": "code",
   "execution_count": null,
   "metadata": {},
   "outputs": [],
   "source": []
  },
  {
   "cell_type": "code",
   "execution_count": 29,
   "metadata": {},
   "outputs": [],
   "source": [
    "# Maior valor pago em real "
   ]
  },
  {
   "cell_type": "code",
   "execution_count": 30,
   "metadata": {},
   "outputs": [
    {
     "data": {
      "text/plain": [
       "440894813.73"
      ]
     },
     "execution_count": 30,
     "metadata": {},
     "output_type": "execute_result"
    }
   ],
   "source": [
    "pagamentos_covid19['valor_pago_em_real'].max()"
   ]
  },
  {
   "cell_type": "code",
   "execution_count": 31,
   "metadata": {},
   "outputs": [
    {
     "data": {
      "text/plain": [
       "Data Emissão_x                                                                09/04/2020\n",
       "Código Empenho                                                   257001000012020NE810544\n",
       "Id Empenho                                                                     174800424\n",
       "Órgão_x                                    Ministério da Saúde - Unidades com vínculo di\n",
       "Unidade Gestora_x                             DIRETORIA EXECUTIVA DO FUNDO NAC. DE SAUDE\n",
       "Código Favorecido_x                                                               257001\n",
       "Favorecido_x                                  DIRETORIA EXECUTIVA DO FUNDO NAC. DE SAUDE\n",
       "Valor do Empenho Convertido pra R$                                        440,894,813.73\n",
       "valor_pago_em_real                                                        440,894,813.73\n",
       "Valor Restos a Pagar Inscritos (R$)                                                 0.00\n",
       "Observação_x                           CORONAVIRUS (COVID-19)MUNICIPAL_PARCELA_UNICA_...\n",
       "Observação_y                           PAGAMENTO DE 65702-CORONAVIRUS (COVID-19) PARC...\n",
       "Modalidade de Licitação                                                    Não se Aplica\n",
       "Name: 13900, dtype: object"
      ]
     },
     "execution_count": 31,
     "metadata": {},
     "output_type": "execute_result"
    }
   ],
   "source": [
    "pagamentos_covid19.loc[pagamentos_covid19['valor_pago_em_real'].idxmax()][[\"Data Emissão_x\",\"Código Empenho\", \"Id Empenho\", \"Órgão_x\", \"Unidade Gestora_x\", \"Código Favorecido_x\", \"Favorecido_x\", \"Valor do Empenho Convertido pra R$\", \"valor_pago_em_real\", \"Valor Restos a Pagar Inscritos (R$)\", \"Observação_x\", \"Observação_y\",  \"Modalidade de Licitação\"]]"
   ]
  },
  {
   "cell_type": "code",
   "execution_count": null,
   "metadata": {},
   "outputs": [],
   "source": []
  },
  {
   "cell_type": "code",
   "execution_count": 32,
   "metadata": {},
   "outputs": [],
   "source": [
    "# Menor valor pago em real "
   ]
  },
  {
   "cell_type": "code",
   "execution_count": 33,
   "metadata": {},
   "outputs": [
    {
     "data": {
      "text/plain": [
       "-2500000.0"
      ]
     },
     "execution_count": 33,
     "metadata": {},
     "output_type": "execute_result"
    }
   ],
   "source": [
    "pagamentos_covid19['valor_pago_em_real'].min()"
   ]
  },
  {
   "cell_type": "code",
   "execution_count": 34,
   "metadata": {},
   "outputs": [
    {
     "data": {
      "text/plain": [
       "Data Emissão_x                                                                06/04/2020\n",
       "Código Empenho                                                   254462252012020NE800369\n",
       "Id Empenho                                                                     180300207\n",
       "Órgão_x                                                            Fundação Oswaldo Cruz\n",
       "Unidade Gestora_x                          COORDENAÇÃO GERAL DE INFRAESTRUTURA DOS CAMPI\n",
       "Código Favorecido_x                                                       04392190000190\n",
       "Favorecido_x                                              RAC ENGENHARIA E COMERCIO LTDA\n",
       "Valor do Empenho Convertido pra R$                                         56,832,173.94\n",
       "valor_pago_em_real                                                         -2,500,000.00\n",
       "Valor Restos a Pagar Inscritos (R$)                                                 0.00\n",
       "Observação_x                           CONTRATACAO EMERGENCIAL VISANDO A OBRA DE CONS...\n",
       "Observação_y                            ALTERACAO DA CLASSIFICACAO DAS NOTAS DE EMPENHO.\n",
       "Modalidade de Licitação                                            Dispensa de Licitação\n",
       "Name: 7657, dtype: object"
      ]
     },
     "execution_count": 34,
     "metadata": {},
     "output_type": "execute_result"
    }
   ],
   "source": [
    "pagamentos_covid19.loc[pagamentos_covid19['valor_pago_em_real'].idxmin()][[\"Data Emissão_x\",\"Código Empenho\", \"Id Empenho\", \"Órgão_x\", \"Unidade Gestora_x\", \"Código Favorecido_x\", \"Favorecido_x\", \"Valor do Empenho Convertido pra R$\", \"valor_pago_em_real\", \"Valor Restos a Pagar Inscritos (R$)\", \"Observação_x\", \"Observação_y\",  \"Modalidade de Licitação\"]]"
   ]
  },
  {
   "cell_type": "code",
   "execution_count": null,
   "metadata": {},
   "outputs": [],
   "source": []
  },
  {
   "cell_type": "code",
   "execution_count": 35,
   "metadata": {},
   "outputs": [],
   "source": [
    "# Agrupa a soma de valores pagos em Código Empenho+Id Empenho "
   ]
  },
  {
   "cell_type": "code",
   "execution_count": 36,
   "metadata": {},
   "outputs": [
    {
     "data": {
      "text/html": [
       "<div>\n",
       "<style scoped>\n",
       "    .dataframe tbody tr th:only-of-type {\n",
       "        vertical-align: middle;\n",
       "    }\n",
       "\n",
       "    .dataframe tbody tr th {\n",
       "        vertical-align: top;\n",
       "    }\n",
       "\n",
       "    .dataframe thead th {\n",
       "        text-align: right;\n",
       "    }\n",
       "</style>\n",
       "<table border=\"1\" class=\"dataframe\">\n",
       "  <thead>\n",
       "    <tr style=\"text-align: right;\">\n",
       "      <th></th>\n",
       "      <th>Código Empenho</th>\n",
       "      <th>Id Empenho</th>\n",
       "      <th>valor_pago_em_real</th>\n",
       "    </tr>\n",
       "  </thead>\n",
       "  <tbody>\n",
       "    <tr>\n",
       "      <th>5459</th>\n",
       "      <td>250005000012020NE000096</td>\n",
       "      <td>176600022</td>\n",
       "      <td>545,466,289.50</td>\n",
       "    </tr>\n",
       "    <tr>\n",
       "      <th>5846</th>\n",
       "      <td>257001000012020NE810544</td>\n",
       "      <td>174800424</td>\n",
       "      <td>440,894,813.73</td>\n",
       "    </tr>\n",
       "    <tr>\n",
       "      <th>5688</th>\n",
       "      <td>257001000012020NE453964</td>\n",
       "      <td>177001678</td>\n",
       "      <td>415,121,875.00</td>\n",
       "    </tr>\n",
       "    <tr>\n",
       "      <th>5831</th>\n",
       "      <td>257001000012020NE810529</td>\n",
       "      <td>178400461</td>\n",
       "      <td>360,266,482.23</td>\n",
       "    </tr>\n",
       "    <tr>\n",
       "      <th>5873</th>\n",
       "      <td>257001000012020NE810606</td>\n",
       "      <td>174400477</td>\n",
       "      <td>255,666,189.57</td>\n",
       "    </tr>\n",
       "    <tr>\n",
       "      <th>...</th>\n",
       "      <td>...</td>\n",
       "      <td>...</td>\n",
       "      <td>...</td>\n",
       "    </tr>\n",
       "    <tr>\n",
       "      <th>342</th>\n",
       "      <td>135101222112020NE000398</td>\n",
       "      <td>177702092</td>\n",
       "      <td>0.00</td>\n",
       "    </tr>\n",
       "    <tr>\n",
       "      <th>7762</th>\n",
       "      <td>781333000012020NE000152</td>\n",
       "      <td>184502817</td>\n",
       "      <td>0.00</td>\n",
       "    </tr>\n",
       "    <tr>\n",
       "      <th>5312</th>\n",
       "      <td>240076000012020NE000338</td>\n",
       "      <td>202800038</td>\n",
       "      <td>-54.69</td>\n",
       "    </tr>\n",
       "    <tr>\n",
       "      <th>5156</th>\n",
       "      <td>240017000012020NE003889</td>\n",
       "      <td>177700824</td>\n",
       "      <td>-556.20</td>\n",
       "    </tr>\n",
       "    <tr>\n",
       "      <th>5132</th>\n",
       "      <td>240017000012020NE003281</td>\n",
       "      <td>179900332</td>\n",
       "      <td>-1,093.55</td>\n",
       "    </tr>\n",
       "  </tbody>\n",
       "</table>\n",
       "<p>8265 rows × 3 columns</p>\n",
       "</div>"
      ],
      "text/plain": [
       "               Código Empenho Id Empenho  valor_pago_em_real\n",
       "5459  250005000012020NE000096  176600022      545,466,289.50\n",
       "5846  257001000012020NE810544  174800424      440,894,813.73\n",
       "5688  257001000012020NE453964  177001678      415,121,875.00\n",
       "5831  257001000012020NE810529  178400461      360,266,482.23\n",
       "5873  257001000012020NE810606  174400477      255,666,189.57\n",
       "...                       ...        ...                 ...\n",
       "342   135101222112020NE000398  177702092                0.00\n",
       "7762  781333000012020NE000152  184502817                0.00\n",
       "5312  240076000012020NE000338  202800038              -54.69\n",
       "5156  240017000012020NE003889  177700824             -556.20\n",
       "5132  240017000012020NE003281  179900332           -1,093.55\n",
       "\n",
       "[8265 rows x 3 columns]"
      ]
     },
     "execution_count": 36,
     "metadata": {},
     "output_type": "execute_result"
    }
   ],
   "source": [
    "pagamentos_covid19.groupby([\"Código Empenho\", \"Id Empenho\"]).valor_pago_em_real.sum().reset_index().sort_values(\"valor_pago_em_real\", ascending=False)"
   ]
  },
  {
   "cell_type": "code",
   "execution_count": 37,
   "metadata": {},
   "outputs": [],
   "source": [
    "procura = pagamentos_covid19[(pagamentos_covid19['Código Empenho'] == '257001000012020NE810544') & (pagamentos_covid19['Id Empenho'] == '174800424')]"
   ]
  },
  {
   "cell_type": "code",
   "execution_count": 38,
   "metadata": {},
   "outputs": [
    {
     "data": {
      "text/html": [
       "<div>\n",
       "<style scoped>\n",
       "    .dataframe tbody tr th:only-of-type {\n",
       "        vertical-align: middle;\n",
       "    }\n",
       "\n",
       "    .dataframe tbody tr th {\n",
       "        vertical-align: top;\n",
       "    }\n",
       "\n",
       "    .dataframe thead th {\n",
       "        text-align: right;\n",
       "    }\n",
       "</style>\n",
       "<table border=\"1\" class=\"dataframe\">\n",
       "  <thead>\n",
       "    <tr style=\"text-align: right;\">\n",
       "      <th></th>\n",
       "      <th>Data Emissão_x</th>\n",
       "      <th>Código Empenho</th>\n",
       "      <th>Id Empenho</th>\n",
       "      <th>Órgão_x</th>\n",
       "      <th>Unidade Gestora_x</th>\n",
       "      <th>Código Favorecido_x</th>\n",
       "      <th>Favorecido_x</th>\n",
       "      <th>Valor do Empenho Convertido pra R$</th>\n",
       "      <th>valor_pago_em_real</th>\n",
       "      <th>Valor Restos a Pagar Inscritos (R$)</th>\n",
       "      <th>Observação_x</th>\n",
       "      <th>Observação_y</th>\n",
       "      <th>Modalidade de Licitação</th>\n",
       "    </tr>\n",
       "  </thead>\n",
       "  <tbody>\n",
       "    <tr>\n",
       "      <th>13900</th>\n",
       "      <td>09/04/2020</td>\n",
       "      <td>257001000012020NE810544</td>\n",
       "      <td>174800424</td>\n",
       "      <td>Ministério da Saúde - Unidades com vínculo di</td>\n",
       "      <td>DIRETORIA EXECUTIVA DO FUNDO NAC. DE SAUDE</td>\n",
       "      <td>257001</td>\n",
       "      <td>DIRETORIA EXECUTIVA DO FUNDO NAC. DE SAUDE</td>\n",
       "      <td>440,894,813.73</td>\n",
       "      <td>440,894,813.73</td>\n",
       "      <td>0.00</td>\n",
       "      <td>CORONAVIRUS (COVID-19)MUNICIPAL_PARCELA_UNICA_...</td>\n",
       "      <td>PAGAMENTO DE 65702-CORONAVIRUS (COVID-19) PARC...</td>\n",
       "      <td>Não se Aplica</td>\n",
       "    </tr>\n",
       "  </tbody>\n",
       "</table>\n",
       "</div>"
      ],
      "text/plain": [
       "      Data Emissão_x           Código Empenho Id Empenho  \\\n",
       "13900     09/04/2020  257001000012020NE810544  174800424   \n",
       "\n",
       "                                             Órgão_x  \\\n",
       "13900  Ministério da Saúde - Unidades com vínculo di   \n",
       "\n",
       "                                Unidade Gestora_x Código Favorecido_x  \\\n",
       "13900  DIRETORIA EXECUTIVA DO FUNDO NAC. DE SAUDE              257001   \n",
       "\n",
       "                                     Favorecido_x  \\\n",
       "13900  DIRETORIA EXECUTIVA DO FUNDO NAC. DE SAUDE   \n",
       "\n",
       "       Valor do Empenho Convertido pra R$  valor_pago_em_real  \\\n",
       "13900                      440,894,813.73      440,894,813.73   \n",
       "\n",
       "       Valor Restos a Pagar Inscritos (R$)  \\\n",
       "13900                                 0.00   \n",
       "\n",
       "                                            Observação_x  \\\n",
       "13900  CORONAVIRUS (COVID-19)MUNICIPAL_PARCELA_UNICA_...   \n",
       "\n",
       "                                            Observação_y  \\\n",
       "13900  PAGAMENTO DE 65702-CORONAVIRUS (COVID-19) PARC...   \n",
       "\n",
       "      Modalidade de Licitação  \n",
       "13900           Não se Aplica  "
      ]
     },
     "execution_count": 38,
     "metadata": {},
     "output_type": "execute_result"
    }
   ],
   "source": [
    "procura[[\"Data Emissão_x\",\"Código Empenho\", \"Id Empenho\", \"Órgão_x\", \"Unidade Gestora_x\", \"Código Favorecido_x\", \"Favorecido_x\", \"Valor do Empenho Convertido pra R$\", \"valor_pago_em_real\", \"Valor Restos a Pagar Inscritos (R$)\", \"Observação_x\", \"Observação_y\",  \"Modalidade de Licitação\"]]"
   ]
  },
  {
   "cell_type": "code",
   "execution_count": null,
   "metadata": {},
   "outputs": [],
   "source": []
  },
  {
   "cell_type": "code",
   "execution_count": null,
   "metadata": {},
   "outputs": [],
   "source": []
  },
  {
   "cell_type": "code",
   "execution_count": 39,
   "metadata": {},
   "outputs": [],
   "source": [
    "# Agrupa a soma de valores pagos em Unidade Gestora - 20 primeiros"
   ]
  },
  {
   "cell_type": "code",
   "execution_count": 40,
   "metadata": {},
   "outputs": [
    {
     "data": {
      "text/html": [
       "<div>\n",
       "<style scoped>\n",
       "    .dataframe tbody tr th:only-of-type {\n",
       "        vertical-align: middle;\n",
       "    }\n",
       "\n",
       "    .dataframe tbody tr th {\n",
       "        vertical-align: top;\n",
       "    }\n",
       "\n",
       "    .dataframe thead th {\n",
       "        text-align: right;\n",
       "    }\n",
       "</style>\n",
       "<table border=\"1\" class=\"dataframe\">\n",
       "  <thead>\n",
       "    <tr style=\"text-align: right;\">\n",
       "      <th></th>\n",
       "      <th>Unidade Gestora_x</th>\n",
       "      <th>valor_pago_em_real</th>\n",
       "    </tr>\n",
       "  </thead>\n",
       "  <tbody>\n",
       "    <tr>\n",
       "      <th>397</th>\n",
       "      <td>DIRETORIA EXECUTIVA DO FUNDO NAC. DE SAUDE</td>\n",
       "      <td>10,319,946,919.88</td>\n",
       "    </tr>\n",
       "    <tr>\n",
       "      <th>476</th>\n",
       "      <td>FUNDO NACIONAL DE ASSISTENCIA SOCIAL</td>\n",
       "      <td>1,981,087,717.62</td>\n",
       "    </tr>\n",
       "    <tr>\n",
       "      <th>389</th>\n",
       "      <td>DEPARTAMENTO DE LOGISTICA EM SAUDE - DLOG</td>\n",
       "      <td>928,906,264.45</td>\n",
       "    </tr>\n",
       "    <tr>\n",
       "      <th>473</th>\n",
       "      <td>FUNDAÇÃO OSWALDO CRUZ</td>\n",
       "      <td>220,922,288.56</td>\n",
       "    </tr>\n",
       "    <tr>\n",
       "      <th>612</th>\n",
       "      <td>SECR. DE GESTAO DO TRAB. E DA EDUC. NA SAUDE</td>\n",
       "      <td>75,341,596.00</td>\n",
       "    </tr>\n",
       "    <tr>\n",
       "      <th>586</th>\n",
       "      <td>INSTITUTO DE TECNOLOGIA EM IMUNOBIOLOGICOS</td>\n",
       "      <td>74,742,153.82</td>\n",
       "    </tr>\n",
       "    <tr>\n",
       "      <th>335</th>\n",
       "      <td>COORDENACAO-GERAL DE GESTAO DE PESSOAS</td>\n",
       "      <td>72,716,657.76</td>\n",
       "    </tr>\n",
       "    <tr>\n",
       "      <th>346</th>\n",
       "      <td>COORDENAÇÃO GERAL DE INFRAESTRUTURA DOS CAMPI</td>\n",
       "      <td>61,496,931.04</td>\n",
       "    </tr>\n",
       "    <tr>\n",
       "      <th>613</th>\n",
       "      <td>SECRETARIA NACIONAL DE AVIAÇÃO CIVIL</td>\n",
       "      <td>55,597,185.83</td>\n",
       "    </tr>\n",
       "    <tr>\n",
       "      <th>477</th>\n",
       "      <td>FUNDO NACIONAL DE SEGURANÇA PÚBLICA - FNSP</td>\n",
       "      <td>43,350,271.63</td>\n",
       "    </tr>\n",
       "    <tr>\n",
       "      <th>475</th>\n",
       "      <td>FUNDO NAC.DE DESENV. CIENTIFICO E TECNOLOGICO</td>\n",
       "      <td>36,376,024.38</td>\n",
       "    </tr>\n",
       "    <tr>\n",
       "      <th>495</th>\n",
       "      <td>HOSPITAL DE CLINICAS DE PORTO ALEGRE</td>\n",
       "      <td>27,565,377.43</td>\n",
       "    </tr>\n",
       "    <tr>\n",
       "      <th>282</th>\n",
       "      <td>COMANDO LOGISTICO</td>\n",
       "      <td>25,635,930.22</td>\n",
       "    </tr>\n",
       "    <tr>\n",
       "      <th>213</th>\n",
       "      <td>CENTRO DE AQUISIÇÕES ESPECÍFICAS</td>\n",
       "      <td>23,639,378.55</td>\n",
       "    </tr>\n",
       "    <tr>\n",
       "      <th>171</th>\n",
       "      <td>AGENCIA BRASILEIRA DE COOPERACAO - ABC</td>\n",
       "      <td>22,000,000.00</td>\n",
       "    </tr>\n",
       "    <tr>\n",
       "      <th>611</th>\n",
       "      <td>PRO-REITORIA DE PESQUISA/UFMG</td>\n",
       "      <td>19,416,329.30</td>\n",
       "    </tr>\n",
       "    <tr>\n",
       "      <th>582</th>\n",
       "      <td>INST.NACIONAL DE INFECTOLOGIA EVANDRO CHAGAS</td>\n",
       "      <td>18,198,704.03</td>\n",
       "    </tr>\n",
       "    <tr>\n",
       "      <th>448</th>\n",
       "      <td>ESCRITORIO FINANCEIRO EM NOVA IORQUE</td>\n",
       "      <td>13,861,640.89</td>\n",
       "    </tr>\n",
       "    <tr>\n",
       "      <th>315</th>\n",
       "      <td>CONSULADO-GERAL DO BRASIL EM LISBOA</td>\n",
       "      <td>9,899,215.41</td>\n",
       "    </tr>\n",
       "    <tr>\n",
       "      <th>390</th>\n",
       "      <td>DEPEN/DIRETORIA DE POLITICAS PENITENCIARIAS</td>\n",
       "      <td>9,091,763.71</td>\n",
       "    </tr>\n",
       "  </tbody>\n",
       "</table>\n",
       "</div>"
      ],
      "text/plain": [
       "                                 Unidade Gestora_x  valor_pago_em_real\n",
       "397     DIRETORIA EXECUTIVA DO FUNDO NAC. DE SAUDE   10,319,946,919.88\n",
       "476           FUNDO NACIONAL DE ASSISTENCIA SOCIAL    1,981,087,717.62\n",
       "389      DEPARTAMENTO DE LOGISTICA EM SAUDE - DLOG      928,906,264.45\n",
       "473                          FUNDAÇÃO OSWALDO CRUZ      220,922,288.56\n",
       "612   SECR. DE GESTAO DO TRAB. E DA EDUC. NA SAUDE       75,341,596.00\n",
       "586     INSTITUTO DE TECNOLOGIA EM IMUNOBIOLOGICOS       74,742,153.82\n",
       "335         COORDENACAO-GERAL DE GESTAO DE PESSOAS       72,716,657.76\n",
       "346  COORDENAÇÃO GERAL DE INFRAESTRUTURA DOS CAMPI       61,496,931.04\n",
       "613           SECRETARIA NACIONAL DE AVIAÇÃO CIVIL       55,597,185.83\n",
       "477     FUNDO NACIONAL DE SEGURANÇA PÚBLICA - FNSP       43,350,271.63\n",
       "475  FUNDO NAC.DE DESENV. CIENTIFICO E TECNOLOGICO       36,376,024.38\n",
       "495           HOSPITAL DE CLINICAS DE PORTO ALEGRE       27,565,377.43\n",
       "282                              COMANDO LOGISTICO       25,635,930.22\n",
       "213               CENTRO DE AQUISIÇÕES ESPECÍFICAS       23,639,378.55\n",
       "171         AGENCIA BRASILEIRA DE COOPERACAO - ABC       22,000,000.00\n",
       "611                  PRO-REITORIA DE PESQUISA/UFMG       19,416,329.30\n",
       "582   INST.NACIONAL DE INFECTOLOGIA EVANDRO CHAGAS       18,198,704.03\n",
       "448           ESCRITORIO FINANCEIRO EM NOVA IORQUE       13,861,640.89\n",
       "315            CONSULADO-GERAL DO BRASIL EM LISBOA        9,899,215.41\n",
       "390    DEPEN/DIRETORIA DE POLITICAS PENITENCIARIAS        9,091,763.71"
      ]
     },
     "execution_count": 40,
     "metadata": {},
     "output_type": "execute_result"
    }
   ],
   "source": [
    "pagamentos_covid19.groupby([\"Unidade Gestora_x\"]).valor_pago_em_real.sum().reset_index().sort_values(\"valor_pago_em_real\", ascending=False).head(20)"
   ]
  },
  {
   "cell_type": "code",
   "execution_count": 41,
   "metadata": {},
   "outputs": [],
   "source": [
    "# Salva em CSV para gráfico"
   ]
  },
  {
   "cell_type": "code",
   "execution_count": 42,
   "metadata": {},
   "outputs": [],
   "source": [
    "salva = pagamentos_covid19.groupby([\"Unidade Gestora_x\"]).valor_pago_em_real.sum().reset_index().sort_values(\"valor_pago_em_real\", ascending=False)"
   ]
  },
  {
   "cell_type": "code",
   "execution_count": 43,
   "metadata": {},
   "outputs": [
    {
     "name": "stdout",
     "output_type": "stream",
     "text": [
      "<class 'pandas.core.frame.DataFrame'>\n",
      "Int64Index: 695 entries, 397 to 577\n",
      "Data columns (total 2 columns):\n",
      " #   Column              Non-Null Count  Dtype  \n",
      "---  ------              --------------  -----  \n",
      " 0   Unidade Gestora_x   695 non-null    object \n",
      " 1   valor_pago_em_real  695 non-null    float64\n",
      "dtypes: float64(1), object(1)\n",
      "memory usage: 16.3+ KB\n"
     ]
    }
   ],
   "source": [
    "salva.info()"
   ]
  },
  {
   "cell_type": "code",
   "execution_count": 44,
   "metadata": {},
   "outputs": [],
   "source": [
    "salva.to_csv('resultados/graficos/soma_ordenada_unidade_gestora_pagamentos_feitos_de_empenhos_covid19_ate_29_junho_2020.csv', index=False)"
   ]
  },
  {
   "cell_type": "code",
   "execution_count": null,
   "metadata": {},
   "outputs": [],
   "source": []
  },
  {
   "cell_type": "code",
   "execution_count": 45,
   "metadata": {},
   "outputs": [],
   "source": [
    "# Detalha DEPARTAMENTO DE LOGISTICA EM SAUDE - DLOG"
   ]
  },
  {
   "cell_type": "code",
   "execution_count": 46,
   "metadata": {},
   "outputs": [
    {
     "data": {
      "text/html": [
       "<div>\n",
       "<style scoped>\n",
       "    .dataframe tbody tr th:only-of-type {\n",
       "        vertical-align: middle;\n",
       "    }\n",
       "\n",
       "    .dataframe tbody tr th {\n",
       "        vertical-align: top;\n",
       "    }\n",
       "\n",
       "    .dataframe thead th {\n",
       "        text-align: right;\n",
       "    }\n",
       "</style>\n",
       "<table border=\"1\" class=\"dataframe\">\n",
       "  <thead>\n",
       "    <tr style=\"text-align: right;\">\n",
       "      <th></th>\n",
       "      <th>Favorecido_x</th>\n",
       "      <th>valor_pago_em_real</th>\n",
       "    </tr>\n",
       "  </thead>\n",
       "  <tbody>\n",
       "    <tr>\n",
       "      <th>6</th>\n",
       "      <td>GLOBAL BASE DEVELOPMENT HK LIMITED</td>\n",
       "      <td>545,466,289.50</td>\n",
       "    </tr>\n",
       "    <tr>\n",
       "      <th>8</th>\n",
       "      <td>INTERMED EQUIPAMENTO MEDICO HOSPITALAR LTDA</td>\n",
       "      <td>141,900,000.00</td>\n",
       "    </tr>\n",
       "    <tr>\n",
       "      <th>15</th>\n",
       "      <td>MAGNAMED TECNOLOGIA MEDICA S/A</td>\n",
       "      <td>129,020,160.00</td>\n",
       "    </tr>\n",
       "    <tr>\n",
       "      <th>4</th>\n",
       "      <td>DESCARPACK DESCARTAVEIS DO BRASIL LTDA</td>\n",
       "      <td>30,544,000.00</td>\n",
       "    </tr>\n",
       "    <tr>\n",
       "      <th>12</th>\n",
       "      <td>LEISTUNG EQUIPAMENTOS LTDA.</td>\n",
       "      <td>30,037,000.00</td>\n",
       "    </tr>\n",
       "    <tr>\n",
       "      <th>26</th>\n",
       "      <td>WEG DRIVES &amp; CONTROLS - AUTOMACAO LTDA</td>\n",
       "      <td>15,000,000.00</td>\n",
       "    </tr>\n",
       "    <tr>\n",
       "      <th>11</th>\n",
       "      <td>KTK INDUSTRIA, IMPORTACAO, EXPORTACAO E COMERC...</td>\n",
       "      <td>13,440,000.00</td>\n",
       "    </tr>\n",
       "    <tr>\n",
       "      <th>19</th>\n",
       "      <td>PROGEN PROJETOS GERENCIAMENTO E ENGENHARIA S.A.</td>\n",
       "      <td>8,642,003.05</td>\n",
       "    </tr>\n",
       "    <tr>\n",
       "      <th>13</th>\n",
       "      <td>LIMA &amp; PERGHER INDUSTRIA E COMERCIO S/A</td>\n",
       "      <td>6,387,015.20</td>\n",
       "    </tr>\n",
       "    <tr>\n",
       "      <th>16</th>\n",
       "      <td>NACIONAL COMERCIAL HOSPITALAR S.A.</td>\n",
       "      <td>2,280,000.00</td>\n",
       "    </tr>\n",
       "    <tr>\n",
       "      <th>5</th>\n",
       "      <td>FUTURA DISTRIBUIDORA DE MEDICAMENTOS E PRODUTO...</td>\n",
       "      <td>2,040,000.00</td>\n",
       "    </tr>\n",
       "    <tr>\n",
       "      <th>0</th>\n",
       "      <td>3M DO BRASIL LTDA</td>\n",
       "      <td>1,795,000.00</td>\n",
       "    </tr>\n",
       "    <tr>\n",
       "      <th>20</th>\n",
       "      <td>PROSANIS INDUSTRIA E COMERCIO DE PRODUTOS MEDI...</td>\n",
       "      <td>700,000.00</td>\n",
       "    </tr>\n",
       "    <tr>\n",
       "      <th>23</th>\n",
       "      <td>S.M GUIMARAES</td>\n",
       "      <td>406,200.00</td>\n",
       "    </tr>\n",
       "    <tr>\n",
       "      <th>22</th>\n",
       "      <td>ROCHA LOPES REPRESENTACAO &amp; COMERCIO DE PRODUT...</td>\n",
       "      <td>389,900.00</td>\n",
       "    </tr>\n",
       "    <tr>\n",
       "      <th>10</th>\n",
       "      <td>JOAOMED COMERCIO DE MATERIAIS CIRURGICOS S/A</td>\n",
       "      <td>248,000.00</td>\n",
       "    </tr>\n",
       "    <tr>\n",
       "      <th>21</th>\n",
       "      <td>REAGEN PRODUTOS PARA LABORATORIOS EIRELI</td>\n",
       "      <td>237,628.00</td>\n",
       "    </tr>\n",
       "    <tr>\n",
       "      <th>7</th>\n",
       "      <td>INDALABOR INDAIA LABORATORIO FARMACEUTICO LTDA</td>\n",
       "      <td>124,000.00</td>\n",
       "    </tr>\n",
       "    <tr>\n",
       "      <th>1</th>\n",
       "      <td>A C L ASSISTENCIA E COMERCIO DE PRODUTOS PARA ...</td>\n",
       "      <td>64,498.80</td>\n",
       "    </tr>\n",
       "    <tr>\n",
       "      <th>3</th>\n",
       "      <td>CONCESSIONARIA DO AEROPORTO INTERNACIONAL DE G...</td>\n",
       "      <td>54,063.48</td>\n",
       "    </tr>\n",
       "  </tbody>\n",
       "</table>\n",
       "</div>"
      ],
      "text/plain": [
       "                                         Favorecido_x  valor_pago_em_real\n",
       "6                  GLOBAL BASE DEVELOPMENT HK LIMITED      545,466,289.50\n",
       "8         INTERMED EQUIPAMENTO MEDICO HOSPITALAR LTDA      141,900,000.00\n",
       "15                     MAGNAMED TECNOLOGIA MEDICA S/A      129,020,160.00\n",
       "4              DESCARPACK DESCARTAVEIS DO BRASIL LTDA       30,544,000.00\n",
       "12                        LEISTUNG EQUIPAMENTOS LTDA.       30,037,000.00\n",
       "26             WEG DRIVES & CONTROLS - AUTOMACAO LTDA       15,000,000.00\n",
       "11  KTK INDUSTRIA, IMPORTACAO, EXPORTACAO E COMERC...       13,440,000.00\n",
       "19    PROGEN PROJETOS GERENCIAMENTO E ENGENHARIA S.A.        8,642,003.05\n",
       "13            LIMA & PERGHER INDUSTRIA E COMERCIO S/A        6,387,015.20\n",
       "16                 NACIONAL COMERCIAL HOSPITALAR S.A.        2,280,000.00\n",
       "5   FUTURA DISTRIBUIDORA DE MEDICAMENTOS E PRODUTO...        2,040,000.00\n",
       "0                                   3M DO BRASIL LTDA        1,795,000.00\n",
       "20  PROSANIS INDUSTRIA E COMERCIO DE PRODUTOS MEDI...          700,000.00\n",
       "23                                      S.M GUIMARAES          406,200.00\n",
       "22  ROCHA LOPES REPRESENTACAO & COMERCIO DE PRODUT...          389,900.00\n",
       "10       JOAOMED COMERCIO DE MATERIAIS CIRURGICOS S/A          248,000.00\n",
       "21           REAGEN PRODUTOS PARA LABORATORIOS EIRELI          237,628.00\n",
       "7      INDALABOR INDAIA LABORATORIO FARMACEUTICO LTDA          124,000.00\n",
       "1   A C L ASSISTENCIA E COMERCIO DE PRODUTOS PARA ...           64,498.80\n",
       "3   CONCESSIONARIA DO AEROPORTO INTERNACIONAL DE G...           54,063.48"
      ]
     },
     "execution_count": 46,
     "metadata": {},
     "output_type": "execute_result"
    }
   ],
   "source": [
    "procura = pagamentos_covid19[(pagamentos_covid19['Unidade Gestora_x'] == 'DEPARTAMENTO DE LOGISTICA EM SAUDE - DLOG') ]\n",
    "procura.groupby([\"Favorecido_x\"]).valor_pago_em_real.sum().reset_index().sort_values(\"valor_pago_em_real\", ascending=False).head(20)"
   ]
  },
  {
   "cell_type": "code",
   "execution_count": 47,
   "metadata": {},
   "outputs": [
    {
     "data": {
      "text/plain": [
       "928906264.45"
      ]
     },
     "execution_count": 47,
     "metadata": {},
     "output_type": "execute_result"
    }
   ],
   "source": [
    "procura['valor_pago_em_real'].sum()"
   ]
  },
  {
   "cell_type": "code",
   "execution_count": null,
   "metadata": {},
   "outputs": [],
   "source": []
  },
  {
   "cell_type": "code",
   "execution_count": 48,
   "metadata": {},
   "outputs": [],
   "source": [
    "# FUNDO NACIONAL DE ASSISTENCIA SOCIAL"
   ]
  },
  {
   "cell_type": "code",
   "execution_count": 49,
   "metadata": {},
   "outputs": [
    {
     "data": {
      "text/html": [
       "<div>\n",
       "<style scoped>\n",
       "    .dataframe tbody tr th:only-of-type {\n",
       "        vertical-align: middle;\n",
       "    }\n",
       "\n",
       "    .dataframe tbody tr th {\n",
       "        vertical-align: top;\n",
       "    }\n",
       "\n",
       "    .dataframe thead th {\n",
       "        text-align: right;\n",
       "    }\n",
       "</style>\n",
       "<table border=\"1\" class=\"dataframe\">\n",
       "  <thead>\n",
       "    <tr style=\"text-align: right;\">\n",
       "      <th></th>\n",
       "      <th>Favorecido_x</th>\n",
       "      <th>valor_pago_em_real</th>\n",
       "    </tr>\n",
       "  </thead>\n",
       "  <tbody>\n",
       "    <tr>\n",
       "      <th>0</th>\n",
       "      <td>FUNDO NACIONAL DE ASSISTENCIA SOCIAL</td>\n",
       "      <td>1,981,087,717.62</td>\n",
       "    </tr>\n",
       "  </tbody>\n",
       "</table>\n",
       "</div>"
      ],
      "text/plain": [
       "                           Favorecido_x  valor_pago_em_real\n",
       "0  FUNDO NACIONAL DE ASSISTENCIA SOCIAL    1,981,087,717.62"
      ]
     },
     "execution_count": 49,
     "metadata": {},
     "output_type": "execute_result"
    }
   ],
   "source": [
    "procura = pagamentos_covid19[(pagamentos_covid19['Unidade Gestora_x'] == 'FUNDO NACIONAL DE ASSISTENCIA SOCIAL') ]\n",
    "procura.groupby([\"Favorecido_x\"]).valor_pago_em_real.sum().reset_index().sort_values(\"valor_pago_em_real\", ascending=False).head(20)"
   ]
  },
  {
   "cell_type": "code",
   "execution_count": null,
   "metadata": {},
   "outputs": [],
   "source": []
  },
  {
   "cell_type": "code",
   "execution_count": null,
   "metadata": {},
   "outputs": [],
   "source": []
  },
  {
   "cell_type": "code",
   "execution_count": 50,
   "metadata": {},
   "outputs": [],
   "source": [
    "# Agrupa a soma de valores pagos em Gestão - 20 primeiros"
   ]
  },
  {
   "cell_type": "code",
   "execution_count": 51,
   "metadata": {},
   "outputs": [
    {
     "data": {
      "text/html": [
       "<div>\n",
       "<style scoped>\n",
       "    .dataframe tbody tr th:only-of-type {\n",
       "        vertical-align: middle;\n",
       "    }\n",
       "\n",
       "    .dataframe tbody tr th {\n",
       "        vertical-align: top;\n",
       "    }\n",
       "\n",
       "    .dataframe thead th {\n",
       "        text-align: right;\n",
       "    }\n",
       "</style>\n",
       "<table border=\"1\" class=\"dataframe\">\n",
       "  <thead>\n",
       "    <tr style=\"text-align: right;\">\n",
       "      <th></th>\n",
       "      <th>Gestão_x</th>\n",
       "      <th>valor_pago_em_real</th>\n",
       "    </tr>\n",
       "  </thead>\n",
       "  <tbody>\n",
       "    <tr>\n",
       "      <th>43</th>\n",
       "      <td>TESOURO NACIONAL</td>\n",
       "      <td>13,703,352,413.28</td>\n",
       "    </tr>\n",
       "    <tr>\n",
       "      <th>5</th>\n",
       "      <td>FUNDACAO OSWALDO CRUZ</td>\n",
       "      <td>381,886,905.88</td>\n",
       "    </tr>\n",
       "    <tr>\n",
       "      <th>3</th>\n",
       "      <td>EMPRESA BRASILEIRA DE SERVICOS HOSPITALARES</td>\n",
       "      <td>42,601,335.69</td>\n",
       "    </tr>\n",
       "    <tr>\n",
       "      <th>18</th>\n",
       "      <td>HOSPITAL DE CLINICAS DE PORTO ALEGRE</td>\n",
       "      <td>27,565,377.43</td>\n",
       "    </tr>\n",
       "    <tr>\n",
       "      <th>0</th>\n",
       "      <td>COMPANHIA NACIONAL DE ABASTECIMENTO</td>\n",
       "      <td>22,929,545.62</td>\n",
       "    </tr>\n",
       "    <tr>\n",
       "      <th>53</th>\n",
       "      <td>UNIVERSIDADE FEDERAL DE MINAS GERAIS</td>\n",
       "      <td>19,435,671.22</td>\n",
       "    </tr>\n",
       "    <tr>\n",
       "      <th>10</th>\n",
       "      <td>FUNDACAO UNIVERSIDADE FEDERAL DE PELOTAS</td>\n",
       "      <td>8,813,590.10</td>\n",
       "    </tr>\n",
       "    <tr>\n",
       "      <th>55</th>\n",
       "      <td>UNIVERSIDADE FEDERAL DE PERNAMBUCO</td>\n",
       "      <td>8,395,744.73</td>\n",
       "    </tr>\n",
       "    <tr>\n",
       "      <th>22</th>\n",
       "      <td>INST.FED.DE EDUC.,CIENC.E TEC.DE GOIAS</td>\n",
       "      <td>7,901,537.16</td>\n",
       "    </tr>\n",
       "    <tr>\n",
       "      <th>19</th>\n",
       "      <td>HOSPITAL NOSSA SENHORA DA CONCEICAO S/A</td>\n",
       "      <td>6,677,937.45</td>\n",
       "    </tr>\n",
       "    <tr>\n",
       "      <th>6</th>\n",
       "      <td>FUNDACAO UNIVERSIDADE DE BRASILIA</td>\n",
       "      <td>6,571,954.00</td>\n",
       "    </tr>\n",
       "    <tr>\n",
       "      <th>64</th>\n",
       "      <td>UNIVERSIDADE FEDERAL DO RIO DE JANEIRO</td>\n",
       "      <td>6,328,075.37</td>\n",
       "    </tr>\n",
       "    <tr>\n",
       "      <th>4</th>\n",
       "      <td>FUNDACAO NACIONAL DO INDIO</td>\n",
       "      <td>5,910,567.73</td>\n",
       "    </tr>\n",
       "    <tr>\n",
       "      <th>1</th>\n",
       "      <td>CONSELHO NAC.DE DESENV.CIENTIFICO TECNOLOGICO</td>\n",
       "      <td>5,000,000.00</td>\n",
       "    </tr>\n",
       "    <tr>\n",
       "      <th>47</th>\n",
       "      <td>UNIVERSIDADE FEDERAL DE ALAGOAS</td>\n",
       "      <td>4,714,970.00</td>\n",
       "    </tr>\n",
       "    <tr>\n",
       "      <th>59</th>\n",
       "      <td>UNIVERSIDADE FEDERAL DE SAO PAULO</td>\n",
       "      <td>3,711,656.86</td>\n",
       "    </tr>\n",
       "    <tr>\n",
       "      <th>14</th>\n",
       "      <td>FUNDACAO UNIVERSIDADE FEDERAL DE UBERLANDIA</td>\n",
       "      <td>2,368,690.00</td>\n",
       "    </tr>\n",
       "    <tr>\n",
       "      <th>66</th>\n",
       "      <td>UNIVERSIDADE FEDERAL DO RIO GRANDE DO NORTE</td>\n",
       "      <td>2,254,451.73</td>\n",
       "    </tr>\n",
       "    <tr>\n",
       "      <th>13</th>\n",
       "      <td>FUNDACAO UNIVERSIDADE FEDERAL DE SERGIPE</td>\n",
       "      <td>1,820,000.00</td>\n",
       "    </tr>\n",
       "    <tr>\n",
       "      <th>61</th>\n",
       "      <td>UNIVERSIDADE FEDERAL DO CEARA</td>\n",
       "      <td>1,666,641.08</td>\n",
       "    </tr>\n",
       "  </tbody>\n",
       "</table>\n",
       "</div>"
      ],
      "text/plain": [
       "                                         Gestão_x  valor_pago_em_real\n",
       "43                               TESOURO NACIONAL   13,703,352,413.28\n",
       "5                           FUNDACAO OSWALDO CRUZ      381,886,905.88\n",
       "3     EMPRESA BRASILEIRA DE SERVICOS HOSPITALARES       42,601,335.69\n",
       "18           HOSPITAL DE CLINICAS DE PORTO ALEGRE       27,565,377.43\n",
       "0             COMPANHIA NACIONAL DE ABASTECIMENTO       22,929,545.62\n",
       "53           UNIVERSIDADE FEDERAL DE MINAS GERAIS       19,435,671.22\n",
       "10       FUNDACAO UNIVERSIDADE FEDERAL DE PELOTAS        8,813,590.10\n",
       "55             UNIVERSIDADE FEDERAL DE PERNAMBUCO        8,395,744.73\n",
       "22         INST.FED.DE EDUC.,CIENC.E TEC.DE GOIAS        7,901,537.16\n",
       "19        HOSPITAL NOSSA SENHORA DA CONCEICAO S/A        6,677,937.45\n",
       "6               FUNDACAO UNIVERSIDADE DE BRASILIA        6,571,954.00\n",
       "64         UNIVERSIDADE FEDERAL DO RIO DE JANEIRO        6,328,075.37\n",
       "4                      FUNDACAO NACIONAL DO INDIO        5,910,567.73\n",
       "1   CONSELHO NAC.DE DESENV.CIENTIFICO TECNOLOGICO        5,000,000.00\n",
       "47                UNIVERSIDADE FEDERAL DE ALAGOAS        4,714,970.00\n",
       "59              UNIVERSIDADE FEDERAL DE SAO PAULO        3,711,656.86\n",
       "14    FUNDACAO UNIVERSIDADE FEDERAL DE UBERLANDIA        2,368,690.00\n",
       "66    UNIVERSIDADE FEDERAL DO RIO GRANDE DO NORTE        2,254,451.73\n",
       "13       FUNDACAO UNIVERSIDADE FEDERAL DE SERGIPE        1,820,000.00\n",
       "61                  UNIVERSIDADE FEDERAL DO CEARA        1,666,641.08"
      ]
     },
     "execution_count": 51,
     "metadata": {},
     "output_type": "execute_result"
    }
   ],
   "source": [
    "pagamentos_covid19.groupby([\"Gestão_x\"]).valor_pago_em_real.sum().reset_index().sort_values(\"valor_pago_em_real\", ascending=False).head(20)"
   ]
  },
  {
   "cell_type": "code",
   "execution_count": null,
   "metadata": {},
   "outputs": [],
   "source": []
  },
  {
   "cell_type": "code",
   "execution_count": 52,
   "metadata": {},
   "outputs": [],
   "source": [
    "# Agrupa a soma de valores pagos em Favorecido - 20 primeiros"
   ]
  },
  {
   "cell_type": "code",
   "execution_count": 53,
   "metadata": {},
   "outputs": [
    {
     "data": {
      "text/html": [
       "<div>\n",
       "<style scoped>\n",
       "    .dataframe tbody tr th:only-of-type {\n",
       "        vertical-align: middle;\n",
       "    }\n",
       "\n",
       "    .dataframe tbody tr th {\n",
       "        vertical-align: top;\n",
       "    }\n",
       "\n",
       "    .dataframe thead th {\n",
       "        text-align: right;\n",
       "    }\n",
       "</style>\n",
       "<table border=\"1\" class=\"dataframe\">\n",
       "  <thead>\n",
       "    <tr style=\"text-align: right;\">\n",
       "      <th></th>\n",
       "      <th>Favorecido_x</th>\n",
       "      <th>Código Favorecido_x</th>\n",
       "      <th>valor_pago_em_real</th>\n",
       "    </tr>\n",
       "  </thead>\n",
       "  <tbody>\n",
       "    <tr>\n",
       "      <th>867</th>\n",
       "      <td>DIRETORIA EXECUTIVA DO FUNDO NAC. DE SAUDE</td>\n",
       "      <td>257001</td>\n",
       "      <td>8,263,524,190.88</td>\n",
       "    </tr>\n",
       "    <tr>\n",
       "      <th>2104</th>\n",
       "      <td>FUNDO NACIONAL DE ASSISTENCIA SOCIAL</td>\n",
       "      <td>330013</td>\n",
       "      <td>1,981,087,717.62</td>\n",
       "    </tr>\n",
       "    <tr>\n",
       "      <th>2174</th>\n",
       "      <td>GLOBAL BASE DEVELOPMENT HK LIMITED</td>\n",
       "      <td>EX2590112</td>\n",
       "      <td>545,466,289.50</td>\n",
       "    </tr>\n",
       "    <tr>\n",
       "      <th>3095</th>\n",
       "      <td>ORGANIZACAO PAN-AMERICANA DA SAUDE/ORGANIZACAO...</td>\n",
       "      <td>04096431000154</td>\n",
       "      <td>432,376,875.00</td>\n",
       "    </tr>\n",
       "    <tr>\n",
       "      <th>1276</th>\n",
       "      <td>FUNDO ESTADUAL DE SAUDE - FUNDES</td>\n",
       "      <td>13851748000140</td>\n",
       "      <td>152,861,216.00</td>\n",
       "    </tr>\n",
       "    <tr>\n",
       "      <th>2365</th>\n",
       "      <td>INTERMED EQUIPAMENTO MEDICO HOSPITALAR LTDA</td>\n",
       "      <td>49520521000169</td>\n",
       "      <td>141,900,000.00</td>\n",
       "    </tr>\n",
       "    <tr>\n",
       "      <th>2762</th>\n",
       "      <td>MAGNAMED TECNOLOGIA MEDICA S/A</td>\n",
       "      <td>01298443000254</td>\n",
       "      <td>129,020,160.00</td>\n",
       "    </tr>\n",
       "    <tr>\n",
       "      <th>2355</th>\n",
       "      <td>INSTITUTO DE BIOLOGIA MOLECULAR DO PARANA - IBMP</td>\n",
       "      <td>03585986000105</td>\n",
       "      <td>116,334,129.25</td>\n",
       "    </tr>\n",
       "    <tr>\n",
       "      <th>1272</th>\n",
       "      <td>FUNDO ESTADUAL DE SAUDE</td>\n",
       "      <td>74031865000151</td>\n",
       "      <td>105,970,421.00</td>\n",
       "    </tr>\n",
       "    <tr>\n",
       "      <th>1278</th>\n",
       "      <td>FUNDO ESTADUAL DE SAUDE DO ESTADO DA BAHIA</td>\n",
       "      <td>05816630000152</td>\n",
       "      <td>95,366,269.00</td>\n",
       "    </tr>\n",
       "    <tr>\n",
       "      <th>341</th>\n",
       "      <td>BANCO DO BRASIL SA</td>\n",
       "      <td>00000000000191</td>\n",
       "      <td>75,439,165.48</td>\n",
       "    </tr>\n",
       "    <tr>\n",
       "      <th>3309</th>\n",
       "      <td>RAC ENGENHARIA E COMERCIO LTDA</td>\n",
       "      <td>04392190000190</td>\n",
       "      <td>60,986,304.45</td>\n",
       "    </tr>\n",
       "    <tr>\n",
       "      <th>732</th>\n",
       "      <td>COORDENACAO-GERAL DE GESTAO DE PESSOAS</td>\n",
       "      <td>250006</td>\n",
       "      <td>60,631,562.84</td>\n",
       "    </tr>\n",
       "    <tr>\n",
       "      <th>3660</th>\n",
       "      <td>TAM LINHAS AEREAS S/A.</td>\n",
       "      <td>02012862000160</td>\n",
       "      <td>55,597,185.83</td>\n",
       "    </tr>\n",
       "    <tr>\n",
       "      <th>1277</th>\n",
       "      <td>FUNDO ESTADUAL DE SAUDE DE PERNAMBUCO</td>\n",
       "      <td>11430018000140</td>\n",
       "      <td>54,921,718.00</td>\n",
       "    </tr>\n",
       "    <tr>\n",
       "      <th>1178</th>\n",
       "      <td>FIOTEC - FUNDACAO PARA O DESENVOLVIMENTO CIENT...</td>\n",
       "      <td>02385669000174</td>\n",
       "      <td>51,234,488.06</td>\n",
       "    </tr>\n",
       "    <tr>\n",
       "      <th>1258</th>\n",
       "      <td>FUNDO DE SAUDE DO DISTRITO FEDERAL</td>\n",
       "      <td>12116247000157</td>\n",
       "      <td>50,437,829.00</td>\n",
       "    </tr>\n",
       "    <tr>\n",
       "      <th>1179</th>\n",
       "      <td>FIOTEC - FUNDACAO PARA O DESENVOLVIMENTO CIENT...</td>\n",
       "      <td>02385669000174</td>\n",
       "      <td>49,998,378.17</td>\n",
       "    </tr>\n",
       "    <tr>\n",
       "      <th>1734</th>\n",
       "      <td>FUNDO MUNICIPAL DE SAUDE DE DUQUE DE CAXIAS</td>\n",
       "      <td>11128809000110</td>\n",
       "      <td>48,737,165.00</td>\n",
       "    </tr>\n",
       "    <tr>\n",
       "      <th>1273</th>\n",
       "      <td>FUNDO ESTADUAL DE SAUDE</td>\n",
       "      <td>87182846000178</td>\n",
       "      <td>48,518,312.00</td>\n",
       "    </tr>\n",
       "  </tbody>\n",
       "</table>\n",
       "</div>"
      ],
      "text/plain": [
       "                                           Favorecido_x Código Favorecido_x  \\\n",
       "867          DIRETORIA EXECUTIVA DO FUNDO NAC. DE SAUDE              257001   \n",
       "2104               FUNDO NACIONAL DE ASSISTENCIA SOCIAL              330013   \n",
       "2174                 GLOBAL BASE DEVELOPMENT HK LIMITED           EX2590112   \n",
       "3095  ORGANIZACAO PAN-AMERICANA DA SAUDE/ORGANIZACAO...      04096431000154   \n",
       "1276                   FUNDO ESTADUAL DE SAUDE - FUNDES      13851748000140   \n",
       "2365        INTERMED EQUIPAMENTO MEDICO HOSPITALAR LTDA      49520521000169   \n",
       "2762                     MAGNAMED TECNOLOGIA MEDICA S/A      01298443000254   \n",
       "2355   INSTITUTO DE BIOLOGIA MOLECULAR DO PARANA - IBMP      03585986000105   \n",
       "1272                            FUNDO ESTADUAL DE SAUDE      74031865000151   \n",
       "1278         FUNDO ESTADUAL DE SAUDE DO ESTADO DA BAHIA      05816630000152   \n",
       "341                                  BANCO DO BRASIL SA      00000000000191   \n",
       "3309                     RAC ENGENHARIA E COMERCIO LTDA      04392190000190   \n",
       "732              COORDENACAO-GERAL DE GESTAO DE PESSOAS              250006   \n",
       "3660                             TAM LINHAS AEREAS S/A.      02012862000160   \n",
       "1277              FUNDO ESTADUAL DE SAUDE DE PERNAMBUCO      11430018000140   \n",
       "1178  FIOTEC - FUNDACAO PARA O DESENVOLVIMENTO CIENT...      02385669000174   \n",
       "1258                 FUNDO DE SAUDE DO DISTRITO FEDERAL      12116247000157   \n",
       "1179  FIOTEC - FUNDACAO PARA O DESENVOLVIMENTO CIENT...      02385669000174   \n",
       "1734        FUNDO MUNICIPAL DE SAUDE DE DUQUE DE CAXIAS      11128809000110   \n",
       "1273                            FUNDO ESTADUAL DE SAUDE      87182846000178   \n",
       "\n",
       "      valor_pago_em_real  \n",
       "867     8,263,524,190.88  \n",
       "2104    1,981,087,717.62  \n",
       "2174      545,466,289.50  \n",
       "3095      432,376,875.00  \n",
       "1276      152,861,216.00  \n",
       "2365      141,900,000.00  \n",
       "2762      129,020,160.00  \n",
       "2355      116,334,129.25  \n",
       "1272      105,970,421.00  \n",
       "1278       95,366,269.00  \n",
       "341        75,439,165.48  \n",
       "3309       60,986,304.45  \n",
       "732        60,631,562.84  \n",
       "3660       55,597,185.83  \n",
       "1277       54,921,718.00  \n",
       "1178       51,234,488.06  \n",
       "1258       50,437,829.00  \n",
       "1179       49,998,378.17  \n",
       "1734       48,737,165.00  \n",
       "1273       48,518,312.00  "
      ]
     },
     "execution_count": 53,
     "metadata": {},
     "output_type": "execute_result"
    }
   ],
   "source": [
    "pagamentos_covid19.groupby([\"Favorecido_x\", \"Código Favorecido_x\"]).valor_pago_em_real.sum().reset_index().sort_values(\"valor_pago_em_real\", ascending=False).head(20)"
   ]
  },
  {
   "cell_type": "code",
   "execution_count": 54,
   "metadata": {},
   "outputs": [],
   "source": [
    "procura = pagamentos_covid19[(pagamentos_covid19['Código Favorecido_x'] == '49520521000169') ]"
   ]
  },
  {
   "cell_type": "code",
   "execution_count": 55,
   "metadata": {},
   "outputs": [
    {
     "data": {
      "text/html": [
       "<div>\n",
       "<style scoped>\n",
       "    .dataframe tbody tr th:only-of-type {\n",
       "        vertical-align: middle;\n",
       "    }\n",
       "\n",
       "    .dataframe tbody tr th {\n",
       "        vertical-align: top;\n",
       "    }\n",
       "\n",
       "    .dataframe thead th {\n",
       "        text-align: right;\n",
       "    }\n",
       "</style>\n",
       "<table border=\"1\" class=\"dataframe\">\n",
       "  <thead>\n",
       "    <tr style=\"text-align: right;\">\n",
       "      <th></th>\n",
       "      <th>Código Empenho</th>\n",
       "      <th>Id Empenho</th>\n",
       "      <th>valor_pago_em_real</th>\n",
       "    </tr>\n",
       "  </thead>\n",
       "  <tbody>\n",
       "    <tr>\n",
       "      <th>0</th>\n",
       "      <td>250005000012020NE000104</td>\n",
       "      <td>178500504</td>\n",
       "      <td>141,900,000.00</td>\n",
       "    </tr>\n",
       "  </tbody>\n",
       "</table>\n",
       "</div>"
      ],
      "text/plain": [
       "            Código Empenho Id Empenho  valor_pago_em_real\n",
       "0  250005000012020NE000104  178500504      141,900,000.00"
      ]
     },
     "execution_count": 55,
     "metadata": {},
     "output_type": "execute_result"
    }
   ],
   "source": [
    "procura.groupby([\"Código Empenho\", \"Id Empenho\"]).valor_pago_em_real.sum().reset_index().sort_values(\"valor_pago_em_real\", ascending=False)"
   ]
  },
  {
   "cell_type": "code",
   "execution_count": 56,
   "metadata": {},
   "outputs": [
    {
     "data": {
      "text/html": [
       "<div>\n",
       "<style scoped>\n",
       "    .dataframe tbody tr th:only-of-type {\n",
       "        vertical-align: middle;\n",
       "    }\n",
       "\n",
       "    .dataframe tbody tr th {\n",
       "        vertical-align: top;\n",
       "    }\n",
       "\n",
       "    .dataframe thead th {\n",
       "        text-align: right;\n",
       "    }\n",
       "</style>\n",
       "<table border=\"1\" class=\"dataframe\">\n",
       "  <thead>\n",
       "    <tr style=\"text-align: right;\">\n",
       "      <th></th>\n",
       "      <th>Data Emissão_x</th>\n",
       "      <th>Código Empenho</th>\n",
       "      <th>Id Empenho</th>\n",
       "      <th>Órgão_x</th>\n",
       "      <th>Unidade Gestora_x</th>\n",
       "      <th>Código Favorecido_x</th>\n",
       "      <th>Favorecido_x</th>\n",
       "      <th>Valor do Empenho Convertido pra R$</th>\n",
       "      <th>valor_pago_em_real</th>\n",
       "      <th>Valor Restos a Pagar Inscritos (R$)</th>\n",
       "      <th>Observação_x</th>\n",
       "      <th>Observação_y</th>\n",
       "      <th>Modalidade de Licitação</th>\n",
       "    </tr>\n",
       "  </thead>\n",
       "  <tbody>\n",
       "    <tr>\n",
       "      <th>17184</th>\n",
       "      <td>13/04/2020</td>\n",
       "      <td>250005000012020NE000104</td>\n",
       "      <td>178500504</td>\n",
       "      <td>Ministério da Saúde - Unidades com vínculo di</td>\n",
       "      <td>DEPARTAMENTO DE LOGISTICA EM SAUDE - DLOG</td>\n",
       "      <td>49520521000169</td>\n",
       "      <td>INTERMED EQUIPAMENTO MEDICO HOSPITALAR LTDA</td>\n",
       "      <td>258,000,000.00</td>\n",
       "      <td>8,301,150.00</td>\n",
       "      <td>0.00</td>\n",
       "      <td>ATENDER DESPESAS COM AQUISICAO DE 4.300 VENTIL...</td>\n",
       "      <td>IN 1234/2012</td>\n",
       "      <td>Não se Aplica</td>\n",
       "    </tr>\n",
       "    <tr>\n",
       "      <th>17185</th>\n",
       "      <td>13/04/2020</td>\n",
       "      <td>250005000012020NE000104</td>\n",
       "      <td>178500504</td>\n",
       "      <td>Ministério da Saúde - Unidades com vínculo di</td>\n",
       "      <td>DEPARTAMENTO DE LOGISTICA EM SAUDE - DLOG</td>\n",
       "      <td>49520521000169</td>\n",
       "      <td>INTERMED EQUIPAMENTO MEDICO HOSPITALAR LTDA</td>\n",
       "      <td>258,000,000.00</td>\n",
       "      <td>133,598,850.00</td>\n",
       "      <td>0.00</td>\n",
       "      <td>ATENDER DESPESAS COM AQUISICAO DE 4.300 VENTIL...</td>\n",
       "      <td>PGTO PARA EMPRESA INTERMED EQUIPAMENTOS REF. A...</td>\n",
       "      <td>Não se Aplica</td>\n",
       "    </tr>\n",
       "  </tbody>\n",
       "</table>\n",
       "</div>"
      ],
      "text/plain": [
       "      Data Emissão_x           Código Empenho Id Empenho  \\\n",
       "17184     13/04/2020  250005000012020NE000104  178500504   \n",
       "17185     13/04/2020  250005000012020NE000104  178500504   \n",
       "\n",
       "                                             Órgão_x  \\\n",
       "17184  Ministério da Saúde - Unidades com vínculo di   \n",
       "17185  Ministério da Saúde - Unidades com vínculo di   \n",
       "\n",
       "                               Unidade Gestora_x Código Favorecido_x  \\\n",
       "17184  DEPARTAMENTO DE LOGISTICA EM SAUDE - DLOG      49520521000169   \n",
       "17185  DEPARTAMENTO DE LOGISTICA EM SAUDE - DLOG      49520521000169   \n",
       "\n",
       "                                      Favorecido_x  \\\n",
       "17184  INTERMED EQUIPAMENTO MEDICO HOSPITALAR LTDA   \n",
       "17185  INTERMED EQUIPAMENTO MEDICO HOSPITALAR LTDA   \n",
       "\n",
       "       Valor do Empenho Convertido pra R$  valor_pago_em_real  \\\n",
       "17184                      258,000,000.00        8,301,150.00   \n",
       "17185                      258,000,000.00      133,598,850.00   \n",
       "\n",
       "       Valor Restos a Pagar Inscritos (R$)  \\\n",
       "17184                                 0.00   \n",
       "17185                                 0.00   \n",
       "\n",
       "                                            Observação_x  \\\n",
       "17184  ATENDER DESPESAS COM AQUISICAO DE 4.300 VENTIL...   \n",
       "17185  ATENDER DESPESAS COM AQUISICAO DE 4.300 VENTIL...   \n",
       "\n",
       "                                            Observação_y  \\\n",
       "17184                                       IN 1234/2012   \n",
       "17185  PGTO PARA EMPRESA INTERMED EQUIPAMENTOS REF. A...   \n",
       "\n",
       "      Modalidade de Licitação  \n",
       "17184           Não se Aplica  \n",
       "17185           Não se Aplica  "
      ]
     },
     "execution_count": 56,
     "metadata": {},
     "output_type": "execute_result"
    }
   ],
   "source": [
    "procura[[\"Data Emissão_x\",\"Código Empenho\", \"Id Empenho\", \"Órgão_x\", \"Unidade Gestora_x\", \"Código Favorecido_x\", \"Favorecido_x\", \"Valor do Empenho Convertido pra R$\", \"valor_pago_em_real\", \"Valor Restos a Pagar Inscritos (R$)\", \"Observação_x\", \"Observação_y\",  \"Modalidade de Licitação\"]]"
   ]
  },
  {
   "cell_type": "code",
   "execution_count": null,
   "metadata": {},
   "outputs": [],
   "source": []
  },
  {
   "cell_type": "code",
   "execution_count": 57,
   "metadata": {},
   "outputs": [],
   "source": [
    "procura = pagamentos_covid19[(pagamentos_covid19['Código Favorecido_x'] == 'EX2590112') ]"
   ]
  },
  {
   "cell_type": "code",
   "execution_count": 58,
   "metadata": {},
   "outputs": [
    {
     "data": {
      "text/plain": [
       "545466289.5"
      ]
     },
     "execution_count": 58,
     "metadata": {},
     "output_type": "execute_result"
    }
   ],
   "source": [
    "procura['valor_pago_em_real'].sum()"
   ]
  },
  {
   "cell_type": "code",
   "execution_count": null,
   "metadata": {},
   "outputs": [],
   "source": []
  },
  {
   "cell_type": "code",
   "execution_count": 59,
   "metadata": {},
   "outputs": [],
   "source": [
    "# Salva um CSV para criar gráfico"
   ]
  },
  {
   "cell_type": "code",
   "execution_count": 60,
   "metadata": {},
   "outputs": [],
   "source": [
    "salva = pagamentos_covid19.groupby([\"Favorecido_x\", \"Código Favorecido_x\"]).valor_pago_em_real.sum().reset_index().sort_values(\"valor_pago_em_real\", ascending=False)"
   ]
  },
  {
   "cell_type": "code",
   "execution_count": 61,
   "metadata": {},
   "outputs": [
    {
     "name": "stdout",
     "output_type": "stream",
     "text": [
      "<class 'pandas.core.frame.DataFrame'>\n",
      "Int64Index: 3923 entries, 867 to 1002\n",
      "Data columns (total 3 columns):\n",
      " #   Column               Non-Null Count  Dtype  \n",
      "---  ------               --------------  -----  \n",
      " 0   Favorecido_x         3923 non-null   object \n",
      " 1   Código Favorecido_x  3923 non-null   object \n",
      " 2   valor_pago_em_real   3923 non-null   float64\n",
      "dtypes: float64(1), object(2)\n",
      "memory usage: 122.6+ KB\n"
     ]
    }
   ],
   "source": [
    "salva.info()"
   ]
  },
  {
   "cell_type": "code",
   "execution_count": 62,
   "metadata": {},
   "outputs": [],
   "source": [
    "salva.to_csv('resultados/graficos/soma_ordenada_favorecidos_pagamentos_feitos_de_empenhos_covid19_ate_29_junho_2020.csv', index=False)"
   ]
  },
  {
   "cell_type": "code",
   "execution_count": null,
   "metadata": {},
   "outputs": [],
   "source": []
  },
  {
   "cell_type": "code",
   "execution_count": null,
   "metadata": {},
   "outputs": [],
   "source": []
  },
  {
   "cell_type": "code",
   "execution_count": 63,
   "metadata": {},
   "outputs": [],
   "source": [
    "import seaborn as sns\n",
    "import matplotlib.pyplot as plt\n",
    "\n",
    "%matplotlib inline"
   ]
  },
  {
   "cell_type": "code",
   "execution_count": 64,
   "metadata": {},
   "outputs": [],
   "source": [
    "graf = pagamentos_covid19.groupby([\"Favorecido_x\", \"Código Favorecido_x\"]).valor_pago_em_real.sum().reset_index().sort_values(\"valor_pago_em_real\", ascending=False).head(15)\n",
    "graf.rename(columns = {'Favorecido_x':'instituicao_empresa_favorecida'},inplace = True)\n",
    "graf.rename(columns = {'Código Favorecido_x':'cod_favorecido'},inplace = True)"
   ]
  },
  {
   "cell_type": "code",
   "execution_count": 65,
   "metadata": {},
   "outputs": [
    {
     "name": "stdout",
     "output_type": "stream",
     "text": [
      "<class 'pandas.core.frame.DataFrame'>\n",
      "Int64Index: 15 entries, 867 to 1277\n",
      "Data columns (total 3 columns):\n",
      " #   Column                          Non-Null Count  Dtype  \n",
      "---  ------                          --------------  -----  \n",
      " 0   instituicao_empresa_favorecida  15 non-null     object \n",
      " 1   cod_favorecido                  15 non-null     object \n",
      " 2   valor_pago_em_real              15 non-null     float64\n",
      "dtypes: float64(1), object(2)\n",
      "memory usage: 480.0+ bytes\n"
     ]
    }
   ],
   "source": [
    "graf.info()"
   ]
  },
  {
   "cell_type": "code",
   "execution_count": 66,
   "metadata": {},
   "outputs": [
    {
     "data": {
      "image/png": "[encoded data removed]",
      "text/plain": [
       "<Figure size 1440x1008 with 1 Axes>"
      ]
     },
     "metadata": {},
     "output_type": "display_data"
    }
   ],
   "source": [
    "sns.set(style=\"whitegrid\")\n",
    "\n",
    "fig_dims = (20, 14)\n",
    "fig, ax = plt.subplots(figsize=fig_dims)\n",
    "plt.xticks(rotation=45, ha='right')\n",
    "\n",
    "ax = sns.barplot(x=\"instituicao_empresa_favorecida\", y=\"valor_pago_em_real\", data=graf)"
   ]
  },
  {
   "cell_type": "code",
   "execution_count": null,
   "metadata": {},
   "outputs": [],
   "source": []
  },
  {
   "cell_type": "code",
   "execution_count": 67,
   "metadata": {},
   "outputs": [],
   "source": [
    "# Soma valores em sigilo"
   ]
  },
  {
   "cell_type": "code",
   "execution_count": 68,
   "metadata": {},
   "outputs": [],
   "source": [
    "sigilo = pagamentos_covid19[(pagamentos_covid19['Favorecido_x'] == 'Informação protegida por sigilo nos termos da legislaçã') |  \n",
    "                           (pagamentos_covid19['Código Favorecido_x'] == '-11')]"
   ]
  },
  {
   "cell_type": "code",
   "execution_count": 69,
   "metadata": {},
   "outputs": [
    {
     "data": {
      "text/plain": [
       "1117194.06"
      ]
     },
     "execution_count": 69,
     "metadata": {},
     "output_type": "execute_result"
    }
   ],
   "source": [
    "sigilo['valor_pago_em_real'].sum()"
   ]
  },
  {
   "cell_type": "code",
   "execution_count": 70,
   "metadata": {},
   "outputs": [],
   "source": [
    "# Máximo em sigilo"
   ]
  },
  {
   "cell_type": "code",
   "execution_count": 71,
   "metadata": {},
   "outputs": [
    {
     "data": {
      "text/plain": [
       "Data Emissão_x                                                                02/04/2020\n",
       "Código Empenho                                                   160062000012020NE000055\n",
       "Id Empenho                                                                     184000107\n",
       "Código Empenho Resumido                                                     2020NE000055\n",
       "Órgão_x                                                              Comando do Exército\n",
       "Unidade Gestora_x                                     CENTRO DE INTELIGENCIA DO EXERCITO\n",
       "Código Favorecido_x                                                                  -11\n",
       "Favorecido_x                           Informação protegida por sigilo nos termos da ...\n",
       "Valor do Empenho Convertido pra R$                                            380,000.00\n",
       "valor_pago_em_real                                                            380,000.00\n",
       "Valor Restos a Pagar Inscritos (R$)                                                 0.00\n",
       "Observação_x                           Informação protegida por sigilo nos termos da ...\n",
       "Observação_y                           Informação protegida por sigilo nos termos da ...\n",
       "Modalidade de Licitação                                                    Não se Aplica\n",
       "Name: 9117, dtype: object"
      ]
     },
     "execution_count": 71,
     "metadata": {},
     "output_type": "execute_result"
    }
   ],
   "source": [
    "sigilo.loc[sigilo['valor_pago_em_real'].idxmax()][[\"Data Emissão_x\",\"Código Empenho\", \"Id Empenho\", \"Código Empenho Resumido\", \"Órgão_x\", \"Unidade Gestora_x\", \"Código Favorecido_x\", \"Favorecido_x\", \"Valor do Empenho Convertido pra R$\", \"valor_pago_em_real\", \"Valor Restos a Pagar Inscritos (R$)\", \"Observação_x\", \"Observação_y\",  \"Modalidade de Licitação\"]]"
   ]
  },
  {
   "cell_type": "code",
   "execution_count": null,
   "metadata": {},
   "outputs": [],
   "source": []
  },
  {
   "cell_type": "code",
   "execution_count": null,
   "metadata": {},
   "outputs": [],
   "source": []
  },
  {
   "cell_type": "code",
   "execution_count": 72,
   "metadata": {},
   "outputs": [],
   "source": [
    "# Soma valores por autores de Emenda"
   ]
  },
  {
   "cell_type": "code",
   "execution_count": 73,
   "metadata": {},
   "outputs": [],
   "source": [
    "emendas = pagamentos_covid19[(pagamentos_covid19['Autor Emenda'] != 'SEM EMENDA')]"
   ]
  },
  {
   "cell_type": "code",
   "execution_count": 74,
   "metadata": {},
   "outputs": [
    {
     "data": {
      "text/plain": [
       "1624045854.0"
      ]
     },
     "execution_count": 74,
     "metadata": {},
     "output_type": "execute_result"
    }
   ],
   "source": [
    "emendas['valor_pago_em_real'].sum()"
   ]
  },
  {
   "cell_type": "code",
   "execution_count": 75,
   "metadata": {},
   "outputs": [
    {
     "data": {
      "text/html": [
       "<div>\n",
       "<style scoped>\n",
       "    .dataframe tbody tr th:only-of-type {\n",
       "        vertical-align: middle;\n",
       "    }\n",
       "\n",
       "    .dataframe tbody tr th {\n",
       "        vertical-align: top;\n",
       "    }\n",
       "\n",
       "    .dataframe thead th {\n",
       "        text-align: right;\n",
       "    }\n",
       "</style>\n",
       "<table border=\"1\" class=\"dataframe\">\n",
       "  <thead>\n",
       "    <tr style=\"text-align: right;\">\n",
       "      <th></th>\n",
       "      <th>Autor Emenda</th>\n",
       "      <th>valor_pago_em_real</th>\n",
       "    </tr>\n",
       "  </thead>\n",
       "  <tbody>\n",
       "    <tr>\n",
       "      <th>0</th>\n",
       "      <td>BANCADA DA BAHIA / EMENDA 4</td>\n",
       "      <td>183,821,953.00</td>\n",
       "    </tr>\n",
       "    <tr>\n",
       "      <th>34</th>\n",
       "      <td>BANCADA DO CEARA / EMENDA 14</td>\n",
       "      <td>181,066,340.00</td>\n",
       "    </tr>\n",
       "    <tr>\n",
       "      <th>33</th>\n",
       "      <td>BANCADA DO AMAZONAS / EMENDA 5</td>\n",
       "      <td>116,834,308.00</td>\n",
       "    </tr>\n",
       "    <tr>\n",
       "      <th>17</th>\n",
       "      <td>BANCADA DE SAO PAULO / EMENDA 1</td>\n",
       "      <td>106,662,280.00</td>\n",
       "    </tr>\n",
       "    <tr>\n",
       "      <th>38</th>\n",
       "      <td>BANCADA DO MARANHAO / EMENDA 3</td>\n",
       "      <td>81,542,300.00</td>\n",
       "    </tr>\n",
       "    <tr>\n",
       "      <th>7</th>\n",
       "      <td>BANCADA DE GOIAS / EMENDA 7</td>\n",
       "      <td>78,903,427.00</td>\n",
       "    </tr>\n",
       "    <tr>\n",
       "      <th>40</th>\n",
       "      <td>BANCADA DO RIO DE JANEIRO / EMENDA 2</td>\n",
       "      <td>53,215,190.00</td>\n",
       "    </tr>\n",
       "    <tr>\n",
       "      <th>35</th>\n",
       "      <td>BANCADA DO DISTRITO FEDERAL / EMENDA 3</td>\n",
       "      <td>50,437,829.00</td>\n",
       "    </tr>\n",
       "    <tr>\n",
       "      <th>16</th>\n",
       "      <td>BANCADA DE RORAIMA / EMENDA 9</td>\n",
       "      <td>49,014,018.00</td>\n",
       "    </tr>\n",
       "    <tr>\n",
       "      <th>27</th>\n",
       "      <td>BANCADA DE SERGIPE / EMENDA 8</td>\n",
       "      <td>46,845,090.00</td>\n",
       "    </tr>\n",
       "    <tr>\n",
       "      <th>41</th>\n",
       "      <td>BANCADA DO RIO DE JANEIRO / EMENDA 9</td>\n",
       "      <td>44,482,630.00</td>\n",
       "    </tr>\n",
       "    <tr>\n",
       "      <th>37</th>\n",
       "      <td>BANCADA DO MARANHAO / EMENDA 2</td>\n",
       "      <td>43,710,800.00</td>\n",
       "    </tr>\n",
       "    <tr>\n",
       "      <th>32</th>\n",
       "      <td>BANCADA DO AMAPA / EMENDA 5</td>\n",
       "      <td>35,457,173.00</td>\n",
       "    </tr>\n",
       "    <tr>\n",
       "      <th>42</th>\n",
       "      <td>BANCADA DO RIO GRANDE DO NORTE / EMENDA 11</td>\n",
       "      <td>33,253,439.00</td>\n",
       "    </tr>\n",
       "    <tr>\n",
       "      <th>30</th>\n",
       "      <td>BANCADA DO ACRE / EMENDA 6</td>\n",
       "      <td>31,891,081.00</td>\n",
       "    </tr>\n",
       "    <tr>\n",
       "      <th>15</th>\n",
       "      <td>BANCADA DE RONDONIA / EMENDA 4</td>\n",
       "      <td>30,991,725.00</td>\n",
       "    </tr>\n",
       "    <tr>\n",
       "      <th>28</th>\n",
       "      <td>BANCADA DE TOCANTINS / EMENDA 14</td>\n",
       "      <td>29,632,738.00</td>\n",
       "    </tr>\n",
       "    <tr>\n",
       "      <th>23</th>\n",
       "      <td>BANCADA DE SAO PAULO / EMENDA 6</td>\n",
       "      <td>27,922,527.00</td>\n",
       "    </tr>\n",
       "    <tr>\n",
       "      <th>1</th>\n",
       "      <td>BANCADA DA PARAIBA / EMENDA 12</td>\n",
       "      <td>26,794,170.00</td>\n",
       "    </tr>\n",
       "    <tr>\n",
       "      <th>31</th>\n",
       "      <td>BANCADA DO AMAPA / EMENDA 4</td>\n",
       "      <td>23,774,304.00</td>\n",
       "    </tr>\n",
       "  </tbody>\n",
       "</table>\n",
       "</div>"
      ],
      "text/plain": [
       "                                  Autor Emenda  valor_pago_em_real\n",
       "0                  BANCADA DA BAHIA / EMENDA 4      183,821,953.00\n",
       "34                BANCADA DO CEARA / EMENDA 14      181,066,340.00\n",
       "33              BANCADA DO AMAZONAS / EMENDA 5      116,834,308.00\n",
       "17             BANCADA DE SAO PAULO / EMENDA 1      106,662,280.00\n",
       "38              BANCADA DO MARANHAO / EMENDA 3       81,542,300.00\n",
       "7                  BANCADA DE GOIAS / EMENDA 7       78,903,427.00\n",
       "40        BANCADA DO RIO DE JANEIRO / EMENDA 2       53,215,190.00\n",
       "35      BANCADA DO DISTRITO FEDERAL / EMENDA 3       50,437,829.00\n",
       "16               BANCADA DE RORAIMA / EMENDA 9       49,014,018.00\n",
       "27               BANCADA DE SERGIPE / EMENDA 8       46,845,090.00\n",
       "41        BANCADA DO RIO DE JANEIRO / EMENDA 9       44,482,630.00\n",
       "37              BANCADA DO MARANHAO / EMENDA 2       43,710,800.00\n",
       "32                 BANCADA DO AMAPA / EMENDA 5       35,457,173.00\n",
       "42  BANCADA DO RIO GRANDE DO NORTE / EMENDA 11       33,253,439.00\n",
       "30                  BANCADA DO ACRE / EMENDA 6       31,891,081.00\n",
       "15              BANCADA DE RONDONIA / EMENDA 4       30,991,725.00\n",
       "28            BANCADA DE TOCANTINS / EMENDA 14       29,632,738.00\n",
       "23             BANCADA DE SAO PAULO / EMENDA 6       27,922,527.00\n",
       "1               BANCADA DA PARAIBA / EMENDA 12       26,794,170.00\n",
       "31                 BANCADA DO AMAPA / EMENDA 4       23,774,304.00"
      ]
     },
     "execution_count": 75,
     "metadata": {},
     "output_type": "execute_result"
    }
   ],
   "source": [
    "emendas.groupby([\"Autor Emenda\"]).valor_pago_em_real.sum().reset_index().sort_values(\"valor_pago_em_real\", ascending=False).head(20)"
   ]
  },
  {
   "cell_type": "code",
   "execution_count": 76,
   "metadata": {},
   "outputs": [],
   "source": [
    "# Salva em CSV para gráfico"
   ]
  },
  {
   "cell_type": "code",
   "execution_count": 77,
   "metadata": {},
   "outputs": [],
   "source": [
    "salva = emendas.groupby([\"Autor Emenda\"]).valor_pago_em_real.sum().reset_index().sort_values(\"valor_pago_em_real\", ascending=False)"
   ]
  },
  {
   "cell_type": "code",
   "execution_count": 78,
   "metadata": {},
   "outputs": [
    {
     "name": "stdout",
     "output_type": "stream",
     "text": [
      "<class 'pandas.core.frame.DataFrame'>\n",
      "Int64Index: 52 entries, 0 to 21\n",
      "Data columns (total 2 columns):\n",
      " #   Column              Non-Null Count  Dtype  \n",
      "---  ------              --------------  -----  \n",
      " 0   Autor Emenda        52 non-null     object \n",
      " 1   valor_pago_em_real  52 non-null     float64\n",
      "dtypes: float64(1), object(1)\n",
      "memory usage: 1.2+ KB\n"
     ]
    }
   ],
   "source": [
    "salva.info()"
   ]
  },
  {
   "cell_type": "code",
   "execution_count": 79,
   "metadata": {},
   "outputs": [],
   "source": [
    "salva.to_csv('resultados/graficos/soma_ordenada_emendas_pagamentos_feitos_de_empenhos_covid19_ate_29_junho_2020.csv', index=False)"
   ]
  },
  {
   "cell_type": "code",
   "execution_count": null,
   "metadata": {},
   "outputs": [],
   "source": []
  }
 ],
 "metadata": {
  "kernelspec": {
   "display_name": "Python 3",
   "language": "python",
   "name": "python3"
  },
  "language_info": {
   "codemirror_mode": {
    "name": "ipython",
    "version": 3
   },
   "file_extension": ".py",
   "mimetype": "text/x-python",
   "name": "python",
   "nbconvert_exporter": "python",
   "pygments_lexer": "ipython3",
   "version": "3.6.9"
  }
 },
 "nbformat": 4,
 "nbformat_minor": 4
}
