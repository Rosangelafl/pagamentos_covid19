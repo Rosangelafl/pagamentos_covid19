{
 "cells": [
  {
   "cell_type": "code",
   "execution_count": 1,
   "metadata": {},
   "outputs": [],
   "source": [
    "# -*- coding: utf-8\n",
    "# Reinaldo Chaves (@paidatocandeira)\n",
    "# Acessa o arquivo criado com pagamentos de empenho da covid19\n",
    "# E faz diversas estatísticas\n",
    "#"
   ]
  },
  {
   "cell_type": "code",
   "execution_count": 2,
   "metadata": {},
   "outputs": [],
   "source": [
    "import pandas as pd"
   ]
  },
  {
   "cell_type": "code",
   "execution_count": null,
   "metadata": {},
   "outputs": [],
   "source": []
  },
  {
   "cell_type": "code",
   "execution_count": 3,
   "metadata": {},
   "outputs": [],
   "source": [
    "pd.options.display.float_format = '{:,.2f}'.format"
   ]
  },
  {
   "cell_type": "code",
   "execution_count": null,
   "metadata": {},
   "outputs": [],
   "source": []
  },
  {
   "cell_type": "code",
   "execution_count": 4,
   "metadata": {},
   "outputs": [],
   "source": [
    "kwargs = {'sep': ',', 'dtype': str, 'encoding': 'utf-8'}\n",
    "pagamentos_covid19 = pd.read_csv(\"resultados/pagamentos_covid19/pagamentos_feitos_de_empenhos_covid19_ate_15_outubro_2020.csv\", **kwargs)"
   ]
  },
  {
   "cell_type": "code",
   "execution_count": 6,
   "metadata": {},
   "outputs": [],
   "source": [
    "# Carrega nomes de colunas"
   ]
  },
  {
   "cell_type": "code",
   "execution_count": 5,
   "metadata": {},
   "outputs": [
    {
     "data": {
      "text/plain": [
       "['Id Empenho',\n",
       " 'Código Empenho',\n",
       " 'Código Empenho Resumido',\n",
       " 'Data Emissão_x',\n",
       " 'Código Tipo Documento_x',\n",
       " 'Tipo Documento_x',\n",
       " 'Tipo Empenho',\n",
       " 'Espécie Empenho',\n",
       " 'Código Órgão Superior_x',\n",
       " 'Órgão Superior_x',\n",
       " 'Código Órgão_x',\n",
       " 'Órgão_x',\n",
       " 'Código Unidade Gestora_x',\n",
       " 'Unidade Gestora_x',\n",
       " 'Código Gestão_x',\n",
       " 'Gestão_x',\n",
       " 'Código Favorecido_x',\n",
       " 'Favorecido_x',\n",
       " 'Observação_x',\n",
       " 'Código Esfera Orçamentária',\n",
       " 'Esfera Orçamentária',\n",
       " 'Código Tipo Crédito',\n",
       " 'Tipo Crédito',\n",
       " 'Código Grupo Fonte Recurso',\n",
       " 'Grupo Fonte Recurso',\n",
       " 'Código Fonte Recurso',\n",
       " 'Fonte Recurso',\n",
       " 'Código Unidade Orçamentária',\n",
       " 'Unidade Orçamentária',\n",
       " 'Código Função',\n",
       " 'Função',\n",
       " 'Código SubFunção',\n",
       " 'SubFunção',\n",
       " 'Código Programa',\n",
       " 'Programa',\n",
       " 'Código Ação',\n",
       " 'Ação',\n",
       " 'Linguagem Cidadã',\n",
       " 'Código Subtítulo (Localizador)',\n",
       " 'Subtítulo (Localizador)',\n",
       " 'Código Plano Orçamentário_x',\n",
       " 'Plano Orçamentário_x',\n",
       " 'Código Programa Governo_x',\n",
       " 'Nome Programa Governo_x',\n",
       " 'Autor Emenda',\n",
       " 'Código Categoria de Despesa_x',\n",
       " 'Categoria de Despesa_x',\n",
       " 'Código Grupo de Despesa_x',\n",
       " 'Grupo de Despesa_x',\n",
       " 'Código Modalidade de Aplicação_x',\n",
       " 'Modalidade de Aplicação_x',\n",
       " 'Código Elemento de Despesa_x',\n",
       " 'Elemento de Despesa_x',\n",
       " 'Processo_x',\n",
       " 'Modalidade de Licitação',\n",
       " 'Inciso',\n",
       " 'Amparo',\n",
       " 'Referência de Dispensa ou Inexigibilidade',\n",
       " 'Código Convênio',\n",
       " 'Contrato de Repasse / Termo de Parceria / Outros',\n",
       " 'Valor Original do Empenho',\n",
       " 'Valor do Empenho Convertido pra R$',\n",
       " 'Valor Utilizado na Conversão_x',\n",
       " 'Código Pagamento',\n",
       " 'Código Natureza Despesa Completa',\n",
       " 'Subitem',\n",
       " 'Valor Pago (R$)',\n",
       " 'Valor Restos a Pagar Inscritos (R$)',\n",
       " 'Valor Restos a Pagar Cancelado (R$)',\n",
       " 'Valor Restos a Pagar Pagos (R$)',\n",
       " 'Código Pagamento Resumido',\n",
       " 'Data Emissão_y',\n",
       " 'Código Tipo Documento_y',\n",
       " 'Tipo Documento_y',\n",
       " 'Tipo OB',\n",
       " 'Extraorçamentário',\n",
       " 'Código Órgão Superior_y',\n",
       " 'Órgão Superior_y',\n",
       " 'Código Órgão_y',\n",
       " 'Órgão_y',\n",
       " 'Código Unidade Gestora_y',\n",
       " 'Unidade Gestora_y',\n",
       " 'Código Gestão_y',\n",
       " 'Gestão_y',\n",
       " 'Código Favorecido_y',\n",
       " 'Favorecido_y',\n",
       " 'Observação_y',\n",
       " 'Processo_y',\n",
       " 'Código Categoria de Despesa_y',\n",
       " 'Categoria de Despesa_y',\n",
       " 'Código Grupo de Despesa_y',\n",
       " 'Grupo de Despesa_y',\n",
       " 'Código Modalidade de Aplicação_y',\n",
       " 'Modalidade de Aplicação_y',\n",
       " 'Código Elemento de Despesa_y',\n",
       " 'Elemento de Despesa_y',\n",
       " 'Código Plano Orçamentário_y',\n",
       " 'Plano Orçamentário_y',\n",
       " 'Código Programa Governo_y',\n",
       " 'Nome Programa Governo_y',\n",
       " 'Valor Original do Pagamento',\n",
       " 'Valor do Pagamento Convertido pra R$',\n",
       " 'Valor Utilizado na Conversão_y']"
      ]
     },
     "execution_count": 5,
     "metadata": {},
     "output_type": "execute_result"
    }
   ],
   "source": [
    "list(pagamentos_covid19.columns.values.tolist())"
   ]
  },
  {
   "cell_type": "code",
   "execution_count": null,
   "metadata": {},
   "outputs": [],
   "source": []
  },
  {
   "cell_type": "code",
   "execution_count": 6,
   "metadata": {},
   "outputs": [],
   "source": [
    "# Quantidade de favorecidos nos pagamentos"
   ]
  },
  {
   "cell_type": "code",
   "execution_count": 7,
   "metadata": {},
   "outputs": [
    {
     "data": {
      "text/plain": [
       "8282"
      ]
     },
     "execution_count": 7,
     "metadata": {},
     "output_type": "execute_result"
    }
   ],
   "source": [
    "a = len(pagamentos_covid19['Favorecido_x'].value_counts())\n",
    "a"
   ]
  },
  {
   "cell_type": "code",
   "execution_count": null,
   "metadata": {},
   "outputs": [],
   "source": []
  },
  {
   "cell_type": "code",
   "execution_count": 8,
   "metadata": {},
   "outputs": [],
   "source": [
    "# Transforma em numero campos de valores"
   ]
  },
  {
   "cell_type": "code",
   "execution_count": 9,
   "metadata": {},
   "outputs": [],
   "source": [
    "pagamentos_covid19['Valor Original do Empenho'] = pagamentos_covid19['Valor Original do Empenho'].str.replace(',','.')\n",
    "pagamentos_covid19['Valor Original do Empenho'] = pagamentos_covid19['Valor Original do Empenho'].astype('float64') \n",
    "\n",
    "pagamentos_covid19['Valor do Empenho Convertido pra R$'] = pagamentos_covid19['Valor do Empenho Convertido pra R$'].str.replace(',','.')\n",
    "pagamentos_covid19['Valor do Empenho Convertido pra R$'] = pagamentos_covid19['Valor do Empenho Convertido pra R$'].astype('float64') \n",
    "\n",
    "pagamentos_covid19['Valor Utilizado na Conversão_x'] = pagamentos_covid19['Valor Utilizado na Conversão_x'].str.replace(',','.')\n",
    "pagamentos_covid19['Valor Utilizado na Conversão_x'] = pagamentos_covid19['Valor Utilizado na Conversão_x'].astype('float64') \n",
    "\n",
    "pagamentos_covid19['Valor Pago (R$)'] = pagamentos_covid19['Valor Pago (R$)'].str.replace(',','.')\n",
    "pagamentos_covid19['Valor Pago (R$)'] = pagamentos_covid19['Valor Pago (R$)'].astype('float64') \n",
    "pagamentos_covid19.rename(columns = {'Valor Pago (R$)':'valor_pago_em_real'},inplace = True)\n",
    "\n",
    "pagamentos_covid19['Valor Restos a Pagar Inscritos (R$)'] = pagamentos_covid19['Valor Restos a Pagar Inscritos (R$)'].str.replace(',','.')\n",
    "pagamentos_covid19['Valor Restos a Pagar Inscritos (R$)'] = pagamentos_covid19['Valor Restos a Pagar Inscritos (R$)'].astype('float64') \n",
    "\n",
    "pagamentos_covid19['Valor Restos a Pagar Cancelado (R$)'] = pagamentos_covid19['Valor Restos a Pagar Cancelado (R$)'].str.replace(',','.')\n",
    "pagamentos_covid19['Valor Restos a Pagar Cancelado (R$)'] = pagamentos_covid19['Valor Restos a Pagar Cancelado (R$)'].astype('float64') \n",
    "\n",
    "pagamentos_covid19['Valor Restos a Pagar Pagos (R$)'] = pagamentos_covid19['Valor Restos a Pagar Pagos (R$)'].str.replace(',','.')\n",
    "pagamentos_covid19['Valor Restos a Pagar Pagos (R$)'] = pagamentos_covid19['Valor Restos a Pagar Pagos (R$)'].astype('float64') \n",
    "\n",
    "pagamentos_covid19['Valor Original do Pagamento'] = pagamentos_covid19['Valor Original do Pagamento'].str.replace(',','.')\n",
    "pagamentos_covid19['Valor Original do Pagamento'] = pagamentos_covid19['Valor Original do Pagamento'].astype('float64') \n",
    "\n",
    "pagamentos_covid19['Valor do Pagamento Convertido pra R$'] = pagamentos_covid19['Valor do Pagamento Convertido pra R$'].str.replace(',','.')\n",
    "pagamentos_covid19['Valor do Pagamento Convertido pra R$'] = pagamentos_covid19['Valor do Pagamento Convertido pra R$'].astype('float64') \n",
    "\n",
    "pagamentos_covid19['Valor Utilizado na Conversão_y'] = pagamentos_covid19['Valor Utilizado na Conversão_y'].str.replace(',','.')\n",
    "pagamentos_covid19['Valor Utilizado na Conversão_y'] = pagamentos_covid19['Valor Utilizado na Conversão_y'].astype('float64') "
   ]
  },
  {
   "cell_type": "code",
   "execution_count": null,
   "metadata": {},
   "outputs": [],
   "source": []
  },
  {
   "cell_type": "code",
   "execution_count": 10,
   "metadata": {},
   "outputs": [
    {
     "data": {
      "text/plain": [
       "38126776470.450005"
      ]
     },
     "execution_count": 10,
     "metadata": {},
     "output_type": "execute_result"
    }
   ],
   "source": [
    "pagamentos_covid19['valor_pago_em_real'].sum()"
   ]
  },
  {
   "cell_type": "code",
   "execution_count": 11,
   "metadata": {},
   "outputs": [
    {
     "data": {
      "text/plain": [
       "169428238472.75"
      ]
     },
     "execution_count": 11,
     "metadata": {},
     "output_type": "execute_result"
    }
   ],
   "source": [
    "pagamentos_covid19['Valor Original do Empenho'].sum()"
   ]
  },
  {
   "cell_type": "code",
   "execution_count": 12,
   "metadata": {},
   "outputs": [
    {
     "data": {
      "text/plain": [
       "168755174071.79"
      ]
     },
     "execution_count": 12,
     "metadata": {},
     "output_type": "execute_result"
    }
   ],
   "source": [
    "pagamentos_covid19['Valor do Empenho Convertido pra R$'].sum()"
   ]
  },
  {
   "cell_type": "code",
   "execution_count": null,
   "metadata": {},
   "outputs": [],
   "source": []
  },
  {
   "cell_type": "code",
   "execution_count": 13,
   "metadata": {},
   "outputs": [],
   "source": [
    "# Média de valores pagos"
   ]
  },
  {
   "cell_type": "code",
   "execution_count": 14,
   "metadata": {},
   "outputs": [
    {
     "data": {
      "text/plain": [
       "455658.5853484954"
      ]
     },
     "execution_count": 14,
     "metadata": {},
     "output_type": "execute_result"
    }
   ],
   "source": [
    "pagamentos_covid19['valor_pago_em_real'].mean()"
   ]
  },
  {
   "cell_type": "code",
   "execution_count": 15,
   "metadata": {},
   "outputs": [],
   "source": [
    "# Mediana de valores pagos"
   ]
  },
  {
   "cell_type": "code",
   "execution_count": 16,
   "metadata": {},
   "outputs": [
    {
     "data": {
      "text/plain": [
       "9075.075"
      ]
     },
     "execution_count": 16,
     "metadata": {},
     "output_type": "execute_result"
    }
   ],
   "source": [
    "pagamentos_covid19['valor_pago_em_real'].median()"
   ]
  },
  {
   "cell_type": "code",
   "execution_count": 17,
   "metadata": {},
   "outputs": [],
   "source": [
    "# Moda de valores pagos"
   ]
  },
  {
   "cell_type": "code",
   "execution_count": 18,
   "metadata": {},
   "outputs": [
    {
     "data": {
      "text/plain": [
       "0   100,000.00\n",
       "dtype: float64"
      ]
     },
     "execution_count": 18,
     "metadata": {},
     "output_type": "execute_result"
    }
   ],
   "source": [
    "pagamentos_covid19['valor_pago_em_real'].mode()"
   ]
  },
  {
   "cell_type": "code",
   "execution_count": 19,
   "metadata": {},
   "outputs": [],
   "source": [
    "procura = pagamentos_covid19[(pagamentos_covid19['valor_pago_em_real'] == 100000)]"
   ]
  },
  {
   "cell_type": "code",
   "execution_count": 20,
   "metadata": {},
   "outputs": [
    {
     "data": {
      "text/plain": [
       "(3496, 103)"
      ]
     },
     "execution_count": 20,
     "metadata": {},
     "output_type": "execute_result"
    }
   ],
   "source": [
    "procura.shape"
   ]
  },
  {
   "cell_type": "code",
   "execution_count": 21,
   "metadata": {},
   "outputs": [
    {
     "data": {
      "text/html": [
       "<div>\n",
       "<style scoped>\n",
       "    .dataframe tbody tr th:only-of-type {\n",
       "        vertical-align: middle;\n",
       "    }\n",
       "\n",
       "    .dataframe tbody tr th {\n",
       "        vertical-align: top;\n",
       "    }\n",
       "\n",
       "    .dataframe thead th {\n",
       "        text-align: right;\n",
       "    }\n",
       "</style>\n",
       "<table border=\"1\" class=\"dataframe\">\n",
       "  <thead>\n",
       "    <tr style=\"text-align: right;\">\n",
       "      <th></th>\n",
       "      <th>Data Emissão_x</th>\n",
       "      <th>Código Empenho</th>\n",
       "      <th>Id Empenho</th>\n",
       "      <th>Órgão_x</th>\n",
       "      <th>Unidade Gestora_x</th>\n",
       "      <th>Código Favorecido_x</th>\n",
       "      <th>Favorecido_x</th>\n",
       "      <th>Valor do Empenho Convertido pra R$</th>\n",
       "      <th>valor_pago_em_real</th>\n",
       "      <th>Valor Restos a Pagar Inscritos (R$)</th>\n",
       "      <th>Observação_x</th>\n",
       "      <th>Observação_y</th>\n",
       "      <th>Modalidade de Licitação</th>\n",
       "    </tr>\n",
       "  </thead>\n",
       "  <tbody>\n",
       "    <tr>\n",
       "      <th>1136</th>\n",
       "      <td>28/07/2020</td>\n",
       "      <td>257001000012020NE848249</td>\n",
       "      <td>239600258</td>\n",
       "      <td>Ministério da Saúde - Unidades com vínculo di</td>\n",
       "      <td>DIRETORIA EXECUTIVA DO FUNDO NAC. DE SAUDE</td>\n",
       "      <td>257001</td>\n",
       "      <td>DIRETORIA EXECUTIVA DO FUNDO NAC. DE SAUDE</td>\n",
       "      <td>100,000.00</td>\n",
       "      <td>100,000.00</td>\n",
       "      <td>0.00</td>\n",
       "      <td>PARA ATENDER PORTARIA NRO 1666 DE 01/07/2020 -...</td>\n",
       "      <td>PAGAMENTO DE 65702-CORONAVIRUS (COVID-19) PARC...</td>\n",
       "      <td>Não se Aplica</td>\n",
       "    </tr>\n",
       "    <tr>\n",
       "      <th>1137</th>\n",
       "      <td>28/07/2020</td>\n",
       "      <td>257001000012020NE848240</td>\n",
       "      <td>230500228</td>\n",
       "      <td>Ministério da Saúde - Unidades com vínculo di</td>\n",
       "      <td>DIRETORIA EXECUTIVA DO FUNDO NAC. DE SAUDE</td>\n",
       "      <td>257001</td>\n",
       "      <td>DIRETORIA EXECUTIVA DO FUNDO NAC. DE SAUDE</td>\n",
       "      <td>100,000.00</td>\n",
       "      <td>100,000.00</td>\n",
       "      <td>0.00</td>\n",
       "      <td>PARA ATENDER PORTARIA NRO 1666 DE 01/07/2020 -...</td>\n",
       "      <td>PAGAMENTO DE 65702-CORONAVIRUS (COVID-19) PARC...</td>\n",
       "      <td>Não se Aplica</td>\n",
       "    </tr>\n",
       "    <tr>\n",
       "      <th>1142</th>\n",
       "      <td>28/07/2020</td>\n",
       "      <td>257001000012020NE848248</td>\n",
       "      <td>234100250</td>\n",
       "      <td>Ministério da Saúde - Unidades com vínculo di</td>\n",
       "      <td>DIRETORIA EXECUTIVA DO FUNDO NAC. DE SAUDE</td>\n",
       "      <td>257001</td>\n",
       "      <td>DIRETORIA EXECUTIVA DO FUNDO NAC. DE SAUDE</td>\n",
       "      <td>100,000.00</td>\n",
       "      <td>100,000.00</td>\n",
       "      <td>0.00</td>\n",
       "      <td>PARA ATENDER PORTARIA NRO 1666 DE 01/07/2020 -...</td>\n",
       "      <td>PAGAMENTO DE 65702-CORONAVIRUS (COVID-19) PARC...</td>\n",
       "      <td>Não se Aplica</td>\n",
       "    </tr>\n",
       "    <tr>\n",
       "      <th>1146</th>\n",
       "      <td>28/07/2020</td>\n",
       "      <td>257001000012020NE848239</td>\n",
       "      <td>235900250</td>\n",
       "      <td>Ministério da Saúde - Unidades com vínculo di</td>\n",
       "      <td>DIRETORIA EXECUTIVA DO FUNDO NAC. DE SAUDE</td>\n",
       "      <td>257001</td>\n",
       "      <td>DIRETORIA EXECUTIVA DO FUNDO NAC. DE SAUDE</td>\n",
       "      <td>100,000.00</td>\n",
       "      <td>100,000.00</td>\n",
       "      <td>0.00</td>\n",
       "      <td>PARA ATENDER PORTARIA NRO 1666 DE 01/07/2020 -...</td>\n",
       "      <td>PAGAMENTO DE 65702-CORONAVIRUS (COVID-19) PARC...</td>\n",
       "      <td>Não se Aplica</td>\n",
       "    </tr>\n",
       "    <tr>\n",
       "      <th>1183</th>\n",
       "      <td>28/07/2020</td>\n",
       "      <td>257001000012020NE848254</td>\n",
       "      <td>234700239</td>\n",
       "      <td>Ministério da Saúde - Unidades com vínculo di</td>\n",
       "      <td>DIRETORIA EXECUTIVA DO FUNDO NAC. DE SAUDE</td>\n",
       "      <td>257001</td>\n",
       "      <td>DIRETORIA EXECUTIVA DO FUNDO NAC. DE SAUDE</td>\n",
       "      <td>100,000.00</td>\n",
       "      <td>100,000.00</td>\n",
       "      <td>0.00</td>\n",
       "      <td>PARA ATENDER PORTARIA NRO 1666 DE 01/07/2020 -...</td>\n",
       "      <td>PAGAMENTO DE 65702-CORONAVIRUS (COVID-19) PARC...</td>\n",
       "      <td>Não se Aplica</td>\n",
       "    </tr>\n",
       "    <tr>\n",
       "      <th>1186</th>\n",
       "      <td>28/07/2020</td>\n",
       "      <td>257001000012020NE848263</td>\n",
       "      <td>243400304</td>\n",
       "      <td>Ministério da Saúde - Unidades com vínculo di</td>\n",
       "      <td>DIRETORIA EXECUTIVA DO FUNDO NAC. DE SAUDE</td>\n",
       "      <td>257001</td>\n",
       "      <td>DIRETORIA EXECUTIVA DO FUNDO NAC. DE SAUDE</td>\n",
       "      <td>100,000.00</td>\n",
       "      <td>100,000.00</td>\n",
       "      <td>0.00</td>\n",
       "      <td>PARA ATENDER PORTARIA NRO 1666 DE 01/07/2020 -...</td>\n",
       "      <td>PAGAMENTO DE 65702-CORONAVIRUS (COVID-19) PARC...</td>\n",
       "      <td>Não se Aplica</td>\n",
       "    </tr>\n",
       "    <tr>\n",
       "      <th>1187</th>\n",
       "      <td>28/07/2020</td>\n",
       "      <td>257001000012020NE848253</td>\n",
       "      <td>235500252</td>\n",
       "      <td>Ministério da Saúde - Unidades com vínculo di</td>\n",
       "      <td>DIRETORIA EXECUTIVA DO FUNDO NAC. DE SAUDE</td>\n",
       "      <td>257001</td>\n",
       "      <td>DIRETORIA EXECUTIVA DO FUNDO NAC. DE SAUDE</td>\n",
       "      <td>100,000.00</td>\n",
       "      <td>100,000.00</td>\n",
       "      <td>0.00</td>\n",
       "      <td>PARA ATENDER PORTARIA NRO 1666 DE 01/07/2020 -...</td>\n",
       "      <td>PAGAMENTO DE 65702-CORONAVIRUS (COVID-19) PARC...</td>\n",
       "      <td>Não se Aplica</td>\n",
       "    </tr>\n",
       "    <tr>\n",
       "      <th>1191</th>\n",
       "      <td>28/07/2020</td>\n",
       "      <td>257001000012020NE848255</td>\n",
       "      <td>243000230</td>\n",
       "      <td>Ministério da Saúde - Unidades com vínculo di</td>\n",
       "      <td>DIRETORIA EXECUTIVA DO FUNDO NAC. DE SAUDE</td>\n",
       "      <td>257001</td>\n",
       "      <td>DIRETORIA EXECUTIVA DO FUNDO NAC. DE SAUDE</td>\n",
       "      <td>100,000.00</td>\n",
       "      <td>100,000.00</td>\n",
       "      <td>0.00</td>\n",
       "      <td>PARA ATENDER PORTARIA NRO 1666 DE 01/07/2020 -...</td>\n",
       "      <td>PAGAMENTO DE 65702-CORONAVIRUS (COVID-19) PARC...</td>\n",
       "      <td>Não se Aplica</td>\n",
       "    </tr>\n",
       "    <tr>\n",
       "      <th>1192</th>\n",
       "      <td>28/07/2020</td>\n",
       "      <td>257001000012020NE848268</td>\n",
       "      <td>238900253</td>\n",
       "      <td>Ministério da Saúde - Unidades com vínculo di</td>\n",
       "      <td>DIRETORIA EXECUTIVA DO FUNDO NAC. DE SAUDE</td>\n",
       "      <td>257001</td>\n",
       "      <td>DIRETORIA EXECUTIVA DO FUNDO NAC. DE SAUDE</td>\n",
       "      <td>100,000.00</td>\n",
       "      <td>100,000.00</td>\n",
       "      <td>0.00</td>\n",
       "      <td>PARA ATENDER PORTARIA NRO 1666 DE 01/07/2020 -...</td>\n",
       "      <td>PAGAMENTO DE 65702-CORONAVIRUS (COVID-19) PARC...</td>\n",
       "      <td>Não se Aplica</td>\n",
       "    </tr>\n",
       "    <tr>\n",
       "      <th>1193</th>\n",
       "      <td>28/07/2020</td>\n",
       "      <td>257001000012020NE848265</td>\n",
       "      <td>234800265</td>\n",
       "      <td>Ministério da Saúde - Unidades com vínculo di</td>\n",
       "      <td>DIRETORIA EXECUTIVA DO FUNDO NAC. DE SAUDE</td>\n",
       "      <td>257001</td>\n",
       "      <td>DIRETORIA EXECUTIVA DO FUNDO NAC. DE SAUDE</td>\n",
       "      <td>100,000.00</td>\n",
       "      <td>100,000.00</td>\n",
       "      <td>0.00</td>\n",
       "      <td>PARA ATENDER PORTARIA NRO 1666 DE 01/07/2020 -...</td>\n",
       "      <td>PAGAMENTO DE 65702-CORONAVIRUS (COVID-19) PARC...</td>\n",
       "      <td>Não se Aplica</td>\n",
       "    </tr>\n",
       "  </tbody>\n",
       "</table>\n",
       "</div>"
      ],
      "text/plain": [
       "     Data Emissão_x           Código Empenho Id Empenho  \\\n",
       "1136     28/07/2020  257001000012020NE848249  239600258   \n",
       "1137     28/07/2020  257001000012020NE848240  230500228   \n",
       "1142     28/07/2020  257001000012020NE848248  234100250   \n",
       "1146     28/07/2020  257001000012020NE848239  235900250   \n",
       "1183     28/07/2020  257001000012020NE848254  234700239   \n",
       "1186     28/07/2020  257001000012020NE848263  243400304   \n",
       "1187     28/07/2020  257001000012020NE848253  235500252   \n",
       "1191     28/07/2020  257001000012020NE848255  243000230   \n",
       "1192     28/07/2020  257001000012020NE848268  238900253   \n",
       "1193     28/07/2020  257001000012020NE848265  234800265   \n",
       "\n",
       "                                            Órgão_x  \\\n",
       "1136  Ministério da Saúde - Unidades com vínculo di   \n",
       "1137  Ministério da Saúde - Unidades com vínculo di   \n",
       "1142  Ministério da Saúde - Unidades com vínculo di   \n",
       "1146  Ministério da Saúde - Unidades com vínculo di   \n",
       "1183  Ministério da Saúde - Unidades com vínculo di   \n",
       "1186  Ministério da Saúde - Unidades com vínculo di   \n",
       "1187  Ministério da Saúde - Unidades com vínculo di   \n",
       "1191  Ministério da Saúde - Unidades com vínculo di   \n",
       "1192  Ministério da Saúde - Unidades com vínculo di   \n",
       "1193  Ministério da Saúde - Unidades com vínculo di   \n",
       "\n",
       "                               Unidade Gestora_x Código Favorecido_x  \\\n",
       "1136  DIRETORIA EXECUTIVA DO FUNDO NAC. DE SAUDE              257001   \n",
       "1137  DIRETORIA EXECUTIVA DO FUNDO NAC. DE SAUDE              257001   \n",
       "1142  DIRETORIA EXECUTIVA DO FUNDO NAC. DE SAUDE              257001   \n",
       "1146  DIRETORIA EXECUTIVA DO FUNDO NAC. DE SAUDE              257001   \n",
       "1183  DIRETORIA EXECUTIVA DO FUNDO NAC. DE SAUDE              257001   \n",
       "1186  DIRETORIA EXECUTIVA DO FUNDO NAC. DE SAUDE              257001   \n",
       "1187  DIRETORIA EXECUTIVA DO FUNDO NAC. DE SAUDE              257001   \n",
       "1191  DIRETORIA EXECUTIVA DO FUNDO NAC. DE SAUDE              257001   \n",
       "1192  DIRETORIA EXECUTIVA DO FUNDO NAC. DE SAUDE              257001   \n",
       "1193  DIRETORIA EXECUTIVA DO FUNDO NAC. DE SAUDE              257001   \n",
       "\n",
       "                                    Favorecido_x  \\\n",
       "1136  DIRETORIA EXECUTIVA DO FUNDO NAC. DE SAUDE   \n",
       "1137  DIRETORIA EXECUTIVA DO FUNDO NAC. DE SAUDE   \n",
       "1142  DIRETORIA EXECUTIVA DO FUNDO NAC. DE SAUDE   \n",
       "1146  DIRETORIA EXECUTIVA DO FUNDO NAC. DE SAUDE   \n",
       "1183  DIRETORIA EXECUTIVA DO FUNDO NAC. DE SAUDE   \n",
       "1186  DIRETORIA EXECUTIVA DO FUNDO NAC. DE SAUDE   \n",
       "1187  DIRETORIA EXECUTIVA DO FUNDO NAC. DE SAUDE   \n",
       "1191  DIRETORIA EXECUTIVA DO FUNDO NAC. DE SAUDE   \n",
       "1192  DIRETORIA EXECUTIVA DO FUNDO NAC. DE SAUDE   \n",
       "1193  DIRETORIA EXECUTIVA DO FUNDO NAC. DE SAUDE   \n",
       "\n",
       "      Valor do Empenho Convertido pra R$  valor_pago_em_real  \\\n",
       "1136                          100,000.00          100,000.00   \n",
       "1137                          100,000.00          100,000.00   \n",
       "1142                          100,000.00          100,000.00   \n",
       "1146                          100,000.00          100,000.00   \n",
       "1183                          100,000.00          100,000.00   \n",
       "1186                          100,000.00          100,000.00   \n",
       "1187                          100,000.00          100,000.00   \n",
       "1191                          100,000.00          100,000.00   \n",
       "1192                          100,000.00          100,000.00   \n",
       "1193                          100,000.00          100,000.00   \n",
       "\n",
       "      Valor Restos a Pagar Inscritos (R$)  \\\n",
       "1136                                 0.00   \n",
       "1137                                 0.00   \n",
       "1142                                 0.00   \n",
       "1146                                 0.00   \n",
       "1183                                 0.00   \n",
       "1186                                 0.00   \n",
       "1187                                 0.00   \n",
       "1191                                 0.00   \n",
       "1192                                 0.00   \n",
       "1193                                 0.00   \n",
       "\n",
       "                                           Observação_x  \\\n",
       "1136  PARA ATENDER PORTARIA NRO 1666 DE 01/07/2020 -...   \n",
       "1137  PARA ATENDER PORTARIA NRO 1666 DE 01/07/2020 -...   \n",
       "1142  PARA ATENDER PORTARIA NRO 1666 DE 01/07/2020 -...   \n",
       "1146  PARA ATENDER PORTARIA NRO 1666 DE 01/07/2020 -...   \n",
       "1183  PARA ATENDER PORTARIA NRO 1666 DE 01/07/2020 -...   \n",
       "1186  PARA ATENDER PORTARIA NRO 1666 DE 01/07/2020 -...   \n",
       "1187  PARA ATENDER PORTARIA NRO 1666 DE 01/07/2020 -...   \n",
       "1191  PARA ATENDER PORTARIA NRO 1666 DE 01/07/2020 -...   \n",
       "1192  PARA ATENDER PORTARIA NRO 1666 DE 01/07/2020 -...   \n",
       "1193  PARA ATENDER PORTARIA NRO 1666 DE 01/07/2020 -...   \n",
       "\n",
       "                                           Observação_y  \\\n",
       "1136  PAGAMENTO DE 65702-CORONAVIRUS (COVID-19) PARC...   \n",
       "1137  PAGAMENTO DE 65702-CORONAVIRUS (COVID-19) PARC...   \n",
       "1142  PAGAMENTO DE 65702-CORONAVIRUS (COVID-19) PARC...   \n",
       "1146  PAGAMENTO DE 65702-CORONAVIRUS (COVID-19) PARC...   \n",
       "1183  PAGAMENTO DE 65702-CORONAVIRUS (COVID-19) PARC...   \n",
       "1186  PAGAMENTO DE 65702-CORONAVIRUS (COVID-19) PARC...   \n",
       "1187  PAGAMENTO DE 65702-CORONAVIRUS (COVID-19) PARC...   \n",
       "1191  PAGAMENTO DE 65702-CORONAVIRUS (COVID-19) PARC...   \n",
       "1192  PAGAMENTO DE 65702-CORONAVIRUS (COVID-19) PARC...   \n",
       "1193  PAGAMENTO DE 65702-CORONAVIRUS (COVID-19) PARC...   \n",
       "\n",
       "     Modalidade de Licitação  \n",
       "1136           Não se Aplica  \n",
       "1137           Não se Aplica  \n",
       "1142           Não se Aplica  \n",
       "1146           Não se Aplica  \n",
       "1183           Não se Aplica  \n",
       "1186           Não se Aplica  \n",
       "1187           Não se Aplica  \n",
       "1191           Não se Aplica  \n",
       "1192           Não se Aplica  \n",
       "1193           Não se Aplica  "
      ]
     },
     "execution_count": 21,
     "metadata": {},
     "output_type": "execute_result"
    }
   ],
   "source": [
    "procura[[\"Data Emissão_x\",\"Código Empenho\", \"Id Empenho\", \"Órgão_x\", \"Unidade Gestora_x\", \"Código Favorecido_x\", \"Favorecido_x\", \"Valor do Empenho Convertido pra R$\", \"valor_pago_em_real\", \"Valor Restos a Pagar Inscritos (R$)\", \"Observação_x\", \"Observação_y\",  \"Modalidade de Licitação\"]].head(10)"
   ]
  },
  {
   "cell_type": "code",
   "execution_count": null,
   "metadata": {},
   "outputs": [],
   "source": []
  },
  {
   "cell_type": "code",
   "execution_count": null,
   "metadata": {},
   "outputs": [],
   "source": []
  },
  {
   "cell_type": "code",
   "execution_count": 22,
   "metadata": {},
   "outputs": [],
   "source": [
    "# Maior valor originalmente empenhado"
   ]
  },
  {
   "cell_type": "code",
   "execution_count": 23,
   "metadata": {},
   "outputs": [
    {
     "data": {
      "text/plain": [
       "1353600005.0"
      ]
     },
     "execution_count": 23,
     "metadata": {},
     "output_type": "execute_result"
    }
   ],
   "source": [
    "pagamentos_covid19['Valor do Empenho Convertido pra R$'].max()"
   ]
  },
  {
   "cell_type": "code",
   "execution_count": 24,
   "metadata": {},
   "outputs": [
    {
     "data": {
      "text/plain": [
       "Data Emissão_x                                                                15/09/2020\n",
       "Código Empenho                                                   254445252012020NE803058\n",
       "Id Empenho                                                                     254300072\n",
       "Órgão_x                                                            Fundação Oswaldo Cruz\n",
       "Unidade Gestora_x                             INSTITUTO DE TECNOLOGIA EM IMUNOBIOLOGICOS\n",
       "Código Favorecido_x                                                            EX2544480\n",
       "Favorecido_x                                                      ASTRAZENECA UK LIMITED\n",
       "Valor do Empenho Convertido pra R$                                      1,353,600,005.00\n",
       "valor_pago_em_real                                                        175,782,211.76\n",
       "Valor Restos a Pagar Inscritos (R$)                                                 0.00\n",
       "Observação_x                           IMPORTACAO DE SERVICOS DE PESQUISA, DESENVOLVI...\n",
       "Observação_y                           LIQUIDACAO REF. A CONTRATACAO DE SERVICO DE PE...\n",
       "Modalidade de Licitação                                            Dispensa de Licitação\n",
       "Name: 74739, dtype: object"
      ]
     },
     "execution_count": 24,
     "metadata": {},
     "output_type": "execute_result"
    }
   ],
   "source": [
    "pagamentos_covid19.loc[pagamentos_covid19['Valor do Empenho Convertido pra R$'].idxmax()][[\"Data Emissão_x\", \"Código Empenho\", \"Id Empenho\", \"Órgão_x\", \"Unidade Gestora_x\", \"Código Favorecido_x\", \"Favorecido_x\", \"Valor do Empenho Convertido pra R$\", \"valor_pago_em_real\", \"Valor Restos a Pagar Inscritos (R$)\", \"Observação_x\", \"Observação_y\", \"Modalidade de Licitação\"]]"
   ]
  },
  {
   "cell_type": "code",
   "execution_count": null,
   "metadata": {},
   "outputs": [],
   "source": []
  },
  {
   "cell_type": "code",
   "execution_count": 25,
   "metadata": {},
   "outputs": [],
   "source": [
    "# Menor valor originalmente empenhado"
   ]
  },
  {
   "cell_type": "code",
   "execution_count": 26,
   "metadata": {},
   "outputs": [
    {
     "data": {
      "text/plain": [
       "0.01"
      ]
     },
     "execution_count": 26,
     "metadata": {},
     "output_type": "execute_result"
    }
   ],
   "source": [
    "pagamentos_covid19['Valor do Empenho Convertido pra R$'].min()"
   ]
  },
  {
   "cell_type": "code",
   "execution_count": 27,
   "metadata": {},
   "outputs": [
    {
     "data": {
      "text/plain": [
       "Data Emissão_x                                                                05/10/2020\n",
       "Código Empenho                                                   160372000012020NE800352\n",
       "Id Empenho                                                                     266300825\n",
       "Órgão_x                                                              Comando do Exército\n",
       "Unidade Gestora_x                                COMANDO DE ARTILHARIA DIVISIONARIA/3 RM\n",
       "Código Favorecido_x                                                       92802784000190\n",
       "Favorecido_x                                 COMPANHIA RIOGRANDENSE DE SANEAMENTO CORSAN\n",
       "Valor do Empenho Convertido pra R$                                                  0.01\n",
       "valor_pago_em_real                                                                 63.21\n",
       "Valor Restos a Pagar Inscritos (R$)                                                 0.00\n",
       "Observação_x                           SERVICOS DE AGUA E ESGOTO (39-44) INEX 28/2013...\n",
       "Observação_y                           PGTO FAT AGUA/ESGOTO (44) CMDO AD/3, MES OUT/2...\n",
       "Modalidade de Licitação                                                       Inexigível\n",
       "Name: 55826, dtype: object"
      ]
     },
     "execution_count": 27,
     "metadata": {},
     "output_type": "execute_result"
    }
   ],
   "source": [
    "pagamentos_covid19.loc[pagamentos_covid19['Valor do Empenho Convertido pra R$'].idxmin()][[\"Data Emissão_x\",\"Código Empenho\", \"Id Empenho\", \"Órgão_x\", \"Unidade Gestora_x\", \"Código Favorecido_x\", \"Favorecido_x\", \"Valor do Empenho Convertido pra R$\", \"valor_pago_em_real\", \"Valor Restos a Pagar Inscritos (R$)\", \"Observação_x\", \"Observação_y\", \"Modalidade de Licitação\"]]"
   ]
  },
  {
   "cell_type": "code",
   "execution_count": null,
   "metadata": {},
   "outputs": [],
   "source": []
  },
  {
   "cell_type": "code",
   "execution_count": 28,
   "metadata": {},
   "outputs": [],
   "source": [
    "# Maior valor pago em real "
   ]
  },
  {
   "cell_type": "code",
   "execution_count": 29,
   "metadata": {},
   "outputs": [
    {
     "data": {
      "text/plain": [
       "991512000.0"
      ]
     },
     "execution_count": 29,
     "metadata": {},
     "output_type": "execute_result"
    }
   ],
   "source": [
    "pagamentos_covid19['valor_pago_em_real'].max()"
   ]
  },
  {
   "cell_type": "code",
   "execution_count": 30,
   "metadata": {},
   "outputs": [
    {
     "data": {
      "text/plain": [
       "Data Emissão_x                                                                15/09/2020\n",
       "Código Empenho                                                   254445252012020NE803058\n",
       "Id Empenho                                                                     254300072\n",
       "Órgão_x                                                            Fundação Oswaldo Cruz\n",
       "Unidade Gestora_x                             INSTITUTO DE TECNOLOGIA EM IMUNOBIOLOGICOS\n",
       "Código Favorecido_x                                                            EX2544480\n",
       "Favorecido_x                                                      ASTRAZENECA UK LIMITED\n",
       "Valor do Empenho Convertido pra R$                                      1,353,600,005.00\n",
       "valor_pago_em_real                                                        991,512,000.00\n",
       "Valor Restos a Pagar Inscritos (R$)                                                 0.00\n",
       "Observação_x                           IMPORTACAO DE SERVICOS DE PESQUISA, DESENVOLVI...\n",
       "Observação_y                           LIQUIDACAO REF. A CONTRATACAO DE SERVICO DE PE...\n",
       "Modalidade de Licitação                                            Dispensa de Licitação\n",
       "Name: 74741, dtype: object"
      ]
     },
     "execution_count": 30,
     "metadata": {},
     "output_type": "execute_result"
    }
   ],
   "source": [
    "pagamentos_covid19.loc[pagamentos_covid19['valor_pago_em_real'].idxmax()][[\"Data Emissão_x\",\"Código Empenho\", \"Id Empenho\", \"Órgão_x\", \"Unidade Gestora_x\", \"Código Favorecido_x\", \"Favorecido_x\", \"Valor do Empenho Convertido pra R$\", \"valor_pago_em_real\", \"Valor Restos a Pagar Inscritos (R$)\", \"Observação_x\", \"Observação_y\",  \"Modalidade de Licitação\"]]"
   ]
  },
  {
   "cell_type": "code",
   "execution_count": null,
   "metadata": {},
   "outputs": [],
   "source": []
  },
  {
   "cell_type": "code",
   "execution_count": 31,
   "metadata": {},
   "outputs": [],
   "source": [
    "# Menor valor pago em real "
   ]
  },
  {
   "cell_type": "code",
   "execution_count": 32,
   "metadata": {},
   "outputs": [
    {
     "data": {
      "text/plain": [
       "-104197748.5"
      ]
     },
     "execution_count": 32,
     "metadata": {},
     "output_type": "execute_result"
    }
   ],
   "source": [
    "pagamentos_covid19['valor_pago_em_real'].min()"
   ]
  },
  {
   "cell_type": "code",
   "execution_count": 33,
   "metadata": {},
   "outputs": [
    {
     "data": {
      "text/plain": [
       "Data Emissão_x                                                                20/08/2020\n",
       "Código Empenho                                                   257001000012020NE863462\n",
       "Id Empenho                                                                     233601397\n",
       "Órgão_x                                    Ministério da Saúde - Unidades com vínculo di\n",
       "Unidade Gestora_x                             DIRETORIA EXECUTIVA DO FUNDO NAC. DE SAUDE\n",
       "Código Favorecido_x                                                               257001\n",
       "Favorecido_x                                  DIRETORIA EXECUTIVA DO FUNDO NAC. DE SAUDE\n",
       "Valor do Empenho Convertido pra R$                                        104,197,748.50\n",
       "valor_pago_em_real                                                       -104,197,748.50\n",
       "Valor Restos a Pagar Inscritos (R$)                                                 0.00\n",
       "Observação_x                           PARA ATENDER PORTARIA NRO 1666 DE 01/07/2020 -...\n",
       "Observação_y                                              AJUSTE ORCAMENTARIO DE EMPENHO\n",
       "Modalidade de Licitação                                                    Não se Aplica\n",
       "Name: 24409, dtype: object"
      ]
     },
     "execution_count": 33,
     "metadata": {},
     "output_type": "execute_result"
    }
   ],
   "source": [
    "pagamentos_covid19.loc[pagamentos_covid19['valor_pago_em_real'].idxmin()][[\"Data Emissão_x\",\"Código Empenho\", \"Id Empenho\", \"Órgão_x\", \"Unidade Gestora_x\", \"Código Favorecido_x\", \"Favorecido_x\", \"Valor do Empenho Convertido pra R$\", \"valor_pago_em_real\", \"Valor Restos a Pagar Inscritos (R$)\", \"Observação_x\", \"Observação_y\",  \"Modalidade de Licitação\"]]"
   ]
  },
  {
   "cell_type": "code",
   "execution_count": null,
   "metadata": {},
   "outputs": [],
   "source": []
  },
  {
   "cell_type": "code",
   "execution_count": 34,
   "metadata": {},
   "outputs": [],
   "source": [
    "# Agrupa a soma de valores pagos em Código Empenho+Id Empenho "
   ]
  },
  {
   "cell_type": "code",
   "execution_count": 35,
   "metadata": {},
   "outputs": [
    {
     "data": {
      "text/html": [
       "<div>\n",
       "<style scoped>\n",
       "    .dataframe tbody tr th:only-of-type {\n",
       "        vertical-align: middle;\n",
       "    }\n",
       "\n",
       "    .dataframe tbody tr th {\n",
       "        vertical-align: top;\n",
       "    }\n",
       "\n",
       "    .dataframe thead th {\n",
       "        text-align: right;\n",
       "    }\n",
       "</style>\n",
       "<table border=\"1\" class=\"dataframe\">\n",
       "  <thead>\n",
       "    <tr style=\"text-align: right;\">\n",
       "      <th></th>\n",
       "      <th>Código Empenho</th>\n",
       "      <th>Id Empenho</th>\n",
       "      <th>valor_pago_em_real</th>\n",
       "    </tr>\n",
       "  </thead>\n",
       "  <tbody>\n",
       "    <tr>\n",
       "      <th>18813</th>\n",
       "      <td>254445252012020NE803058</td>\n",
       "      <td>254300072</td>\n",
       "      <td>1,284,023,632.94</td>\n",
       "    </tr>\n",
       "    <tr>\n",
       "      <th>19113</th>\n",
       "      <td>257001000012020NE000043</td>\n",
       "      <td>269900981</td>\n",
       "      <td>830,895,256.59</td>\n",
       "    </tr>\n",
       "    <tr>\n",
       "      <th>18299</th>\n",
       "      <td>250005000012020NE000096</td>\n",
       "      <td>176600022</td>\n",
       "      <td>694,320,000.00</td>\n",
       "    </tr>\n",
       "    <tr>\n",
       "      <th>19281</th>\n",
       "      <td>257001000012020NE810544</td>\n",
       "      <td>174800424</td>\n",
       "      <td>440,894,813.73</td>\n",
       "    </tr>\n",
       "    <tr>\n",
       "      <th>19120</th>\n",
       "      <td>257001000012020NE453964</td>\n",
       "      <td>177001678</td>\n",
       "      <td>415,121,875.00</td>\n",
       "    </tr>\n",
       "    <tr>\n",
       "      <th>...</th>\n",
       "      <td>...</td>\n",
       "      <td>...</td>\n",
       "      <td>...</td>\n",
       "    </tr>\n",
       "    <tr>\n",
       "      <th>18051</th>\n",
       "      <td>240076000012020NE000338</td>\n",
       "      <td>202800038</td>\n",
       "      <td>-54.69</td>\n",
       "    </tr>\n",
       "    <tr>\n",
       "      <th>18114</th>\n",
       "      <td>240230000012020NE000216</td>\n",
       "      <td>243900086</td>\n",
       "      <td>-80.63</td>\n",
       "    </tr>\n",
       "    <tr>\n",
       "      <th>17957</th>\n",
       "      <td>240017000012020NE006844</td>\n",
       "      <td>243800153</td>\n",
       "      <td>-433.84</td>\n",
       "    </tr>\n",
       "    <tr>\n",
       "      <th>17825</th>\n",
       "      <td>240017000012020NE003889</td>\n",
       "      <td>177700824</td>\n",
       "      <td>-556.20</td>\n",
       "    </tr>\n",
       "    <tr>\n",
       "      <th>17801</th>\n",
       "      <td>240017000012020NE003281</td>\n",
       "      <td>179900332</td>\n",
       "      <td>-1,093.55</td>\n",
       "    </tr>\n",
       "  </tbody>\n",
       "</table>\n",
       "<p>48877 rows × 3 columns</p>\n",
       "</div>"
      ],
      "text/plain": [
       "                Código Empenho Id Empenho  valor_pago_em_real\n",
       "18813  254445252012020NE803058  254300072    1,284,023,632.94\n",
       "19113  257001000012020NE000043  269900981      830,895,256.59\n",
       "18299  250005000012020NE000096  176600022      694,320,000.00\n",
       "19281  257001000012020NE810544  174800424      440,894,813.73\n",
       "19120  257001000012020NE453964  177001678      415,121,875.00\n",
       "...                        ...        ...                 ...\n",
       "18051  240076000012020NE000338  202800038              -54.69\n",
       "18114  240230000012020NE000216  243900086              -80.63\n",
       "17957  240017000012020NE006844  243800153             -433.84\n",
       "17825  240017000012020NE003889  177700824             -556.20\n",
       "17801  240017000012020NE003281  179900332           -1,093.55\n",
       "\n",
       "[48877 rows x 3 columns]"
      ]
     },
     "execution_count": 35,
     "metadata": {},
     "output_type": "execute_result"
    }
   ],
   "source": [
    "pagamentos_covid19.groupby([\"Código Empenho\", \"Id Empenho\"]).valor_pago_em_real.sum().reset_index().sort_values(\"valor_pago_em_real\", ascending=False)"
   ]
  },
  {
   "cell_type": "code",
   "execution_count": 36,
   "metadata": {},
   "outputs": [],
   "source": [
    "procura = pagamentos_covid19[(pagamentos_covid19['Código Empenho'] == '257001000012020NE810544') & (pagamentos_covid19['Id Empenho'] == '174800424')]"
   ]
  },
  {
   "cell_type": "code",
   "execution_count": 37,
   "metadata": {},
   "outputs": [
    {
     "data": {
      "text/html": [
       "<div>\n",
       "<style scoped>\n",
       "    .dataframe tbody tr th:only-of-type {\n",
       "        vertical-align: middle;\n",
       "    }\n",
       "\n",
       "    .dataframe tbody tr th {\n",
       "        vertical-align: top;\n",
       "    }\n",
       "\n",
       "    .dataframe thead th {\n",
       "        text-align: right;\n",
       "    }\n",
       "</style>\n",
       "<table border=\"1\" class=\"dataframe\">\n",
       "  <thead>\n",
       "    <tr style=\"text-align: right;\">\n",
       "      <th></th>\n",
       "      <th>Data Emissão_x</th>\n",
       "      <th>Código Empenho</th>\n",
       "      <th>Id Empenho</th>\n",
       "      <th>Órgão_x</th>\n",
       "      <th>Unidade Gestora_x</th>\n",
       "      <th>Código Favorecido_x</th>\n",
       "      <th>Favorecido_x</th>\n",
       "      <th>Valor do Empenho Convertido pra R$</th>\n",
       "      <th>valor_pago_em_real</th>\n",
       "      <th>Valor Restos a Pagar Inscritos (R$)</th>\n",
       "      <th>Observação_x</th>\n",
       "      <th>Observação_y</th>\n",
       "      <th>Modalidade de Licitação</th>\n",
       "    </tr>\n",
       "  </thead>\n",
       "  <tbody>\n",
       "    <tr>\n",
       "      <th>55723</th>\n",
       "      <td>09/04/2020</td>\n",
       "      <td>257001000012020NE810544</td>\n",
       "      <td>174800424</td>\n",
       "      <td>Ministério da Saúde - Unidades com vínculo di</td>\n",
       "      <td>DIRETORIA EXECUTIVA DO FUNDO NAC. DE SAUDE</td>\n",
       "      <td>257001</td>\n",
       "      <td>DIRETORIA EXECUTIVA DO FUNDO NAC. DE SAUDE</td>\n",
       "      <td>440,894,813.73</td>\n",
       "      <td>440,894,813.73</td>\n",
       "      <td>0.00</td>\n",
       "      <td>CORONAVIRUS (COVID-19)MUNICIPAL_PARCELA_UNICA_...</td>\n",
       "      <td>PAGAMENTO DE 65702-CORONAVIRUS (COVID-19) PARC...</td>\n",
       "      <td>Não se Aplica</td>\n",
       "    </tr>\n",
       "  </tbody>\n",
       "</table>\n",
       "</div>"
      ],
      "text/plain": [
       "      Data Emissão_x           Código Empenho Id Empenho  \\\n",
       "55723     09/04/2020  257001000012020NE810544  174800424   \n",
       "\n",
       "                                             Órgão_x  \\\n",
       "55723  Ministério da Saúde - Unidades com vínculo di   \n",
       "\n",
       "                                Unidade Gestora_x Código Favorecido_x  \\\n",
       "55723  DIRETORIA EXECUTIVA DO FUNDO NAC. DE SAUDE              257001   \n",
       "\n",
       "                                     Favorecido_x  \\\n",
       "55723  DIRETORIA EXECUTIVA DO FUNDO NAC. DE SAUDE   \n",
       "\n",
       "       Valor do Empenho Convertido pra R$  valor_pago_em_real  \\\n",
       "55723                      440,894,813.73      440,894,813.73   \n",
       "\n",
       "       Valor Restos a Pagar Inscritos (R$)  \\\n",
       "55723                                 0.00   \n",
       "\n",
       "                                            Observação_x  \\\n",
       "55723  CORONAVIRUS (COVID-19)MUNICIPAL_PARCELA_UNICA_...   \n",
       "\n",
       "                                            Observação_y  \\\n",
       "55723  PAGAMENTO DE 65702-CORONAVIRUS (COVID-19) PARC...   \n",
       "\n",
       "      Modalidade de Licitação  \n",
       "55723           Não se Aplica  "
      ]
     },
     "execution_count": 37,
     "metadata": {},
     "output_type": "execute_result"
    }
   ],
   "source": [
    "procura[[\"Data Emissão_x\",\"Código Empenho\", \"Id Empenho\", \"Órgão_x\", \"Unidade Gestora_x\", \"Código Favorecido_x\", \"Favorecido_x\", \"Valor do Empenho Convertido pra R$\", \"valor_pago_em_real\", \"Valor Restos a Pagar Inscritos (R$)\", \"Observação_x\", \"Observação_y\",  \"Modalidade de Licitação\"]]"
   ]
  },
  {
   "cell_type": "code",
   "execution_count": null,
   "metadata": {},
   "outputs": [],
   "source": []
  },
  {
   "cell_type": "code",
   "execution_count": 38,
   "metadata": {},
   "outputs": [],
   "source": [
    "procura = pagamentos_covid19[(pagamentos_covid19['Código Empenho'] == '254445252012020NE803058') & (pagamentos_covid19['Id Empenho'] == '254300072')]"
   ]
  },
  {
   "cell_type": "code",
   "execution_count": 39,
   "metadata": {},
   "outputs": [
    {
     "data": {
      "text/html": [
       "<div>\n",
       "<style scoped>\n",
       "    .dataframe tbody tr th:only-of-type {\n",
       "        vertical-align: middle;\n",
       "    }\n",
       "\n",
       "    .dataframe tbody tr th {\n",
       "        vertical-align: top;\n",
       "    }\n",
       "\n",
       "    .dataframe thead th {\n",
       "        text-align: right;\n",
       "    }\n",
       "</style>\n",
       "<table border=\"1\" class=\"dataframe\">\n",
       "  <thead>\n",
       "    <tr style=\"text-align: right;\">\n",
       "      <th></th>\n",
       "      <th>Data Emissão_x</th>\n",
       "      <th>Código Empenho</th>\n",
       "      <th>Id Empenho</th>\n",
       "      <th>Órgão_x</th>\n",
       "      <th>Unidade Gestora_x</th>\n",
       "      <th>Código Favorecido_x</th>\n",
       "      <th>Favorecido_x</th>\n",
       "      <th>Valor do Empenho Convertido pra R$</th>\n",
       "      <th>valor_pago_em_real</th>\n",
       "      <th>Valor Restos a Pagar Inscritos (R$)</th>\n",
       "      <th>Observação_x</th>\n",
       "      <th>Observação_y</th>\n",
       "      <th>Modalidade de Licitação</th>\n",
       "    </tr>\n",
       "  </thead>\n",
       "  <tbody>\n",
       "    <tr>\n",
       "      <th>74739</th>\n",
       "      <td>15/09/2020</td>\n",
       "      <td>254445252012020NE803058</td>\n",
       "      <td>254300072</td>\n",
       "      <td>Fundação Oswaldo Cruz</td>\n",
       "      <td>INSTITUTO DE TECNOLOGIA EM IMUNOBIOLOGICOS</td>\n",
       "      <td>EX2544480</td>\n",
       "      <td>ASTRAZENECA UK LIMITED</td>\n",
       "      <td>1,353,600,005.00</td>\n",
       "      <td>175,782,211.76</td>\n",
       "      <td>0.00</td>\n",
       "      <td>IMPORTACAO DE SERVICOS DE PESQUISA, DESENVOLVI...</td>\n",
       "      <td>LIQUIDACAO REF. A CONTRATACAO DE SERVICO DE PE...</td>\n",
       "      <td>Dispensa de Licitação</td>\n",
       "    </tr>\n",
       "    <tr>\n",
       "      <th>74740</th>\n",
       "      <td>15/09/2020</td>\n",
       "      <td>254445252012020NE803058</td>\n",
       "      <td>254300072</td>\n",
       "      <td>Fundação Oswaldo Cruz</td>\n",
       "      <td>INSTITUTO DE TECNOLOGIA EM IMUNOBIOLOGICOS</td>\n",
       "      <td>EX2544480</td>\n",
       "      <td>ASTRAZENECA UK LIMITED</td>\n",
       "      <td>1,353,600,005.00</td>\n",
       "      <td>116,729,421.18</td>\n",
       "      <td>0.00</td>\n",
       "      <td>IMPORTACAO DE SERVICOS DE PESQUISA, DESENVOLVI...</td>\n",
       "      <td>LIQUIDACAO REF. A CONTRATACAO DE SERVICO DE PE...</td>\n",
       "      <td>Dispensa de Licitação</td>\n",
       "    </tr>\n",
       "    <tr>\n",
       "      <th>74741</th>\n",
       "      <td>15/09/2020</td>\n",
       "      <td>254445252012020NE803058</td>\n",
       "      <td>254300072</td>\n",
       "      <td>Fundação Oswaldo Cruz</td>\n",
       "      <td>INSTITUTO DE TECNOLOGIA EM IMUNOBIOLOGICOS</td>\n",
       "      <td>EX2544480</td>\n",
       "      <td>ASTRAZENECA UK LIMITED</td>\n",
       "      <td>1,353,600,005.00</td>\n",
       "      <td>991,512,000.00</td>\n",
       "      <td>0.00</td>\n",
       "      <td>IMPORTACAO DE SERVICOS DE PESQUISA, DESENVOLVI...</td>\n",
       "      <td>LIQUIDACAO REF. A CONTRATACAO DE SERVICO DE PE...</td>\n",
       "      <td>Dispensa de Licitação</td>\n",
       "    </tr>\n",
       "  </tbody>\n",
       "</table>\n",
       "</div>"
      ],
      "text/plain": [
       "      Data Emissão_x           Código Empenho Id Empenho  \\\n",
       "74739     15/09/2020  254445252012020NE803058  254300072   \n",
       "74740     15/09/2020  254445252012020NE803058  254300072   \n",
       "74741     15/09/2020  254445252012020NE803058  254300072   \n",
       "\n",
       "                     Órgão_x                           Unidade Gestora_x  \\\n",
       "74739  Fundação Oswaldo Cruz  INSTITUTO DE TECNOLOGIA EM IMUNOBIOLOGICOS   \n",
       "74740  Fundação Oswaldo Cruz  INSTITUTO DE TECNOLOGIA EM IMUNOBIOLOGICOS   \n",
       "74741  Fundação Oswaldo Cruz  INSTITUTO DE TECNOLOGIA EM IMUNOBIOLOGICOS   \n",
       "\n",
       "      Código Favorecido_x            Favorecido_x  \\\n",
       "74739           EX2544480  ASTRAZENECA UK LIMITED   \n",
       "74740           EX2544480  ASTRAZENECA UK LIMITED   \n",
       "74741           EX2544480  ASTRAZENECA UK LIMITED   \n",
       "\n",
       "       Valor do Empenho Convertido pra R$  valor_pago_em_real  \\\n",
       "74739                    1,353,600,005.00      175,782,211.76   \n",
       "74740                    1,353,600,005.00      116,729,421.18   \n",
       "74741                    1,353,600,005.00      991,512,000.00   \n",
       "\n",
       "       Valor Restos a Pagar Inscritos (R$)  \\\n",
       "74739                                 0.00   \n",
       "74740                                 0.00   \n",
       "74741                                 0.00   \n",
       "\n",
       "                                            Observação_x  \\\n",
       "74739  IMPORTACAO DE SERVICOS DE PESQUISA, DESENVOLVI...   \n",
       "74740  IMPORTACAO DE SERVICOS DE PESQUISA, DESENVOLVI...   \n",
       "74741  IMPORTACAO DE SERVICOS DE PESQUISA, DESENVOLVI...   \n",
       "\n",
       "                                            Observação_y  \\\n",
       "74739  LIQUIDACAO REF. A CONTRATACAO DE SERVICO DE PE...   \n",
       "74740  LIQUIDACAO REF. A CONTRATACAO DE SERVICO DE PE...   \n",
       "74741  LIQUIDACAO REF. A CONTRATACAO DE SERVICO DE PE...   \n",
       "\n",
       "      Modalidade de Licitação  \n",
       "74739   Dispensa de Licitação  \n",
       "74740   Dispensa de Licitação  \n",
       "74741   Dispensa de Licitação  "
      ]
     },
     "execution_count": 39,
     "metadata": {},
     "output_type": "execute_result"
    }
   ],
   "source": [
    "procura[[\"Data Emissão_x\",\"Código Empenho\", \"Id Empenho\", \"Órgão_x\", \"Unidade Gestora_x\", \"Código Favorecido_x\", \"Favorecido_x\", \"Valor do Empenho Convertido pra R$\", \"valor_pago_em_real\", \"Valor Restos a Pagar Inscritos (R$)\", \"Observação_x\", \"Observação_y\",  \"Modalidade de Licitação\"]]"
   ]
  },
  {
   "cell_type": "code",
   "execution_count": null,
   "metadata": {},
   "outputs": [],
   "source": []
  },
  {
   "cell_type": "code",
   "execution_count": 40,
   "metadata": {},
   "outputs": [],
   "source": [
    "# Agrupa a soma de valores pagos em Unidade Gestora - 20 primeiros"
   ]
  },
  {
   "cell_type": "code",
   "execution_count": 41,
   "metadata": {},
   "outputs": [
    {
     "data": {
      "text/html": [
       "<div>\n",
       "<style scoped>\n",
       "    .dataframe tbody tr th:only-of-type {\n",
       "        vertical-align: middle;\n",
       "    }\n",
       "\n",
       "    .dataframe tbody tr th {\n",
       "        vertical-align: top;\n",
       "    }\n",
       "\n",
       "    .dataframe thead th {\n",
       "        text-align: right;\n",
       "    }\n",
       "</style>\n",
       "<table border=\"1\" class=\"dataframe\">\n",
       "  <thead>\n",
       "    <tr style=\"text-align: right;\">\n",
       "      <th></th>\n",
       "      <th>Unidade Gestora_x</th>\n",
       "      <th>valor_pago_em_real</th>\n",
       "    </tr>\n",
       "  </thead>\n",
       "  <tbody>\n",
       "    <tr>\n",
       "      <th>475</th>\n",
       "      <td>DIRETORIA EXECUTIVA DO FUNDO NAC. DE SAUDE</td>\n",
       "      <td>29,770,857,346.16</td>\n",
       "    </tr>\n",
       "    <tr>\n",
       "      <th>600</th>\n",
       "      <td>FUNDO NACIONAL DE ASSISTENCIA SOCIAL</td>\n",
       "      <td>2,500,988,343.31</td>\n",
       "    </tr>\n",
       "    <tr>\n",
       "      <th>464</th>\n",
       "      <td>DEPARTAMENTO DE LOGISTICA EM SAUDE - DLOG</td>\n",
       "      <td>1,574,130,839.71</td>\n",
       "    </tr>\n",
       "    <tr>\n",
       "      <th>848</th>\n",
       "      <td>INSTITUTO DE TECNOLOGIA EM IMUNOBIOLOGICOS</td>\n",
       "      <td>1,552,346,557.30</td>\n",
       "    </tr>\n",
       "    <tr>\n",
       "      <th>416</th>\n",
       "      <td>COORDENACAO-GERAL DE GESTAO DE PESSOAS</td>\n",
       "      <td>368,101,704.86</td>\n",
       "    </tr>\n",
       "    <tr>\n",
       "      <th>595</th>\n",
       "      <td>FUNDAÇÃO OSWALDO CRUZ</td>\n",
       "      <td>322,851,635.43</td>\n",
       "    </tr>\n",
       "    <tr>\n",
       "      <th>885</th>\n",
       "      <td>SECR. DE GESTAO DO TRAB. E DA EDUC. NA SAUDE</td>\n",
       "      <td>231,639,964.00</td>\n",
       "    </tr>\n",
       "    <tr>\n",
       "      <th>599</th>\n",
       "      <td>FUNDO NAC.DE DESENV. CIENTIFICO E TECNOLOGICO</td>\n",
       "      <td>134,584,793.08</td>\n",
       "    </tr>\n",
       "    <tr>\n",
       "      <th>418</th>\n",
       "      <td>COORDENAÇÃO GERAL DE INFRAESTRUTURA DOS CAMPI</td>\n",
       "      <td>109,197,917.01</td>\n",
       "    </tr>\n",
       "    <tr>\n",
       "      <th>601</th>\n",
       "      <td>FUNDO NACIONAL DE SEGURANÇA PÚBLICA - FNSP</td>\n",
       "      <td>83,913,913.16</td>\n",
       "    </tr>\n",
       "    <tr>\n",
       "      <th>888</th>\n",
       "      <td>SECRETARIA NACIONAL DE AVIAÇÃO CIVIL</td>\n",
       "      <td>80,312,705.91</td>\n",
       "    </tr>\n",
       "    <tr>\n",
       "      <th>257</th>\n",
       "      <td>CENTRO DE AQUISIÇÕES ESPECÍFICAS</td>\n",
       "      <td>76,942,555.14</td>\n",
       "    </tr>\n",
       "    <tr>\n",
       "      <th>381</th>\n",
       "      <td>CONSELHO NAC DE DESENV CIENT E TECNOLOGICO</td>\n",
       "      <td>68,958,137.31</td>\n",
       "    </tr>\n",
       "    <tr>\n",
       "      <th>630</th>\n",
       "      <td>HOSPITAL DE CLINICAS DE PORTO ALEGRE</td>\n",
       "      <td>67,126,020.82</td>\n",
       "    </tr>\n",
       "    <tr>\n",
       "      <th>891</th>\n",
       "      <td>SEGURANÇA ALIMENTAR E NUTRICIONAL - SEISP</td>\n",
       "      <td>66,099,358.34</td>\n",
       "    </tr>\n",
       "    <tr>\n",
       "      <th>847</th>\n",
       "      <td>INSTITUTO DE TECNOLOGIA EM FARMACOS</td>\n",
       "      <td>56,787,520.86</td>\n",
       "    </tr>\n",
       "    <tr>\n",
       "      <th>417</th>\n",
       "      <td>COORDENACAO-GERAL DE RECURSOS LOGISTICOS</td>\n",
       "      <td>45,000,000.00</td>\n",
       "    </tr>\n",
       "    <tr>\n",
       "      <th>351</th>\n",
       "      <td>COMANDO LOGISTICO</td>\n",
       "      <td>39,935,653.05</td>\n",
       "    </tr>\n",
       "    <tr>\n",
       "      <th>278</th>\n",
       "      <td>CG DE MATERIAL E PATRIMONIO - CGMAP/SAA</td>\n",
       "      <td>35,333,254.71</td>\n",
       "    </tr>\n",
       "    <tr>\n",
       "      <th>887</th>\n",
       "      <td>SECRETARIA DE ATENCAO PRIMARIA A SAUDE</td>\n",
       "      <td>32,149,160.75</td>\n",
       "    </tr>\n",
       "  </tbody>\n",
       "</table>\n",
       "</div>"
      ],
      "text/plain": [
       "                                 Unidade Gestora_x  valor_pago_em_real\n",
       "475     DIRETORIA EXECUTIVA DO FUNDO NAC. DE SAUDE   29,770,857,346.16\n",
       "600           FUNDO NACIONAL DE ASSISTENCIA SOCIAL    2,500,988,343.31\n",
       "464      DEPARTAMENTO DE LOGISTICA EM SAUDE - DLOG    1,574,130,839.71\n",
       "848     INSTITUTO DE TECNOLOGIA EM IMUNOBIOLOGICOS    1,552,346,557.30\n",
       "416         COORDENACAO-GERAL DE GESTAO DE PESSOAS      368,101,704.86\n",
       "595                          FUNDAÇÃO OSWALDO CRUZ      322,851,635.43\n",
       "885   SECR. DE GESTAO DO TRAB. E DA EDUC. NA SAUDE      231,639,964.00\n",
       "599  FUNDO NAC.DE DESENV. CIENTIFICO E TECNOLOGICO      134,584,793.08\n",
       "418  COORDENAÇÃO GERAL DE INFRAESTRUTURA DOS CAMPI      109,197,917.01\n",
       "601     FUNDO NACIONAL DE SEGURANÇA PÚBLICA - FNSP       83,913,913.16\n",
       "888           SECRETARIA NACIONAL DE AVIAÇÃO CIVIL       80,312,705.91\n",
       "257               CENTRO DE AQUISIÇÕES ESPECÍFICAS       76,942,555.14\n",
       "381     CONSELHO NAC DE DESENV CIENT E TECNOLOGICO       68,958,137.31\n",
       "630           HOSPITAL DE CLINICAS DE PORTO ALEGRE       67,126,020.82\n",
       "891      SEGURANÇA ALIMENTAR E NUTRICIONAL - SEISP       66,099,358.34\n",
       "847            INSTITUTO DE TECNOLOGIA EM FARMACOS       56,787,520.86\n",
       "417       COORDENACAO-GERAL DE RECURSOS LOGISTICOS       45,000,000.00\n",
       "351                              COMANDO LOGISTICO       39,935,653.05\n",
       "278        CG DE MATERIAL E PATRIMONIO - CGMAP/SAA       35,333,254.71\n",
       "887         SECRETARIA DE ATENCAO PRIMARIA A SAUDE       32,149,160.75"
      ]
     },
     "execution_count": 41,
     "metadata": {},
     "output_type": "execute_result"
    }
   ],
   "source": [
    "pagamentos_covid19.groupby([\"Unidade Gestora_x\"]).valor_pago_em_real.sum().reset_index().sort_values(\"valor_pago_em_real\", ascending=False).head(20)"
   ]
  },
  {
   "cell_type": "code",
   "execution_count": 42,
   "metadata": {},
   "outputs": [],
   "source": [
    "# Salva em CSV para gráfico"
   ]
  },
  {
   "cell_type": "code",
   "execution_count": 43,
   "metadata": {},
   "outputs": [],
   "source": [
    "salva = pagamentos_covid19.groupby([\"Unidade Gestora_x\"]).valor_pago_em_real.sum().reset_index().sort_values(\"valor_pago_em_real\", ascending=False)"
   ]
  },
  {
   "cell_type": "code",
   "execution_count": 44,
   "metadata": {},
   "outputs": [
    {
     "name": "stdout",
     "output_type": "stream",
     "text": [
      "<class 'pandas.core.frame.DataFrame'>\n",
      "Int64Index: 1011 entries, 475 to 624\n",
      "Data columns (total 2 columns):\n",
      " #   Column              Non-Null Count  Dtype  \n",
      "---  ------              --------------  -----  \n",
      " 0   Unidade Gestora_x   1011 non-null   object \n",
      " 1   valor_pago_em_real  1011 non-null   float64\n",
      "dtypes: float64(1), object(1)\n",
      "memory usage: 23.7+ KB\n"
     ]
    }
   ],
   "source": [
    "salva.info()"
   ]
  },
  {
   "cell_type": "code",
   "execution_count": 45,
   "metadata": {},
   "outputs": [],
   "source": [
    "salva.to_csv('resultados/graficos/soma_ordenada_unidade_gestora_pagamentos_feitos_de_empenhos_covid19_ate_15_outubro_2020.csv', index=False)"
   ]
  },
  {
   "cell_type": "code",
   "execution_count": null,
   "metadata": {},
   "outputs": [],
   "source": []
  },
  {
   "cell_type": "code",
   "execution_count": 46,
   "metadata": {},
   "outputs": [],
   "source": [
    "# Detalha DIRETORIA EXECUTIVA DO FUNDO NAC. DE SAUDE"
   ]
  },
  {
   "cell_type": "code",
   "execution_count": 47,
   "metadata": {},
   "outputs": [
    {
     "data": {
      "text/html": [
       "<div>\n",
       "<style scoped>\n",
       "    .dataframe tbody tr th:only-of-type {\n",
       "        vertical-align: middle;\n",
       "    }\n",
       "\n",
       "    .dataframe tbody tr th {\n",
       "        vertical-align: top;\n",
       "    }\n",
       "\n",
       "    .dataframe thead th {\n",
       "        text-align: right;\n",
       "    }\n",
       "</style>\n",
       "<table border=\"1\" class=\"dataframe\">\n",
       "  <thead>\n",
       "    <tr style=\"text-align: right;\">\n",
       "      <th></th>\n",
       "      <th>Favorecido_x</th>\n",
       "      <th>valor_pago_em_real</th>\n",
       "    </tr>\n",
       "  </thead>\n",
       "  <tbody>\n",
       "    <tr>\n",
       "      <th>1</th>\n",
       "      <td>DIRETORIA EXECUTIVA DO FUNDO NAC. DE SAUDE</td>\n",
       "      <td>26,072,842,296.92</td>\n",
       "    </tr>\n",
       "    <tr>\n",
       "      <th>0</th>\n",
       "      <td>CONTRIBUICAO A ALIANCA GLOBAL PARA VACINAS E I...</td>\n",
       "      <td>830,895,256.59</td>\n",
       "    </tr>\n",
       "    <tr>\n",
       "      <th>19</th>\n",
       "      <td>FUNDO ESTADUAL DE SAUDE</td>\n",
       "      <td>633,275,829.00</td>\n",
       "    </tr>\n",
       "    <tr>\n",
       "      <th>807</th>\n",
       "      <td>ORGANIZACAO PAN-AMERICANA DA SAUDE/ORGANIZACAO...</td>\n",
       "      <td>451,471,585.65</td>\n",
       "    </tr>\n",
       "    <tr>\n",
       "      <th>42</th>\n",
       "      <td>FUNDO MUNICIPAL DE SAUDE</td>\n",
       "      <td>371,612,083.00</td>\n",
       "    </tr>\n",
       "    <tr>\n",
       "      <th>21</th>\n",
       "      <td>FUNDO ESTADUAL DE SAUDE - FUNDES</td>\n",
       "      <td>223,106,330.00</td>\n",
       "    </tr>\n",
       "    <tr>\n",
       "      <th>23</th>\n",
       "      <td>FUNDO ESTADUAL DE SAUDE DO ESTADO DA BAHIA</td>\n",
       "      <td>98,779,559.00</td>\n",
       "    </tr>\n",
       "    <tr>\n",
       "      <th>8</th>\n",
       "      <td>FUNDO DE SAUDE DO DISTRITO FEDERAL</td>\n",
       "      <td>83,252,401.00</td>\n",
       "    </tr>\n",
       "    <tr>\n",
       "      <th>49</th>\n",
       "      <td>FUNDO MUNICIPAL DE SAUDE - FMS</td>\n",
       "      <td>71,191,675.00</td>\n",
       "    </tr>\n",
       "    <tr>\n",
       "      <th>22</th>\n",
       "      <td>FUNDO ESTADUAL DE SAUDE DE PERNAMBUCO</td>\n",
       "      <td>61,071,264.00</td>\n",
       "    </tr>\n",
       "    <tr>\n",
       "      <th>265</th>\n",
       "      <td>FUNDO MUNICIPAL DE SAUDE DE DUQUE DE CAXIAS</td>\n",
       "      <td>48,737,165.00</td>\n",
       "    </tr>\n",
       "    <tr>\n",
       "      <th>2</th>\n",
       "      <td>ESTADO DO MARANHAO - FUNDO ESTADUAL DE SAUDE /...</td>\n",
       "      <td>48,246,565.00</td>\n",
       "    </tr>\n",
       "    <tr>\n",
       "      <th>27</th>\n",
       "      <td>FUNDO ESTADUAL DE SAUDE DO RIO GRANDE DO NORTE</td>\n",
       "      <td>38,554,266.00</td>\n",
       "    </tr>\n",
       "    <tr>\n",
       "      <th>25</th>\n",
       "      <td>FUNDO ESTADUAL DE SAUDE DO ESTADO RORAIMA</td>\n",
       "      <td>31,183,703.00</td>\n",
       "    </tr>\n",
       "    <tr>\n",
       "      <th>28</th>\n",
       "      <td>FUNDO ESTADUAL DE SAUDE DO TOCANTINS</td>\n",
       "      <td>29,377,067.00</td>\n",
       "    </tr>\n",
       "    <tr>\n",
       "      <th>24</th>\n",
       "      <td>FUNDO ESTADUAL DE SAUDE DO ESTADO DA PARAIBA -...</td>\n",
       "      <td>17,858,950.00</td>\n",
       "    </tr>\n",
       "    <tr>\n",
       "      <th>20</th>\n",
       "      <td>FUNDO ESTADUAL DE SAUDE - FES</td>\n",
       "      <td>16,058,162.00</td>\n",
       "    </tr>\n",
       "    <tr>\n",
       "      <th>718</th>\n",
       "      <td>FUNDO MUNICIPAL DE SAUDE DO MUNICIPIO DE MACAPA</td>\n",
       "      <td>13,967,152.00</td>\n",
       "    </tr>\n",
       "    <tr>\n",
       "      <th>434</th>\n",
       "      <td>FUNDO MUNICIPAL DE SAUDE DE MIRANDA DO NORTE</td>\n",
       "      <td>12,238,626.00</td>\n",
       "    </tr>\n",
       "    <tr>\n",
       "      <th>593</th>\n",
       "      <td>FUNDO MUNICIPAL DE SAUDE DE SAO JOAO DE MERITI</td>\n",
       "      <td>11,956,050.00</td>\n",
       "    </tr>\n",
       "  </tbody>\n",
       "</table>\n",
       "</div>"
      ],
      "text/plain": [
       "                                          Favorecido_x  valor_pago_em_real\n",
       "1           DIRETORIA EXECUTIVA DO FUNDO NAC. DE SAUDE   26,072,842,296.92\n",
       "0    CONTRIBUICAO A ALIANCA GLOBAL PARA VACINAS E I...      830,895,256.59\n",
       "19                             FUNDO ESTADUAL DE SAUDE      633,275,829.00\n",
       "807  ORGANIZACAO PAN-AMERICANA DA SAUDE/ORGANIZACAO...      451,471,585.65\n",
       "42                            FUNDO MUNICIPAL DE SAUDE      371,612,083.00\n",
       "21                    FUNDO ESTADUAL DE SAUDE - FUNDES      223,106,330.00\n",
       "23          FUNDO ESTADUAL DE SAUDE DO ESTADO DA BAHIA       98,779,559.00\n",
       "8                   FUNDO DE SAUDE DO DISTRITO FEDERAL       83,252,401.00\n",
       "49                      FUNDO MUNICIPAL DE SAUDE - FMS       71,191,675.00\n",
       "22               FUNDO ESTADUAL DE SAUDE DE PERNAMBUCO       61,071,264.00\n",
       "265        FUNDO MUNICIPAL DE SAUDE DE DUQUE DE CAXIAS       48,737,165.00\n",
       "2    ESTADO DO MARANHAO - FUNDO ESTADUAL DE SAUDE /...       48,246,565.00\n",
       "27      FUNDO ESTADUAL DE SAUDE DO RIO GRANDE DO NORTE       38,554,266.00\n",
       "25           FUNDO ESTADUAL DE SAUDE DO ESTADO RORAIMA       31,183,703.00\n",
       "28                FUNDO ESTADUAL DE SAUDE DO TOCANTINS       29,377,067.00\n",
       "24   FUNDO ESTADUAL DE SAUDE DO ESTADO DA PARAIBA -...       17,858,950.00\n",
       "20                       FUNDO ESTADUAL DE SAUDE - FES       16,058,162.00\n",
       "718    FUNDO MUNICIPAL DE SAUDE DO MUNICIPIO DE MACAPA       13,967,152.00\n",
       "434       FUNDO MUNICIPAL DE SAUDE DE MIRANDA DO NORTE       12,238,626.00\n",
       "593     FUNDO MUNICIPAL DE SAUDE DE SAO JOAO DE MERITI       11,956,050.00"
      ]
     },
     "execution_count": 47,
     "metadata": {},
     "output_type": "execute_result"
    }
   ],
   "source": [
    "procura = pagamentos_covid19[(pagamentos_covid19['Unidade Gestora_x'] == 'DIRETORIA EXECUTIVA DO FUNDO NAC. DE SAUDE') ]\n",
    "procura.groupby([\"Favorecido_x\"]).valor_pago_em_real.sum().reset_index().sort_values(\"valor_pago_em_real\", ascending=False).head(20)"
   ]
  },
  {
   "cell_type": "code",
   "execution_count": null,
   "metadata": {},
   "outputs": [],
   "source": []
  },
  {
   "cell_type": "code",
   "execution_count": 48,
   "metadata": {},
   "outputs": [],
   "source": [
    "# Detalha DEPARTAMENTO DE LOGISTICA EM SAUDE - DLOG"
   ]
  },
  {
   "cell_type": "code",
   "execution_count": 49,
   "metadata": {},
   "outputs": [
    {
     "data": {
      "text/html": [
       "<div>\n",
       "<style scoped>\n",
       "    .dataframe tbody tr th:only-of-type {\n",
       "        vertical-align: middle;\n",
       "    }\n",
       "\n",
       "    .dataframe tbody tr th {\n",
       "        vertical-align: top;\n",
       "    }\n",
       "\n",
       "    .dataframe thead th {\n",
       "        text-align: right;\n",
       "    }\n",
       "</style>\n",
       "<table border=\"1\" class=\"dataframe\">\n",
       "  <thead>\n",
       "    <tr style=\"text-align: right;\">\n",
       "      <th></th>\n",
       "      <th>Favorecido_x</th>\n",
       "      <th>valor_pago_em_real</th>\n",
       "    </tr>\n",
       "  </thead>\n",
       "  <tbody>\n",
       "    <tr>\n",
       "      <th>12</th>\n",
       "      <td>GLOBAL BASE DEVELOPMENT HK LIMITED</td>\n",
       "      <td>708,226,249.50</td>\n",
       "    </tr>\n",
       "    <tr>\n",
       "      <th>15</th>\n",
       "      <td>INTERMED EQUIPAMENTO MEDICO HOSPITALAR LTDA</td>\n",
       "      <td>258,000,000.00</td>\n",
       "    </tr>\n",
       "    <tr>\n",
       "      <th>26</th>\n",
       "      <td>MAGNAMED TECNOLOGIA MEDICA S/A</td>\n",
       "      <td>229,299,270.00</td>\n",
       "    </tr>\n",
       "    <tr>\n",
       "      <th>18</th>\n",
       "      <td>KTK INDUSTRIA, IMPORTACAO, EXPORTACAO E COMERC...</td>\n",
       "      <td>78,000,000.00</td>\n",
       "    </tr>\n",
       "    <tr>\n",
       "      <th>20</th>\n",
       "      <td>LEISTUNG EQUIPAMENTOS LTDA.</td>\n",
       "      <td>66,037,000.00</td>\n",
       "    </tr>\n",
       "    <tr>\n",
       "      <th>21</th>\n",
       "      <td>LIFEMED INDUSTRIAL DE EQUIPAMENTOS E ARTIGOS M...</td>\n",
       "      <td>34,522,950.00</td>\n",
       "    </tr>\n",
       "    <tr>\n",
       "      <th>8</th>\n",
       "      <td>DESCARPACK DESCARTAVEIS DO BRASIL LTDA</td>\n",
       "      <td>30,544,000.00</td>\n",
       "    </tr>\n",
       "    <tr>\n",
       "      <th>45</th>\n",
       "      <td>WEG DRIVES &amp; CONTROLS - AUTOMACAO LTDA</td>\n",
       "      <td>30,000,000.00</td>\n",
       "    </tr>\n",
       "    <tr>\n",
       "      <th>7</th>\n",
       "      <td>CRISTALIA PRODUTOS QUIMICOS FARMACEUTICOS LTDA</td>\n",
       "      <td>27,629,712.00</td>\n",
       "    </tr>\n",
       "    <tr>\n",
       "      <th>30</th>\n",
       "      <td>PRODUTOS ROCHE QUIMICOS E FARMACEUTICOS S A</td>\n",
       "      <td>26,650,000.00</td>\n",
       "    </tr>\n",
       "    <tr>\n",
       "      <th>37</th>\n",
       "      <td>RTS RIO S/A</td>\n",
       "      <td>19,120,000.00</td>\n",
       "    </tr>\n",
       "    <tr>\n",
       "      <th>23</th>\n",
       "      <td>M S BASTOS COMERCIO REPRESENTACOES LTDA</td>\n",
       "      <td>15,760,000.00</td>\n",
       "    </tr>\n",
       "    <tr>\n",
       "      <th>10</th>\n",
       "      <td>FG BRASIL LTDA</td>\n",
       "      <td>10,400,000.00</td>\n",
       "    </tr>\n",
       "    <tr>\n",
       "      <th>31</th>\n",
       "      <td>PROGEN PROJETOS GERENCIAMENTO E ENGENHARIA S.A.</td>\n",
       "      <td>8,642,003.05</td>\n",
       "    </tr>\n",
       "    <tr>\n",
       "      <th>22</th>\n",
       "      <td>LIMA &amp; PERGHER INDUSTRIA E COMERCIO S/A</td>\n",
       "      <td>6,680,000.00</td>\n",
       "    </tr>\n",
       "    <tr>\n",
       "      <th>41</th>\n",
       "      <td>SCHERING-PLOUGH INDUSTRIA FARMACEUTICA LTDA</td>\n",
       "      <td>6,075,000.00</td>\n",
       "    </tr>\n",
       "    <tr>\n",
       "      <th>2</th>\n",
       "      <td>ASPEN PHARMA INDUSTRIA FARMACEUTICA LTDA</td>\n",
       "      <td>2,879,063.11</td>\n",
       "    </tr>\n",
       "    <tr>\n",
       "      <th>3</th>\n",
       "      <td>BLAU FARMACEUTICA S.A.</td>\n",
       "      <td>2,707,470.00</td>\n",
       "    </tr>\n",
       "    <tr>\n",
       "      <th>27</th>\n",
       "      <td>NACIONAL COMERCIAL HOSPITALAR S.A.</td>\n",
       "      <td>2,280,000.00</td>\n",
       "    </tr>\n",
       "    <tr>\n",
       "      <th>11</th>\n",
       "      <td>FUTURA DISTRIBUIDORA DE MEDICAMENTOS E PRODUTO...</td>\n",
       "      <td>2,040,000.00</td>\n",
       "    </tr>\n",
       "  </tbody>\n",
       "</table>\n",
       "</div>"
      ],
      "text/plain": [
       "                                         Favorecido_x  valor_pago_em_real\n",
       "12                 GLOBAL BASE DEVELOPMENT HK LIMITED      708,226,249.50\n",
       "15        INTERMED EQUIPAMENTO MEDICO HOSPITALAR LTDA      258,000,000.00\n",
       "26                     MAGNAMED TECNOLOGIA MEDICA S/A      229,299,270.00\n",
       "18  KTK INDUSTRIA, IMPORTACAO, EXPORTACAO E COMERC...       78,000,000.00\n",
       "20                        LEISTUNG EQUIPAMENTOS LTDA.       66,037,000.00\n",
       "21  LIFEMED INDUSTRIAL DE EQUIPAMENTOS E ARTIGOS M...       34,522,950.00\n",
       "8              DESCARPACK DESCARTAVEIS DO BRASIL LTDA       30,544,000.00\n",
       "45             WEG DRIVES & CONTROLS - AUTOMACAO LTDA       30,000,000.00\n",
       "7      CRISTALIA PRODUTOS QUIMICOS FARMACEUTICOS LTDA       27,629,712.00\n",
       "30        PRODUTOS ROCHE QUIMICOS E FARMACEUTICOS S A       26,650,000.00\n",
       "37                                        RTS RIO S/A       19,120,000.00\n",
       "23            M S BASTOS COMERCIO REPRESENTACOES LTDA       15,760,000.00\n",
       "10                                     FG BRASIL LTDA       10,400,000.00\n",
       "31    PROGEN PROJETOS GERENCIAMENTO E ENGENHARIA S.A.        8,642,003.05\n",
       "22            LIMA & PERGHER INDUSTRIA E COMERCIO S/A        6,680,000.00\n",
       "41        SCHERING-PLOUGH INDUSTRIA FARMACEUTICA LTDA        6,075,000.00\n",
       "2            ASPEN PHARMA INDUSTRIA FARMACEUTICA LTDA        2,879,063.11\n",
       "3                              BLAU FARMACEUTICA S.A.        2,707,470.00\n",
       "27                 NACIONAL COMERCIAL HOSPITALAR S.A.        2,280,000.00\n",
       "11  FUTURA DISTRIBUIDORA DE MEDICAMENTOS E PRODUTO...        2,040,000.00"
      ]
     },
     "execution_count": 49,
     "metadata": {},
     "output_type": "execute_result"
    }
   ],
   "source": [
    "procura = pagamentos_covid19[(pagamentos_covid19['Unidade Gestora_x'] == 'DEPARTAMENTO DE LOGISTICA EM SAUDE - DLOG') ]\n",
    "procura.groupby([\"Favorecido_x\"]).valor_pago_em_real.sum().reset_index().sort_values(\"valor_pago_em_real\", ascending=False).head(20)"
   ]
  },
  {
   "cell_type": "code",
   "execution_count": 50,
   "metadata": {},
   "outputs": [
    {
     "data": {
      "text/plain": [
       "1574130839.71"
      ]
     },
     "execution_count": 50,
     "metadata": {},
     "output_type": "execute_result"
    }
   ],
   "source": [
    "procura['valor_pago_em_real'].sum()"
   ]
  },
  {
   "cell_type": "code",
   "execution_count": null,
   "metadata": {},
   "outputs": [],
   "source": []
  },
  {
   "cell_type": "code",
   "execution_count": 51,
   "metadata": {},
   "outputs": [],
   "source": [
    "# FUNDO NACIONAL DE ASSISTENCIA SOCIAL"
   ]
  },
  {
   "cell_type": "code",
   "execution_count": 52,
   "metadata": {},
   "outputs": [
    {
     "data": {
      "text/html": [
       "<div>\n",
       "<style scoped>\n",
       "    .dataframe tbody tr th:only-of-type {\n",
       "        vertical-align: middle;\n",
       "    }\n",
       "\n",
       "    .dataframe tbody tr th {\n",
       "        vertical-align: top;\n",
       "    }\n",
       "\n",
       "    .dataframe thead th {\n",
       "        text-align: right;\n",
       "    }\n",
       "</style>\n",
       "<table border=\"1\" class=\"dataframe\">\n",
       "  <thead>\n",
       "    <tr style=\"text-align: right;\">\n",
       "      <th></th>\n",
       "      <th>Favorecido_x</th>\n",
       "      <th>valor_pago_em_real</th>\n",
       "    </tr>\n",
       "  </thead>\n",
       "  <tbody>\n",
       "    <tr>\n",
       "      <th>13</th>\n",
       "      <td>FUNDO NACIONAL DE ASSISTENCIA SOCIAL</td>\n",
       "      <td>2,443,433,244.31</td>\n",
       "    </tr>\n",
       "    <tr>\n",
       "      <th>11</th>\n",
       "      <td>FUNDO MUNICIPAL DE ASSISTENCIA SOCIAL- (FMAS) ...</td>\n",
       "      <td>19,138,597.00</td>\n",
       "    </tr>\n",
       "    <tr>\n",
       "      <th>1</th>\n",
       "      <td>FUNDO ESTADUAL DE ASSISTENCIA SOCIAL - FEAS</td>\n",
       "      <td>9,514,018.00</td>\n",
       "    </tr>\n",
       "    <tr>\n",
       "      <th>14</th>\n",
       "      <td>MUNICIPIO DE JABOATAO - FUNDO MUNICIPAL ,DE AS...</td>\n",
       "      <td>7,538,195.00</td>\n",
       "    </tr>\n",
       "    <tr>\n",
       "      <th>0</th>\n",
       "      <td>FUNDO ESTADUAL DE ASSISTENCIA SOCIAL</td>\n",
       "      <td>7,432,147.00</td>\n",
       "    </tr>\n",
       "    <tr>\n",
       "      <th>8</th>\n",
       "      <td>FUNDO MUNICIPAL DE ASSISTENCIA SOCIAL DE SANTANA</td>\n",
       "      <td>6,500,000.00</td>\n",
       "    </tr>\n",
       "    <tr>\n",
       "      <th>3</th>\n",
       "      <td>FUNDO MUNICIPAL DE ASSISTENCIA SOCIAL</td>\n",
       "      <td>1,855,357.00</td>\n",
       "    </tr>\n",
       "    <tr>\n",
       "      <th>7</th>\n",
       "      <td>FUNDO MUNICIPAL DE ASSISTENCIA SOCIAL DE LARAN...</td>\n",
       "      <td>1,200,000.00</td>\n",
       "    </tr>\n",
       "    <tr>\n",
       "      <th>12</th>\n",
       "      <td>FUNDO MUNICIPAL DE ASSISTENCIA SOCIAL-FMAS</td>\n",
       "      <td>855,357.00</td>\n",
       "    </tr>\n",
       "    <tr>\n",
       "      <th>2</th>\n",
       "      <td>FUNDO MUNICIPAL DA ASSISTENCIA SOCIAL DE MAZAGAO</td>\n",
       "      <td>800,000.00</td>\n",
       "    </tr>\n",
       "    <tr>\n",
       "      <th>5</th>\n",
       "      <td>FUNDO MUNICIPAL DE ASSISTENCIA SOCIAL - FNAS</td>\n",
       "      <td>800,000.00</td>\n",
       "    </tr>\n",
       "    <tr>\n",
       "      <th>4</th>\n",
       "      <td>FUNDO MUNICIPAL DE ASSISTENCIA SOCIAL - FMAS</td>\n",
       "      <td>710,714.00</td>\n",
       "    </tr>\n",
       "    <tr>\n",
       "      <th>10</th>\n",
       "      <td>FUNDO MUNICIPAL DE ASSISTENCIA SOCIAL DE TARTA...</td>\n",
       "      <td>500,000.00</td>\n",
       "    </tr>\n",
       "    <tr>\n",
       "      <th>6</th>\n",
       "      <td>FUNDO MUNICIPAL DE ASSISTENCIA SOCIAL DE CUTIAS</td>\n",
       "      <td>355,357.00</td>\n",
       "    </tr>\n",
       "    <tr>\n",
       "      <th>9</th>\n",
       "      <td>FUNDO MUNICIPAL DE ASSISTENCIA SOCIAL DE SERRA...</td>\n",
       "      <td>355,357.00</td>\n",
       "    </tr>\n",
       "  </tbody>\n",
       "</table>\n",
       "</div>"
      ],
      "text/plain": [
       "                                         Favorecido_x  valor_pago_em_real\n",
       "13               FUNDO NACIONAL DE ASSISTENCIA SOCIAL    2,443,433,244.31\n",
       "11  FUNDO MUNICIPAL DE ASSISTENCIA SOCIAL- (FMAS) ...       19,138,597.00\n",
       "1         FUNDO ESTADUAL DE ASSISTENCIA SOCIAL - FEAS        9,514,018.00\n",
       "14  MUNICIPIO DE JABOATAO - FUNDO MUNICIPAL ,DE AS...        7,538,195.00\n",
       "0                FUNDO ESTADUAL DE ASSISTENCIA SOCIAL        7,432,147.00\n",
       "8    FUNDO MUNICIPAL DE ASSISTENCIA SOCIAL DE SANTANA        6,500,000.00\n",
       "3               FUNDO MUNICIPAL DE ASSISTENCIA SOCIAL        1,855,357.00\n",
       "7   FUNDO MUNICIPAL DE ASSISTENCIA SOCIAL DE LARAN...        1,200,000.00\n",
       "12         FUNDO MUNICIPAL DE ASSISTENCIA SOCIAL-FMAS          855,357.00\n",
       "2    FUNDO MUNICIPAL DA ASSISTENCIA SOCIAL DE MAZAGAO          800,000.00\n",
       "5        FUNDO MUNICIPAL DE ASSISTENCIA SOCIAL - FNAS          800,000.00\n",
       "4        FUNDO MUNICIPAL DE ASSISTENCIA SOCIAL - FMAS          710,714.00\n",
       "10  FUNDO MUNICIPAL DE ASSISTENCIA SOCIAL DE TARTA...          500,000.00\n",
       "6     FUNDO MUNICIPAL DE ASSISTENCIA SOCIAL DE CUTIAS          355,357.00\n",
       "9   FUNDO MUNICIPAL DE ASSISTENCIA SOCIAL DE SERRA...          355,357.00"
      ]
     },
     "execution_count": 52,
     "metadata": {},
     "output_type": "execute_result"
    }
   ],
   "source": [
    "procura = pagamentos_covid19[(pagamentos_covid19['Unidade Gestora_x'] == 'FUNDO NACIONAL DE ASSISTENCIA SOCIAL') ]\n",
    "procura.groupby([\"Favorecido_x\"]).valor_pago_em_real.sum().reset_index().sort_values(\"valor_pago_em_real\", ascending=False).head(20)"
   ]
  },
  {
   "cell_type": "code",
   "execution_count": null,
   "metadata": {},
   "outputs": [],
   "source": []
  },
  {
   "cell_type": "code",
   "execution_count": null,
   "metadata": {},
   "outputs": [],
   "source": []
  },
  {
   "cell_type": "code",
   "execution_count": 53,
   "metadata": {},
   "outputs": [],
   "source": [
    "# Agrupa a soma de valores pagos em Gestão - 20 primeiros"
   ]
  },
  {
   "cell_type": "code",
   "execution_count": 54,
   "metadata": {},
   "outputs": [
    {
     "data": {
      "text/html": [
       "<div>\n",
       "<style scoped>\n",
       "    .dataframe tbody tr th:only-of-type {\n",
       "        vertical-align: middle;\n",
       "    }\n",
       "\n",
       "    .dataframe tbody tr th {\n",
       "        vertical-align: top;\n",
       "    }\n",
       "\n",
       "    .dataframe thead th {\n",
       "        text-align: right;\n",
       "    }\n",
       "</style>\n",
       "<table border=\"1\" class=\"dataframe\">\n",
       "  <thead>\n",
       "    <tr style=\"text-align: right;\">\n",
       "      <th></th>\n",
       "      <th>Gestão_x</th>\n",
       "      <th>valor_pago_em_real</th>\n",
       "    </tr>\n",
       "  </thead>\n",
       "  <tbody>\n",
       "    <tr>\n",
       "      <th>64</th>\n",
       "      <td>TESOURO NACIONAL</td>\n",
       "      <td>35,418,353,390.48</td>\n",
       "    </tr>\n",
       "    <tr>\n",
       "      <th>8</th>\n",
       "      <td>FUNDACAO OSWALDO CRUZ</td>\n",
       "      <td>2,076,135,245.82</td>\n",
       "    </tr>\n",
       "    <tr>\n",
       "      <th>4</th>\n",
       "      <td>EMPRESA BRASILEIRA DE SERVICOS HOSPITALARES</td>\n",
       "      <td>165,955,087.21</td>\n",
       "    </tr>\n",
       "    <tr>\n",
       "      <th>1</th>\n",
       "      <td>COMPANHIA NACIONAL DE ABASTECIMENTO</td>\n",
       "      <td>109,335,671.36</td>\n",
       "    </tr>\n",
       "    <tr>\n",
       "      <th>2</th>\n",
       "      <td>CONSELHO NAC.DE DESENV.CIENTIFICO TECNOLOGICO</td>\n",
       "      <td>68,958,137.31</td>\n",
       "    </tr>\n",
       "    <tr>\n",
       "      <th>25</th>\n",
       "      <td>HOSPITAL DE CLINICAS DE PORTO ALEGRE</td>\n",
       "      <td>67,126,020.82</td>\n",
       "    </tr>\n",
       "    <tr>\n",
       "      <th>93</th>\n",
       "      <td>UNIVERSIDADE FEDERAL DO RIO DE JANEIRO</td>\n",
       "      <td>31,386,213.34</td>\n",
       "    </tr>\n",
       "    <tr>\n",
       "      <th>77</th>\n",
       "      <td>UNIVERSIDADE FEDERAL DE MINAS GERAIS</td>\n",
       "      <td>20,803,835.68</td>\n",
       "    </tr>\n",
       "    <tr>\n",
       "      <th>26</th>\n",
       "      <td>HOSPITAL NOSSA SENHORA DA CONCEICAO S/A</td>\n",
       "      <td>19,587,639.31</td>\n",
       "    </tr>\n",
       "    <tr>\n",
       "      <th>7</th>\n",
       "      <td>FUNDACAO NACIONAL DO INDIO</td>\n",
       "      <td>15,005,760.96</td>\n",
       "    </tr>\n",
       "    <tr>\n",
       "      <th>14</th>\n",
       "      <td>FUNDACAO UNIVERSIDADE FEDERAL DE PELOTAS</td>\n",
       "      <td>13,911,374.64</td>\n",
       "    </tr>\n",
       "    <tr>\n",
       "      <th>79</th>\n",
       "      <td>UNIVERSIDADE FEDERAL DE PERNAMBUCO</td>\n",
       "      <td>9,843,570.83</td>\n",
       "    </tr>\n",
       "    <tr>\n",
       "      <th>83</th>\n",
       "      <td>UNIVERSIDADE FEDERAL DE SAO PAULO</td>\n",
       "      <td>9,645,198.23</td>\n",
       "    </tr>\n",
       "    <tr>\n",
       "      <th>9</th>\n",
       "      <td>FUNDACAO UNIVERSIDADE DE BRASILIA</td>\n",
       "      <td>9,547,265.46</td>\n",
       "    </tr>\n",
       "    <tr>\n",
       "      <th>35</th>\n",
       "      <td>INST.FED.DE EDUC.,CIENC.E TEC.DE GOIAS</td>\n",
       "      <td>9,544,633.44</td>\n",
       "    </tr>\n",
       "    <tr>\n",
       "      <th>95</th>\n",
       "      <td>UNIVERSIDADE FEDERAL DO RIO GRANDE DO NORTE</td>\n",
       "      <td>8,752,323.13</td>\n",
       "    </tr>\n",
       "    <tr>\n",
       "      <th>18</th>\n",
       "      <td>FUNDACAO UNIVERSIDADE FEDERAL DE UBERLANDIA</td>\n",
       "      <td>7,281,239.55</td>\n",
       "    </tr>\n",
       "    <tr>\n",
       "      <th>70</th>\n",
       "      <td>UNIVERSIDADE FEDERAL DE ALAGOAS</td>\n",
       "      <td>5,984,192.44</td>\n",
       "    </tr>\n",
       "    <tr>\n",
       "      <th>76</th>\n",
       "      <td>UNIVERSIDADE FEDERAL DE LAVRAS</td>\n",
       "      <td>3,747,938.36</td>\n",
       "    </tr>\n",
       "    <tr>\n",
       "      <th>86</th>\n",
       "      <td>UNIVERSIDADE FEDERAL DO CEARA</td>\n",
       "      <td>3,692,514.11</td>\n",
       "    </tr>\n",
       "  </tbody>\n",
       "</table>\n",
       "</div>"
      ],
      "text/plain": [
       "                                         Gestão_x  valor_pago_em_real\n",
       "64                               TESOURO NACIONAL   35,418,353,390.48\n",
       "8                           FUNDACAO OSWALDO CRUZ    2,076,135,245.82\n",
       "4     EMPRESA BRASILEIRA DE SERVICOS HOSPITALARES      165,955,087.21\n",
       "1             COMPANHIA NACIONAL DE ABASTECIMENTO      109,335,671.36\n",
       "2   CONSELHO NAC.DE DESENV.CIENTIFICO TECNOLOGICO       68,958,137.31\n",
       "25           HOSPITAL DE CLINICAS DE PORTO ALEGRE       67,126,020.82\n",
       "93         UNIVERSIDADE FEDERAL DO RIO DE JANEIRO       31,386,213.34\n",
       "77           UNIVERSIDADE FEDERAL DE MINAS GERAIS       20,803,835.68\n",
       "26        HOSPITAL NOSSA SENHORA DA CONCEICAO S/A       19,587,639.31\n",
       "7                      FUNDACAO NACIONAL DO INDIO       15,005,760.96\n",
       "14       FUNDACAO UNIVERSIDADE FEDERAL DE PELOTAS       13,911,374.64\n",
       "79             UNIVERSIDADE FEDERAL DE PERNAMBUCO        9,843,570.83\n",
       "83              UNIVERSIDADE FEDERAL DE SAO PAULO        9,645,198.23\n",
       "9               FUNDACAO UNIVERSIDADE DE BRASILIA        9,547,265.46\n",
       "35         INST.FED.DE EDUC.,CIENC.E TEC.DE GOIAS        9,544,633.44\n",
       "95    UNIVERSIDADE FEDERAL DO RIO GRANDE DO NORTE        8,752,323.13\n",
       "18    FUNDACAO UNIVERSIDADE FEDERAL DE UBERLANDIA        7,281,239.55\n",
       "70                UNIVERSIDADE FEDERAL DE ALAGOAS        5,984,192.44\n",
       "76                 UNIVERSIDADE FEDERAL DE LAVRAS        3,747,938.36\n",
       "86                  UNIVERSIDADE FEDERAL DO CEARA        3,692,514.11"
      ]
     },
     "execution_count": 54,
     "metadata": {},
     "output_type": "execute_result"
    }
   ],
   "source": [
    "pagamentos_covid19.groupby([\"Gestão_x\"]).valor_pago_em_real.sum().reset_index().sort_values(\"valor_pago_em_real\", ascending=False).head(20)"
   ]
  },
  {
   "cell_type": "code",
   "execution_count": null,
   "metadata": {},
   "outputs": [],
   "source": []
  },
  {
   "cell_type": "code",
   "execution_count": 55,
   "metadata": {},
   "outputs": [],
   "source": [
    "# Agrupa a soma de valores pagos em Favorecido - 20 primeiros"
   ]
  },
  {
   "cell_type": "code",
   "execution_count": 56,
   "metadata": {},
   "outputs": [
    {
     "data": {
      "text/html": [
       "<div>\n",
       "<style scoped>\n",
       "    .dataframe tbody tr th:only-of-type {\n",
       "        vertical-align: middle;\n",
       "    }\n",
       "\n",
       "    .dataframe tbody tr th {\n",
       "        vertical-align: top;\n",
       "    }\n",
       "\n",
       "    .dataframe thead th {\n",
       "        text-align: right;\n",
       "    }\n",
       "</style>\n",
       "<table border=\"1\" class=\"dataframe\">\n",
       "  <thead>\n",
       "    <tr style=\"text-align: right;\">\n",
       "      <th></th>\n",
       "      <th>Favorecido_x</th>\n",
       "      <th>Código Favorecido_x</th>\n",
       "      <th>valor_pago_em_real</th>\n",
       "    </tr>\n",
       "  </thead>\n",
       "  <tbody>\n",
       "    <tr>\n",
       "      <th>2614</th>\n",
       "      <td>DIRETORIA EXECUTIVA DO FUNDO NAC. DE SAUDE</td>\n",
       "      <td>257001</td>\n",
       "      <td>26,072,842,296.92</td>\n",
       "    </tr>\n",
       "    <tr>\n",
       "      <th>4701</th>\n",
       "      <td>FUNDO NACIONAL DE ASSISTENCIA SOCIAL</td>\n",
       "      <td>330013</td>\n",
       "      <td>2,443,433,244.31</td>\n",
       "    </tr>\n",
       "    <tr>\n",
       "      <th>1171</th>\n",
       "      <td>ASTRAZENECA UK LIMITED</td>\n",
       "      <td>EX2544480</td>\n",
       "      <td>1,284,023,632.94</td>\n",
       "    </tr>\n",
       "    <tr>\n",
       "      <th>2102</th>\n",
       "      <td>CONTRIBUICAO A ALIANCA GLOBAL PARA VACINAS E I...</td>\n",
       "      <td>EX0250046</td>\n",
       "      <td>830,895,256.59</td>\n",
       "    </tr>\n",
       "    <tr>\n",
       "      <th>4853</th>\n",
       "      <td>GLOBAL BASE DEVELOPMENT HK LIMITED</td>\n",
       "      <td>EX2590112</td>\n",
       "      <td>708,226,249.50</td>\n",
       "    </tr>\n",
       "    <tr>\n",
       "      <th>7035</th>\n",
       "      <td>ORGANIZACAO PAN-AMERICANA DA SAUDE/ORGANIZACAO...</td>\n",
       "      <td>04096431000154</td>\n",
       "      <td>451,471,585.65</td>\n",
       "    </tr>\n",
       "    <tr>\n",
       "      <th>2292</th>\n",
       "      <td>COORDENACAO-GERAL DE GESTAO DE PESSOAS</td>\n",
       "      <td>250006</td>\n",
       "      <td>307,034,833.78</td>\n",
       "    </tr>\n",
       "    <tr>\n",
       "      <th>5342</th>\n",
       "      <td>INTERMED EQUIPAMENTO MEDICO HOSPITALAR LTDA</td>\n",
       "      <td>49520521000169</td>\n",
       "      <td>258,180,000.00</td>\n",
       "    </tr>\n",
       "    <tr>\n",
       "      <th>1261</th>\n",
       "      <td>BANCO DO BRASIL SA</td>\n",
       "      <td>00000000000191</td>\n",
       "      <td>234,107,373.56</td>\n",
       "    </tr>\n",
       "    <tr>\n",
       "      <th>6212</th>\n",
       "      <td>MAGNAMED TECNOLOGIA MEDICA S/A</td>\n",
       "      <td>01298443000254</td>\n",
       "      <td>229,299,270.00</td>\n",
       "    </tr>\n",
       "    <tr>\n",
       "      <th>3461</th>\n",
       "      <td>FUNDO ESTADUAL DE SAUDE</td>\n",
       "      <td>83369835000140</td>\n",
       "      <td>222,956,639.00</td>\n",
       "    </tr>\n",
       "    <tr>\n",
       "      <th>3296</th>\n",
       "      <td>FIOTEC - FUNDACAO PARA O DESENVOLVIMENTO CIENT...</td>\n",
       "      <td>02385669000174</td>\n",
       "      <td>195,403,682.88</td>\n",
       "    </tr>\n",
       "    <tr>\n",
       "      <th>3466</th>\n",
       "      <td>FUNDO ESTADUAL DE SAUDE - FUNDES</td>\n",
       "      <td>13851748000140</td>\n",
       "      <td>163,281,811.00</td>\n",
       "    </tr>\n",
       "    <tr>\n",
       "      <th>5310</th>\n",
       "      <td>INSTITUTO DE BIOLOGIA MOLECULAR DO PARANA - IBMP</td>\n",
       "      <td>03585986000105</td>\n",
       "      <td>120,840,152.25</td>\n",
       "    </tr>\n",
       "    <tr>\n",
       "      <th>3459</th>\n",
       "      <td>FUNDO ESTADUAL DE SAUDE</td>\n",
       "      <td>74031865000151</td>\n",
       "      <td>116,003,399.00</td>\n",
       "    </tr>\n",
       "    <tr>\n",
       "      <th>3468</th>\n",
       "      <td>FUNDO ESTADUAL DE SAUDE DO ESTADO DA BAHIA</td>\n",
       "      <td>05816630000152</td>\n",
       "      <td>98,779,559.00</td>\n",
       "    </tr>\n",
       "    <tr>\n",
       "      <th>3424</th>\n",
       "      <td>FUNDACAO DE DESENVOLVIMENTO DA PESQUISA</td>\n",
       "      <td>18720938000141</td>\n",
       "      <td>94,875,705.73</td>\n",
       "    </tr>\n",
       "    <tr>\n",
       "      <th>3439</th>\n",
       "      <td>FUNDO DE SAUDE DO DISTRITO FEDERAL</td>\n",
       "      <td>12116247000157</td>\n",
       "      <td>83,252,401.00</td>\n",
       "    </tr>\n",
       "    <tr>\n",
       "      <th>3462</th>\n",
       "      <td>FUNDO ESTADUAL DE SAUDE</td>\n",
       "      <td>87182846000178</td>\n",
       "      <td>80,546,940.00</td>\n",
       "    </tr>\n",
       "    <tr>\n",
       "      <th>8323</th>\n",
       "      <td>TAM LINHAS AEREAS S/A.</td>\n",
       "      <td>02012862000160</td>\n",
       "      <td>80,312,705.91</td>\n",
       "    </tr>\n",
       "  </tbody>\n",
       "</table>\n",
       "</div>"
      ],
      "text/plain": [
       "                                           Favorecido_x Código Favorecido_x  \\\n",
       "2614         DIRETORIA EXECUTIVA DO FUNDO NAC. DE SAUDE              257001   \n",
       "4701               FUNDO NACIONAL DE ASSISTENCIA SOCIAL              330013   \n",
       "1171                             ASTRAZENECA UK LIMITED           EX2544480   \n",
       "2102  CONTRIBUICAO A ALIANCA GLOBAL PARA VACINAS E I...           EX0250046   \n",
       "4853                 GLOBAL BASE DEVELOPMENT HK LIMITED           EX2590112   \n",
       "7035  ORGANIZACAO PAN-AMERICANA DA SAUDE/ORGANIZACAO...      04096431000154   \n",
       "2292             COORDENACAO-GERAL DE GESTAO DE PESSOAS              250006   \n",
       "5342        INTERMED EQUIPAMENTO MEDICO HOSPITALAR LTDA      49520521000169   \n",
       "1261                                 BANCO DO BRASIL SA      00000000000191   \n",
       "6212                     MAGNAMED TECNOLOGIA MEDICA S/A      01298443000254   \n",
       "3461                            FUNDO ESTADUAL DE SAUDE      83369835000140   \n",
       "3296  FIOTEC - FUNDACAO PARA O DESENVOLVIMENTO CIENT...      02385669000174   \n",
       "3466                   FUNDO ESTADUAL DE SAUDE - FUNDES      13851748000140   \n",
       "5310   INSTITUTO DE BIOLOGIA MOLECULAR DO PARANA - IBMP      03585986000105   \n",
       "3459                            FUNDO ESTADUAL DE SAUDE      74031865000151   \n",
       "3468         FUNDO ESTADUAL DE SAUDE DO ESTADO DA BAHIA      05816630000152   \n",
       "3424            FUNDACAO DE DESENVOLVIMENTO DA PESQUISA      18720938000141   \n",
       "3439                 FUNDO DE SAUDE DO DISTRITO FEDERAL      12116247000157   \n",
       "3462                            FUNDO ESTADUAL DE SAUDE      87182846000178   \n",
       "8323                             TAM LINHAS AEREAS S/A.      02012862000160   \n",
       "\n",
       "      valor_pago_em_real  \n",
       "2614   26,072,842,296.92  \n",
       "4701    2,443,433,244.31  \n",
       "1171    1,284,023,632.94  \n",
       "2102      830,895,256.59  \n",
       "4853      708,226,249.50  \n",
       "7035      451,471,585.65  \n",
       "2292      307,034,833.78  \n",
       "5342      258,180,000.00  \n",
       "1261      234,107,373.56  \n",
       "6212      229,299,270.00  \n",
       "3461      222,956,639.00  \n",
       "3296      195,403,682.88  \n",
       "3466      163,281,811.00  \n",
       "5310      120,840,152.25  \n",
       "3459      116,003,399.00  \n",
       "3468       98,779,559.00  \n",
       "3424       94,875,705.73  \n",
       "3439       83,252,401.00  \n",
       "3462       80,546,940.00  \n",
       "8323       80,312,705.91  "
      ]
     },
     "execution_count": 56,
     "metadata": {},
     "output_type": "execute_result"
    }
   ],
   "source": [
    "pagamentos_covid19.groupby([\"Favorecido_x\", \"Código Favorecido_x\"]).valor_pago_em_real.sum().reset_index().sort_values(\"valor_pago_em_real\", ascending=False).head(20)"
   ]
  },
  {
   "cell_type": "code",
   "execution_count": 57,
   "metadata": {},
   "outputs": [],
   "source": [
    "procura = pagamentos_covid19[(pagamentos_covid19['Código Favorecido_x'] == '49520521000169') ]"
   ]
  },
  {
   "cell_type": "code",
   "execution_count": 58,
   "metadata": {},
   "outputs": [
    {
     "data": {
      "text/html": [
       "<div>\n",
       "<style scoped>\n",
       "    .dataframe tbody tr th:only-of-type {\n",
       "        vertical-align: middle;\n",
       "    }\n",
       "\n",
       "    .dataframe tbody tr th {\n",
       "        vertical-align: top;\n",
       "    }\n",
       "\n",
       "    .dataframe thead th {\n",
       "        text-align: right;\n",
       "    }\n",
       "</style>\n",
       "<table border=\"1\" class=\"dataframe\">\n",
       "  <thead>\n",
       "    <tr style=\"text-align: right;\">\n",
       "      <th></th>\n",
       "      <th>Código Empenho</th>\n",
       "      <th>Id Empenho</th>\n",
       "      <th>valor_pago_em_real</th>\n",
       "    </tr>\n",
       "  </thead>\n",
       "  <tbody>\n",
       "    <tr>\n",
       "      <th>1</th>\n",
       "      <td>250005000012020NE000104</td>\n",
       "      <td>178500504</td>\n",
       "      <td>258,000,000.00</td>\n",
       "    </tr>\n",
       "    <tr>\n",
       "      <th>0</th>\n",
       "      <td>160166000012020NE800016</td>\n",
       "      <td>182300433</td>\n",
       "      <td>180,000.00</td>\n",
       "    </tr>\n",
       "  </tbody>\n",
       "</table>\n",
       "</div>"
      ],
      "text/plain": [
       "            Código Empenho Id Empenho  valor_pago_em_real\n",
       "1  250005000012020NE000104  178500504      258,000,000.00\n",
       "0  160166000012020NE800016  182300433          180,000.00"
      ]
     },
     "execution_count": 58,
     "metadata": {},
     "output_type": "execute_result"
    }
   ],
   "source": [
    "procura.groupby([\"Código Empenho\", \"Id Empenho\"]).valor_pago_em_real.sum().reset_index().sort_values(\"valor_pago_em_real\", ascending=False)"
   ]
  },
  {
   "cell_type": "code",
   "execution_count": 59,
   "metadata": {},
   "outputs": [
    {
     "data": {
      "text/html": [
       "<div>\n",
       "<style scoped>\n",
       "    .dataframe tbody tr th:only-of-type {\n",
       "        vertical-align: middle;\n",
       "    }\n",
       "\n",
       "    .dataframe tbody tr th {\n",
       "        vertical-align: top;\n",
       "    }\n",
       "\n",
       "    .dataframe thead th {\n",
       "        text-align: right;\n",
       "    }\n",
       "</style>\n",
       "<table border=\"1\" class=\"dataframe\">\n",
       "  <thead>\n",
       "    <tr style=\"text-align: right;\">\n",
       "      <th></th>\n",
       "      <th>Data Emissão_x</th>\n",
       "      <th>Código Empenho</th>\n",
       "      <th>Id Empenho</th>\n",
       "      <th>Órgão_x</th>\n",
       "      <th>Unidade Gestora_x</th>\n",
       "      <th>Código Favorecido_x</th>\n",
       "      <th>Favorecido_x</th>\n",
       "      <th>Valor do Empenho Convertido pra R$</th>\n",
       "      <th>valor_pago_em_real</th>\n",
       "      <th>Valor Restos a Pagar Inscritos (R$)</th>\n",
       "      <th>Observação_x</th>\n",
       "      <th>Observação_y</th>\n",
       "      <th>Modalidade de Licitação</th>\n",
       "    </tr>\n",
       "  </thead>\n",
       "  <tbody>\n",
       "    <tr>\n",
       "      <th>54350</th>\n",
       "      <td>09/04/2020</td>\n",
       "      <td>160166000012020NE800016</td>\n",
       "      <td>182300433</td>\n",
       "      <td>Comando do Exército</td>\n",
       "      <td>HOSPITAL GERAL DE BELEM</td>\n",
       "      <td>49520521000169</td>\n",
       "      <td>INTERMED EQUIPAMENTO MEDICO HOSPITALAR LTDA</td>\n",
       "      <td>180,000.00</td>\n",
       "      <td>10,530.00</td>\n",
       "      <td>0.00</td>\n",
       "      <td>AQUIS DE MAT PERM P DIV AP TEC DO HGEBE, CONF ...</td>\n",
       "      <td>RETENCAO DA NFE 53339 DE 05/08/2020 NO VALOR D...</td>\n",
       "      <td>Dispensa de Licitação</td>\n",
       "    </tr>\n",
       "    <tr>\n",
       "      <th>54351</th>\n",
       "      <td>09/04/2020</td>\n",
       "      <td>160166000012020NE800016</td>\n",
       "      <td>182300433</td>\n",
       "      <td>Comando do Exército</td>\n",
       "      <td>HOSPITAL GERAL DE BELEM</td>\n",
       "      <td>49520521000169</td>\n",
       "      <td>INTERMED EQUIPAMENTO MEDICO HOSPITALAR LTDA</td>\n",
       "      <td>180,000.00</td>\n",
       "      <td>169,470.00</td>\n",
       "      <td>0.00</td>\n",
       "      <td>AQUIS DE MAT PERM P DIV AP TEC DO HGEBE, CONF ...</td>\n",
       "      <td>PAGAMENTO DA NFE 53339 DE 05/08/2020 NO VALOR ...</td>\n",
       "      <td>Dispensa de Licitação</td>\n",
       "    </tr>\n",
       "    <tr>\n",
       "      <th>71000</th>\n",
       "      <td>13/04/2020</td>\n",
       "      <td>250005000012020NE000104</td>\n",
       "      <td>178500504</td>\n",
       "      <td>Ministério da Saúde - Unidades com vínculo di</td>\n",
       "      <td>DEPARTAMENTO DE LOGISTICA EM SAUDE - DLOG</td>\n",
       "      <td>49520521000169</td>\n",
       "      <td>INTERMED EQUIPAMENTO MEDICO HOSPITALAR LTDA</td>\n",
       "      <td>258,000,000.00</td>\n",
       "      <td>45,630.00</td>\n",
       "      <td>0.00</td>\n",
       "      <td>ATENDER DESPESAS COM AQUISICAO DE 4.300 VENTIL...</td>\n",
       "      <td>TRIBUTOS FEDERAIS 5,85 RECEITA 6147 IN 1234/20...</td>\n",
       "      <td>Não se Aplica</td>\n",
       "    </tr>\n",
       "    <tr>\n",
       "      <th>71001</th>\n",
       "      <td>13/04/2020</td>\n",
       "      <td>250005000012020NE000104</td>\n",
       "      <td>178500504</td>\n",
       "      <td>Ministério da Saúde - Unidades com vínculo di</td>\n",
       "      <td>DEPARTAMENTO DE LOGISTICA EM SAUDE - DLOG</td>\n",
       "      <td>49520521000169</td>\n",
       "      <td>INTERMED EQUIPAMENTO MEDICO HOSPITALAR LTDA</td>\n",
       "      <td>258,000,000.00</td>\n",
       "      <td>351,000.00</td>\n",
       "      <td>0.00</td>\n",
       "      <td>ATENDER DESPESAS COM AQUISICAO DE 4.300 VENTIL...</td>\n",
       "      <td>TRIBUTOS FEDERAIS 5,85 RECEITA 6147 IN 1234/20...</td>\n",
       "      <td>Não se Aplica</td>\n",
       "    </tr>\n",
       "    <tr>\n",
       "      <th>71002</th>\n",
       "      <td>13/04/2020</td>\n",
       "      <td>250005000012020NE000104</td>\n",
       "      <td>178500504</td>\n",
       "      <td>Ministério da Saúde - Unidades com vínculo di</td>\n",
       "      <td>DEPARTAMENTO DE LOGISTICA EM SAUDE - DLOG</td>\n",
       "      <td>49520521000169</td>\n",
       "      <td>INTERMED EQUIPAMENTO MEDICO HOSPITALAR LTDA</td>\n",
       "      <td>258,000,000.00</td>\n",
       "      <td>351,000.00</td>\n",
       "      <td>0.00</td>\n",
       "      <td>ATENDER DESPESAS COM AQUISICAO DE 4.300 VENTIL...</td>\n",
       "      <td>TRIBUTOS FEDERAIS 5,85 RECEITA 6147 IN 1234/20...</td>\n",
       "      <td>Não se Aplica</td>\n",
       "    </tr>\n",
       "    <tr>\n",
       "      <th>...</th>\n",
       "      <td>...</td>\n",
       "      <td>...</td>\n",
       "      <td>...</td>\n",
       "      <td>...</td>\n",
       "      <td>...</td>\n",
       "      <td>...</td>\n",
       "      <td>...</td>\n",
       "      <td>...</td>\n",
       "      <td>...</td>\n",
       "      <td>...</td>\n",
       "      <td>...</td>\n",
       "      <td>...</td>\n",
       "      <td>...</td>\n",
       "    </tr>\n",
       "    <tr>\n",
       "      <th>71069</th>\n",
       "      <td>13/04/2020</td>\n",
       "      <td>250005000012020NE000104</td>\n",
       "      <td>178500504</td>\n",
       "      <td>Ministério da Saúde - Unidades com vínculo di</td>\n",
       "      <td>DEPARTAMENTO DE LOGISTICA EM SAUDE - DLOG</td>\n",
       "      <td>49520521000169</td>\n",
       "      <td>INTERMED EQUIPAMENTO MEDICO HOSPITALAR LTDA</td>\n",
       "      <td>258,000,000.00</td>\n",
       "      <td>2,485,560.00</td>\n",
       "      <td>0.00</td>\n",
       "      <td>ATENDER DESPESAS COM AQUISICAO DE 4.300 VENTIL...</td>\n",
       "      <td>PAGAMENTO PARA COMPRA DE 44 VENTILADORES IX5, ...</td>\n",
       "      <td>Não se Aplica</td>\n",
       "    </tr>\n",
       "    <tr>\n",
       "      <th>71070</th>\n",
       "      <td>13/04/2020</td>\n",
       "      <td>250005000012020NE000104</td>\n",
       "      <td>178500504</td>\n",
       "      <td>Ministério da Saúde - Unidades com vínculo di</td>\n",
       "      <td>DEPARTAMENTO DE LOGISTICA EM SAUDE - DLOG</td>\n",
       "      <td>49520521000169</td>\n",
       "      <td>INTERMED EQUIPAMENTO MEDICO HOSPITALAR LTDA</td>\n",
       "      <td>258,000,000.00</td>\n",
       "      <td>1,694,700.00</td>\n",
       "      <td>0.00</td>\n",
       "      <td>ATENDER DESPESAS COM AQUISICAO DE 4.300 VENTIL...</td>\n",
       "      <td>PAGAMENTO PARA COMPRA DE 30 VENTILADORES IX5, ...</td>\n",
       "      <td>Não se Aplica</td>\n",
       "    </tr>\n",
       "    <tr>\n",
       "      <th>71071</th>\n",
       "      <td>13/04/2020</td>\n",
       "      <td>250005000012020NE000104</td>\n",
       "      <td>178500504</td>\n",
       "      <td>Ministério da Saúde - Unidades com vínculo di</td>\n",
       "      <td>DEPARTAMENTO DE LOGISTICA EM SAUDE - DLOG</td>\n",
       "      <td>49520521000169</td>\n",
       "      <td>INTERMED EQUIPAMENTO MEDICO HOSPITALAR LTDA</td>\n",
       "      <td>258,000,000.00</td>\n",
       "      <td>1,694,700.00</td>\n",
       "      <td>0.00</td>\n",
       "      <td>ATENDER DESPESAS COM AQUISICAO DE 4.300 VENTIL...</td>\n",
       "      <td>PAGAMENTO PARA COMPRA DE 30 VENTILADORES IX5, ...</td>\n",
       "      <td>Não se Aplica</td>\n",
       "    </tr>\n",
       "    <tr>\n",
       "      <th>71072</th>\n",
       "      <td>13/04/2020</td>\n",
       "      <td>250005000012020NE000104</td>\n",
       "      <td>178500504</td>\n",
       "      <td>Ministério da Saúde - Unidades com vínculo di</td>\n",
       "      <td>DEPARTAMENTO DE LOGISTICA EM SAUDE - DLOG</td>\n",
       "      <td>49520521000169</td>\n",
       "      <td>INTERMED EQUIPAMENTO MEDICO HOSPITALAR LTDA</td>\n",
       "      <td>258,000,000.00</td>\n",
       "      <td>8,301,150.00</td>\n",
       "      <td>0.00</td>\n",
       "      <td>ATENDER DESPESAS COM AQUISICAO DE 4.300 VENTIL...</td>\n",
       "      <td>IN 1234/2012</td>\n",
       "      <td>Não se Aplica</td>\n",
       "    </tr>\n",
       "    <tr>\n",
       "      <th>71073</th>\n",
       "      <td>13/04/2020</td>\n",
       "      <td>250005000012020NE000104</td>\n",
       "      <td>178500504</td>\n",
       "      <td>Ministério da Saúde - Unidades com vínculo di</td>\n",
       "      <td>DEPARTAMENTO DE LOGISTICA EM SAUDE - DLOG</td>\n",
       "      <td>49520521000169</td>\n",
       "      <td>INTERMED EQUIPAMENTO MEDICO HOSPITALAR LTDA</td>\n",
       "      <td>258,000,000.00</td>\n",
       "      <td>133,598,850.00</td>\n",
       "      <td>0.00</td>\n",
       "      <td>ATENDER DESPESAS COM AQUISICAO DE 4.300 VENTIL...</td>\n",
       "      <td>PGTO PARA EMPRESA INTERMED EQUIPAMENTOS REF. A...</td>\n",
       "      <td>Não se Aplica</td>\n",
       "    </tr>\n",
       "  </tbody>\n",
       "</table>\n",
       "<p>76 rows × 13 columns</p>\n",
       "</div>"
      ],
      "text/plain": [
       "      Data Emissão_x           Código Empenho Id Empenho  \\\n",
       "54350     09/04/2020  160166000012020NE800016  182300433   \n",
       "54351     09/04/2020  160166000012020NE800016  182300433   \n",
       "71000     13/04/2020  250005000012020NE000104  178500504   \n",
       "71001     13/04/2020  250005000012020NE000104  178500504   \n",
       "71002     13/04/2020  250005000012020NE000104  178500504   \n",
       "...              ...                      ...        ...   \n",
       "71069     13/04/2020  250005000012020NE000104  178500504   \n",
       "71070     13/04/2020  250005000012020NE000104  178500504   \n",
       "71071     13/04/2020  250005000012020NE000104  178500504   \n",
       "71072     13/04/2020  250005000012020NE000104  178500504   \n",
       "71073     13/04/2020  250005000012020NE000104  178500504   \n",
       "\n",
       "                                             Órgão_x  \\\n",
       "54350                            Comando do Exército   \n",
       "54351                            Comando do Exército   \n",
       "71000  Ministério da Saúde - Unidades com vínculo di   \n",
       "71001  Ministério da Saúde - Unidades com vínculo di   \n",
       "71002  Ministério da Saúde - Unidades com vínculo di   \n",
       "...                                              ...   \n",
       "71069  Ministério da Saúde - Unidades com vínculo di   \n",
       "71070  Ministério da Saúde - Unidades com vínculo di   \n",
       "71071  Ministério da Saúde - Unidades com vínculo di   \n",
       "71072  Ministério da Saúde - Unidades com vínculo di   \n",
       "71073  Ministério da Saúde - Unidades com vínculo di   \n",
       "\n",
       "                               Unidade Gestora_x Código Favorecido_x  \\\n",
       "54350                    HOSPITAL GERAL DE BELEM      49520521000169   \n",
       "54351                    HOSPITAL GERAL DE BELEM      49520521000169   \n",
       "71000  DEPARTAMENTO DE LOGISTICA EM SAUDE - DLOG      49520521000169   \n",
       "71001  DEPARTAMENTO DE LOGISTICA EM SAUDE - DLOG      49520521000169   \n",
       "71002  DEPARTAMENTO DE LOGISTICA EM SAUDE - DLOG      49520521000169   \n",
       "...                                          ...                 ...   \n",
       "71069  DEPARTAMENTO DE LOGISTICA EM SAUDE - DLOG      49520521000169   \n",
       "71070  DEPARTAMENTO DE LOGISTICA EM SAUDE - DLOG      49520521000169   \n",
       "71071  DEPARTAMENTO DE LOGISTICA EM SAUDE - DLOG      49520521000169   \n",
       "71072  DEPARTAMENTO DE LOGISTICA EM SAUDE - DLOG      49520521000169   \n",
       "71073  DEPARTAMENTO DE LOGISTICA EM SAUDE - DLOG      49520521000169   \n",
       "\n",
       "                                      Favorecido_x  \\\n",
       "54350  INTERMED EQUIPAMENTO MEDICO HOSPITALAR LTDA   \n",
       "54351  INTERMED EQUIPAMENTO MEDICO HOSPITALAR LTDA   \n",
       "71000  INTERMED EQUIPAMENTO MEDICO HOSPITALAR LTDA   \n",
       "71001  INTERMED EQUIPAMENTO MEDICO HOSPITALAR LTDA   \n",
       "71002  INTERMED EQUIPAMENTO MEDICO HOSPITALAR LTDA   \n",
       "...                                            ...   \n",
       "71069  INTERMED EQUIPAMENTO MEDICO HOSPITALAR LTDA   \n",
       "71070  INTERMED EQUIPAMENTO MEDICO HOSPITALAR LTDA   \n",
       "71071  INTERMED EQUIPAMENTO MEDICO HOSPITALAR LTDA   \n",
       "71072  INTERMED EQUIPAMENTO MEDICO HOSPITALAR LTDA   \n",
       "71073  INTERMED EQUIPAMENTO MEDICO HOSPITALAR LTDA   \n",
       "\n",
       "       Valor do Empenho Convertido pra R$  valor_pago_em_real  \\\n",
       "54350                          180,000.00           10,530.00   \n",
       "54351                          180,000.00          169,470.00   \n",
       "71000                      258,000,000.00           45,630.00   \n",
       "71001                      258,000,000.00          351,000.00   \n",
       "71002                      258,000,000.00          351,000.00   \n",
       "...                                   ...                 ...   \n",
       "71069                      258,000,000.00        2,485,560.00   \n",
       "71070                      258,000,000.00        1,694,700.00   \n",
       "71071                      258,000,000.00        1,694,700.00   \n",
       "71072                      258,000,000.00        8,301,150.00   \n",
       "71073                      258,000,000.00      133,598,850.00   \n",
       "\n",
       "       Valor Restos a Pagar Inscritos (R$)  \\\n",
       "54350                                 0.00   \n",
       "54351                                 0.00   \n",
       "71000                                 0.00   \n",
       "71001                                 0.00   \n",
       "71002                                 0.00   \n",
       "...                                    ...   \n",
       "71069                                 0.00   \n",
       "71070                                 0.00   \n",
       "71071                                 0.00   \n",
       "71072                                 0.00   \n",
       "71073                                 0.00   \n",
       "\n",
       "                                            Observação_x  \\\n",
       "54350  AQUIS DE MAT PERM P DIV AP TEC DO HGEBE, CONF ...   \n",
       "54351  AQUIS DE MAT PERM P DIV AP TEC DO HGEBE, CONF ...   \n",
       "71000  ATENDER DESPESAS COM AQUISICAO DE 4.300 VENTIL...   \n",
       "71001  ATENDER DESPESAS COM AQUISICAO DE 4.300 VENTIL...   \n",
       "71002  ATENDER DESPESAS COM AQUISICAO DE 4.300 VENTIL...   \n",
       "...                                                  ...   \n",
       "71069  ATENDER DESPESAS COM AQUISICAO DE 4.300 VENTIL...   \n",
       "71070  ATENDER DESPESAS COM AQUISICAO DE 4.300 VENTIL...   \n",
       "71071  ATENDER DESPESAS COM AQUISICAO DE 4.300 VENTIL...   \n",
       "71072  ATENDER DESPESAS COM AQUISICAO DE 4.300 VENTIL...   \n",
       "71073  ATENDER DESPESAS COM AQUISICAO DE 4.300 VENTIL...   \n",
       "\n",
       "                                            Observação_y  \\\n",
       "54350  RETENCAO DA NFE 53339 DE 05/08/2020 NO VALOR D...   \n",
       "54351  PAGAMENTO DA NFE 53339 DE 05/08/2020 NO VALOR ...   \n",
       "71000  TRIBUTOS FEDERAIS 5,85 RECEITA 6147 IN 1234/20...   \n",
       "71001  TRIBUTOS FEDERAIS 5,85 RECEITA 6147 IN 1234/20...   \n",
       "71002  TRIBUTOS FEDERAIS 5,85 RECEITA 6147 IN 1234/20...   \n",
       "...                                                  ...   \n",
       "71069  PAGAMENTO PARA COMPRA DE 44 VENTILADORES IX5, ...   \n",
       "71070  PAGAMENTO PARA COMPRA DE 30 VENTILADORES IX5, ...   \n",
       "71071  PAGAMENTO PARA COMPRA DE 30 VENTILADORES IX5, ...   \n",
       "71072                                       IN 1234/2012   \n",
       "71073  PGTO PARA EMPRESA INTERMED EQUIPAMENTOS REF. A...   \n",
       "\n",
       "      Modalidade de Licitação  \n",
       "54350   Dispensa de Licitação  \n",
       "54351   Dispensa de Licitação  \n",
       "71000           Não se Aplica  \n",
       "71001           Não se Aplica  \n",
       "71002           Não se Aplica  \n",
       "...                       ...  \n",
       "71069           Não se Aplica  \n",
       "71070           Não se Aplica  \n",
       "71071           Não se Aplica  \n",
       "71072           Não se Aplica  \n",
       "71073           Não se Aplica  \n",
       "\n",
       "[76 rows x 13 columns]"
      ]
     },
     "execution_count": 59,
     "metadata": {},
     "output_type": "execute_result"
    }
   ],
   "source": [
    "procura[[\"Data Emissão_x\",\"Código Empenho\", \"Id Empenho\", \"Órgão_x\", \"Unidade Gestora_x\", \"Código Favorecido_x\", \"Favorecido_x\", \"Valor do Empenho Convertido pra R$\", \"valor_pago_em_real\", \"Valor Restos a Pagar Inscritos (R$)\", \"Observação_x\", \"Observação_y\",  \"Modalidade de Licitação\"]]"
   ]
  },
  {
   "cell_type": "code",
   "execution_count": null,
   "metadata": {},
   "outputs": [],
   "source": []
  },
  {
   "cell_type": "code",
   "execution_count": 60,
   "metadata": {},
   "outputs": [],
   "source": [
    "procura = pagamentos_covid19[(pagamentos_covid19['Código Favorecido_x'] == 'EX2590112') ]"
   ]
  },
  {
   "cell_type": "code",
   "execution_count": 61,
   "metadata": {},
   "outputs": [
    {
     "data": {
      "text/plain": [
       "708226249.5"
      ]
     },
     "execution_count": 61,
     "metadata": {},
     "output_type": "execute_result"
    }
   ],
   "source": [
    "procura['valor_pago_em_real'].sum()"
   ]
  },
  {
   "cell_type": "code",
   "execution_count": null,
   "metadata": {},
   "outputs": [],
   "source": []
  },
  {
   "cell_type": "code",
   "execution_count": 62,
   "metadata": {},
   "outputs": [],
   "source": [
    "# Salva um CSV para criar gráfico"
   ]
  },
  {
   "cell_type": "code",
   "execution_count": 63,
   "metadata": {},
   "outputs": [],
   "source": [
    "salva = pagamentos_covid19.groupby([\"Favorecido_x\", \"Código Favorecido_x\"]).valor_pago_em_real.sum().reset_index().sort_values(\"valor_pago_em_real\", ascending=False)"
   ]
  },
  {
   "cell_type": "code",
   "execution_count": 64,
   "metadata": {},
   "outputs": [
    {
     "name": "stdout",
     "output_type": "stream",
     "text": [
      "<class 'pandas.core.frame.DataFrame'>\n",
      "Int64Index: 8891 entries, 2614 to 2918\n",
      "Data columns (total 3 columns):\n",
      " #   Column               Non-Null Count  Dtype  \n",
      "---  ------               --------------  -----  \n",
      " 0   Favorecido_x         8891 non-null   object \n",
      " 1   Código Favorecido_x  8891 non-null   object \n",
      " 2   valor_pago_em_real   8891 non-null   float64\n",
      "dtypes: float64(1), object(2)\n",
      "memory usage: 277.8+ KB\n"
     ]
    }
   ],
   "source": [
    "salva.info()"
   ]
  },
  {
   "cell_type": "code",
   "execution_count": 65,
   "metadata": {},
   "outputs": [],
   "source": [
    "salva.to_csv('resultados/graficos/soma_ordenada_favorecidos_pagamentos_feitos_de_empenhos_covid19_ate_15_outubro_2020.csv', index=False)"
   ]
  },
  {
   "cell_type": "code",
   "execution_count": null,
   "metadata": {},
   "outputs": [],
   "source": []
  },
  {
   "cell_type": "code",
   "execution_count": null,
   "metadata": {},
   "outputs": [],
   "source": []
  },
  {
   "cell_type": "code",
   "execution_count": 67,
   "metadata": {},
   "outputs": [],
   "source": [
    "import seaborn as sns\n",
    "import matplotlib.pyplot as plt\n",
    "\n",
    "%matplotlib inline"
   ]
  },
  {
   "cell_type": "code",
   "execution_count": 68,
   "metadata": {},
   "outputs": [],
   "source": [
    "graf = pagamentos_covid19.groupby([\"Favorecido_x\", \"Código Favorecido_x\"]).valor_pago_em_real.sum().reset_index().sort_values(\"valor_pago_em_real\", ascending=False).head(15)\n",
    "graf.rename(columns = {'Favorecido_x':'instituicao_empresa_favorecida'},inplace = True)\n",
    "graf.rename(columns = {'Código Favorecido_x':'cod_favorecido'},inplace = True)"
   ]
  },
  {
   "cell_type": "code",
   "execution_count": 69,
   "metadata": {},
   "outputs": [
    {
     "name": "stdout",
     "output_type": "stream",
     "text": [
      "<class 'pandas.core.frame.DataFrame'>\n",
      "Int64Index: 15 entries, 2614 to 3459\n",
      "Data columns (total 3 columns):\n",
      " #   Column                          Non-Null Count  Dtype  \n",
      "---  ------                          --------------  -----  \n",
      " 0   instituicao_empresa_favorecida  15 non-null     object \n",
      " 1   cod_favorecido                  15 non-null     object \n",
      " 2   valor_pago_em_real              15 non-null     float64\n",
      "dtypes: float64(1), object(2)\n",
      "memory usage: 480.0+ bytes\n"
     ]
    }
   ],
   "source": [
    "graf.info()"
   ]
  },
  {
   "cell_type": "code",
   "execution_count": 70,
   "metadata": {},
   "outputs": [
    {
     "data": {
      "image/png": "[encoded data removed]",
      "text/plain": [
       "<Figure size 1440x1008 with 1 Axes>"
      ]
     },
     "metadata": {},
     "output_type": "display_data"
    }
   ],
   "source": [
    "sns.set(style=\"whitegrid\")\n",
    "\n",
    "fig_dims = (20, 14)\n",
    "fig, ax = plt.subplots(figsize=fig_dims)\n",
    "plt.xticks(rotation=45, ha='right')\n",
    "\n",
    "ax = sns.barplot(x=\"instituicao_empresa_favorecida\", y=\"valor_pago_em_real\", data=graf)"
   ]
  },
  {
   "cell_type": "code",
   "execution_count": null,
   "metadata": {},
   "outputs": [],
   "source": []
  },
  {
   "cell_type": "code",
   "execution_count": 71,
   "metadata": {},
   "outputs": [],
   "source": [
    "# Soma valores em sigilo"
   ]
  },
  {
   "cell_type": "code",
   "execution_count": 72,
   "metadata": {},
   "outputs": [],
   "source": [
    "sigilo = pagamentos_covid19[(pagamentos_covid19['Favorecido_x'] == 'Informação protegida por sigilo nos termos da legislaçã') |  \n",
    "                           (pagamentos_covid19['Código Favorecido_x'] == '-11')]"
   ]
  },
  {
   "cell_type": "code",
   "execution_count": 73,
   "metadata": {},
   "outputs": [
    {
     "data": {
      "text/plain": [
       "2349625.8"
      ]
     },
     "execution_count": 73,
     "metadata": {},
     "output_type": "execute_result"
    }
   ],
   "source": [
    "sigilo['valor_pago_em_real'].sum()"
   ]
  },
  {
   "cell_type": "code",
   "execution_count": 74,
   "metadata": {},
   "outputs": [],
   "source": [
    "# Máximo em sigilo"
   ]
  },
  {
   "cell_type": "code",
   "execution_count": 75,
   "metadata": {},
   "outputs": [
    {
     "data": {
      "text/plain": [
       "Data Emissão_x                                                                09/07/2020\n",
       "Código Empenho                                                   160062000012020NE000088\n",
       "Id Empenho                                                                     207201212\n",
       "Código Empenho Resumido                                                     2020NE000088\n",
       "Órgão_x                                                              Comando do Exército\n",
       "Unidade Gestora_x                                     CENTRO DE INTELIGENCIA DO EXERCITO\n",
       "Código Favorecido_x                                                                  -11\n",
       "Favorecido_x                           Informação protegida por sigilo nos termos da ...\n",
       "Valor do Empenho Convertido pra R$                                            400,000.00\n",
       "valor_pago_em_real                                                            400,000.00\n",
       "Valor Restos a Pagar Inscritos (R$)                                                 0.00\n",
       "Observação_x                           Informação protegida por sigilo nos termos da ...\n",
       "Observação_y                           Informação protegida por sigilo nos termos da ...\n",
       "Modalidade de Licitação                                                    Não se Aplica\n",
       "Name: 81807, dtype: object"
      ]
     },
     "execution_count": 75,
     "metadata": {},
     "output_type": "execute_result"
    }
   ],
   "source": [
    "sigilo.loc[sigilo['valor_pago_em_real'].idxmax()][[\"Data Emissão_x\",\"Código Empenho\", \"Id Empenho\", \"Código Empenho Resumido\", \"Órgão_x\", \"Unidade Gestora_x\", \"Código Favorecido_x\", \"Favorecido_x\", \"Valor do Empenho Convertido pra R$\", \"valor_pago_em_real\", \"Valor Restos a Pagar Inscritos (R$)\", \"Observação_x\", \"Observação_y\",  \"Modalidade de Licitação\"]]"
   ]
  },
  {
   "cell_type": "code",
   "execution_count": 76,
   "metadata": {},
   "outputs": [],
   "source": [
    "sigilo.to_csv('resultados/graficos/valores_pagos_em_sigilo_covid19_ate_15_outubro_2020.csv', index=False)"
   ]
  },
  {
   "cell_type": "code",
   "execution_count": null,
   "metadata": {},
   "outputs": [],
   "source": []
  },
  {
   "cell_type": "code",
   "execution_count": 77,
   "metadata": {},
   "outputs": [],
   "source": [
    "# Soma valores por autores de Emenda"
   ]
  },
  {
   "cell_type": "code",
   "execution_count": 78,
   "metadata": {},
   "outputs": [],
   "source": [
    "emendas = pagamentos_covid19[(pagamentos_covid19['Autor Emenda'] != 'SEM EMENDA')]"
   ]
  },
  {
   "cell_type": "code",
   "execution_count": 79,
   "metadata": {},
   "outputs": [
    {
     "data": {
      "text/plain": [
       "2350653088.5299997"
      ]
     },
     "execution_count": 79,
     "metadata": {},
     "output_type": "execute_result"
    }
   ],
   "source": [
    "emendas['valor_pago_em_real'].sum()"
   ]
  },
  {
   "cell_type": "code",
   "execution_count": 80,
   "metadata": {},
   "outputs": [
    {
     "data": {
      "text/html": [
       "<div>\n",
       "<style scoped>\n",
       "    .dataframe tbody tr th:only-of-type {\n",
       "        vertical-align: middle;\n",
       "    }\n",
       "\n",
       "    .dataframe tbody tr th {\n",
       "        vertical-align: top;\n",
       "    }\n",
       "\n",
       "    .dataframe thead th {\n",
       "        text-align: right;\n",
       "    }\n",
       "</style>\n",
       "<table border=\"1\" class=\"dataframe\">\n",
       "  <thead>\n",
       "    <tr style=\"text-align: right;\">\n",
       "      <th></th>\n",
       "      <th>Autor Emenda</th>\n",
       "      <th>valor_pago_em_real</th>\n",
       "    </tr>\n",
       "  </thead>\n",
       "  <tbody>\n",
       "    <tr>\n",
       "      <th>22</th>\n",
       "      <td>BANCADA DA BAHIA / EMENDA 4</td>\n",
       "      <td>192,946,250.00</td>\n",
       "    </tr>\n",
       "    <tr>\n",
       "      <th>62</th>\n",
       "      <td>BANCADA DO CEARA / EMENDA 14</td>\n",
       "      <td>181,066,340.00</td>\n",
       "    </tr>\n",
       "    <tr>\n",
       "      <th>61</th>\n",
       "      <td>BANCADA DO AMAZONAS / EMENDA 5</td>\n",
       "      <td>116,834,308.00</td>\n",
       "    </tr>\n",
       "    <tr>\n",
       "      <th>42</th>\n",
       "      <td>BANCADA DE SAO PAULO / EMENDA 1</td>\n",
       "      <td>106,662,280.00</td>\n",
       "    </tr>\n",
       "    <tr>\n",
       "      <th>30</th>\n",
       "      <td>BANCADA DE GOIAS / EMENDA 7</td>\n",
       "      <td>92,210,658.00</td>\n",
       "    </tr>\n",
       "    <tr>\n",
       "      <th>66</th>\n",
       "      <td>BANCADA DO MARANHAO / EMENDA 3</td>\n",
       "      <td>81,542,300.00</td>\n",
       "    </tr>\n",
       "    <tr>\n",
       "      <th>63</th>\n",
       "      <td>BANCADA DO DISTRITO FEDERAL / EMENDA 3</td>\n",
       "      <td>70,825,704.00</td>\n",
       "    </tr>\n",
       "    <tr>\n",
       "      <th>52</th>\n",
       "      <td>BANCADA DE SERGIPE / EMENDA 8</td>\n",
       "      <td>56,923,875.00</td>\n",
       "    </tr>\n",
       "    <tr>\n",
       "      <th>77</th>\n",
       "      <td>BANCADA DO RIO DE JANEIRO / EMENDA 2</td>\n",
       "      <td>53,215,190.00</td>\n",
       "    </tr>\n",
       "    <tr>\n",
       "      <th>73</th>\n",
       "      <td>BANCADA DO PARA / EMENDA 4</td>\n",
       "      <td>53,075,862.00</td>\n",
       "    </tr>\n",
       "    <tr>\n",
       "      <th>41</th>\n",
       "      <td>BANCADA DE RORAIMA / EMENDA 9</td>\n",
       "      <td>49,014,018.00</td>\n",
       "    </tr>\n",
       "    <tr>\n",
       "      <th>78</th>\n",
       "      <td>BANCADA DO RIO DE JANEIRO / EMENDA 9</td>\n",
       "      <td>44,482,630.00</td>\n",
       "    </tr>\n",
       "    <tr>\n",
       "      <th>70</th>\n",
       "      <td>BANCADA DO PARA / EMENDA 14</td>\n",
       "      <td>44,321,467.00</td>\n",
       "    </tr>\n",
       "    <tr>\n",
       "      <th>65</th>\n",
       "      <td>BANCADA DO MARANHAO / EMENDA 2</td>\n",
       "      <td>43,209,800.00</td>\n",
       "    </tr>\n",
       "    <tr>\n",
       "      <th>110</th>\n",
       "      <td>COMISSAO MISTA DE PLANOS, ORCAMENTOS PUBLICOS ...</td>\n",
       "      <td>40,000,000.00</td>\n",
       "    </tr>\n",
       "    <tr>\n",
       "      <th>55</th>\n",
       "      <td>BANCADA DO ACRE / EMENDA 6</td>\n",
       "      <td>38,945,770.00</td>\n",
       "    </tr>\n",
       "    <tr>\n",
       "      <th>58</th>\n",
       "      <td>BANCADA DO AMAPA / EMENDA 5</td>\n",
       "      <td>35,457,173.00</td>\n",
       "    </tr>\n",
       "    <tr>\n",
       "      <th>79</th>\n",
       "      <td>BANCADA DO RIO GRANDE DO NORTE / EMENDA 11</td>\n",
       "      <td>33,253,439.00</td>\n",
       "    </tr>\n",
       "    <tr>\n",
       "      <th>31</th>\n",
       "      <td>BANCADA DE MINAS GERAIS / EMENDA 6</td>\n",
       "      <td>32,758,748.00</td>\n",
       "    </tr>\n",
       "    <tr>\n",
       "      <th>39</th>\n",
       "      <td>BANCADA DE RONDONIA / EMENDA 4</td>\n",
       "      <td>30,991,725.00</td>\n",
       "    </tr>\n",
       "  </tbody>\n",
       "</table>\n",
       "</div>"
      ],
      "text/plain": [
       "                                          Autor Emenda  valor_pago_em_real\n",
       "22                         BANCADA DA BAHIA / EMENDA 4      192,946,250.00\n",
       "62                        BANCADA DO CEARA / EMENDA 14      181,066,340.00\n",
       "61                      BANCADA DO AMAZONAS / EMENDA 5      116,834,308.00\n",
       "42                     BANCADA DE SAO PAULO / EMENDA 1      106,662,280.00\n",
       "30                         BANCADA DE GOIAS / EMENDA 7       92,210,658.00\n",
       "66                      BANCADA DO MARANHAO / EMENDA 3       81,542,300.00\n",
       "63              BANCADA DO DISTRITO FEDERAL / EMENDA 3       70,825,704.00\n",
       "52                       BANCADA DE SERGIPE / EMENDA 8       56,923,875.00\n",
       "77                BANCADA DO RIO DE JANEIRO / EMENDA 2       53,215,190.00\n",
       "73                          BANCADA DO PARA / EMENDA 4       53,075,862.00\n",
       "41                       BANCADA DE RORAIMA / EMENDA 9       49,014,018.00\n",
       "78                BANCADA DO RIO DE JANEIRO / EMENDA 9       44,482,630.00\n",
       "70                         BANCADA DO PARA / EMENDA 14       44,321,467.00\n",
       "65                      BANCADA DO MARANHAO / EMENDA 2       43,209,800.00\n",
       "110  COMISSAO MISTA DE PLANOS, ORCAMENTOS PUBLICOS ...       40,000,000.00\n",
       "55                          BANCADA DO ACRE / EMENDA 6       38,945,770.00\n",
       "58                         BANCADA DO AMAPA / EMENDA 5       35,457,173.00\n",
       "79          BANCADA DO RIO GRANDE DO NORTE / EMENDA 11       33,253,439.00\n",
       "31                  BANCADA DE MINAS GERAIS / EMENDA 6       32,758,748.00\n",
       "39                      BANCADA DE RONDONIA / EMENDA 4       30,991,725.00"
      ]
     },
     "execution_count": 80,
     "metadata": {},
     "output_type": "execute_result"
    }
   ],
   "source": [
    "emendas.groupby([\"Autor Emenda\"]).valor_pago_em_real.sum().reset_index().sort_values(\"valor_pago_em_real\", ascending=False).head(20)"
   ]
  },
  {
   "cell_type": "code",
   "execution_count": 81,
   "metadata": {},
   "outputs": [],
   "source": [
    "# Salva em CSV para gráfico"
   ]
  },
  {
   "cell_type": "code",
   "execution_count": 82,
   "metadata": {},
   "outputs": [],
   "source": [
    "salva = emendas.groupby([\"Autor Emenda\"]).valor_pago_em_real.sum().reset_index().sort_values(\"valor_pago_em_real\", ascending=False)"
   ]
  },
  {
   "cell_type": "code",
   "execution_count": 83,
   "metadata": {},
   "outputs": [
    {
     "name": "stdout",
     "output_type": "stream",
     "text": [
      "<class 'pandas.core.frame.DataFrame'>\n",
      "Int64Index: 332 entries, 22 to 112\n",
      "Data columns (total 2 columns):\n",
      " #   Column              Non-Null Count  Dtype  \n",
      "---  ------              --------------  -----  \n",
      " 0   Autor Emenda        332 non-null    object \n",
      " 1   valor_pago_em_real  332 non-null    float64\n",
      "dtypes: float64(1), object(1)\n",
      "memory usage: 7.8+ KB\n"
     ]
    }
   ],
   "source": [
    "salva.info()"
   ]
  },
  {
   "cell_type": "code",
   "execution_count": 84,
   "metadata": {},
   "outputs": [],
   "source": [
    "salva.to_csv('resultados/graficos/soma_ordenada_emendas_pagamentos_feitos_de_empenhos_covid19_ate_15_outubro_2020.csv', index=False)"
   ]
  },
  {
   "cell_type": "code",
   "execution_count": null,
   "metadata": {},
   "outputs": [],
   "source": []
  }
 ],
 "metadata": {
  "kernelspec": {
   "display_name": "Python 3",
   "language": "python",
   "name": "python3"
  },
  "language_info": {
   "codemirror_mode": {
    "name": "ipython",
    "version": 3
   },
   "file_extension": ".py",
   "mimetype": "text/x-python",
   "name": "python",
   "nbconvert_exporter": "python",
   "pygments_lexer": "ipython3",
   "version": "3.8.5"
  }
 },
 "nbformat": 4,
 "nbformat_minor": 4
}
