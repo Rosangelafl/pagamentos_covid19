{
 "cells": [
  {
   "cell_type": "code",
   "execution_count": 1,
   "metadata": {},
   "outputs": [],
   "source": [
    "# -*- coding: utf-8\n",
    "# Reinaldo Chaves (@paidatocandeira)\n",
    "# Acessa o arquivo criado com pagamentos de empenho da covid19\n",
    "# E faz diversas estatísticas\n",
    "#"
   ]
  },
  {
   "cell_type": "code",
   "execution_count": 2,
   "metadata": {},
   "outputs": [],
   "source": [
    "import pandas as pd"
   ]
  },
  {
   "cell_type": "code",
   "execution_count": null,
   "metadata": {},
   "outputs": [],
   "source": []
  },
  {
   "cell_type": "code",
   "execution_count": 4,
   "metadata": {},
   "outputs": [],
   "source": [
    "pd.options.display.float_format = '{:,.2f}'.format"
   ]
  },
  {
   "cell_type": "code",
   "execution_count": null,
   "metadata": {},
   "outputs": [],
   "source": []
  },
  {
   "cell_type": "code",
   "execution_count": 5,
   "metadata": {},
   "outputs": [],
   "source": [
    "kwargs = {'sep': ',', 'dtype': str, 'encoding': 'utf-8'}\n",
    "pagamentos_covid19 = pd.read_csv(\"resultados/pagamentos_covid19/pagamentos_feitos_de_empenhos_covid19_ate_17_setembro_2020.csv\", **kwargs)"
   ]
  },
  {
   "cell_type": "code",
   "execution_count": 6,
   "metadata": {},
   "outputs": [],
   "source": [
    "# Carrega nomes de colunas"
   ]
  },
  {
   "cell_type": "code",
   "execution_count": 7,
   "metadata": {},
   "outputs": [
    {
     "data": {
      "text/plain": [
       "['Id Empenho',\n",
       " 'Código Empenho',\n",
       " 'Código Empenho Resumido',\n",
       " 'Data Emissão_x',\n",
       " 'Código Tipo Documento_x',\n",
       " 'Tipo Documento_x',\n",
       " 'Tipo Empenho',\n",
       " 'Espécie Empenho',\n",
       " 'Código Órgão Superior_x',\n",
       " 'Órgão Superior_x',\n",
       " 'Código Órgão_x',\n",
       " 'Órgão_x',\n",
       " 'Código Unidade Gestora_x',\n",
       " 'Unidade Gestora_x',\n",
       " 'Código Gestão_x',\n",
       " 'Gestão_x',\n",
       " 'Código Favorecido_x',\n",
       " 'Favorecido_x',\n",
       " 'Observação_x',\n",
       " 'Código Esfera Orçamentária',\n",
       " 'Esfera Orçamentária',\n",
       " 'Código Tipo Crédito',\n",
       " 'Tipo Crédito',\n",
       " 'Código Grupo Fonte Recurso',\n",
       " 'Grupo Fonte Recurso',\n",
       " 'Código Fonte Recurso',\n",
       " 'Fonte Recurso',\n",
       " 'Código Unidade Orçamentária',\n",
       " 'Unidade Orçamentária',\n",
       " 'Código Função',\n",
       " 'Função',\n",
       " 'Código SubFunção',\n",
       " 'SubFunção',\n",
       " 'Código Programa',\n",
       " 'Programa',\n",
       " 'Código Ação',\n",
       " 'Ação',\n",
       " 'Linguagem Cidadã',\n",
       " 'Código Subtítulo (Localizador)',\n",
       " 'Subtítulo (Localizador)',\n",
       " 'Código Plano Orçamentário_x',\n",
       " 'Plano Orçamentário_x',\n",
       " 'Código Programa Governo_x',\n",
       " 'Nome Programa Governo_x',\n",
       " 'Autor Emenda',\n",
       " 'Código Categoria de Despesa_x',\n",
       " 'Categoria de Despesa_x',\n",
       " 'Código Grupo de Despesa_x',\n",
       " 'Grupo de Despesa_x',\n",
       " 'Código Modalidade de Aplicação_x',\n",
       " 'Modalidade de Aplicação_x',\n",
       " 'Código Elemento de Despesa_x',\n",
       " 'Elemento de Despesa_x',\n",
       " 'Processo_x',\n",
       " 'Modalidade de Licitação',\n",
       " 'Inciso',\n",
       " 'Amparo',\n",
       " 'Referência de Dispensa ou Inexigibilidade',\n",
       " 'Código Convênio',\n",
       " 'Contrato de Repasse / Termo de Parceria / Outros',\n",
       " 'Valor Original do Empenho',\n",
       " 'Valor do Empenho Convertido pra R$',\n",
       " 'Valor Utilizado na Conversão_x',\n",
       " 'Código Pagamento',\n",
       " 'Código Natureza Despesa Completa',\n",
       " 'Subitem',\n",
       " 'Valor Pago (R$)',\n",
       " 'Valor Restos a Pagar Inscritos (R$)',\n",
       " 'Valor Restos a Pagar Cancelado (R$)',\n",
       " 'Valor Restos a Pagar Pagos (R$)',\n",
       " 'Código Pagamento Resumido',\n",
       " 'Data Emissão_y',\n",
       " 'Código Tipo Documento_y',\n",
       " 'Tipo Documento_y',\n",
       " 'Tipo OB',\n",
       " 'Extraorçamentário',\n",
       " 'Código Órgão Superior_y',\n",
       " 'Órgão Superior_y',\n",
       " 'Código Órgão_y',\n",
       " 'Órgão_y',\n",
       " 'Código Unidade Gestora_y',\n",
       " 'Unidade Gestora_y',\n",
       " 'Código Gestão_y',\n",
       " 'Gestão_y',\n",
       " 'Código Favorecido_y',\n",
       " 'Favorecido_y',\n",
       " 'Observação_y',\n",
       " 'Processo_y',\n",
       " 'Código Categoria de Despesa_y',\n",
       " 'Categoria de Despesa_y',\n",
       " 'Código Grupo de Despesa_y',\n",
       " 'Grupo de Despesa_y',\n",
       " 'Código Modalidade de Aplicação_y',\n",
       " 'Modalidade de Aplicação_y',\n",
       " 'Código Elemento de Despesa_y',\n",
       " 'Elemento de Despesa_y',\n",
       " 'Código Plano Orçamentário_y',\n",
       " 'Plano Orçamentário_y',\n",
       " 'Código Programa Governo_y',\n",
       " 'Nome Programa Governo_y',\n",
       " 'Valor Original do Pagamento',\n",
       " 'Valor do Pagamento Convertido pra R$',\n",
       " 'Valor Utilizado na Conversão_y']"
      ]
     },
     "execution_count": 7,
     "metadata": {},
     "output_type": "execute_result"
    }
   ],
   "source": [
    "list(pagamentos_covid19.columns.values.tolist())"
   ]
  },
  {
   "cell_type": "code",
   "execution_count": null,
   "metadata": {},
   "outputs": [],
   "source": []
  },
  {
   "cell_type": "code",
   "execution_count": 8,
   "metadata": {},
   "outputs": [],
   "source": [
    "# Quantidade de favorecidos nos pagamentos"
   ]
  },
  {
   "cell_type": "code",
   "execution_count": 9,
   "metadata": {},
   "outputs": [
    {
     "data": {
      "text/plain": [
       "7208"
      ]
     },
     "execution_count": 9,
     "metadata": {},
     "output_type": "execute_result"
    }
   ],
   "source": [
    "a = len(pagamentos_covid19['Favorecido_x'].value_counts())\n",
    "a"
   ]
  },
  {
   "cell_type": "code",
   "execution_count": null,
   "metadata": {},
   "outputs": [],
   "source": []
  },
  {
   "cell_type": "code",
   "execution_count": 10,
   "metadata": {},
   "outputs": [],
   "source": [
    "# Transforma em numero campos de valores"
   ]
  },
  {
   "cell_type": "code",
   "execution_count": 11,
   "metadata": {},
   "outputs": [],
   "source": [
    "pagamentos_covid19['Valor Original do Empenho'] = pagamentos_covid19['Valor Original do Empenho'].str.replace(',','.')\n",
    "pagamentos_covid19['Valor Original do Empenho'] = pagamentos_covid19['Valor Original do Empenho'].astype('float64') \n",
    "\n",
    "pagamentos_covid19['Valor do Empenho Convertido pra R$'] = pagamentos_covid19['Valor do Empenho Convertido pra R$'].str.replace(',','.')\n",
    "pagamentos_covid19['Valor do Empenho Convertido pra R$'] = pagamentos_covid19['Valor do Empenho Convertido pra R$'].astype('float64') \n",
    "\n",
    "pagamentos_covid19['Valor Utilizado na Conversão_x'] = pagamentos_covid19['Valor Utilizado na Conversão_x'].str.replace(',','.')\n",
    "pagamentos_covid19['Valor Utilizado na Conversão_x'] = pagamentos_covid19['Valor Utilizado na Conversão_x'].astype('float64') \n",
    "\n",
    "pagamentos_covid19['Valor Pago (R$)'] = pagamentos_covid19['Valor Pago (R$)'].str.replace(',','.')\n",
    "pagamentos_covid19['Valor Pago (R$)'] = pagamentos_covid19['Valor Pago (R$)'].astype('float64') \n",
    "pagamentos_covid19.rename(columns = {'Valor Pago (R$)':'valor_pago_em_real'},inplace = True)\n",
    "\n",
    "pagamentos_covid19['Valor Restos a Pagar Inscritos (R$)'] = pagamentos_covid19['Valor Restos a Pagar Inscritos (R$)'].str.replace(',','.')\n",
    "pagamentos_covid19['Valor Restos a Pagar Inscritos (R$)'] = pagamentos_covid19['Valor Restos a Pagar Inscritos (R$)'].astype('float64') \n",
    "\n",
    "pagamentos_covid19['Valor Restos a Pagar Cancelado (R$)'] = pagamentos_covid19['Valor Restos a Pagar Cancelado (R$)'].str.replace(',','.')\n",
    "pagamentos_covid19['Valor Restos a Pagar Cancelado (R$)'] = pagamentos_covid19['Valor Restos a Pagar Cancelado (R$)'].astype('float64') \n",
    "\n",
    "pagamentos_covid19['Valor Restos a Pagar Pagos (R$)'] = pagamentos_covid19['Valor Restos a Pagar Pagos (R$)'].str.replace(',','.')\n",
    "pagamentos_covid19['Valor Restos a Pagar Pagos (R$)'] = pagamentos_covid19['Valor Restos a Pagar Pagos (R$)'].astype('float64') \n",
    "\n",
    "pagamentos_covid19['Valor Original do Pagamento'] = pagamentos_covid19['Valor Original do Pagamento'].str.replace(',','.')\n",
    "pagamentos_covid19['Valor Original do Pagamento'] = pagamentos_covid19['Valor Original do Pagamento'].astype('float64') \n",
    "\n",
    "pagamentos_covid19['Valor do Pagamento Convertido pra R$'] = pagamentos_covid19['Valor do Pagamento Convertido pra R$'].str.replace(',','.')\n",
    "pagamentos_covid19['Valor do Pagamento Convertido pra R$'] = pagamentos_covid19['Valor do Pagamento Convertido pra R$'].astype('float64') \n",
    "\n",
    "pagamentos_covid19['Valor Utilizado na Conversão_y'] = pagamentos_covid19['Valor Utilizado na Conversão_y'].str.replace(',','.')\n",
    "pagamentos_covid19['Valor Utilizado na Conversão_y'] = pagamentos_covid19['Valor Utilizado na Conversão_y'].astype('float64') "
   ]
  },
  {
   "cell_type": "code",
   "execution_count": null,
   "metadata": {},
   "outputs": [],
   "source": []
  },
  {
   "cell_type": "code",
   "execution_count": 12,
   "metadata": {},
   "outputs": [
    {
     "data": {
      "text/plain": [
       "34090466884.109997"
      ]
     },
     "execution_count": 12,
     "metadata": {},
     "output_type": "execute_result"
    }
   ],
   "source": [
    "pagamentos_covid19['valor_pago_em_real'].sum()"
   ]
  },
  {
   "cell_type": "code",
   "execution_count": 13,
   "metadata": {},
   "outputs": [
    {
     "data": {
      "text/plain": [
       "137004538195.56999"
      ]
     },
     "execution_count": 13,
     "metadata": {},
     "output_type": "execute_result"
    }
   ],
   "source": [
    "pagamentos_covid19['Valor Original do Empenho'].sum()"
   ]
  },
  {
   "cell_type": "code",
   "execution_count": 14,
   "metadata": {},
   "outputs": [
    {
     "data": {
      "text/plain": [
       "136328992420.18001"
      ]
     },
     "execution_count": 14,
     "metadata": {},
     "output_type": "execute_result"
    }
   ],
   "source": [
    "pagamentos_covid19['Valor do Empenho Convertido pra R$'].sum()"
   ]
  },
  {
   "cell_type": "code",
   "execution_count": null,
   "metadata": {},
   "outputs": [],
   "source": []
  },
  {
   "cell_type": "code",
   "execution_count": 15,
   "metadata": {},
   "outputs": [],
   "source": [
    "# Média de valores pagos"
   ]
  },
  {
   "cell_type": "code",
   "execution_count": 16,
   "metadata": {},
   "outputs": [
    {
     "data": {
      "text/plain": [
       "469701.52363782906"
      ]
     },
     "execution_count": 16,
     "metadata": {},
     "output_type": "execute_result"
    }
   ],
   "source": [
    "pagamentos_covid19['valor_pago_em_real'].mean()"
   ]
  },
  {
   "cell_type": "code",
   "execution_count": 17,
   "metadata": {},
   "outputs": [],
   "source": [
    "# Mediana de valores pagos"
   ]
  },
  {
   "cell_type": "code",
   "execution_count": 18,
   "metadata": {},
   "outputs": [
    {
     "data": {
      "text/plain": [
       "13887.12"
      ]
     },
     "execution_count": 18,
     "metadata": {},
     "output_type": "execute_result"
    }
   ],
   "source": [
    "pagamentos_covid19['valor_pago_em_real'].median()"
   ]
  },
  {
   "cell_type": "code",
   "execution_count": 19,
   "metadata": {},
   "outputs": [],
   "source": [
    "# Moda de valores pagos"
   ]
  },
  {
   "cell_type": "code",
   "execution_count": 20,
   "metadata": {},
   "outputs": [
    {
     "data": {
      "text/plain": [
       "0   100,000.00\n",
       "dtype: float64"
      ]
     },
     "execution_count": 20,
     "metadata": {},
     "output_type": "execute_result"
    }
   ],
   "source": [
    "pagamentos_covid19['valor_pago_em_real'].mode()"
   ]
  },
  {
   "cell_type": "code",
   "execution_count": 21,
   "metadata": {},
   "outputs": [],
   "source": [
    "procura = pagamentos_covid19[(pagamentos_covid19['valor_pago_em_real'] == 100000)]"
   ]
  },
  {
   "cell_type": "code",
   "execution_count": 22,
   "metadata": {},
   "outputs": [
    {
     "data": {
      "text/plain": [
       "(3487, 103)"
      ]
     },
     "execution_count": 22,
     "metadata": {},
     "output_type": "execute_result"
    }
   ],
   "source": [
    "procura.shape"
   ]
  },
  {
   "cell_type": "code",
   "execution_count": 23,
   "metadata": {},
   "outputs": [
    {
     "data": {
      "text/html": [
       "<div>\n",
       "<style scoped>\n",
       "    .dataframe tbody tr th:only-of-type {\n",
       "        vertical-align: middle;\n",
       "    }\n",
       "\n",
       "    .dataframe tbody tr th {\n",
       "        vertical-align: top;\n",
       "    }\n",
       "\n",
       "    .dataframe thead th {\n",
       "        text-align: right;\n",
       "    }\n",
       "</style>\n",
       "<table border=\"1\" class=\"dataframe\">\n",
       "  <thead>\n",
       "    <tr style=\"text-align: right;\">\n",
       "      <th></th>\n",
       "      <th>Data Emissão_x</th>\n",
       "      <th>Código Empenho</th>\n",
       "      <th>Id Empenho</th>\n",
       "      <th>Órgão_x</th>\n",
       "      <th>Unidade Gestora_x</th>\n",
       "      <th>Código Favorecido_x</th>\n",
       "      <th>Favorecido_x</th>\n",
       "      <th>Valor do Empenho Convertido pra R$</th>\n",
       "      <th>valor_pago_em_real</th>\n",
       "      <th>Valor Restos a Pagar Inscritos (R$)</th>\n",
       "      <th>Observação_x</th>\n",
       "      <th>Observação_y</th>\n",
       "      <th>Modalidade de Licitação</th>\n",
       "    </tr>\n",
       "  </thead>\n",
       "  <tbody>\n",
       "    <tr>\n",
       "      <th>947</th>\n",
       "      <td>28/07/2020</td>\n",
       "      <td>257001000012020NE848249</td>\n",
       "      <td>239600258</td>\n",
       "      <td>Ministério da Saúde - Unidades com vínculo di</td>\n",
       "      <td>DIRETORIA EXECUTIVA DO FUNDO NAC. DE SAUDE</td>\n",
       "      <td>257001</td>\n",
       "      <td>DIRETORIA EXECUTIVA DO FUNDO NAC. DE SAUDE</td>\n",
       "      <td>100,000.00</td>\n",
       "      <td>100,000.00</td>\n",
       "      <td>0.00</td>\n",
       "      <td>PARA ATENDER PORTARIA NRO 1666 DE 01/07/2020 -...</td>\n",
       "      <td>PAGAMENTO DE 65702-CORONAVIRUS (COVID-19) PARC...</td>\n",
       "      <td>Não se Aplica</td>\n",
       "    </tr>\n",
       "    <tr>\n",
       "      <th>948</th>\n",
       "      <td>28/07/2020</td>\n",
       "      <td>257001000012020NE848240</td>\n",
       "      <td>230500228</td>\n",
       "      <td>Ministério da Saúde - Unidades com vínculo di</td>\n",
       "      <td>DIRETORIA EXECUTIVA DO FUNDO NAC. DE SAUDE</td>\n",
       "      <td>257001</td>\n",
       "      <td>DIRETORIA EXECUTIVA DO FUNDO NAC. DE SAUDE</td>\n",
       "      <td>100,000.00</td>\n",
       "      <td>100,000.00</td>\n",
       "      <td>0.00</td>\n",
       "      <td>PARA ATENDER PORTARIA NRO 1666 DE 01/07/2020 -...</td>\n",
       "      <td>PAGAMENTO DE 65702-CORONAVIRUS (COVID-19) PARC...</td>\n",
       "      <td>Não se Aplica</td>\n",
       "    </tr>\n",
       "    <tr>\n",
       "      <th>953</th>\n",
       "      <td>28/07/2020</td>\n",
       "      <td>257001000012020NE848248</td>\n",
       "      <td>234100250</td>\n",
       "      <td>Ministério da Saúde - Unidades com vínculo di</td>\n",
       "      <td>DIRETORIA EXECUTIVA DO FUNDO NAC. DE SAUDE</td>\n",
       "      <td>257001</td>\n",
       "      <td>DIRETORIA EXECUTIVA DO FUNDO NAC. DE SAUDE</td>\n",
       "      <td>100,000.00</td>\n",
       "      <td>100,000.00</td>\n",
       "      <td>0.00</td>\n",
       "      <td>PARA ATENDER PORTARIA NRO 1666 DE 01/07/2020 -...</td>\n",
       "      <td>PAGAMENTO DE 65702-CORONAVIRUS (COVID-19) PARC...</td>\n",
       "      <td>Não se Aplica</td>\n",
       "    </tr>\n",
       "    <tr>\n",
       "      <th>957</th>\n",
       "      <td>28/07/2020</td>\n",
       "      <td>257001000012020NE848239</td>\n",
       "      <td>235900250</td>\n",
       "      <td>Ministério da Saúde - Unidades com vínculo di</td>\n",
       "      <td>DIRETORIA EXECUTIVA DO FUNDO NAC. DE SAUDE</td>\n",
       "      <td>257001</td>\n",
       "      <td>DIRETORIA EXECUTIVA DO FUNDO NAC. DE SAUDE</td>\n",
       "      <td>100,000.00</td>\n",
       "      <td>100,000.00</td>\n",
       "      <td>0.00</td>\n",
       "      <td>PARA ATENDER PORTARIA NRO 1666 DE 01/07/2020 -...</td>\n",
       "      <td>PAGAMENTO DE 65702-CORONAVIRUS (COVID-19) PARC...</td>\n",
       "      <td>Não se Aplica</td>\n",
       "    </tr>\n",
       "    <tr>\n",
       "      <th>983</th>\n",
       "      <td>28/07/2020</td>\n",
       "      <td>257001000012020NE848254</td>\n",
       "      <td>234700239</td>\n",
       "      <td>Ministério da Saúde - Unidades com vínculo di</td>\n",
       "      <td>DIRETORIA EXECUTIVA DO FUNDO NAC. DE SAUDE</td>\n",
       "      <td>257001</td>\n",
       "      <td>DIRETORIA EXECUTIVA DO FUNDO NAC. DE SAUDE</td>\n",
       "      <td>100,000.00</td>\n",
       "      <td>100,000.00</td>\n",
       "      <td>0.00</td>\n",
       "      <td>PARA ATENDER PORTARIA NRO 1666 DE 01/07/2020 -...</td>\n",
       "      <td>PAGAMENTO DE 65702-CORONAVIRUS (COVID-19) PARC...</td>\n",
       "      <td>Não se Aplica</td>\n",
       "    </tr>\n",
       "    <tr>\n",
       "      <th>986</th>\n",
       "      <td>28/07/2020</td>\n",
       "      <td>257001000012020NE848263</td>\n",
       "      <td>243400304</td>\n",
       "      <td>Ministério da Saúde - Unidades com vínculo di</td>\n",
       "      <td>DIRETORIA EXECUTIVA DO FUNDO NAC. DE SAUDE</td>\n",
       "      <td>257001</td>\n",
       "      <td>DIRETORIA EXECUTIVA DO FUNDO NAC. DE SAUDE</td>\n",
       "      <td>100,000.00</td>\n",
       "      <td>100,000.00</td>\n",
       "      <td>0.00</td>\n",
       "      <td>PARA ATENDER PORTARIA NRO 1666 DE 01/07/2020 -...</td>\n",
       "      <td>PAGAMENTO DE 65702-CORONAVIRUS (COVID-19) PARC...</td>\n",
       "      <td>Não se Aplica</td>\n",
       "    </tr>\n",
       "    <tr>\n",
       "      <th>987</th>\n",
       "      <td>28/07/2020</td>\n",
       "      <td>257001000012020NE848253</td>\n",
       "      <td>235500252</td>\n",
       "      <td>Ministério da Saúde - Unidades com vínculo di</td>\n",
       "      <td>DIRETORIA EXECUTIVA DO FUNDO NAC. DE SAUDE</td>\n",
       "      <td>257001</td>\n",
       "      <td>DIRETORIA EXECUTIVA DO FUNDO NAC. DE SAUDE</td>\n",
       "      <td>100,000.00</td>\n",
       "      <td>100,000.00</td>\n",
       "      <td>0.00</td>\n",
       "      <td>PARA ATENDER PORTARIA NRO 1666 DE 01/07/2020 -...</td>\n",
       "      <td>PAGAMENTO DE 65702-CORONAVIRUS (COVID-19) PARC...</td>\n",
       "      <td>Não se Aplica</td>\n",
       "    </tr>\n",
       "    <tr>\n",
       "      <th>991</th>\n",
       "      <td>28/07/2020</td>\n",
       "      <td>257001000012020NE848255</td>\n",
       "      <td>243000230</td>\n",
       "      <td>Ministério da Saúde - Unidades com vínculo di</td>\n",
       "      <td>DIRETORIA EXECUTIVA DO FUNDO NAC. DE SAUDE</td>\n",
       "      <td>257001</td>\n",
       "      <td>DIRETORIA EXECUTIVA DO FUNDO NAC. DE SAUDE</td>\n",
       "      <td>100,000.00</td>\n",
       "      <td>100,000.00</td>\n",
       "      <td>0.00</td>\n",
       "      <td>PARA ATENDER PORTARIA NRO 1666 DE 01/07/2020 -...</td>\n",
       "      <td>PAGAMENTO DE 65702-CORONAVIRUS (COVID-19) PARC...</td>\n",
       "      <td>Não se Aplica</td>\n",
       "    </tr>\n",
       "    <tr>\n",
       "      <th>992</th>\n",
       "      <td>28/07/2020</td>\n",
       "      <td>257001000012020NE848268</td>\n",
       "      <td>238900253</td>\n",
       "      <td>Ministério da Saúde - Unidades com vínculo di</td>\n",
       "      <td>DIRETORIA EXECUTIVA DO FUNDO NAC. DE SAUDE</td>\n",
       "      <td>257001</td>\n",
       "      <td>DIRETORIA EXECUTIVA DO FUNDO NAC. DE SAUDE</td>\n",
       "      <td>100,000.00</td>\n",
       "      <td>100,000.00</td>\n",
       "      <td>0.00</td>\n",
       "      <td>PARA ATENDER PORTARIA NRO 1666 DE 01/07/2020 -...</td>\n",
       "      <td>PAGAMENTO DE 65702-CORONAVIRUS (COVID-19) PARC...</td>\n",
       "      <td>Não se Aplica</td>\n",
       "    </tr>\n",
       "    <tr>\n",
       "      <th>993</th>\n",
       "      <td>28/07/2020</td>\n",
       "      <td>257001000012020NE848265</td>\n",
       "      <td>234800265</td>\n",
       "      <td>Ministério da Saúde - Unidades com vínculo di</td>\n",
       "      <td>DIRETORIA EXECUTIVA DO FUNDO NAC. DE SAUDE</td>\n",
       "      <td>257001</td>\n",
       "      <td>DIRETORIA EXECUTIVA DO FUNDO NAC. DE SAUDE</td>\n",
       "      <td>100,000.00</td>\n",
       "      <td>100,000.00</td>\n",
       "      <td>0.00</td>\n",
       "      <td>PARA ATENDER PORTARIA NRO 1666 DE 01/07/2020 -...</td>\n",
       "      <td>PAGAMENTO DE 65702-CORONAVIRUS (COVID-19) PARC...</td>\n",
       "      <td>Não se Aplica</td>\n",
       "    </tr>\n",
       "  </tbody>\n",
       "</table>\n",
       "</div>"
      ],
      "text/plain": [
       "    Data Emissão_x           Código Empenho Id Empenho  \\\n",
       "947     28/07/2020  257001000012020NE848249  239600258   \n",
       "948     28/07/2020  257001000012020NE848240  230500228   \n",
       "953     28/07/2020  257001000012020NE848248  234100250   \n",
       "957     28/07/2020  257001000012020NE848239  235900250   \n",
       "983     28/07/2020  257001000012020NE848254  234700239   \n",
       "986     28/07/2020  257001000012020NE848263  243400304   \n",
       "987     28/07/2020  257001000012020NE848253  235500252   \n",
       "991     28/07/2020  257001000012020NE848255  243000230   \n",
       "992     28/07/2020  257001000012020NE848268  238900253   \n",
       "993     28/07/2020  257001000012020NE848265  234800265   \n",
       "\n",
       "                                           Órgão_x  \\\n",
       "947  Ministério da Saúde - Unidades com vínculo di   \n",
       "948  Ministério da Saúde - Unidades com vínculo di   \n",
       "953  Ministério da Saúde - Unidades com vínculo di   \n",
       "957  Ministério da Saúde - Unidades com vínculo di   \n",
       "983  Ministério da Saúde - Unidades com vínculo di   \n",
       "986  Ministério da Saúde - Unidades com vínculo di   \n",
       "987  Ministério da Saúde - Unidades com vínculo di   \n",
       "991  Ministério da Saúde - Unidades com vínculo di   \n",
       "992  Ministério da Saúde - Unidades com vínculo di   \n",
       "993  Ministério da Saúde - Unidades com vínculo di   \n",
       "\n",
       "                              Unidade Gestora_x Código Favorecido_x  \\\n",
       "947  DIRETORIA EXECUTIVA DO FUNDO NAC. DE SAUDE              257001   \n",
       "948  DIRETORIA EXECUTIVA DO FUNDO NAC. DE SAUDE              257001   \n",
       "953  DIRETORIA EXECUTIVA DO FUNDO NAC. DE SAUDE              257001   \n",
       "957  DIRETORIA EXECUTIVA DO FUNDO NAC. DE SAUDE              257001   \n",
       "983  DIRETORIA EXECUTIVA DO FUNDO NAC. DE SAUDE              257001   \n",
       "986  DIRETORIA EXECUTIVA DO FUNDO NAC. DE SAUDE              257001   \n",
       "987  DIRETORIA EXECUTIVA DO FUNDO NAC. DE SAUDE              257001   \n",
       "991  DIRETORIA EXECUTIVA DO FUNDO NAC. DE SAUDE              257001   \n",
       "992  DIRETORIA EXECUTIVA DO FUNDO NAC. DE SAUDE              257001   \n",
       "993  DIRETORIA EXECUTIVA DO FUNDO NAC. DE SAUDE              257001   \n",
       "\n",
       "                                   Favorecido_x  \\\n",
       "947  DIRETORIA EXECUTIVA DO FUNDO NAC. DE SAUDE   \n",
       "948  DIRETORIA EXECUTIVA DO FUNDO NAC. DE SAUDE   \n",
       "953  DIRETORIA EXECUTIVA DO FUNDO NAC. DE SAUDE   \n",
       "957  DIRETORIA EXECUTIVA DO FUNDO NAC. DE SAUDE   \n",
       "983  DIRETORIA EXECUTIVA DO FUNDO NAC. DE SAUDE   \n",
       "986  DIRETORIA EXECUTIVA DO FUNDO NAC. DE SAUDE   \n",
       "987  DIRETORIA EXECUTIVA DO FUNDO NAC. DE SAUDE   \n",
       "991  DIRETORIA EXECUTIVA DO FUNDO NAC. DE SAUDE   \n",
       "992  DIRETORIA EXECUTIVA DO FUNDO NAC. DE SAUDE   \n",
       "993  DIRETORIA EXECUTIVA DO FUNDO NAC. DE SAUDE   \n",
       "\n",
       "     Valor do Empenho Convertido pra R$  valor_pago_em_real  \\\n",
       "947                          100,000.00          100,000.00   \n",
       "948                          100,000.00          100,000.00   \n",
       "953                          100,000.00          100,000.00   \n",
       "957                          100,000.00          100,000.00   \n",
       "983                          100,000.00          100,000.00   \n",
       "986                          100,000.00          100,000.00   \n",
       "987                          100,000.00          100,000.00   \n",
       "991                          100,000.00          100,000.00   \n",
       "992                          100,000.00          100,000.00   \n",
       "993                          100,000.00          100,000.00   \n",
       "\n",
       "     Valor Restos a Pagar Inscritos (R$)  \\\n",
       "947                                 0.00   \n",
       "948                                 0.00   \n",
       "953                                 0.00   \n",
       "957                                 0.00   \n",
       "983                                 0.00   \n",
       "986                                 0.00   \n",
       "987                                 0.00   \n",
       "991                                 0.00   \n",
       "992                                 0.00   \n",
       "993                                 0.00   \n",
       "\n",
       "                                          Observação_x  \\\n",
       "947  PARA ATENDER PORTARIA NRO 1666 DE 01/07/2020 -...   \n",
       "948  PARA ATENDER PORTARIA NRO 1666 DE 01/07/2020 -...   \n",
       "953  PARA ATENDER PORTARIA NRO 1666 DE 01/07/2020 -...   \n",
       "957  PARA ATENDER PORTARIA NRO 1666 DE 01/07/2020 -...   \n",
       "983  PARA ATENDER PORTARIA NRO 1666 DE 01/07/2020 -...   \n",
       "986  PARA ATENDER PORTARIA NRO 1666 DE 01/07/2020 -...   \n",
       "987  PARA ATENDER PORTARIA NRO 1666 DE 01/07/2020 -...   \n",
       "991  PARA ATENDER PORTARIA NRO 1666 DE 01/07/2020 -...   \n",
       "992  PARA ATENDER PORTARIA NRO 1666 DE 01/07/2020 -...   \n",
       "993  PARA ATENDER PORTARIA NRO 1666 DE 01/07/2020 -...   \n",
       "\n",
       "                                          Observação_y Modalidade de Licitação  \n",
       "947  PAGAMENTO DE 65702-CORONAVIRUS (COVID-19) PARC...           Não se Aplica  \n",
       "948  PAGAMENTO DE 65702-CORONAVIRUS (COVID-19) PARC...           Não se Aplica  \n",
       "953  PAGAMENTO DE 65702-CORONAVIRUS (COVID-19) PARC...           Não se Aplica  \n",
       "957  PAGAMENTO DE 65702-CORONAVIRUS (COVID-19) PARC...           Não se Aplica  \n",
       "983  PAGAMENTO DE 65702-CORONAVIRUS (COVID-19) PARC...           Não se Aplica  \n",
       "986  PAGAMENTO DE 65702-CORONAVIRUS (COVID-19) PARC...           Não se Aplica  \n",
       "987  PAGAMENTO DE 65702-CORONAVIRUS (COVID-19) PARC...           Não se Aplica  \n",
       "991  PAGAMENTO DE 65702-CORONAVIRUS (COVID-19) PARC...           Não se Aplica  \n",
       "992  PAGAMENTO DE 65702-CORONAVIRUS (COVID-19) PARC...           Não se Aplica  \n",
       "993  PAGAMENTO DE 65702-CORONAVIRUS (COVID-19) PARC...           Não se Aplica  "
      ]
     },
     "execution_count": 23,
     "metadata": {},
     "output_type": "execute_result"
    }
   ],
   "source": [
    "procura[[\"Data Emissão_x\",\"Código Empenho\", \"Id Empenho\", \"Órgão_x\", \"Unidade Gestora_x\", \"Código Favorecido_x\", \"Favorecido_x\", \"Valor do Empenho Convertido pra R$\", \"valor_pago_em_real\", \"Valor Restos a Pagar Inscritos (R$)\", \"Observação_x\", \"Observação_y\",  \"Modalidade de Licitação\"]].head(10)"
   ]
  },
  {
   "cell_type": "code",
   "execution_count": null,
   "metadata": {},
   "outputs": [],
   "source": []
  },
  {
   "cell_type": "code",
   "execution_count": null,
   "metadata": {},
   "outputs": [],
   "source": []
  },
  {
   "cell_type": "code",
   "execution_count": 24,
   "metadata": {},
   "outputs": [],
   "source": [
    "# Maior valor originalmente empenhado"
   ]
  },
  {
   "cell_type": "code",
   "execution_count": 25,
   "metadata": {},
   "outputs": [
    {
     "data": {
      "text/plain": [
       "1353600005.0"
      ]
     },
     "execution_count": 25,
     "metadata": {},
     "output_type": "execute_result"
    }
   ],
   "source": [
    "pagamentos_covid19['Valor do Empenho Convertido pra R$'].max()"
   ]
  },
  {
   "cell_type": "code",
   "execution_count": 26,
   "metadata": {},
   "outputs": [
    {
     "data": {
      "text/plain": [
       "Data Emissão_x                                                                15/09/2020\n",
       "Código Empenho                                                   254445252012020NE803058\n",
       "Id Empenho                                                                     254300072\n",
       "Órgão_x                                                            Fundação Oswaldo Cruz\n",
       "Unidade Gestora_x                             INSTITUTO DE TECNOLOGIA EM IMUNOBIOLOGICOS\n",
       "Código Favorecido_x                                                            EX2544480\n",
       "Favorecido_x                                                      ASTRAZENECA UK LIMITED\n",
       "Valor do Empenho Convertido pra R$                                      1,353,600,005.00\n",
       "valor_pago_em_real                                                        175,782,211.76\n",
       "Valor Restos a Pagar Inscritos (R$)                                                 0.00\n",
       "Observação_x                           IMPORTACAO DE SERVICOS DE PESQUISA, DESENVOLVI...\n",
       "Observação_y                           LIQUIDACAO REF. A CONTRATACAO DE SERVICO DE PE...\n",
       "Modalidade de Licitação                                            Dispensa de Licitação\n",
       "Name: 64038, dtype: object"
      ]
     },
     "execution_count": 26,
     "metadata": {},
     "output_type": "execute_result"
    }
   ],
   "source": [
    "pagamentos_covid19.loc[pagamentos_covid19['Valor do Empenho Convertido pra R$'].idxmax()][[\"Data Emissão_x\", \"Código Empenho\", \"Id Empenho\", \"Órgão_x\", \"Unidade Gestora_x\", \"Código Favorecido_x\", \"Favorecido_x\", \"Valor do Empenho Convertido pra R$\", \"valor_pago_em_real\", \"Valor Restos a Pagar Inscritos (R$)\", \"Observação_x\", \"Observação_y\", \"Modalidade de Licitação\"]]"
   ]
  },
  {
   "cell_type": "code",
   "execution_count": null,
   "metadata": {},
   "outputs": [],
   "source": []
  },
  {
   "cell_type": "code",
   "execution_count": 27,
   "metadata": {},
   "outputs": [],
   "source": [
    "# Menor valor originalmente empenhado"
   ]
  },
  {
   "cell_type": "code",
   "execution_count": 28,
   "metadata": {},
   "outputs": [
    {
     "data": {
      "text/plain": [
       "1.0"
      ]
     },
     "execution_count": 28,
     "metadata": {},
     "output_type": "execute_result"
    }
   ],
   "source": [
    "pagamentos_covid19['Valor do Empenho Convertido pra R$'].min()"
   ]
  },
  {
   "cell_type": "code",
   "execution_count": 29,
   "metadata": {},
   "outputs": [
    {
     "data": {
      "text/plain": [
       "Data Emissão_x                                                                27/05/2020\n",
       "Código Empenho                                                   155001152752020NE523972\n",
       "Id Empenho                                                                     180602675\n",
       "Órgão_x                                             Hospital de Clínicas de Porto Alegre\n",
       "Unidade Gestora_x                                   HOSPITAL DE CLINICAS DE PORTO ALEGRE\n",
       "Código Favorecido_x                                                       06356085000121\n",
       "Favorecido_x                            TECSS - TECNOLOGIA A SERVICO DA SAUDE LTDA - EPP\n",
       "Valor do Empenho Convertido pra R$                                                  1.00\n",
       "valor_pago_em_real                                                                112.29\n",
       "Valor Restos a Pagar Inscritos (R$)                                                 0.00\n",
       "Observação_x                                                  MATERIAL MEDICO HOSPITALAR\n",
       "Observação_y                           (DARF): RETENCAO DE TRIBUTOS, CONFORME IN NRO ...\n",
       "Modalidade de Licitação                                            Dispensa de Licitação\n",
       "Name: 7399, dtype: object"
      ]
     },
     "execution_count": 29,
     "metadata": {},
     "output_type": "execute_result"
    }
   ],
   "source": [
    "pagamentos_covid19.loc[pagamentos_covid19['Valor do Empenho Convertido pra R$'].idxmin()][[\"Data Emissão_x\",\"Código Empenho\", \"Id Empenho\", \"Órgão_x\", \"Unidade Gestora_x\", \"Código Favorecido_x\", \"Favorecido_x\", \"Valor do Empenho Convertido pra R$\", \"valor_pago_em_real\", \"Valor Restos a Pagar Inscritos (R$)\", \"Observação_x\", \"Observação_y\", \"Modalidade de Licitação\"]]"
   ]
  },
  {
   "cell_type": "code",
   "execution_count": null,
   "metadata": {},
   "outputs": [],
   "source": []
  },
  {
   "cell_type": "code",
   "execution_count": 30,
   "metadata": {},
   "outputs": [],
   "source": [
    "# Maior valor pago em real "
   ]
  },
  {
   "cell_type": "code",
   "execution_count": 31,
   "metadata": {},
   "outputs": [
    {
     "data": {
      "text/plain": [
       "991512000.0"
      ]
     },
     "execution_count": 31,
     "metadata": {},
     "output_type": "execute_result"
    }
   ],
   "source": [
    "pagamentos_covid19['valor_pago_em_real'].max()"
   ]
  },
  {
   "cell_type": "code",
   "execution_count": 32,
   "metadata": {},
   "outputs": [
    {
     "data": {
      "text/plain": [
       "Data Emissão_x                                                                15/09/2020\n",
       "Código Empenho                                                   254445252012020NE803058\n",
       "Id Empenho                                                                     254300072\n",
       "Órgão_x                                                            Fundação Oswaldo Cruz\n",
       "Unidade Gestora_x                             INSTITUTO DE TECNOLOGIA EM IMUNOBIOLOGICOS\n",
       "Código Favorecido_x                                                            EX2544480\n",
       "Favorecido_x                                                      ASTRAZENECA UK LIMITED\n",
       "Valor do Empenho Convertido pra R$                                      1,353,600,005.00\n",
       "valor_pago_em_real                                                        991,512,000.00\n",
       "Valor Restos a Pagar Inscritos (R$)                                                 0.00\n",
       "Observação_x                           IMPORTACAO DE SERVICOS DE PESQUISA, DESENVOLVI...\n",
       "Observação_y                           LIQUIDACAO REF. A CONTRATACAO DE SERVICO DE PE...\n",
       "Modalidade de Licitação                                            Dispensa de Licitação\n",
       "Name: 64040, dtype: object"
      ]
     },
     "execution_count": 32,
     "metadata": {},
     "output_type": "execute_result"
    }
   ],
   "source": [
    "pagamentos_covid19.loc[pagamentos_covid19['valor_pago_em_real'].idxmax()][[\"Data Emissão_x\",\"Código Empenho\", \"Id Empenho\", \"Órgão_x\", \"Unidade Gestora_x\", \"Código Favorecido_x\", \"Favorecido_x\", \"Valor do Empenho Convertido pra R$\", \"valor_pago_em_real\", \"Valor Restos a Pagar Inscritos (R$)\", \"Observação_x\", \"Observação_y\",  \"Modalidade de Licitação\"]]"
   ]
  },
  {
   "cell_type": "code",
   "execution_count": null,
   "metadata": {},
   "outputs": [],
   "source": []
  },
  {
   "cell_type": "code",
   "execution_count": 33,
   "metadata": {},
   "outputs": [],
   "source": [
    "# Menor valor pago em real "
   ]
  },
  {
   "cell_type": "code",
   "execution_count": 34,
   "metadata": {},
   "outputs": [
    {
     "data": {
      "text/plain": [
       "-15725875.29"
      ]
     },
     "execution_count": 34,
     "metadata": {},
     "output_type": "execute_result"
    }
   ],
   "source": [
    "pagamentos_covid19['valor_pago_em_real'].min()"
   ]
  },
  {
   "cell_type": "code",
   "execution_count": 35,
   "metadata": {},
   "outputs": [
    {
     "data": {
      "text/plain": [
       "Data Emissão_x                                                                28/07/2020\n",
       "Código Empenho                                                   250006000012020NE000285\n",
       "Id Empenho                                                                     233300270\n",
       "Órgão_x                                    Ministério da Saúde - Unidades com vínculo di\n",
       "Unidade Gestora_x                                 COORDENACAO-GERAL DE GESTAO DE PESSOAS\n",
       "Código Favorecido_x                                                               250006\n",
       "Favorecido_x                                      COORDENACAO-GERAL DE GESTAO DE PESSOAS\n",
       "Valor do Empenho Convertido pra R$                                         64,585,000.00\n",
       "valor_pago_em_real                                                        -15,725,875.29\n",
       "Valor Restos a Pagar Inscritos (R$)                                                 0.00\n",
       "Observação_x                           ATENDER DESPESAS COM PAGAMENTO DE BOLSAS DO PR...\n",
       "Observação_y                           TROCA DE EMPENHO CONFORME E-MAIL DA SPO DE 17/...\n",
       "Modalidade de Licitação                                                    Não se Aplica\n",
       "Name: 1012, dtype: object"
      ]
     },
     "execution_count": 35,
     "metadata": {},
     "output_type": "execute_result"
    }
   ],
   "source": [
    "pagamentos_covid19.loc[pagamentos_covid19['valor_pago_em_real'].idxmin()][[\"Data Emissão_x\",\"Código Empenho\", \"Id Empenho\", \"Órgão_x\", \"Unidade Gestora_x\", \"Código Favorecido_x\", \"Favorecido_x\", \"Valor do Empenho Convertido pra R$\", \"valor_pago_em_real\", \"Valor Restos a Pagar Inscritos (R$)\", \"Observação_x\", \"Observação_y\",  \"Modalidade de Licitação\"]]"
   ]
  },
  {
   "cell_type": "code",
   "execution_count": null,
   "metadata": {},
   "outputs": [],
   "source": []
  },
  {
   "cell_type": "code",
   "execution_count": 36,
   "metadata": {},
   "outputs": [],
   "source": [
    "# Agrupa a soma de valores pagos em Código Empenho+Id Empenho "
   ]
  },
  {
   "cell_type": "code",
   "execution_count": 37,
   "metadata": {},
   "outputs": [
    {
     "data": {
      "text/html": [
       "<div>\n",
       "<style scoped>\n",
       "    .dataframe tbody tr th:only-of-type {\n",
       "        vertical-align: middle;\n",
       "    }\n",
       "\n",
       "    .dataframe tbody tr th {\n",
       "        vertical-align: top;\n",
       "    }\n",
       "\n",
       "    .dataframe thead th {\n",
       "        text-align: right;\n",
       "    }\n",
       "</style>\n",
       "<table border=\"1\" class=\"dataframe\">\n",
       "  <thead>\n",
       "    <tr style=\"text-align: right;\">\n",
       "      <th></th>\n",
       "      <th>Código Empenho</th>\n",
       "      <th>Id Empenho</th>\n",
       "      <th>valor_pago_em_real</th>\n",
       "    </tr>\n",
       "  </thead>\n",
       "  <tbody>\n",
       "    <tr>\n",
       "      <th>15542</th>\n",
       "      <td>254445252012020NE803058</td>\n",
       "      <td>254300072</td>\n",
       "      <td>1,284,023,632.94</td>\n",
       "    </tr>\n",
       "    <tr>\n",
       "      <th>15112</th>\n",
       "      <td>250005000012020NE000096</td>\n",
       "      <td>176600022</td>\n",
       "      <td>694,320,000.00</td>\n",
       "    </tr>\n",
       "    <tr>\n",
       "      <th>15940</th>\n",
       "      <td>257001000012020NE810544</td>\n",
       "      <td>174800424</td>\n",
       "      <td>440,894,813.73</td>\n",
       "    </tr>\n",
       "    <tr>\n",
       "      <th>15779</th>\n",
       "      <td>257001000012020NE453964</td>\n",
       "      <td>177001678</td>\n",
       "      <td>415,121,875.00</td>\n",
       "    </tr>\n",
       "    <tr>\n",
       "      <th>15925</th>\n",
       "      <td>257001000012020NE810529</td>\n",
       "      <td>178400461</td>\n",
       "      <td>360,266,482.23</td>\n",
       "    </tr>\n",
       "    <tr>\n",
       "      <th>...</th>\n",
       "      <td>...</td>\n",
       "      <td>...</td>\n",
       "      <td>...</td>\n",
       "    </tr>\n",
       "    <tr>\n",
       "      <th>14885</th>\n",
       "      <td>240076000012020NE000338</td>\n",
       "      <td>202800038</td>\n",
       "      <td>-54.69</td>\n",
       "    </tr>\n",
       "    <tr>\n",
       "      <th>14947</th>\n",
       "      <td>240230000012020NE000216</td>\n",
       "      <td>243900086</td>\n",
       "      <td>-80.63</td>\n",
       "    </tr>\n",
       "    <tr>\n",
       "      <th>14796</th>\n",
       "      <td>240017000012020NE006844</td>\n",
       "      <td>243800153</td>\n",
       "      <td>-433.84</td>\n",
       "    </tr>\n",
       "    <tr>\n",
       "      <th>14664</th>\n",
       "      <td>240017000012020NE003889</td>\n",
       "      <td>177700824</td>\n",
       "      <td>-556.20</td>\n",
       "    </tr>\n",
       "    <tr>\n",
       "      <th>14640</th>\n",
       "      <td>240017000012020NE003281</td>\n",
       "      <td>179900332</td>\n",
       "      <td>-1,093.55</td>\n",
       "    </tr>\n",
       "  </tbody>\n",
       "</table>\n",
       "<p>44026 rows × 3 columns</p>\n",
       "</div>"
      ],
      "text/plain": [
       "                Código Empenho Id Empenho  valor_pago_em_real\n",
       "15542  254445252012020NE803058  254300072    1,284,023,632.94\n",
       "15112  250005000012020NE000096  176600022      694,320,000.00\n",
       "15940  257001000012020NE810544  174800424      440,894,813.73\n",
       "15779  257001000012020NE453964  177001678      415,121,875.00\n",
       "15925  257001000012020NE810529  178400461      360,266,482.23\n",
       "...                        ...        ...                 ...\n",
       "14885  240076000012020NE000338  202800038              -54.69\n",
       "14947  240230000012020NE000216  243900086              -80.63\n",
       "14796  240017000012020NE006844  243800153             -433.84\n",
       "14664  240017000012020NE003889  177700824             -556.20\n",
       "14640  240017000012020NE003281  179900332           -1,093.55\n",
       "\n",
       "[44026 rows x 3 columns]"
      ]
     },
     "execution_count": 37,
     "metadata": {},
     "output_type": "execute_result"
    }
   ],
   "source": [
    "pagamentos_covid19.groupby([\"Código Empenho\", \"Id Empenho\"]).valor_pago_em_real.sum().reset_index().sort_values(\"valor_pago_em_real\", ascending=False)"
   ]
  },
  {
   "cell_type": "code",
   "execution_count": 38,
   "metadata": {},
   "outputs": [],
   "source": [
    "procura = pagamentos_covid19[(pagamentos_covid19['Código Empenho'] == '257001000012020NE810544') & (pagamentos_covid19['Id Empenho'] == '174800424')]"
   ]
  },
  {
   "cell_type": "code",
   "execution_count": 38,
   "metadata": {},
   "outputs": [
    {
     "data": {
      "text/html": [
       "<div>\n",
       "<style scoped>\n",
       "    .dataframe tbody tr th:only-of-type {\n",
       "        vertical-align: middle;\n",
       "    }\n",
       "\n",
       "    .dataframe tbody tr th {\n",
       "        vertical-align: top;\n",
       "    }\n",
       "\n",
       "    .dataframe thead th {\n",
       "        text-align: right;\n",
       "    }\n",
       "</style>\n",
       "<table border=\"1\" class=\"dataframe\">\n",
       "  <thead>\n",
       "    <tr style=\"text-align: right;\">\n",
       "      <th></th>\n",
       "      <th>Data Emissão_x</th>\n",
       "      <th>Código Empenho</th>\n",
       "      <th>Id Empenho</th>\n",
       "      <th>Órgão_x</th>\n",
       "      <th>Unidade Gestora_x</th>\n",
       "      <th>Código Favorecido_x</th>\n",
       "      <th>Favorecido_x</th>\n",
       "      <th>Valor do Empenho Convertido pra R$</th>\n",
       "      <th>valor_pago_em_real</th>\n",
       "      <th>Valor Restos a Pagar Inscritos (R$)</th>\n",
       "      <th>Observação_x</th>\n",
       "      <th>Observação_y</th>\n",
       "      <th>Modalidade de Licitação</th>\n",
       "    </tr>\n",
       "  </thead>\n",
       "  <tbody>\n",
       "    <tr>\n",
       "      <th>13900</th>\n",
       "      <td>09/04/2020</td>\n",
       "      <td>257001000012020NE810544</td>\n",
       "      <td>174800424</td>\n",
       "      <td>Ministério da Saúde - Unidades com vínculo di</td>\n",
       "      <td>DIRETORIA EXECUTIVA DO FUNDO NAC. DE SAUDE</td>\n",
       "      <td>257001</td>\n",
       "      <td>DIRETORIA EXECUTIVA DO FUNDO NAC. DE SAUDE</td>\n",
       "      <td>440,894,813.73</td>\n",
       "      <td>440,894,813.73</td>\n",
       "      <td>0.00</td>\n",
       "      <td>CORONAVIRUS (COVID-19)MUNICIPAL_PARCELA_UNICA_...</td>\n",
       "      <td>PAGAMENTO DE 65702-CORONAVIRUS (COVID-19) PARC...</td>\n",
       "      <td>Não se Aplica</td>\n",
       "    </tr>\n",
       "  </tbody>\n",
       "</table>\n",
       "</div>"
      ],
      "text/plain": [
       "      Data Emissão_x           Código Empenho Id Empenho  \\\n",
       "13900     09/04/2020  257001000012020NE810544  174800424   \n",
       "\n",
       "                                             Órgão_x  \\\n",
       "13900  Ministério da Saúde - Unidades com vínculo di   \n",
       "\n",
       "                                Unidade Gestora_x Código Favorecido_x  \\\n",
       "13900  DIRETORIA EXECUTIVA DO FUNDO NAC. DE SAUDE              257001   \n",
       "\n",
       "                                     Favorecido_x  \\\n",
       "13900  DIRETORIA EXECUTIVA DO FUNDO NAC. DE SAUDE   \n",
       "\n",
       "       Valor do Empenho Convertido pra R$  valor_pago_em_real  \\\n",
       "13900                      440,894,813.73      440,894,813.73   \n",
       "\n",
       "       Valor Restos a Pagar Inscritos (R$)  \\\n",
       "13900                                 0.00   \n",
       "\n",
       "                                            Observação_x  \\\n",
       "13900  CORONAVIRUS (COVID-19)MUNICIPAL_PARCELA_UNICA_...   \n",
       "\n",
       "                                            Observação_y  \\\n",
       "13900  PAGAMENTO DE 65702-CORONAVIRUS (COVID-19) PARC...   \n",
       "\n",
       "      Modalidade de Licitação  \n",
       "13900           Não se Aplica  "
      ]
     },
     "execution_count": 38,
     "metadata": {},
     "output_type": "execute_result"
    }
   ],
   "source": [
    "procura[[\"Data Emissão_x\",\"Código Empenho\", \"Id Empenho\", \"Órgão_x\", \"Unidade Gestora_x\", \"Código Favorecido_x\", \"Favorecido_x\", \"Valor do Empenho Convertido pra R$\", \"valor_pago_em_real\", \"Valor Restos a Pagar Inscritos (R$)\", \"Observação_x\", \"Observação_y\",  \"Modalidade de Licitação\"]]"
   ]
  },
  {
   "cell_type": "code",
   "execution_count": null,
   "metadata": {},
   "outputs": [],
   "source": []
  },
  {
   "cell_type": "code",
   "execution_count": 41,
   "metadata": {},
   "outputs": [],
   "source": [
    "procura = pagamentos_covid19[(pagamentos_covid19['Código Empenho'] == '254445252012020NE803058') & (pagamentos_covid19['Id Empenho'] == '254300072')]"
   ]
  },
  {
   "cell_type": "code",
   "execution_count": 42,
   "metadata": {},
   "outputs": [
    {
     "data": {
      "text/html": [
       "<div>\n",
       "<style scoped>\n",
       "    .dataframe tbody tr th:only-of-type {\n",
       "        vertical-align: middle;\n",
       "    }\n",
       "\n",
       "    .dataframe tbody tr th {\n",
       "        vertical-align: top;\n",
       "    }\n",
       "\n",
       "    .dataframe thead th {\n",
       "        text-align: right;\n",
       "    }\n",
       "</style>\n",
       "<table border=\"1\" class=\"dataframe\">\n",
       "  <thead>\n",
       "    <tr style=\"text-align: right;\">\n",
       "      <th></th>\n",
       "      <th>Data Emissão_x</th>\n",
       "      <th>Código Empenho</th>\n",
       "      <th>Id Empenho</th>\n",
       "      <th>Órgão_x</th>\n",
       "      <th>Unidade Gestora_x</th>\n",
       "      <th>Código Favorecido_x</th>\n",
       "      <th>Favorecido_x</th>\n",
       "      <th>Valor do Empenho Convertido pra R$</th>\n",
       "      <th>valor_pago_em_real</th>\n",
       "      <th>Valor Restos a Pagar Inscritos (R$)</th>\n",
       "      <th>Observação_x</th>\n",
       "      <th>Observação_y</th>\n",
       "      <th>Modalidade de Licitação</th>\n",
       "    </tr>\n",
       "  </thead>\n",
       "  <tbody>\n",
       "    <tr>\n",
       "      <th>64038</th>\n",
       "      <td>15/09/2020</td>\n",
       "      <td>254445252012020NE803058</td>\n",
       "      <td>254300072</td>\n",
       "      <td>Fundação Oswaldo Cruz</td>\n",
       "      <td>INSTITUTO DE TECNOLOGIA EM IMUNOBIOLOGICOS</td>\n",
       "      <td>EX2544480</td>\n",
       "      <td>ASTRAZENECA UK LIMITED</td>\n",
       "      <td>1,353,600,005.00</td>\n",
       "      <td>175,782,211.76</td>\n",
       "      <td>0.00</td>\n",
       "      <td>IMPORTACAO DE SERVICOS DE PESQUISA, DESENVOLVI...</td>\n",
       "      <td>LIQUIDACAO REF. A CONTRATACAO DE SERVICO DE PE...</td>\n",
       "      <td>Dispensa de Licitação</td>\n",
       "    </tr>\n",
       "    <tr>\n",
       "      <th>64039</th>\n",
       "      <td>15/09/2020</td>\n",
       "      <td>254445252012020NE803058</td>\n",
       "      <td>254300072</td>\n",
       "      <td>Fundação Oswaldo Cruz</td>\n",
       "      <td>INSTITUTO DE TECNOLOGIA EM IMUNOBIOLOGICOS</td>\n",
       "      <td>EX2544480</td>\n",
       "      <td>ASTRAZENECA UK LIMITED</td>\n",
       "      <td>1,353,600,005.00</td>\n",
       "      <td>116,729,421.18</td>\n",
       "      <td>0.00</td>\n",
       "      <td>IMPORTACAO DE SERVICOS DE PESQUISA, DESENVOLVI...</td>\n",
       "      <td>LIQUIDACAO REF. A CONTRATACAO DE SERVICO DE PE...</td>\n",
       "      <td>Dispensa de Licitação</td>\n",
       "    </tr>\n",
       "    <tr>\n",
       "      <th>64040</th>\n",
       "      <td>15/09/2020</td>\n",
       "      <td>254445252012020NE803058</td>\n",
       "      <td>254300072</td>\n",
       "      <td>Fundação Oswaldo Cruz</td>\n",
       "      <td>INSTITUTO DE TECNOLOGIA EM IMUNOBIOLOGICOS</td>\n",
       "      <td>EX2544480</td>\n",
       "      <td>ASTRAZENECA UK LIMITED</td>\n",
       "      <td>1,353,600,005.00</td>\n",
       "      <td>991,512,000.00</td>\n",
       "      <td>0.00</td>\n",
       "      <td>IMPORTACAO DE SERVICOS DE PESQUISA, DESENVOLVI...</td>\n",
       "      <td>LIQUIDACAO REF. A CONTRATACAO DE SERVICO DE PE...</td>\n",
       "      <td>Dispensa de Licitação</td>\n",
       "    </tr>\n",
       "  </tbody>\n",
       "</table>\n",
       "</div>"
      ],
      "text/plain": [
       "      Data Emissão_x           Código Empenho Id Empenho  \\\n",
       "64038     15/09/2020  254445252012020NE803058  254300072   \n",
       "64039     15/09/2020  254445252012020NE803058  254300072   \n",
       "64040     15/09/2020  254445252012020NE803058  254300072   \n",
       "\n",
       "                     Órgão_x                           Unidade Gestora_x  \\\n",
       "64038  Fundação Oswaldo Cruz  INSTITUTO DE TECNOLOGIA EM IMUNOBIOLOGICOS   \n",
       "64039  Fundação Oswaldo Cruz  INSTITUTO DE TECNOLOGIA EM IMUNOBIOLOGICOS   \n",
       "64040  Fundação Oswaldo Cruz  INSTITUTO DE TECNOLOGIA EM IMUNOBIOLOGICOS   \n",
       "\n",
       "      Código Favorecido_x            Favorecido_x  \\\n",
       "64038           EX2544480  ASTRAZENECA UK LIMITED   \n",
       "64039           EX2544480  ASTRAZENECA UK LIMITED   \n",
       "64040           EX2544480  ASTRAZENECA UK LIMITED   \n",
       "\n",
       "       Valor do Empenho Convertido pra R$  valor_pago_em_real  \\\n",
       "64038                    1,353,600,005.00      175,782,211.76   \n",
       "64039                    1,353,600,005.00      116,729,421.18   \n",
       "64040                    1,353,600,005.00      991,512,000.00   \n",
       "\n",
       "       Valor Restos a Pagar Inscritos (R$)  \\\n",
       "64038                                 0.00   \n",
       "64039                                 0.00   \n",
       "64040                                 0.00   \n",
       "\n",
       "                                            Observação_x  \\\n",
       "64038  IMPORTACAO DE SERVICOS DE PESQUISA, DESENVOLVI...   \n",
       "64039  IMPORTACAO DE SERVICOS DE PESQUISA, DESENVOLVI...   \n",
       "64040  IMPORTACAO DE SERVICOS DE PESQUISA, DESENVOLVI...   \n",
       "\n",
       "                                            Observação_y  \\\n",
       "64038  LIQUIDACAO REF. A CONTRATACAO DE SERVICO DE PE...   \n",
       "64039  LIQUIDACAO REF. A CONTRATACAO DE SERVICO DE PE...   \n",
       "64040  LIQUIDACAO REF. A CONTRATACAO DE SERVICO DE PE...   \n",
       "\n",
       "      Modalidade de Licitação  \n",
       "64038   Dispensa de Licitação  \n",
       "64039   Dispensa de Licitação  \n",
       "64040   Dispensa de Licitação  "
      ]
     },
     "execution_count": 42,
     "metadata": {},
     "output_type": "execute_result"
    }
   ],
   "source": [
    "procura[[\"Data Emissão_x\",\"Código Empenho\", \"Id Empenho\", \"Órgão_x\", \"Unidade Gestora_x\", \"Código Favorecido_x\", \"Favorecido_x\", \"Valor do Empenho Convertido pra R$\", \"valor_pago_em_real\", \"Valor Restos a Pagar Inscritos (R$)\", \"Observação_x\", \"Observação_y\",  \"Modalidade de Licitação\"]]"
   ]
  },
  {
   "cell_type": "code",
   "execution_count": null,
   "metadata": {},
   "outputs": [],
   "source": []
  },
  {
   "cell_type": "code",
   "execution_count": 43,
   "metadata": {},
   "outputs": [],
   "source": [
    "# Agrupa a soma de valores pagos em Unidade Gestora - 20 primeiros"
   ]
  },
  {
   "cell_type": "code",
   "execution_count": 44,
   "metadata": {},
   "outputs": [
    {
     "data": {
      "text/html": [
       "<div>\n",
       "<style scoped>\n",
       "    .dataframe tbody tr th:only-of-type {\n",
       "        vertical-align: middle;\n",
       "    }\n",
       "\n",
       "    .dataframe tbody tr th {\n",
       "        vertical-align: top;\n",
       "    }\n",
       "\n",
       "    .dataframe thead th {\n",
       "        text-align: right;\n",
       "    }\n",
       "</style>\n",
       "<table border=\"1\" class=\"dataframe\">\n",
       "  <thead>\n",
       "    <tr style=\"text-align: right;\">\n",
       "      <th></th>\n",
       "      <th>Unidade Gestora_x</th>\n",
       "      <th>valor_pago_em_real</th>\n",
       "    </tr>\n",
       "  </thead>\n",
       "  <tbody>\n",
       "    <tr>\n",
       "      <th>456</th>\n",
       "      <td>DIRETORIA EXECUTIVA DO FUNDO NAC. DE SAUDE</td>\n",
       "      <td>26,326,880,931.94</td>\n",
       "    </tr>\n",
       "    <tr>\n",
       "      <th>578</th>\n",
       "      <td>FUNDO NACIONAL DE ASSISTENCIA SOCIAL</td>\n",
       "      <td>2,500,148,343.31</td>\n",
       "    </tr>\n",
       "    <tr>\n",
       "      <th>813</th>\n",
       "      <td>INSTITUTO DE TECNOLOGIA EM IMUNOBIOLOGICOS</td>\n",
       "      <td>1,494,578,698.60</td>\n",
       "    </tr>\n",
       "    <tr>\n",
       "      <th>447</th>\n",
       "      <td>DEPARTAMENTO DE LOGISTICA EM SAUDE - DLOG</td>\n",
       "      <td>1,491,203,360.10</td>\n",
       "    </tr>\n",
       "    <tr>\n",
       "      <th>573</th>\n",
       "      <td>FUNDAÇÃO OSWALDO CRUZ</td>\n",
       "      <td>310,611,603.56</td>\n",
       "    </tr>\n",
       "    <tr>\n",
       "      <th>399</th>\n",
       "      <td>COORDENACAO-GERAL DE GESTAO DE PESSOAS</td>\n",
       "      <td>281,518,531.82</td>\n",
       "    </tr>\n",
       "    <tr>\n",
       "      <th>849</th>\n",
       "      <td>SECR. DE GESTAO DO TRAB. E DA EDUC. NA SAUDE</td>\n",
       "      <td>192,207,418.00</td>\n",
       "    </tr>\n",
       "    <tr>\n",
       "      <th>577</th>\n",
       "      <td>FUNDO NAC.DE DESENV. CIENTIFICO E TECNOLOGICO</td>\n",
       "      <td>103,047,310.27</td>\n",
       "    </tr>\n",
       "    <tr>\n",
       "      <th>401</th>\n",
       "      <td>COORDENAÇÃO GERAL DE INFRAESTRUTURA DOS CAMPI</td>\n",
       "      <td>85,679,614.19</td>\n",
       "    </tr>\n",
       "    <tr>\n",
       "      <th>579</th>\n",
       "      <td>FUNDO NACIONAL DE SEGURANÇA PÚBLICA - FNSP</td>\n",
       "      <td>83,910,105.85</td>\n",
       "    </tr>\n",
       "    <tr>\n",
       "      <th>852</th>\n",
       "      <td>SECRETARIA NACIONAL DE AVIAÇÃO CIVIL</td>\n",
       "      <td>80,201,277.91</td>\n",
       "    </tr>\n",
       "    <tr>\n",
       "      <th>605</th>\n",
       "      <td>HOSPITAL DE CLINICAS DE PORTO ALEGRE</td>\n",
       "      <td>66,561,396.18</td>\n",
       "    </tr>\n",
       "    <tr>\n",
       "      <th>245</th>\n",
       "      <td>CENTRO DE AQUISIÇÕES ESPECÍFICAS</td>\n",
       "      <td>62,924,665.27</td>\n",
       "    </tr>\n",
       "    <tr>\n",
       "      <th>364</th>\n",
       "      <td>CONSELHO NAC DE DESENV CIENT E TECNOLOGICO</td>\n",
       "      <td>55,636,181.41</td>\n",
       "    </tr>\n",
       "    <tr>\n",
       "      <th>400</th>\n",
       "      <td>COORDENACAO-GERAL DE RECURSOS LOGISTICOS</td>\n",
       "      <td>45,000,000.00</td>\n",
       "    </tr>\n",
       "    <tr>\n",
       "      <th>812</th>\n",
       "      <td>INSTITUTO DE TECNOLOGIA EM FARMACOS</td>\n",
       "      <td>42,080,300.82</td>\n",
       "    </tr>\n",
       "    <tr>\n",
       "      <th>335</th>\n",
       "      <td>COMANDO LOGISTICO</td>\n",
       "      <td>38,941,413.05</td>\n",
       "    </tr>\n",
       "    <tr>\n",
       "      <th>854</th>\n",
       "      <td>SEGURANÇA ALIMENTAR E NUTRICIONAL - SEISP</td>\n",
       "      <td>32,352,666.91</td>\n",
       "    </tr>\n",
       "    <tr>\n",
       "      <th>264</th>\n",
       "      <td>CG DE MATERIAL E PATRIMONIO - CGMAP/SAA</td>\n",
       "      <td>28,927,081.55</td>\n",
       "    </tr>\n",
       "    <tr>\n",
       "      <th>187</th>\n",
       "      <td>AGENCIA BRASILEIRA DE COOPERACAO - ABC</td>\n",
       "      <td>28,000,000.00</td>\n",
       "    </tr>\n",
       "  </tbody>\n",
       "</table>\n",
       "</div>"
      ],
      "text/plain": [
       "                                 Unidade Gestora_x  valor_pago_em_real\n",
       "456     DIRETORIA EXECUTIVA DO FUNDO NAC. DE SAUDE   26,326,880,931.94\n",
       "578           FUNDO NACIONAL DE ASSISTENCIA SOCIAL    2,500,148,343.31\n",
       "813     INSTITUTO DE TECNOLOGIA EM IMUNOBIOLOGICOS    1,494,578,698.60\n",
       "447      DEPARTAMENTO DE LOGISTICA EM SAUDE - DLOG    1,491,203,360.10\n",
       "573                          FUNDAÇÃO OSWALDO CRUZ      310,611,603.56\n",
       "399         COORDENACAO-GERAL DE GESTAO DE PESSOAS      281,518,531.82\n",
       "849   SECR. DE GESTAO DO TRAB. E DA EDUC. NA SAUDE      192,207,418.00\n",
       "577  FUNDO NAC.DE DESENV. CIENTIFICO E TECNOLOGICO      103,047,310.27\n",
       "401  COORDENAÇÃO GERAL DE INFRAESTRUTURA DOS CAMPI       85,679,614.19\n",
       "579     FUNDO NACIONAL DE SEGURANÇA PÚBLICA - FNSP       83,910,105.85\n",
       "852           SECRETARIA NACIONAL DE AVIAÇÃO CIVIL       80,201,277.91\n",
       "605           HOSPITAL DE CLINICAS DE PORTO ALEGRE       66,561,396.18\n",
       "245               CENTRO DE AQUISIÇÕES ESPECÍFICAS       62,924,665.27\n",
       "364     CONSELHO NAC DE DESENV CIENT E TECNOLOGICO       55,636,181.41\n",
       "400       COORDENACAO-GERAL DE RECURSOS LOGISTICOS       45,000,000.00\n",
       "812            INSTITUTO DE TECNOLOGIA EM FARMACOS       42,080,300.82\n",
       "335                              COMANDO LOGISTICO       38,941,413.05\n",
       "854      SEGURANÇA ALIMENTAR E NUTRICIONAL - SEISP       32,352,666.91\n",
       "264        CG DE MATERIAL E PATRIMONIO - CGMAP/SAA       28,927,081.55\n",
       "187         AGENCIA BRASILEIRA DE COOPERACAO - ABC       28,000,000.00"
      ]
     },
     "execution_count": 44,
     "metadata": {},
     "output_type": "execute_result"
    }
   ],
   "source": [
    "pagamentos_covid19.groupby([\"Unidade Gestora_x\"]).valor_pago_em_real.sum().reset_index().sort_values(\"valor_pago_em_real\", ascending=False).head(20)"
   ]
  },
  {
   "cell_type": "code",
   "execution_count": 45,
   "metadata": {},
   "outputs": [],
   "source": [
    "# Salva em CSV para gráfico"
   ]
  },
  {
   "cell_type": "code",
   "execution_count": 46,
   "metadata": {},
   "outputs": [],
   "source": [
    "salva = pagamentos_covid19.groupby([\"Unidade Gestora_x\"]).valor_pago_em_real.sum().reset_index().sort_values(\"valor_pago_em_real\", ascending=False)"
   ]
  },
  {
   "cell_type": "code",
   "execution_count": 49,
   "metadata": {},
   "outputs": [
    {
     "name": "stdout",
     "output_type": "stream",
     "text": [
      "<class 'pandas.core.frame.DataFrame'>\n",
      "Int64Index: 971 entries, 456 to 348\n",
      "Data columns (total 2 columns):\n",
      " #   Column              Non-Null Count  Dtype  \n",
      "---  ------              --------------  -----  \n",
      " 0   Unidade Gestora_x   971 non-null    object \n",
      " 1   valor_pago_em_real  971 non-null    float64\n",
      "dtypes: float64(1), object(1)\n",
      "memory usage: 22.8+ KB\n"
     ]
    }
   ],
   "source": [
    "salva.info()"
   ]
  },
  {
   "cell_type": "code",
   "execution_count": 50,
   "metadata": {},
   "outputs": [],
   "source": [
    "salva.to_csv('resultados/graficos/soma_ordenada_unidade_gestora_pagamentos_feitos_de_empenhos_covid19_ate_17_setembro_2020.csv', index=False)"
   ]
  },
  {
   "cell_type": "code",
   "execution_count": null,
   "metadata": {},
   "outputs": [],
   "source": []
  },
  {
   "cell_type": "code",
   "execution_count": null,
   "metadata": {},
   "outputs": [],
   "source": [
    "# Detalha DIRETORIA EXECUTIVA DO FUNDO NAC. DE SAUDE"
   ]
  },
  {
   "cell_type": "code",
   "execution_count": 53,
   "metadata": {},
   "outputs": [
    {
     "data": {
      "text/html": [
       "<div>\n",
       "<style scoped>\n",
       "    .dataframe tbody tr th:only-of-type {\n",
       "        vertical-align: middle;\n",
       "    }\n",
       "\n",
       "    .dataframe tbody tr th {\n",
       "        vertical-align: top;\n",
       "    }\n",
       "\n",
       "    .dataframe thead th {\n",
       "        text-align: right;\n",
       "    }\n",
       "</style>\n",
       "<table border=\"1\" class=\"dataframe\">\n",
       "  <thead>\n",
       "    <tr style=\"text-align: right;\">\n",
       "      <th></th>\n",
       "      <th>Favorecido_x</th>\n",
       "      <th>valor_pago_em_real</th>\n",
       "    </tr>\n",
       "  </thead>\n",
       "  <tbody>\n",
       "    <tr>\n",
       "      <th>0</th>\n",
       "      <td>DIRETORIA EXECUTIVA DO FUNDO NAC. DE SAUDE</td>\n",
       "      <td>23,591,408,795.29</td>\n",
       "    </tr>\n",
       "    <tr>\n",
       "      <th>17</th>\n",
       "      <td>FUNDO ESTADUAL DE SAUDE</td>\n",
       "      <td>584,769,872.00</td>\n",
       "    </tr>\n",
       "    <tr>\n",
       "      <th>796</th>\n",
       "      <td>ORGANIZACAO PAN-AMERICANA DA SAUDE/ORGANIZACAO...</td>\n",
       "      <td>451,471,585.65</td>\n",
       "    </tr>\n",
       "    <tr>\n",
       "      <th>38</th>\n",
       "      <td>FUNDO MUNICIPAL DE SAUDE</td>\n",
       "      <td>370,483,670.00</td>\n",
       "    </tr>\n",
       "    <tr>\n",
       "      <th>19</th>\n",
       "      <td>FUNDO ESTADUAL DE SAUDE - FUNDES</td>\n",
       "      <td>211,060,593.00</td>\n",
       "    </tr>\n",
       "    <tr>\n",
       "      <th>21</th>\n",
       "      <td>FUNDO ESTADUAL DE SAUDE DO ESTADO DA BAHIA</td>\n",
       "      <td>95,366,269.00</td>\n",
       "    </tr>\n",
       "    <tr>\n",
       "      <th>7</th>\n",
       "      <td>FUNDO DE SAUDE DO DISTRITO FEDERAL</td>\n",
       "      <td>77,565,704.00</td>\n",
       "    </tr>\n",
       "    <tr>\n",
       "      <th>45</th>\n",
       "      <td>FUNDO MUNICIPAL DE SAUDE - FMS</td>\n",
       "      <td>70,491,675.00</td>\n",
       "    </tr>\n",
       "    <tr>\n",
       "      <th>20</th>\n",
       "      <td>FUNDO ESTADUAL DE SAUDE DE PERNAMBUCO</td>\n",
       "      <td>58,757,172.00</td>\n",
       "    </tr>\n",
       "    <tr>\n",
       "      <th>261</th>\n",
       "      <td>FUNDO MUNICIPAL DE SAUDE DE DUQUE DE CAXIAS</td>\n",
       "      <td>48,737,165.00</td>\n",
       "    </tr>\n",
       "    <tr>\n",
       "      <th>1</th>\n",
       "      <td>ESTADO DO MARANHAO - FUNDO ESTADUAL DE SAUDE /...</td>\n",
       "      <td>43,336,600.00</td>\n",
       "    </tr>\n",
       "    <tr>\n",
       "      <th>24</th>\n",
       "      <td>FUNDO ESTADUAL DE SAUDE DO RIO GRANDE DO NORTE</td>\n",
       "      <td>33,253,439.00</td>\n",
       "    </tr>\n",
       "    <tr>\n",
       "      <th>23</th>\n",
       "      <td>FUNDO ESTADUAL DE SAUDE DO ESTADO RORAIMA</td>\n",
       "      <td>27,000,000.00</td>\n",
       "    </tr>\n",
       "    <tr>\n",
       "      <th>25</th>\n",
       "      <td>FUNDO ESTADUAL DE SAUDE DO TOCANTINS</td>\n",
       "      <td>25,041,945.00</td>\n",
       "    </tr>\n",
       "    <tr>\n",
       "      <th>707</th>\n",
       "      <td>FUNDO MUNICIPAL DE SAUDE DO MUNICIPIO DE MACAPA</td>\n",
       "      <td>13,967,152.00</td>\n",
       "    </tr>\n",
       "    <tr>\n",
       "      <th>22</th>\n",
       "      <td>FUNDO ESTADUAL DE SAUDE DO ESTADO DA PARAIBA -...</td>\n",
       "      <td>13,599,996.00</td>\n",
       "    </tr>\n",
       "    <tr>\n",
       "      <th>429</th>\n",
       "      <td>FUNDO MUNICIPAL DE SAUDE DE MIRANDA DO NORTE</td>\n",
       "      <td>12,238,626.00</td>\n",
       "    </tr>\n",
       "    <tr>\n",
       "      <th>586</th>\n",
       "      <td>FUNDO MUNICIPAL DE SAUDE DE SAO JOAO DE MERITI</td>\n",
       "      <td>11,956,050.00</td>\n",
       "    </tr>\n",
       "    <tr>\n",
       "      <th>402</th>\n",
       "      <td>FUNDO MUNICIPAL DE SAUDE DE MACEIO</td>\n",
       "      <td>11,900,000.00</td>\n",
       "    </tr>\n",
       "    <tr>\n",
       "      <th>595</th>\n",
       "      <td>FUNDO MUNICIPAL DE SAUDE DE SAO LUIS MARANHAO</td>\n",
       "      <td>8,737,693.00</td>\n",
       "    </tr>\n",
       "  </tbody>\n",
       "</table>\n",
       "</div>"
      ],
      "text/plain": [
       "                                          Favorecido_x  valor_pago_em_real\n",
       "0           DIRETORIA EXECUTIVA DO FUNDO NAC. DE SAUDE   23,591,408,795.29\n",
       "17                             FUNDO ESTADUAL DE SAUDE      584,769,872.00\n",
       "796  ORGANIZACAO PAN-AMERICANA DA SAUDE/ORGANIZACAO...      451,471,585.65\n",
       "38                            FUNDO MUNICIPAL DE SAUDE      370,483,670.00\n",
       "19                    FUNDO ESTADUAL DE SAUDE - FUNDES      211,060,593.00\n",
       "21          FUNDO ESTADUAL DE SAUDE DO ESTADO DA BAHIA       95,366,269.00\n",
       "7                   FUNDO DE SAUDE DO DISTRITO FEDERAL       77,565,704.00\n",
       "45                      FUNDO MUNICIPAL DE SAUDE - FMS       70,491,675.00\n",
       "20               FUNDO ESTADUAL DE SAUDE DE PERNAMBUCO       58,757,172.00\n",
       "261        FUNDO MUNICIPAL DE SAUDE DE DUQUE DE CAXIAS       48,737,165.00\n",
       "1    ESTADO DO MARANHAO - FUNDO ESTADUAL DE SAUDE /...       43,336,600.00\n",
       "24      FUNDO ESTADUAL DE SAUDE DO RIO GRANDE DO NORTE       33,253,439.00\n",
       "23           FUNDO ESTADUAL DE SAUDE DO ESTADO RORAIMA       27,000,000.00\n",
       "25                FUNDO ESTADUAL DE SAUDE DO TOCANTINS       25,041,945.00\n",
       "707    FUNDO MUNICIPAL DE SAUDE DO MUNICIPIO DE MACAPA       13,967,152.00\n",
       "22   FUNDO ESTADUAL DE SAUDE DO ESTADO DA PARAIBA -...       13,599,996.00\n",
       "429       FUNDO MUNICIPAL DE SAUDE DE MIRANDA DO NORTE       12,238,626.00\n",
       "586     FUNDO MUNICIPAL DE SAUDE DE SAO JOAO DE MERITI       11,956,050.00\n",
       "402                 FUNDO MUNICIPAL DE SAUDE DE MACEIO       11,900,000.00\n",
       "595      FUNDO MUNICIPAL DE SAUDE DE SAO LUIS MARANHAO        8,737,693.00"
      ]
     },
     "execution_count": 53,
     "metadata": {},
     "output_type": "execute_result"
    }
   ],
   "source": [
    "procura = pagamentos_covid19[(pagamentos_covid19['Unidade Gestora_x'] == 'DIRETORIA EXECUTIVA DO FUNDO NAC. DE SAUDE') ]\n",
    "procura.groupby([\"Favorecido_x\"]).valor_pago_em_real.sum().reset_index().sort_values(\"valor_pago_em_real\", ascending=False).head(20)"
   ]
  },
  {
   "cell_type": "code",
   "execution_count": null,
   "metadata": {},
   "outputs": [],
   "source": []
  },
  {
   "cell_type": "code",
   "execution_count": 54,
   "metadata": {},
   "outputs": [],
   "source": [
    "# Detalha DEPARTAMENTO DE LOGISTICA EM SAUDE - DLOG"
   ]
  },
  {
   "cell_type": "code",
   "execution_count": 55,
   "metadata": {},
   "outputs": [
    {
     "data": {
      "text/html": [
       "<div>\n",
       "<style scoped>\n",
       "    .dataframe tbody tr th:only-of-type {\n",
       "        vertical-align: middle;\n",
       "    }\n",
       "\n",
       "    .dataframe tbody tr th {\n",
       "        vertical-align: top;\n",
       "    }\n",
       "\n",
       "    .dataframe thead th {\n",
       "        text-align: right;\n",
       "    }\n",
       "</style>\n",
       "<table border=\"1\" class=\"dataframe\">\n",
       "  <thead>\n",
       "    <tr style=\"text-align: right;\">\n",
       "      <th></th>\n",
       "      <th>Favorecido_x</th>\n",
       "      <th>valor_pago_em_real</th>\n",
       "    </tr>\n",
       "  </thead>\n",
       "  <tbody>\n",
       "    <tr>\n",
       "      <th>8</th>\n",
       "      <td>GLOBAL BASE DEVELOPMENT HK LIMITED</td>\n",
       "      <td>708,226,249.50</td>\n",
       "    </tr>\n",
       "    <tr>\n",
       "      <th>10</th>\n",
       "      <td>INTERMED EQUIPAMENTO MEDICO HOSPITALAR LTDA</td>\n",
       "      <td>258,000,000.00</td>\n",
       "    </tr>\n",
       "    <tr>\n",
       "      <th>20</th>\n",
       "      <td>MAGNAMED TECNOLOGIA MEDICA S/A</td>\n",
       "      <td>229,299,270.00</td>\n",
       "    </tr>\n",
       "    <tr>\n",
       "      <th>14</th>\n",
       "      <td>LEISTUNG EQUIPAMENTOS LTDA.</td>\n",
       "      <td>66,037,000.00</td>\n",
       "    </tr>\n",
       "    <tr>\n",
       "      <th>13</th>\n",
       "      <td>KTK INDUSTRIA, IMPORTACAO, EXPORTACAO E COMERC...</td>\n",
       "      <td>52,507,920.00</td>\n",
       "    </tr>\n",
       "    <tr>\n",
       "      <th>5</th>\n",
       "      <td>DESCARPACK DESCARTAVEIS DO BRASIL LTDA</td>\n",
       "      <td>30,544,000.00</td>\n",
       "    </tr>\n",
       "    <tr>\n",
       "      <th>36</th>\n",
       "      <td>WEG DRIVES &amp; CONTROLS - AUTOMACAO LTDA</td>\n",
       "      <td>30,000,000.00</td>\n",
       "    </tr>\n",
       "    <tr>\n",
       "      <th>24</th>\n",
       "      <td>PRODUTOS ROCHE QUIMICOS E FARMACEUTICOS S A</td>\n",
       "      <td>26,650,000.00</td>\n",
       "    </tr>\n",
       "    <tr>\n",
       "      <th>15</th>\n",
       "      <td>LIFEMED INDUSTRIAL DE EQUIPAMENTOS E ARTIGOS M...</td>\n",
       "      <td>25,320,715.70</td>\n",
       "    </tr>\n",
       "    <tr>\n",
       "      <th>30</th>\n",
       "      <td>RTS RIO S/A</td>\n",
       "      <td>19,120,000.00</td>\n",
       "    </tr>\n",
       "    <tr>\n",
       "      <th>6</th>\n",
       "      <td>FG BRASIL LTDA</td>\n",
       "      <td>10,400,000.00</td>\n",
       "    </tr>\n",
       "    <tr>\n",
       "      <th>25</th>\n",
       "      <td>PROGEN PROJETOS GERENCIAMENTO E ENGENHARIA S.A.</td>\n",
       "      <td>8,642,003.05</td>\n",
       "    </tr>\n",
       "    <tr>\n",
       "      <th>17</th>\n",
       "      <td>M S BASTOS COMERCIO REPRESENTACOES LTDA</td>\n",
       "      <td>8,340,980.00</td>\n",
       "    </tr>\n",
       "    <tr>\n",
       "      <th>16</th>\n",
       "      <td>LIMA &amp; PERGHER INDUSTRIA E COMERCIO S/A</td>\n",
       "      <td>6,680,000.00</td>\n",
       "    </tr>\n",
       "    <tr>\n",
       "      <th>21</th>\n",
       "      <td>NACIONAL COMERCIAL HOSPITALAR S.A.</td>\n",
       "      <td>2,280,000.00</td>\n",
       "    </tr>\n",
       "    <tr>\n",
       "      <th>7</th>\n",
       "      <td>FUTURA DISTRIBUIDORA DE MEDICAMENTOS E PRODUTO...</td>\n",
       "      <td>2,040,000.00</td>\n",
       "    </tr>\n",
       "    <tr>\n",
       "      <th>0</th>\n",
       "      <td>3M DO BRASIL LTDA</td>\n",
       "      <td>1,795,000.00</td>\n",
       "    </tr>\n",
       "    <tr>\n",
       "      <th>34</th>\n",
       "      <td>SIGMA-ALDRICH BRASIL LTDA</td>\n",
       "      <td>1,675,344.18</td>\n",
       "    </tr>\n",
       "    <tr>\n",
       "      <th>29</th>\n",
       "      <td>ROCHA LOPES REPRESENTACAO &amp; COMERCIO DE PRODUT...</td>\n",
       "      <td>739,900.00</td>\n",
       "    </tr>\n",
       "    <tr>\n",
       "      <th>27</th>\n",
       "      <td>PROSANIS INDUSTRIA E COMERCIO DE PRODUTOS MEDI...</td>\n",
       "      <td>700,000.00</td>\n",
       "    </tr>\n",
       "  </tbody>\n",
       "</table>\n",
       "</div>"
      ],
      "text/plain": [
       "                                         Favorecido_x  valor_pago_em_real\n",
       "8                  GLOBAL BASE DEVELOPMENT HK LIMITED      708,226,249.50\n",
       "10        INTERMED EQUIPAMENTO MEDICO HOSPITALAR LTDA      258,000,000.00\n",
       "20                     MAGNAMED TECNOLOGIA MEDICA S/A      229,299,270.00\n",
       "14                        LEISTUNG EQUIPAMENTOS LTDA.       66,037,000.00\n",
       "13  KTK INDUSTRIA, IMPORTACAO, EXPORTACAO E COMERC...       52,507,920.00\n",
       "5              DESCARPACK DESCARTAVEIS DO BRASIL LTDA       30,544,000.00\n",
       "36             WEG DRIVES & CONTROLS - AUTOMACAO LTDA       30,000,000.00\n",
       "24        PRODUTOS ROCHE QUIMICOS E FARMACEUTICOS S A       26,650,000.00\n",
       "15  LIFEMED INDUSTRIAL DE EQUIPAMENTOS E ARTIGOS M...       25,320,715.70\n",
       "30                                        RTS RIO S/A       19,120,000.00\n",
       "6                                      FG BRASIL LTDA       10,400,000.00\n",
       "25    PROGEN PROJETOS GERENCIAMENTO E ENGENHARIA S.A.        8,642,003.05\n",
       "17            M S BASTOS COMERCIO REPRESENTACOES LTDA        8,340,980.00\n",
       "16            LIMA & PERGHER INDUSTRIA E COMERCIO S/A        6,680,000.00\n",
       "21                 NACIONAL COMERCIAL HOSPITALAR S.A.        2,280,000.00\n",
       "7   FUTURA DISTRIBUIDORA DE MEDICAMENTOS E PRODUTO...        2,040,000.00\n",
       "0                                   3M DO BRASIL LTDA        1,795,000.00\n",
       "34                          SIGMA-ALDRICH BRASIL LTDA        1,675,344.18\n",
       "29  ROCHA LOPES REPRESENTACAO & COMERCIO DE PRODUT...          739,900.00\n",
       "27  PROSANIS INDUSTRIA E COMERCIO DE PRODUTOS MEDI...          700,000.00"
      ]
     },
     "execution_count": 55,
     "metadata": {},
     "output_type": "execute_result"
    }
   ],
   "source": [
    "procura = pagamentos_covid19[(pagamentos_covid19['Unidade Gestora_x'] == 'DEPARTAMENTO DE LOGISTICA EM SAUDE - DLOG') ]\n",
    "procura.groupby([\"Favorecido_x\"]).valor_pago_em_real.sum().reset_index().sort_values(\"valor_pago_em_real\", ascending=False).head(20)"
   ]
  },
  {
   "cell_type": "code",
   "execution_count": 56,
   "metadata": {},
   "outputs": [
    {
     "data": {
      "text/plain": [
       "1491203360.1"
      ]
     },
     "execution_count": 56,
     "metadata": {},
     "output_type": "execute_result"
    }
   ],
   "source": [
    "procura['valor_pago_em_real'].sum()"
   ]
  },
  {
   "cell_type": "code",
   "execution_count": null,
   "metadata": {},
   "outputs": [],
   "source": []
  },
  {
   "cell_type": "code",
   "execution_count": 57,
   "metadata": {},
   "outputs": [],
   "source": [
    "# FUNDO NACIONAL DE ASSISTENCIA SOCIAL"
   ]
  },
  {
   "cell_type": "code",
   "execution_count": 58,
   "metadata": {},
   "outputs": [
    {
     "data": {
      "text/html": [
       "<div>\n",
       "<style scoped>\n",
       "    .dataframe tbody tr th:only-of-type {\n",
       "        vertical-align: middle;\n",
       "    }\n",
       "\n",
       "    .dataframe tbody tr th {\n",
       "        vertical-align: top;\n",
       "    }\n",
       "\n",
       "    .dataframe thead th {\n",
       "        text-align: right;\n",
       "    }\n",
       "</style>\n",
       "<table border=\"1\" class=\"dataframe\">\n",
       "  <thead>\n",
       "    <tr style=\"text-align: right;\">\n",
       "      <th></th>\n",
       "      <th>Favorecido_x</th>\n",
       "      <th>valor_pago_em_real</th>\n",
       "    </tr>\n",
       "  </thead>\n",
       "  <tbody>\n",
       "    <tr>\n",
       "      <th>13</th>\n",
       "      <td>FUNDO NACIONAL DE ASSISTENCIA SOCIAL</td>\n",
       "      <td>2,442,593,244.31</td>\n",
       "    </tr>\n",
       "    <tr>\n",
       "      <th>11</th>\n",
       "      <td>FUNDO MUNICIPAL DE ASSISTENCIA SOCIAL- (FMAS) ...</td>\n",
       "      <td>19,138,597.00</td>\n",
       "    </tr>\n",
       "    <tr>\n",
       "      <th>1</th>\n",
       "      <td>FUNDO ESTADUAL DE ASSISTENCIA SOCIAL - FEAS</td>\n",
       "      <td>9,514,018.00</td>\n",
       "    </tr>\n",
       "    <tr>\n",
       "      <th>14</th>\n",
       "      <td>MUNICIPIO DE JABOATAO - FUNDO MUNICIPAL ,DE AS...</td>\n",
       "      <td>7,538,195.00</td>\n",
       "    </tr>\n",
       "    <tr>\n",
       "      <th>0</th>\n",
       "      <td>FUNDO ESTADUAL DE ASSISTENCIA SOCIAL</td>\n",
       "      <td>7,432,147.00</td>\n",
       "    </tr>\n",
       "    <tr>\n",
       "      <th>8</th>\n",
       "      <td>FUNDO MUNICIPAL DE ASSISTENCIA SOCIAL DE SANTANA</td>\n",
       "      <td>6,500,000.00</td>\n",
       "    </tr>\n",
       "    <tr>\n",
       "      <th>3</th>\n",
       "      <td>FUNDO MUNICIPAL DE ASSISTENCIA SOCIAL</td>\n",
       "      <td>1,855,357.00</td>\n",
       "    </tr>\n",
       "    <tr>\n",
       "      <th>7</th>\n",
       "      <td>FUNDO MUNICIPAL DE ASSISTENCIA SOCIAL DE LARAN...</td>\n",
       "      <td>1,200,000.00</td>\n",
       "    </tr>\n",
       "    <tr>\n",
       "      <th>12</th>\n",
       "      <td>FUNDO MUNICIPAL DE ASSISTENCIA SOCIAL-FMAS</td>\n",
       "      <td>855,357.00</td>\n",
       "    </tr>\n",
       "    <tr>\n",
       "      <th>2</th>\n",
       "      <td>FUNDO MUNICIPAL DA ASSISTENCIA SOCIAL DE MAZAGAO</td>\n",
       "      <td>800,000.00</td>\n",
       "    </tr>\n",
       "    <tr>\n",
       "      <th>5</th>\n",
       "      <td>FUNDO MUNICIPAL DE ASSISTENCIA SOCIAL - FNAS</td>\n",
       "      <td>800,000.00</td>\n",
       "    </tr>\n",
       "    <tr>\n",
       "      <th>4</th>\n",
       "      <td>FUNDO MUNICIPAL DE ASSISTENCIA SOCIAL - FMAS</td>\n",
       "      <td>710,714.00</td>\n",
       "    </tr>\n",
       "    <tr>\n",
       "      <th>10</th>\n",
       "      <td>FUNDO MUNICIPAL DE ASSISTENCIA SOCIAL DE TARTA...</td>\n",
       "      <td>500,000.00</td>\n",
       "    </tr>\n",
       "    <tr>\n",
       "      <th>6</th>\n",
       "      <td>FUNDO MUNICIPAL DE ASSISTENCIA SOCIAL DE CUTIAS</td>\n",
       "      <td>355,357.00</td>\n",
       "    </tr>\n",
       "    <tr>\n",
       "      <th>9</th>\n",
       "      <td>FUNDO MUNICIPAL DE ASSISTENCIA SOCIAL DE SERRA...</td>\n",
       "      <td>355,357.00</td>\n",
       "    </tr>\n",
       "  </tbody>\n",
       "</table>\n",
       "</div>"
      ],
      "text/plain": [
       "                                         Favorecido_x  valor_pago_em_real\n",
       "13               FUNDO NACIONAL DE ASSISTENCIA SOCIAL    2,442,593,244.31\n",
       "11  FUNDO MUNICIPAL DE ASSISTENCIA SOCIAL- (FMAS) ...       19,138,597.00\n",
       "1         FUNDO ESTADUAL DE ASSISTENCIA SOCIAL - FEAS        9,514,018.00\n",
       "14  MUNICIPIO DE JABOATAO - FUNDO MUNICIPAL ,DE AS...        7,538,195.00\n",
       "0                FUNDO ESTADUAL DE ASSISTENCIA SOCIAL        7,432,147.00\n",
       "8    FUNDO MUNICIPAL DE ASSISTENCIA SOCIAL DE SANTANA        6,500,000.00\n",
       "3               FUNDO MUNICIPAL DE ASSISTENCIA SOCIAL        1,855,357.00\n",
       "7   FUNDO MUNICIPAL DE ASSISTENCIA SOCIAL DE LARAN...        1,200,000.00\n",
       "12         FUNDO MUNICIPAL DE ASSISTENCIA SOCIAL-FMAS          855,357.00\n",
       "2    FUNDO MUNICIPAL DA ASSISTENCIA SOCIAL DE MAZAGAO          800,000.00\n",
       "5        FUNDO MUNICIPAL DE ASSISTENCIA SOCIAL - FNAS          800,000.00\n",
       "4        FUNDO MUNICIPAL DE ASSISTENCIA SOCIAL - FMAS          710,714.00\n",
       "10  FUNDO MUNICIPAL DE ASSISTENCIA SOCIAL DE TARTA...          500,000.00\n",
       "6     FUNDO MUNICIPAL DE ASSISTENCIA SOCIAL DE CUTIAS          355,357.00\n",
       "9   FUNDO MUNICIPAL DE ASSISTENCIA SOCIAL DE SERRA...          355,357.00"
      ]
     },
     "execution_count": 58,
     "metadata": {},
     "output_type": "execute_result"
    }
   ],
   "source": [
    "procura = pagamentos_covid19[(pagamentos_covid19['Unidade Gestora_x'] == 'FUNDO NACIONAL DE ASSISTENCIA SOCIAL') ]\n",
    "procura.groupby([\"Favorecido_x\"]).valor_pago_em_real.sum().reset_index().sort_values(\"valor_pago_em_real\", ascending=False).head(20)"
   ]
  },
  {
   "cell_type": "code",
   "execution_count": null,
   "metadata": {},
   "outputs": [],
   "source": []
  },
  {
   "cell_type": "code",
   "execution_count": null,
   "metadata": {},
   "outputs": [],
   "source": []
  },
  {
   "cell_type": "code",
   "execution_count": 59,
   "metadata": {},
   "outputs": [],
   "source": [
    "# Agrupa a soma de valores pagos em Gestão - 20 primeiros"
   ]
  },
  {
   "cell_type": "code",
   "execution_count": 60,
   "metadata": {},
   "outputs": [
    {
     "data": {
      "text/html": [
       "<div>\n",
       "<style scoped>\n",
       "    .dataframe tbody tr th:only-of-type {\n",
       "        vertical-align: middle;\n",
       "    }\n",
       "\n",
       "    .dataframe tbody tr th {\n",
       "        vertical-align: top;\n",
       "    }\n",
       "\n",
       "    .dataframe thead th {\n",
       "        text-align: right;\n",
       "    }\n",
       "</style>\n",
       "<table border=\"1\" class=\"dataframe\">\n",
       "  <thead>\n",
       "    <tr style=\"text-align: right;\">\n",
       "      <th></th>\n",
       "      <th>Gestão_x</th>\n",
       "      <th>valor_pago_em_real</th>\n",
       "    </tr>\n",
       "  </thead>\n",
       "  <tbody>\n",
       "    <tr>\n",
       "      <th>62</th>\n",
       "      <td>TESOURO NACIONAL</td>\n",
       "      <td>31,600,694,642.07</td>\n",
       "    </tr>\n",
       "    <tr>\n",
       "      <th>7</th>\n",
       "      <td>FUNDACAO OSWALDO CRUZ</td>\n",
       "      <td>1,963,735,949.02</td>\n",
       "    </tr>\n",
       "    <tr>\n",
       "      <th>4</th>\n",
       "      <td>EMPRESA BRASILEIRA DE SERVICOS HOSPITALARES</td>\n",
       "      <td>141,801,456.12</td>\n",
       "    </tr>\n",
       "    <tr>\n",
       "      <th>1</th>\n",
       "      <td>COMPANHIA NACIONAL DE ABASTECIMENTO</td>\n",
       "      <td>77,091,847.19</td>\n",
       "    </tr>\n",
       "    <tr>\n",
       "      <th>24</th>\n",
       "      <td>HOSPITAL DE CLINICAS DE PORTO ALEGRE</td>\n",
       "      <td>66,561,396.18</td>\n",
       "    </tr>\n",
       "    <tr>\n",
       "      <th>2</th>\n",
       "      <td>CONSELHO NAC.DE DESENV.CIENTIFICO TECNOLOGICO</td>\n",
       "      <td>55,636,181.41</td>\n",
       "    </tr>\n",
       "    <tr>\n",
       "      <th>90</th>\n",
       "      <td>UNIVERSIDADE FEDERAL DO RIO DE JANEIRO</td>\n",
       "      <td>23,509,180.04</td>\n",
       "    </tr>\n",
       "    <tr>\n",
       "      <th>74</th>\n",
       "      <td>UNIVERSIDADE FEDERAL DE MINAS GERAIS</td>\n",
       "      <td>20,713,369.86</td>\n",
       "    </tr>\n",
       "    <tr>\n",
       "      <th>25</th>\n",
       "      <td>HOSPITAL NOSSA SENHORA DA CONCEICAO S/A</td>\n",
       "      <td>14,111,895.69</td>\n",
       "    </tr>\n",
       "    <tr>\n",
       "      <th>13</th>\n",
       "      <td>FUNDACAO UNIVERSIDADE FEDERAL DE PELOTAS</td>\n",
       "      <td>13,496,374.12</td>\n",
       "    </tr>\n",
       "    <tr>\n",
       "      <th>6</th>\n",
       "      <td>FUNDACAO NACIONAL DO INDIO</td>\n",
       "      <td>12,535,327.45</td>\n",
       "    </tr>\n",
       "    <tr>\n",
       "      <th>76</th>\n",
       "      <td>UNIVERSIDADE FEDERAL DE PERNAMBUCO</td>\n",
       "      <td>9,670,486.22</td>\n",
       "    </tr>\n",
       "    <tr>\n",
       "      <th>8</th>\n",
       "      <td>FUNDACAO UNIVERSIDADE DE BRASILIA</td>\n",
       "      <td>9,547,265.46</td>\n",
       "    </tr>\n",
       "    <tr>\n",
       "      <th>34</th>\n",
       "      <td>INST.FED.DE EDUC.,CIENC.E TEC.DE GOIAS</td>\n",
       "      <td>9,505,833.44</td>\n",
       "    </tr>\n",
       "    <tr>\n",
       "      <th>17</th>\n",
       "      <td>FUNDACAO UNIVERSIDADE FEDERAL DE UBERLANDIA</td>\n",
       "      <td>6,548,209.46</td>\n",
       "    </tr>\n",
       "    <tr>\n",
       "      <th>80</th>\n",
       "      <td>UNIVERSIDADE FEDERAL DE SAO PAULO</td>\n",
       "      <td>6,047,466.56</td>\n",
       "    </tr>\n",
       "    <tr>\n",
       "      <th>92</th>\n",
       "      <td>UNIVERSIDADE FEDERAL DO RIO GRANDE DO NORTE</td>\n",
       "      <td>5,605,071.51</td>\n",
       "    </tr>\n",
       "    <tr>\n",
       "      <th>68</th>\n",
       "      <td>UNIVERSIDADE FEDERAL DE ALAGOAS</td>\n",
       "      <td>4,714,970.00</td>\n",
       "    </tr>\n",
       "    <tr>\n",
       "      <th>83</th>\n",
       "      <td>UNIVERSIDADE FEDERAL DO CEARA</td>\n",
       "      <td>3,384,404.11</td>\n",
       "    </tr>\n",
       "    <tr>\n",
       "      <th>79</th>\n",
       "      <td>UNIVERSIDADE FEDERAL DE SANTA MARIA - RS</td>\n",
       "      <td>3,094,946.75</td>\n",
       "    </tr>\n",
       "  </tbody>\n",
       "</table>\n",
       "</div>"
      ],
      "text/plain": [
       "                                         Gestão_x  valor_pago_em_real\n",
       "62                               TESOURO NACIONAL   31,600,694,642.07\n",
       "7                           FUNDACAO OSWALDO CRUZ    1,963,735,949.02\n",
       "4     EMPRESA BRASILEIRA DE SERVICOS HOSPITALARES      141,801,456.12\n",
       "1             COMPANHIA NACIONAL DE ABASTECIMENTO       77,091,847.19\n",
       "24           HOSPITAL DE CLINICAS DE PORTO ALEGRE       66,561,396.18\n",
       "2   CONSELHO NAC.DE DESENV.CIENTIFICO TECNOLOGICO       55,636,181.41\n",
       "90         UNIVERSIDADE FEDERAL DO RIO DE JANEIRO       23,509,180.04\n",
       "74           UNIVERSIDADE FEDERAL DE MINAS GERAIS       20,713,369.86\n",
       "25        HOSPITAL NOSSA SENHORA DA CONCEICAO S/A       14,111,895.69\n",
       "13       FUNDACAO UNIVERSIDADE FEDERAL DE PELOTAS       13,496,374.12\n",
       "6                      FUNDACAO NACIONAL DO INDIO       12,535,327.45\n",
       "76             UNIVERSIDADE FEDERAL DE PERNAMBUCO        9,670,486.22\n",
       "8               FUNDACAO UNIVERSIDADE DE BRASILIA        9,547,265.46\n",
       "34         INST.FED.DE EDUC.,CIENC.E TEC.DE GOIAS        9,505,833.44\n",
       "17    FUNDACAO UNIVERSIDADE FEDERAL DE UBERLANDIA        6,548,209.46\n",
       "80              UNIVERSIDADE FEDERAL DE SAO PAULO        6,047,466.56\n",
       "92    UNIVERSIDADE FEDERAL DO RIO GRANDE DO NORTE        5,605,071.51\n",
       "68                UNIVERSIDADE FEDERAL DE ALAGOAS        4,714,970.00\n",
       "83                  UNIVERSIDADE FEDERAL DO CEARA        3,384,404.11\n",
       "79       UNIVERSIDADE FEDERAL DE SANTA MARIA - RS        3,094,946.75"
      ]
     },
     "execution_count": 60,
     "metadata": {},
     "output_type": "execute_result"
    }
   ],
   "source": [
    "pagamentos_covid19.groupby([\"Gestão_x\"]).valor_pago_em_real.sum().reset_index().sort_values(\"valor_pago_em_real\", ascending=False).head(20)"
   ]
  },
  {
   "cell_type": "code",
   "execution_count": null,
   "metadata": {},
   "outputs": [],
   "source": []
  },
  {
   "cell_type": "code",
   "execution_count": 61,
   "metadata": {},
   "outputs": [],
   "source": [
    "# Agrupa a soma de valores pagos em Favorecido - 20 primeiros"
   ]
  },
  {
   "cell_type": "code",
   "execution_count": 62,
   "metadata": {},
   "outputs": [
    {
     "data": {
      "text/html": [
       "<div>\n",
       "<style scoped>\n",
       "    .dataframe tbody tr th:only-of-type {\n",
       "        vertical-align: middle;\n",
       "    }\n",
       "\n",
       "    .dataframe tbody tr th {\n",
       "        vertical-align: top;\n",
       "    }\n",
       "\n",
       "    .dataframe thead th {\n",
       "        text-align: right;\n",
       "    }\n",
       "</style>\n",
       "<table border=\"1\" class=\"dataframe\">\n",
       "  <thead>\n",
       "    <tr style=\"text-align: right;\">\n",
       "      <th></th>\n",
       "      <th>Favorecido_x</th>\n",
       "      <th>Código Favorecido_x</th>\n",
       "      <th>valor_pago_em_real</th>\n",
       "    </tr>\n",
       "  </thead>\n",
       "  <tbody>\n",
       "    <tr>\n",
       "      <th>2098</th>\n",
       "      <td>DIRETORIA EXECUTIVA DO FUNDO NAC. DE SAUDE</td>\n",
       "      <td>257001</td>\n",
       "      <td>23,591,408,795.29</td>\n",
       "    </tr>\n",
       "    <tr>\n",
       "      <th>4072</th>\n",
       "      <td>FUNDO NACIONAL DE ASSISTENCIA SOCIAL</td>\n",
       "      <td>330013</td>\n",
       "      <td>2,442,593,244.31</td>\n",
       "    </tr>\n",
       "    <tr>\n",
       "      <th>856</th>\n",
       "      <td>ASTRAZENECA UK LIMITED</td>\n",
       "      <td>EX2544480</td>\n",
       "      <td>1,284,023,632.94</td>\n",
       "    </tr>\n",
       "    <tr>\n",
       "      <th>4207</th>\n",
       "      <td>GLOBAL BASE DEVELOPMENT HK LIMITED</td>\n",
       "      <td>EX2590112</td>\n",
       "      <td>708,226,249.50</td>\n",
       "    </tr>\n",
       "    <tr>\n",
       "      <th>6118</th>\n",
       "      <td>ORGANIZACAO PAN-AMERICANA DA SAUDE/ORGANIZACAO...</td>\n",
       "      <td>04096431000154</td>\n",
       "      <td>451,471,585.65</td>\n",
       "    </tr>\n",
       "    <tr>\n",
       "      <th>4631</th>\n",
       "      <td>INTERMED EQUIPAMENTO MEDICO HOSPITALAR LTDA</td>\n",
       "      <td>49520521000169</td>\n",
       "      <td>258,180,000.00</td>\n",
       "    </tr>\n",
       "    <tr>\n",
       "      <th>1816</th>\n",
       "      <td>COORDENACAO-GERAL DE GESTAO DE PESSOAS</td>\n",
       "      <td>250006</td>\n",
       "      <td>234,845,456.81</td>\n",
       "    </tr>\n",
       "    <tr>\n",
       "      <th>5390</th>\n",
       "      <td>MAGNAMED TECNOLOGIA MEDICA S/A</td>\n",
       "      <td>01298443000254</td>\n",
       "      <td>229,299,270.00</td>\n",
       "    </tr>\n",
       "    <tr>\n",
       "      <th>2851</th>\n",
       "      <td>FUNDO ESTADUAL DE SAUDE</td>\n",
       "      <td>83369835000140</td>\n",
       "      <td>219,529,556.00</td>\n",
       "    </tr>\n",
       "    <tr>\n",
       "      <th>936</th>\n",
       "      <td>BANCO DO BRASIL SA</td>\n",
       "      <td>00000000000191</td>\n",
       "      <td>192,916,722.47</td>\n",
       "    </tr>\n",
       "    <tr>\n",
       "      <th>2701</th>\n",
       "      <td>FIOTEC - FUNDACAO PARA O DESENVOLVIMENTO CIENT...</td>\n",
       "      <td>02385669000174</td>\n",
       "      <td>188,258,712.35</td>\n",
       "    </tr>\n",
       "    <tr>\n",
       "      <th>2855</th>\n",
       "      <td>FUNDO ESTADUAL DE SAUDE - FUNDES</td>\n",
       "      <td>13851748000140</td>\n",
       "      <td>153,561,216.00</td>\n",
       "    </tr>\n",
       "    <tr>\n",
       "      <th>4602</th>\n",
       "      <td>INSTITUTO DE BIOLOGIA MOLECULAR DO PARANA - IBMP</td>\n",
       "      <td>03585986000105</td>\n",
       "      <td>120,840,152.25</td>\n",
       "    </tr>\n",
       "    <tr>\n",
       "      <th>2850</th>\n",
       "      <td>FUNDO ESTADUAL DE SAUDE</td>\n",
       "      <td>74031865000151</td>\n",
       "      <td>108,429,830.00</td>\n",
       "    </tr>\n",
       "    <tr>\n",
       "      <th>2857</th>\n",
       "      <td>FUNDO ESTADUAL DE SAUDE DO ESTADO DA BAHIA</td>\n",
       "      <td>05816630000152</td>\n",
       "      <td>95,366,269.00</td>\n",
       "    </tr>\n",
       "    <tr>\n",
       "      <th>2817</th>\n",
       "      <td>FUNDACAO DE DESENVOLVIMENTO DA PESQUISA</td>\n",
       "      <td>18720938000141</td>\n",
       "      <td>84,050,573.91</td>\n",
       "    </tr>\n",
       "    <tr>\n",
       "      <th>7266</th>\n",
       "      <td>TAM LINHAS AEREAS S/A.</td>\n",
       "      <td>02012862000160</td>\n",
       "      <td>80,201,277.91</td>\n",
       "    </tr>\n",
       "    <tr>\n",
       "      <th>2832</th>\n",
       "      <td>FUNDO DE SAUDE DO DISTRITO FEDERAL</td>\n",
       "      <td>12116247000157</td>\n",
       "      <td>77,565,704.00</td>\n",
       "    </tr>\n",
       "    <tr>\n",
       "      <th>2852</th>\n",
       "      <td>FUNDO ESTADUAL DE SAUDE</td>\n",
       "      <td>87182846000178</td>\n",
       "      <td>76,869,592.00</td>\n",
       "    </tr>\n",
       "    <tr>\n",
       "      <th>5098</th>\n",
       "      <td>LEISTUNG EQUIPAMENTOS LTDA.</td>\n",
       "      <td>04187384000154</td>\n",
       "      <td>73,238,560.00</td>\n",
       "    </tr>\n",
       "  </tbody>\n",
       "</table>\n",
       "</div>"
      ],
      "text/plain": [
       "                                           Favorecido_x Código Favorecido_x  \\\n",
       "2098         DIRETORIA EXECUTIVA DO FUNDO NAC. DE SAUDE              257001   \n",
       "4072               FUNDO NACIONAL DE ASSISTENCIA SOCIAL              330013   \n",
       "856                              ASTRAZENECA UK LIMITED           EX2544480   \n",
       "4207                 GLOBAL BASE DEVELOPMENT HK LIMITED           EX2590112   \n",
       "6118  ORGANIZACAO PAN-AMERICANA DA SAUDE/ORGANIZACAO...      04096431000154   \n",
       "4631        INTERMED EQUIPAMENTO MEDICO HOSPITALAR LTDA      49520521000169   \n",
       "1816             COORDENACAO-GERAL DE GESTAO DE PESSOAS              250006   \n",
       "5390                     MAGNAMED TECNOLOGIA MEDICA S/A      01298443000254   \n",
       "2851                            FUNDO ESTADUAL DE SAUDE      83369835000140   \n",
       "936                                  BANCO DO BRASIL SA      00000000000191   \n",
       "2701  FIOTEC - FUNDACAO PARA O DESENVOLVIMENTO CIENT...      02385669000174   \n",
       "2855                   FUNDO ESTADUAL DE SAUDE - FUNDES      13851748000140   \n",
       "4602   INSTITUTO DE BIOLOGIA MOLECULAR DO PARANA - IBMP      03585986000105   \n",
       "2850                            FUNDO ESTADUAL DE SAUDE      74031865000151   \n",
       "2857         FUNDO ESTADUAL DE SAUDE DO ESTADO DA BAHIA      05816630000152   \n",
       "2817            FUNDACAO DE DESENVOLVIMENTO DA PESQUISA      18720938000141   \n",
       "7266                             TAM LINHAS AEREAS S/A.      02012862000160   \n",
       "2832                 FUNDO DE SAUDE DO DISTRITO FEDERAL      12116247000157   \n",
       "2852                            FUNDO ESTADUAL DE SAUDE      87182846000178   \n",
       "5098                        LEISTUNG EQUIPAMENTOS LTDA.      04187384000154   \n",
       "\n",
       "      valor_pago_em_real  \n",
       "2098   23,591,408,795.29  \n",
       "4072    2,442,593,244.31  \n",
       "856     1,284,023,632.94  \n",
       "4207      708,226,249.50  \n",
       "6118      451,471,585.65  \n",
       "4631      258,180,000.00  \n",
       "1816      234,845,456.81  \n",
       "5390      229,299,270.00  \n",
       "2851      219,529,556.00  \n",
       "936       192,916,722.47  \n",
       "2701      188,258,712.35  \n",
       "2855      153,561,216.00  \n",
       "4602      120,840,152.25  \n",
       "2850      108,429,830.00  \n",
       "2857       95,366,269.00  \n",
       "2817       84,050,573.91  \n",
       "7266       80,201,277.91  \n",
       "2832       77,565,704.00  \n",
       "2852       76,869,592.00  \n",
       "5098       73,238,560.00  "
      ]
     },
     "execution_count": 62,
     "metadata": {},
     "output_type": "execute_result"
    }
   ],
   "source": [
    "pagamentos_covid19.groupby([\"Favorecido_x\", \"Código Favorecido_x\"]).valor_pago_em_real.sum().reset_index().sort_values(\"valor_pago_em_real\", ascending=False).head(20)"
   ]
  },
  {
   "cell_type": "code",
   "execution_count": 63,
   "metadata": {},
   "outputs": [],
   "source": [
    "procura = pagamentos_covid19[(pagamentos_covid19['Código Favorecido_x'] == '49520521000169') ]"
   ]
  },
  {
   "cell_type": "code",
   "execution_count": 64,
   "metadata": {},
   "outputs": [
    {
     "data": {
      "text/html": [
       "<div>\n",
       "<style scoped>\n",
       "    .dataframe tbody tr th:only-of-type {\n",
       "        vertical-align: middle;\n",
       "    }\n",
       "\n",
       "    .dataframe tbody tr th {\n",
       "        vertical-align: top;\n",
       "    }\n",
       "\n",
       "    .dataframe thead th {\n",
       "        text-align: right;\n",
       "    }\n",
       "</style>\n",
       "<table border=\"1\" class=\"dataframe\">\n",
       "  <thead>\n",
       "    <tr style=\"text-align: right;\">\n",
       "      <th></th>\n",
       "      <th>Código Empenho</th>\n",
       "      <th>Id Empenho</th>\n",
       "      <th>valor_pago_em_real</th>\n",
       "    </tr>\n",
       "  </thead>\n",
       "  <tbody>\n",
       "    <tr>\n",
       "      <th>1</th>\n",
       "      <td>250005000012020NE000104</td>\n",
       "      <td>178500504</td>\n",
       "      <td>258,000,000.00</td>\n",
       "    </tr>\n",
       "    <tr>\n",
       "      <th>0</th>\n",
       "      <td>160166000012020NE800016</td>\n",
       "      <td>182300433</td>\n",
       "      <td>180,000.00</td>\n",
       "    </tr>\n",
       "  </tbody>\n",
       "</table>\n",
       "</div>"
      ],
      "text/plain": [
       "            Código Empenho Id Empenho  valor_pago_em_real\n",
       "1  250005000012020NE000104  178500504      258,000,000.00\n",
       "0  160166000012020NE800016  182300433          180,000.00"
      ]
     },
     "execution_count": 64,
     "metadata": {},
     "output_type": "execute_result"
    }
   ],
   "source": [
    "procura.groupby([\"Código Empenho\", \"Id Empenho\"]).valor_pago_em_real.sum().reset_index().sort_values(\"valor_pago_em_real\", ascending=False)"
   ]
  },
  {
   "cell_type": "code",
   "execution_count": 65,
   "metadata": {},
   "outputs": [
    {
     "data": {
      "text/html": [
       "<div>\n",
       "<style scoped>\n",
       "    .dataframe tbody tr th:only-of-type {\n",
       "        vertical-align: middle;\n",
       "    }\n",
       "\n",
       "    .dataframe tbody tr th {\n",
       "        vertical-align: top;\n",
       "    }\n",
       "\n",
       "    .dataframe thead th {\n",
       "        text-align: right;\n",
       "    }\n",
       "</style>\n",
       "<table border=\"1\" class=\"dataframe\">\n",
       "  <thead>\n",
       "    <tr style=\"text-align: right;\">\n",
       "      <th></th>\n",
       "      <th>Data Emissão_x</th>\n",
       "      <th>Código Empenho</th>\n",
       "      <th>Id Empenho</th>\n",
       "      <th>Órgão_x</th>\n",
       "      <th>Unidade Gestora_x</th>\n",
       "      <th>Código Favorecido_x</th>\n",
       "      <th>Favorecido_x</th>\n",
       "      <th>Valor do Empenho Convertido pra R$</th>\n",
       "      <th>valor_pago_em_real</th>\n",
       "      <th>Valor Restos a Pagar Inscritos (R$)</th>\n",
       "      <th>Observação_x</th>\n",
       "      <th>Observação_y</th>\n",
       "      <th>Modalidade de Licitação</th>\n",
       "    </tr>\n",
       "  </thead>\n",
       "  <tbody>\n",
       "    <tr>\n",
       "      <th>45721</th>\n",
       "      <td>09/04/2020</td>\n",
       "      <td>160166000012020NE800016</td>\n",
       "      <td>182300433</td>\n",
       "      <td>Comando do Exército</td>\n",
       "      <td>HOSPITAL GERAL DE BELEM</td>\n",
       "      <td>49520521000169</td>\n",
       "      <td>INTERMED EQUIPAMENTO MEDICO HOSPITALAR LTDA</td>\n",
       "      <td>180,000.00</td>\n",
       "      <td>10,530.00</td>\n",
       "      <td>0.00</td>\n",
       "      <td>AQUIS DE MAT PERM P DIV AP TEC DO HGEBE, CONF ...</td>\n",
       "      <td>RETENCAO DA NFE 53339 DE 05/08/2020 NO VALOR D...</td>\n",
       "      <td>Dispensa de Licitação</td>\n",
       "    </tr>\n",
       "    <tr>\n",
       "      <th>45722</th>\n",
       "      <td>09/04/2020</td>\n",
       "      <td>160166000012020NE800016</td>\n",
       "      <td>182300433</td>\n",
       "      <td>Comando do Exército</td>\n",
       "      <td>HOSPITAL GERAL DE BELEM</td>\n",
       "      <td>49520521000169</td>\n",
       "      <td>INTERMED EQUIPAMENTO MEDICO HOSPITALAR LTDA</td>\n",
       "      <td>180,000.00</td>\n",
       "      <td>169,470.00</td>\n",
       "      <td>0.00</td>\n",
       "      <td>AQUIS DE MAT PERM P DIV AP TEC DO HGEBE, CONF ...</td>\n",
       "      <td>PAGAMENTO DA NFE 53339 DE 05/08/2020 NO VALOR ...</td>\n",
       "      <td>Dispensa de Licitação</td>\n",
       "    </tr>\n",
       "    <tr>\n",
       "      <th>60772</th>\n",
       "      <td>13/04/2020</td>\n",
       "      <td>250005000012020NE000104</td>\n",
       "      <td>178500504</td>\n",
       "      <td>Ministério da Saúde - Unidades com vínculo di</td>\n",
       "      <td>DEPARTAMENTO DE LOGISTICA EM SAUDE - DLOG</td>\n",
       "      <td>49520521000169</td>\n",
       "      <td>INTERMED EQUIPAMENTO MEDICO HOSPITALAR LTDA</td>\n",
       "      <td>258,000,000.00</td>\n",
       "      <td>45,630.00</td>\n",
       "      <td>0.00</td>\n",
       "      <td>ATENDER DESPESAS COM AQUISICAO DE 4.300 VENTIL...</td>\n",
       "      <td>TRIBUTOS FEDERAIS 5,85 RECEITA 6147 IN 1234/20...</td>\n",
       "      <td>Não se Aplica</td>\n",
       "    </tr>\n",
       "    <tr>\n",
       "      <th>60773</th>\n",
       "      <td>13/04/2020</td>\n",
       "      <td>250005000012020NE000104</td>\n",
       "      <td>178500504</td>\n",
       "      <td>Ministério da Saúde - Unidades com vínculo di</td>\n",
       "      <td>DEPARTAMENTO DE LOGISTICA EM SAUDE - DLOG</td>\n",
       "      <td>49520521000169</td>\n",
       "      <td>INTERMED EQUIPAMENTO MEDICO HOSPITALAR LTDA</td>\n",
       "      <td>258,000,000.00</td>\n",
       "      <td>351,000.00</td>\n",
       "      <td>0.00</td>\n",
       "      <td>ATENDER DESPESAS COM AQUISICAO DE 4.300 VENTIL...</td>\n",
       "      <td>TRIBUTOS FEDERAIS 5,85 RECEITA 6147 IN 1234/20...</td>\n",
       "      <td>Não se Aplica</td>\n",
       "    </tr>\n",
       "    <tr>\n",
       "      <th>60774</th>\n",
       "      <td>13/04/2020</td>\n",
       "      <td>250005000012020NE000104</td>\n",
       "      <td>178500504</td>\n",
       "      <td>Ministério da Saúde - Unidades com vínculo di</td>\n",
       "      <td>DEPARTAMENTO DE LOGISTICA EM SAUDE - DLOG</td>\n",
       "      <td>49520521000169</td>\n",
       "      <td>INTERMED EQUIPAMENTO MEDICO HOSPITALAR LTDA</td>\n",
       "      <td>258,000,000.00</td>\n",
       "      <td>351,000.00</td>\n",
       "      <td>0.00</td>\n",
       "      <td>ATENDER DESPESAS COM AQUISICAO DE 4.300 VENTIL...</td>\n",
       "      <td>TRIBUTOS FEDERAIS 5,85 RECEITA 6147 IN 1234/20...</td>\n",
       "      <td>Não se Aplica</td>\n",
       "    </tr>\n",
       "    <tr>\n",
       "      <th>...</th>\n",
       "      <td>...</td>\n",
       "      <td>...</td>\n",
       "      <td>...</td>\n",
       "      <td>...</td>\n",
       "      <td>...</td>\n",
       "      <td>...</td>\n",
       "      <td>...</td>\n",
       "      <td>...</td>\n",
       "      <td>...</td>\n",
       "      <td>...</td>\n",
       "      <td>...</td>\n",
       "      <td>...</td>\n",
       "      <td>...</td>\n",
       "    </tr>\n",
       "    <tr>\n",
       "      <th>60841</th>\n",
       "      <td>13/04/2020</td>\n",
       "      <td>250005000012020NE000104</td>\n",
       "      <td>178500504</td>\n",
       "      <td>Ministério da Saúde - Unidades com vínculo di</td>\n",
       "      <td>DEPARTAMENTO DE LOGISTICA EM SAUDE - DLOG</td>\n",
       "      <td>49520521000169</td>\n",
       "      <td>INTERMED EQUIPAMENTO MEDICO HOSPITALAR LTDA</td>\n",
       "      <td>258,000,000.00</td>\n",
       "      <td>2,485,560.00</td>\n",
       "      <td>0.00</td>\n",
       "      <td>ATENDER DESPESAS COM AQUISICAO DE 4.300 VENTIL...</td>\n",
       "      <td>PAGAMENTO PARA COMPRA DE 44 VENTILADORES IX5, ...</td>\n",
       "      <td>Não se Aplica</td>\n",
       "    </tr>\n",
       "    <tr>\n",
       "      <th>60842</th>\n",
       "      <td>13/04/2020</td>\n",
       "      <td>250005000012020NE000104</td>\n",
       "      <td>178500504</td>\n",
       "      <td>Ministério da Saúde - Unidades com vínculo di</td>\n",
       "      <td>DEPARTAMENTO DE LOGISTICA EM SAUDE - DLOG</td>\n",
       "      <td>49520521000169</td>\n",
       "      <td>INTERMED EQUIPAMENTO MEDICO HOSPITALAR LTDA</td>\n",
       "      <td>258,000,000.00</td>\n",
       "      <td>1,694,700.00</td>\n",
       "      <td>0.00</td>\n",
       "      <td>ATENDER DESPESAS COM AQUISICAO DE 4.300 VENTIL...</td>\n",
       "      <td>PAGAMENTO PARA COMPRA DE 30 VENTILADORES IX5, ...</td>\n",
       "      <td>Não se Aplica</td>\n",
       "    </tr>\n",
       "    <tr>\n",
       "      <th>60843</th>\n",
       "      <td>13/04/2020</td>\n",
       "      <td>250005000012020NE000104</td>\n",
       "      <td>178500504</td>\n",
       "      <td>Ministério da Saúde - Unidades com vínculo di</td>\n",
       "      <td>DEPARTAMENTO DE LOGISTICA EM SAUDE - DLOG</td>\n",
       "      <td>49520521000169</td>\n",
       "      <td>INTERMED EQUIPAMENTO MEDICO HOSPITALAR LTDA</td>\n",
       "      <td>258,000,000.00</td>\n",
       "      <td>1,694,700.00</td>\n",
       "      <td>0.00</td>\n",
       "      <td>ATENDER DESPESAS COM AQUISICAO DE 4.300 VENTIL...</td>\n",
       "      <td>PAGAMENTO PARA COMPRA DE 30 VENTILADORES IX5, ...</td>\n",
       "      <td>Não se Aplica</td>\n",
       "    </tr>\n",
       "    <tr>\n",
       "      <th>60844</th>\n",
       "      <td>13/04/2020</td>\n",
       "      <td>250005000012020NE000104</td>\n",
       "      <td>178500504</td>\n",
       "      <td>Ministério da Saúde - Unidades com vínculo di</td>\n",
       "      <td>DEPARTAMENTO DE LOGISTICA EM SAUDE - DLOG</td>\n",
       "      <td>49520521000169</td>\n",
       "      <td>INTERMED EQUIPAMENTO MEDICO HOSPITALAR LTDA</td>\n",
       "      <td>258,000,000.00</td>\n",
       "      <td>8,301,150.00</td>\n",
       "      <td>0.00</td>\n",
       "      <td>ATENDER DESPESAS COM AQUISICAO DE 4.300 VENTIL...</td>\n",
       "      <td>IN 1234/2012</td>\n",
       "      <td>Não se Aplica</td>\n",
       "    </tr>\n",
       "    <tr>\n",
       "      <th>60845</th>\n",
       "      <td>13/04/2020</td>\n",
       "      <td>250005000012020NE000104</td>\n",
       "      <td>178500504</td>\n",
       "      <td>Ministério da Saúde - Unidades com vínculo di</td>\n",
       "      <td>DEPARTAMENTO DE LOGISTICA EM SAUDE - DLOG</td>\n",
       "      <td>49520521000169</td>\n",
       "      <td>INTERMED EQUIPAMENTO MEDICO HOSPITALAR LTDA</td>\n",
       "      <td>258,000,000.00</td>\n",
       "      <td>133,598,850.00</td>\n",
       "      <td>0.00</td>\n",
       "      <td>ATENDER DESPESAS COM AQUISICAO DE 4.300 VENTIL...</td>\n",
       "      <td>PGTO PARA EMPRESA INTERMED EQUIPAMENTOS REF. A...</td>\n",
       "      <td>Não se Aplica</td>\n",
       "    </tr>\n",
       "  </tbody>\n",
       "</table>\n",
       "<p>76 rows × 13 columns</p>\n",
       "</div>"
      ],
      "text/plain": [
       "      Data Emissão_x           Código Empenho Id Empenho  \\\n",
       "45721     09/04/2020  160166000012020NE800016  182300433   \n",
       "45722     09/04/2020  160166000012020NE800016  182300433   \n",
       "60772     13/04/2020  250005000012020NE000104  178500504   \n",
       "60773     13/04/2020  250005000012020NE000104  178500504   \n",
       "60774     13/04/2020  250005000012020NE000104  178500504   \n",
       "...              ...                      ...        ...   \n",
       "60841     13/04/2020  250005000012020NE000104  178500504   \n",
       "60842     13/04/2020  250005000012020NE000104  178500504   \n",
       "60843     13/04/2020  250005000012020NE000104  178500504   \n",
       "60844     13/04/2020  250005000012020NE000104  178500504   \n",
       "60845     13/04/2020  250005000012020NE000104  178500504   \n",
       "\n",
       "                                             Órgão_x  \\\n",
       "45721                            Comando do Exército   \n",
       "45722                            Comando do Exército   \n",
       "60772  Ministério da Saúde - Unidades com vínculo di   \n",
       "60773  Ministério da Saúde - Unidades com vínculo di   \n",
       "60774  Ministério da Saúde - Unidades com vínculo di   \n",
       "...                                              ...   \n",
       "60841  Ministério da Saúde - Unidades com vínculo di   \n",
       "60842  Ministério da Saúde - Unidades com vínculo di   \n",
       "60843  Ministério da Saúde - Unidades com vínculo di   \n",
       "60844  Ministério da Saúde - Unidades com vínculo di   \n",
       "60845  Ministério da Saúde - Unidades com vínculo di   \n",
       "\n",
       "                               Unidade Gestora_x Código Favorecido_x  \\\n",
       "45721                    HOSPITAL GERAL DE BELEM      49520521000169   \n",
       "45722                    HOSPITAL GERAL DE BELEM      49520521000169   \n",
       "60772  DEPARTAMENTO DE LOGISTICA EM SAUDE - DLOG      49520521000169   \n",
       "60773  DEPARTAMENTO DE LOGISTICA EM SAUDE - DLOG      49520521000169   \n",
       "60774  DEPARTAMENTO DE LOGISTICA EM SAUDE - DLOG      49520521000169   \n",
       "...                                          ...                 ...   \n",
       "60841  DEPARTAMENTO DE LOGISTICA EM SAUDE - DLOG      49520521000169   \n",
       "60842  DEPARTAMENTO DE LOGISTICA EM SAUDE - DLOG      49520521000169   \n",
       "60843  DEPARTAMENTO DE LOGISTICA EM SAUDE - DLOG      49520521000169   \n",
       "60844  DEPARTAMENTO DE LOGISTICA EM SAUDE - DLOG      49520521000169   \n",
       "60845  DEPARTAMENTO DE LOGISTICA EM SAUDE - DLOG      49520521000169   \n",
       "\n",
       "                                      Favorecido_x  \\\n",
       "45721  INTERMED EQUIPAMENTO MEDICO HOSPITALAR LTDA   \n",
       "45722  INTERMED EQUIPAMENTO MEDICO HOSPITALAR LTDA   \n",
       "60772  INTERMED EQUIPAMENTO MEDICO HOSPITALAR LTDA   \n",
       "60773  INTERMED EQUIPAMENTO MEDICO HOSPITALAR LTDA   \n",
       "60774  INTERMED EQUIPAMENTO MEDICO HOSPITALAR LTDA   \n",
       "...                                            ...   \n",
       "60841  INTERMED EQUIPAMENTO MEDICO HOSPITALAR LTDA   \n",
       "60842  INTERMED EQUIPAMENTO MEDICO HOSPITALAR LTDA   \n",
       "60843  INTERMED EQUIPAMENTO MEDICO HOSPITALAR LTDA   \n",
       "60844  INTERMED EQUIPAMENTO MEDICO HOSPITALAR LTDA   \n",
       "60845  INTERMED EQUIPAMENTO MEDICO HOSPITALAR LTDA   \n",
       "\n",
       "       Valor do Empenho Convertido pra R$  valor_pago_em_real  \\\n",
       "45721                          180,000.00           10,530.00   \n",
       "45722                          180,000.00          169,470.00   \n",
       "60772                      258,000,000.00           45,630.00   \n",
       "60773                      258,000,000.00          351,000.00   \n",
       "60774                      258,000,000.00          351,000.00   \n",
       "...                                   ...                 ...   \n",
       "60841                      258,000,000.00        2,485,560.00   \n",
       "60842                      258,000,000.00        1,694,700.00   \n",
       "60843                      258,000,000.00        1,694,700.00   \n",
       "60844                      258,000,000.00        8,301,150.00   \n",
       "60845                      258,000,000.00      133,598,850.00   \n",
       "\n",
       "       Valor Restos a Pagar Inscritos (R$)  \\\n",
       "45721                                 0.00   \n",
       "45722                                 0.00   \n",
       "60772                                 0.00   \n",
       "60773                                 0.00   \n",
       "60774                                 0.00   \n",
       "...                                    ...   \n",
       "60841                                 0.00   \n",
       "60842                                 0.00   \n",
       "60843                                 0.00   \n",
       "60844                                 0.00   \n",
       "60845                                 0.00   \n",
       "\n",
       "                                            Observação_x  \\\n",
       "45721  AQUIS DE MAT PERM P DIV AP TEC DO HGEBE, CONF ...   \n",
       "45722  AQUIS DE MAT PERM P DIV AP TEC DO HGEBE, CONF ...   \n",
       "60772  ATENDER DESPESAS COM AQUISICAO DE 4.300 VENTIL...   \n",
       "60773  ATENDER DESPESAS COM AQUISICAO DE 4.300 VENTIL...   \n",
       "60774  ATENDER DESPESAS COM AQUISICAO DE 4.300 VENTIL...   \n",
       "...                                                  ...   \n",
       "60841  ATENDER DESPESAS COM AQUISICAO DE 4.300 VENTIL...   \n",
       "60842  ATENDER DESPESAS COM AQUISICAO DE 4.300 VENTIL...   \n",
       "60843  ATENDER DESPESAS COM AQUISICAO DE 4.300 VENTIL...   \n",
       "60844  ATENDER DESPESAS COM AQUISICAO DE 4.300 VENTIL...   \n",
       "60845  ATENDER DESPESAS COM AQUISICAO DE 4.300 VENTIL...   \n",
       "\n",
       "                                            Observação_y  \\\n",
       "45721  RETENCAO DA NFE 53339 DE 05/08/2020 NO VALOR D...   \n",
       "45722  PAGAMENTO DA NFE 53339 DE 05/08/2020 NO VALOR ...   \n",
       "60772  TRIBUTOS FEDERAIS 5,85 RECEITA 6147 IN 1234/20...   \n",
       "60773  TRIBUTOS FEDERAIS 5,85 RECEITA 6147 IN 1234/20...   \n",
       "60774  TRIBUTOS FEDERAIS 5,85 RECEITA 6147 IN 1234/20...   \n",
       "...                                                  ...   \n",
       "60841  PAGAMENTO PARA COMPRA DE 44 VENTILADORES IX5, ...   \n",
       "60842  PAGAMENTO PARA COMPRA DE 30 VENTILADORES IX5, ...   \n",
       "60843  PAGAMENTO PARA COMPRA DE 30 VENTILADORES IX5, ...   \n",
       "60844                                       IN 1234/2012   \n",
       "60845  PGTO PARA EMPRESA INTERMED EQUIPAMENTOS REF. A...   \n",
       "\n",
       "      Modalidade de Licitação  \n",
       "45721   Dispensa de Licitação  \n",
       "45722   Dispensa de Licitação  \n",
       "60772           Não se Aplica  \n",
       "60773           Não se Aplica  \n",
       "60774           Não se Aplica  \n",
       "...                       ...  \n",
       "60841           Não se Aplica  \n",
       "60842           Não se Aplica  \n",
       "60843           Não se Aplica  \n",
       "60844           Não se Aplica  \n",
       "60845           Não se Aplica  \n",
       "\n",
       "[76 rows x 13 columns]"
      ]
     },
     "execution_count": 65,
     "metadata": {},
     "output_type": "execute_result"
    }
   ],
   "source": [
    "procura[[\"Data Emissão_x\",\"Código Empenho\", \"Id Empenho\", \"Órgão_x\", \"Unidade Gestora_x\", \"Código Favorecido_x\", \"Favorecido_x\", \"Valor do Empenho Convertido pra R$\", \"valor_pago_em_real\", \"Valor Restos a Pagar Inscritos (R$)\", \"Observação_x\", \"Observação_y\",  \"Modalidade de Licitação\"]]"
   ]
  },
  {
   "cell_type": "code",
   "execution_count": null,
   "metadata": {},
   "outputs": [],
   "source": []
  },
  {
   "cell_type": "code",
   "execution_count": 66,
   "metadata": {},
   "outputs": [],
   "source": [
    "procura = pagamentos_covid19[(pagamentos_covid19['Código Favorecido_x'] == 'EX2590112') ]"
   ]
  },
  {
   "cell_type": "code",
   "execution_count": 67,
   "metadata": {},
   "outputs": [
    {
     "data": {
      "text/plain": [
       "708226249.5"
      ]
     },
     "execution_count": 67,
     "metadata": {},
     "output_type": "execute_result"
    }
   ],
   "source": [
    "procura['valor_pago_em_real'].sum()"
   ]
  },
  {
   "cell_type": "code",
   "execution_count": null,
   "metadata": {},
   "outputs": [],
   "source": []
  },
  {
   "cell_type": "code",
   "execution_count": 68,
   "metadata": {},
   "outputs": [],
   "source": [
    "# Salva um CSV para criar gráfico"
   ]
  },
  {
   "cell_type": "code",
   "execution_count": 69,
   "metadata": {},
   "outputs": [],
   "source": [
    "salva = pagamentos_covid19.groupby([\"Favorecido_x\", \"Código Favorecido_x\"]).valor_pago_em_real.sum().reset_index().sort_values(\"valor_pago_em_real\", ascending=False)"
   ]
  },
  {
   "cell_type": "code",
   "execution_count": 71,
   "metadata": {},
   "outputs": [
    {
     "name": "stdout",
     "output_type": "stream",
     "text": [
      "<class 'pandas.core.frame.DataFrame'>\n",
      "Int64Index: 7776 entries, 2098 to 2369\n",
      "Data columns (total 3 columns):\n",
      " #   Column               Non-Null Count  Dtype  \n",
      "---  ------               --------------  -----  \n",
      " 0   Favorecido_x         7776 non-null   object \n",
      " 1   Código Favorecido_x  7776 non-null   object \n",
      " 2   valor_pago_em_real   7776 non-null   float64\n",
      "dtypes: float64(1), object(2)\n",
      "memory usage: 243.0+ KB\n"
     ]
    }
   ],
   "source": [
    "salva.info()"
   ]
  },
  {
   "cell_type": "code",
   "execution_count": 72,
   "metadata": {},
   "outputs": [],
   "source": [
    "salva.to_csv('resultados/graficos/soma_ordenada_favorecidos_pagamentos_feitos_de_empenhos_covid19_ate_17_setembro_2020.csv', index=False)"
   ]
  },
  {
   "cell_type": "code",
   "execution_count": null,
   "metadata": {},
   "outputs": [],
   "source": []
  },
  {
   "cell_type": "code",
   "execution_count": null,
   "metadata": {},
   "outputs": [],
   "source": []
  },
  {
   "cell_type": "code",
   "execution_count": 73,
   "metadata": {},
   "outputs": [],
   "source": [
    "import seaborn as sns\n",
    "import matplotlib.pyplot as plt\n",
    "\n",
    "%matplotlib inline"
   ]
  },
  {
   "cell_type": "code",
   "execution_count": 74,
   "metadata": {},
   "outputs": [],
   "source": [
    "graf = pagamentos_covid19.groupby([\"Favorecido_x\", \"Código Favorecido_x\"]).valor_pago_em_real.sum().reset_index().sort_values(\"valor_pago_em_real\", ascending=False).head(15)\n",
    "graf.rename(columns = {'Favorecido_x':'instituicao_empresa_favorecida'},inplace = True)\n",
    "graf.rename(columns = {'Código Favorecido_x':'cod_favorecido'},inplace = True)"
   ]
  },
  {
   "cell_type": "code",
   "execution_count": 75,
   "metadata": {},
   "outputs": [
    {
     "name": "stdout",
     "output_type": "stream",
     "text": [
      "<class 'pandas.core.frame.DataFrame'>\n",
      "Int64Index: 15 entries, 2098 to 2857\n",
      "Data columns (total 3 columns):\n",
      " #   Column                          Non-Null Count  Dtype  \n",
      "---  ------                          --------------  -----  \n",
      " 0   instituicao_empresa_favorecida  15 non-null     object \n",
      " 1   cod_favorecido                  15 non-null     object \n",
      " 2   valor_pago_em_real              15 non-null     float64\n",
      "dtypes: float64(1), object(2)\n",
      "memory usage: 480.0+ bytes\n"
     ]
    }
   ],
   "source": [
    "graf.info()"
   ]
  },
  {
   "cell_type": "code",
   "execution_count": 76,
   "metadata": {},
   "outputs": [
    {
     "data": {
      "image/png": "[encoded data removed]",
      "text/plain": [
       "<Figure size 1440x1008 with 1 Axes>"
      ]
     },
     "metadata": {},
     "output_type": "display_data"
    }
   ],
   "source": [
    "sns.set(style=\"whitegrid\")\n",
    "\n",
    "fig_dims = (20, 14)\n",
    "fig, ax = plt.subplots(figsize=fig_dims)\n",
    "plt.xticks(rotation=45, ha='right')\n",
    "\n",
    "ax = sns.barplot(x=\"instituicao_empresa_favorecida\", y=\"valor_pago_em_real\", data=graf)"
   ]
  },
  {
   "cell_type": "code",
   "execution_count": null,
   "metadata": {},
   "outputs": [],
   "source": []
  },
  {
   "cell_type": "code",
   "execution_count": 67,
   "metadata": {},
   "outputs": [],
   "source": [
    "# Soma valores em sigilo"
   ]
  },
  {
   "cell_type": "code",
   "execution_count": 77,
   "metadata": {},
   "outputs": [],
   "source": [
    "sigilo = pagamentos_covid19[(pagamentos_covid19['Favorecido_x'] == 'Informação protegida por sigilo nos termos da legislaçã') |  \n",
    "                           (pagamentos_covid19['Código Favorecido_x'] == '-11')]"
   ]
  },
  {
   "cell_type": "code",
   "execution_count": 78,
   "metadata": {},
   "outputs": [
    {
     "data": {
      "text/plain": [
       "2321836.38"
      ]
     },
     "execution_count": 78,
     "metadata": {},
     "output_type": "execute_result"
    }
   ],
   "source": [
    "sigilo['valor_pago_em_real'].sum()"
   ]
  },
  {
   "cell_type": "code",
   "execution_count": 79,
   "metadata": {},
   "outputs": [],
   "source": [
    "# Máximo em sigilo"
   ]
  },
  {
   "cell_type": "code",
   "execution_count": 80,
   "metadata": {},
   "outputs": [
    {
     "data": {
      "text/plain": [
       "Data Emissão_x                                                                09/07/2020\n",
       "Código Empenho                                                   160062000012020NE000088\n",
       "Id Empenho                                                                     207201212\n",
       "Código Empenho Resumido                                                     2020NE000088\n",
       "Órgão_x                                                              Comando do Exército\n",
       "Unidade Gestora_x                                     CENTRO DE INTELIGENCIA DO EXERCITO\n",
       "Código Favorecido_x                                                                  -11\n",
       "Favorecido_x                           Informação protegida por sigilo nos termos da ...\n",
       "Valor do Empenho Convertido pra R$                                            400,000.00\n",
       "valor_pago_em_real                                                            400,000.00\n",
       "Valor Restos a Pagar Inscritos (R$)                                                 0.00\n",
       "Observação_x                           Informação protegida por sigilo nos termos da ...\n",
       "Observação_y                           Informação protegida por sigilo nos termos da ...\n",
       "Modalidade de Licitação                                                    Não se Aplica\n",
       "Name: 70857, dtype: object"
      ]
     },
     "execution_count": 80,
     "metadata": {},
     "output_type": "execute_result"
    }
   ],
   "source": [
    "sigilo.loc[sigilo['valor_pago_em_real'].idxmax()][[\"Data Emissão_x\",\"Código Empenho\", \"Id Empenho\", \"Código Empenho Resumido\", \"Órgão_x\", \"Unidade Gestora_x\", \"Código Favorecido_x\", \"Favorecido_x\", \"Valor do Empenho Convertido pra R$\", \"valor_pago_em_real\", \"Valor Restos a Pagar Inscritos (R$)\", \"Observação_x\", \"Observação_y\",  \"Modalidade de Licitação\"]]"
   ]
  },
  {
   "cell_type": "code",
   "execution_count": 81,
   "metadata": {},
   "outputs": [],
   "source": [
    "sigilo.to_csv('resultados/graficos/valores_pagos_em_sigilo_covid19_ate_17_setembro_2020.csv', index=False)"
   ]
  },
  {
   "cell_type": "code",
   "execution_count": null,
   "metadata": {},
   "outputs": [],
   "source": []
  },
  {
   "cell_type": "code",
   "execution_count": 82,
   "metadata": {},
   "outputs": [],
   "source": [
    "# Soma valores por autores de Emenda"
   ]
  },
  {
   "cell_type": "code",
   "execution_count": 83,
   "metadata": {},
   "outputs": [],
   "source": [
    "emendas = pagamentos_covid19[(pagamentos_covid19['Autor Emenda'] != 'SEM EMENDA')]"
   ]
  },
  {
   "cell_type": "code",
   "execution_count": 84,
   "metadata": {},
   "outputs": [
    {
     "data": {
      "text/plain": [
       "2335334768.91"
      ]
     },
     "execution_count": 84,
     "metadata": {},
     "output_type": "execute_result"
    }
   ],
   "source": [
    "emendas['valor_pago_em_real'].sum()"
   ]
  },
  {
   "cell_type": "code",
   "execution_count": 85,
   "metadata": {},
   "outputs": [
    {
     "data": {
      "text/html": [
       "<div>\n",
       "<style scoped>\n",
       "    .dataframe tbody tr th:only-of-type {\n",
       "        vertical-align: middle;\n",
       "    }\n",
       "\n",
       "    .dataframe tbody tr th {\n",
       "        vertical-align: top;\n",
       "    }\n",
       "\n",
       "    .dataframe thead th {\n",
       "        text-align: right;\n",
       "    }\n",
       "</style>\n",
       "<table border=\"1\" class=\"dataframe\">\n",
       "  <thead>\n",
       "    <tr style=\"text-align: right;\">\n",
       "      <th></th>\n",
       "      <th>Autor Emenda</th>\n",
       "      <th>valor_pago_em_real</th>\n",
       "    </tr>\n",
       "  </thead>\n",
       "  <tbody>\n",
       "    <tr>\n",
       "      <th>22</th>\n",
       "      <td>BANCADA DA BAHIA / EMENDA 4</td>\n",
       "      <td>192,946,250.00</td>\n",
       "    </tr>\n",
       "    <tr>\n",
       "      <th>62</th>\n",
       "      <td>BANCADA DO CEARA / EMENDA 14</td>\n",
       "      <td>181,066,340.00</td>\n",
       "    </tr>\n",
       "    <tr>\n",
       "      <th>61</th>\n",
       "      <td>BANCADA DO AMAZONAS / EMENDA 5</td>\n",
       "      <td>116,834,308.00</td>\n",
       "    </tr>\n",
       "    <tr>\n",
       "      <th>42</th>\n",
       "      <td>BANCADA DE SAO PAULO / EMENDA 1</td>\n",
       "      <td>106,662,280.00</td>\n",
       "    </tr>\n",
       "    <tr>\n",
       "      <th>30</th>\n",
       "      <td>BANCADA DE GOIAS / EMENDA 7</td>\n",
       "      <td>92,210,658.00</td>\n",
       "    </tr>\n",
       "    <tr>\n",
       "      <th>66</th>\n",
       "      <td>BANCADA DO MARANHAO / EMENDA 3</td>\n",
       "      <td>81,542,300.00</td>\n",
       "    </tr>\n",
       "    <tr>\n",
       "      <th>63</th>\n",
       "      <td>BANCADA DO DISTRITO FEDERAL / EMENDA 3</td>\n",
       "      <td>70,825,704.00</td>\n",
       "    </tr>\n",
       "    <tr>\n",
       "      <th>52</th>\n",
       "      <td>BANCADA DE SERGIPE / EMENDA 8</td>\n",
       "      <td>56,923,875.00</td>\n",
       "    </tr>\n",
       "    <tr>\n",
       "      <th>77</th>\n",
       "      <td>BANCADA DO RIO DE JANEIRO / EMENDA 2</td>\n",
       "      <td>53,215,190.00</td>\n",
       "    </tr>\n",
       "    <tr>\n",
       "      <th>73</th>\n",
       "      <td>BANCADA DO PARA / EMENDA 4</td>\n",
       "      <td>53,075,862.00</td>\n",
       "    </tr>\n",
       "    <tr>\n",
       "      <th>41</th>\n",
       "      <td>BANCADA DE RORAIMA / EMENDA 9</td>\n",
       "      <td>49,014,018.00</td>\n",
       "    </tr>\n",
       "    <tr>\n",
       "      <th>78</th>\n",
       "      <td>BANCADA DO RIO DE JANEIRO / EMENDA 9</td>\n",
       "      <td>44,482,630.00</td>\n",
       "    </tr>\n",
       "    <tr>\n",
       "      <th>70</th>\n",
       "      <td>BANCADA DO PARA / EMENDA 14</td>\n",
       "      <td>44,321,467.00</td>\n",
       "    </tr>\n",
       "    <tr>\n",
       "      <th>65</th>\n",
       "      <td>BANCADA DO MARANHAO / EMENDA 2</td>\n",
       "      <td>44,210,800.00</td>\n",
       "    </tr>\n",
       "    <tr>\n",
       "      <th>110</th>\n",
       "      <td>COMISSAO MISTA DE PLANOS, ORCAMENTOS PUBLICOS ...</td>\n",
       "      <td>40,000,000.00</td>\n",
       "    </tr>\n",
       "    <tr>\n",
       "      <th>55</th>\n",
       "      <td>BANCADA DO ACRE / EMENDA 6</td>\n",
       "      <td>38,945,770.00</td>\n",
       "    </tr>\n",
       "    <tr>\n",
       "      <th>58</th>\n",
       "      <td>BANCADA DO AMAPA / EMENDA 5</td>\n",
       "      <td>35,457,173.00</td>\n",
       "    </tr>\n",
       "    <tr>\n",
       "      <th>79</th>\n",
       "      <td>BANCADA DO RIO GRANDE DO NORTE / EMENDA 11</td>\n",
       "      <td>33,253,439.00</td>\n",
       "    </tr>\n",
       "    <tr>\n",
       "      <th>31</th>\n",
       "      <td>BANCADA DE MINAS GERAIS / EMENDA 6</td>\n",
       "      <td>32,758,748.00</td>\n",
       "    </tr>\n",
       "    <tr>\n",
       "      <th>39</th>\n",
       "      <td>BANCADA DE RONDONIA / EMENDA 4</td>\n",
       "      <td>30,991,725.00</td>\n",
       "    </tr>\n",
       "  </tbody>\n",
       "</table>\n",
       "</div>"
      ],
      "text/plain": [
       "                                          Autor Emenda  valor_pago_em_real\n",
       "22                         BANCADA DA BAHIA / EMENDA 4      192,946,250.00\n",
       "62                        BANCADA DO CEARA / EMENDA 14      181,066,340.00\n",
       "61                      BANCADA DO AMAZONAS / EMENDA 5      116,834,308.00\n",
       "42                     BANCADA DE SAO PAULO / EMENDA 1      106,662,280.00\n",
       "30                         BANCADA DE GOIAS / EMENDA 7       92,210,658.00\n",
       "66                      BANCADA DO MARANHAO / EMENDA 3       81,542,300.00\n",
       "63              BANCADA DO DISTRITO FEDERAL / EMENDA 3       70,825,704.00\n",
       "52                       BANCADA DE SERGIPE / EMENDA 8       56,923,875.00\n",
       "77                BANCADA DO RIO DE JANEIRO / EMENDA 2       53,215,190.00\n",
       "73                          BANCADA DO PARA / EMENDA 4       53,075,862.00\n",
       "41                       BANCADA DE RORAIMA / EMENDA 9       49,014,018.00\n",
       "78                BANCADA DO RIO DE JANEIRO / EMENDA 9       44,482,630.00\n",
       "70                         BANCADA DO PARA / EMENDA 14       44,321,467.00\n",
       "65                      BANCADA DO MARANHAO / EMENDA 2       44,210,800.00\n",
       "110  COMISSAO MISTA DE PLANOS, ORCAMENTOS PUBLICOS ...       40,000,000.00\n",
       "55                          BANCADA DO ACRE / EMENDA 6       38,945,770.00\n",
       "58                         BANCADA DO AMAPA / EMENDA 5       35,457,173.00\n",
       "79          BANCADA DO RIO GRANDE DO NORTE / EMENDA 11       33,253,439.00\n",
       "31                  BANCADA DE MINAS GERAIS / EMENDA 6       32,758,748.00\n",
       "39                      BANCADA DE RONDONIA / EMENDA 4       30,991,725.00"
      ]
     },
     "execution_count": 85,
     "metadata": {},
     "output_type": "execute_result"
    }
   ],
   "source": [
    "emendas.groupby([\"Autor Emenda\"]).valor_pago_em_real.sum().reset_index().sort_values(\"valor_pago_em_real\", ascending=False).head(20)"
   ]
  },
  {
   "cell_type": "code",
   "execution_count": 86,
   "metadata": {},
   "outputs": [],
   "source": [
    "# Salva em CSV para gráfico"
   ]
  },
  {
   "cell_type": "code",
   "execution_count": 87,
   "metadata": {},
   "outputs": [],
   "source": [
    "salva = emendas.groupby([\"Autor Emenda\"]).valor_pago_em_real.sum().reset_index().sort_values(\"valor_pago_em_real\", ascending=False)"
   ]
  },
  {
   "cell_type": "code",
   "execution_count": 88,
   "metadata": {},
   "outputs": [
    {
     "name": "stdout",
     "output_type": "stream",
     "text": [
      "<class 'pandas.core.frame.DataFrame'>\n",
      "Int64Index: 321 entries, 22 to 253\n",
      "Data columns (total 2 columns):\n",
      " #   Column              Non-Null Count  Dtype  \n",
      "---  ------              --------------  -----  \n",
      " 0   Autor Emenda        321 non-null    object \n",
      " 1   valor_pago_em_real  321 non-null    float64\n",
      "dtypes: float64(1), object(1)\n",
      "memory usage: 7.5+ KB\n"
     ]
    }
   ],
   "source": [
    "salva.info()"
   ]
  },
  {
   "cell_type": "code",
   "execution_count": 89,
   "metadata": {},
   "outputs": [],
   "source": [
    "salva.to_csv('resultados/graficos/soma_ordenada_emendas_pagamentos_feitos_de_empenhos_covid19_ate_17_setembro_2020.csv', index=False)"
   ]
  },
  {
   "cell_type": "code",
   "execution_count": null,
   "metadata": {},
   "outputs": [],
   "source": []
  }
 ],
 "metadata": {
  "kernelspec": {
   "display_name": "Python 3",
   "language": "python",
   "name": "python3"
  },
  "language_info": {
   "codemirror_mode": {
    "name": "ipython",
    "version": 3
   },
   "file_extension": ".py",
   "mimetype": "text/x-python",
   "name": "python",
   "nbconvert_exporter": "python",
   "pygments_lexer": "ipython3",
   "version": "3.6.9"
  }
 },
 "nbformat": 4,
 "nbformat_minor": 4
}
