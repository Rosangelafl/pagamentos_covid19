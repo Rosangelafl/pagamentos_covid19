{
 "cells": [
  {
   "cell_type": "code",
   "execution_count": 1,
   "metadata": {},
   "outputs": [],
   "source": [
    "# -*- coding: utf-8\n",
    "# Reinaldo Chaves (@paidatocandeira)\n",
    "# Acessa o arquivo criado com pagamentos de empenho da covid19\n",
    "# E faz diversas estatísticas\n",
    "#"
   ]
  },
  {
   "cell_type": "code",
   "execution_count": 2,
   "metadata": {},
   "outputs": [],
   "source": [
    "import pandas as pd"
   ]
  },
  {
   "cell_type": "code",
   "execution_count": null,
   "metadata": {},
   "outputs": [],
   "source": []
  },
  {
   "cell_type": "code",
   "execution_count": 3,
   "metadata": {},
   "outputs": [],
   "source": [
    "pd.options.display.float_format = '{:,.2f}'.format"
   ]
  },
  {
   "cell_type": "code",
   "execution_count": null,
   "metadata": {},
   "outputs": [],
   "source": []
  },
  {
   "cell_type": "code",
   "execution_count": 4,
   "metadata": {},
   "outputs": [],
   "source": [
    "kwargs = {'sep': ',', 'dtype': str, 'encoding': 'utf-8'}\n",
    "pagamentos_covid19 = pd.read_csv(\"resultados/pagamentos_covid19/pagamentos_feitos_de_empenhos_covid19_ate_12_junho_2020.csv\", **kwargs)"
   ]
  },
  {
   "cell_type": "code",
   "execution_count": 5,
   "metadata": {},
   "outputs": [],
   "source": [
    "# Carrega nomes de colunas"
   ]
  },
  {
   "cell_type": "code",
   "execution_count": 6,
   "metadata": {},
   "outputs": [
    {
     "data": {
      "text/plain": [
       "['Id Empenho',\n",
       " 'Código Empenho',\n",
       " 'Código Empenho Resumido',\n",
       " 'Data Emissão_x',\n",
       " 'Código Tipo Documento_x',\n",
       " 'Tipo Documento_x',\n",
       " 'Tipo Empenho',\n",
       " 'Espécie Empenho',\n",
       " 'Código Órgão Superior_x',\n",
       " 'Órgão Superior_x',\n",
       " 'Código Órgão_x',\n",
       " 'Órgão_x',\n",
       " 'Código Unidade Gestora_x',\n",
       " 'Unidade Gestora_x',\n",
       " 'Código Gestão_x',\n",
       " 'Gestão_x',\n",
       " 'Código Favorecido_x',\n",
       " 'Favorecido_x',\n",
       " 'Observação_x',\n",
       " 'Código Esfera Orçamentária',\n",
       " 'Esfera Orçamentária',\n",
       " 'Código Tipo Crédito',\n",
       " 'Tipo Crédito',\n",
       " 'Código Grupo Fonte Recurso',\n",
       " 'Grupo Fonte Recurso',\n",
       " 'Código Fonte Recurso',\n",
       " 'Fonte Recurso',\n",
       " 'Código Unidade Orçamentária',\n",
       " 'Unidade Orçamentária',\n",
       " 'Código Função',\n",
       " 'Função',\n",
       " 'Código SubFunção',\n",
       " 'SubFunção',\n",
       " 'Código Programa',\n",
       " 'Programa',\n",
       " 'Código Ação',\n",
       " 'Ação',\n",
       " 'Linguagem Cidadã',\n",
       " 'Código Subtítulo (Localizador)',\n",
       " 'Subtítulo (Localizador)',\n",
       " 'Código Plano Orçamentário_x',\n",
       " 'Plano Orçamentário_x',\n",
       " 'Código Programa Governo_x',\n",
       " 'Nome Programa Governo_x',\n",
       " 'Autor Emenda',\n",
       " 'Código Categoria de Despesa_x',\n",
       " 'Categoria de Despesa_x',\n",
       " 'Código Grupo de Despesa_x',\n",
       " 'Grupo de Despesa_x',\n",
       " 'Código Modalidade de Aplicação_x',\n",
       " 'Modalidade de Aplicação_x',\n",
       " 'Código Elemento de Despesa_x',\n",
       " 'Elemento de Despesa_x',\n",
       " 'Processo_x',\n",
       " 'Modalidade de Licitação',\n",
       " 'Inciso',\n",
       " 'Amparo',\n",
       " 'Referência de Dispensa ou Inexigibilidade',\n",
       " 'Código Convênio',\n",
       " 'Contrato de Repasse / Termo de Parceria / Outros',\n",
       " 'Valor Original do Empenho',\n",
       " 'Valor do Empenho Convertido pra R$',\n",
       " 'Valor Utilizado na Conversão_x',\n",
       " 'Código Pagamento',\n",
       " 'Código Natureza Despesa Completa',\n",
       " 'Subitem',\n",
       " 'Valor Pago (R$)',\n",
       " 'Valor Restos a Pagar Inscritos (R$)',\n",
       " 'Valor Restos a Pagar Cancelado (R$)',\n",
       " 'Valor Restos a Pagar Pagos (R$)',\n",
       " 'Código Pagamento Resumido',\n",
       " 'Data Emissão_y',\n",
       " 'Código Tipo Documento_y',\n",
       " 'Tipo Documento_y',\n",
       " 'Tipo OB',\n",
       " 'Extraorçamentário',\n",
       " 'Código Órgão Superior_y',\n",
       " 'Órgão Superior_y',\n",
       " 'Código Órgão_y',\n",
       " 'Órgão_y',\n",
       " 'Código Unidade Gestora_y',\n",
       " 'Unidade Gestora_y',\n",
       " 'Código Gestão_y',\n",
       " 'Gestão_y',\n",
       " 'Código Favorecido_y',\n",
       " 'Favorecido_y',\n",
       " 'Observação_y',\n",
       " 'Processo_y',\n",
       " 'Código Categoria de Despesa_y',\n",
       " 'Categoria de Despesa_y',\n",
       " 'Código Grupo de Despesa_y',\n",
       " 'Grupo de Despesa_y',\n",
       " 'Código Modalidade de Aplicação_y',\n",
       " 'Modalidade de Aplicação_y',\n",
       " 'Código Elemento de Despesa_y',\n",
       " 'Elemento de Despesa_y',\n",
       " 'Código Plano Orçamentário_y',\n",
       " 'Plano Orçamentário_y',\n",
       " 'Código Programa Governo_y',\n",
       " 'Nome Programa Governo_y',\n",
       " 'Valor Original do Pagamento',\n",
       " 'Valor do Pagamento Convertido pra R$',\n",
       " 'Valor Utilizado na Conversão_y']"
      ]
     },
     "execution_count": 6,
     "metadata": {},
     "output_type": "execute_result"
    }
   ],
   "source": [
    "list(pagamentos_covid19.columns.values.tolist())"
   ]
  },
  {
   "cell_type": "code",
   "execution_count": null,
   "metadata": {},
   "outputs": [],
   "source": []
  },
  {
   "cell_type": "code",
   "execution_count": 7,
   "metadata": {},
   "outputs": [],
   "source": [
    "# Quantidade de favorecidos nos pagamentos"
   ]
  },
  {
   "cell_type": "code",
   "execution_count": 8,
   "metadata": {},
   "outputs": [
    {
     "data": {
      "text/plain": [
       "2894"
      ]
     },
     "execution_count": 8,
     "metadata": {},
     "output_type": "execute_result"
    }
   ],
   "source": [
    "a = len(pagamentos_covid19['Favorecido_x'].value_counts())\n",
    "a"
   ]
  },
  {
   "cell_type": "code",
   "execution_count": null,
   "metadata": {},
   "outputs": [],
   "source": []
  },
  {
   "cell_type": "code",
   "execution_count": 9,
   "metadata": {},
   "outputs": [],
   "source": [
    "# Transforma em numero campos de valores"
   ]
  },
  {
   "cell_type": "code",
   "execution_count": 10,
   "metadata": {},
   "outputs": [],
   "source": [
    "pagamentos_covid19['Valor Original do Empenho'] = pagamentos_covid19['Valor Original do Empenho'].str.replace(',','.')\n",
    "pagamentos_covid19['Valor Original do Empenho'] = pagamentos_covid19['Valor Original do Empenho'].astype('float64') \n",
    "\n",
    "pagamentos_covid19['Valor do Empenho Convertido pra R$'] = pagamentos_covid19['Valor do Empenho Convertido pra R$'].str.replace(',','.')\n",
    "pagamentos_covid19['Valor do Empenho Convertido pra R$'] = pagamentos_covid19['Valor do Empenho Convertido pra R$'].astype('float64') \n",
    "\n",
    "pagamentos_covid19['Valor Utilizado na Conversão_x'] = pagamentos_covid19['Valor Utilizado na Conversão_x'].str.replace(',','.')\n",
    "pagamentos_covid19['Valor Utilizado na Conversão_x'] = pagamentos_covid19['Valor Utilizado na Conversão_x'].astype('float64') \n",
    "\n",
    "pagamentos_covid19['Valor Pago (R$)'] = pagamentos_covid19['Valor Pago (R$)'].str.replace(',','.')\n",
    "pagamentos_covid19['Valor Pago (R$)'] = pagamentos_covid19['Valor Pago (R$)'].astype('float64') \n",
    "pagamentos_covid19.rename(columns = {'Valor Pago (R$)':'valor_pago_em_real'},inplace = True)\n",
    "\n",
    "pagamentos_covid19['Valor Restos a Pagar Inscritos (R$)'] = pagamentos_covid19['Valor Restos a Pagar Inscritos (R$)'].str.replace(',','.')\n",
    "pagamentos_covid19['Valor Restos a Pagar Inscritos (R$)'] = pagamentos_covid19['Valor Restos a Pagar Inscritos (R$)'].astype('float64') \n",
    "\n",
    "pagamentos_covid19['Valor Restos a Pagar Cancelado (R$)'] = pagamentos_covid19['Valor Restos a Pagar Cancelado (R$)'].str.replace(',','.')\n",
    "pagamentos_covid19['Valor Restos a Pagar Cancelado (R$)'] = pagamentos_covid19['Valor Restos a Pagar Cancelado (R$)'].astype('float64') \n",
    "\n",
    "pagamentos_covid19['Valor Restos a Pagar Pagos (R$)'] = pagamentos_covid19['Valor Restos a Pagar Pagos (R$)'].str.replace(',','.')\n",
    "pagamentos_covid19['Valor Restos a Pagar Pagos (R$)'] = pagamentos_covid19['Valor Restos a Pagar Pagos (R$)'].astype('float64') \n",
    "\n",
    "pagamentos_covid19['Valor Original do Pagamento'] = pagamentos_covid19['Valor Original do Pagamento'].str.replace(',','.')\n",
    "pagamentos_covid19['Valor Original do Pagamento'] = pagamentos_covid19['Valor Original do Pagamento'].astype('float64') \n",
    "\n",
    "pagamentos_covid19['Valor do Pagamento Convertido pra R$'] = pagamentos_covid19['Valor do Pagamento Convertido pra R$'].str.replace(',','.')\n",
    "pagamentos_covid19['Valor do Pagamento Convertido pra R$'] = pagamentos_covid19['Valor do Pagamento Convertido pra R$'].astype('float64') \n",
    "\n",
    "pagamentos_covid19['Valor Utilizado na Conversão_y'] = pagamentos_covid19['Valor Utilizado na Conversão_y'].str.replace(',','.')\n",
    "pagamentos_covid19['Valor Utilizado na Conversão_y'] = pagamentos_covid19['Valor Utilizado na Conversão_y'].astype('float64') "
   ]
  },
  {
   "cell_type": "code",
   "execution_count": null,
   "metadata": {},
   "outputs": [],
   "source": []
  },
  {
   "cell_type": "code",
   "execution_count": 11,
   "metadata": {},
   "outputs": [
    {
     "data": {
      "text/plain": [
       "12553069263.83"
      ]
     },
     "execution_count": 11,
     "metadata": {},
     "output_type": "execute_result"
    }
   ],
   "source": [
    "pagamentos_covid19['valor_pago_em_real'].sum()"
   ]
  },
  {
   "cell_type": "code",
   "execution_count": 12,
   "metadata": {},
   "outputs": [
    {
     "data": {
      "text/plain": [
       "36767155197.130005"
      ]
     },
     "execution_count": 12,
     "metadata": {},
     "output_type": "execute_result"
    }
   ],
   "source": [
    "pagamentos_covid19['Valor Original do Empenho'].sum()"
   ]
  },
  {
   "cell_type": "code",
   "execution_count": 13,
   "metadata": {},
   "outputs": [
    {
     "data": {
      "text/plain": [
       "36097238896.41"
      ]
     },
     "execution_count": 13,
     "metadata": {},
     "output_type": "execute_result"
    }
   ],
   "source": [
    "pagamentos_covid19['Valor do Empenho Convertido pra R$'].sum()"
   ]
  },
  {
   "cell_type": "code",
   "execution_count": null,
   "metadata": {},
   "outputs": [],
   "source": []
  },
  {
   "cell_type": "code",
   "execution_count": 14,
   "metadata": {},
   "outputs": [],
   "source": [
    "# Média de valores pagos"
   ]
  },
  {
   "cell_type": "code",
   "execution_count": 15,
   "metadata": {},
   "outputs": [
    {
     "data": {
      "text/plain": [
       "924311.1158110596"
      ]
     },
     "execution_count": 15,
     "metadata": {},
     "output_type": "execute_result"
    }
   ],
   "source": [
    "pagamentos_covid19['valor_pago_em_real'].mean()"
   ]
  },
  {
   "cell_type": "code",
   "execution_count": 16,
   "metadata": {},
   "outputs": [],
   "source": [
    "# Mediana de valores pagos"
   ]
  },
  {
   "cell_type": "code",
   "execution_count": 17,
   "metadata": {},
   "outputs": [
    {
     "data": {
      "text/plain": [
       "2212.5"
      ]
     },
     "execution_count": 17,
     "metadata": {},
     "output_type": "execute_result"
    }
   ],
   "source": [
    "pagamentos_covid19['valor_pago_em_real'].median()"
   ]
  },
  {
   "cell_type": "code",
   "execution_count": 18,
   "metadata": {},
   "outputs": [],
   "source": [
    "# Moda de valores pagos"
   ]
  },
  {
   "cell_type": "code",
   "execution_count": 19,
   "metadata": {},
   "outputs": [
    {
     "data": {
      "text/plain": [
       "0   442.50\n",
       "dtype: float64"
      ]
     },
     "execution_count": 19,
     "metadata": {},
     "output_type": "execute_result"
    }
   ],
   "source": [
    "pagamentos_covid19['valor_pago_em_real'].mode()"
   ]
  },
  {
   "cell_type": "code",
   "execution_count": 20,
   "metadata": {},
   "outputs": [],
   "source": [
    "procura = pagamentos_covid19[(pagamentos_covid19['valor_pago_em_real'] == 442.50)]"
   ]
  },
  {
   "cell_type": "code",
   "execution_count": 21,
   "metadata": {},
   "outputs": [
    {
     "data": {
      "text/plain": [
       "(338, 103)"
      ]
     },
     "execution_count": 21,
     "metadata": {},
     "output_type": "execute_result"
    }
   ],
   "source": [
    "procura.shape"
   ]
  },
  {
   "cell_type": "code",
   "execution_count": 22,
   "metadata": {},
   "outputs": [
    {
     "data": {
      "text/html": [
       "<div>\n",
       "<style scoped>\n",
       "    .dataframe tbody tr th:only-of-type {\n",
       "        vertical-align: middle;\n",
       "    }\n",
       "\n",
       "    .dataframe tbody tr th {\n",
       "        vertical-align: top;\n",
       "    }\n",
       "\n",
       "    .dataframe thead th {\n",
       "        text-align: right;\n",
       "    }\n",
       "</style>\n",
       "<table border=\"1\" class=\"dataframe\">\n",
       "  <thead>\n",
       "    <tr style=\"text-align: right;\">\n",
       "      <th></th>\n",
       "      <th>Data Emissão_x</th>\n",
       "      <th>Código Empenho</th>\n",
       "      <th>Id Empenho</th>\n",
       "      <th>Órgão_x</th>\n",
       "      <th>Unidade Gestora_x</th>\n",
       "      <th>Código Favorecido_x</th>\n",
       "      <th>Favorecido_x</th>\n",
       "      <th>Valor do Empenho Convertido pra R$</th>\n",
       "      <th>valor_pago_em_real</th>\n",
       "      <th>Valor Restos a Pagar Inscritos (R$)</th>\n",
       "      <th>Observação_x</th>\n",
       "      <th>Observação_y</th>\n",
       "      <th>Modalidade de Licitação</th>\n",
       "    </tr>\n",
       "  </thead>\n",
       "  <tbody>\n",
       "    <tr>\n",
       "      <th>136</th>\n",
       "      <td>08/04/2020</td>\n",
       "      <td>194010192082020NE000002</td>\n",
       "      <td>180100348</td>\n",
       "      <td>Fundação Nacional do Índio</td>\n",
       "      <td>COORD. REG. CENTRO-LESTE DO PARA/PA</td>\n",
       "      <td>PFCOL4010</td>\n",
       "      <td>FUNDACAO NACIONAL DO INDIO - DIARIAS DE COLABO...</td>\n",
       "      <td>10,620.00</td>\n",
       "      <td>442.50</td>\n",
       "      <td>0.00</td>\n",
       "      <td>08748.000961/2019-19 - DIARIAS DE COLABORADOR ...</td>\n",
       "      <td>PROC 001194/20 DOC GERADO PELO SCDP. PCDP 0011...</td>\n",
       "      <td>Não se Aplica</td>\n",
       "    </tr>\n",
       "    <tr>\n",
       "      <th>137</th>\n",
       "      <td>08/04/2020</td>\n",
       "      <td>194010192082020NE000002</td>\n",
       "      <td>180100348</td>\n",
       "      <td>Fundação Nacional do Índio</td>\n",
       "      <td>COORD. REG. CENTRO-LESTE DO PARA/PA</td>\n",
       "      <td>PFCOL4010</td>\n",
       "      <td>FUNDACAO NACIONAL DO INDIO - DIARIAS DE COLABO...</td>\n",
       "      <td>10,620.00</td>\n",
       "      <td>442.50</td>\n",
       "      <td>0.00</td>\n",
       "      <td>08748.000961/2019-19 - DIARIAS DE COLABORADOR ...</td>\n",
       "      <td>PROC 001569/20 DOC GERADO PELO SCDP. PCDP 0015...</td>\n",
       "      <td>Não se Aplica</td>\n",
       "    </tr>\n",
       "    <tr>\n",
       "      <th>1480</th>\n",
       "      <td>24/03/2020</td>\n",
       "      <td>120638000012020NE000019</td>\n",
       "      <td>160400393</td>\n",
       "      <td>Comando da Aeronáutica</td>\n",
       "      <td>GRUPAMENTO DE APOIO DE CAMPO GRANDE</td>\n",
       "      <td>120638</td>\n",
       "      <td>GRUPAMENTO DE APOIO DE CAMPO GRANDE</td>\n",
       "      <td>31,405.70</td>\n",
       "      <td>442.50</td>\n",
       "      <td>0.00</td>\n",
       "      <td>DIARIAS DE MILITARES DA ALA-5.</td>\n",
       "      <td>PROC 009243/20 DOC GERADO PELO SCDP. PCDP 0092...</td>\n",
       "      <td>Não se Aplica</td>\n",
       "    </tr>\n",
       "    <tr>\n",
       "      <th>1481</th>\n",
       "      <td>24/03/2020</td>\n",
       "      <td>120638000012020NE000019</td>\n",
       "      <td>160400393</td>\n",
       "      <td>Comando da Aeronáutica</td>\n",
       "      <td>GRUPAMENTO DE APOIO DE CAMPO GRANDE</td>\n",
       "      <td>120638</td>\n",
       "      <td>GRUPAMENTO DE APOIO DE CAMPO GRANDE</td>\n",
       "      <td>31,405.70</td>\n",
       "      <td>442.50</td>\n",
       "      <td>0.00</td>\n",
       "      <td>DIARIAS DE MILITARES DA ALA-5.</td>\n",
       "      <td>PROC 009241/20 DOC GERADO PELO SCDP. PCDP 0092...</td>\n",
       "      <td>Não se Aplica</td>\n",
       "    </tr>\n",
       "    <tr>\n",
       "      <th>1482</th>\n",
       "      <td>24/03/2020</td>\n",
       "      <td>120638000012020NE000019</td>\n",
       "      <td>160400393</td>\n",
       "      <td>Comando da Aeronáutica</td>\n",
       "      <td>GRUPAMENTO DE APOIO DE CAMPO GRANDE</td>\n",
       "      <td>120638</td>\n",
       "      <td>GRUPAMENTO DE APOIO DE CAMPO GRANDE</td>\n",
       "      <td>31,405.70</td>\n",
       "      <td>442.50</td>\n",
       "      <td>0.00</td>\n",
       "      <td>DIARIAS DE MILITARES DA ALA-5.</td>\n",
       "      <td>PROC 009238/20 DOC GERADO PELO SCDP. PCDP 0092...</td>\n",
       "      <td>Não se Aplica</td>\n",
       "    </tr>\n",
       "    <tr>\n",
       "      <th>...</th>\n",
       "      <td>...</td>\n",
       "      <td>...</td>\n",
       "      <td>...</td>\n",
       "      <td>...</td>\n",
       "      <td>...</td>\n",
       "      <td>...</td>\n",
       "      <td>...</td>\n",
       "      <td>...</td>\n",
       "      <td>...</td>\n",
       "      <td>...</td>\n",
       "      <td>...</td>\n",
       "      <td>...</td>\n",
       "      <td>...</td>\n",
       "    </tr>\n",
       "    <tr>\n",
       "      <th>9289</th>\n",
       "      <td>16/04/2020</td>\n",
       "      <td>194151192082020NE000032</td>\n",
       "      <td>172900706</td>\n",
       "      <td>Fundação Nacional do Índio</td>\n",
       "      <td>FUNAI-DIRETORIA DE PROTEÇÃO TERRITORIAL</td>\n",
       "      <td>PF0023COV</td>\n",
       "      <td>AUXILIO FINACEIRO - ACAO DE COMBATE AO COVID 19</td>\n",
       "      <td>130,000.00</td>\n",
       "      <td>442.50</td>\n",
       "      <td>0.00</td>\n",
       "      <td>COBRIR DESPESAS COM DIARIAS DE SERVIDOR E DE C...</td>\n",
       "      <td>PROC 001056/20 DOC GERADO PELO SCDP. PCDP 0010...</td>\n",
       "      <td>Não se Aplica</td>\n",
       "    </tr>\n",
       "    <tr>\n",
       "      <th>9302</th>\n",
       "      <td>16/04/2020</td>\n",
       "      <td>194151192082020NE000032</td>\n",
       "      <td>172900706</td>\n",
       "      <td>Fundação Nacional do Índio</td>\n",
       "      <td>FUNAI-DIRETORIA DE PROTEÇÃO TERRITORIAL</td>\n",
       "      <td>PF0023COV</td>\n",
       "      <td>AUXILIO FINACEIRO - ACAO DE COMBATE AO COVID 19</td>\n",
       "      <td>130,000.00</td>\n",
       "      <td>442.50</td>\n",
       "      <td>0.00</td>\n",
       "      <td>COBRIR DESPESAS COM DIARIAS DE SERVIDOR E DE C...</td>\n",
       "      <td>PROC 000584/20-1C DOC GERADO PELO SCDP. PCDP 0...</td>\n",
       "      <td>Não se Aplica</td>\n",
       "    </tr>\n",
       "    <tr>\n",
       "      <th>9676</th>\n",
       "      <td>09/04/2020</td>\n",
       "      <td>200117000012020NE000126</td>\n",
       "      <td>176300500</td>\n",
       "      <td>Departamento de Polícia Rodoviária Federal</td>\n",
       "      <td>SUPERINTENDENCIA REG. POL. RODV. FEDERAL-SP</td>\n",
       "      <td>-11</td>\n",
       "      <td>Informação protegida por sigilo nos termos da ...</td>\n",
       "      <td>95,121.60</td>\n",
       "      <td>442.50</td>\n",
       "      <td>0.00</td>\n",
       "      <td>Informação protegida por sigilo nos termos da ...</td>\n",
       "      <td>Informação protegida por sigilo nos termos da ...</td>\n",
       "      <td>Não se Aplica</td>\n",
       "    </tr>\n",
       "    <tr>\n",
       "      <th>10515</th>\n",
       "      <td>12/03/2020</td>\n",
       "      <td>120006000012020NE000025</td>\n",
       "      <td>155306009</td>\n",
       "      <td>Comando da Aeronáutica</td>\n",
       "      <td>GRUPAMENTO DE APOIO DE BRASILIA</td>\n",
       "      <td>120006</td>\n",
       "      <td>GRUPAMENTO DE APOIO DE BRASILIA</td>\n",
       "      <td>8,000.00</td>\n",
       "      <td>442.50</td>\n",
       "      <td>0.00</td>\n",
       "      <td>ATENDER AS NECESSIDADES DA SEFA               ...</td>\n",
       "      <td>PAGAMENTO DE DIARIA  - OPERACAO REGRESSO A PAT...</td>\n",
       "      <td>Não se Aplica</td>\n",
       "    </tr>\n",
       "    <tr>\n",
       "      <th>10520</th>\n",
       "      <td>12/03/2020</td>\n",
       "      <td>120006000012020NE000025</td>\n",
       "      <td>155306009</td>\n",
       "      <td>Comando da Aeronáutica</td>\n",
       "      <td>GRUPAMENTO DE APOIO DE BRASILIA</td>\n",
       "      <td>120006</td>\n",
       "      <td>GRUPAMENTO DE APOIO DE BRASILIA</td>\n",
       "      <td>8,000.00</td>\n",
       "      <td>442.50</td>\n",
       "      <td>0.00</td>\n",
       "      <td>ATENDER AS NECESSIDADES DA SEFA               ...</td>\n",
       "      <td>PAGAMENTO DE DIARIA  - OPERACAO REGRESSO A PAT...</td>\n",
       "      <td>Não se Aplica</td>\n",
       "    </tr>\n",
       "  </tbody>\n",
       "</table>\n",
       "<p>338 rows × 13 columns</p>\n",
       "</div>"
      ],
      "text/plain": [
       "      Data Emissão_x           Código Empenho Id Empenho  \\\n",
       "136       08/04/2020  194010192082020NE000002  180100348   \n",
       "137       08/04/2020  194010192082020NE000002  180100348   \n",
       "1480      24/03/2020  120638000012020NE000019  160400393   \n",
       "1481      24/03/2020  120638000012020NE000019  160400393   \n",
       "1482      24/03/2020  120638000012020NE000019  160400393   \n",
       "...              ...                      ...        ...   \n",
       "9289      16/04/2020  194151192082020NE000032  172900706   \n",
       "9302      16/04/2020  194151192082020NE000032  172900706   \n",
       "9676      09/04/2020  200117000012020NE000126  176300500   \n",
       "10515     12/03/2020  120006000012020NE000025  155306009   \n",
       "10520     12/03/2020  120006000012020NE000025  155306009   \n",
       "\n",
       "                                          Órgão_x  \\\n",
       "136                    Fundação Nacional do Índio   \n",
       "137                    Fundação Nacional do Índio   \n",
       "1480                       Comando da Aeronáutica   \n",
       "1481                       Comando da Aeronáutica   \n",
       "1482                       Comando da Aeronáutica   \n",
       "...                                           ...   \n",
       "9289                   Fundação Nacional do Índio   \n",
       "9302                   Fundação Nacional do Índio   \n",
       "9676   Departamento de Polícia Rodoviária Federal   \n",
       "10515                      Comando da Aeronáutica   \n",
       "10520                      Comando da Aeronáutica   \n",
       "\n",
       "                                 Unidade Gestora_x Código Favorecido_x  \\\n",
       "136            COORD. REG. CENTRO-LESTE DO PARA/PA           PFCOL4010   \n",
       "137            COORD. REG. CENTRO-LESTE DO PARA/PA           PFCOL4010   \n",
       "1480           GRUPAMENTO DE APOIO DE CAMPO GRANDE              120638   \n",
       "1481           GRUPAMENTO DE APOIO DE CAMPO GRANDE              120638   \n",
       "1482           GRUPAMENTO DE APOIO DE CAMPO GRANDE              120638   \n",
       "...                                            ...                 ...   \n",
       "9289       FUNAI-DIRETORIA DE PROTEÇÃO TERRITORIAL           PF0023COV   \n",
       "9302       FUNAI-DIRETORIA DE PROTEÇÃO TERRITORIAL           PF0023COV   \n",
       "9676   SUPERINTENDENCIA REG. POL. RODV. FEDERAL-SP                 -11   \n",
       "10515              GRUPAMENTO DE APOIO DE BRASILIA              120006   \n",
       "10520              GRUPAMENTO DE APOIO DE BRASILIA              120006   \n",
       "\n",
       "                                            Favorecido_x  \\\n",
       "136    FUNDACAO NACIONAL DO INDIO - DIARIAS DE COLABO...   \n",
       "137    FUNDACAO NACIONAL DO INDIO - DIARIAS DE COLABO...   \n",
       "1480                 GRUPAMENTO DE APOIO DE CAMPO GRANDE   \n",
       "1481                 GRUPAMENTO DE APOIO DE CAMPO GRANDE   \n",
       "1482                 GRUPAMENTO DE APOIO DE CAMPO GRANDE   \n",
       "...                                                  ...   \n",
       "9289     AUXILIO FINACEIRO - ACAO DE COMBATE AO COVID 19   \n",
       "9302     AUXILIO FINACEIRO - ACAO DE COMBATE AO COVID 19   \n",
       "9676   Informação protegida por sigilo nos termos da ...   \n",
       "10515                    GRUPAMENTO DE APOIO DE BRASILIA   \n",
       "10520                    GRUPAMENTO DE APOIO DE BRASILIA   \n",
       "\n",
       "       Valor do Empenho Convertido pra R$  valor_pago_em_real  \\\n",
       "136                             10,620.00              442.50   \n",
       "137                             10,620.00              442.50   \n",
       "1480                            31,405.70              442.50   \n",
       "1481                            31,405.70              442.50   \n",
       "1482                            31,405.70              442.50   \n",
       "...                                   ...                 ...   \n",
       "9289                           130,000.00              442.50   \n",
       "9302                           130,000.00              442.50   \n",
       "9676                            95,121.60              442.50   \n",
       "10515                            8,000.00              442.50   \n",
       "10520                            8,000.00              442.50   \n",
       "\n",
       "       Valor Restos a Pagar Inscritos (R$)  \\\n",
       "136                                   0.00   \n",
       "137                                   0.00   \n",
       "1480                                  0.00   \n",
       "1481                                  0.00   \n",
       "1482                                  0.00   \n",
       "...                                    ...   \n",
       "9289                                  0.00   \n",
       "9302                                  0.00   \n",
       "9676                                  0.00   \n",
       "10515                                 0.00   \n",
       "10520                                 0.00   \n",
       "\n",
       "                                            Observação_x  \\\n",
       "136    08748.000961/2019-19 - DIARIAS DE COLABORADOR ...   \n",
       "137    08748.000961/2019-19 - DIARIAS DE COLABORADOR ...   \n",
       "1480                      DIARIAS DE MILITARES DA ALA-5.   \n",
       "1481                      DIARIAS DE MILITARES DA ALA-5.   \n",
       "1482                      DIARIAS DE MILITARES DA ALA-5.   \n",
       "...                                                  ...   \n",
       "9289   COBRIR DESPESAS COM DIARIAS DE SERVIDOR E DE C...   \n",
       "9302   COBRIR DESPESAS COM DIARIAS DE SERVIDOR E DE C...   \n",
       "9676   Informação protegida por sigilo nos termos da ...   \n",
       "10515  ATENDER AS NECESSIDADES DA SEFA               ...   \n",
       "10520  ATENDER AS NECESSIDADES DA SEFA               ...   \n",
       "\n",
       "                                            Observação_y  \\\n",
       "136    PROC 001194/20 DOC GERADO PELO SCDP. PCDP 0011...   \n",
       "137    PROC 001569/20 DOC GERADO PELO SCDP. PCDP 0015...   \n",
       "1480   PROC 009243/20 DOC GERADO PELO SCDP. PCDP 0092...   \n",
       "1481   PROC 009241/20 DOC GERADO PELO SCDP. PCDP 0092...   \n",
       "1482   PROC 009238/20 DOC GERADO PELO SCDP. PCDP 0092...   \n",
       "...                                                  ...   \n",
       "9289   PROC 001056/20 DOC GERADO PELO SCDP. PCDP 0010...   \n",
       "9302   PROC 000584/20-1C DOC GERADO PELO SCDP. PCDP 0...   \n",
       "9676   Informação protegida por sigilo nos termos da ...   \n",
       "10515  PAGAMENTO DE DIARIA  - OPERACAO REGRESSO A PAT...   \n",
       "10520  PAGAMENTO DE DIARIA  - OPERACAO REGRESSO A PAT...   \n",
       "\n",
       "      Modalidade de Licitação  \n",
       "136             Não se Aplica  \n",
       "137             Não se Aplica  \n",
       "1480            Não se Aplica  \n",
       "1481            Não se Aplica  \n",
       "1482            Não se Aplica  \n",
       "...                       ...  \n",
       "9289            Não se Aplica  \n",
       "9302            Não se Aplica  \n",
       "9676            Não se Aplica  \n",
       "10515           Não se Aplica  \n",
       "10520           Não se Aplica  \n",
       "\n",
       "[338 rows x 13 columns]"
      ]
     },
     "execution_count": 22,
     "metadata": {},
     "output_type": "execute_result"
    }
   ],
   "source": [
    "procura[[\"Data Emissão_x\",\"Código Empenho\", \"Id Empenho\", \"Órgão_x\", \"Unidade Gestora_x\", \"Código Favorecido_x\", \"Favorecido_x\", \"Valor do Empenho Convertido pra R$\", \"valor_pago_em_real\", \"Valor Restos a Pagar Inscritos (R$)\", \"Observação_x\", \"Observação_y\",  \"Modalidade de Licitação\"]]"
   ]
  },
  {
   "cell_type": "code",
   "execution_count": null,
   "metadata": {},
   "outputs": [],
   "source": []
  },
  {
   "cell_type": "code",
   "execution_count": null,
   "metadata": {},
   "outputs": [],
   "source": []
  },
  {
   "cell_type": "code",
   "execution_count": 23,
   "metadata": {},
   "outputs": [],
   "source": [
    "# Maior valor originalmente empenhado"
   ]
  },
  {
   "cell_type": "code",
   "execution_count": 24,
   "metadata": {},
   "outputs": [
    {
     "data": {
      "text/plain": [
       "694320000.0"
      ]
     },
     "execution_count": 24,
     "metadata": {},
     "output_type": "execute_result"
    }
   ],
   "source": [
    "pagamentos_covid19['Valor do Empenho Convertido pra R$'].max()"
   ]
  },
  {
   "cell_type": "code",
   "execution_count": 25,
   "metadata": {},
   "outputs": [
    {
     "data": {
      "text/plain": [
       "Data Emissão_x                                                                03/04/2020\n",
       "Código Empenho                                                   250005000012020NE000096\n",
       "Id Empenho                                                                     176600022\n",
       "Órgão_x                                    Ministério da Saúde - Unidades com vínculo di\n",
       "Unidade Gestora_x                              DEPARTAMENTO DE LOGISTICA EM SAUDE - DLOG\n",
       "Código Favorecido_x                                                            EX2590112\n",
       "Favorecido_x                                          GLOBAL BASE DEVELOPMENT HK LIMITED\n",
       "Valor do Empenho Convertido pra R$                                        694,320,000.00\n",
       "valor_pago_em_real                                                         21,965,856.00\n",
       "Valor Restos a Pagar Inscritos (R$)                                                 0.00\n",
       "Observação_x                           ATNDER DESPESAS COM AQUISICAO DE MASCARA SMS 3...\n",
       "Observação_y                           CT 112/2020 - PAGAMENTO PARA IMPORTACAO DE MAS...\n",
       "Modalidade de Licitação                                                    Não se Aplica\n",
       "Name: 4454, dtype: object"
      ]
     },
     "execution_count": 25,
     "metadata": {},
     "output_type": "execute_result"
    }
   ],
   "source": [
    "pagamentos_covid19.loc[pagamentos_covid19['Valor do Empenho Convertido pra R$'].idxmax()][[\"Data Emissão_x\", \"Código Empenho\", \"Id Empenho\", \"Órgão_x\", \"Unidade Gestora_x\", \"Código Favorecido_x\", \"Favorecido_x\", \"Valor do Empenho Convertido pra R$\", \"valor_pago_em_real\", \"Valor Restos a Pagar Inscritos (R$)\", \"Observação_x\", \"Observação_y\", \"Modalidade de Licitação\"]]"
   ]
  },
  {
   "cell_type": "code",
   "execution_count": null,
   "metadata": {},
   "outputs": [],
   "source": []
  },
  {
   "cell_type": "code",
   "execution_count": 26,
   "metadata": {},
   "outputs": [],
   "source": [
    "# Menor valor originalmente empenhado"
   ]
  },
  {
   "cell_type": "code",
   "execution_count": 27,
   "metadata": {},
   "outputs": [
    {
     "data": {
      "text/plain": [
       "1.0"
      ]
     },
     "execution_count": 27,
     "metadata": {},
     "output_type": "execute_result"
    }
   ],
   "source": [
    "pagamentos_covid19['Valor do Empenho Convertido pra R$'].min()"
   ]
  },
  {
   "cell_type": "code",
   "execution_count": 28,
   "metadata": {},
   "outputs": [
    {
     "data": {
      "text/plain": [
       "Data Emissão_x                                                                24/03/2020\n",
       "Código Empenho                                                   155001152752020NE516283\n",
       "Id Empenho                                                                     167200532\n",
       "Órgão_x                                             Hospital de Clínicas de Porto Alegre\n",
       "Unidade Gestora_x                                   HOSPITAL DE CLINICAS DE PORTO ALEGRE\n",
       "Código Favorecido_x                                                       91154310000116\n",
       "Favorecido_x                           3 F COMERCIO DE EQUIPAMENTOS DE PROTECAO INDIV...\n",
       "Valor do Empenho Convertido pra R$                                                  1.00\n",
       "valor_pago_em_real                                                                319.00\n",
       "Valor Restos a Pagar Inscritos (R$)                                                 0.00\n",
       "Observação_x                                            MATERIAL DE PROTECAO E SEGURANCA\n",
       "Observação_y                           (DARF): RETENCAO DE TRIBUTOS, CONFORME IN NRO ...\n",
       "Modalidade de Licitação                                            Dispensa de Licitação\n",
       "Name: 1456, dtype: object"
      ]
     },
     "execution_count": 28,
     "metadata": {},
     "output_type": "execute_result"
    }
   ],
   "source": [
    "pagamentos_covid19.loc[pagamentos_covid19['Valor do Empenho Convertido pra R$'].idxmin()][[\"Data Emissão_x\",\"Código Empenho\", \"Id Empenho\", \"Órgão_x\", \"Unidade Gestora_x\", \"Código Favorecido_x\", \"Favorecido_x\", \"Valor do Empenho Convertido pra R$\", \"valor_pago_em_real\", \"Valor Restos a Pagar Inscritos (R$)\", \"Observação_x\", \"Observação_y\", \"Modalidade de Licitação\"]]"
   ]
  },
  {
   "cell_type": "code",
   "execution_count": null,
   "metadata": {},
   "outputs": [],
   "source": []
  },
  {
   "cell_type": "code",
   "execution_count": 29,
   "metadata": {},
   "outputs": [],
   "source": [
    "# Maior valor pago em real "
   ]
  },
  {
   "cell_type": "code",
   "execution_count": 30,
   "metadata": {},
   "outputs": [
    {
     "data": {
      "text/plain": [
       "440894813.73"
      ]
     },
     "execution_count": 30,
     "metadata": {},
     "output_type": "execute_result"
    }
   ],
   "source": [
    "pagamentos_covid19['valor_pago_em_real'].max()"
   ]
  },
  {
   "cell_type": "code",
   "execution_count": 31,
   "metadata": {},
   "outputs": [
    {
     "data": {
      "text/plain": [
       "Data Emissão_x                                                                09/04/2020\n",
       "Código Empenho                                                   257001000012020NE810544\n",
       "Id Empenho                                                                     174800424\n",
       "Órgão_x                                    Ministério da Saúde - Unidades com vínculo di\n",
       "Unidade Gestora_x                             DIRETORIA EXECUTIVA DO FUNDO NAC. DE SAUDE\n",
       "Código Favorecido_x                                                               257001\n",
       "Favorecido_x                                  DIRETORIA EXECUTIVA DO FUNDO NAC. DE SAUDE\n",
       "Valor do Empenho Convertido pra R$                                        440,894,813.73\n",
       "valor_pago_em_real                                                        440,894,813.73\n",
       "Valor Restos a Pagar Inscritos (R$)                                                 0.00\n",
       "Observação_x                           CORONAVIRUS (COVID-19)MUNICIPAL_PARCELA_UNICA_...\n",
       "Observação_y                           PAGAMENTO DE 65702-CORONAVIRUS (COVID-19) PARC...\n",
       "Modalidade de Licitação                                                    Não se Aplica\n",
       "Name: 10205, dtype: object"
      ]
     },
     "execution_count": 31,
     "metadata": {},
     "output_type": "execute_result"
    }
   ],
   "source": [
    "pagamentos_covid19.loc[pagamentos_covid19['valor_pago_em_real'].idxmax()][[\"Data Emissão_x\",\"Código Empenho\", \"Id Empenho\", \"Órgão_x\", \"Unidade Gestora_x\", \"Código Favorecido_x\", \"Favorecido_x\", \"Valor do Empenho Convertido pra R$\", \"valor_pago_em_real\", \"Valor Restos a Pagar Inscritos (R$)\", \"Observação_x\", \"Observação_y\",  \"Modalidade de Licitação\"]]"
   ]
  },
  {
   "cell_type": "code",
   "execution_count": null,
   "metadata": {},
   "outputs": [],
   "source": []
  },
  {
   "cell_type": "code",
   "execution_count": 32,
   "metadata": {},
   "outputs": [],
   "source": [
    "# Menor valor pago em real "
   ]
  },
  {
   "cell_type": "code",
   "execution_count": 33,
   "metadata": {},
   "outputs": [
    {
     "data": {
      "text/plain": [
       "-2500000.0"
      ]
     },
     "execution_count": 33,
     "metadata": {},
     "output_type": "execute_result"
    }
   ],
   "source": [
    "pagamentos_covid19['valor_pago_em_real'].min()"
   ]
  },
  {
   "cell_type": "code",
   "execution_count": 34,
   "metadata": {},
   "outputs": [
    {
     "data": {
      "text/plain": [
       "Data Emissão_x                                                                06/04/2020\n",
       "Código Empenho                                                   254462252012020NE800369\n",
       "Id Empenho                                                                     180300207\n",
       "Órgão_x                                                            Fundação Oswaldo Cruz\n",
       "Unidade Gestora_x                          COORDENAÇÃO GERAL DE INFRAESTRUTURA DOS CAMPI\n",
       "Código Favorecido_x                                                       04392190000190\n",
       "Favorecido_x                                              RAC ENGENHARIA E COMERCIO LTDA\n",
       "Valor do Empenho Convertido pra R$                                         56,832,173.94\n",
       "valor_pago_em_real                                                         -2,500,000.00\n",
       "Valor Restos a Pagar Inscritos (R$)                                                 0.00\n",
       "Observação_x                           CONTRATACAO EMERGENCIAL VISANDO A OBRA DE CONS...\n",
       "Observação_y                            ALTERACAO DA CLASSIFICACAO DAS NOTAS DE EMPENHO.\n",
       "Modalidade de Licitação                                            Dispensa de Licitação\n",
       "Name: 5881, dtype: object"
      ]
     },
     "execution_count": 34,
     "metadata": {},
     "output_type": "execute_result"
    }
   ],
   "source": [
    "pagamentos_covid19.loc[pagamentos_covid19['valor_pago_em_real'].idxmin()][[\"Data Emissão_x\",\"Código Empenho\", \"Id Empenho\", \"Órgão_x\", \"Unidade Gestora_x\", \"Código Favorecido_x\", \"Favorecido_x\", \"Valor do Empenho Convertido pra R$\", \"valor_pago_em_real\", \"Valor Restos a Pagar Inscritos (R$)\", \"Observação_x\", \"Observação_y\",  \"Modalidade de Licitação\"]]"
   ]
  },
  {
   "cell_type": "code",
   "execution_count": null,
   "metadata": {},
   "outputs": [],
   "source": []
  },
  {
   "cell_type": "code",
   "execution_count": 35,
   "metadata": {},
   "outputs": [],
   "source": [
    "# Agrupa a soma de valores pagos em Código Empenho+Id Empenho "
   ]
  },
  {
   "cell_type": "code",
   "execution_count": 36,
   "metadata": {},
   "outputs": [
    {
     "data": {
      "text/html": [
       "<div>\n",
       "<style scoped>\n",
       "    .dataframe tbody tr th:only-of-type {\n",
       "        vertical-align: middle;\n",
       "    }\n",
       "\n",
       "    .dataframe tbody tr th {\n",
       "        vertical-align: top;\n",
       "    }\n",
       "\n",
       "    .dataframe thead th {\n",
       "        text-align: right;\n",
       "    }\n",
       "</style>\n",
       "<table border=\"1\" class=\"dataframe\">\n",
       "  <thead>\n",
       "    <tr style=\"text-align: right;\">\n",
       "      <th></th>\n",
       "      <th>Código Empenho</th>\n",
       "      <th>Id Empenho</th>\n",
       "      <th>valor_pago_em_real</th>\n",
       "    </tr>\n",
       "  </thead>\n",
       "  <tbody>\n",
       "    <tr>\n",
       "      <th>3913</th>\n",
       "      <td>250005000012020NE000096</td>\n",
       "      <td>176600022</td>\n",
       "      <td>445,930,534.50</td>\n",
       "    </tr>\n",
       "    <tr>\n",
       "      <th>4234</th>\n",
       "      <td>257001000012020NE810544</td>\n",
       "      <td>174800424</td>\n",
       "      <td>440,894,813.73</td>\n",
       "    </tr>\n",
       "    <tr>\n",
       "      <th>4076</th>\n",
       "      <td>257001000012020NE453964</td>\n",
       "      <td>177001678</td>\n",
       "      <td>415,121,875.00</td>\n",
       "    </tr>\n",
       "    <tr>\n",
       "      <th>4219</th>\n",
       "      <td>257001000012020NE810529</td>\n",
       "      <td>178400461</td>\n",
       "      <td>360,266,482.23</td>\n",
       "    </tr>\n",
       "    <tr>\n",
       "      <th>4261</th>\n",
       "      <td>257001000012020NE810606</td>\n",
       "      <td>174400477</td>\n",
       "      <td>255,666,189.57</td>\n",
       "    </tr>\n",
       "    <tr>\n",
       "      <th>...</th>\n",
       "      <td>...</td>\n",
       "      <td>...</td>\n",
       "      <td>...</td>\n",
       "    </tr>\n",
       "    <tr>\n",
       "      <th>5869</th>\n",
       "      <td>781333000012020NE000152</td>\n",
       "      <td>184502817</td>\n",
       "      <td>0.00</td>\n",
       "    </tr>\n",
       "    <tr>\n",
       "      <th>1780</th>\n",
       "      <td>160005000012020NE800119</td>\n",
       "      <td>176401476</td>\n",
       "      <td>0.00</td>\n",
       "    </tr>\n",
       "    <tr>\n",
       "      <th>588</th>\n",
       "      <td>153031152502020NE800839</td>\n",
       "      <td>182901746</td>\n",
       "      <td>0.00</td>\n",
       "    </tr>\n",
       "    <tr>\n",
       "      <th>3496</th>\n",
       "      <td>200116000012020NE800483</td>\n",
       "      <td>181802630</td>\n",
       "      <td>0.00</td>\n",
       "    </tr>\n",
       "    <tr>\n",
       "      <th>3661</th>\n",
       "      <td>240017000012020NE003889</td>\n",
       "      <td>177700824</td>\n",
       "      <td>-556.20</td>\n",
       "    </tr>\n",
       "  </tbody>\n",
       "</table>\n",
       "<p>6210 rows × 3 columns</p>\n",
       "</div>"
      ],
      "text/plain": [
       "               Código Empenho Id Empenho  valor_pago_em_real\n",
       "3913  250005000012020NE000096  176600022      445,930,534.50\n",
       "4234  257001000012020NE810544  174800424      440,894,813.73\n",
       "4076  257001000012020NE453964  177001678      415,121,875.00\n",
       "4219  257001000012020NE810529  178400461      360,266,482.23\n",
       "4261  257001000012020NE810606  174400477      255,666,189.57\n",
       "...                       ...        ...                 ...\n",
       "5869  781333000012020NE000152  184502817                0.00\n",
       "1780  160005000012020NE800119  176401476                0.00\n",
       "588   153031152502020NE800839  182901746                0.00\n",
       "3496  200116000012020NE800483  181802630                0.00\n",
       "3661  240017000012020NE003889  177700824             -556.20\n",
       "\n",
       "[6210 rows x 3 columns]"
      ]
     },
     "execution_count": 36,
     "metadata": {},
     "output_type": "execute_result"
    }
   ],
   "source": [
    "pagamentos_covid19.groupby([\"Código Empenho\", \"Id Empenho\"]).valor_pago_em_real.sum().reset_index().sort_values(\"valor_pago_em_real\", ascending=False)"
   ]
  },
  {
   "cell_type": "code",
   "execution_count": 37,
   "metadata": {},
   "outputs": [],
   "source": [
    "procura = pagamentos_covid19[(pagamentos_covid19['Código Empenho'] == '257001000012020NE810544') & (pagamentos_covid19['Id Empenho'] == '174800424')]"
   ]
  },
  {
   "cell_type": "code",
   "execution_count": 38,
   "metadata": {},
   "outputs": [
    {
     "data": {
      "text/html": [
       "<div>\n",
       "<style scoped>\n",
       "    .dataframe tbody tr th:only-of-type {\n",
       "        vertical-align: middle;\n",
       "    }\n",
       "\n",
       "    .dataframe tbody tr th {\n",
       "        vertical-align: top;\n",
       "    }\n",
       "\n",
       "    .dataframe thead th {\n",
       "        text-align: right;\n",
       "    }\n",
       "</style>\n",
       "<table border=\"1\" class=\"dataframe\">\n",
       "  <thead>\n",
       "    <tr style=\"text-align: right;\">\n",
       "      <th></th>\n",
       "      <th>Data Emissão_x</th>\n",
       "      <th>Código Empenho</th>\n",
       "      <th>Id Empenho</th>\n",
       "      <th>Órgão_x</th>\n",
       "      <th>Unidade Gestora_x</th>\n",
       "      <th>Código Favorecido_x</th>\n",
       "      <th>Favorecido_x</th>\n",
       "      <th>Valor do Empenho Convertido pra R$</th>\n",
       "      <th>valor_pago_em_real</th>\n",
       "      <th>Valor Restos a Pagar Inscritos (R$)</th>\n",
       "      <th>Observação_x</th>\n",
       "      <th>Observação_y</th>\n",
       "      <th>Modalidade de Licitação</th>\n",
       "    </tr>\n",
       "  </thead>\n",
       "  <tbody>\n",
       "    <tr>\n",
       "      <th>10205</th>\n",
       "      <td>09/04/2020</td>\n",
       "      <td>257001000012020NE810544</td>\n",
       "      <td>174800424</td>\n",
       "      <td>Ministério da Saúde - Unidades com vínculo di</td>\n",
       "      <td>DIRETORIA EXECUTIVA DO FUNDO NAC. DE SAUDE</td>\n",
       "      <td>257001</td>\n",
       "      <td>DIRETORIA EXECUTIVA DO FUNDO NAC. DE SAUDE</td>\n",
       "      <td>440,894,813.73</td>\n",
       "      <td>440,894,813.73</td>\n",
       "      <td>0.00</td>\n",
       "      <td>CORONAVIRUS (COVID-19)MUNICIPAL_PARCELA_UNICA_...</td>\n",
       "      <td>PAGAMENTO DE 65702-CORONAVIRUS (COVID-19) PARC...</td>\n",
       "      <td>Não se Aplica</td>\n",
       "    </tr>\n",
       "  </tbody>\n",
       "</table>\n",
       "</div>"
      ],
      "text/plain": [
       "      Data Emissão_x           Código Empenho Id Empenho  \\\n",
       "10205     09/04/2020  257001000012020NE810544  174800424   \n",
       "\n",
       "                                             Órgão_x  \\\n",
       "10205  Ministério da Saúde - Unidades com vínculo di   \n",
       "\n",
       "                                Unidade Gestora_x Código Favorecido_x  \\\n",
       "10205  DIRETORIA EXECUTIVA DO FUNDO NAC. DE SAUDE              257001   \n",
       "\n",
       "                                     Favorecido_x  \\\n",
       "10205  DIRETORIA EXECUTIVA DO FUNDO NAC. DE SAUDE   \n",
       "\n",
       "       Valor do Empenho Convertido pra R$  valor_pago_em_real  \\\n",
       "10205                      440,894,813.73      440,894,813.73   \n",
       "\n",
       "       Valor Restos a Pagar Inscritos (R$)  \\\n",
       "10205                                 0.00   \n",
       "\n",
       "                                            Observação_x  \\\n",
       "10205  CORONAVIRUS (COVID-19)MUNICIPAL_PARCELA_UNICA_...   \n",
       "\n",
       "                                            Observação_y  \\\n",
       "10205  PAGAMENTO DE 65702-CORONAVIRUS (COVID-19) PARC...   \n",
       "\n",
       "      Modalidade de Licitação  \n",
       "10205           Não se Aplica  "
      ]
     },
     "execution_count": 38,
     "metadata": {},
     "output_type": "execute_result"
    }
   ],
   "source": [
    "procura[[\"Data Emissão_x\",\"Código Empenho\", \"Id Empenho\", \"Órgão_x\", \"Unidade Gestora_x\", \"Código Favorecido_x\", \"Favorecido_x\", \"Valor do Empenho Convertido pra R$\", \"valor_pago_em_real\", \"Valor Restos a Pagar Inscritos (R$)\", \"Observação_x\", \"Observação_y\",  \"Modalidade de Licitação\"]]"
   ]
  },
  {
   "cell_type": "code",
   "execution_count": null,
   "metadata": {},
   "outputs": [],
   "source": []
  },
  {
   "cell_type": "code",
   "execution_count": null,
   "metadata": {},
   "outputs": [],
   "source": []
  },
  {
   "cell_type": "code",
   "execution_count": 39,
   "metadata": {},
   "outputs": [],
   "source": [
    "# Agrupa a soma de valores pagos em Unidade Gestora - 20 primeiros"
   ]
  },
  {
   "cell_type": "code",
   "execution_count": 40,
   "metadata": {},
   "outputs": [
    {
     "data": {
      "text/html": [
       "<div>\n",
       "<style scoped>\n",
       "    .dataframe tbody tr th:only-of-type {\n",
       "        vertical-align: middle;\n",
       "    }\n",
       "\n",
       "    .dataframe tbody tr th {\n",
       "        vertical-align: top;\n",
       "    }\n",
       "\n",
       "    .dataframe thead th {\n",
       "        text-align: right;\n",
       "    }\n",
       "</style>\n",
       "<table border=\"1\" class=\"dataframe\">\n",
       "  <thead>\n",
       "    <tr style=\"text-align: right;\">\n",
       "      <th></th>\n",
       "      <th>Unidade Gestora_x</th>\n",
       "      <th>valor_pago_em_real</th>\n",
       "    </tr>\n",
       "  </thead>\n",
       "  <tbody>\n",
       "    <tr>\n",
       "      <th>357</th>\n",
       "      <td>DIRETORIA EXECUTIVA DO FUNDO NAC. DE SAUDE</td>\n",
       "      <td>9,959,433,123.89</td>\n",
       "    </tr>\n",
       "    <tr>\n",
       "      <th>432</th>\n",
       "      <td>FUNDO NACIONAL DE ASSISTENCIA SOCIAL</td>\n",
       "      <td>997,467,453.81</td>\n",
       "    </tr>\n",
       "    <tr>\n",
       "      <th>350</th>\n",
       "      <td>DEPARTAMENTO DE LOGISTICA EM SAUDE - DLOG</td>\n",
       "      <td>775,070,342.92</td>\n",
       "    </tr>\n",
       "    <tr>\n",
       "      <th>429</th>\n",
       "      <td>FUNDAÇÃO OSWALDO CRUZ</td>\n",
       "      <td>168,266,213.46</td>\n",
       "    </tr>\n",
       "    <tr>\n",
       "      <th>540</th>\n",
       "      <td>SECR. DE GESTAO DO TRAB. E DA EDUC. NA SAUDE</td>\n",
       "      <td>74,221,414.00</td>\n",
       "    </tr>\n",
       "    <tr>\n",
       "      <th>519</th>\n",
       "      <td>INSTITUTO DE TECNOLOGIA EM IMUNOBIOLOGICOS</td>\n",
       "      <td>66,898,615.67</td>\n",
       "    </tr>\n",
       "    <tr>\n",
       "      <th>303</th>\n",
       "      <td>COORDENACAO-GERAL DE GESTAO DE PESSOAS</td>\n",
       "      <td>60,425,474.60</td>\n",
       "    </tr>\n",
       "    <tr>\n",
       "      <th>309</th>\n",
       "      <td>COORDENAÇÃO GERAL DE INFRAESTRUTURA DOS CAMPI</td>\n",
       "      <td>58,349,452.97</td>\n",
       "    </tr>\n",
       "    <tr>\n",
       "      <th>541</th>\n",
       "      <td>SECRETARIA NACIONAL DE AVIAÇÃO CIVIL</td>\n",
       "      <td>37,206,436.69</td>\n",
       "    </tr>\n",
       "    <tr>\n",
       "      <th>449</th>\n",
       "      <td>HOSPITAL DE CLINICAS DE PORTO ALEGRE</td>\n",
       "      <td>24,458,621.52</td>\n",
       "    </tr>\n",
       "    <tr>\n",
       "      <th>255</th>\n",
       "      <td>COMANDO LOGISTICO</td>\n",
       "      <td>23,076,305.41</td>\n",
       "    </tr>\n",
       "    <tr>\n",
       "      <th>155</th>\n",
       "      <td>AGENCIA BRASILEIRA DE COOPERACAO - ABC</td>\n",
       "      <td>22,000,000.00</td>\n",
       "    </tr>\n",
       "    <tr>\n",
       "      <th>192</th>\n",
       "      <td>CENTRO DE AQUISIÇÕES ESPECÍFICAS</td>\n",
       "      <td>20,034,433.85</td>\n",
       "    </tr>\n",
       "    <tr>\n",
       "      <th>539</th>\n",
       "      <td>PRO-REITORIA DE PESQUISA/UFMG</td>\n",
       "      <td>19,416,329.30</td>\n",
       "    </tr>\n",
       "    <tr>\n",
       "      <th>516</th>\n",
       "      <td>INST.NACIONAL DE INFECTOLOGIA EVANDRO CHAGAS</td>\n",
       "      <td>17,001,129.39</td>\n",
       "    </tr>\n",
       "    <tr>\n",
       "      <th>405</th>\n",
       "      <td>ESCRITORIO FINANCEIRO EM NOVA IORQUE</td>\n",
       "      <td>13,837,846.43</td>\n",
       "    </tr>\n",
       "    <tr>\n",
       "      <th>431</th>\n",
       "      <td>FUNDO NAC.DE DESENV. CIENTIFICO E TECNOLOGICO</td>\n",
       "      <td>10,043,121.13</td>\n",
       "    </tr>\n",
       "    <tr>\n",
       "      <th>283</th>\n",
       "      <td>CONSULADO-GERAL DO BRASIL EM LISBOA</td>\n",
       "      <td>9,890,762.68</td>\n",
       "    </tr>\n",
       "    <tr>\n",
       "      <th>538</th>\n",
       "      <td>PRO-REITORIA DE PESQ. E POS-GRADUACAO DA UFPE</td>\n",
       "      <td>8,150,841.77</td>\n",
       "    </tr>\n",
       "    <tr>\n",
       "      <th>493</th>\n",
       "      <td>INST.FED.DE EDUC.,CIENC.E TEC.DE GOIAS</td>\n",
       "      <td>7,761,900.00</td>\n",
       "    </tr>\n",
       "  </tbody>\n",
       "</table>\n",
       "</div>"
      ],
      "text/plain": [
       "                                 Unidade Gestora_x  valor_pago_em_real\n",
       "357     DIRETORIA EXECUTIVA DO FUNDO NAC. DE SAUDE    9,959,433,123.89\n",
       "432           FUNDO NACIONAL DE ASSISTENCIA SOCIAL      997,467,453.81\n",
       "350      DEPARTAMENTO DE LOGISTICA EM SAUDE - DLOG      775,070,342.92\n",
       "429                          FUNDAÇÃO OSWALDO CRUZ      168,266,213.46\n",
       "540   SECR. DE GESTAO DO TRAB. E DA EDUC. NA SAUDE       74,221,414.00\n",
       "519     INSTITUTO DE TECNOLOGIA EM IMUNOBIOLOGICOS       66,898,615.67\n",
       "303         COORDENACAO-GERAL DE GESTAO DE PESSOAS       60,425,474.60\n",
       "309  COORDENAÇÃO GERAL DE INFRAESTRUTURA DOS CAMPI       58,349,452.97\n",
       "541           SECRETARIA NACIONAL DE AVIAÇÃO CIVIL       37,206,436.69\n",
       "449           HOSPITAL DE CLINICAS DE PORTO ALEGRE       24,458,621.52\n",
       "255                              COMANDO LOGISTICO       23,076,305.41\n",
       "155         AGENCIA BRASILEIRA DE COOPERACAO - ABC       22,000,000.00\n",
       "192               CENTRO DE AQUISIÇÕES ESPECÍFICAS       20,034,433.85\n",
       "539                  PRO-REITORIA DE PESQUISA/UFMG       19,416,329.30\n",
       "516   INST.NACIONAL DE INFECTOLOGIA EVANDRO CHAGAS       17,001,129.39\n",
       "405           ESCRITORIO FINANCEIRO EM NOVA IORQUE       13,837,846.43\n",
       "431  FUNDO NAC.DE DESENV. CIENTIFICO E TECNOLOGICO       10,043,121.13\n",
       "283            CONSULADO-GERAL DO BRASIL EM LISBOA        9,890,762.68\n",
       "538  PRO-REITORIA DE PESQ. E POS-GRADUACAO DA UFPE        8,150,841.77\n",
       "493         INST.FED.DE EDUC.,CIENC.E TEC.DE GOIAS        7,761,900.00"
      ]
     },
     "execution_count": 40,
     "metadata": {},
     "output_type": "execute_result"
    }
   ],
   "source": [
    "pagamentos_covid19.groupby([\"Unidade Gestora_x\"]).valor_pago_em_real.sum().reset_index().sort_values(\"valor_pago_em_real\", ascending=False).head(20)"
   ]
  },
  {
   "cell_type": "code",
   "execution_count": 41,
   "metadata": {},
   "outputs": [],
   "source": [
    "# Salva em CSV para gráfico"
   ]
  },
  {
   "cell_type": "code",
   "execution_count": 42,
   "metadata": {},
   "outputs": [],
   "source": [
    "salva = pagamentos_covid19.groupby([\"Unidade Gestora_x\"]).valor_pago_em_real.sum().reset_index().sort_values(\"valor_pago_em_real\", ascending=False)"
   ]
  },
  {
   "cell_type": "code",
   "execution_count": 43,
   "metadata": {},
   "outputs": [
    {
     "name": "stdout",
     "output_type": "stream",
     "text": [
      "<class 'pandas.core.frame.DataFrame'>\n",
      "Int64Index: 614 entries, 357 to 545\n",
      "Data columns (total 2 columns):\n",
      " #   Column              Non-Null Count  Dtype  \n",
      "---  ------              --------------  -----  \n",
      " 0   Unidade Gestora_x   614 non-null    object \n",
      " 1   valor_pago_em_real  614 non-null    float64\n",
      "dtypes: float64(1), object(1)\n",
      "memory usage: 14.4+ KB\n"
     ]
    }
   ],
   "source": [
    "salva.info()"
   ]
  },
  {
   "cell_type": "code",
   "execution_count": 44,
   "metadata": {},
   "outputs": [],
   "source": [
    "salva.to_csv('resultados/graficos/soma_ordenada_unidade_gestora_pagamentos_feitos_de_empenhos_covid19_ate_12_junho_2020.csv', index=False)"
   ]
  },
  {
   "cell_type": "code",
   "execution_count": null,
   "metadata": {},
   "outputs": [],
   "source": []
  },
  {
   "cell_type": "code",
   "execution_count": 45,
   "metadata": {},
   "outputs": [],
   "source": [
    "# Detalha DEPARTAMENTO DE LOGISTICA EM SAUDE - DLOG"
   ]
  },
  {
   "cell_type": "code",
   "execution_count": 46,
   "metadata": {},
   "outputs": [
    {
     "data": {
      "text/html": [
       "<div>\n",
       "<style scoped>\n",
       "    .dataframe tbody tr th:only-of-type {\n",
       "        vertical-align: middle;\n",
       "    }\n",
       "\n",
       "    .dataframe tbody tr th {\n",
       "        vertical-align: top;\n",
       "    }\n",
       "\n",
       "    .dataframe thead th {\n",
       "        text-align: right;\n",
       "    }\n",
       "</style>\n",
       "<table border=\"1\" class=\"dataframe\">\n",
       "  <thead>\n",
       "    <tr style=\"text-align: right;\">\n",
       "      <th></th>\n",
       "      <th>Favorecido_x</th>\n",
       "      <th>valor_pago_em_real</th>\n",
       "    </tr>\n",
       "  </thead>\n",
       "  <tbody>\n",
       "    <tr>\n",
       "      <th>5</th>\n",
       "      <td>GLOBAL BASE DEVELOPMENT HK LIMITED</td>\n",
       "      <td>445,930,534.50</td>\n",
       "    </tr>\n",
       "    <tr>\n",
       "      <th>7</th>\n",
       "      <td>INTERMED EQUIPAMENTO MEDICO HOSPITALAR LTDA</td>\n",
       "      <td>141,900,000.00</td>\n",
       "    </tr>\n",
       "    <tr>\n",
       "      <th>14</th>\n",
       "      <td>MAGNAMED TECNOLOGIA MEDICA S/A</td>\n",
       "      <td>129,020,160.00</td>\n",
       "    </tr>\n",
       "    <tr>\n",
       "      <th>3</th>\n",
       "      <td>DESCARPACK DESCARTAVEIS DO BRASIL LTDA</td>\n",
       "      <td>30,544,000.00</td>\n",
       "    </tr>\n",
       "    <tr>\n",
       "      <th>11</th>\n",
       "      <td>LEISTUNG EQUIPAMENTOS LTDA.</td>\n",
       "      <td>12,037,000.00</td>\n",
       "    </tr>\n",
       "    <tr>\n",
       "      <th>12</th>\n",
       "      <td>LIMA &amp; PERGHER INDUSTRIA E COMERCIO S/A</td>\n",
       "      <td>6,387,015.20</td>\n",
       "    </tr>\n",
       "    <tr>\n",
       "      <th>15</th>\n",
       "      <td>NACIONAL COMERCIAL HOSPITALAR S.A.</td>\n",
       "      <td>2,280,000.00</td>\n",
       "    </tr>\n",
       "    <tr>\n",
       "      <th>4</th>\n",
       "      <td>FUTURA DISTRIBUIDORA DE MEDICAMENTOS E PRODUTO...</td>\n",
       "      <td>2,040,000.00</td>\n",
       "    </tr>\n",
       "    <tr>\n",
       "      <th>0</th>\n",
       "      <td>3M DO BRASIL LTDA</td>\n",
       "      <td>1,795,000.00</td>\n",
       "    </tr>\n",
       "    <tr>\n",
       "      <th>10</th>\n",
       "      <td>KTK INDUSTRIA, IMPORTACAO, EXPORTACAO E COMERC...</td>\n",
       "      <td>900,000.00</td>\n",
       "    </tr>\n",
       "    <tr>\n",
       "      <th>18</th>\n",
       "      <td>PROSANIS INDUSTRIA E COMERCIO DE PRODUTOS MEDI...</td>\n",
       "      <td>700,000.00</td>\n",
       "    </tr>\n",
       "    <tr>\n",
       "      <th>21</th>\n",
       "      <td>S.M GUIMARAES</td>\n",
       "      <td>406,200.00</td>\n",
       "    </tr>\n",
       "    <tr>\n",
       "      <th>20</th>\n",
       "      <td>ROCHA LOPES REPRESENTACAO &amp; COMERCIO DE PRODUT...</td>\n",
       "      <td>347,900.00</td>\n",
       "    </tr>\n",
       "    <tr>\n",
       "      <th>9</th>\n",
       "      <td>JOAOMED COMERCIO DE MATERIAIS CIRURGICOS S/A</td>\n",
       "      <td>248,000.00</td>\n",
       "    </tr>\n",
       "    <tr>\n",
       "      <th>19</th>\n",
       "      <td>REAGEN PRODUTOS PARA LABORATORIOS EIRELI</td>\n",
       "      <td>215,528.00</td>\n",
       "    </tr>\n",
       "    <tr>\n",
       "      <th>6</th>\n",
       "      <td>INDALABOR INDAIA LABORATORIO FARMACEUTICO LTDA</td>\n",
       "      <td>124,000.00</td>\n",
       "    </tr>\n",
       "    <tr>\n",
       "      <th>1</th>\n",
       "      <td>A C L ASSISTENCIA E COMERCIO DE PRODUTOS PARA ...</td>\n",
       "      <td>64,498.80</td>\n",
       "    </tr>\n",
       "    <tr>\n",
       "      <th>8</th>\n",
       "      <td>JKLAB PRODUTOS E SOLUCOES PARA LABORATORIOS LTDA</td>\n",
       "      <td>47,505.72</td>\n",
       "    </tr>\n",
       "    <tr>\n",
       "      <th>13</th>\n",
       "      <td>MACMED SOLUCOES EM SAUDE LTDA.</td>\n",
       "      <td>36,000.00</td>\n",
       "    </tr>\n",
       "    <tr>\n",
       "      <th>23</th>\n",
       "      <td>SINTESE BIOTECNOLOGIA LTDA.</td>\n",
       "      <td>17,791.70</td>\n",
       "    </tr>\n",
       "  </tbody>\n",
       "</table>\n",
       "</div>"
      ],
      "text/plain": [
       "                                         Favorecido_x  valor_pago_em_real\n",
       "5                  GLOBAL BASE DEVELOPMENT HK LIMITED      445,930,534.50\n",
       "7         INTERMED EQUIPAMENTO MEDICO HOSPITALAR LTDA      141,900,000.00\n",
       "14                     MAGNAMED TECNOLOGIA MEDICA S/A      129,020,160.00\n",
       "3              DESCARPACK DESCARTAVEIS DO BRASIL LTDA       30,544,000.00\n",
       "11                        LEISTUNG EQUIPAMENTOS LTDA.       12,037,000.00\n",
       "12            LIMA & PERGHER INDUSTRIA E COMERCIO S/A        6,387,015.20\n",
       "15                 NACIONAL COMERCIAL HOSPITALAR S.A.        2,280,000.00\n",
       "4   FUTURA DISTRIBUIDORA DE MEDICAMENTOS E PRODUTO...        2,040,000.00\n",
       "0                                   3M DO BRASIL LTDA        1,795,000.00\n",
       "10  KTK INDUSTRIA, IMPORTACAO, EXPORTACAO E COMERC...          900,000.00\n",
       "18  PROSANIS INDUSTRIA E COMERCIO DE PRODUTOS MEDI...          700,000.00\n",
       "21                                      S.M GUIMARAES          406,200.00\n",
       "20  ROCHA LOPES REPRESENTACAO & COMERCIO DE PRODUT...          347,900.00\n",
       "9        JOAOMED COMERCIO DE MATERIAIS CIRURGICOS S/A          248,000.00\n",
       "19           REAGEN PRODUTOS PARA LABORATORIOS EIRELI          215,528.00\n",
       "6      INDALABOR INDAIA LABORATORIO FARMACEUTICO LTDA          124,000.00\n",
       "1   A C L ASSISTENCIA E COMERCIO DE PRODUTOS PARA ...           64,498.80\n",
       "8    JKLAB PRODUTOS E SOLUCOES PARA LABORATORIOS LTDA           47,505.72\n",
       "13                     MACMED SOLUCOES EM SAUDE LTDA.           36,000.00\n",
       "23                        SINTESE BIOTECNOLOGIA LTDA.           17,791.70"
      ]
     },
     "execution_count": 46,
     "metadata": {},
     "output_type": "execute_result"
    }
   ],
   "source": [
    "procura = pagamentos_covid19[(pagamentos_covid19['Unidade Gestora_x'] == 'DEPARTAMENTO DE LOGISTICA EM SAUDE - DLOG') ]\n",
    "procura.groupby([\"Favorecido_x\"]).valor_pago_em_real.sum().reset_index().sort_values(\"valor_pago_em_real\", ascending=False).head(20)"
   ]
  },
  {
   "cell_type": "code",
   "execution_count": 47,
   "metadata": {},
   "outputs": [
    {
     "data": {
      "text/plain": [
       "775070342.9200001"
      ]
     },
     "execution_count": 47,
     "metadata": {},
     "output_type": "execute_result"
    }
   ],
   "source": [
    "procura['valor_pago_em_real'].sum()"
   ]
  },
  {
   "cell_type": "code",
   "execution_count": null,
   "metadata": {},
   "outputs": [],
   "source": []
  },
  {
   "cell_type": "code",
   "execution_count": 48,
   "metadata": {},
   "outputs": [],
   "source": [
    "# FUNDO NACIONAL DE ASSISTENCIA SOCIAL"
   ]
  },
  {
   "cell_type": "code",
   "execution_count": 49,
   "metadata": {},
   "outputs": [
    {
     "data": {
      "text/html": [
       "<div>\n",
       "<style scoped>\n",
       "    .dataframe tbody tr th:only-of-type {\n",
       "        vertical-align: middle;\n",
       "    }\n",
       "\n",
       "    .dataframe tbody tr th {\n",
       "        vertical-align: top;\n",
       "    }\n",
       "\n",
       "    .dataframe thead th {\n",
       "        text-align: right;\n",
       "    }\n",
       "</style>\n",
       "<table border=\"1\" class=\"dataframe\">\n",
       "  <thead>\n",
       "    <tr style=\"text-align: right;\">\n",
       "      <th></th>\n",
       "      <th>Favorecido_x</th>\n",
       "      <th>valor_pago_em_real</th>\n",
       "    </tr>\n",
       "  </thead>\n",
       "  <tbody>\n",
       "    <tr>\n",
       "      <th>0</th>\n",
       "      <td>FUNDO NACIONAL DE ASSISTENCIA SOCIAL</td>\n",
       "      <td>997,467,453.81</td>\n",
       "    </tr>\n",
       "  </tbody>\n",
       "</table>\n",
       "</div>"
      ],
      "text/plain": [
       "                           Favorecido_x  valor_pago_em_real\n",
       "0  FUNDO NACIONAL DE ASSISTENCIA SOCIAL      997,467,453.81"
      ]
     },
     "execution_count": 49,
     "metadata": {},
     "output_type": "execute_result"
    }
   ],
   "source": [
    "procura = pagamentos_covid19[(pagamentos_covid19['Unidade Gestora_x'] == 'FUNDO NACIONAL DE ASSISTENCIA SOCIAL') ]\n",
    "procura.groupby([\"Favorecido_x\"]).valor_pago_em_real.sum().reset_index().sort_values(\"valor_pago_em_real\", ascending=False).head(20)"
   ]
  },
  {
   "cell_type": "code",
   "execution_count": null,
   "metadata": {},
   "outputs": [],
   "source": []
  },
  {
   "cell_type": "code",
   "execution_count": null,
   "metadata": {},
   "outputs": [],
   "source": []
  },
  {
   "cell_type": "code",
   "execution_count": 50,
   "metadata": {},
   "outputs": [],
   "source": [
    "# Agrupa a soma de valores pagos em Gestão - 20 primeiros"
   ]
  },
  {
   "cell_type": "code",
   "execution_count": 51,
   "metadata": {},
   "outputs": [
    {
     "data": {
      "text/html": [
       "<div>\n",
       "<style scoped>\n",
       "    .dataframe tbody tr th:only-of-type {\n",
       "        vertical-align: middle;\n",
       "    }\n",
       "\n",
       "    .dataframe tbody tr th {\n",
       "        vertical-align: top;\n",
       "    }\n",
       "\n",
       "    .dataframe thead th {\n",
       "        text-align: right;\n",
       "    }\n",
       "</style>\n",
       "<table border=\"1\" class=\"dataframe\">\n",
       "  <thead>\n",
       "    <tr style=\"text-align: right;\">\n",
       "      <th></th>\n",
       "      <th>Gestão_x</th>\n",
       "      <th>valor_pago_em_real</th>\n",
       "    </tr>\n",
       "  </thead>\n",
       "  <tbody>\n",
       "    <tr>\n",
       "      <th>35</th>\n",
       "      <td>TESOURO NACIONAL</td>\n",
       "      <td>12,085,378,200.78</td>\n",
       "    </tr>\n",
       "    <tr>\n",
       "      <th>4</th>\n",
       "      <td>FUNDACAO OSWALDO CRUZ</td>\n",
       "      <td>316,413,389.19</td>\n",
       "    </tr>\n",
       "    <tr>\n",
       "      <th>2</th>\n",
       "      <td>EMPRESA BRASILEIRA DE SERVICOS HOSPITALARES</td>\n",
       "      <td>27,470,544.63</td>\n",
       "    </tr>\n",
       "    <tr>\n",
       "      <th>16</th>\n",
       "      <td>HOSPITAL DE CLINICAS DE PORTO ALEGRE</td>\n",
       "      <td>24,458,621.52</td>\n",
       "    </tr>\n",
       "    <tr>\n",
       "      <th>0</th>\n",
       "      <td>COMPANHIA NACIONAL DE ABASTECIMENTO</td>\n",
       "      <td>20,113,808.55</td>\n",
       "    </tr>\n",
       "    <tr>\n",
       "      <th>45</th>\n",
       "      <td>UNIVERSIDADE FEDERAL DE MINAS GERAIS</td>\n",
       "      <td>19,423,983.02</td>\n",
       "    </tr>\n",
       "    <tr>\n",
       "      <th>46</th>\n",
       "      <td>UNIVERSIDADE FEDERAL DE PERNAMBUCO</td>\n",
       "      <td>8,374,944.73</td>\n",
       "    </tr>\n",
       "    <tr>\n",
       "      <th>20</th>\n",
       "      <td>INST.FED.DE EDUC.,CIENC.E TEC.DE GOIAS</td>\n",
       "      <td>7,761,900.00</td>\n",
       "    </tr>\n",
       "    <tr>\n",
       "      <th>5</th>\n",
       "      <td>FUNDACAO UNIVERSIDADE DE BRASILIA</td>\n",
       "      <td>6,571,954.00</td>\n",
       "    </tr>\n",
       "    <tr>\n",
       "      <th>9</th>\n",
       "      <td>FUNDACAO UNIVERSIDADE FEDERAL DE PELOTAS</td>\n",
       "      <td>5,293,497.60</td>\n",
       "    </tr>\n",
       "    <tr>\n",
       "      <th>39</th>\n",
       "      <td>UNIVERSIDADE FEDERAL DE ALAGOAS</td>\n",
       "      <td>4,714,970.00</td>\n",
       "    </tr>\n",
       "    <tr>\n",
       "      <th>3</th>\n",
       "      <td>FUNDACAO NACIONAL DO INDIO</td>\n",
       "      <td>4,612,371.02</td>\n",
       "    </tr>\n",
       "    <tr>\n",
       "      <th>55</th>\n",
       "      <td>UNIVERSIDADE FEDERAL DO RIO DE JANEIRO</td>\n",
       "      <td>3,373,017.40</td>\n",
       "    </tr>\n",
       "    <tr>\n",
       "      <th>50</th>\n",
       "      <td>UNIVERSIDADE FEDERAL DE SAO PAULO</td>\n",
       "      <td>3,175,297.20</td>\n",
       "    </tr>\n",
       "    <tr>\n",
       "      <th>11</th>\n",
       "      <td>FUNDACAO UNIVERSIDADE FEDERAL DE SERGIPE</td>\n",
       "      <td>1,820,000.00</td>\n",
       "    </tr>\n",
       "    <tr>\n",
       "      <th>56</th>\n",
       "      <td>UNIVERSIDADE FEDERAL DO RIO GRANDE DO NORTE</td>\n",
       "      <td>1,673,580.40</td>\n",
       "    </tr>\n",
       "    <tr>\n",
       "      <th>52</th>\n",
       "      <td>UNIVERSIDADE FEDERAL DO CEARA</td>\n",
       "      <td>1,443,078.00</td>\n",
       "    </tr>\n",
       "    <tr>\n",
       "      <th>15</th>\n",
       "      <td>FUNDACAO UNIVERSIDADE FEDERAL DO TOCANTINS</td>\n",
       "      <td>1,345,000.00</td>\n",
       "    </tr>\n",
       "    <tr>\n",
       "      <th>48</th>\n",
       "      <td>UNIVERSIDADE FEDERAL DE SANTA CATARINA</td>\n",
       "      <td>1,302,320.00</td>\n",
       "    </tr>\n",
       "    <tr>\n",
       "      <th>12</th>\n",
       "      <td>FUNDACAO UNIVERSIDADE FEDERAL DE UBERLANDIA</td>\n",
       "      <td>940,871.50</td>\n",
       "    </tr>\n",
       "  </tbody>\n",
       "</table>\n",
       "</div>"
      ],
      "text/plain": [
       "                                       Gestão_x  valor_pago_em_real\n",
       "35                             TESOURO NACIONAL   12,085,378,200.78\n",
       "4                         FUNDACAO OSWALDO CRUZ      316,413,389.19\n",
       "2   EMPRESA BRASILEIRA DE SERVICOS HOSPITALARES       27,470,544.63\n",
       "16         HOSPITAL DE CLINICAS DE PORTO ALEGRE       24,458,621.52\n",
       "0           COMPANHIA NACIONAL DE ABASTECIMENTO       20,113,808.55\n",
       "45         UNIVERSIDADE FEDERAL DE MINAS GERAIS       19,423,983.02\n",
       "46           UNIVERSIDADE FEDERAL DE PERNAMBUCO        8,374,944.73\n",
       "20       INST.FED.DE EDUC.,CIENC.E TEC.DE GOIAS        7,761,900.00\n",
       "5             FUNDACAO UNIVERSIDADE DE BRASILIA        6,571,954.00\n",
       "9      FUNDACAO UNIVERSIDADE FEDERAL DE PELOTAS        5,293,497.60\n",
       "39              UNIVERSIDADE FEDERAL DE ALAGOAS        4,714,970.00\n",
       "3                    FUNDACAO NACIONAL DO INDIO        4,612,371.02\n",
       "55       UNIVERSIDADE FEDERAL DO RIO DE JANEIRO        3,373,017.40\n",
       "50            UNIVERSIDADE FEDERAL DE SAO PAULO        3,175,297.20\n",
       "11     FUNDACAO UNIVERSIDADE FEDERAL DE SERGIPE        1,820,000.00\n",
       "56  UNIVERSIDADE FEDERAL DO RIO GRANDE DO NORTE        1,673,580.40\n",
       "52                UNIVERSIDADE FEDERAL DO CEARA        1,443,078.00\n",
       "15   FUNDACAO UNIVERSIDADE FEDERAL DO TOCANTINS        1,345,000.00\n",
       "48       UNIVERSIDADE FEDERAL DE SANTA CATARINA        1,302,320.00\n",
       "12  FUNDACAO UNIVERSIDADE FEDERAL DE UBERLANDIA          940,871.50"
      ]
     },
     "execution_count": 51,
     "metadata": {},
     "output_type": "execute_result"
    }
   ],
   "source": [
    "pagamentos_covid19.groupby([\"Gestão_x\"]).valor_pago_em_real.sum().reset_index().sort_values(\"valor_pago_em_real\", ascending=False).head(20)"
   ]
  },
  {
   "cell_type": "code",
   "execution_count": null,
   "metadata": {},
   "outputs": [],
   "source": []
  },
  {
   "cell_type": "code",
   "execution_count": 52,
   "metadata": {},
   "outputs": [],
   "source": [
    "# Agrupa a soma de valores pagos em Favorecido - 20 primeiros"
   ]
  },
  {
   "cell_type": "code",
   "execution_count": 53,
   "metadata": {},
   "outputs": [
    {
     "data": {
      "text/html": [
       "<div>\n",
       "<style scoped>\n",
       "    .dataframe tbody tr th:only-of-type {\n",
       "        vertical-align: middle;\n",
       "    }\n",
       "\n",
       "    .dataframe tbody tr th {\n",
       "        vertical-align: top;\n",
       "    }\n",
       "\n",
       "    .dataframe thead th {\n",
       "        text-align: right;\n",
       "    }\n",
       "</style>\n",
       "<table border=\"1\" class=\"dataframe\">\n",
       "  <thead>\n",
       "    <tr style=\"text-align: right;\">\n",
       "      <th></th>\n",
       "      <th>Favorecido_x</th>\n",
       "      <th>Código Favorecido_x</th>\n",
       "      <th>valor_pago_em_real</th>\n",
       "    </tr>\n",
       "  </thead>\n",
       "  <tbody>\n",
       "    <tr>\n",
       "      <th>656</th>\n",
       "      <td>DIRETORIA EXECUTIVA DO FUNDO NAC. DE SAUDE</td>\n",
       "      <td>257001</td>\n",
       "      <td>8,044,734,190.89</td>\n",
       "    </tr>\n",
       "    <tr>\n",
       "      <th>1750</th>\n",
       "      <td>FUNDO NACIONAL DE ASSISTENCIA SOCIAL</td>\n",
       "      <td>330013</td>\n",
       "      <td>997,467,453.81</td>\n",
       "    </tr>\n",
       "    <tr>\n",
       "      <th>1810</th>\n",
       "      <td>GLOBAL BASE DEVELOPMENT HK LIMITED</td>\n",
       "      <td>EX2590112</td>\n",
       "      <td>445,930,534.50</td>\n",
       "    </tr>\n",
       "    <tr>\n",
       "      <th>2541</th>\n",
       "      <td>ORGANIZACAO PAN-AMERICANA DA SAUDE/ORGANIZACAO...</td>\n",
       "      <td>04096431000154</td>\n",
       "      <td>432,376,875.00</td>\n",
       "    </tr>\n",
       "    <tr>\n",
       "      <th>984</th>\n",
       "      <td>FUNDO ESTADUAL DE SAUDE - FUNDES</td>\n",
       "      <td>13851748000140</td>\n",
       "      <td>152,861,216.00</td>\n",
       "    </tr>\n",
       "    <tr>\n",
       "      <th>1968</th>\n",
       "      <td>INTERMED EQUIPAMENTO MEDICO HOSPITALAR LTDA</td>\n",
       "      <td>49520521000169</td>\n",
       "      <td>141,900,000.00</td>\n",
       "    </tr>\n",
       "    <tr>\n",
       "      <th>2267</th>\n",
       "      <td>MAGNAMED TECNOLOGIA MEDICA S/A</td>\n",
       "      <td>01298443000254</td>\n",
       "      <td>129,020,160.00</td>\n",
       "    </tr>\n",
       "    <tr>\n",
       "      <th>980</th>\n",
       "      <td>FUNDO ESTADUAL DE SAUDE</td>\n",
       "      <td>74031865000151</td>\n",
       "      <td>105,970,421.00</td>\n",
       "    </tr>\n",
       "    <tr>\n",
       "      <th>235</th>\n",
       "      <td>BANCO DO BRASIL SA</td>\n",
       "      <td>00000000000191</td>\n",
       "      <td>74,318,983.48</td>\n",
       "    </tr>\n",
       "    <tr>\n",
       "      <th>1961</th>\n",
       "      <td>INSTITUTO DE BIOLOGIA MOLECULAR DO PARANA - IBMP</td>\n",
       "      <td>03585986000105</td>\n",
       "      <td>63,761,757.75</td>\n",
       "    </tr>\n",
       "    <tr>\n",
       "      <th>548</th>\n",
       "      <td>COORDENACAO-GERAL DE GESTAO DE PESSOAS</td>\n",
       "      <td>250006</td>\n",
       "      <td>60,425,474.60</td>\n",
       "    </tr>\n",
       "    <tr>\n",
       "      <th>2705</th>\n",
       "      <td>RAC ENGENHARIA E COMERCIO LTDA</td>\n",
       "      <td>04392190000190</td>\n",
       "      <td>58,055,478.35</td>\n",
       "    </tr>\n",
       "    <tr>\n",
       "      <th>985</th>\n",
       "      <td>FUNDO ESTADUAL DE SAUDE DE PERNAMBUCO</td>\n",
       "      <td>11430018000140</td>\n",
       "      <td>54,921,718.00</td>\n",
       "    </tr>\n",
       "    <tr>\n",
       "      <th>986</th>\n",
       "      <td>FUNDO ESTADUAL DE SAUDE DO ESTADO DA BAHIA</td>\n",
       "      <td>05816630000152</td>\n",
       "      <td>54,869,588.00</td>\n",
       "    </tr>\n",
       "    <tr>\n",
       "      <th>911</th>\n",
       "      <td>FIOTEC - FUNDACAO PARA O DESENVOLVIMENTO CIENT...</td>\n",
       "      <td>02385669000174</td>\n",
       "      <td>51,234,488.06</td>\n",
       "    </tr>\n",
       "    <tr>\n",
       "      <th>969</th>\n",
       "      <td>FUNDO DE SAUDE DO DISTRITO FEDERAL</td>\n",
       "      <td>12116247000157</td>\n",
       "      <td>50,437,829.00</td>\n",
       "    </tr>\n",
       "    <tr>\n",
       "      <th>912</th>\n",
       "      <td>FIOTEC - FUNDACAO PARA O DESENVOLVIMENTO CIENT...</td>\n",
       "      <td>02385669000174</td>\n",
       "      <td>49,998,378.17</td>\n",
       "    </tr>\n",
       "    <tr>\n",
       "      <th>1404</th>\n",
       "      <td>FUNDO MUNICIPAL DE SAUDE DE DUQUE DE CAXIAS</td>\n",
       "      <td>11128809000110</td>\n",
       "      <td>48,737,165.00</td>\n",
       "    </tr>\n",
       "    <tr>\n",
       "      <th>981</th>\n",
       "      <td>FUNDO ESTADUAL DE SAUDE</td>\n",
       "      <td>87182846000178</td>\n",
       "      <td>48,518,312.00</td>\n",
       "    </tr>\n",
       "    <tr>\n",
       "      <th>835</th>\n",
       "      <td>ESTADO DO MARANHAO - FUNDO ESTADUAL DE SAUDE /...</td>\n",
       "      <td>06023953000151</td>\n",
       "      <td>43,336,600.00</td>\n",
       "    </tr>\n",
       "  </tbody>\n",
       "</table>\n",
       "</div>"
      ],
      "text/plain": [
       "                                           Favorecido_x Código Favorecido_x  \\\n",
       "656          DIRETORIA EXECUTIVA DO FUNDO NAC. DE SAUDE              257001   \n",
       "1750               FUNDO NACIONAL DE ASSISTENCIA SOCIAL              330013   \n",
       "1810                 GLOBAL BASE DEVELOPMENT HK LIMITED           EX2590112   \n",
       "2541  ORGANIZACAO PAN-AMERICANA DA SAUDE/ORGANIZACAO...      04096431000154   \n",
       "984                    FUNDO ESTADUAL DE SAUDE - FUNDES      13851748000140   \n",
       "1968        INTERMED EQUIPAMENTO MEDICO HOSPITALAR LTDA      49520521000169   \n",
       "2267                     MAGNAMED TECNOLOGIA MEDICA S/A      01298443000254   \n",
       "980                             FUNDO ESTADUAL DE SAUDE      74031865000151   \n",
       "235                                  BANCO DO BRASIL SA      00000000000191   \n",
       "1961   INSTITUTO DE BIOLOGIA MOLECULAR DO PARANA - IBMP      03585986000105   \n",
       "548              COORDENACAO-GERAL DE GESTAO DE PESSOAS              250006   \n",
       "2705                     RAC ENGENHARIA E COMERCIO LTDA      04392190000190   \n",
       "985               FUNDO ESTADUAL DE SAUDE DE PERNAMBUCO      11430018000140   \n",
       "986          FUNDO ESTADUAL DE SAUDE DO ESTADO DA BAHIA      05816630000152   \n",
       "911   FIOTEC - FUNDACAO PARA O DESENVOLVIMENTO CIENT...      02385669000174   \n",
       "969                  FUNDO DE SAUDE DO DISTRITO FEDERAL      12116247000157   \n",
       "912   FIOTEC - FUNDACAO PARA O DESENVOLVIMENTO CIENT...      02385669000174   \n",
       "1404        FUNDO MUNICIPAL DE SAUDE DE DUQUE DE CAXIAS      11128809000110   \n",
       "981                             FUNDO ESTADUAL DE SAUDE      87182846000178   \n",
       "835   ESTADO DO MARANHAO - FUNDO ESTADUAL DE SAUDE /...      06023953000151   \n",
       "\n",
       "      valor_pago_em_real  \n",
       "656     8,044,734,190.89  \n",
       "1750      997,467,453.81  \n",
       "1810      445,930,534.50  \n",
       "2541      432,376,875.00  \n",
       "984       152,861,216.00  \n",
       "1968      141,900,000.00  \n",
       "2267      129,020,160.00  \n",
       "980       105,970,421.00  \n",
       "235        74,318,983.48  \n",
       "1961       63,761,757.75  \n",
       "548        60,425,474.60  \n",
       "2705       58,055,478.35  \n",
       "985        54,921,718.00  \n",
       "986        54,869,588.00  \n",
       "911        51,234,488.06  \n",
       "969        50,437,829.00  \n",
       "912        49,998,378.17  \n",
       "1404       48,737,165.00  \n",
       "981        48,518,312.00  \n",
       "835        43,336,600.00  "
      ]
     },
     "execution_count": 53,
     "metadata": {},
     "output_type": "execute_result"
    }
   ],
   "source": [
    "pagamentos_covid19.groupby([\"Favorecido_x\", \"Código Favorecido_x\"]).valor_pago_em_real.sum().reset_index().sort_values(\"valor_pago_em_real\", ascending=False).head(20)"
   ]
  },
  {
   "cell_type": "code",
   "execution_count": 54,
   "metadata": {},
   "outputs": [],
   "source": [
    "procura = pagamentos_covid19[(pagamentos_covid19['Código Favorecido_x'] == '49520521000169') ]"
   ]
  },
  {
   "cell_type": "code",
   "execution_count": 55,
   "metadata": {},
   "outputs": [
    {
     "data": {
      "text/html": [
       "<div>\n",
       "<style scoped>\n",
       "    .dataframe tbody tr th:only-of-type {\n",
       "        vertical-align: middle;\n",
       "    }\n",
       "\n",
       "    .dataframe tbody tr th {\n",
       "        vertical-align: top;\n",
       "    }\n",
       "\n",
       "    .dataframe thead th {\n",
       "        text-align: right;\n",
       "    }\n",
       "</style>\n",
       "<table border=\"1\" class=\"dataframe\">\n",
       "  <thead>\n",
       "    <tr style=\"text-align: right;\">\n",
       "      <th></th>\n",
       "      <th>Código Empenho</th>\n",
       "      <th>Id Empenho</th>\n",
       "      <th>valor_pago_em_real</th>\n",
       "    </tr>\n",
       "  </thead>\n",
       "  <tbody>\n",
       "    <tr>\n",
       "      <th>0</th>\n",
       "      <td>250005000012020NE000104</td>\n",
       "      <td>178500504</td>\n",
       "      <td>141,900,000.00</td>\n",
       "    </tr>\n",
       "  </tbody>\n",
       "</table>\n",
       "</div>"
      ],
      "text/plain": [
       "            Código Empenho Id Empenho  valor_pago_em_real\n",
       "0  250005000012020NE000104  178500504      141,900,000.00"
      ]
     },
     "execution_count": 55,
     "metadata": {},
     "output_type": "execute_result"
    }
   ],
   "source": [
    "procura.groupby([\"Código Empenho\", \"Id Empenho\"]).valor_pago_em_real.sum().reset_index().sort_values(\"valor_pago_em_real\", ascending=False)"
   ]
  },
  {
   "cell_type": "code",
   "execution_count": 56,
   "metadata": {},
   "outputs": [
    {
     "data": {
      "text/html": [
       "<div>\n",
       "<style scoped>\n",
       "    .dataframe tbody tr th:only-of-type {\n",
       "        vertical-align: middle;\n",
       "    }\n",
       "\n",
       "    .dataframe tbody tr th {\n",
       "        vertical-align: top;\n",
       "    }\n",
       "\n",
       "    .dataframe thead th {\n",
       "        text-align: right;\n",
       "    }\n",
       "</style>\n",
       "<table border=\"1\" class=\"dataframe\">\n",
       "  <thead>\n",
       "    <tr style=\"text-align: right;\">\n",
       "      <th></th>\n",
       "      <th>Data Emissão_x</th>\n",
       "      <th>Código Empenho</th>\n",
       "      <th>Id Empenho</th>\n",
       "      <th>Órgão_x</th>\n",
       "      <th>Unidade Gestora_x</th>\n",
       "      <th>Código Favorecido_x</th>\n",
       "      <th>Favorecido_x</th>\n",
       "      <th>Valor do Empenho Convertido pra R$</th>\n",
       "      <th>valor_pago_em_real</th>\n",
       "      <th>Valor Restos a Pagar Inscritos (R$)</th>\n",
       "      <th>Observação_x</th>\n",
       "      <th>Observação_y</th>\n",
       "      <th>Modalidade de Licitação</th>\n",
       "    </tr>\n",
       "  </thead>\n",
       "  <tbody>\n",
       "    <tr>\n",
       "      <th>12610</th>\n",
       "      <td>13/04/2020</td>\n",
       "      <td>250005000012020NE000104</td>\n",
       "      <td>178500504</td>\n",
       "      <td>Ministério da Saúde - Unidades com vínculo di</td>\n",
       "      <td>DEPARTAMENTO DE LOGISTICA EM SAUDE - DLOG</td>\n",
       "      <td>49520521000169</td>\n",
       "      <td>INTERMED EQUIPAMENTO MEDICO HOSPITALAR LTDA</td>\n",
       "      <td>258,000,000.00</td>\n",
       "      <td>8,301,150.00</td>\n",
       "      <td>0.00</td>\n",
       "      <td>ATENDER DESPESAS COM AQUISICAO DE 4.300 VENTIL...</td>\n",
       "      <td>IN 1234/2012</td>\n",
       "      <td>Não se Aplica</td>\n",
       "    </tr>\n",
       "    <tr>\n",
       "      <th>12611</th>\n",
       "      <td>13/04/2020</td>\n",
       "      <td>250005000012020NE000104</td>\n",
       "      <td>178500504</td>\n",
       "      <td>Ministério da Saúde - Unidades com vínculo di</td>\n",
       "      <td>DEPARTAMENTO DE LOGISTICA EM SAUDE - DLOG</td>\n",
       "      <td>49520521000169</td>\n",
       "      <td>INTERMED EQUIPAMENTO MEDICO HOSPITALAR LTDA</td>\n",
       "      <td>258,000,000.00</td>\n",
       "      <td>133,598,850.00</td>\n",
       "      <td>0.00</td>\n",
       "      <td>ATENDER DESPESAS COM AQUISICAO DE 4.300 VENTIL...</td>\n",
       "      <td>PGTO PARA EMPRESA INTERMED EQUIPAMENTOS REF. A...</td>\n",
       "      <td>Não se Aplica</td>\n",
       "    </tr>\n",
       "  </tbody>\n",
       "</table>\n",
       "</div>"
      ],
      "text/plain": [
       "      Data Emissão_x           Código Empenho Id Empenho  \\\n",
       "12610     13/04/2020  250005000012020NE000104  178500504   \n",
       "12611     13/04/2020  250005000012020NE000104  178500504   \n",
       "\n",
       "                                             Órgão_x  \\\n",
       "12610  Ministério da Saúde - Unidades com vínculo di   \n",
       "12611  Ministério da Saúde - Unidades com vínculo di   \n",
       "\n",
       "                               Unidade Gestora_x Código Favorecido_x  \\\n",
       "12610  DEPARTAMENTO DE LOGISTICA EM SAUDE - DLOG      49520521000169   \n",
       "12611  DEPARTAMENTO DE LOGISTICA EM SAUDE - DLOG      49520521000169   \n",
       "\n",
       "                                      Favorecido_x  \\\n",
       "12610  INTERMED EQUIPAMENTO MEDICO HOSPITALAR LTDA   \n",
       "12611  INTERMED EQUIPAMENTO MEDICO HOSPITALAR LTDA   \n",
       "\n",
       "       Valor do Empenho Convertido pra R$  valor_pago_em_real  \\\n",
       "12610                      258,000,000.00        8,301,150.00   \n",
       "12611                      258,000,000.00      133,598,850.00   \n",
       "\n",
       "       Valor Restos a Pagar Inscritos (R$)  \\\n",
       "12610                                 0.00   \n",
       "12611                                 0.00   \n",
       "\n",
       "                                            Observação_x  \\\n",
       "12610  ATENDER DESPESAS COM AQUISICAO DE 4.300 VENTIL...   \n",
       "12611  ATENDER DESPESAS COM AQUISICAO DE 4.300 VENTIL...   \n",
       "\n",
       "                                            Observação_y  \\\n",
       "12610                                       IN 1234/2012   \n",
       "12611  PGTO PARA EMPRESA INTERMED EQUIPAMENTOS REF. A...   \n",
       "\n",
       "      Modalidade de Licitação  \n",
       "12610           Não se Aplica  \n",
       "12611           Não se Aplica  "
      ]
     },
     "execution_count": 56,
     "metadata": {},
     "output_type": "execute_result"
    }
   ],
   "source": [
    "procura[[\"Data Emissão_x\",\"Código Empenho\", \"Id Empenho\", \"Órgão_x\", \"Unidade Gestora_x\", \"Código Favorecido_x\", \"Favorecido_x\", \"Valor do Empenho Convertido pra R$\", \"valor_pago_em_real\", \"Valor Restos a Pagar Inscritos (R$)\", \"Observação_x\", \"Observação_y\",  \"Modalidade de Licitação\"]]"
   ]
  },
  {
   "cell_type": "code",
   "execution_count": null,
   "metadata": {},
   "outputs": [],
   "source": []
  },
  {
   "cell_type": "code",
   "execution_count": 57,
   "metadata": {},
   "outputs": [],
   "source": [
    "procura = pagamentos_covid19[(pagamentos_covid19['Código Favorecido_x'] == 'EX2590112') ]"
   ]
  },
  {
   "cell_type": "code",
   "execution_count": 58,
   "metadata": {},
   "outputs": [
    {
     "data": {
      "text/plain": [
       "445930534.5"
      ]
     },
     "execution_count": 58,
     "metadata": {},
     "output_type": "execute_result"
    }
   ],
   "source": [
    "procura['valor_pago_em_real'].sum()"
   ]
  },
  {
   "cell_type": "code",
   "execution_count": null,
   "metadata": {},
   "outputs": [],
   "source": []
  },
  {
   "cell_type": "code",
   "execution_count": 59,
   "metadata": {},
   "outputs": [],
   "source": [
    "# Salva um CSV para criar gráfico"
   ]
  },
  {
   "cell_type": "code",
   "execution_count": 60,
   "metadata": {},
   "outputs": [],
   "source": [
    "salva = pagamentos_covid19.groupby([\"Favorecido_x\", \"Código Favorecido_x\"]).valor_pago_em_real.sum().reset_index().sort_values(\"valor_pago_em_real\", ascending=False)"
   ]
  },
  {
   "cell_type": "code",
   "execution_count": 61,
   "metadata": {},
   "outputs": [
    {
     "name": "stdout",
     "output_type": "stream",
     "text": [
      "<class 'pandas.core.frame.DataFrame'>\n",
      "Int64Index: 3184 entries, 656 to 764\n",
      "Data columns (total 3 columns):\n",
      " #   Column               Non-Null Count  Dtype  \n",
      "---  ------               --------------  -----  \n",
      " 0   Favorecido_x         3184 non-null   object \n",
      " 1   Código Favorecido_x  3184 non-null   object \n",
      " 2   valor_pago_em_real   3184 non-null   float64\n",
      "dtypes: float64(1), object(2)\n",
      "memory usage: 99.5+ KB\n"
     ]
    }
   ],
   "source": [
    "salva.info()"
   ]
  },
  {
   "cell_type": "code",
   "execution_count": 62,
   "metadata": {},
   "outputs": [],
   "source": [
    "salva.to_csv('resultados/graficos/soma_ordenada_favorecidos_pagamentos_feitos_de_empenhos_covid19_ate_12_junho_2020.csv', index=False)"
   ]
  },
  {
   "cell_type": "code",
   "execution_count": null,
   "metadata": {},
   "outputs": [],
   "source": []
  },
  {
   "cell_type": "code",
   "execution_count": null,
   "metadata": {},
   "outputs": [],
   "source": []
  },
  {
   "cell_type": "code",
   "execution_count": 63,
   "metadata": {},
   "outputs": [],
   "source": [
    "import seaborn as sns\n",
    "import matplotlib.pyplot as plt\n",
    "\n",
    "%matplotlib inline"
   ]
  },
  {
   "cell_type": "code",
   "execution_count": 64,
   "metadata": {},
   "outputs": [],
   "source": [
    "graf = pagamentos_covid19.groupby([\"Favorecido_x\", \"Código Favorecido_x\"]).valor_pago_em_real.sum().reset_index().sort_values(\"valor_pago_em_real\", ascending=False).head(15)\n",
    "graf.rename(columns = {'Favorecido_x':'instituicao_empresa_favorecida'},inplace = True)\n",
    "graf.rename(columns = {'Código Favorecido_x':'cod_favorecido'},inplace = True)"
   ]
  },
  {
   "cell_type": "code",
   "execution_count": 65,
   "metadata": {},
   "outputs": [
    {
     "name": "stdout",
     "output_type": "stream",
     "text": [
      "<class 'pandas.core.frame.DataFrame'>\n",
      "Int64Index: 15 entries, 656 to 911\n",
      "Data columns (total 3 columns):\n",
      " #   Column                          Non-Null Count  Dtype  \n",
      "---  ------                          --------------  -----  \n",
      " 0   instituicao_empresa_favorecida  15 non-null     object \n",
      " 1   cod_favorecido                  15 non-null     object \n",
      " 2   valor_pago_em_real              15 non-null     float64\n",
      "dtypes: float64(1), object(2)\n",
      "memory usage: 480.0+ bytes\n"
     ]
    }
   ],
   "source": [
    "graf.info()"
   ]
  },
  {
   "cell_type": "code",
   "execution_count": 66,
   "metadata": {},
   "outputs": [
    {
     "data": {
      "image/png": "[encoded data removed]",
      "text/plain": [
       "<Figure size 1440x1008 with 1 Axes>"
      ]
     },
     "metadata": {},
     "output_type": "display_data"
    }
   ],
   "source": [
    "sns.set(style=\"whitegrid\")\n",
    "\n",
    "fig_dims = (20, 14)\n",
    "fig, ax = plt.subplots(figsize=fig_dims)\n",
    "plt.xticks(rotation=45, ha='right')\n",
    "\n",
    "ax = sns.barplot(x=\"instituicao_empresa_favorecida\", y=\"valor_pago_em_real\", data=graf)"
   ]
  },
  {
   "cell_type": "code",
   "execution_count": null,
   "metadata": {},
   "outputs": [],
   "source": []
  },
  {
   "cell_type": "code",
   "execution_count": 67,
   "metadata": {},
   "outputs": [],
   "source": [
    "# Soma valores em sigilo"
   ]
  },
  {
   "cell_type": "code",
   "execution_count": 68,
   "metadata": {},
   "outputs": [],
   "source": [
    "sigilo = pagamentos_covid19[(pagamentos_covid19['Favorecido_x'] == 'Informação protegida por sigilo nos termos da legislaçã') |  \n",
    "                           (pagamentos_covid19['Código Favorecido_x'] == '-11')]"
   ]
  },
  {
   "cell_type": "code",
   "execution_count": 69,
   "metadata": {},
   "outputs": [
    {
     "data": {
      "text/plain": [
       "946544.69"
      ]
     },
     "execution_count": 69,
     "metadata": {},
     "output_type": "execute_result"
    }
   ],
   "source": [
    "sigilo['valor_pago_em_real'].sum()"
   ]
  },
  {
   "cell_type": "code",
   "execution_count": 70,
   "metadata": {},
   "outputs": [],
   "source": [
    "# Máximo em sigilo"
   ]
  },
  {
   "cell_type": "code",
   "execution_count": 71,
   "metadata": {},
   "outputs": [
    {
     "data": {
      "text/plain": [
       "Data Emissão_x                                                                02/04/2020\n",
       "Código Empenho                                                   160062000012020NE000055\n",
       "Id Empenho                                                                     184000107\n",
       "Código Empenho Resumido                                                     2020NE000055\n",
       "Órgão_x                                                              Comando do Exército\n",
       "Unidade Gestora_x                                     CENTRO DE INTELIGENCIA DO EXERCITO\n",
       "Código Favorecido_x                                                                  -11\n",
       "Favorecido_x                           Informação protegida por sigilo nos termos da ...\n",
       "Valor do Empenho Convertido pra R$                                            380,000.00\n",
       "valor_pago_em_real                                                            380,000.00\n",
       "Valor Restos a Pagar Inscritos (R$)                                                 0.00\n",
       "Observação_x                           Informação protegida por sigilo nos termos da ...\n",
       "Observação_y                           Informação protegida por sigilo nos termos da ...\n",
       "Modalidade de Licitação                                                    Não se Aplica\n",
       "Name: 6858, dtype: object"
      ]
     },
     "execution_count": 71,
     "metadata": {},
     "output_type": "execute_result"
    }
   ],
   "source": [
    "sigilo.loc[sigilo['valor_pago_em_real'].idxmax()][[\"Data Emissão_x\",\"Código Empenho\", \"Id Empenho\", \"Código Empenho Resumido\", \"Órgão_x\", \"Unidade Gestora_x\", \"Código Favorecido_x\", \"Favorecido_x\", \"Valor do Empenho Convertido pra R$\", \"valor_pago_em_real\", \"Valor Restos a Pagar Inscritos (R$)\", \"Observação_x\", \"Observação_y\",  \"Modalidade de Licitação\"]]"
   ]
  },
  {
   "cell_type": "code",
   "execution_count": null,
   "metadata": {},
   "outputs": [],
   "source": []
  },
  {
   "cell_type": "code",
   "execution_count": null,
   "metadata": {},
   "outputs": [],
   "source": []
  },
  {
   "cell_type": "code",
   "execution_count": 72,
   "metadata": {},
   "outputs": [],
   "source": [
    "# Soma valores por autores de Emenda"
   ]
  },
  {
   "cell_type": "code",
   "execution_count": 73,
   "metadata": {},
   "outputs": [],
   "source": [
    "emendas = pagamentos_covid19[(pagamentos_covid19['Autor Emenda'] != 'SEM EMENDA')]"
   ]
  },
  {
   "cell_type": "code",
   "execution_count": 74,
   "metadata": {},
   "outputs": [
    {
     "data": {
      "text/plain": [
       "1482322058.0"
      ]
     },
     "execution_count": 74,
     "metadata": {},
     "output_type": "execute_result"
    }
   ],
   "source": [
    "emendas['valor_pago_em_real'].sum()"
   ]
  },
  {
   "cell_type": "code",
   "execution_count": 75,
   "metadata": {},
   "outputs": [
    {
     "data": {
      "text/html": [
       "<div>\n",
       "<style scoped>\n",
       "    .dataframe tbody tr th:only-of-type {\n",
       "        vertical-align: middle;\n",
       "    }\n",
       "\n",
       "    .dataframe tbody tr th {\n",
       "        vertical-align: top;\n",
       "    }\n",
       "\n",
       "    .dataframe thead th {\n",
       "        text-align: right;\n",
       "    }\n",
       "</style>\n",
       "<table border=\"1\" class=\"dataframe\">\n",
       "  <thead>\n",
       "    <tr style=\"text-align: right;\">\n",
       "      <th></th>\n",
       "      <th>Autor Emenda</th>\n",
       "      <th>valor_pago_em_real</th>\n",
       "    </tr>\n",
       "  </thead>\n",
       "  <tbody>\n",
       "    <tr>\n",
       "      <th>33</th>\n",
       "      <td>BANCADA DO CEARA / EMENDA 14</td>\n",
       "      <td>180,966,340.00</td>\n",
       "    </tr>\n",
       "    <tr>\n",
       "      <th>0</th>\n",
       "      <td>BANCADA DA BAHIA / EMENDA 4</td>\n",
       "      <td>126,904,898.00</td>\n",
       "    </tr>\n",
       "    <tr>\n",
       "      <th>32</th>\n",
       "      <td>BANCADA DO AMAZONAS / EMENDA 5</td>\n",
       "      <td>116,834,308.00</td>\n",
       "    </tr>\n",
       "    <tr>\n",
       "      <th>16</th>\n",
       "      <td>BANCADA DE SAO PAULO / EMENDA 1</td>\n",
       "      <td>105,421,280.00</td>\n",
       "    </tr>\n",
       "    <tr>\n",
       "      <th>37</th>\n",
       "      <td>BANCADA DO MARANHAO / EMENDA 3</td>\n",
       "      <td>80,952,724.00</td>\n",
       "    </tr>\n",
       "    <tr>\n",
       "      <th>7</th>\n",
       "      <td>BANCADA DE GOIAS / EMENDA 7</td>\n",
       "      <td>76,803,508.00</td>\n",
       "    </tr>\n",
       "    <tr>\n",
       "      <th>38</th>\n",
       "      <td>BANCADA DO RIO DE JANEIRO / EMENDA 2</td>\n",
       "      <td>53,215,190.00</td>\n",
       "    </tr>\n",
       "    <tr>\n",
       "      <th>34</th>\n",
       "      <td>BANCADA DO DISTRITO FEDERAL / EMENDA 3</td>\n",
       "      <td>50,437,829.00</td>\n",
       "    </tr>\n",
       "    <tr>\n",
       "      <th>15</th>\n",
       "      <td>BANCADA DE RORAIMA / EMENDA 9</td>\n",
       "      <td>49,014,018.00</td>\n",
       "    </tr>\n",
       "    <tr>\n",
       "      <th>26</th>\n",
       "      <td>BANCADA DE SERGIPE / EMENDA 8</td>\n",
       "      <td>46,185,111.00</td>\n",
       "    </tr>\n",
       "    <tr>\n",
       "      <th>39</th>\n",
       "      <td>BANCADA DO RIO DE JANEIRO / EMENDA 9</td>\n",
       "      <td>44,482,630.00</td>\n",
       "    </tr>\n",
       "    <tr>\n",
       "      <th>36</th>\n",
       "      <td>BANCADA DO MARANHAO / EMENDA 2</td>\n",
       "      <td>41,077,800.00</td>\n",
       "    </tr>\n",
       "    <tr>\n",
       "      <th>31</th>\n",
       "      <td>BANCADA DO AMAPA / EMENDA 5</td>\n",
       "      <td>35,457,173.00</td>\n",
       "    </tr>\n",
       "    <tr>\n",
       "      <th>14</th>\n",
       "      <td>BANCADA DE RONDONIA / EMENDA 4</td>\n",
       "      <td>30,991,725.00</td>\n",
       "    </tr>\n",
       "    <tr>\n",
       "      <th>22</th>\n",
       "      <td>BANCADA DE SAO PAULO / EMENDA 6</td>\n",
       "      <td>27,922,527.00</td>\n",
       "    </tr>\n",
       "    <tr>\n",
       "      <th>40</th>\n",
       "      <td>BANCADA DO RIO GRANDE DO NORTE / EMENDA 11</td>\n",
       "      <td>25,316,244.00</td>\n",
       "    </tr>\n",
       "    <tr>\n",
       "      <th>30</th>\n",
       "      <td>BANCADA DO AMAPA / EMENDA 4</td>\n",
       "      <td>23,774,304.00</td>\n",
       "    </tr>\n",
       "    <tr>\n",
       "      <th>21</th>\n",
       "      <td>BANCADA DE SAO PAULO / EMENDA 5</td>\n",
       "      <td>21,947,992.00</td>\n",
       "    </tr>\n",
       "    <tr>\n",
       "      <th>29</th>\n",
       "      <td>BANCADA DO ACRE / EMENDA 6</td>\n",
       "      <td>21,891,153.00</td>\n",
       "    </tr>\n",
       "    <tr>\n",
       "      <th>18</th>\n",
       "      <td>BANCADA DE SAO PAULO / EMENDA 11</td>\n",
       "      <td>19,531,586.00</td>\n",
       "    </tr>\n",
       "  </tbody>\n",
       "</table>\n",
       "</div>"
      ],
      "text/plain": [
       "                                  Autor Emenda  valor_pago_em_real\n",
       "33                BANCADA DO CEARA / EMENDA 14      180,966,340.00\n",
       "0                  BANCADA DA BAHIA / EMENDA 4      126,904,898.00\n",
       "32              BANCADA DO AMAZONAS / EMENDA 5      116,834,308.00\n",
       "16             BANCADA DE SAO PAULO / EMENDA 1      105,421,280.00\n",
       "37              BANCADA DO MARANHAO / EMENDA 3       80,952,724.00\n",
       "7                  BANCADA DE GOIAS / EMENDA 7       76,803,508.00\n",
       "38        BANCADA DO RIO DE JANEIRO / EMENDA 2       53,215,190.00\n",
       "34      BANCADA DO DISTRITO FEDERAL / EMENDA 3       50,437,829.00\n",
       "15               BANCADA DE RORAIMA / EMENDA 9       49,014,018.00\n",
       "26               BANCADA DE SERGIPE / EMENDA 8       46,185,111.00\n",
       "39        BANCADA DO RIO DE JANEIRO / EMENDA 9       44,482,630.00\n",
       "36              BANCADA DO MARANHAO / EMENDA 2       41,077,800.00\n",
       "31                 BANCADA DO AMAPA / EMENDA 5       35,457,173.00\n",
       "14              BANCADA DE RONDONIA / EMENDA 4       30,991,725.00\n",
       "22             BANCADA DE SAO PAULO / EMENDA 6       27,922,527.00\n",
       "40  BANCADA DO RIO GRANDE DO NORTE / EMENDA 11       25,316,244.00\n",
       "30                 BANCADA DO AMAPA / EMENDA 4       23,774,304.00\n",
       "21             BANCADA DE SAO PAULO / EMENDA 5       21,947,992.00\n",
       "29                  BANCADA DO ACRE / EMENDA 6       21,891,153.00\n",
       "18            BANCADA DE SAO PAULO / EMENDA 11       19,531,586.00"
      ]
     },
     "execution_count": 75,
     "metadata": {},
     "output_type": "execute_result"
    }
   ],
   "source": [
    "emendas.groupby([\"Autor Emenda\"]).valor_pago_em_real.sum().reset_index().sort_values(\"valor_pago_em_real\", ascending=False).head(20)"
   ]
  },
  {
   "cell_type": "code",
   "execution_count": 76,
   "metadata": {},
   "outputs": [],
   "source": [
    "# Salva em CSV para gráfico"
   ]
  },
  {
   "cell_type": "code",
   "execution_count": 77,
   "metadata": {},
   "outputs": [],
   "source": [
    "salva = emendas.groupby([\"Autor Emenda\"]).valor_pago_em_real.sum().reset_index().sort_values(\"valor_pago_em_real\", ascending=False)"
   ]
  },
  {
   "cell_type": "code",
   "execution_count": 78,
   "metadata": {},
   "outputs": [
    {
     "name": "stdout",
     "output_type": "stream",
     "text": [
      "<class 'pandas.core.frame.DataFrame'>\n",
      "Int64Index: 50 entries, 33 to 20\n",
      "Data columns (total 2 columns):\n",
      " #   Column              Non-Null Count  Dtype  \n",
      "---  ------              --------------  -----  \n",
      " 0   Autor Emenda        50 non-null     object \n",
      " 1   valor_pago_em_real  50 non-null     float64\n",
      "dtypes: float64(1), object(1)\n",
      "memory usage: 1.2+ KB\n"
     ]
    }
   ],
   "source": [
    "salva.info()"
   ]
  },
  {
   "cell_type": "code",
   "execution_count": 79,
   "metadata": {},
   "outputs": [],
   "source": [
    "salva.to_csv('resultados/graficos/soma_ordenada_emendas_pagamentos_feitos_de_empenhos_covid19_ate_12_junho_2020.csv', index=False)"
   ]
  },
  {
   "cell_type": "code",
   "execution_count": null,
   "metadata": {},
   "outputs": [],
   "source": []
  }
 ],
 "metadata": {
  "kernelspec": {
   "display_name": "Python 3",
   "language": "python",
   "name": "python3"
  },
  "language_info": {
   "codemirror_mode": {
    "name": "ipython",
    "version": 3
   },
   "file_extension": ".py",
   "mimetype": "text/x-python",
   "name": "python",
   "nbconvert_exporter": "python",
   "pygments_lexer": "ipython3",
   "version": "3.6.9"
  }
 },
 "nbformat": 4,
 "nbformat_minor": 4
}
