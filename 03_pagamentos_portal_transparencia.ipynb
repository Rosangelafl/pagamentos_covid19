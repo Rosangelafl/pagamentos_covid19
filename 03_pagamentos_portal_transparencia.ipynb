{
 "cells": [
  {
   "cell_type": "code",
   "execution_count": 1,
   "metadata": {},
   "outputs": [],
   "source": [
    "# -*- coding: utf-8\n",
    "# Reinaldo Chaves (@paidatocandeira)\n",
    "# Cria dataframes únicos para documentos de empenho e pagamento\n",
    "# Faz cruzamentos para encontrar informaçõs dos fornecedores\n",
    "# Filtra os gastos de combate da covid-19, que possuem \n",
    "# ['Código Ação'] == '21C0'"
   ]
  },
  {
   "cell_type": "code",
   "execution_count": null,
   "metadata": {},
   "outputs": [],
   "source": []
  },
  {
   "cell_type": "code",
   "execution_count": 2,
   "metadata": {},
   "outputs": [],
   "source": [
    "import pandas as pd\n",
    "from pathlib import Path\n",
    "import os"
   ]
  },
  {
   "cell_type": "code",
   "execution_count": null,
   "metadata": {},
   "outputs": [],
   "source": []
  },
  {
   "cell_type": "markdown",
   "metadata": {},
   "source": [
    "# Documentos de empenho, liquidação e pagamento"
   ]
  },
  {
   "cell_type": "code",
   "execution_count": 3,
   "metadata": {},
   "outputs": [],
   "source": [
    "# Os zips de cada dia podem ser encontrados aqui: http://transparencia.gov.br/download-de-dados/despesas"
   ]
  },
  {
   "cell_type": "code",
   "execution_count": 4,
   "metadata": {},
   "outputs": [],
   "source": [
    "# Em cada zip os arquivos que vamos usar são os que terminam por:\n",
    "\n",
    "# Despesas_Empenho\n",
    "\n",
    "# Despesas_Pagamento\n",
    "\n",
    "# Despesas_Pagamento_EmpenhosImpactados"
   ]
  },
  {
   "cell_type": "code",
   "execution_count": null,
   "metadata": {},
   "outputs": [],
   "source": []
  },
  {
   "cell_type": "markdown",
   "metadata": {},
   "source": [
    "### Agrupa todos os arquivos de Despesas_Empenho em único dataframe"
   ]
  },
  {
   "cell_type": "code",
   "execution_count": 5,
   "metadata": {},
   "outputs": [],
   "source": [
    "# Carrega as despesas empenhadas"
   ]
  },
  {
   "cell_type": "code",
   "execution_count": null,
   "metadata": {},
   "outputs": [],
   "source": []
  },
  {
   "cell_type": "code",
   "execution_count": 6,
   "metadata": {},
   "outputs": [
    {
     "name": "stdout",
     "output_type": "stream",
     "text": [
      "/home/abraji/Documentos/Code/covid_19/repo/portal_transparencia\n"
     ]
    }
   ],
   "source": [
    "print(os.getcwd())"
   ]
  },
  {
   "cell_type": "code",
   "execution_count": null,
   "metadata": {},
   "outputs": [],
   "source": []
  },
  {
   "cell_type": "code",
   "execution_count": 7,
   "metadata": {},
   "outputs": [],
   "source": [
    "def _reader_pasta(fname):\n",
    "        return pd.read_csv(fname, sep=';', encoding='latin_1', dtype = 'str')"
   ]
  },
  {
   "cell_type": "code",
   "execution_count": 8,
   "metadata": {},
   "outputs": [],
   "source": [
    "folder = Path(\"zips_empenho_liquidacao_e_pagamento/Despesas_Empenho\")\n",
    "despesas_empenho = pd.concat([\n",
    "    _reader_pasta(csv)\n",
    "    for csv in folder.glob(\"*.csv\")\n",
    "])"
   ]
  },
  {
   "cell_type": "code",
   "execution_count": 9,
   "metadata": {},
   "outputs": [
    {
     "name": "stdout",
     "output_type": "stream",
     "text": [
      "<class 'pandas.core.frame.DataFrame'>\n",
      "Int64Index: 992521 entries, 0 to 8143\n",
      "Data columns (total 63 columns):\n",
      " #   Column                                            Non-Null Count   Dtype \n",
      "---  ------                                            --------------   ----- \n",
      " 0   Id Empenho                                        992521 non-null  object\n",
      " 1   Código Empenho                                    992521 non-null  object\n",
      " 2   Código Empenho Resumido                           992521 non-null  object\n",
      " 3   Data Emissão                                      992521 non-null  object\n",
      " 4   Código Tipo Documento                             992521 non-null  object\n",
      " 5   Tipo Documento                                    992521 non-null  object\n",
      " 6   Tipo Empenho                                      992521 non-null  object\n",
      " 7   Espécie Empenho                                   992521 non-null  object\n",
      " 8   Código Órgão Superior                             992521 non-null  object\n",
      " 9   Órgão Superior                                    992521 non-null  object\n",
      " 10  Código Órgão                                      992521 non-null  object\n",
      " 11  Órgão                                             992521 non-null  object\n",
      " 12  Código Unidade Gestora                            992521 non-null  object\n",
      " 13  Unidade Gestora                                   992521 non-null  object\n",
      " 14  Código Gestão                                     992521 non-null  object\n",
      " 15  Gestão                                            992521 non-null  object\n",
      " 16  Código Favorecido                                 992521 non-null  object\n",
      " 17  Favorecido                                        992521 non-null  object\n",
      " 18  Observação                                        992521 non-null  object\n",
      " 19  Código Esfera Orçamentária                        992521 non-null  object\n",
      " 20  Esfera Orçamentária                               992521 non-null  object\n",
      " 21  Código Tipo Crédito                               992506 non-null  object\n",
      " 22  Tipo Crédito                                      992521 non-null  object\n",
      " 23  Código Grupo Fonte Recurso                        992521 non-null  object\n",
      " 24  Grupo Fonte Recurso                               992521 non-null  object\n",
      " 25  Código Fonte Recurso                              992521 non-null  object\n",
      " 26  Fonte Recurso                                     992521 non-null  object\n",
      " 27  Código Unidade Orçamentária                       992521 non-null  object\n",
      " 28  Unidade Orçamentária                              992521 non-null  object\n",
      " 29  Código Função                                     992521 non-null  object\n",
      " 30  Função                                            992521 non-null  object\n",
      " 31  Código SubFunção                                  992521 non-null  object\n",
      " 32  SubFunção                                         992521 non-null  object\n",
      " 33  Código Programa                                   992521 non-null  object\n",
      " 34  Programa                                          992521 non-null  object\n",
      " 35  Código Ação                                       992521 non-null  object\n",
      " 36  Ação                                              992521 non-null  object\n",
      " 37  Linguagem Cidadã                                  526914 non-null  object\n",
      " 38  Código Subtítulo (Localizador)                    992521 non-null  object\n",
      " 39  Subtítulo (Localizador)                           992521 non-null  object\n",
      " 40  Código Plano Orçamentário                         992521 non-null  object\n",
      " 41  Plano Orçamentário                                992521 non-null  object\n",
      " 42  Código Programa Governo                           992521 non-null  object\n",
      " 43  Nome Programa Governo                             992521 non-null  object\n",
      " 44  Autor Emenda                                      992521 non-null  object\n",
      " 45  Código Categoria de Despesa                       992521 non-null  object\n",
      " 46  Categoria de Despesa                              992521 non-null  object\n",
      " 47  Código Grupo de Despesa                           992521 non-null  object\n",
      " 48  Grupo de Despesa                                  992521 non-null  object\n",
      " 49  Código Modalidade de Aplicação                    992521 non-null  object\n",
      " 50  Modalidade de Aplicação                           992521 non-null  object\n",
      " 51  Código Elemento de Despesa                        992521 non-null  object\n",
      " 52  Elemento de Despesa                               992521 non-null  object\n",
      " 53  Processo                                          992521 non-null  object\n",
      " 54  Modalidade de Licitação                           992521 non-null  object\n",
      " 55  Inciso                                            992521 non-null  object\n",
      " 56  Amparo                                            992521 non-null  object\n",
      " 57  Referência de Dispensa ou Inexigibilidade         992521 non-null  object\n",
      " 58  Código Convênio                                   992521 non-null  object\n",
      " 59  Contrato de Repasse / Termo de Parceria / Outros  992521 non-null  object\n",
      " 60  Valor Original do Empenho                         992521 non-null  object\n",
      " 61  Valor do Empenho Convertido pra R$                992521 non-null  object\n",
      " 62  Valor Utilizado na Conversão                      992521 non-null  object\n",
      "dtypes: object(63)\n",
      "memory usage: 484.6+ MB\n"
     ]
    }
   ],
   "source": [
    "despesas_empenho.info()"
   ]
  },
  {
   "cell_type": "code",
   "execution_count": null,
   "metadata": {},
   "outputs": [],
   "source": []
  },
  {
   "cell_type": "markdown",
   "metadata": {},
   "source": [
    "### Separa pelo código do coronavírus"
   ]
  },
  {
   "cell_type": "code",
   "execution_count": 10,
   "metadata": {},
   "outputs": [
    {
     "name": "stdout",
     "output_type": "stream",
     "text": [
      "<class 'pandas.core.frame.DataFrame'>\n",
      "Int64Index: 18858 entries, 1 to 7493\n",
      "Data columns (total 63 columns):\n",
      " #   Column                                            Non-Null Count  Dtype \n",
      "---  ------                                            --------------  ----- \n",
      " 0   Id Empenho                                        18858 non-null  object\n",
      " 1   Código Empenho                                    18858 non-null  object\n",
      " 2   Código Empenho Resumido                           18858 non-null  object\n",
      " 3   Data Emissão                                      18858 non-null  object\n",
      " 4   Código Tipo Documento                             18858 non-null  object\n",
      " 5   Tipo Documento                                    18858 non-null  object\n",
      " 6   Tipo Empenho                                      18858 non-null  object\n",
      " 7   Espécie Empenho                                   18858 non-null  object\n",
      " 8   Código Órgão Superior                             18858 non-null  object\n",
      " 9   Órgão Superior                                    18858 non-null  object\n",
      " 10  Código Órgão                                      18858 non-null  object\n",
      " 11  Órgão                                             18858 non-null  object\n",
      " 12  Código Unidade Gestora                            18858 non-null  object\n",
      " 13  Unidade Gestora                                   18858 non-null  object\n",
      " 14  Código Gestão                                     18858 non-null  object\n",
      " 15  Gestão                                            18858 non-null  object\n",
      " 16  Código Favorecido                                 18858 non-null  object\n",
      " 17  Favorecido                                        18858 non-null  object\n",
      " 18  Observação                                        18858 non-null  object\n",
      " 19  Código Esfera Orçamentária                        18858 non-null  object\n",
      " 20  Esfera Orçamentária                               18858 non-null  object\n",
      " 21  Código Tipo Crédito                               18858 non-null  object\n",
      " 22  Tipo Crédito                                      18858 non-null  object\n",
      " 23  Código Grupo Fonte Recurso                        18858 non-null  object\n",
      " 24  Grupo Fonte Recurso                               18858 non-null  object\n",
      " 25  Código Fonte Recurso                              18858 non-null  object\n",
      " 26  Fonte Recurso                                     18858 non-null  object\n",
      " 27  Código Unidade Orçamentária                       18858 non-null  object\n",
      " 28  Unidade Orçamentária                              18858 non-null  object\n",
      " 29  Código Função                                     18858 non-null  object\n",
      " 30  Função                                            18858 non-null  object\n",
      " 31  Código SubFunção                                  18858 non-null  object\n",
      " 32  SubFunção                                         18858 non-null  object\n",
      " 33  Código Programa                                   18858 non-null  object\n",
      " 34  Programa                                          18858 non-null  object\n",
      " 35  Código Ação                                       18858 non-null  object\n",
      " 36  Ação                                              18858 non-null  object\n",
      " 37  Linguagem Cidadã                                  0 non-null      object\n",
      " 38  Código Subtítulo (Localizador)                    18858 non-null  object\n",
      " 39  Subtítulo (Localizador)                           18858 non-null  object\n",
      " 40  Código Plano Orçamentário                         18858 non-null  object\n",
      " 41  Plano Orçamentário                                18858 non-null  object\n",
      " 42  Código Programa Governo                           18858 non-null  object\n",
      " 43  Nome Programa Governo                             18858 non-null  object\n",
      " 44  Autor Emenda                                      18858 non-null  object\n",
      " 45  Código Categoria de Despesa                       18858 non-null  object\n",
      " 46  Categoria de Despesa                              18858 non-null  object\n",
      " 47  Código Grupo de Despesa                           18858 non-null  object\n",
      " 48  Grupo de Despesa                                  18858 non-null  object\n",
      " 49  Código Modalidade de Aplicação                    18858 non-null  object\n",
      " 50  Modalidade de Aplicação                           18858 non-null  object\n",
      " 51  Código Elemento de Despesa                        18858 non-null  object\n",
      " 52  Elemento de Despesa                               18858 non-null  object\n",
      " 53  Processo                                          18858 non-null  object\n",
      " 54  Modalidade de Licitação                           18858 non-null  object\n",
      " 55  Inciso                                            18858 non-null  object\n",
      " 56  Amparo                                            18858 non-null  object\n",
      " 57  Referência de Dispensa ou Inexigibilidade         18858 non-null  object\n",
      " 58  Código Convênio                                   18858 non-null  object\n",
      " 59  Contrato de Repasse / Termo de Parceria / Outros  18858 non-null  object\n",
      " 60  Valor Original do Empenho                         18858 non-null  object\n",
      " 61  Valor do Empenho Convertido pra R$                18858 non-null  object\n",
      " 62  Valor Utilizado na Conversão                      18858 non-null  object\n",
      "dtypes: object(63)\n",
      "memory usage: 9.2+ MB\n"
     ]
    }
   ],
   "source": [
    "despesas_empenho_covid19 = despesas_empenho[(despesas_empenho['Código Ação'] == '21C0')]\n",
    "despesas_empenho_covid19.info()"
   ]
  },
  {
   "cell_type": "code",
   "execution_count": null,
   "metadata": {},
   "outputs": [],
   "source": []
  },
  {
   "cell_type": "markdown",
   "metadata": {},
   "source": [
    "### Agrupa todos os arquivos de Despesas_Pagamento_EmpenhosImpactados em único dataframe\n",
    "### Carrega todos pagamentos de empenhos impactados "
   ]
  },
  {
   "cell_type": "code",
   "execution_count": 11,
   "metadata": {},
   "outputs": [],
   "source": [
    "# O problema é que o pagamento de um empenho pode ser numa data diferente\n",
    "# Por isso é preciso baixar um grande intervalo de arquivos"
   ]
  },
  {
   "cell_type": "code",
   "execution_count": null,
   "metadata": {},
   "outputs": [],
   "source": []
  },
  {
   "cell_type": "code",
   "execution_count": 12,
   "metadata": {},
   "outputs": [],
   "source": [
    "folder = Path(\"zips_empenho_liquidacao_e_pagamento/Despesas_Pagamento_EmpenhosImpactados\")\n",
    "despesas_pagamento_empenhosimpactados = pd.concat([\n",
    "    _reader_pasta(csv)\n",
    "    for csv in folder.glob(\"*.csv\")\n",
    "])"
   ]
  },
  {
   "cell_type": "code",
   "execution_count": 13,
   "metadata": {},
   "outputs": [
    {
     "name": "stdout",
     "output_type": "stream",
     "text": [
      "<class 'pandas.core.frame.DataFrame'>\n",
      "Int64Index: 2962926 entries, 0 to 30796\n",
      "Data columns (total 8 columns):\n",
      " #   Column                               Dtype \n",
      "---  ------                               ----- \n",
      " 0   Código Pagamento                     object\n",
      " 1   Código Empenho                       object\n",
      " 2   Código Natureza Despesa Completa     object\n",
      " 3   Subitem                              object\n",
      " 4   Valor Pago (R$)                      object\n",
      " 5   Valor Restos a Pagar Inscritos (R$)  object\n",
      " 6   Valor Restos a Pagar Cancelado (R$)  object\n",
      " 7   Valor Restos a Pagar Pagos (R$)      object\n",
      "dtypes: object(8)\n",
      "memory usage: 203.4+ MB\n"
     ]
    }
   ],
   "source": [
    "despesas_pagamento_empenhosimpactados.info()"
   ]
  },
  {
   "cell_type": "code",
   "execution_count": null,
   "metadata": {},
   "outputs": [],
   "source": []
  },
  {
   "cell_type": "markdown",
   "metadata": {},
   "source": [
    "### Cruza os dois dataframes pelo \"Código Empenho\""
   ]
  },
  {
   "cell_type": "code",
   "execution_count": 14,
   "metadata": {},
   "outputs": [
    {
     "name": "stdout",
     "output_type": "stream",
     "text": [
      "<class 'pandas.core.frame.DataFrame'>\n",
      "Int64Index: 12819 entries, 0 to 12818\n",
      "Data columns (total 70 columns):\n",
      " #   Column                                            Non-Null Count  Dtype \n",
      "---  ------                                            --------------  ----- \n",
      " 0   Id Empenho                                        12819 non-null  object\n",
      " 1   Código Empenho                                    12819 non-null  object\n",
      " 2   Código Empenho Resumido                           12819 non-null  object\n",
      " 3   Data Emissão                                      12819 non-null  object\n",
      " 4   Código Tipo Documento                             12819 non-null  object\n",
      " 5   Tipo Documento                                    12819 non-null  object\n",
      " 6   Tipo Empenho                                      12819 non-null  object\n",
      " 7   Espécie Empenho                                   12819 non-null  object\n",
      " 8   Código Órgão Superior                             12819 non-null  object\n",
      " 9   Órgão Superior                                    12819 non-null  object\n",
      " 10  Código Órgão                                      12819 non-null  object\n",
      " 11  Órgão                                             12819 non-null  object\n",
      " 12  Código Unidade Gestora                            12819 non-null  object\n",
      " 13  Unidade Gestora                                   12819 non-null  object\n",
      " 14  Código Gestão                                     12819 non-null  object\n",
      " 15  Gestão                                            12819 non-null  object\n",
      " 16  Código Favorecido                                 12819 non-null  object\n",
      " 17  Favorecido                                        12819 non-null  object\n",
      " 18  Observação                                        12819 non-null  object\n",
      " 19  Código Esfera Orçamentária                        12819 non-null  object\n",
      " 20  Esfera Orçamentária                               12819 non-null  object\n",
      " 21  Código Tipo Crédito                               12819 non-null  object\n",
      " 22  Tipo Crédito                                      12819 non-null  object\n",
      " 23  Código Grupo Fonte Recurso                        12819 non-null  object\n",
      " 24  Grupo Fonte Recurso                               12819 non-null  object\n",
      " 25  Código Fonte Recurso                              12819 non-null  object\n",
      " 26  Fonte Recurso                                     12819 non-null  object\n",
      " 27  Código Unidade Orçamentária                       12819 non-null  object\n",
      " 28  Unidade Orçamentária                              12819 non-null  object\n",
      " 29  Código Função                                     12819 non-null  object\n",
      " 30  Função                                            12819 non-null  object\n",
      " 31  Código SubFunção                                  12819 non-null  object\n",
      " 32  SubFunção                                         12819 non-null  object\n",
      " 33  Código Programa                                   12819 non-null  object\n",
      " 34  Programa                                          12819 non-null  object\n",
      " 35  Código Ação                                       12819 non-null  object\n",
      " 36  Ação                                              12819 non-null  object\n",
      " 37  Linguagem Cidadã                                  0 non-null      object\n",
      " 38  Código Subtítulo (Localizador)                    12819 non-null  object\n",
      " 39  Subtítulo (Localizador)                           12819 non-null  object\n",
      " 40  Código Plano Orçamentário                         12819 non-null  object\n",
      " 41  Plano Orçamentário                                12819 non-null  object\n",
      " 42  Código Programa Governo                           12819 non-null  object\n",
      " 43  Nome Programa Governo                             12819 non-null  object\n",
      " 44  Autor Emenda                                      12819 non-null  object\n",
      " 45  Código Categoria de Despesa                       12819 non-null  object\n",
      " 46  Categoria de Despesa                              12819 non-null  object\n",
      " 47  Código Grupo de Despesa                           12819 non-null  object\n",
      " 48  Grupo de Despesa                                  12819 non-null  object\n",
      " 49  Código Modalidade de Aplicação                    12819 non-null  object\n",
      " 50  Modalidade de Aplicação                           12819 non-null  object\n",
      " 51  Código Elemento de Despesa                        12819 non-null  object\n",
      " 52  Elemento de Despesa                               12819 non-null  object\n",
      " 53  Processo                                          12819 non-null  object\n",
      " 54  Modalidade de Licitação                           12819 non-null  object\n",
      " 55  Inciso                                            12819 non-null  object\n",
      " 56  Amparo                                            12819 non-null  object\n",
      " 57  Referência de Dispensa ou Inexigibilidade         12819 non-null  object\n",
      " 58  Código Convênio                                   12819 non-null  object\n",
      " 59  Contrato de Repasse / Termo de Parceria / Outros  12819 non-null  object\n",
      " 60  Valor Original do Empenho                         12819 non-null  object\n",
      " 61  Valor do Empenho Convertido pra R$                12819 non-null  object\n",
      " 62  Valor Utilizado na Conversão                      12819 non-null  object\n",
      " 63  Código Pagamento                                  12819 non-null  object\n",
      " 64  Código Natureza Despesa Completa                  12819 non-null  object\n",
      " 65  Subitem                                           12819 non-null  object\n",
      " 66  Valor Pago (R$)                                   12819 non-null  object\n",
      " 67  Valor Restos a Pagar Inscritos (R$)               12819 non-null  object\n",
      " 68  Valor Restos a Pagar Cancelado (R$)               12819 non-null  object\n",
      " 69  Valor Restos a Pagar Pagos (R$)                   12819 non-null  object\n",
      "dtypes: object(70)\n",
      "memory usage: 6.9+ MB\n"
     ]
    }
   ],
   "source": [
    "despesas_pagamentos_empenho_covid19 = pd.merge(despesas_empenho_covid19, despesas_pagamento_empenhosimpactados, left_on='Código Empenho', right_on='Código Empenho')\n",
    "despesas_pagamentos_empenho_covid19.info()"
   ]
  },
  {
   "cell_type": "code",
   "execution_count": null,
   "metadata": {},
   "outputs": [],
   "source": []
  },
  {
   "cell_type": "code",
   "execution_count": 15,
   "metadata": {},
   "outputs": [],
   "source": [
    "# Pode cruzar com todas as despesas se quiser também"
   ]
  },
  {
   "cell_type": "code",
   "execution_count": 16,
   "metadata": {},
   "outputs": [
    {
     "data": {
      "text/plain": [
       "(1850361, 70)"
      ]
     },
     "execution_count": 16,
     "metadata": {},
     "output_type": "execute_result"
    }
   ],
   "source": [
    "despesas_pagamentos_empenho_cruzado = pd.merge(despesas_empenho, despesas_pagamento_empenhosimpactados, left_on='Código Empenho', right_on='Código Empenho')\n",
    "despesas_pagamentos_empenho_cruzado.shape"
   ]
  },
  {
   "cell_type": "code",
   "execution_count": 17,
   "metadata": {},
   "outputs": [],
   "source": [
    "#despesas_pagamentos_empenho_cruzado.info()"
   ]
  },
  {
   "cell_type": "code",
   "execution_count": null,
   "metadata": {},
   "outputs": [],
   "source": []
  },
  {
   "cell_type": "markdown",
   "metadata": {},
   "source": [
    "### Agora com esses pagamentos posso chegar no fornecedor e mais detalhes\n",
    "### Tenho que abrir o arquivo de pagamentos finais"
   ]
  },
  {
   "cell_type": "code",
   "execution_count": 18,
   "metadata": {},
   "outputs": [],
   "source": [
    "# Une em um dataframe só os pagamentos finais"
   ]
  },
  {
   "cell_type": "code",
   "execution_count": 19,
   "metadata": {},
   "outputs": [],
   "source": [
    "folder = Path(\"zips_empenho_liquidacao_e_pagamento/Despesas_Pagamento\")\n",
    "despesas_pagamentos_finais = pd.concat([\n",
    "    _reader_pasta(csv)\n",
    "    for csv in folder.glob(\"*.csv\")\n",
    "])"
   ]
  },
  {
   "cell_type": "code",
   "execution_count": 20,
   "metadata": {},
   "outputs": [
    {
     "name": "stdout",
     "output_type": "stream",
     "text": [
      "<class 'pandas.core.frame.DataFrame'>\n",
      "Int64Index: 2873049 entries, 0 to 27486\n",
      "Data columns (total 34 columns):\n",
      " #   Column                                Dtype \n",
      "---  ------                                ----- \n",
      " 0   Código Pagamento                      object\n",
      " 1   Código Pagamento Resumido             object\n",
      " 2   Data Emissão                          object\n",
      " 3   Código Tipo Documento                 object\n",
      " 4   Tipo Documento                        object\n",
      " 5   Tipo OB                               object\n",
      " 6   Extraorçamentário                     object\n",
      " 7   Código Órgão Superior                 object\n",
      " 8   Órgão Superior                        object\n",
      " 9   Código Órgão                          object\n",
      " 10  Órgão                                 object\n",
      " 11  Código Unidade Gestora                object\n",
      " 12  Unidade Gestora                       object\n",
      " 13  Código Gestão                         object\n",
      " 14  Gestão                                object\n",
      " 15  Código Favorecido                     object\n",
      " 16  Favorecido                            object\n",
      " 17  Observação                            object\n",
      " 18  Processo                              object\n",
      " 19  Código Categoria de Despesa           object\n",
      " 20  Categoria de Despesa                  object\n",
      " 21  Código Grupo de Despesa               object\n",
      " 22  Grupo de Despesa                      object\n",
      " 23  Código Modalidade de Aplicação        object\n",
      " 24  Modalidade de Aplicação               object\n",
      " 25  Código Elemento de Despesa            object\n",
      " 26  Elemento de Despesa                   object\n",
      " 27  Código Plano Orçamentário             object\n",
      " 28  Plano Orçamentário                    object\n",
      " 29  Código Programa Governo               object\n",
      " 30  Nome Programa Governo                 object\n",
      " 31  Valor Original do Pagamento           object\n",
      " 32  Valor do Pagamento Convertido pra R$  object\n",
      " 33  Valor Utilizado na Conversão          object\n",
      "dtypes: object(34)\n",
      "memory usage: 767.2+ MB\n"
     ]
    }
   ],
   "source": [
    "despesas_pagamentos_finais.info()"
   ]
  },
  {
   "cell_type": "code",
   "execution_count": null,
   "metadata": {},
   "outputs": [],
   "source": []
  },
  {
   "cell_type": "markdown",
   "metadata": {},
   "source": [
    "### Agora o cruzamento é pelo \"Código Pagamento\""
   ]
  },
  {
   "cell_type": "code",
   "execution_count": 21,
   "metadata": {},
   "outputs": [
    {
     "data": {
      "text/plain": [
       "(12819, 103)"
      ]
     },
     "execution_count": 21,
     "metadata": {},
     "output_type": "execute_result"
    }
   ],
   "source": [
    "# Se quiser cruzar com todos os pagamentos\n",
    "# pagamentos_feitos = pd.merge(despesas_pagamentos_empenho_cruzado, despesas_pagamentos_finais, left_on='Código Pagamento', right_on='Código Pagamento')\n",
    "\n",
    "# Cruza com pagamentos da covid-19\n",
    "pagamentos_feitos = pd.merge(despesas_pagamentos_empenho_covid19, despesas_pagamentos_finais, left_on='Código Pagamento', right_on='Código Pagamento')\n",
    "pagamentos_feitos.shape"
   ]
  },
  {
   "cell_type": "code",
   "execution_count": 22,
   "metadata": {},
   "outputs": [
    {
     "name": "stdout",
     "output_type": "stream",
     "text": [
      "<class 'pandas.core.frame.DataFrame'>\n",
      "Int64Index: 12819 entries, 0 to 12818\n",
      "Columns: 103 entries, Id Empenho to Valor Utilizado na Conversão_y\n",
      "dtypes: object(103)\n",
      "memory usage: 10.2+ MB\n"
     ]
    }
   ],
   "source": [
    "pagamentos_feitos.info()"
   ]
  },
  {
   "cell_type": "code",
   "execution_count": 23,
   "metadata": {},
   "outputs": [
    {
     "data": {
      "text/plain": [
       "['Id Empenho',\n",
       " 'Código Empenho',\n",
       " 'Código Empenho Resumido',\n",
       " 'Data Emissão_x',\n",
       " 'Código Tipo Documento_x',\n",
       " 'Tipo Documento_x',\n",
       " 'Tipo Empenho',\n",
       " 'Espécie Empenho',\n",
       " 'Código Órgão Superior_x',\n",
       " 'Órgão Superior_x',\n",
       " 'Código Órgão_x',\n",
       " 'Órgão_x',\n",
       " 'Código Unidade Gestora_x',\n",
       " 'Unidade Gestora_x',\n",
       " 'Código Gestão_x',\n",
       " 'Gestão_x',\n",
       " 'Código Favorecido_x',\n",
       " 'Favorecido_x',\n",
       " 'Observação_x',\n",
       " 'Código Esfera Orçamentária',\n",
       " 'Esfera Orçamentária',\n",
       " 'Código Tipo Crédito',\n",
       " 'Tipo Crédito',\n",
       " 'Código Grupo Fonte Recurso',\n",
       " 'Grupo Fonte Recurso',\n",
       " 'Código Fonte Recurso',\n",
       " 'Fonte Recurso',\n",
       " 'Código Unidade Orçamentária',\n",
       " 'Unidade Orçamentária',\n",
       " 'Código Função',\n",
       " 'Função',\n",
       " 'Código SubFunção',\n",
       " 'SubFunção',\n",
       " 'Código Programa',\n",
       " 'Programa',\n",
       " 'Código Ação',\n",
       " 'Ação',\n",
       " 'Linguagem Cidadã',\n",
       " 'Código Subtítulo (Localizador)',\n",
       " 'Subtítulo (Localizador)',\n",
       " 'Código Plano Orçamentário_x',\n",
       " 'Plano Orçamentário_x',\n",
       " 'Código Programa Governo_x',\n",
       " 'Nome Programa Governo_x',\n",
       " 'Autor Emenda',\n",
       " 'Código Categoria de Despesa_x',\n",
       " 'Categoria de Despesa_x',\n",
       " 'Código Grupo de Despesa_x',\n",
       " 'Grupo de Despesa_x',\n",
       " 'Código Modalidade de Aplicação_x',\n",
       " 'Modalidade de Aplicação_x',\n",
       " 'Código Elemento de Despesa_x',\n",
       " 'Elemento de Despesa_x',\n",
       " 'Processo_x',\n",
       " 'Modalidade de Licitação',\n",
       " 'Inciso',\n",
       " 'Amparo',\n",
       " 'Referência de Dispensa ou Inexigibilidade',\n",
       " 'Código Convênio',\n",
       " 'Contrato de Repasse / Termo de Parceria / Outros',\n",
       " 'Valor Original do Empenho',\n",
       " 'Valor do Empenho Convertido pra R$',\n",
       " 'Valor Utilizado na Conversão_x',\n",
       " 'Código Pagamento',\n",
       " 'Código Natureza Despesa Completa',\n",
       " 'Subitem',\n",
       " 'Valor Pago (R$)',\n",
       " 'Valor Restos a Pagar Inscritos (R$)',\n",
       " 'Valor Restos a Pagar Cancelado (R$)',\n",
       " 'Valor Restos a Pagar Pagos (R$)',\n",
       " 'Código Pagamento Resumido',\n",
       " 'Data Emissão_y',\n",
       " 'Código Tipo Documento_y',\n",
       " 'Tipo Documento_y',\n",
       " 'Tipo OB',\n",
       " 'Extraorçamentário',\n",
       " 'Código Órgão Superior_y',\n",
       " 'Órgão Superior_y',\n",
       " 'Código Órgão_y',\n",
       " 'Órgão_y',\n",
       " 'Código Unidade Gestora_y',\n",
       " 'Unidade Gestora_y',\n",
       " 'Código Gestão_y',\n",
       " 'Gestão_y',\n",
       " 'Código Favorecido_y',\n",
       " 'Favorecido_y',\n",
       " 'Observação_y',\n",
       " 'Processo_y',\n",
       " 'Código Categoria de Despesa_y',\n",
       " 'Categoria de Despesa_y',\n",
       " 'Código Grupo de Despesa_y',\n",
       " 'Grupo de Despesa_y',\n",
       " 'Código Modalidade de Aplicação_y',\n",
       " 'Modalidade de Aplicação_y',\n",
       " 'Código Elemento de Despesa_y',\n",
       " 'Elemento de Despesa_y',\n",
       " 'Código Plano Orçamentário_y',\n",
       " 'Plano Orçamentário_y',\n",
       " 'Código Programa Governo_y',\n",
       " 'Nome Programa Governo_y',\n",
       " 'Valor Original do Pagamento',\n",
       " 'Valor do Pagamento Convertido pra R$',\n",
       " 'Valor Utilizado na Conversão_y']"
      ]
     },
     "execution_count": 23,
     "metadata": {},
     "output_type": "execute_result"
    }
   ],
   "source": [
    "list(pagamentos_feitos.columns.values.tolist())"
   ]
  },
  {
   "cell_type": "code",
   "execution_count": null,
   "metadata": {},
   "outputs": [],
   "source": []
  },
  {
   "cell_type": "markdown",
   "metadata": {},
   "source": [
    "### O campo \"Código Favorecido\" é o CNPJ ou CPF mascarado do fornecedor"
   ]
  },
  {
   "cell_type": "code",
   "execution_count": 24,
   "metadata": {},
   "outputs": [],
   "source": [
    "pagamentos_feitos.to_csv('resultados/pagamentos_covid19/pagamentos_feitos_de_empenhos_covid19_ate_09_junho_2020.csv', index=False)"
   ]
  },
  {
   "cell_type": "code",
   "execution_count": null,
   "metadata": {},
   "outputs": [],
   "source": []
  },
  {
   "cell_type": "code",
   "execution_count": null,
   "metadata": {},
   "outputs": [],
   "source": []
  }
 ],
 "metadata": {
  "kernelspec": {
   "display_name": "Python 3",
   "language": "python",
   "name": "python3"
  },
  "language_info": {
   "codemirror_mode": {
    "name": "ipython",
    "version": 3
   },
   "file_extension": ".py",
   "mimetype": "text/x-python",
   "name": "python",
   "nbconvert_exporter": "python",
   "pygments_lexer": "ipython3",
   "version": "3.6.9"
  }
 },
 "nbformat": 4,
 "nbformat_minor": 4
}
