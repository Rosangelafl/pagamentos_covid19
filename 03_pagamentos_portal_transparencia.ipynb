{
 "cells": [
  {
   "cell_type": "code",
   "execution_count": 1,
   "metadata": {},
   "outputs": [],
   "source": [
    "# -*- coding: utf-8\n",
    "# Reinaldo Chaves (@paidatocandeira)\n",
    "# Cria dataframes únicos para documentos de empenho e pagamento\n",
    "# Faz cruzamentos para encontrar informaçõs dos fornecedores\n",
    "# Filtra os gastos de combate da covid-19, que possuem \n",
    "# ['Código Ação'] == '21C0'"
   ]
  },
  {
   "cell_type": "code",
   "execution_count": null,
   "metadata": {},
   "outputs": [],
   "source": []
  },
  {
   "cell_type": "code",
   "execution_count": 2,
   "metadata": {},
   "outputs": [],
   "source": [
    "import pandas as pd\n",
    "from pathlib import Path\n",
    "import os"
   ]
  },
  {
   "cell_type": "code",
   "execution_count": null,
   "metadata": {},
   "outputs": [],
   "source": []
  },
  {
   "cell_type": "markdown",
   "metadata": {},
   "source": [
    "# Documentos de empenho, liquidação e pagamento"
   ]
  },
  {
   "cell_type": "code",
   "execution_count": 3,
   "metadata": {},
   "outputs": [],
   "source": [
    "# Os zips de cada dia podem ser encontrados aqui: http://transparencia.gov.br/download-de-dados/despesas"
   ]
  },
  {
   "cell_type": "code",
   "execution_count": 4,
   "metadata": {},
   "outputs": [],
   "source": [
    "# Em cada zip os arquivos que vamos usar são os que terminam por:\n",
    "\n",
    "# Despesas_Empenho\n",
    "\n",
    "# Despesas_Pagamento\n",
    "\n",
    "# Despesas_Pagamento_EmpenhosImpactados"
   ]
  },
  {
   "cell_type": "code",
   "execution_count": null,
   "metadata": {},
   "outputs": [],
   "source": []
  },
  {
   "cell_type": "markdown",
   "metadata": {},
   "source": [
    "### Agrupa todos os arquivos de Despesas_Empenho em único dataframe"
   ]
  },
  {
   "cell_type": "code",
   "execution_count": 5,
   "metadata": {},
   "outputs": [],
   "source": [
    "# Carrega as despesas empenhadas"
   ]
  },
  {
   "cell_type": "code",
   "execution_count": null,
   "metadata": {},
   "outputs": [],
   "source": []
  },
  {
   "cell_type": "code",
   "execution_count": 6,
   "metadata": {},
   "outputs": [
    {
     "name": "stdout",
     "output_type": "stream",
     "text": [
      "/home/abraji/Documentos/Code/covid_19/repo/portal_transparencia\n"
     ]
    }
   ],
   "source": [
    "print(os.getcwd())"
   ]
  },
  {
   "cell_type": "code",
   "execution_count": null,
   "metadata": {},
   "outputs": [],
   "source": []
  },
  {
   "cell_type": "code",
   "execution_count": 7,
   "metadata": {},
   "outputs": [],
   "source": [
    "def _reader_pasta(fname):\n",
    "        return pd.read_csv(fname, sep=';', encoding='latin_1', dtype = 'str')"
   ]
  },
  {
   "cell_type": "code",
   "execution_count": 8,
   "metadata": {},
   "outputs": [],
   "source": [
    "folder = Path(\"zips_empenho_liquidacao_e_pagamento/Despesas_Empenho\")\n",
    "despesas_empenho = pd.concat([\n",
    "    _reader_pasta(csv)\n",
    "    for csv in folder.glob(\"*.csv\")\n",
    "])"
   ]
  },
  {
   "cell_type": "code",
   "execution_count": 9,
   "metadata": {},
   "outputs": [
    {
     "name": "stdout",
     "output_type": "stream",
     "text": [
      "<class 'pandas.core.frame.DataFrame'>\n",
      "Int64Index: 935485 entries, 0 to 8143\n",
      "Data columns (total 63 columns):\n",
      " #   Column                                            Non-Null Count   Dtype \n",
      "---  ------                                            --------------   ----- \n",
      " 0   Id Empenho                                        935485 non-null  object\n",
      " 1   Código Empenho                                    935485 non-null  object\n",
      " 2   Código Empenho Resumido                           935485 non-null  object\n",
      " 3   Data Emissão                                      935485 non-null  object\n",
      " 4   Código Tipo Documento                             935485 non-null  object\n",
      " 5   Tipo Documento                                    935485 non-null  object\n",
      " 6   Tipo Empenho                                      935485 non-null  object\n",
      " 7   Espécie Empenho                                   935485 non-null  object\n",
      " 8   Código Órgão Superior                             935485 non-null  object\n",
      " 9   Órgão Superior                                    935485 non-null  object\n",
      " 10  Código Órgão                                      935485 non-null  object\n",
      " 11  Órgão                                             935485 non-null  object\n",
      " 12  Código Unidade Gestora                            935485 non-null  object\n",
      " 13  Unidade Gestora                                   935485 non-null  object\n",
      " 14  Código Gestão                                     935485 non-null  object\n",
      " 15  Gestão                                            935485 non-null  object\n",
      " 16  Código Favorecido                                 935485 non-null  object\n",
      " 17  Favorecido                                        935485 non-null  object\n",
      " 18  Observação                                        935485 non-null  object\n",
      " 19  Código Esfera Orçamentária                        935485 non-null  object\n",
      " 20  Esfera Orçamentária                               935485 non-null  object\n",
      " 21  Código Tipo Crédito                               935474 non-null  object\n",
      " 22  Tipo Crédito                                      935485 non-null  object\n",
      " 23  Código Grupo Fonte Recurso                        935485 non-null  object\n",
      " 24  Grupo Fonte Recurso                               935485 non-null  object\n",
      " 25  Código Fonte Recurso                              935485 non-null  object\n",
      " 26  Fonte Recurso                                     935485 non-null  object\n",
      " 27  Código Unidade Orçamentária                       935485 non-null  object\n",
      " 28  Unidade Orçamentária                              935485 non-null  object\n",
      " 29  Código Função                                     935485 non-null  object\n",
      " 30  Função                                            935485 non-null  object\n",
      " 31  Código SubFunção                                  935485 non-null  object\n",
      " 32  SubFunção                                         935485 non-null  object\n",
      " 33  Código Programa                                   935485 non-null  object\n",
      " 34  Programa                                          935485 non-null  object\n",
      " 35  Código Ação                                       935485 non-null  object\n",
      " 36  Ação                                              935485 non-null  object\n",
      " 37  Linguagem Cidadã                                  496458 non-null  object\n",
      " 38  Código Subtítulo (Localizador)                    935485 non-null  object\n",
      " 39  Subtítulo (Localizador)                           935485 non-null  object\n",
      " 40  Código Plano Orçamentário                         935485 non-null  object\n",
      " 41  Plano Orçamentário                                935485 non-null  object\n",
      " 42  Código Programa Governo                           935485 non-null  object\n",
      " 43  Nome Programa Governo                             935485 non-null  object\n",
      " 44  Autor Emenda                                      935485 non-null  object\n",
      " 45  Código Categoria de Despesa                       935485 non-null  object\n",
      " 46  Categoria de Despesa                              935485 non-null  object\n",
      " 47  Código Grupo de Despesa                           935485 non-null  object\n",
      " 48  Grupo de Despesa                                  935485 non-null  object\n",
      " 49  Código Modalidade de Aplicação                    935485 non-null  object\n",
      " 50  Modalidade de Aplicação                           935485 non-null  object\n",
      " 51  Código Elemento de Despesa                        935485 non-null  object\n",
      " 52  Elemento de Despesa                               935485 non-null  object\n",
      " 53  Processo                                          935485 non-null  object\n",
      " 54  Modalidade de Licitação                           935485 non-null  object\n",
      " 55  Inciso                                            935485 non-null  object\n",
      " 56  Amparo                                            935485 non-null  object\n",
      " 57  Referência de Dispensa ou Inexigibilidade         935485 non-null  object\n",
      " 58  Código Convênio                                   935485 non-null  object\n",
      " 59  Contrato de Repasse / Termo de Parceria / Outros  935485 non-null  object\n",
      " 60  Valor Original do Empenho                         935485 non-null  object\n",
      " 61  Valor do Empenho Convertido pra R$                935485 non-null  object\n",
      " 62  Valor Utilizado na Conversão                      935485 non-null  object\n",
      "dtypes: object(63)\n",
      "memory usage: 456.8+ MB\n"
     ]
    }
   ],
   "source": [
    "despesas_empenho.info()"
   ]
  },
  {
   "cell_type": "code",
   "execution_count": null,
   "metadata": {},
   "outputs": [],
   "source": []
  },
  {
   "cell_type": "markdown",
   "metadata": {},
   "source": [
    "### Separa pelo código do coronavírus"
   ]
  },
  {
   "cell_type": "code",
   "execution_count": 10,
   "metadata": {},
   "outputs": [
    {
     "name": "stdout",
     "output_type": "stream",
     "text": [
      "<class 'pandas.core.frame.DataFrame'>\n",
      "Int64Index: 17128 entries, 2848 to 7493\n",
      "Data columns (total 63 columns):\n",
      " #   Column                                            Non-Null Count  Dtype \n",
      "---  ------                                            --------------  ----- \n",
      " 0   Id Empenho                                        17128 non-null  object\n",
      " 1   Código Empenho                                    17128 non-null  object\n",
      " 2   Código Empenho Resumido                           17128 non-null  object\n",
      " 3   Data Emissão                                      17128 non-null  object\n",
      " 4   Código Tipo Documento                             17128 non-null  object\n",
      " 5   Tipo Documento                                    17128 non-null  object\n",
      " 6   Tipo Empenho                                      17128 non-null  object\n",
      " 7   Espécie Empenho                                   17128 non-null  object\n",
      " 8   Código Órgão Superior                             17128 non-null  object\n",
      " 9   Órgão Superior                                    17128 non-null  object\n",
      " 10  Código Órgão                                      17128 non-null  object\n",
      " 11  Órgão                                             17128 non-null  object\n",
      " 12  Código Unidade Gestora                            17128 non-null  object\n",
      " 13  Unidade Gestora                                   17128 non-null  object\n",
      " 14  Código Gestão                                     17128 non-null  object\n",
      " 15  Gestão                                            17128 non-null  object\n",
      " 16  Código Favorecido                                 17128 non-null  object\n",
      " 17  Favorecido                                        17128 non-null  object\n",
      " 18  Observação                                        17128 non-null  object\n",
      " 19  Código Esfera Orçamentária                        17128 non-null  object\n",
      " 20  Esfera Orçamentária                               17128 non-null  object\n",
      " 21  Código Tipo Crédito                               17128 non-null  object\n",
      " 22  Tipo Crédito                                      17128 non-null  object\n",
      " 23  Código Grupo Fonte Recurso                        17128 non-null  object\n",
      " 24  Grupo Fonte Recurso                               17128 non-null  object\n",
      " 25  Código Fonte Recurso                              17128 non-null  object\n",
      " 26  Fonte Recurso                                     17128 non-null  object\n",
      " 27  Código Unidade Orçamentária                       17128 non-null  object\n",
      " 28  Unidade Orçamentária                              17128 non-null  object\n",
      " 29  Código Função                                     17128 non-null  object\n",
      " 30  Função                                            17128 non-null  object\n",
      " 31  Código SubFunção                                  17128 non-null  object\n",
      " 32  SubFunção                                         17128 non-null  object\n",
      " 33  Código Programa                                   17128 non-null  object\n",
      " 34  Programa                                          17128 non-null  object\n",
      " 35  Código Ação                                       17128 non-null  object\n",
      " 36  Ação                                              17128 non-null  object\n",
      " 37  Linguagem Cidadã                                  0 non-null      object\n",
      " 38  Código Subtítulo (Localizador)                    17128 non-null  object\n",
      " 39  Subtítulo (Localizador)                           17128 non-null  object\n",
      " 40  Código Plano Orçamentário                         17128 non-null  object\n",
      " 41  Plano Orçamentário                                17128 non-null  object\n",
      " 42  Código Programa Governo                           17128 non-null  object\n",
      " 43  Nome Programa Governo                             17128 non-null  object\n",
      " 44  Autor Emenda                                      17128 non-null  object\n",
      " 45  Código Categoria de Despesa                       17128 non-null  object\n",
      " 46  Categoria de Despesa                              17128 non-null  object\n",
      " 47  Código Grupo de Despesa                           17128 non-null  object\n",
      " 48  Grupo de Despesa                                  17128 non-null  object\n",
      " 49  Código Modalidade de Aplicação                    17128 non-null  object\n",
      " 50  Modalidade de Aplicação                           17128 non-null  object\n",
      " 51  Código Elemento de Despesa                        17128 non-null  object\n",
      " 52  Elemento de Despesa                               17128 non-null  object\n",
      " 53  Processo                                          17128 non-null  object\n",
      " 54  Modalidade de Licitação                           17128 non-null  object\n",
      " 55  Inciso                                            17128 non-null  object\n",
      " 56  Amparo                                            17128 non-null  object\n",
      " 57  Referência de Dispensa ou Inexigibilidade         17128 non-null  object\n",
      " 58  Código Convênio                                   17128 non-null  object\n",
      " 59  Contrato de Repasse / Termo de Parceria / Outros  17128 non-null  object\n",
      " 60  Valor Original do Empenho                         17128 non-null  object\n",
      " 61  Valor do Empenho Convertido pra R$                17128 non-null  object\n",
      " 62  Valor Utilizado na Conversão                      17128 non-null  object\n",
      "dtypes: object(63)\n",
      "memory usage: 8.4+ MB\n"
     ]
    }
   ],
   "source": [
    "despesas_empenho_covid19 = despesas_empenho[(despesas_empenho['Código Ação'] == '21C0')]\n",
    "despesas_empenho_covid19.info()"
   ]
  },
  {
   "cell_type": "code",
   "execution_count": null,
   "metadata": {},
   "outputs": [],
   "source": []
  },
  {
   "cell_type": "markdown",
   "metadata": {},
   "source": [
    "### Agrupa todos os arquivos de Despesas_Pagamento_EmpenhosImpactados em único dataframe\n",
    "### Carrega todos pagamentos de empenhos impactados "
   ]
  },
  {
   "cell_type": "code",
   "execution_count": 11,
   "metadata": {},
   "outputs": [],
   "source": [
    "# O problema é que o pagamento de um empenho pode ser numa data diferente\n",
    "# Por isso é preciso baixar um grande intervalo de arquivos"
   ]
  },
  {
   "cell_type": "code",
   "execution_count": null,
   "metadata": {},
   "outputs": [],
   "source": []
  },
  {
   "cell_type": "code",
   "execution_count": 12,
   "metadata": {},
   "outputs": [],
   "source": [
    "folder = Path(\"zips_empenho_liquidacao_e_pagamento/Despesas_Pagamento_EmpenhosImpactados\")\n",
    "despesas_pagamento_empenhosimpactados = pd.concat([\n",
    "    _reader_pasta(csv)\n",
    "    for csv in folder.glob(\"*.csv\")\n",
    "])"
   ]
  },
  {
   "cell_type": "code",
   "execution_count": 13,
   "metadata": {},
   "outputs": [
    {
     "name": "stdout",
     "output_type": "stream",
     "text": [
      "<class 'pandas.core.frame.DataFrame'>\n",
      "Int64Index: 2737256 entries, 0 to 30796\n",
      "Data columns (total 8 columns):\n",
      " #   Column                               Dtype \n",
      "---  ------                               ----- \n",
      " 0   Código Pagamento                     object\n",
      " 1   Código Empenho                       object\n",
      " 2   Código Natureza Despesa Completa     object\n",
      " 3   Subitem                              object\n",
      " 4   Valor Pago (R$)                      object\n",
      " 5   Valor Restos a Pagar Inscritos (R$)  object\n",
      " 6   Valor Restos a Pagar Cancelado (R$)  object\n",
      " 7   Valor Restos a Pagar Pagos (R$)      object\n",
      "dtypes: object(8)\n",
      "memory usage: 188.0+ MB\n"
     ]
    }
   ],
   "source": [
    "despesas_pagamento_empenhosimpactados.info()"
   ]
  },
  {
   "cell_type": "code",
   "execution_count": null,
   "metadata": {},
   "outputs": [],
   "source": []
  },
  {
   "cell_type": "markdown",
   "metadata": {},
   "source": [
    "### Cruza os dois dataframes pelo \"Código Empenho\""
   ]
  },
  {
   "cell_type": "code",
   "execution_count": 14,
   "metadata": {},
   "outputs": [
    {
     "name": "stdout",
     "output_type": "stream",
     "text": [
      "<class 'pandas.core.frame.DataFrame'>\n",
      "Int64Index: 10233 entries, 0 to 10232\n",
      "Data columns (total 70 columns):\n",
      " #   Column                                            Non-Null Count  Dtype \n",
      "---  ------                                            --------------  ----- \n",
      " 0   Id Empenho                                        10233 non-null  object\n",
      " 1   Código Empenho                                    10233 non-null  object\n",
      " 2   Código Empenho Resumido                           10233 non-null  object\n",
      " 3   Data Emissão                                      10233 non-null  object\n",
      " 4   Código Tipo Documento                             10233 non-null  object\n",
      " 5   Tipo Documento                                    10233 non-null  object\n",
      " 6   Tipo Empenho                                      10233 non-null  object\n",
      " 7   Espécie Empenho                                   10233 non-null  object\n",
      " 8   Código Órgão Superior                             10233 non-null  object\n",
      " 9   Órgão Superior                                    10233 non-null  object\n",
      " 10  Código Órgão                                      10233 non-null  object\n",
      " 11  Órgão                                             10233 non-null  object\n",
      " 12  Código Unidade Gestora                            10233 non-null  object\n",
      " 13  Unidade Gestora                                   10233 non-null  object\n",
      " 14  Código Gestão                                     10233 non-null  object\n",
      " 15  Gestão                                            10233 non-null  object\n",
      " 16  Código Favorecido                                 10233 non-null  object\n",
      " 17  Favorecido                                        10233 non-null  object\n",
      " 18  Observação                                        10233 non-null  object\n",
      " 19  Código Esfera Orçamentária                        10233 non-null  object\n",
      " 20  Esfera Orçamentária                               10233 non-null  object\n",
      " 21  Código Tipo Crédito                               10233 non-null  object\n",
      " 22  Tipo Crédito                                      10233 non-null  object\n",
      " 23  Código Grupo Fonte Recurso                        10233 non-null  object\n",
      " 24  Grupo Fonte Recurso                               10233 non-null  object\n",
      " 25  Código Fonte Recurso                              10233 non-null  object\n",
      " 26  Fonte Recurso                                     10233 non-null  object\n",
      " 27  Código Unidade Orçamentária                       10233 non-null  object\n",
      " 28  Unidade Orçamentária                              10233 non-null  object\n",
      " 29  Código Função                                     10233 non-null  object\n",
      " 30  Função                                            10233 non-null  object\n",
      " 31  Código SubFunção                                  10233 non-null  object\n",
      " 32  SubFunção                                         10233 non-null  object\n",
      " 33  Código Programa                                   10233 non-null  object\n",
      " 34  Programa                                          10233 non-null  object\n",
      " 35  Código Ação                                       10233 non-null  object\n",
      " 36  Ação                                              10233 non-null  object\n",
      " 37  Linguagem Cidadã                                  0 non-null      object\n",
      " 38  Código Subtítulo (Localizador)                    10233 non-null  object\n",
      " 39  Subtítulo (Localizador)                           10233 non-null  object\n",
      " 40  Código Plano Orçamentário                         10233 non-null  object\n",
      " 41  Plano Orçamentário                                10233 non-null  object\n",
      " 42  Código Programa Governo                           10233 non-null  object\n",
      " 43  Nome Programa Governo                             10233 non-null  object\n",
      " 44  Autor Emenda                                      10233 non-null  object\n",
      " 45  Código Categoria de Despesa                       10233 non-null  object\n",
      " 46  Categoria de Despesa                              10233 non-null  object\n",
      " 47  Código Grupo de Despesa                           10233 non-null  object\n",
      " 48  Grupo de Despesa                                  10233 non-null  object\n",
      " 49  Código Modalidade de Aplicação                    10233 non-null  object\n",
      " 50  Modalidade de Aplicação                           10233 non-null  object\n",
      " 51  Código Elemento de Despesa                        10233 non-null  object\n",
      " 52  Elemento de Despesa                               10233 non-null  object\n",
      " 53  Processo                                          10233 non-null  object\n",
      " 54  Modalidade de Licitação                           10233 non-null  object\n",
      " 55  Inciso                                            10233 non-null  object\n",
      " 56  Amparo                                            10233 non-null  object\n",
      " 57  Referência de Dispensa ou Inexigibilidade         10233 non-null  object\n",
      " 58  Código Convênio                                   10233 non-null  object\n",
      " 59  Contrato de Repasse / Termo de Parceria / Outros  10233 non-null  object\n",
      " 60  Valor Original do Empenho                         10233 non-null  object\n",
      " 61  Valor do Empenho Convertido pra R$                10233 non-null  object\n",
      " 62  Valor Utilizado na Conversão                      10233 non-null  object\n",
      " 63  Código Pagamento                                  10233 non-null  object\n",
      " 64  Código Natureza Despesa Completa                  10233 non-null  object\n",
      " 65  Subitem                                           10233 non-null  object\n",
      " 66  Valor Pago (R$)                                   10233 non-null  object\n",
      " 67  Valor Restos a Pagar Inscritos (R$)               10233 non-null  object\n",
      " 68  Valor Restos a Pagar Cancelado (R$)               10233 non-null  object\n",
      " 69  Valor Restos a Pagar Pagos (R$)                   10233 non-null  object\n",
      "dtypes: object(70)\n",
      "memory usage: 5.5+ MB\n"
     ]
    }
   ],
   "source": [
    "despesas_pagamentos_empenho_covid19 = pd.merge(despesas_empenho_covid19, despesas_pagamento_empenhosimpactados, left_on='Código Empenho', right_on='Código Empenho')\n",
    "despesas_pagamentos_empenho_covid19.info()"
   ]
  },
  {
   "cell_type": "code",
   "execution_count": null,
   "metadata": {},
   "outputs": [],
   "source": []
  },
  {
   "cell_type": "code",
   "execution_count": 15,
   "metadata": {},
   "outputs": [],
   "source": [
    "# Pode cruzar com todas as despesas se quiser também"
   ]
  },
  {
   "cell_type": "code",
   "execution_count": 16,
   "metadata": {},
   "outputs": [
    {
     "data": {
      "text/plain": [
       "(1661396, 70)"
      ]
     },
     "execution_count": 16,
     "metadata": {},
     "output_type": "execute_result"
    }
   ],
   "source": [
    "despesas_pagamentos_empenho_cruzado = pd.merge(despesas_empenho, despesas_pagamento_empenhosimpactados, left_on='Código Empenho', right_on='Código Empenho')\n",
    "despesas_pagamentos_empenho_cruzado.shape"
   ]
  },
  {
   "cell_type": "code",
   "execution_count": 17,
   "metadata": {},
   "outputs": [],
   "source": [
    "#despesas_pagamentos_empenho_cruzado.info()"
   ]
  },
  {
   "cell_type": "code",
   "execution_count": null,
   "metadata": {},
   "outputs": [],
   "source": []
  },
  {
   "cell_type": "markdown",
   "metadata": {},
   "source": [
    "### Agora com esses pagamentos posso chegar no fornecedor e mais detalhes\n",
    "### Tenho que abrir o arquivo de pagamentos finais"
   ]
  },
  {
   "cell_type": "code",
   "execution_count": 18,
   "metadata": {},
   "outputs": [],
   "source": [
    "# Une em um dataframe só os pagamentos finais"
   ]
  },
  {
   "cell_type": "code",
   "execution_count": 19,
   "metadata": {},
   "outputs": [],
   "source": [
    "folder = Path(\"zips_empenho_liquidacao_e_pagamento/Despesas_Pagamento\")\n",
    "despesas_pagamentos_finais = pd.concat([\n",
    "    _reader_pasta(csv)\n",
    "    for csv in folder.glob(\"*.csv\")\n",
    "])"
   ]
  },
  {
   "cell_type": "code",
   "execution_count": 20,
   "metadata": {},
   "outputs": [
    {
     "name": "stdout",
     "output_type": "stream",
     "text": [
      "<class 'pandas.core.frame.DataFrame'>\n",
      "Int64Index: 2655028 entries, 0 to 27486\n",
      "Data columns (total 34 columns):\n",
      " #   Column                                Dtype \n",
      "---  ------                                ----- \n",
      " 0   Código Pagamento                      object\n",
      " 1   Código Pagamento Resumido             object\n",
      " 2   Data Emissão                          object\n",
      " 3   Código Tipo Documento                 object\n",
      " 4   Tipo Documento                        object\n",
      " 5   Tipo OB                               object\n",
      " 6   Extraorçamentário                     object\n",
      " 7   Código Órgão Superior                 object\n",
      " 8   Órgão Superior                        object\n",
      " 9   Código Órgão                          object\n",
      " 10  Órgão                                 object\n",
      " 11  Código Unidade Gestora                object\n",
      " 12  Unidade Gestora                       object\n",
      " 13  Código Gestão                         object\n",
      " 14  Gestão                                object\n",
      " 15  Código Favorecido                     object\n",
      " 16  Favorecido                            object\n",
      " 17  Observação                            object\n",
      " 18  Processo                              object\n",
      " 19  Código Categoria de Despesa           object\n",
      " 20  Categoria de Despesa                  object\n",
      " 21  Código Grupo de Despesa               object\n",
      " 22  Grupo de Despesa                      object\n",
      " 23  Código Modalidade de Aplicação        object\n",
      " 24  Modalidade de Aplicação               object\n",
      " 25  Código Elemento de Despesa            object\n",
      " 26  Elemento de Despesa                   object\n",
      " 27  Código Plano Orçamentário             object\n",
      " 28  Plano Orçamentário                    object\n",
      " 29  Código Programa Governo               object\n",
      " 30  Nome Programa Governo                 object\n",
      " 31  Valor Original do Pagamento           object\n",
      " 32  Valor do Pagamento Convertido pra R$  object\n",
      " 33  Valor Utilizado na Conversão          object\n",
      "dtypes: object(34)\n",
      "memory usage: 709.0+ MB\n"
     ]
    }
   ],
   "source": [
    "despesas_pagamentos_finais.info()"
   ]
  },
  {
   "cell_type": "code",
   "execution_count": null,
   "metadata": {},
   "outputs": [],
   "source": []
  },
  {
   "cell_type": "markdown",
   "metadata": {},
   "source": [
    "### Agora o cruzamento é pelo \"Código Pagamento\""
   ]
  },
  {
   "cell_type": "code",
   "execution_count": 21,
   "metadata": {},
   "outputs": [
    {
     "data": {
      "text/plain": [
       "(10233, 103)"
      ]
     },
     "execution_count": 21,
     "metadata": {},
     "output_type": "execute_result"
    }
   ],
   "source": [
    "# Se quiser cruzar com todos os pagamentos\n",
    "# pagamentos_feitos = pd.merge(despesas_pagamentos_empenho_cruzado, despesas_pagamentos_finais, left_on='Código Pagamento', right_on='Código Pagamento')\n",
    "\n",
    "# Cruza com pagamentos da covid-19\n",
    "pagamentos_feitos = pd.merge(despesas_pagamentos_empenho_covid19, despesas_pagamentos_finais, left_on='Código Pagamento', right_on='Código Pagamento')\n",
    "pagamentos_feitos.shape"
   ]
  },
  {
   "cell_type": "code",
   "execution_count": 22,
   "metadata": {},
   "outputs": [
    {
     "name": "stdout",
     "output_type": "stream",
     "text": [
      "<class 'pandas.core.frame.DataFrame'>\n",
      "Int64Index: 10233 entries, 0 to 10232\n",
      "Columns: 103 entries, Id Empenho to Valor Utilizado na Conversão_y\n",
      "dtypes: object(103)\n",
      "memory usage: 8.1+ MB\n"
     ]
    }
   ],
   "source": [
    "pagamentos_feitos.info()"
   ]
  },
  {
   "cell_type": "code",
   "execution_count": 23,
   "metadata": {},
   "outputs": [
    {
     "data": {
      "text/plain": [
       "['Id Empenho',\n",
       " 'Código Empenho',\n",
       " 'Código Empenho Resumido',\n",
       " 'Data Emissão_x',\n",
       " 'Código Tipo Documento_x',\n",
       " 'Tipo Documento_x',\n",
       " 'Tipo Empenho',\n",
       " 'Espécie Empenho',\n",
       " 'Código Órgão Superior_x',\n",
       " 'Órgão Superior_x',\n",
       " 'Código Órgão_x',\n",
       " 'Órgão_x',\n",
       " 'Código Unidade Gestora_x',\n",
       " 'Unidade Gestora_x',\n",
       " 'Código Gestão_x',\n",
       " 'Gestão_x',\n",
       " 'Código Favorecido_x',\n",
       " 'Favorecido_x',\n",
       " 'Observação_x',\n",
       " 'Código Esfera Orçamentária',\n",
       " 'Esfera Orçamentária',\n",
       " 'Código Tipo Crédito',\n",
       " 'Tipo Crédito',\n",
       " 'Código Grupo Fonte Recurso',\n",
       " 'Grupo Fonte Recurso',\n",
       " 'Código Fonte Recurso',\n",
       " 'Fonte Recurso',\n",
       " 'Código Unidade Orçamentária',\n",
       " 'Unidade Orçamentária',\n",
       " 'Código Função',\n",
       " 'Função',\n",
       " 'Código SubFunção',\n",
       " 'SubFunção',\n",
       " 'Código Programa',\n",
       " 'Programa',\n",
       " 'Código Ação',\n",
       " 'Ação',\n",
       " 'Linguagem Cidadã',\n",
       " 'Código Subtítulo (Localizador)',\n",
       " 'Subtítulo (Localizador)',\n",
       " 'Código Plano Orçamentário_x',\n",
       " 'Plano Orçamentário_x',\n",
       " 'Código Programa Governo_x',\n",
       " 'Nome Programa Governo_x',\n",
       " 'Autor Emenda',\n",
       " 'Código Categoria de Despesa_x',\n",
       " 'Categoria de Despesa_x',\n",
       " 'Código Grupo de Despesa_x',\n",
       " 'Grupo de Despesa_x',\n",
       " 'Código Modalidade de Aplicação_x',\n",
       " 'Modalidade de Aplicação_x',\n",
       " 'Código Elemento de Despesa_x',\n",
       " 'Elemento de Despesa_x',\n",
       " 'Processo_x',\n",
       " 'Modalidade de Licitação',\n",
       " 'Inciso',\n",
       " 'Amparo',\n",
       " 'Referência de Dispensa ou Inexigibilidade',\n",
       " 'Código Convênio',\n",
       " 'Contrato de Repasse / Termo de Parceria / Outros',\n",
       " 'Valor Original do Empenho',\n",
       " 'Valor do Empenho Convertido pra R$',\n",
       " 'Valor Utilizado na Conversão_x',\n",
       " 'Código Pagamento',\n",
       " 'Código Natureza Despesa Completa',\n",
       " 'Subitem',\n",
       " 'Valor Pago (R$)',\n",
       " 'Valor Restos a Pagar Inscritos (R$)',\n",
       " 'Valor Restos a Pagar Cancelado (R$)',\n",
       " 'Valor Restos a Pagar Pagos (R$)',\n",
       " 'Código Pagamento Resumido',\n",
       " 'Data Emissão_y',\n",
       " 'Código Tipo Documento_y',\n",
       " 'Tipo Documento_y',\n",
       " 'Tipo OB',\n",
       " 'Extraorçamentário',\n",
       " 'Código Órgão Superior_y',\n",
       " 'Órgão Superior_y',\n",
       " 'Código Órgão_y',\n",
       " 'Órgão_y',\n",
       " 'Código Unidade Gestora_y',\n",
       " 'Unidade Gestora_y',\n",
       " 'Código Gestão_y',\n",
       " 'Gestão_y',\n",
       " 'Código Favorecido_y',\n",
       " 'Favorecido_y',\n",
       " 'Observação_y',\n",
       " 'Processo_y',\n",
       " 'Código Categoria de Despesa_y',\n",
       " 'Categoria de Despesa_y',\n",
       " 'Código Grupo de Despesa_y',\n",
       " 'Grupo de Despesa_y',\n",
       " 'Código Modalidade de Aplicação_y',\n",
       " 'Modalidade de Aplicação_y',\n",
       " 'Código Elemento de Despesa_y',\n",
       " 'Elemento de Despesa_y',\n",
       " 'Código Plano Orçamentário_y',\n",
       " 'Plano Orçamentário_y',\n",
       " 'Código Programa Governo_y',\n",
       " 'Nome Programa Governo_y',\n",
       " 'Valor Original do Pagamento',\n",
       " 'Valor do Pagamento Convertido pra R$',\n",
       " 'Valor Utilizado na Conversão_y']"
      ]
     },
     "execution_count": 23,
     "metadata": {},
     "output_type": "execute_result"
    }
   ],
   "source": [
    "list(pagamentos_feitos.columns.values.tolist())"
   ]
  },
  {
   "cell_type": "code",
   "execution_count": null,
   "metadata": {},
   "outputs": [],
   "source": []
  },
  {
   "cell_type": "markdown",
   "metadata": {},
   "source": [
    "### O campo \"Código Favorecido\" é o CNPJ ou CPF mascarado do fornecedor"
   ]
  },
  {
   "cell_type": "code",
   "execution_count": 24,
   "metadata": {},
   "outputs": [],
   "source": [
    "pagamentos_feitos.to_csv('resultados/pagamentos_covid19/pagamentos_feitos_de_empenhos_covid19_ate_29_maio_2020.csv', index=False)"
   ]
  },
  {
   "cell_type": "code",
   "execution_count": null,
   "metadata": {},
   "outputs": [],
   "source": []
  },
  {
   "cell_type": "code",
   "execution_count": null,
   "metadata": {},
   "outputs": [],
   "source": []
  }
 ],
 "metadata": {
  "kernelspec": {
   "display_name": "Python 3",
   "language": "python",
   "name": "python3"
  },
  "language_info": {
   "codemirror_mode": {
    "name": "ipython",
    "version": 3
   },
   "file_extension": ".py",
   "mimetype": "text/x-python",
   "name": "python",
   "nbconvert_exporter": "python",
   "pygments_lexer": "ipython3",
   "version": "3.6.9"
  }
 },
 "nbformat": 4,
 "nbformat_minor": 4
}
