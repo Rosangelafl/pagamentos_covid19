{
 "cells": [
  {
   "cell_type": "code",
   "execution_count": 1,
   "metadata": {},
   "outputs": [],
   "source": [
    "# -*- coding: utf-8\n",
    "# Reinaldo Chaves (@paidatocandeira)\n",
    "# Acessa a base de sócios e administradores da Receita Federal\n",
    "# Cruza com os dados de pagamentos da covid-19\n",
    "# Separa empresas do Brasil que têm sócios os candidatos das eleições de 2018\n",
    "# Verifica se um destes é sócio das empresas com pagamentos na covid-19\n",
    "#"
   ]
  },
  {
   "cell_type": "code",
   "execution_count": null,
   "metadata": {},
   "outputs": [],
   "source": []
  },
  {
   "cell_type": "code",
   "execution_count": 2,
   "metadata": {},
   "outputs": [],
   "source": [
    "import pandas as pd\n",
    "from datetime import datetime\n",
    "import unidecode"
   ]
  },
  {
   "cell_type": "code",
   "execution_count": null,
   "metadata": {},
   "outputs": [],
   "source": []
  },
  {
   "cell_type": "code",
   "execution_count": 3,
   "metadata": {},
   "outputs": [],
   "source": [
    "# Função para retirar acentuação \n",
    "def f(str):\n",
    "    return (unidecode.unidecode(str))"
   ]
  },
  {
   "cell_type": "code",
   "execution_count": null,
   "metadata": {},
   "outputs": [],
   "source": []
  },
  {
   "cell_type": "code",
   "execution_count": 4,
   "metadata": {},
   "outputs": [],
   "source": [
    "pd.options.display.float_format = '{:,.2f}'.format"
   ]
  },
  {
   "cell_type": "code",
   "execution_count": null,
   "metadata": {},
   "outputs": [],
   "source": []
  },
  {
   "cell_type": "code",
   "execution_count": 5,
   "metadata": {},
   "outputs": [],
   "source": [
    "kwargs = {'sep': ',', 'dtype': str, 'encoding': 'utf-8'}\n",
    "pagamentos_covid19 = pd.read_csv(\"resultados/pagamentos_covid19/pagamentos_feitos_de_empenhos_covid19_ate_15_outubro_2020.csv\", **kwargs)"
   ]
  },
  {
   "cell_type": "code",
   "execution_count": 6,
   "metadata": {},
   "outputs": [],
   "source": [
    "pagamentos_covid19.rename(columns = {'Id Empenho':'id_empenho'},inplace = True)\n",
    "pagamentos_covid19.rename(columns = {'Código Empenho':'cod_empenho'},inplace = True)\n",
    "\n",
    "pagamentos_covid19['Valor Pago (R$)'] = pagamentos_covid19['Valor Pago (R$)'].str.replace(',','.')\n",
    "pagamentos_covid19['Valor Pago (R$)'] = pagamentos_covid19['Valor Pago (R$)'].astype('float64') \n",
    "pagamentos_covid19.rename(columns = {'Valor Pago (R$)':'valor_pago_em_real'},inplace = True)"
   ]
  },
  {
   "cell_type": "code",
   "execution_count": null,
   "metadata": {},
   "outputs": [],
   "source": []
  },
  {
   "cell_type": "code",
   "execution_count": null,
   "metadata": {},
   "outputs": [],
   "source": []
  },
  {
   "cell_type": "code",
   "execution_count": 7,
   "metadata": {},
   "outputs": [],
   "source": [
    "# Procura o Código Favorecido na Receita Federal"
   ]
  },
  {
   "cell_type": "code",
   "execution_count": 7,
   "metadata": {},
   "outputs": [],
   "source": [
    "TextFileReader = pd.read_csv('/home/abraji/Documentos/Code/qsa_receita/setembro_2020/cnpj_dados_cadastrais_pj.csv',\\\n",
    "                             chunksize=1000,\\\n",
    "                             sep='#',\\\n",
    "                             converters={'cnpj': lambda x: str(x)},\\\n",
    "                             usecols=['cnpj',\n",
    "                                      'razao_social',\n",
    "                                      'nome_fantasia',\n",
    "                                      'situacao_cadastral',\n",
    "                                      'codigo_natureza_juridica',\n",
    "                                      'data_inicio_atividade',\n",
    "                                      'cnae_fiscal',\n",
    "                                      'uf', \n",
    "                                      'municipio'])"
   ]
  },
  {
   "cell_type": "code",
   "execution_count": 8,
   "metadata": {},
   "outputs": [
    {
     "name": "stdout",
     "output_type": "stream",
     "text": [
      "A extração começou às:  2020-10-20 16:30:56.678602\n",
      "A extração terminou às:  2020-10-20 16:50:26.605101\n"
     ]
    }
   ],
   "source": [
    "\n",
    "\n",
    "now = datetime.now()\n",
    "print(\"A extração começou às: \", now)\n",
    "\n",
    "conta = 0\n",
    "for df in TextFileReader:\n",
    "\n",
    "    # Caso deseja-se pegar o CNPJ raiz poderia criar uma nova coluna\n",
    "    #df['cnpj_raiz'] = df.cnpj.str[:8]\n",
    "    \n",
    "    # Faz merge dos dataframes pelo número do CNPJ\n",
    "    # Se por algum motivo no dataframe original existirem CNPJ duplicados faz um drop\n",
    "    empresas_encontradas = pd.merge(pagamentos_covid19.drop_duplicates('Código Favorecido_x'), \\\n",
    "                                 df, \\\n",
    "                                 left_on= 'Código Favorecido_x', \\\n",
    "                                 right_on='cnpj')\n",
    "    \n",
    "    if empresas_encontradas.empty is False:\n",
    "        if conta == 0:\n",
    "            df_procura1 = empresas_encontradas\n",
    "        else:\n",
    "            df_procura1 = df_procura1.append(empresas_encontradas)\n",
    "    \n",
    "        conta = conta + 1\n",
    "        \n",
    "now = datetime.now()\n",
    "print(\"A extração terminou às: \", now)\n",
    "\n"
   ]
  },
  {
   "cell_type": "code",
   "execution_count": 9,
   "metadata": {},
   "outputs": [
    {
     "data": {
      "text/plain": [
       "(8038, 112)"
      ]
     },
     "execution_count": 9,
     "metadata": {},
     "output_type": "execute_result"
    }
   ],
   "source": [
    "df_procura1.shape"
   ]
  },
  {
   "cell_type": "code",
   "execution_count": 10,
   "metadata": {},
   "outputs": [],
   "source": [
    "# Onde estão a maioria das empresas"
   ]
  },
  {
   "cell_type": "code",
   "execution_count": 11,
   "metadata": {},
   "outputs": [
    {
     "data": {
      "text/html": [
       "<div>\n",
       "<style scoped>\n",
       "    .dataframe tbody tr th:only-of-type {\n",
       "        vertical-align: middle;\n",
       "    }\n",
       "\n",
       "    .dataframe tbody tr th {\n",
       "        vertical-align: top;\n",
       "    }\n",
       "\n",
       "    .dataframe thead th {\n",
       "        text-align: right;\n",
       "    }\n",
       "</style>\n",
       "<table border=\"1\" class=\"dataframe\">\n",
       "  <thead>\n",
       "    <tr style=\"text-align: right;\">\n",
       "      <th></th>\n",
       "      <th>municipio</th>\n",
       "      <th>id_empenho</th>\n",
       "    </tr>\n",
       "  </thead>\n",
       "  <tbody>\n",
       "    <tr>\n",
       "      <th>1526</th>\n",
       "      <td>RIO DE JANEIRO</td>\n",
       "      <td>423</td>\n",
       "    </tr>\n",
       "    <tr>\n",
       "      <th>1731</th>\n",
       "      <td>SAO PAULO</td>\n",
       "      <td>373</td>\n",
       "    </tr>\n",
       "    <tr>\n",
       "      <th>265</th>\n",
       "      <td>BRASILIA</td>\n",
       "      <td>264</td>\n",
       "    </tr>\n",
       "    <tr>\n",
       "      <th>1434</th>\n",
       "      <td>PORTO ALEGRE</td>\n",
       "      <td>195</td>\n",
       "    </tr>\n",
       "    <tr>\n",
       "      <th>204</th>\n",
       "      <td>BELO HORIZONTE</td>\n",
       "      <td>184</td>\n",
       "    </tr>\n",
       "    <tr>\n",
       "      <th>...</th>\n",
       "      <td>...</td>\n",
       "      <td>...</td>\n",
       "    </tr>\n",
       "    <tr>\n",
       "      <th>1105</th>\n",
       "      <td>MATUPA</td>\n",
       "      <td>1</td>\n",
       "    </tr>\n",
       "    <tr>\n",
       "      <th>1104</th>\n",
       "      <td>MATRIZ DE CAMARAGIBE</td>\n",
       "      <td>1</td>\n",
       "    </tr>\n",
       "    <tr>\n",
       "      <th>1103</th>\n",
       "      <td>MATRINCHA</td>\n",
       "      <td>1</td>\n",
       "    </tr>\n",
       "    <tr>\n",
       "      <th>1102</th>\n",
       "      <td>MATOES DO NORTE</td>\n",
       "      <td>1</td>\n",
       "    </tr>\n",
       "    <tr>\n",
       "      <th>331</th>\n",
       "      <td>CALDEIRAO GRANDE</td>\n",
       "      <td>1</td>\n",
       "    </tr>\n",
       "  </tbody>\n",
       "</table>\n",
       "<p>1991 rows × 2 columns</p>\n",
       "</div>"
      ],
      "text/plain": [
       "                 municipio  id_empenho\n",
       "1526        RIO DE JANEIRO         423\n",
       "1731             SAO PAULO         373\n",
       "265               BRASILIA         264\n",
       "1434          PORTO ALEGRE         195\n",
       "204         BELO HORIZONTE         184\n",
       "...                    ...         ...\n",
       "1105                MATUPA           1\n",
       "1104  MATRIZ DE CAMARAGIBE           1\n",
       "1103             MATRINCHA           1\n",
       "1102       MATOES DO NORTE           1\n",
       "331       CALDEIRAO GRANDE           1\n",
       "\n",
       "[1991 rows x 2 columns]"
      ]
     },
     "execution_count": 11,
     "metadata": {},
     "output_type": "execute_result"
    }
   ],
   "source": [
    "conta = df_procura1.groupby(\"municipio\").id_empenho.count().reset_index()\n",
    "conta.sort_values('id_empenho', ascending=False)"
   ]
  },
  {
   "cell_type": "code",
   "execution_count": 12,
   "metadata": {},
   "outputs": [],
   "source": [
    "df_procura1.to_csv('resultados/pagamentos_covid19_com_empresas/pagamentos_feitos_de_empenhos_covid19_com_empresas_ate_15_outubro_2020.csv', index=False)"
   ]
  },
  {
   "cell_type": "code",
   "execution_count": null,
   "metadata": {},
   "outputs": [],
   "source": []
  },
  {
   "cell_type": "code",
   "execution_count": 13,
   "metadata": {},
   "outputs": [],
   "source": [
    "# Adiciona socios"
   ]
  },
  {
   "cell_type": "code",
   "execution_count": 15,
   "metadata": {},
   "outputs": [],
   "source": [
    "# Porém com isso a soma com os valores não deve ser mais feita, porque cada linha é repetida sempre que mais de um sócio é encontrado"
   ]
  },
  {
   "cell_type": "code",
   "execution_count": 14,
   "metadata": {},
   "outputs": [],
   "source": [
    "TextFileReader = pd.read_csv('/home/abraji/Documentos/Code/qsa_receita/setembro_2020/cnpj_dados_socios_pj.csv',\\\n",
    "                             chunksize=1000,\\\n",
    "                             sep='#',\\\n",
    "                             converters={'cnpj': lambda x: str(x)},\\\n",
    "                             usecols=['cnpj',\n",
    "                                      'identificador_socio',\n",
    "                                      'nome_socio',\n",
    "                                      'cnpj_cpf_socio',\n",
    "                                      'cod_qualificacao_socio',\n",
    "                                      'data_entrada_sociedade',\n",
    "                                      'cpf_representante_legal',\n",
    "                                      'nome_representante'])"
   ]
  },
  {
   "cell_type": "code",
   "execution_count": 15,
   "metadata": {},
   "outputs": [
    {
     "name": "stdout",
     "output_type": "stream",
     "text": [
      "A extração começou às:  2020-10-20 16:51:16.371420\n",
      "A extração terminou às:  2020-10-20 16:56:37.794870\n"
     ]
    }
   ],
   "source": [
    "\n",
    "\n",
    "now = datetime.now()\n",
    "print(\"A extração começou às: \", now)\n",
    "\n",
    "conta = 0\n",
    "for df in TextFileReader:\n",
    "\n",
    "    socios_encontrados = pd.merge(df_procura1, \\\n",
    "                                 df, \\\n",
    "                                 left_on='cnpj', \\\n",
    "                                 right_on='cnpj')\n",
    "    \n",
    "    if socios_encontrados.empty is False:\n",
    "        if conta == 0:\n",
    "            df_procura_final = socios_encontrados\n",
    "        else:\n",
    "            df_procura_final = df_procura_final.append(socios_encontrados)\n",
    "    \n",
    "        conta = conta + 1\n",
    "        \n",
    "now = datetime.now()\n",
    "print(\"A extração terminou às: \", now)\n",
    "\n"
   ]
  },
  {
   "cell_type": "code",
   "execution_count": 16,
   "metadata": {},
   "outputs": [
    {
     "data": {
      "text/plain": [
       "(12449, 119)"
      ]
     },
     "execution_count": 16,
     "metadata": {},
     "output_type": "execute_result"
    }
   ],
   "source": [
    "df_procura_final.shape"
   ]
  },
  {
   "cell_type": "code",
   "execution_count": 17,
   "metadata": {},
   "outputs": [],
   "source": [
    "df_procura_final.to_csv('resultados/pagamentos_covid19_com_empresas_e_socios/pagamentos_feitos_de_empenhos_covid19_com_empresas_e_socios_ate_15_outubro_2020.csv', index=False)"
   ]
  },
  {
   "cell_type": "code",
   "execution_count": null,
   "metadata": {},
   "outputs": [],
   "source": []
  },
  {
   "cell_type": "code",
   "execution_count": 18,
   "metadata": {},
   "outputs": [],
   "source": [
    "# Carrega candidatos de 2018 e 2016"
   ]
  },
  {
   "cell_type": "code",
   "execution_count": 19,
   "metadata": {},
   "outputs": [],
   "source": [
    "kwargs = {'sep': ';', 'dtype': str, 'encoding': 'latin_1'}\n",
    "candidatos_2018 = pd.read_csv(\"../candidatos_2018/consulta_cand_2018_BRASIL.csv\", **kwargs)"
   ]
  },
  {
   "cell_type": "code",
   "execution_count": 20,
   "metadata": {},
   "outputs": [
    {
     "name": "stdout",
     "output_type": "stream",
     "text": [
      "<class 'pandas.core.frame.DataFrame'>\n",
      "RangeIndex: 29145 entries, 0 to 29144\n",
      "Data columns (total 26 columns):\n",
      " #   Column                          Non-Null Count  Dtype \n",
      "---  ------                          --------------  ----- \n",
      " 0   ano_eleicao                     29145 non-null  object\n",
      " 1   uf                              29145 non-null  object\n",
      " 2   cargo                           29145 non-null  object\n",
      " 3   n_sequencial                    29145 non-null  object\n",
      " 4   numero_urna                     29145 non-null  object\n",
      " 5   nome_completo                   29145 non-null  object\n",
      " 6   nome_urna                       29145 non-null  object\n",
      " 7   cpf                             29145 non-null  object\n",
      " 8   e_mail                          29145 non-null  object\n",
      " 9   situacao_candidatura            29145 non-null  object\n",
      " 10  partido_eleicao                 29145 non-null  object\n",
      " 11  nacionalidade                   29145 non-null  object\n",
      " 12  uf_nascimento                   29145 non-null  object\n",
      " 13  nome_municipio_nascimento       29145 non-null  object\n",
      " 14  data_nascimento                 29145 non-null  object\n",
      " 15  idade_data_posse                29145 non-null  object\n",
      " 16  titulo_eleitoral                29145 non-null  object\n",
      " 17  genero                          29145 non-null  object\n",
      " 18  grau_instrucao                  29145 non-null  object\n",
      " 19  estado_civil                    29145 non-null  object\n",
      " 20  cor_raca                        29145 non-null  object\n",
      " 21  ocupacao                        29145 non-null  object\n",
      " 22  despesa_max_campanha_informada  29145 non-null  object\n",
      " 23  situcao_eleicao                 29145 non-null  object\n",
      " 24  tentou_reeleicao                29145 non-null  object\n",
      " 25  declarou_bens                   29145 non-null  object\n",
      "dtypes: object(26)\n",
      "memory usage: 5.8+ MB\n"
     ]
    }
   ],
   "source": [
    "# Apaga as colunas que não serão usadas\n",
    "del candidatos_2018['DT_GERACAO']\n",
    "del candidatos_2018['HH_GERACAO']\n",
    "#del candidatos_2018['ANO_ELEICAO']\n",
    "del candidatos_2018['CD_TIPO_ELEICAO']\n",
    "del candidatos_2018['NM_TIPO_ELEICAO']\n",
    "del candidatos_2018['NR_TURNO']\n",
    "del candidatos_2018['CD_ELEICAO']\n",
    "del candidatos_2018['DS_ELEICAO']\n",
    "del candidatos_2018['DT_ELEICAO']\n",
    "del candidatos_2018['TP_ABRANGENCIA']\n",
    "del candidatos_2018['SG_UE']\n",
    "del candidatos_2018['NM_UE']\n",
    "del candidatos_2018['CD_CARGO']\n",
    "del candidatos_2018['CD_SITUACAO_CANDIDATURA']\n",
    "del candidatos_2018['CD_DETALHE_SITUACAO_CAND']\n",
    "del candidatos_2018['DS_DETALHE_SITUACAO_CAND']\n",
    "del candidatos_2018['TP_AGREMIACAO']\n",
    "del candidatos_2018['NR_PARTIDO']\n",
    "del candidatos_2018['NM_PARTIDO']\n",
    "del candidatos_2018['SQ_COLIGACAO']\n",
    "del candidatos_2018['NM_COLIGACAO']\n",
    "del candidatos_2018['DS_COMPOSICAO_COLIGACAO']\n",
    "del candidatos_2018['CD_NACIONALIDADE']\n",
    "#del candidatos_2018['DS_NACIONALIDADE']\n",
    "#del candidatos_2018['SG_UF_NASCIMENTO']\n",
    "del candidatos_2018['CD_MUNICIPIO_NASCIMENTO']\n",
    "#del candidatos_2018['NM_MUNICIPIO_NASCIMENTO']\n",
    "#del candidatos_2018['NR_IDADE_DATA_POSSE']\n",
    "#del candidatos_2018['NR_TITULO_ELEITORAL_CANDIDATO']\n",
    "del candidatos_2018['CD_GENERO']\n",
    "#del candidatos_2018['DS_GENERO']\n",
    "del candidatos_2018['CD_GRAU_INSTRUCAO']\n",
    "#del candidatos_2018['DS_GRAU_INSTRUCAO']\n",
    "del candidatos_2018['CD_ESTADO_CIVIL']\n",
    "#del candidatos_2018['DS_ESTADO_CIVIL']\n",
    "del candidatos_2018['CD_COR_RACA']\n",
    "#del candidatos_2018['DS_COR_RACA']\n",
    "del candidatos_2018['CD_OCUPACAO']\n",
    "#del candidatos_2018['NR_DESPESA_MAX_CAMPANHA']\n",
    "del candidatos_2018['CD_SIT_TOT_TURNO']\n",
    "#del candidatos_2018['DS_SIT_TOT_TURNO']\n",
    "del candidatos_2018['NR_PROTOCOLO_CANDIDATURA']\n",
    "del candidatos_2018['NR_PROCESSO ']\n",
    "del candidatos_2018['NM_SOCIAL_CANDIDATO']\n",
    "#del candidatos_2018['DS_SITUACAO_CANDIDATURA'] # opcional\n",
    "#del candidatos_2018['ST_REELEICAO'] # opcional\n",
    "#del candidatos_2018['ST_DECLARAR_BENS'] # opcional\n",
    "\n",
    "candidatos_2018.columns = ['ano_eleicao',\n",
    "'uf', \n",
    "'cargo', \n",
    "'n_sequencial', \n",
    "'numero_urna',\n",
    "'nome_completo', \n",
    "'nome_urna', \n",
    "'cpf', \n",
    "'e_mail', \n",
    "'situacao_candidatura', \n",
    "'partido_eleicao', \n",
    "'nacionalidade', \n",
    "'uf_nascimento', \n",
    "'nome_municipio_nascimento',  \n",
    "'data_nascimento', \n",
    "'idade_data_posse', \n",
    "'titulo_eleitoral', \n",
    "'genero', \n",
    "'grau_instrucao', \n",
    "'estado_civil', \n",
    "'cor_raca', \n",
    "'ocupacao', \n",
    "'despesa_max_campanha_informada', \n",
    "'situcao_eleicao', \n",
    "'tentou_reeleicao', \n",
    "'declarou_bens']\n",
    "\n",
    "candidatos_2018.info()"
   ]
  },
  {
   "cell_type": "code",
   "execution_count": 21,
   "metadata": {},
   "outputs": [],
   "source": [
    "#candidatos_2018[\"nome_completo\"] = candidatos_2018[\"nome_completo\"].apply(f)"
   ]
  },
  {
   "cell_type": "code",
   "execution_count": null,
   "metadata": {},
   "outputs": [],
   "source": []
  },
  {
   "cell_type": "code",
   "execution_count": null,
   "metadata": {},
   "outputs": [],
   "source": []
  },
  {
   "cell_type": "code",
   "execution_count": 22,
   "metadata": {},
   "outputs": [],
   "source": [
    "kwargs = {'sep': ';', 'dtype': str, 'encoding': 'latin_1'}\n",
    "candidatos_2016 = pd.read_csv(\"../candidatos_2016/consulta_cand_2016_BRASIL.csv\", **kwargs)"
   ]
  },
  {
   "cell_type": "code",
   "execution_count": 23,
   "metadata": {},
   "outputs": [
    {
     "name": "stdout",
     "output_type": "stream",
     "text": [
      "<class 'pandas.core.frame.DataFrame'>\n",
      "RangeIndex: 498302 entries, 0 to 498301\n",
      "Data columns (total 26 columns):\n",
      " #   Column                          Non-Null Count   Dtype \n",
      "---  ------                          --------------   ----- \n",
      " 0   ano_eleicao                     498302 non-null  object\n",
      " 1   uf                              498302 non-null  object\n",
      " 2   cargo                           498302 non-null  object\n",
      " 3   n_sequencial                    498302 non-null  object\n",
      " 4   numero_urna                     498302 non-null  object\n",
      " 5   nome_completo                   498302 non-null  object\n",
      " 6   nome_urna                       498302 non-null  object\n",
      " 7   cpf                             498302 non-null  object\n",
      " 8   e_mail                          498302 non-null  object\n",
      " 9   situacao_candidatura            498302 non-null  object\n",
      " 10  partido_eleicao                 498302 non-null  object\n",
      " 11  nacionalidade                   498302 non-null  object\n",
      " 12  uf_nascimento                   498302 non-null  object\n",
      " 13  nome_municipio_nascimento       498302 non-null  object\n",
      " 14  data_nascimento                 498246 non-null  object\n",
      " 15  idade_data_posse                498246 non-null  object\n",
      " 16  titulo_eleitoral                498302 non-null  object\n",
      " 17  genero                          498302 non-null  object\n",
      " 18  grau_instrucao                  498302 non-null  object\n",
      " 19  estado_civil                    498302 non-null  object\n",
      " 20  cor_raca                        498302 non-null  object\n",
      " 21  ocupacao                        498302 non-null  object\n",
      " 22  despesa_max_campanha_informada  498302 non-null  object\n",
      " 23  situcao_eleicao                 498302 non-null  object\n",
      " 24  tentou_reeleicao                498302 non-null  object\n",
      " 25  declarou_bens                   498302 non-null  object\n",
      "dtypes: object(26)\n",
      "memory usage: 98.8+ MB\n"
     ]
    }
   ],
   "source": [
    "# Apaga as colunas que não serão usadas\n",
    "del candidatos_2016['DT_GERACAO']\n",
    "del candidatos_2016['HH_GERACAO']\n",
    "#del candidatos_2016['ANO_ELEICAO']\n",
    "del candidatos_2016['CD_TIPO_ELEICAO']\n",
    "del candidatos_2016['NM_TIPO_ELEICAO']\n",
    "del candidatos_2016['NR_TURNO']\n",
    "del candidatos_2016['CD_ELEICAO']\n",
    "del candidatos_2016['DS_ELEICAO']\n",
    "del candidatos_2016['DT_ELEICAO']\n",
    "del candidatos_2016['TP_ABRANGENCIA']\n",
    "del candidatos_2016['SG_UE']\n",
    "del candidatos_2016['NM_UE']\n",
    "del candidatos_2016['CD_CARGO']\n",
    "del candidatos_2016['CD_SITUACAO_CANDIDATURA']\n",
    "del candidatos_2016['CD_DETALHE_SITUACAO_CAND']\n",
    "del candidatos_2016['DS_DETALHE_SITUACAO_CAND']\n",
    "del candidatos_2016['TP_AGREMIACAO']\n",
    "del candidatos_2016['NR_PARTIDO']\n",
    "del candidatos_2016['NM_PARTIDO']\n",
    "del candidatos_2016['SQ_COLIGACAO']\n",
    "del candidatos_2016['NM_COLIGACAO']\n",
    "del candidatos_2016['DS_COMPOSICAO_COLIGACAO']\n",
    "del candidatos_2016['CD_NACIONALIDADE']\n",
    "#del candidatos_2016['DS_NACIONALIDADE']\n",
    "#del candidatos_2016['SG_UF_NASCIMENTO']\n",
    "del candidatos_2016['CD_MUNICIPIO_NASCIMENTO']\n",
    "#del candidatos_2016['NM_MUNICIPIO_NASCIMENTO']\n",
    "#del candidatos_2016['NR_IDADE_DATA_POSSE']\n",
    "#del candidatos_2016['NR_TITULO_ELEITORAL_CANDIDATO']\n",
    "del candidatos_2016['CD_GENERO']\n",
    "#del candidatos_2016['DS_GENERO']\n",
    "del candidatos_2016['CD_GRAU_INSTRUCAO']\n",
    "#del candidatos_2016['DS_GRAU_INSTRUCAO']\n",
    "del candidatos_2016['CD_ESTADO_CIVIL']\n",
    "#del candidatos_2016['DS_ESTADO_CIVIL']\n",
    "del candidatos_2016['CD_COR_RACA']\n",
    "#del candidatos_2016['DS_COR_RACA']\n",
    "del candidatos_2016['CD_OCUPACAO']\n",
    "#del candidatos_2016['NR_DESPESA_MAX_CAMPANHA']\n",
    "del candidatos_2016['CD_SIT_TOT_TURNO']\n",
    "#del candidatos_2016['DS_SIT_TOT_TURNO']\n",
    "del candidatos_2016['NR_PROTOCOLO_CANDIDATURA']\n",
    "del candidatos_2016['NR_PROCESSO ']\n",
    "del candidatos_2016['NM_SOCIAL_CANDIDATO']\n",
    "#del candidatos_2016['DS_SITUACAO_CANDIDATURA'] # opcional\n",
    "#del candidatos_2016['ST_REELEICAO'] # opcional\n",
    "#del candidatos_2016['ST_DECLARAR_BENS'] # opcional\n",
    "\n",
    "candidatos_2016.columns = ['ano_eleicao',\n",
    "'uf', \n",
    "'cargo', \n",
    "'n_sequencial', \n",
    "'numero_urna',\n",
    "'nome_completo', \n",
    "'nome_urna', \n",
    "'cpf', \n",
    "'e_mail', \n",
    "'situacao_candidatura', \n",
    "'partido_eleicao', \n",
    "'nacionalidade', \n",
    "'uf_nascimento', \n",
    "'nome_municipio_nascimento',  \n",
    "'data_nascimento', \n",
    "'idade_data_posse', \n",
    "'titulo_eleitoral', \n",
    "'genero', \n",
    "'grau_instrucao', \n",
    "'estado_civil', \n",
    "'cor_raca', \n",
    "'ocupacao', \n",
    "'despesa_max_campanha_informada', \n",
    "'situcao_eleicao', \n",
    "'tentou_reeleicao', \n",
    "'declarou_bens']\n",
    "\n",
    "candidatos_2016.info()"
   ]
  },
  {
   "cell_type": "code",
   "execution_count": null,
   "metadata": {},
   "outputs": [],
   "source": []
  },
  {
   "cell_type": "code",
   "execution_count": 24,
   "metadata": {},
   "outputs": [],
   "source": [
    "frames = [candidatos_2016, candidatos_2018]"
   ]
  },
  {
   "cell_type": "code",
   "execution_count": 25,
   "metadata": {},
   "outputs": [],
   "source": [
    "candidatos_2016_2018 = pd.concat(frames)"
   ]
  },
  {
   "cell_type": "code",
   "execution_count": 26,
   "metadata": {},
   "outputs": [],
   "source": [
    "candidatos_2016_2018 = candidatos_2016_2018.drop_duplicates(['cpf'], keep='last')"
   ]
  },
  {
   "cell_type": "code",
   "execution_count": 27,
   "metadata": {},
   "outputs": [],
   "source": [
    "candidatos_2016_2018['cpf_mascarado']='***'+candidatos_2016_2018['cpf'].str[3:9]+'**'"
   ]
  },
  {
   "cell_type": "code",
   "execution_count": 28,
   "metadata": {},
   "outputs": [
    {
     "data": {
      "text/html": [
       "<div>\n",
       "<style scoped>\n",
       "    .dataframe tbody tr th:only-of-type {\n",
       "        vertical-align: middle;\n",
       "    }\n",
       "\n",
       "    .dataframe tbody tr th {\n",
       "        vertical-align: top;\n",
       "    }\n",
       "\n",
       "    .dataframe thead th {\n",
       "        text-align: right;\n",
       "    }\n",
       "</style>\n",
       "<table border=\"1\" class=\"dataframe\">\n",
       "  <thead>\n",
       "    <tr style=\"text-align: right;\">\n",
       "      <th></th>\n",
       "      <th>nome_completo</th>\n",
       "      <th>cpf_mascarado</th>\n",
       "    </tr>\n",
       "  </thead>\n",
       "  <tbody>\n",
       "    <tr>\n",
       "      <th>0</th>\n",
       "      <td>DINIFER DE ALMEIDA SEHN</td>\n",
       "      <td>***689969**</td>\n",
       "    </tr>\n",
       "    <tr>\n",
       "      <th>1</th>\n",
       "      <td>DIEGO DIAS</td>\n",
       "      <td>***173330**</td>\n",
       "    </tr>\n",
       "    <tr>\n",
       "      <th>2</th>\n",
       "      <td>CLAUDEMIR TACÍLIO GONÇALVES</td>\n",
       "      <td>***327329**</td>\n",
       "    </tr>\n",
       "    <tr>\n",
       "      <th>4</th>\n",
       "      <td>IRACY AMARAL NEGRE</td>\n",
       "      <td>***308221**</td>\n",
       "    </tr>\n",
       "    <tr>\n",
       "      <th>5</th>\n",
       "      <td>GELSON LUIZ PETRY</td>\n",
       "      <td>***620609**</td>\n",
       "    </tr>\n",
       "  </tbody>\n",
       "</table>\n",
       "</div>"
      ],
      "text/plain": [
       "                 nome_completo cpf_mascarado\n",
       "0      DINIFER DE ALMEIDA SEHN   ***689969**\n",
       "1                   DIEGO DIAS   ***173330**\n",
       "2  CLAUDEMIR TACÍLIO GONÇALVES   ***327329**\n",
       "4           IRACY AMARAL NEGRE   ***308221**\n",
       "5            GELSON LUIZ PETRY   ***620609**"
      ]
     },
     "execution_count": 28,
     "metadata": {},
     "output_type": "execute_result"
    }
   ],
   "source": [
    "candidatos_2016_2018[['nome_completo','cpf_mascarado']].head()"
   ]
  },
  {
   "cell_type": "code",
   "execution_count": null,
   "metadata": {},
   "outputs": [],
   "source": []
  },
  {
   "cell_type": "code",
   "execution_count": 29,
   "metadata": {},
   "outputs": [],
   "source": [
    "# Verifica que empresas como sócios politicos brasileiros"
   ]
  },
  {
   "cell_type": "code",
   "execution_count": 30,
   "metadata": {},
   "outputs": [],
   "source": [
    "TextFileReader = pd.read_csv('/home/abraji/Documentos/Code/qsa_receita/setembro_2020/cnpj_dados_socios_pj.csv',\\\n",
    "                             chunksize=1000,\\\n",
    "                             sep='#',\\\n",
    "                             converters={'cnpj': lambda x: str(x)},\\\n",
    "                             usecols=['cnpj',\n",
    "                                      'identificador_socio',\n",
    "                                      'nome_socio',\n",
    "                                      'cnpj_cpf_socio',\n",
    "                                      'cod_qualificacao_socio',\n",
    "                                      'data_entrada_sociedade',\n",
    "                                      'cpf_representante_legal',\n",
    "                                      'nome_representante'])"
   ]
  },
  {
   "cell_type": "code",
   "execution_count": 31,
   "metadata": {},
   "outputs": [
    {
     "name": "stdout",
     "output_type": "stream",
     "text": [
      "A extração começou às:  2020-10-20 16:59:21.089880\n",
      "A extração terminou às:  2020-10-20 19:47:41.949320\n"
     ]
    }
   ],
   "source": [
    "\n",
    "\n",
    "now = datetime.now()\n",
    "print(\"A extração começou às: \", now)\n",
    "\n",
    "conta = 0\n",
    "for df in TextFileReader:\n",
    "\n",
    "    socios_encontrados = pd.merge(candidatos_2016_2018, \\\n",
    "                                 df, \\\n",
    "                                 left_on=['nome_completo', 'cpf_mascarado'], \\\n",
    "                                 right_on=['nome_socio','cnpj_cpf_socio'])\n",
    "    \n",
    "    if socios_encontrados.empty is False:\n",
    "        if conta == 0:\n",
    "            df_procura_socio = socios_encontrados\n",
    "        else:\n",
    "            df_procura_socio = df_procura_socio.append(socios_encontrados)\n",
    "    \n",
    "        conta = conta + 1\n",
    "        \n",
    "now = datetime.now()\n",
    "print(\"A extração terminou às: \", now)\n",
    "\n"
   ]
  },
  {
   "cell_type": "code",
   "execution_count": 32,
   "metadata": {},
   "outputs": [
    {
     "data": {
      "text/plain": [
       "(172793, 35)"
      ]
     },
     "execution_count": 32,
     "metadata": {},
     "output_type": "execute_result"
    }
   ],
   "source": [
    "df_procura_socio.shape"
   ]
  },
  {
   "cell_type": "code",
   "execution_count": null,
   "metadata": {},
   "outputs": [],
   "source": []
  },
  {
   "cell_type": "code",
   "execution_count": 33,
   "metadata": {},
   "outputs": [],
   "source": [
    "TextFileReader = pd.read_csv('/home/abraji/Documentos/Code/qsa_receita/setembro_2020/cnpj_dados_cadastrais_pj.csv',\\\n",
    "                             chunksize=1000,\\\n",
    "                             sep='#',\\\n",
    "                             converters={'cnpj': lambda x: str(x)},\\\n",
    "                             usecols=['cnpj',\n",
    "                                      'razao_social',\n",
    "                                      'nome_fantasia',\n",
    "                                      'situacao_cadastral',\n",
    "                                      'codigo_natureza_juridica',\n",
    "                                      'data_inicio_atividade',\n",
    "                                      'cnae_fiscal',\n",
    "                                      'uf', \n",
    "                                      'municipio'])"
   ]
  },
  {
   "cell_type": "code",
   "execution_count": 34,
   "metadata": {},
   "outputs": [
    {
     "name": "stdout",
     "output_type": "stream",
     "text": [
      "A extração começou às:  2020-10-20 20:26:08.609804\n",
      "A extração terminou às:  2020-10-20 23:06:19.870465\n"
     ]
    }
   ],
   "source": [
    "\n",
    "\n",
    "now = datetime.now()\n",
    "print(\"A extração começou às: \", now)\n",
    "\n",
    "conta = 0\n",
    "for df in TextFileReader:\n",
    "\n",
    "    # Caso deseja-se pegar o CNPJ raiz poderia criar uma nova coluna\n",
    "    #df['cnpj_raiz'] = df.cnpj.str[:8]\n",
    "    \n",
    "    # Faz merge dos dataframes pelo número do CNPJ\n",
    "    # Se por algum motivo no dataframe original existirem CNPJ duplicados faz um drop\n",
    "    empresas_encontradas_polit = pd.merge(df_procura_socio, \\\n",
    "                                 df, \\\n",
    "                                 left_on= 'cnpj', \\\n",
    "                                 right_on='cnpj')\n",
    "    \n",
    "    if empresas_encontradas_polit.empty is False:\n",
    "        if conta == 0:\n",
    "            df_procura_polit = empresas_encontradas_polit\n",
    "        else:\n",
    "            df_procura_polit = df_procura_polit.append(empresas_encontradas_polit)\n",
    "    \n",
    "        conta = conta + 1\n",
    "        \n",
    "now = datetime.now()\n",
    "print(\"A extração terminou às: \", now)\n",
    "\n"
   ]
  },
  {
   "cell_type": "code",
   "execution_count": 35,
   "metadata": {},
   "outputs": [
    {
     "data": {
      "text/plain": [
       "(172793, 43)"
      ]
     },
     "execution_count": 35,
     "metadata": {},
     "output_type": "execute_result"
    }
   ],
   "source": [
    "df_procura_polit.shape"
   ]
  },
  {
   "cell_type": "code",
   "execution_count": 36,
   "metadata": {},
   "outputs": [],
   "source": [
    "df_procura_polit.to_csv('resultados/empresas_politicos_candidatos_2016_2018_versao_15-out-20.csv', index=False)"
   ]
  },
  {
   "cell_type": "code",
   "execution_count": null,
   "metadata": {},
   "outputs": [],
   "source": []
  },
  {
   "cell_type": "code",
   "execution_count": 37,
   "metadata": {},
   "outputs": [],
   "source": [
    "# Carrega arquivo de empresas de políticos já salvo"
   ]
  },
  {
   "cell_type": "code",
   "execution_count": 38,
   "metadata": {},
   "outputs": [],
   "source": [
    "kwargs = {'sep': ',', 'dtype': str, 'encoding': 'utf-8'}\n",
    "df_procura_polit = pd.read_csv(\"resultados/empresas_politicos_candidatos/empresas_politicos_candidatos_2016_2018_versao_28-05-20.csv\", **kwargs)"
   ]
  },
  {
   "cell_type": "code",
   "execution_count": null,
   "metadata": {},
   "outputs": [],
   "source": []
  },
  {
   "cell_type": "code",
   "execution_count": null,
   "metadata": {},
   "outputs": [],
   "source": []
  },
  {
   "cell_type": "code",
   "execution_count": 20,
   "metadata": {},
   "outputs": [],
   "source": [
    "# Verifica se há empresas de políticos entre os fornecedores da covid19"
   ]
  },
  {
   "cell_type": "code",
   "execution_count": 39,
   "metadata": {},
   "outputs": [],
   "source": [
    "empresas_encontradas_polit_covid19 = pd.merge(pagamentos_covid19.drop_duplicates('Código Favorecido_x'), \\\n",
    "                                 df_procura_polit, \\\n",
    "                                 left_on= 'Código Favorecido_x', \\\n",
    "                                 right_on='cnpj')"
   ]
  },
  {
   "cell_type": "code",
   "execution_count": 40,
   "metadata": {},
   "outputs": [
    {
     "data": {
      "text/plain": [
       "(79, 146)"
      ]
     },
     "execution_count": 40,
     "metadata": {},
     "output_type": "execute_result"
    }
   ],
   "source": [
    "empresas_encontradas_polit_covid19.shape"
   ]
  },
  {
   "cell_type": "code",
   "execution_count": 41,
   "metadata": {},
   "outputs": [
    {
     "data": {
      "text/html": [
       "<div>\n",
       "<style scoped>\n",
       "    .dataframe tbody tr th:only-of-type {\n",
       "        vertical-align: middle;\n",
       "    }\n",
       "\n",
       "    .dataframe tbody tr th {\n",
       "        vertical-align: top;\n",
       "    }\n",
       "\n",
       "    .dataframe thead th {\n",
       "        text-align: right;\n",
       "    }\n",
       "</style>\n",
       "<table border=\"1\" class=\"dataframe\">\n",
       "  <thead>\n",
       "    <tr style=\"text-align: right;\">\n",
       "      <th></th>\n",
       "      <th>uf_x</th>\n",
       "      <th>nome_urna</th>\n",
       "      <th>cargo</th>\n",
       "      <th>situcao_eleicao</th>\n",
       "      <th>Data Emissão_x</th>\n",
       "      <th>cod_empenho</th>\n",
       "      <th>id_empenho</th>\n",
       "      <th>Órgão_x</th>\n",
       "      <th>Unidade Gestora_x</th>\n",
       "      <th>Código Favorecido_x</th>\n",
       "      <th>Favorecido_x</th>\n",
       "      <th>Valor do Empenho Convertido pra R$</th>\n",
       "      <th>valor_pago_em_real</th>\n",
       "      <th>Valor Restos a Pagar Inscritos (R$)</th>\n",
       "      <th>Observação_x</th>\n",
       "      <th>Observação_y</th>\n",
       "      <th>Modalidade de Licitação</th>\n",
       "    </tr>\n",
       "  </thead>\n",
       "  <tbody>\n",
       "    <tr>\n",
       "      <th>0</th>\n",
       "      <td>TO</td>\n",
       "      <td>OGARI PACHECO</td>\n",
       "      <td>2º SUPLENTE</td>\n",
       "      <td>ELEITO</td>\n",
       "      <td>02/06/2020</td>\n",
       "      <td>153152152362020NE800944</td>\n",
       "      <td>177003035</td>\n",
       "      <td>Universidade Federal do Rio de Janeiro</td>\n",
       "      <td>HOSPITAL UNIVERSITARIO DA UFRJ</td>\n",
       "      <td>44734671000151</td>\n",
       "      <td>CRISTALIA PRODUTOS QUIMICOS FARMACEUTICOS LTDA</td>\n",
       "      <td>198240,00</td>\n",
       "      <td>-2,365.00</td>\n",
       "      <td>0,00</td>\n",
       "      <td>FARMACIA - AQUISICAO DE MATERIAL HOSPITALAR (D...</td>\n",
       "      <td>ERRO.</td>\n",
       "      <td>Pregão</td>\n",
       "    </tr>\n",
       "    <tr>\n",
       "      <th>1</th>\n",
       "      <td>DF</td>\n",
       "      <td>FERNANDO MARQUES</td>\n",
       "      <td>SENADOR</td>\n",
       "      <td>NÃO ELEITO</td>\n",
       "      <td>02/06/2020</td>\n",
       "      <td>153152152362020NE800957</td>\n",
       "      <td>173502971</td>\n",
       "      <td>Universidade Federal do Rio de Janeiro</td>\n",
       "      <td>HOSPITAL UNIVERSITARIO DA UFRJ</td>\n",
       "      <td>60665981000975</td>\n",
       "      <td>UNIAO QUIMICA FARMACEUTICA NACIONAL S A</td>\n",
       "      <td>28166,25</td>\n",
       "      <td>619.66</td>\n",
       "      <td>0,00</td>\n",
       "      <td>FARMACIA - AQUISICAO DE MEDICAMENTOS (DEMANDA ...</td>\n",
       "      <td>DEDUCOES DE TRIBUTOS FEDERAIS DA NF.422014,EMI...</td>\n",
       "      <td>Pregão</td>\n",
       "    </tr>\n",
       "    <tr>\n",
       "      <th>2</th>\n",
       "      <td>PR</td>\n",
       "      <td>ROSANA MONNEY RIBAS</td>\n",
       "      <td>DEPUTADO ESTADUAL</td>\n",
       "      <td>SUPLENTE</td>\n",
       "      <td>28/07/2020</td>\n",
       "      <td>155020264432020NE801998</td>\n",
       "      <td>237300204</td>\n",
       "      <td>Empresa Brasileira de Serviços Hospitalares</td>\n",
       "      <td>EBSERH COMPLEXO HOSPITALAR DO CEARÁ</td>\n",
       "      <td>26164075000100</td>\n",
       "      <td>PROVIDER PRODUTOS HOSPITALARES E SANEANTES LTDA</td>\n",
       "      <td>1017,00</td>\n",
       "      <td>59.49</td>\n",
       "      <td>0,00</td>\n",
       "      <td>SOLICITANTE UNIDADE DE PRODUTOS PARA SAUDE-MEA...</td>\n",
       "      <td>RETENCAO DE TRIBUTOS FEDERAIS, REF. NF 1841, D...</td>\n",
       "      <td>Pregão</td>\n",
       "    </tr>\n",
       "    <tr>\n",
       "      <th>3</th>\n",
       "      <td>RS</td>\n",
       "      <td>LINO ZINN</td>\n",
       "      <td>VEREADOR</td>\n",
       "      <td>SUPLENTE</td>\n",
       "      <td>29/07/2020</td>\n",
       "      <td>155009264432020NE802060</td>\n",
       "      <td>239500340</td>\n",
       "      <td>Empresa Brasileira de Serviços Hospitalares</td>\n",
       "      <td>EBSERH HUB-UNB</td>\n",
       "      <td>04183656000148</td>\n",
       "      <td>DISTRICENTER DISTRIBUIDORA DE MEDICAMENTOS LTDA</td>\n",
       "      <td>177888,00</td>\n",
       "      <td>3,021.48</td>\n",
       "      <td>0,00</td>\n",
       "      <td>ATENDER DESPESA COM MATERIAL FARMACOLOGICO,CON...</td>\n",
       "      <td>REC. NFE 5050 EMISSAO 30/07/2020 ATESTE 05/08/...</td>\n",
       "      <td>Dispensa de Licitação</td>\n",
       "    </tr>\n",
       "    <tr>\n",
       "      <th>4</th>\n",
       "      <td>MS</td>\n",
       "      <td>JAIRO ARRUDA</td>\n",
       "      <td>DEPUTADO FEDERAL</td>\n",
       "      <td>SUPLENTE</td>\n",
       "      <td>02/09/2020</td>\n",
       "      <td>160132000012020NE800522</td>\n",
       "      <td>230402086</td>\n",
       "      <td>Comando do Exército</td>\n",
       "      <td>9 BATALHAO DE ENGENHARIA DE COMBATE</td>\n",
       "      <td>07530947000153</td>\n",
       "      <td>COOPERATIVA DOS PRODUTORES RURAIS DA REGIAO DO...</td>\n",
       "      <td>150,80</td>\n",
       "      <td>150.80</td>\n",
       "      <td>0,00</td>\n",
       "      <td>AQUISICAO DE GENEROS ALIMENTICIOS * CONF 2020N...</td>\n",
       "      <td>AQUISICAO DE MATERIAL DE CONSUMO PARA A OM, CO...</td>\n",
       "      <td>Dispensa de Licitação</td>\n",
       "    </tr>\n",
       "    <tr>\n",
       "      <th>...</th>\n",
       "      <td>...</td>\n",
       "      <td>...</td>\n",
       "      <td>...</td>\n",
       "      <td>...</td>\n",
       "      <td>...</td>\n",
       "      <td>...</td>\n",
       "      <td>...</td>\n",
       "      <td>...</td>\n",
       "      <td>...</td>\n",
       "      <td>...</td>\n",
       "      <td>...</td>\n",
       "      <td>...</td>\n",
       "      <td>...</td>\n",
       "      <td>...</td>\n",
       "      <td>...</td>\n",
       "      <td>...</td>\n",
       "      <td>...</td>\n",
       "    </tr>\n",
       "    <tr>\n",
       "      <th>74</th>\n",
       "      <td>MG</td>\n",
       "      <td>DEIR CASSIMIRO</td>\n",
       "      <td>VEREADOR</td>\n",
       "      <td>SUPLENTE</td>\n",
       "      <td>23/07/2020</td>\n",
       "      <td>135562222112020NE000026</td>\n",
       "      <td>241300021</td>\n",
       "      <td>Companhia Nacional de Abastecimento</td>\n",
       "      <td>UNIDADE CONAB PAA MINAS GERAIS</td>\n",
       "      <td>04774913000116</td>\n",
       "      <td>ASSOCIACAO COMUNITARIA DO CORREGO DOS FERREIRA...</td>\n",
       "      <td>79968,62</td>\n",
       "      <td>75,290.46</td>\n",
       "      <td>0,00</td>\n",
       "      <td>EMPENHO DESTINADO A COMPRA C/ DOACAO SIMULTANE...</td>\n",
       "      <td>AQUISICAO DE PRODUTORES DA AGRICULTURA FAMILIA...</td>\n",
       "      <td>Dispensa de Licitação</td>\n",
       "    </tr>\n",
       "    <tr>\n",
       "      <th>75</th>\n",
       "      <td>CE</td>\n",
       "      <td>ZILANDA SIQUEIRA</td>\n",
       "      <td>VEREADOR</td>\n",
       "      <td>NÃO ELEITO</td>\n",
       "      <td>23/07/2020</td>\n",
       "      <td>550009000012020NE801325</td>\n",
       "      <td>235400066</td>\n",
       "      <td>Ministério da Cidadania - Unidades com víncul</td>\n",
       "      <td>SECR. NAC. DE CUIDADOS E PREV. AS DROGAS</td>\n",
       "      <td>07741268000123</td>\n",
       "      <td>ASSOCIACAO AGAPE</td>\n",
       "      <td>42200,28</td>\n",
       "      <td>19,630.80</td>\n",
       "      <td>0,00</td>\n",
       "      <td>IMPORTANCIA QUE SE EMPENHA DESTINADO A ATENDER...</td>\n",
       "      <td>PGTO. A ASSOCIACAO AGAPE, PELA PRESTACAO DE SE...</td>\n",
       "      <td>Inexigível</td>\n",
       "    </tr>\n",
       "    <tr>\n",
       "      <th>76</th>\n",
       "      <td>MG</td>\n",
       "      <td>PRETO DO ZÉ VICENTE</td>\n",
       "      <td>VEREADOR</td>\n",
       "      <td>NÃO ELEITO</td>\n",
       "      <td>23/07/2020</td>\n",
       "      <td>135562222112020NE000029</td>\n",
       "      <td>239900057</td>\n",
       "      <td>Companhia Nacional de Abastecimento</td>\n",
       "      <td>UNIDADE CONAB PAA MINAS GERAIS</td>\n",
       "      <td>11326035000131</td>\n",
       "      <td>ASSOCIACAO COMUNITARIA DO CORREGO DOS OLIVEIRAS</td>\n",
       "      <td>184000,00</td>\n",
       "      <td>173,236.00</td>\n",
       "      <td>0,00</td>\n",
       "      <td>EMPENHO DESTINADO A COMPRA C/ DOACAO SIMULTANE...</td>\n",
       "      <td>AQUISICAO DE PRODUTORES DA AGRICULTURA FAMILIA...</td>\n",
       "      <td>Dispensa de Licitação</td>\n",
       "    </tr>\n",
       "    <tr>\n",
       "      <th>77</th>\n",
       "      <td>PE</td>\n",
       "      <td>OZANEIDE GOMES DO MANDACARU</td>\n",
       "      <td>VEREADOR</td>\n",
       "      <td>SUPLENTE</td>\n",
       "      <td>14/07/2020</td>\n",
       "      <td>135563222112020NE000034</td>\n",
       "      <td>206901336</td>\n",
       "      <td>Companhia Nacional de Abastecimento</td>\n",
       "      <td>UNIDADE CONAB PAA PERNAMBUCO</td>\n",
       "      <td>04411965000128</td>\n",
       "      <td>ASSOCIACAO DOS AGRICULTORES FAMILIARES DO ASSE...</td>\n",
       "      <td>99662,90</td>\n",
       "      <td>93,832.62</td>\n",
       "      <td>0,00</td>\n",
       "      <td>CPR-PE-2020/02/0056 - DESTINADO A COMPRA COM D...</td>\n",
       "      <td>PAGAMENTO DA CPR/PE/2020/02/0056, EM FAVOR DA ...</td>\n",
       "      <td>Não se Aplica</td>\n",
       "    </tr>\n",
       "    <tr>\n",
       "      <th>78</th>\n",
       "      <td>MG</td>\n",
       "      <td>JOÃO DA FLORA</td>\n",
       "      <td>VEREADOR</td>\n",
       "      <td>NÃO ELEITO</td>\n",
       "      <td>09/07/2020</td>\n",
       "      <td>155902264432020NE801932</td>\n",
       "      <td>202501162</td>\n",
       "      <td>Empresa Brasileira de Serviços Hospitalares</td>\n",
       "      <td>EBSERH CHC-UFPR</td>\n",
       "      <td>05780938000195</td>\n",
       "      <td>REFRIGERACAO FLORA LTDA</td>\n",
       "      <td>9111,28</td>\n",
       "      <td>9,111.26</td>\n",
       "      <td>0,00</td>\n",
       "      <td>23759.019805/2020-11 \\ IF \\ P 0009/2020 \\ CONT...</td>\n",
       "      <td>PROCESSO: 019805/2020-11 | CONTRATO:  000/0000...</td>\n",
       "      <td>Pregão</td>\n",
       "    </tr>\n",
       "  </tbody>\n",
       "</table>\n",
       "<p>79 rows × 17 columns</p>\n",
       "</div>"
      ],
      "text/plain": [
       "   uf_x                    nome_urna              cargo situcao_eleicao  \\\n",
       "0    TO                OGARI PACHECO        2º SUPLENTE          ELEITO   \n",
       "1    DF             FERNANDO MARQUES            SENADOR      NÃO ELEITO   \n",
       "2    PR          ROSANA MONNEY RIBAS  DEPUTADO ESTADUAL        SUPLENTE   \n",
       "3    RS                    LINO ZINN           VEREADOR        SUPLENTE   \n",
       "4    MS                 JAIRO ARRUDA   DEPUTADO FEDERAL        SUPLENTE   \n",
       "..  ...                          ...                ...             ...   \n",
       "74   MG               DEIR CASSIMIRO           VEREADOR        SUPLENTE   \n",
       "75   CE             ZILANDA SIQUEIRA           VEREADOR      NÃO ELEITO   \n",
       "76   MG          PRETO DO ZÉ VICENTE           VEREADOR      NÃO ELEITO   \n",
       "77   PE  OZANEIDE GOMES DO MANDACARU           VEREADOR        SUPLENTE   \n",
       "78   MG                JOÃO DA FLORA           VEREADOR      NÃO ELEITO   \n",
       "\n",
       "   Data Emissão_x              cod_empenho id_empenho  \\\n",
       "0      02/06/2020  153152152362020NE800944  177003035   \n",
       "1      02/06/2020  153152152362020NE800957  173502971   \n",
       "2      28/07/2020  155020264432020NE801998  237300204   \n",
       "3      29/07/2020  155009264432020NE802060  239500340   \n",
       "4      02/09/2020  160132000012020NE800522  230402086   \n",
       "..            ...                      ...        ...   \n",
       "74     23/07/2020  135562222112020NE000026  241300021   \n",
       "75     23/07/2020  550009000012020NE801325  235400066   \n",
       "76     23/07/2020  135562222112020NE000029  239900057   \n",
       "77     14/07/2020  135563222112020NE000034  206901336   \n",
       "78     09/07/2020  155902264432020NE801932  202501162   \n",
       "\n",
       "                                          Órgão_x  \\\n",
       "0          Universidade Federal do Rio de Janeiro   \n",
       "1          Universidade Federal do Rio de Janeiro   \n",
       "2     Empresa Brasileira de Serviços Hospitalares   \n",
       "3     Empresa Brasileira de Serviços Hospitalares   \n",
       "4                             Comando do Exército   \n",
       "..                                            ...   \n",
       "74            Companhia Nacional de Abastecimento   \n",
       "75  Ministério da Cidadania - Unidades com víncul   \n",
       "76            Companhia Nacional de Abastecimento   \n",
       "77            Companhia Nacional de Abastecimento   \n",
       "78    Empresa Brasileira de Serviços Hospitalares   \n",
       "\n",
       "                           Unidade Gestora_x Código Favorecido_x  \\\n",
       "0             HOSPITAL UNIVERSITARIO DA UFRJ      44734671000151   \n",
       "1             HOSPITAL UNIVERSITARIO DA UFRJ      60665981000975   \n",
       "2        EBSERH COMPLEXO HOSPITALAR DO CEARÁ      26164075000100   \n",
       "3                             EBSERH HUB-UNB      04183656000148   \n",
       "4        9 BATALHAO DE ENGENHARIA DE COMBATE      07530947000153   \n",
       "..                                       ...                 ...   \n",
       "74            UNIDADE CONAB PAA MINAS GERAIS      04774913000116   \n",
       "75  SECR. NAC. DE CUIDADOS E PREV. AS DROGAS      07741268000123   \n",
       "76            UNIDADE CONAB PAA MINAS GERAIS      11326035000131   \n",
       "77              UNIDADE CONAB PAA PERNAMBUCO      04411965000128   \n",
       "78                           EBSERH CHC-UFPR      05780938000195   \n",
       "\n",
       "                                         Favorecido_x  \\\n",
       "0      CRISTALIA PRODUTOS QUIMICOS FARMACEUTICOS LTDA   \n",
       "1             UNIAO QUIMICA FARMACEUTICA NACIONAL S A   \n",
       "2     PROVIDER PRODUTOS HOSPITALARES E SANEANTES LTDA   \n",
       "3     DISTRICENTER DISTRIBUIDORA DE MEDICAMENTOS LTDA   \n",
       "4   COOPERATIVA DOS PRODUTORES RURAIS DA REGIAO DO...   \n",
       "..                                                ...   \n",
       "74  ASSOCIACAO COMUNITARIA DO CORREGO DOS FERREIRA...   \n",
       "75                                   ASSOCIACAO AGAPE   \n",
       "76    ASSOCIACAO COMUNITARIA DO CORREGO DOS OLIVEIRAS   \n",
       "77  ASSOCIACAO DOS AGRICULTORES FAMILIARES DO ASSE...   \n",
       "78                            REFRIGERACAO FLORA LTDA   \n",
       "\n",
       "   Valor do Empenho Convertido pra R$  valor_pago_em_real  \\\n",
       "0                           198240,00           -2,365.00   \n",
       "1                            28166,25              619.66   \n",
       "2                             1017,00               59.49   \n",
       "3                           177888,00            3,021.48   \n",
       "4                              150,80              150.80   \n",
       "..                                ...                 ...   \n",
       "74                           79968,62           75,290.46   \n",
       "75                           42200,28           19,630.80   \n",
       "76                          184000,00          173,236.00   \n",
       "77                           99662,90           93,832.62   \n",
       "78                            9111,28            9,111.26   \n",
       "\n",
       "   Valor Restos a Pagar Inscritos (R$)  \\\n",
       "0                                 0,00   \n",
       "1                                 0,00   \n",
       "2                                 0,00   \n",
       "3                                 0,00   \n",
       "4                                 0,00   \n",
       "..                                 ...   \n",
       "74                                0,00   \n",
       "75                                0,00   \n",
       "76                                0,00   \n",
       "77                                0,00   \n",
       "78                                0,00   \n",
       "\n",
       "                                         Observação_x  \\\n",
       "0   FARMACIA - AQUISICAO DE MATERIAL HOSPITALAR (D...   \n",
       "1   FARMACIA - AQUISICAO DE MEDICAMENTOS (DEMANDA ...   \n",
       "2   SOLICITANTE UNIDADE DE PRODUTOS PARA SAUDE-MEA...   \n",
       "3   ATENDER DESPESA COM MATERIAL FARMACOLOGICO,CON...   \n",
       "4   AQUISICAO DE GENEROS ALIMENTICIOS * CONF 2020N...   \n",
       "..                                                ...   \n",
       "74  EMPENHO DESTINADO A COMPRA C/ DOACAO SIMULTANE...   \n",
       "75  IMPORTANCIA QUE SE EMPENHA DESTINADO A ATENDER...   \n",
       "76  EMPENHO DESTINADO A COMPRA C/ DOACAO SIMULTANE...   \n",
       "77  CPR-PE-2020/02/0056 - DESTINADO A COMPRA COM D...   \n",
       "78  23759.019805/2020-11 \\ IF \\ P 0009/2020 \\ CONT...   \n",
       "\n",
       "                                         Observação_y Modalidade de Licitação  \n",
       "0                                               ERRO.                  Pregão  \n",
       "1   DEDUCOES DE TRIBUTOS FEDERAIS DA NF.422014,EMI...                  Pregão  \n",
       "2   RETENCAO DE TRIBUTOS FEDERAIS, REF. NF 1841, D...                  Pregão  \n",
       "3   REC. NFE 5050 EMISSAO 30/07/2020 ATESTE 05/08/...   Dispensa de Licitação  \n",
       "4   AQUISICAO DE MATERIAL DE CONSUMO PARA A OM, CO...   Dispensa de Licitação  \n",
       "..                                                ...                     ...  \n",
       "74  AQUISICAO DE PRODUTORES DA AGRICULTURA FAMILIA...   Dispensa de Licitação  \n",
       "75  PGTO. A ASSOCIACAO AGAPE, PELA PRESTACAO DE SE...              Inexigível  \n",
       "76  AQUISICAO DE PRODUTORES DA AGRICULTURA FAMILIA...   Dispensa de Licitação  \n",
       "77  PAGAMENTO DA CPR/PE/2020/02/0056, EM FAVOR DA ...           Não se Aplica  \n",
       "78  PROCESSO: 019805/2020-11 | CONTRATO:  000/0000...                  Pregão  \n",
       "\n",
       "[79 rows x 17 columns]"
      ]
     },
     "execution_count": 41,
     "metadata": {},
     "output_type": "execute_result"
    }
   ],
   "source": [
    "empresas_encontradas_polit_covid19[[\"uf_x\", \"nome_urna\", \"cargo\", \"situcao_eleicao\", \"Data Emissão_x\",\"cod_empenho\", \"id_empenho\", \"Órgão_x\", \"Unidade Gestora_x\", \"Código Favorecido_x\", \"Favorecido_x\", \"Valor do Empenho Convertido pra R$\", \"valor_pago_em_real\", \"Valor Restos a Pagar Inscritos (R$)\", \"Observação_x\", \"Observação_y\",  \"Modalidade de Licitação\"]]"
   ]
  },
  {
   "cell_type": "code",
   "execution_count": 42,
   "metadata": {},
   "outputs": [],
   "source": [
    "empresas_encontradas_polit_covid19.to_csv('resultados/pagamentos_covid19_empresas_candidatos/pagamentos_feitos_de_empenhos_covid19_empresas_politicos_ate_15_out_2020.csv', index=False)"
   ]
  },
  {
   "cell_type": "code",
   "execution_count": null,
   "metadata": {},
   "outputs": [],
   "source": []
  },
  {
   "cell_type": "code",
   "execution_count": 43,
   "metadata": {},
   "outputs": [],
   "source": [
    "# Checa no arquivo original de pagamentos e também para pegar os totais de cada"
   ]
  },
  {
   "cell_type": "code",
   "execution_count": 44,
   "metadata": {},
   "outputs": [],
   "source": [
    "# AMAZONAS ENERGIA S.A"
   ]
  },
  {
   "cell_type": "code",
   "execution_count": 45,
   "metadata": {},
   "outputs": [],
   "source": [
    "procura = pagamentos_covid19[(pagamentos_covid19['cod_empenho'] == '160137000012020NE800064') &  \n",
    "                           (pagamentos_covid19['id_empenho'] == '177600344')]"
   ]
  },
  {
   "cell_type": "code",
   "execution_count": 46,
   "metadata": {},
   "outputs": [
    {
     "data": {
      "text/html": [
       "<div>\n",
       "<style scoped>\n",
       "    .dataframe tbody tr th:only-of-type {\n",
       "        vertical-align: middle;\n",
       "    }\n",
       "\n",
       "    .dataframe tbody tr th {\n",
       "        vertical-align: top;\n",
       "    }\n",
       "\n",
       "    .dataframe thead th {\n",
       "        text-align: right;\n",
       "    }\n",
       "</style>\n",
       "<table border=\"1\" class=\"dataframe\">\n",
       "  <thead>\n",
       "    <tr style=\"text-align: right;\">\n",
       "      <th></th>\n",
       "      <th>Código Favorecido_x</th>\n",
       "      <th>Favorecido_x</th>\n",
       "      <th>valor_pago_em_real</th>\n",
       "    </tr>\n",
       "  </thead>\n",
       "  <tbody>\n",
       "    <tr>\n",
       "      <th>5540</th>\n",
       "      <td>02341467000120</td>\n",
       "      <td>AMAZONAS ENERGIA S.A</td>\n",
       "      <td>106.34</td>\n",
       "    </tr>\n",
       "    <tr>\n",
       "      <th>5541</th>\n",
       "      <td>02341467000120</td>\n",
       "      <td>AMAZONAS ENERGIA S.A</td>\n",
       "      <td>678.16</td>\n",
       "    </tr>\n",
       "    <tr>\n",
       "      <th>5542</th>\n",
       "      <td>02341467000120</td>\n",
       "      <td>AMAZONAS ENERGIA S.A</td>\n",
       "      <td>1,715.50</td>\n",
       "    </tr>\n",
       "  </tbody>\n",
       "</table>\n",
       "</div>"
      ],
      "text/plain": [
       "     Código Favorecido_x          Favorecido_x  valor_pago_em_real\n",
       "5540      02341467000120  AMAZONAS ENERGIA S.A              106.34\n",
       "5541      02341467000120  AMAZONAS ENERGIA S.A              678.16\n",
       "5542      02341467000120  AMAZONAS ENERGIA S.A            1,715.50"
      ]
     },
     "execution_count": 46,
     "metadata": {},
     "output_type": "execute_result"
    }
   ],
   "source": [
    "procura[[\"Código Favorecido_x\", \"Favorecido_x\", \"valor_pago_em_real\"]]"
   ]
  },
  {
   "cell_type": "code",
   "execution_count": 47,
   "metadata": {},
   "outputs": [
    {
     "data": {
      "text/plain": [
       "2500.0"
      ]
     },
     "execution_count": 47,
     "metadata": {},
     "output_type": "execute_result"
    }
   ],
   "source": [
    "procura['valor_pago_em_real'].sum()"
   ]
  },
  {
   "cell_type": "code",
   "execution_count": null,
   "metadata": {},
   "outputs": [],
   "source": []
  },
  {
   "cell_type": "code",
   "execution_count": 48,
   "metadata": {},
   "outputs": [],
   "source": [
    "# PROVIDER PRODUTOS HOSPITALARES E SANEANTES LTDA"
   ]
  },
  {
   "cell_type": "code",
   "execution_count": 49,
   "metadata": {},
   "outputs": [],
   "source": [
    "procura = pagamentos_covid19[(pagamentos_covid19['cod_empenho'] == '155913264432020NE801608') &  \n",
    "                           (pagamentos_covid19['id_empenho'] == '183900342')]"
   ]
  },
  {
   "cell_type": "code",
   "execution_count": 50,
   "metadata": {},
   "outputs": [
    {
     "data": {
      "text/html": [
       "<div>\n",
       "<style scoped>\n",
       "    .dataframe tbody tr th:only-of-type {\n",
       "        vertical-align: middle;\n",
       "    }\n",
       "\n",
       "    .dataframe tbody tr th {\n",
       "        vertical-align: top;\n",
       "    }\n",
       "\n",
       "    .dataframe thead th {\n",
       "        text-align: right;\n",
       "    }\n",
       "</style>\n",
       "<table border=\"1\" class=\"dataframe\">\n",
       "  <thead>\n",
       "    <tr style=\"text-align: right;\">\n",
       "      <th></th>\n",
       "      <th>Código Favorecido_x</th>\n",
       "      <th>Favorecido_x</th>\n",
       "      <th>valor_pago_em_real</th>\n",
       "    </tr>\n",
       "  </thead>\n",
       "  <tbody>\n",
       "    <tr>\n",
       "      <th>6114</th>\n",
       "      <td>26164075000100</td>\n",
       "      <td>PROVIDER PRODUTOS HOSPITALARES E SANEANTES LTDA</td>\n",
       "      <td>3,060.00</td>\n",
       "    </tr>\n",
       "  </tbody>\n",
       "</table>\n",
       "</div>"
      ],
      "text/plain": [
       "     Código Favorecido_x                                     Favorecido_x  \\\n",
       "6114      26164075000100  PROVIDER PRODUTOS HOSPITALARES E SANEANTES LTDA   \n",
       "\n",
       "      valor_pago_em_real  \n",
       "6114            3,060.00  "
      ]
     },
     "execution_count": 50,
     "metadata": {},
     "output_type": "execute_result"
    }
   ],
   "source": [
    "procura[[\"Código Favorecido_x\", \"Favorecido_x\", \"valor_pago_em_real\"]]"
   ]
  },
  {
   "cell_type": "code",
   "execution_count": null,
   "metadata": {},
   "outputs": [],
   "source": []
  },
  {
   "cell_type": "code",
   "execution_count": 51,
   "metadata": {},
   "outputs": [],
   "source": [
    "# CRISTALIA PRODUTOS QUIMICOS FARMACEUTICOS LTDA "
   ]
  },
  {
   "cell_type": "code",
   "execution_count": 52,
   "metadata": {},
   "outputs": [],
   "source": [
    "procura = pagamentos_covid19[(pagamentos_covid19['cod_empenho'] == '155913264432020NE801615') &  \n",
    "                           (pagamentos_covid19['id_empenho'] == '174100368')]"
   ]
  },
  {
   "cell_type": "code",
   "execution_count": 53,
   "metadata": {},
   "outputs": [
    {
     "data": {
      "text/html": [
       "<div>\n",
       "<style scoped>\n",
       "    .dataframe tbody tr th:only-of-type {\n",
       "        vertical-align: middle;\n",
       "    }\n",
       "\n",
       "    .dataframe tbody tr th {\n",
       "        vertical-align: top;\n",
       "    }\n",
       "\n",
       "    .dataframe thead th {\n",
       "        text-align: right;\n",
       "    }\n",
       "</style>\n",
       "<table border=\"1\" class=\"dataframe\">\n",
       "  <thead>\n",
       "    <tr style=\"text-align: right;\">\n",
       "      <th></th>\n",
       "      <th>Código Favorecido_x</th>\n",
       "      <th>Favorecido_x</th>\n",
       "      <th>valor_pago_em_real</th>\n",
       "    </tr>\n",
       "  </thead>\n",
       "  <tbody>\n",
       "    <tr>\n",
       "      <th>6059</th>\n",
       "      <td>44734671000151</td>\n",
       "      <td>CRISTALIA PRODUTOS QUIMICOS FARMACEUTICOS LTDA</td>\n",
       "      <td>17.55</td>\n",
       "    </tr>\n",
       "    <tr>\n",
       "      <th>6060</th>\n",
       "      <td>44734671000151</td>\n",
       "      <td>CRISTALIA PRODUTOS QUIMICOS FARMACEUTICOS LTDA</td>\n",
       "      <td>679.95</td>\n",
       "    </tr>\n",
       "  </tbody>\n",
       "</table>\n",
       "</div>"
      ],
      "text/plain": [
       "     Código Favorecido_x                                    Favorecido_x  \\\n",
       "6059      44734671000151  CRISTALIA PRODUTOS QUIMICOS FARMACEUTICOS LTDA   \n",
       "6060      44734671000151  CRISTALIA PRODUTOS QUIMICOS FARMACEUTICOS LTDA   \n",
       "\n",
       "      valor_pago_em_real  \n",
       "6059               17.55  \n",
       "6060              679.95  "
      ]
     },
     "execution_count": 53,
     "metadata": {},
     "output_type": "execute_result"
    }
   ],
   "source": [
    "procura[[\"Código Favorecido_x\", \"Favorecido_x\", \"valor_pago_em_real\"]]"
   ]
  },
  {
   "cell_type": "code",
   "execution_count": 54,
   "metadata": {},
   "outputs": [
    {
     "data": {
      "text/plain": [
       "697.5"
      ]
     },
     "execution_count": 54,
     "metadata": {},
     "output_type": "execute_result"
    }
   ],
   "source": [
    "procura['valor_pago_em_real'].sum()"
   ]
  },
  {
   "cell_type": "code",
   "execution_count": null,
   "metadata": {},
   "outputs": [],
   "source": []
  },
  {
   "cell_type": "code",
   "execution_count": 55,
   "metadata": {},
   "outputs": [],
   "source": [
    "# UNIAO QUIMICA FARMACEUTICA NACIONAL S A "
   ]
  },
  {
   "cell_type": "code",
   "execution_count": 56,
   "metadata": {},
   "outputs": [],
   "source": [
    "procura = pagamentos_covid19[(pagamentos_covid19['cod_empenho'] == '155913264432020NE801652') &  \n",
    "                           (pagamentos_covid19['id_empenho'] == '174200300')]"
   ]
  },
  {
   "cell_type": "code",
   "execution_count": 57,
   "metadata": {},
   "outputs": [
    {
     "data": {
      "text/html": [
       "<div>\n",
       "<style scoped>\n",
       "    .dataframe tbody tr th:only-of-type {\n",
       "        vertical-align: middle;\n",
       "    }\n",
       "\n",
       "    .dataframe tbody tr th {\n",
       "        vertical-align: top;\n",
       "    }\n",
       "\n",
       "    .dataframe thead th {\n",
       "        text-align: right;\n",
       "    }\n",
       "</style>\n",
       "<table border=\"1\" class=\"dataframe\">\n",
       "  <thead>\n",
       "    <tr style=\"text-align: right;\">\n",
       "      <th></th>\n",
       "      <th>Código Favorecido_x</th>\n",
       "      <th>Favorecido_x</th>\n",
       "      <th>valor_pago_em_real</th>\n",
       "    </tr>\n",
       "  </thead>\n",
       "  <tbody>\n",
       "    <tr>\n",
       "      <th>6189</th>\n",
       "      <td>60665981000975</td>\n",
       "      <td>UNIAO QUIMICA FARMACEUTICA NACIONAL S A</td>\n",
       "      <td>990.00</td>\n",
       "    </tr>\n",
       "    <tr>\n",
       "      <th>6190</th>\n",
       "      <td>60665981000975</td>\n",
       "      <td>UNIAO QUIMICA FARMACEUTICA NACIONAL S A</td>\n",
       "      <td>44,010.00</td>\n",
       "    </tr>\n",
       "  </tbody>\n",
       "</table>\n",
       "</div>"
      ],
      "text/plain": [
       "     Código Favorecido_x                             Favorecido_x  \\\n",
       "6189      60665981000975  UNIAO QUIMICA FARMACEUTICA NACIONAL S A   \n",
       "6190      60665981000975  UNIAO QUIMICA FARMACEUTICA NACIONAL S A   \n",
       "\n",
       "      valor_pago_em_real  \n",
       "6189              990.00  \n",
       "6190           44,010.00  "
      ]
     },
     "execution_count": 57,
     "metadata": {},
     "output_type": "execute_result"
    }
   ],
   "source": [
    "procura[[\"Código Favorecido_x\", \"Favorecido_x\", \"valor_pago_em_real\"]]"
   ]
  },
  {
   "cell_type": "code",
   "execution_count": 58,
   "metadata": {},
   "outputs": [
    {
     "data": {
      "text/plain": [
       "45000.0"
      ]
     },
     "execution_count": 58,
     "metadata": {},
     "output_type": "execute_result"
    }
   ],
   "source": [
    "procura['valor_pago_em_real'].sum()"
   ]
  },
  {
   "cell_type": "code",
   "execution_count": null,
   "metadata": {},
   "outputs": [],
   "source": []
  },
  {
   "cell_type": "code",
   "execution_count": 59,
   "metadata": {},
   "outputs": [],
   "source": [
    "# FUNDO MUNICIPAL DE SAUDE DE RIO QUENTE"
   ]
  },
  {
   "cell_type": "code",
   "execution_count": 60,
   "metadata": {},
   "outputs": [],
   "source": [
    "procura = pagamentos_covid19[(pagamentos_covid19['cod_empenho'] == '257001000012020NE818845') &  \n",
    "                           (pagamentos_covid19['id_empenho'] == '180201534')]"
   ]
  },
  {
   "cell_type": "code",
   "execution_count": 61,
   "metadata": {},
   "outputs": [
    {
     "data": {
      "text/html": [
       "<div>\n",
       "<style scoped>\n",
       "    .dataframe tbody tr th:only-of-type {\n",
       "        vertical-align: middle;\n",
       "    }\n",
       "\n",
       "    .dataframe tbody tr th {\n",
       "        vertical-align: top;\n",
       "    }\n",
       "\n",
       "    .dataframe thead th {\n",
       "        text-align: right;\n",
       "    }\n",
       "</style>\n",
       "<table border=\"1\" class=\"dataframe\">\n",
       "  <thead>\n",
       "    <tr style=\"text-align: right;\">\n",
       "      <th></th>\n",
       "      <th>Data Emissão_x</th>\n",
       "      <th>Código Favorecido_x</th>\n",
       "      <th>Favorecido_x</th>\n",
       "      <th>valor_pago_em_real</th>\n",
       "    </tr>\n",
       "  </thead>\n",
       "  <tbody>\n",
       "    <tr>\n",
       "      <th>21185</th>\n",
       "      <td>04/05/2020</td>\n",
       "      <td>08278113000165</td>\n",
       "      <td>FUNDO MUNICIPAL DE SAUDE DE RIO QUENTE</td>\n",
       "      <td>430,000.00</td>\n",
       "    </tr>\n",
       "  </tbody>\n",
       "</table>\n",
       "</div>"
      ],
      "text/plain": [
       "      Data Emissão_x Código Favorecido_x  \\\n",
       "21185     04/05/2020      08278113000165   \n",
       "\n",
       "                                 Favorecido_x  valor_pago_em_real  \n",
       "21185  FUNDO MUNICIPAL DE SAUDE DE RIO QUENTE          430,000.00  "
      ]
     },
     "execution_count": 61,
     "metadata": {},
     "output_type": "execute_result"
    }
   ],
   "source": [
    "procura[[\"Data Emissão_x\", \"Código Favorecido_x\", \"Favorecido_x\", \"valor_pago_em_real\"]]"
   ]
  },
  {
   "cell_type": "code",
   "execution_count": null,
   "metadata": {},
   "outputs": [],
   "source": []
  },
  {
   "cell_type": "code",
   "execution_count": 62,
   "metadata": {},
   "outputs": [],
   "source": [
    "# COMPANHIA ESTADUAL DE DISTRIBUICAO DE ENERGIA ELETRICA"
   ]
  },
  {
   "cell_type": "code",
   "execution_count": 63,
   "metadata": {},
   "outputs": [],
   "source": [
    "procura = pagamentos_covid19[(pagamentos_covid19['cod_empenho'] == '160388000012020NE800142') &  \n",
    "                           (pagamentos_covid19['id_empenho'] == '174500711')]"
   ]
  },
  {
   "cell_type": "code",
   "execution_count": 64,
   "metadata": {},
   "outputs": [
    {
     "data": {
      "text/html": [
       "<div>\n",
       "<style scoped>\n",
       "    .dataframe tbody tr th:only-of-type {\n",
       "        vertical-align: middle;\n",
       "    }\n",
       "\n",
       "    .dataframe tbody tr th {\n",
       "        vertical-align: top;\n",
       "    }\n",
       "\n",
       "    .dataframe thead th {\n",
       "        text-align: right;\n",
       "    }\n",
       "</style>\n",
       "<table border=\"1\" class=\"dataframe\">\n",
       "  <thead>\n",
       "    <tr style=\"text-align: right;\">\n",
       "      <th></th>\n",
       "      <th>Código Favorecido_x</th>\n",
       "      <th>Favorecido_x</th>\n",
       "      <th>valor_pago_em_real</th>\n",
       "    </tr>\n",
       "  </thead>\n",
       "  <tbody>\n",
       "    <tr>\n",
       "      <th>53280</th>\n",
       "      <td>08467115000100</td>\n",
       "      <td>COMPANHIA ESTADUAL DE DISTRIBUICAO DE ENERGIA ...</td>\n",
       "      <td>17.00</td>\n",
       "    </tr>\n",
       "    <tr>\n",
       "      <th>53281</th>\n",
       "      <td>08467115000100</td>\n",
       "      <td>COMPANHIA ESTADUAL DE DISTRIBUICAO DE ENERGIA ...</td>\n",
       "      <td>273.69</td>\n",
       "    </tr>\n",
       "    <tr>\n",
       "      <th>53282</th>\n",
       "      <td>08467115000100</td>\n",
       "      <td>COMPANHIA ESTADUAL DE DISTRIBUICAO DE ENERGIA ...</td>\n",
       "      <td>10.37</td>\n",
       "    </tr>\n",
       "    <tr>\n",
       "      <th>53283</th>\n",
       "      <td>08467115000100</td>\n",
       "      <td>COMPANHIA ESTADUAL DE DISTRIBUICAO DE ENERGIA ...</td>\n",
       "      <td>166.90</td>\n",
       "    </tr>\n",
       "    <tr>\n",
       "      <th>53284</th>\n",
       "      <td>08467115000100</td>\n",
       "      <td>COMPANHIA ESTADUAL DE DISTRIBUICAO DE ENERGIA ...</td>\n",
       "      <td>6.01</td>\n",
       "    </tr>\n",
       "    <tr>\n",
       "      <th>53285</th>\n",
       "      <td>08467115000100</td>\n",
       "      <td>COMPANHIA ESTADUAL DE DISTRIBUICAO DE ENERGIA ...</td>\n",
       "      <td>96.80</td>\n",
       "    </tr>\n",
       "    <tr>\n",
       "      <th>53286</th>\n",
       "      <td>08467115000100</td>\n",
       "      <td>COMPANHIA ESTADUAL DE DISTRIBUICAO DE ENERGIA ...</td>\n",
       "      <td>1.44</td>\n",
       "    </tr>\n",
       "    <tr>\n",
       "      <th>53287</th>\n",
       "      <td>08467115000100</td>\n",
       "      <td>COMPANHIA ESTADUAL DE DISTRIBUICAO DE ENERGIA ...</td>\n",
       "      <td>23.19</td>\n",
       "    </tr>\n",
       "    <tr>\n",
       "      <th>53288</th>\n",
       "      <td>08467115000100</td>\n",
       "      <td>COMPANHIA ESTADUAL DE DISTRIBUICAO DE ENERGIA ...</td>\n",
       "      <td>6.20</td>\n",
       "    </tr>\n",
       "    <tr>\n",
       "      <th>53289</th>\n",
       "      <td>08467115000100</td>\n",
       "      <td>COMPANHIA ESTADUAL DE DISTRIBUICAO DE ENERGIA ...</td>\n",
       "      <td>100.10</td>\n",
       "    </tr>\n",
       "    <tr>\n",
       "      <th>53290</th>\n",
       "      <td>08467115000100</td>\n",
       "      <td>COMPANHIA ESTADUAL DE DISTRIBUICAO DE ENERGIA ...</td>\n",
       "      <td>74.80</td>\n",
       "    </tr>\n",
       "    <tr>\n",
       "      <th>53291</th>\n",
       "      <td>08467115000100</td>\n",
       "      <td>COMPANHIA ESTADUAL DE DISTRIBUICAO DE ENERGIA ...</td>\n",
       "      <td>1,204.27</td>\n",
       "    </tr>\n",
       "  </tbody>\n",
       "</table>\n",
       "</div>"
      ],
      "text/plain": [
       "      Código Favorecido_x                                       Favorecido_x  \\\n",
       "53280      08467115000100  COMPANHIA ESTADUAL DE DISTRIBUICAO DE ENERGIA ...   \n",
       "53281      08467115000100  COMPANHIA ESTADUAL DE DISTRIBUICAO DE ENERGIA ...   \n",
       "53282      08467115000100  COMPANHIA ESTADUAL DE DISTRIBUICAO DE ENERGIA ...   \n",
       "53283      08467115000100  COMPANHIA ESTADUAL DE DISTRIBUICAO DE ENERGIA ...   \n",
       "53284      08467115000100  COMPANHIA ESTADUAL DE DISTRIBUICAO DE ENERGIA ...   \n",
       "53285      08467115000100  COMPANHIA ESTADUAL DE DISTRIBUICAO DE ENERGIA ...   \n",
       "53286      08467115000100  COMPANHIA ESTADUAL DE DISTRIBUICAO DE ENERGIA ...   \n",
       "53287      08467115000100  COMPANHIA ESTADUAL DE DISTRIBUICAO DE ENERGIA ...   \n",
       "53288      08467115000100  COMPANHIA ESTADUAL DE DISTRIBUICAO DE ENERGIA ...   \n",
       "53289      08467115000100  COMPANHIA ESTADUAL DE DISTRIBUICAO DE ENERGIA ...   \n",
       "53290      08467115000100  COMPANHIA ESTADUAL DE DISTRIBUICAO DE ENERGIA ...   \n",
       "53291      08467115000100  COMPANHIA ESTADUAL DE DISTRIBUICAO DE ENERGIA ...   \n",
       "\n",
       "       valor_pago_em_real  \n",
       "53280               17.00  \n",
       "53281              273.69  \n",
       "53282               10.37  \n",
       "53283              166.90  \n",
       "53284                6.01  \n",
       "53285               96.80  \n",
       "53286                1.44  \n",
       "53287               23.19  \n",
       "53288                6.20  \n",
       "53289              100.10  \n",
       "53290               74.80  \n",
       "53291            1,204.27  "
      ]
     },
     "execution_count": 64,
     "metadata": {},
     "output_type": "execute_result"
    }
   ],
   "source": [
    "procura[[\"Código Favorecido_x\", \"Favorecido_x\", \"valor_pago_em_real\"]]"
   ]
  },
  {
   "cell_type": "code",
   "execution_count": 65,
   "metadata": {},
   "outputs": [
    {
     "data": {
      "text/plain": [
       "1980.77"
      ]
     },
     "execution_count": 65,
     "metadata": {},
     "output_type": "execute_result"
    }
   ],
   "source": [
    "procura['valor_pago_em_real'].sum()"
   ]
  },
  {
   "cell_type": "code",
   "execution_count": null,
   "metadata": {},
   "outputs": [],
   "source": []
  },
  {
   "cell_type": "code",
   "execution_count": 66,
   "metadata": {},
   "outputs": [],
   "source": [
    "# VWX CONSTRUCOES E SERVICOS EIRELI"
   ]
  },
  {
   "cell_type": "code",
   "execution_count": 67,
   "metadata": {},
   "outputs": [],
   "source": [
    "procura = pagamentos_covid19[(pagamentos_covid19['cod_empenho'] == '194048192082020NE800066') &  \n",
    "                           (pagamentos_covid19['id_empenho'] == '179700716')]"
   ]
  },
  {
   "cell_type": "code",
   "execution_count": 68,
   "metadata": {},
   "outputs": [
    {
     "data": {
      "text/html": [
       "<div>\n",
       "<style scoped>\n",
       "    .dataframe tbody tr th:only-of-type {\n",
       "        vertical-align: middle;\n",
       "    }\n",
       "\n",
       "    .dataframe tbody tr th {\n",
       "        vertical-align: top;\n",
       "    }\n",
       "\n",
       "    .dataframe thead th {\n",
       "        text-align: right;\n",
       "    }\n",
       "</style>\n",
       "<table border=\"1\" class=\"dataframe\">\n",
       "  <thead>\n",
       "    <tr style=\"text-align: right;\">\n",
       "      <th></th>\n",
       "      <th>Código Favorecido_x</th>\n",
       "      <th>Favorecido_x</th>\n",
       "      <th>valor_pago_em_real</th>\n",
       "    </tr>\n",
       "  </thead>\n",
       "  <tbody>\n",
       "    <tr>\n",
       "      <th>53583</th>\n",
       "      <td>14476150000180</td>\n",
       "      <td>VWX CONSTRUCOES E SERVICOS EIRELI</td>\n",
       "      <td>7,565.68</td>\n",
       "    </tr>\n",
       "    <tr>\n",
       "      <th>53584</th>\n",
       "      <td>14476150000180</td>\n",
       "      <td>VWX CONSTRUCOES E SERVICOS EIRELI</td>\n",
       "      <td>8,489.58</td>\n",
       "    </tr>\n",
       "    <tr>\n",
       "      <th>53585</th>\n",
       "      <td>14476150000180</td>\n",
       "      <td>VWX CONSTRUCOES E SERVICOS EIRELI</td>\n",
       "      <td>2,888.72</td>\n",
       "    </tr>\n",
       "    <tr>\n",
       "      <th>53586</th>\n",
       "      <td>14476150000180</td>\n",
       "      <td>VWX CONSTRUCOES E SERVICOS EIRELI</td>\n",
       "      <td>7,565.68</td>\n",
       "    </tr>\n",
       "    <tr>\n",
       "      <th>53587</th>\n",
       "      <td>14476150000180</td>\n",
       "      <td>VWX CONSTRUCOES E SERVICOS EIRELI</td>\n",
       "      <td>8,345.15</td>\n",
       "    </tr>\n",
       "    <tr>\n",
       "      <th>53588</th>\n",
       "      <td>14476150000180</td>\n",
       "      <td>VWX CONSTRUCOES E SERVICOS EIRELI</td>\n",
       "      <td>3,033.15</td>\n",
       "    </tr>\n",
       "  </tbody>\n",
       "</table>\n",
       "</div>"
      ],
      "text/plain": [
       "      Código Favorecido_x                       Favorecido_x  \\\n",
       "53583      14476150000180  VWX CONSTRUCOES E SERVICOS EIRELI   \n",
       "53584      14476150000180  VWX CONSTRUCOES E SERVICOS EIRELI   \n",
       "53585      14476150000180  VWX CONSTRUCOES E SERVICOS EIRELI   \n",
       "53586      14476150000180  VWX CONSTRUCOES E SERVICOS EIRELI   \n",
       "53587      14476150000180  VWX CONSTRUCOES E SERVICOS EIRELI   \n",
       "53588      14476150000180  VWX CONSTRUCOES E SERVICOS EIRELI   \n",
       "\n",
       "       valor_pago_em_real  \n",
       "53583            7,565.68  \n",
       "53584            8,489.58  \n",
       "53585            2,888.72  \n",
       "53586            7,565.68  \n",
       "53587            8,345.15  \n",
       "53588            3,033.15  "
      ]
     },
     "execution_count": 68,
     "metadata": {},
     "output_type": "execute_result"
    }
   ],
   "source": [
    "procura[[\"Código Favorecido_x\", \"Favorecido_x\", \"valor_pago_em_real\"]]"
   ]
  },
  {
   "cell_type": "code",
   "execution_count": 69,
   "metadata": {},
   "outputs": [
    {
     "data": {
      "text/plain": [
       "37887.96"
      ]
     },
     "execution_count": 69,
     "metadata": {},
     "output_type": "execute_result"
    }
   ],
   "source": [
    "procura['valor_pago_em_real'].sum()"
   ]
  },
  {
   "cell_type": "code",
   "execution_count": null,
   "metadata": {},
   "outputs": [],
   "source": []
  },
  {
   "cell_type": "code",
   "execution_count": 70,
   "metadata": {},
   "outputs": [],
   "source": [
    "# RIBEIRO E DINIZ COMERCIO DE PECAS E SERVICOS AUTOMOTIVO"
   ]
  },
  {
   "cell_type": "code",
   "execution_count": 71,
   "metadata": {},
   "outputs": [],
   "source": [
    "procura = pagamentos_covid19[(pagamentos_covid19['cod_empenho'] == '160055000012020NE800042') &  \n",
    "                           (pagamentos_covid19['id_empenho'] == '144306058')]"
   ]
  },
  {
   "cell_type": "code",
   "execution_count": 72,
   "metadata": {},
   "outputs": [
    {
     "data": {
      "text/html": [
       "<div>\n",
       "<style scoped>\n",
       "    .dataframe tbody tr th:only-of-type {\n",
       "        vertical-align: middle;\n",
       "    }\n",
       "\n",
       "    .dataframe tbody tr th {\n",
       "        vertical-align: top;\n",
       "    }\n",
       "\n",
       "    .dataframe thead th {\n",
       "        text-align: right;\n",
       "    }\n",
       "</style>\n",
       "<table border=\"1\" class=\"dataframe\">\n",
       "  <thead>\n",
       "    <tr style=\"text-align: right;\">\n",
       "      <th></th>\n",
       "      <th>Data Emissão_x</th>\n",
       "      <th>Código Favorecido_x</th>\n",
       "      <th>Favorecido_x</th>\n",
       "      <th>valor_pago_em_real</th>\n",
       "    </tr>\n",
       "  </thead>\n",
       "  <tbody>\n",
       "    <tr>\n",
       "      <th>74684</th>\n",
       "      <td>13/03/2020</td>\n",
       "      <td>08990041000184</td>\n",
       "      <td>RIBEIRO E DINIZ COMERCIO DE PECAS E SERVICOS A...</td>\n",
       "      <td>499.29</td>\n",
       "    </tr>\n",
       "    <tr>\n",
       "      <th>74685</th>\n",
       "      <td>13/03/2020</td>\n",
       "      <td>08990041000184</td>\n",
       "      <td>RIBEIRO E DINIZ COMERCIO DE PECAS E SERVICOS A...</td>\n",
       "      <td>9,486.44</td>\n",
       "    </tr>\n",
       "  </tbody>\n",
       "</table>\n",
       "</div>"
      ],
      "text/plain": [
       "      Data Emissão_x Código Favorecido_x  \\\n",
       "74684     13/03/2020      08990041000184   \n",
       "74685     13/03/2020      08990041000184   \n",
       "\n",
       "                                            Favorecido_x  valor_pago_em_real  \n",
       "74684  RIBEIRO E DINIZ COMERCIO DE PECAS E SERVICOS A...              499.29  \n",
       "74685  RIBEIRO E DINIZ COMERCIO DE PECAS E SERVICOS A...            9,486.44  "
      ]
     },
     "execution_count": 72,
     "metadata": {},
     "output_type": "execute_result"
    }
   ],
   "source": [
    "procura[[\"Data Emissão_x\", \"Código Favorecido_x\", \"Favorecido_x\", \"valor_pago_em_real\"]]"
   ]
  },
  {
   "cell_type": "code",
   "execution_count": 73,
   "metadata": {},
   "outputs": [
    {
     "data": {
      "text/plain": [
       "9985.730000000001"
      ]
     },
     "execution_count": 73,
     "metadata": {},
     "output_type": "execute_result"
    }
   ],
   "source": [
    "procura['valor_pago_em_real'].sum()"
   ]
  },
  {
   "cell_type": "code",
   "execution_count": null,
   "metadata": {},
   "outputs": [],
   "source": []
  },
  {
   "cell_type": "code",
   "execution_count": 74,
   "metadata": {},
   "outputs": [
    {
     "data": {
      "text/html": [
       "<div>\n",
       "<style scoped>\n",
       "    .dataframe tbody tr th:only-of-type {\n",
       "        vertical-align: middle;\n",
       "    }\n",
       "\n",
       "    .dataframe tbody tr th {\n",
       "        vertical-align: top;\n",
       "    }\n",
       "\n",
       "    .dataframe thead th {\n",
       "        text-align: right;\n",
       "    }\n",
       "</style>\n",
       "<table border=\"1\" class=\"dataframe\">\n",
       "  <thead>\n",
       "    <tr style=\"text-align: right;\">\n",
       "      <th></th>\n",
       "      <th>Código Favorecido_x</th>\n",
       "      <th>Favorecido_x</th>\n",
       "      <th>valor_pago_em_real</th>\n",
       "    </tr>\n",
       "  </thead>\n",
       "  <tbody>\n",
       "    <tr>\n",
       "      <th>47578</th>\n",
       "      <td>05929516000139</td>\n",
       "      <td>SIQUEIRA TUR TRANSPORTE E TURISMO LTDA</td>\n",
       "      <td>2,400.00</td>\n",
       "    </tr>\n",
       "  </tbody>\n",
       "</table>\n",
       "</div>"
      ],
      "text/plain": [
       "      Código Favorecido_x                            Favorecido_x  \\\n",
       "47578      05929516000139  SIQUEIRA TUR TRANSPORTE E TURISMO LTDA   \n",
       "\n",
       "       valor_pago_em_real  \n",
       "47578            2,400.00  "
      ]
     },
     "execution_count": 74,
     "metadata": {},
     "output_type": "execute_result"
    }
   ],
   "source": [
    "# SIQUEIRA TUR TRANSPORTE E TURISMO LTDA\n",
    "procura = pagamentos_covid19[(pagamentos_covid19['cod_empenho'] == '194045192082020NE800087') &  \n",
    "                           (pagamentos_covid19['id_empenho'] == '181302380')]\n",
    "procura[[\"Código Favorecido_x\", \"Favorecido_x\", \"valor_pago_em_real\"]]"
   ]
  },
  {
   "cell_type": "code",
   "execution_count": 75,
   "metadata": {},
   "outputs": [
    {
     "data": {
      "text/plain": [
       "2400.0"
      ]
     },
     "execution_count": 75,
     "metadata": {},
     "output_type": "execute_result"
    }
   ],
   "source": [
    "procura['valor_pago_em_real'].sum()"
   ]
  },
  {
   "cell_type": "code",
   "execution_count": null,
   "metadata": {},
   "outputs": [],
   "source": []
  },
  {
   "cell_type": "code",
   "execution_count": 76,
   "metadata": {},
   "outputs": [],
   "source": [
    "# JHONATHAN MACIEL DE SOUZA EIRELI"
   ]
  },
  {
   "cell_type": "code",
   "execution_count": 77,
   "metadata": {},
   "outputs": [],
   "source": [
    "procura = pagamentos_covid19[(pagamentos_covid19['cod_empenho'] == '160005000012020NE800119') &  \n",
    "                           (pagamentos_covid19['id_empenho'] == '176401476')]"
   ]
  },
  {
   "cell_type": "code",
   "execution_count": 78,
   "metadata": {},
   "outputs": [
    {
     "data": {
      "text/html": [
       "<div>\n",
       "<style scoped>\n",
       "    .dataframe tbody tr th:only-of-type {\n",
       "        vertical-align: middle;\n",
       "    }\n",
       "\n",
       "    .dataframe tbody tr th {\n",
       "        vertical-align: top;\n",
       "    }\n",
       "\n",
       "    .dataframe thead th {\n",
       "        text-align: right;\n",
       "    }\n",
       "</style>\n",
       "<table border=\"1\" class=\"dataframe\">\n",
       "  <thead>\n",
       "    <tr style=\"text-align: right;\">\n",
       "      <th></th>\n",
       "      <th>Código Favorecido_x</th>\n",
       "      <th>Favorecido_x</th>\n",
       "      <th>valor_pago_em_real</th>\n",
       "    </tr>\n",
       "  </thead>\n",
       "  <tbody>\n",
       "    <tr>\n",
       "      <th>21958</th>\n",
       "      <td>31783115000123</td>\n",
       "      <td>JHONATHAN MACIEL DE SOUZA EIRELI</td>\n",
       "      <td>2,814.00</td>\n",
       "    </tr>\n",
       "    <tr>\n",
       "      <th>21959</th>\n",
       "      <td>31783115000123</td>\n",
       "      <td>JHONATHAN MACIEL DE SOUZA EIRELI</td>\n",
       "      <td>2,814.00</td>\n",
       "    </tr>\n",
       "    <tr>\n",
       "      <th>21960</th>\n",
       "      <td>31783115000123</td>\n",
       "      <td>JHONATHAN MACIEL DE SOUZA EIRELI</td>\n",
       "      <td>-2,814.00</td>\n",
       "    </tr>\n",
       "  </tbody>\n",
       "</table>\n",
       "</div>"
      ],
      "text/plain": [
       "      Código Favorecido_x                      Favorecido_x  \\\n",
       "21958      31783115000123  JHONATHAN MACIEL DE SOUZA EIRELI   \n",
       "21959      31783115000123  JHONATHAN MACIEL DE SOUZA EIRELI   \n",
       "21960      31783115000123  JHONATHAN MACIEL DE SOUZA EIRELI   \n",
       "\n",
       "       valor_pago_em_real  \n",
       "21958            2,814.00  \n",
       "21959            2,814.00  \n",
       "21960           -2,814.00  "
      ]
     },
     "execution_count": 78,
     "metadata": {},
     "output_type": "execute_result"
    }
   ],
   "source": [
    "procura[[\"Código Favorecido_x\", \"Favorecido_x\", \"valor_pago_em_real\"]]"
   ]
  },
  {
   "cell_type": "code",
   "execution_count": 79,
   "metadata": {},
   "outputs": [
    {
     "data": {
      "text/plain": [
       "2814.0"
      ]
     },
     "execution_count": 79,
     "metadata": {},
     "output_type": "execute_result"
    }
   ],
   "source": [
    "procura['valor_pago_em_real'].sum()"
   ]
  },
  {
   "cell_type": "code",
   "execution_count": null,
   "metadata": {},
   "outputs": [],
   "source": []
  },
  {
   "cell_type": "code",
   "execution_count": null,
   "metadata": {},
   "outputs": [],
   "source": []
  },
  {
   "cell_type": "code",
   "execution_count": 80,
   "metadata": {},
   "outputs": [],
   "source": [
    "# E também depois no site da Receita: https://servicos.receita.fazenda.gov.br/Servicos/cnpjreva/Cnpjreva_Solicitacao.asp"
   ]
  },
  {
   "cell_type": "code",
   "execution_count": null,
   "metadata": {},
   "outputs": [],
   "source": []
  },
  {
   "cell_type": "code",
   "execution_count": 81,
   "metadata": {},
   "outputs": [],
   "source": [
    "procura = pagamentos_covid19[(pagamentos_covid19['cod_empenho'] == '155913264432020NE801608') &  \n",
    "                           (pagamentos_covid19['id_empenho'] == '183900342')]"
   ]
  },
  {
   "cell_type": "code",
   "execution_count": 82,
   "metadata": {},
   "outputs": [
    {
     "data": {
      "text/html": [
       "<div>\n",
       "<style scoped>\n",
       "    .dataframe tbody tr th:only-of-type {\n",
       "        vertical-align: middle;\n",
       "    }\n",
       "\n",
       "    .dataframe tbody tr th {\n",
       "        vertical-align: top;\n",
       "    }\n",
       "\n",
       "    .dataframe thead th {\n",
       "        text-align: right;\n",
       "    }\n",
       "</style>\n",
       "<table border=\"1\" class=\"dataframe\">\n",
       "  <thead>\n",
       "    <tr style=\"text-align: right;\">\n",
       "      <th></th>\n",
       "      <th>Código Favorecido_x</th>\n",
       "      <th>Favorecido_x</th>\n",
       "      <th>valor_pago_em_real</th>\n",
       "    </tr>\n",
       "  </thead>\n",
       "  <tbody>\n",
       "    <tr>\n",
       "      <th>6114</th>\n",
       "      <td>26164075000100</td>\n",
       "      <td>PROVIDER PRODUTOS HOSPITALARES E SANEANTES LTDA</td>\n",
       "      <td>3,060.00</td>\n",
       "    </tr>\n",
       "  </tbody>\n",
       "</table>\n",
       "</div>"
      ],
      "text/plain": [
       "     Código Favorecido_x                                     Favorecido_x  \\\n",
       "6114      26164075000100  PROVIDER PRODUTOS HOSPITALARES E SANEANTES LTDA   \n",
       "\n",
       "      valor_pago_em_real  \n",
       "6114            3,060.00  "
      ]
     },
     "execution_count": 82,
     "metadata": {},
     "output_type": "execute_result"
    }
   ],
   "source": [
    "procura[[\"Código Favorecido_x\", \"Favorecido_x\", \"valor_pago_em_real\"]]"
   ]
  },
  {
   "cell_type": "code",
   "execution_count": 83,
   "metadata": {},
   "outputs": [
    {
     "data": {
      "text/plain": [
       "3060.0"
      ]
     },
     "execution_count": 83,
     "metadata": {},
     "output_type": "execute_result"
    }
   ],
   "source": [
    "procura['valor_pago_em_real'].sum()"
   ]
  },
  {
   "cell_type": "code",
   "execution_count": null,
   "metadata": {},
   "outputs": [],
   "source": []
  },
  {
   "cell_type": "code",
   "execution_count": null,
   "metadata": {},
   "outputs": [],
   "source": []
  }
 ],
 "metadata": {
  "kernelspec": {
   "display_name": "Python 3",
   "language": "python",
   "name": "python3"
  },
  "language_info": {
   "codemirror_mode": {
    "name": "ipython",
    "version": 3
   },
   "file_extension": ".py",
   "mimetype": "text/x-python",
   "name": "python",
   "nbconvert_exporter": "python",
   "pygments_lexer": "ipython3",
   "version": "3.8.5"
  }
 },
 "nbformat": 4,
 "nbformat_minor": 4
}
