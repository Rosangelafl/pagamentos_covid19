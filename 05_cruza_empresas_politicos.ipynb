{
 "cells": [
  {
   "cell_type": "code",
   "execution_count": 1,
   "metadata": {},
   "outputs": [],
   "source": [
    "# -*- coding: utf-8\n",
    "# Reinaldo Chaves (@paidatocandeira)\n",
    "# Acessa a base de sócios e administradores da Receita Federal\n",
    "# Cruza com os dados de pagamentos da covid-19\n",
    "# Separa empresas do Brasil que têm sócios os candidatos das eleições de 2018\n",
    "# Verifica se um destes é sócio das empresas com pagamentos na covid-19\n",
    "#"
   ]
  },
  {
   "cell_type": "code",
   "execution_count": null,
   "metadata": {},
   "outputs": [],
   "source": []
  },
  {
   "cell_type": "code",
   "execution_count": 2,
   "metadata": {},
   "outputs": [],
   "source": [
    "import pandas as pd\n",
    "from datetime import datetime\n",
    "import unidecode"
   ]
  },
  {
   "cell_type": "code",
   "execution_count": null,
   "metadata": {},
   "outputs": [],
   "source": []
  },
  {
   "cell_type": "code",
   "execution_count": 3,
   "metadata": {},
   "outputs": [],
   "source": [
    "# Função para retirar acentuação \n",
    "def f(str):\n",
    "    return (unidecode.unidecode(str))"
   ]
  },
  {
   "cell_type": "code",
   "execution_count": null,
   "metadata": {},
   "outputs": [],
   "source": []
  },
  {
   "cell_type": "code",
   "execution_count": 4,
   "metadata": {},
   "outputs": [],
   "source": [
    "pd.options.display.float_format = '{:,.2f}'.format"
   ]
  },
  {
   "cell_type": "code",
   "execution_count": null,
   "metadata": {},
   "outputs": [],
   "source": []
  },
  {
   "cell_type": "code",
   "execution_count": 5,
   "metadata": {},
   "outputs": [],
   "source": [
    "kwargs = {'sep': ',', 'dtype': str, 'encoding': 'utf-8'}\n",
    "pagamentos_covid19 = pd.read_csv(\"resultados/pagamentos_covid19/pagamentos_feitos_de_empenhos_covid19_ate_03_junho_2020.csv\", **kwargs)"
   ]
  },
  {
   "cell_type": "code",
   "execution_count": 6,
   "metadata": {},
   "outputs": [],
   "source": [
    "pagamentos_covid19.rename(columns = {'Id Empenho':'id_empenho'},inplace = True)\n",
    "pagamentos_covid19.rename(columns = {'Código Empenho':'cod_empenho'},inplace = True)\n",
    "\n",
    "pagamentos_covid19['Valor Pago (R$)'] = pagamentos_covid19['Valor Pago (R$)'].str.replace(',','.')\n",
    "pagamentos_covid19['Valor Pago (R$)'] = pagamentos_covid19['Valor Pago (R$)'].astype('float64') \n",
    "pagamentos_covid19.rename(columns = {'Valor Pago (R$)':'valor_pago_em_real'},inplace = True)"
   ]
  },
  {
   "cell_type": "code",
   "execution_count": null,
   "metadata": {},
   "outputs": [],
   "source": []
  },
  {
   "cell_type": "code",
   "execution_count": null,
   "metadata": {},
   "outputs": [],
   "source": []
  },
  {
   "cell_type": "code",
   "execution_count": 7,
   "metadata": {},
   "outputs": [],
   "source": [
    "# Procura o Código Favorecido na Receita Federal"
   ]
  },
  {
   "cell_type": "code",
   "execution_count": 8,
   "metadata": {},
   "outputs": [],
   "source": [
    "TextFileReader = pd.read_csv('../csv_dados_qsa_cnpj_28-05-20/cnpj_dados_cadastrais_pj.csv',\\\n",
    "                             chunksize=1000,\\\n",
    "                             sep='#',\\\n",
    "                             converters={'cnpj': lambda x: str(x)},\\\n",
    "                             usecols=['cnpj',\n",
    "                                      'razao_social',\n",
    "                                      'nome_fantasia',\n",
    "                                      'situacao_cadastral',\n",
    "                                      'codigo_natureza_juridica',\n",
    "                                      'data_inicio_atividade',\n",
    "                                      'cnae_fiscal',\n",
    "                                      'uf', \n",
    "                                      'municipio'])"
   ]
  },
  {
   "cell_type": "code",
   "execution_count": 9,
   "metadata": {},
   "outputs": [
    {
     "name": "stdout",
     "output_type": "stream",
     "text": [
      "A extração começou às:  2020-06-05 12:55:01.319663\n",
      "A extração terminou às:  2020-06-05 13:03:20.423352\n"
     ]
    }
   ],
   "source": [
    "\n",
    "\n",
    "now = datetime.now()\n",
    "print(\"A extração começou às: \", now)\n",
    "\n",
    "conta = 0\n",
    "for df in TextFileReader:\n",
    "\n",
    "    # Caso deseja-se pegar o CNPJ raiz poderia criar uma nova coluna\n",
    "    #df['cnpj_raiz'] = df.cnpj.str[:8]\n",
    "    \n",
    "    # Faz merge dos dataframes pelo número do CNPJ\n",
    "    # Se por algum motivo no dataframe original existirem CNPJ duplicados faz um drop\n",
    "    empresas_encontradas = pd.merge(pagamentos_covid19.drop_duplicates('Código Favorecido_x'), \\\n",
    "                                 df, \\\n",
    "                                 left_on= 'Código Favorecido_x', \\\n",
    "                                 right_on='cnpj')\n",
    "    \n",
    "    if empresas_encontradas.empty is False:\n",
    "        if conta == 0:\n",
    "            df_procura1 = empresas_encontradas\n",
    "        else:\n",
    "            df_procura1 = df_procura1.append(empresas_encontradas)\n",
    "    \n",
    "        conta = conta + 1\n",
    "        \n",
    "now = datetime.now()\n",
    "print(\"A extração terminou às: \", now)\n",
    "\n"
   ]
  },
  {
   "cell_type": "code",
   "execution_count": 10,
   "metadata": {},
   "outputs": [
    {
     "data": {
      "text/plain": [
       "(2462, 112)"
      ]
     },
     "execution_count": 10,
     "metadata": {},
     "output_type": "execute_result"
    }
   ],
   "source": [
    "df_procura1.shape"
   ]
  },
  {
   "cell_type": "code",
   "execution_count": 11,
   "metadata": {},
   "outputs": [],
   "source": [
    "# Onde estão a maioria das empresas"
   ]
  },
  {
   "cell_type": "code",
   "execution_count": 12,
   "metadata": {},
   "outputs": [
    {
     "data": {
      "text/html": [
       "<div>\n",
       "<style scoped>\n",
       "    .dataframe tbody tr th:only-of-type {\n",
       "        vertical-align: middle;\n",
       "    }\n",
       "\n",
       "    .dataframe tbody tr th {\n",
       "        vertical-align: top;\n",
       "    }\n",
       "\n",
       "    .dataframe thead th {\n",
       "        text-align: right;\n",
       "    }\n",
       "</style>\n",
       "<table border=\"1\" class=\"dataframe\">\n",
       "  <thead>\n",
       "    <tr style=\"text-align: right;\">\n",
       "      <th></th>\n",
       "      <th>municipio</th>\n",
       "      <th>id_empenho</th>\n",
       "    </tr>\n",
       "  </thead>\n",
       "  <tbody>\n",
       "    <tr>\n",
       "      <th>808</th>\n",
       "      <td>RIO DE JANEIRO</td>\n",
       "      <td>112</td>\n",
       "    </tr>\n",
       "    <tr>\n",
       "      <th>148</th>\n",
       "      <td>BRASILIA</td>\n",
       "      <td>107</td>\n",
       "    </tr>\n",
       "    <tr>\n",
       "      <th>924</th>\n",
       "      <td>SAO PAULO</td>\n",
       "      <td>90</td>\n",
       "    </tr>\n",
       "    <tr>\n",
       "      <th>763</th>\n",
       "      <td>PORTO ALEGRE</td>\n",
       "      <td>66</td>\n",
       "    </tr>\n",
       "    <tr>\n",
       "      <th>571</th>\n",
       "      <td>MANAUS</td>\n",
       "      <td>46</td>\n",
       "    </tr>\n",
       "    <tr>\n",
       "      <th>...</th>\n",
       "      <td>...</td>\n",
       "      <td>...</td>\n",
       "    </tr>\n",
       "    <tr>\n",
       "      <th>417</th>\n",
       "      <td>ICARA</td>\n",
       "      <td>1</td>\n",
       "    </tr>\n",
       "    <tr>\n",
       "      <th>418</th>\n",
       "      <td>ICATU</td>\n",
       "      <td>1</td>\n",
       "    </tr>\n",
       "    <tr>\n",
       "      <th>419</th>\n",
       "      <td>ICO</td>\n",
       "      <td>1</td>\n",
       "    </tr>\n",
       "    <tr>\n",
       "      <th>420</th>\n",
       "      <td>IGACI</td>\n",
       "      <td>1</td>\n",
       "    </tr>\n",
       "    <tr>\n",
       "      <th>1071</th>\n",
       "      <td>ZE DOCA</td>\n",
       "      <td>1</td>\n",
       "    </tr>\n",
       "  </tbody>\n",
       "</table>\n",
       "<p>1072 rows × 2 columns</p>\n",
       "</div>"
      ],
      "text/plain": [
       "           municipio  id_empenho\n",
       "808   RIO DE JANEIRO         112\n",
       "148         BRASILIA         107\n",
       "924        SAO PAULO          90\n",
       "763     PORTO ALEGRE          66\n",
       "571           MANAUS          46\n",
       "...              ...         ...\n",
       "417            ICARA           1\n",
       "418            ICATU           1\n",
       "419              ICO           1\n",
       "420            IGACI           1\n",
       "1071         ZE DOCA           1\n",
       "\n",
       "[1072 rows x 2 columns]"
      ]
     },
     "execution_count": 12,
     "metadata": {},
     "output_type": "execute_result"
    }
   ],
   "source": [
    "conta = df_procura1.groupby(\"municipio\").id_empenho.count().reset_index()\n",
    "conta.sort_values('id_empenho', ascending=False)"
   ]
  },
  {
   "cell_type": "code",
   "execution_count": 13,
   "metadata": {},
   "outputs": [],
   "source": [
    "df_procura1.to_csv('resultados/pagamentos_covid19_com_empresas/pagamentos_feitos_de_empenhos_covid19_com_empresas_ate_03_jun_2020.csv', index=False)"
   ]
  },
  {
   "cell_type": "code",
   "execution_count": null,
   "metadata": {},
   "outputs": [],
   "source": []
  },
  {
   "cell_type": "code",
   "execution_count": 14,
   "metadata": {},
   "outputs": [],
   "source": [
    "# Adiciona socios"
   ]
  },
  {
   "cell_type": "code",
   "execution_count": 15,
   "metadata": {},
   "outputs": [],
   "source": [
    "# Porém com isso a soma com os valores não deve ser mais feita, porque cada linha é repetida sempre que mais de um sócio é encontrado"
   ]
  },
  {
   "cell_type": "code",
   "execution_count": 16,
   "metadata": {},
   "outputs": [],
   "source": [
    "TextFileReader = pd.read_csv('../csv_dados_qsa_cnpj_28-05-20/cnpj_dados_socios_pj.csv',\\\n",
    "                             chunksize=1000,\\\n",
    "                             sep='#',\\\n",
    "                             converters={'cnpj': lambda x: str(x)},\\\n",
    "                             usecols=['cnpj',\n",
    "                                      'identificador_socio',\n",
    "                                      'nome_socio',\n",
    "                                      'cnpj_cpf_socio',\n",
    "                                      'cod_qualificacao_socio',\n",
    "                                      'data_entrada_sociedade',\n",
    "                                      'cpf_representante_legal',\n",
    "                                      'nome_representante'])"
   ]
  },
  {
   "cell_type": "code",
   "execution_count": 17,
   "metadata": {},
   "outputs": [
    {
     "name": "stdout",
     "output_type": "stream",
     "text": [
      "A extração começou às:  2020-06-05 13:03:56.713566\n",
      "A extração terminou às:  2020-06-05 13:07:16.378750\n"
     ]
    }
   ],
   "source": [
    "\n",
    "\n",
    "now = datetime.now()\n",
    "print(\"A extração começou às: \", now)\n",
    "\n",
    "conta = 0\n",
    "for df in TextFileReader:\n",
    "\n",
    "    socios_encontrados = pd.merge(df_procura1, \\\n",
    "                                 df, \\\n",
    "                                 left_on='cnpj', \\\n",
    "                                 right_on='cnpj')\n",
    "    \n",
    "    if socios_encontrados.empty is False:\n",
    "        if conta == 0:\n",
    "            df_procura_final = socios_encontrados\n",
    "        else:\n",
    "            df_procura_final = df_procura_final.append(socios_encontrados)\n",
    "    \n",
    "        conta = conta + 1\n",
    "        \n",
    "now = datetime.now()\n",
    "print(\"A extração terminou às: \", now)\n",
    "\n"
   ]
  },
  {
   "cell_type": "code",
   "execution_count": 18,
   "metadata": {},
   "outputs": [
    {
     "data": {
      "text/plain": [
       "(3248, 119)"
      ]
     },
     "execution_count": 18,
     "metadata": {},
     "output_type": "execute_result"
    }
   ],
   "source": [
    "df_procura_final.shape"
   ]
  },
  {
   "cell_type": "code",
   "execution_count": 19,
   "metadata": {},
   "outputs": [],
   "source": [
    "df_procura_final.to_csv('resultados/pagamentos_covid19_com_empresas_e_socios/pagamentos_feitos_de_empenhos_covid19_com_empresas_e_socios_ate_03_jun_2020.csv', index=False)"
   ]
  },
  {
   "cell_type": "code",
   "execution_count": null,
   "metadata": {},
   "outputs": [],
   "source": []
  },
  {
   "cell_type": "code",
   "execution_count": 18,
   "metadata": {},
   "outputs": [],
   "source": [
    "# Carrega candidatos de 2018 e 2016"
   ]
  },
  {
   "cell_type": "code",
   "execution_count": 19,
   "metadata": {},
   "outputs": [],
   "source": [
    "kwargs = {'sep': ';', 'dtype': str, 'encoding': 'latin_1'}\n",
    "candidatos_2018 = pd.read_csv(\"../candidatos_2018/consulta_cand_2018_BRASIL.csv\", **kwargs)"
   ]
  },
  {
   "cell_type": "code",
   "execution_count": 20,
   "metadata": {},
   "outputs": [
    {
     "name": "stdout",
     "output_type": "stream",
     "text": [
      "<class 'pandas.core.frame.DataFrame'>\n",
      "RangeIndex: 29145 entries, 0 to 29144\n",
      "Data columns (total 26 columns):\n",
      " #   Column                          Non-Null Count  Dtype \n",
      "---  ------                          --------------  ----- \n",
      " 0   ano_eleicao                     29145 non-null  object\n",
      " 1   uf                              29145 non-null  object\n",
      " 2   cargo                           29145 non-null  object\n",
      " 3   n_sequencial                    29145 non-null  object\n",
      " 4   numero_urna                     29145 non-null  object\n",
      " 5   nome_completo                   29145 non-null  object\n",
      " 6   nome_urna                       29145 non-null  object\n",
      " 7   cpf                             29145 non-null  object\n",
      " 8   e_mail                          29145 non-null  object\n",
      " 9   situacao_candidatura            29145 non-null  object\n",
      " 10  partido_eleicao                 29145 non-null  object\n",
      " 11  nacionalidade                   29145 non-null  object\n",
      " 12  uf_nascimento                   29145 non-null  object\n",
      " 13  nome_municipio_nascimento       29145 non-null  object\n",
      " 14  data_nascimento                 29145 non-null  object\n",
      " 15  idade_data_posse                29145 non-null  object\n",
      " 16  titulo_eleitoral                29145 non-null  object\n",
      " 17  genero                          29145 non-null  object\n",
      " 18  grau_instrucao                  29145 non-null  object\n",
      " 19  estado_civil                    29145 non-null  object\n",
      " 20  cor_raca                        29145 non-null  object\n",
      " 21  ocupacao                        29145 non-null  object\n",
      " 22  despesa_max_campanha_informada  29145 non-null  object\n",
      " 23  situcao_eleicao                 29145 non-null  object\n",
      " 24  tentou_reeleicao                29145 non-null  object\n",
      " 25  declarou_bens                   29145 non-null  object\n",
      "dtypes: object(26)\n",
      "memory usage: 5.8+ MB\n"
     ]
    }
   ],
   "source": [
    "# Apaga as colunas que não serão usadas\n",
    "del candidatos_2018['DT_GERACAO']\n",
    "del candidatos_2018['HH_GERACAO']\n",
    "#del candidatos_2018['ANO_ELEICAO']\n",
    "del candidatos_2018['CD_TIPO_ELEICAO']\n",
    "del candidatos_2018['NM_TIPO_ELEICAO']\n",
    "del candidatos_2018['NR_TURNO']\n",
    "del candidatos_2018['CD_ELEICAO']\n",
    "del candidatos_2018['DS_ELEICAO']\n",
    "del candidatos_2018['DT_ELEICAO']\n",
    "del candidatos_2018['TP_ABRANGENCIA']\n",
    "del candidatos_2018['SG_UE']\n",
    "del candidatos_2018['NM_UE']\n",
    "del candidatos_2018['CD_CARGO']\n",
    "del candidatos_2018['CD_SITUACAO_CANDIDATURA']\n",
    "del candidatos_2018['CD_DETALHE_SITUACAO_CAND']\n",
    "del candidatos_2018['DS_DETALHE_SITUACAO_CAND']\n",
    "del candidatos_2018['TP_AGREMIACAO']\n",
    "del candidatos_2018['NR_PARTIDO']\n",
    "del candidatos_2018['NM_PARTIDO']\n",
    "del candidatos_2018['SQ_COLIGACAO']\n",
    "del candidatos_2018['NM_COLIGACAO']\n",
    "del candidatos_2018['DS_COMPOSICAO_COLIGACAO']\n",
    "del candidatos_2018['CD_NACIONALIDADE']\n",
    "#del candidatos_2018['DS_NACIONALIDADE']\n",
    "#del candidatos_2018['SG_UF_NASCIMENTO']\n",
    "del candidatos_2018['CD_MUNICIPIO_NASCIMENTO']\n",
    "#del candidatos_2018['NM_MUNICIPIO_NASCIMENTO']\n",
    "#del candidatos_2018['NR_IDADE_DATA_POSSE']\n",
    "#del candidatos_2018['NR_TITULO_ELEITORAL_CANDIDATO']\n",
    "del candidatos_2018['CD_GENERO']\n",
    "#del candidatos_2018['DS_GENERO']\n",
    "del candidatos_2018['CD_GRAU_INSTRUCAO']\n",
    "#del candidatos_2018['DS_GRAU_INSTRUCAO']\n",
    "del candidatos_2018['CD_ESTADO_CIVIL']\n",
    "#del candidatos_2018['DS_ESTADO_CIVIL']\n",
    "del candidatos_2018['CD_COR_RACA']\n",
    "#del candidatos_2018['DS_COR_RACA']\n",
    "del candidatos_2018['CD_OCUPACAO']\n",
    "#del candidatos_2018['NR_DESPESA_MAX_CAMPANHA']\n",
    "del candidatos_2018['CD_SIT_TOT_TURNO']\n",
    "#del candidatos_2018['DS_SIT_TOT_TURNO']\n",
    "del candidatos_2018['NR_PROTOCOLO_CANDIDATURA']\n",
    "del candidatos_2018['NR_PROCESSO ']\n",
    "del candidatos_2018['NM_SOCIAL_CANDIDATO']\n",
    "#del candidatos_2018['DS_SITUACAO_CANDIDATURA'] # opcional\n",
    "#del candidatos_2018['ST_REELEICAO'] # opcional\n",
    "#del candidatos_2018['ST_DECLARAR_BENS'] # opcional\n",
    "\n",
    "candidatos_2018.columns = ['ano_eleicao',\n",
    "'uf', \n",
    "'cargo', \n",
    "'n_sequencial', \n",
    "'numero_urna',\n",
    "'nome_completo', \n",
    "'nome_urna', \n",
    "'cpf', \n",
    "'e_mail', \n",
    "'situacao_candidatura', \n",
    "'partido_eleicao', \n",
    "'nacionalidade', \n",
    "'uf_nascimento', \n",
    "'nome_municipio_nascimento',  \n",
    "'data_nascimento', \n",
    "'idade_data_posse', \n",
    "'titulo_eleitoral', \n",
    "'genero', \n",
    "'grau_instrucao', \n",
    "'estado_civil', \n",
    "'cor_raca', \n",
    "'ocupacao', \n",
    "'despesa_max_campanha_informada', \n",
    "'situcao_eleicao', \n",
    "'tentou_reeleicao', \n",
    "'declarou_bens']\n",
    "\n",
    "candidatos_2018.info()"
   ]
  },
  {
   "cell_type": "code",
   "execution_count": 21,
   "metadata": {},
   "outputs": [],
   "source": [
    "#candidatos_2018[\"nome_completo\"] = candidatos_2018[\"nome_completo\"].apply(f)"
   ]
  },
  {
   "cell_type": "code",
   "execution_count": null,
   "metadata": {},
   "outputs": [],
   "source": []
  },
  {
   "cell_type": "code",
   "execution_count": null,
   "metadata": {},
   "outputs": [],
   "source": []
  },
  {
   "cell_type": "code",
   "execution_count": 22,
   "metadata": {},
   "outputs": [],
   "source": [
    "kwargs = {'sep': ';', 'dtype': str, 'encoding': 'latin_1'}\n",
    "candidatos_2016 = pd.read_csv(\"../candidatos_2016/consulta_cand_2016_BRASIL.csv\", **kwargs)"
   ]
  },
  {
   "cell_type": "code",
   "execution_count": 23,
   "metadata": {},
   "outputs": [
    {
     "name": "stdout",
     "output_type": "stream",
     "text": [
      "<class 'pandas.core.frame.DataFrame'>\n",
      "RangeIndex: 498302 entries, 0 to 498301\n",
      "Data columns (total 26 columns):\n",
      " #   Column                          Non-Null Count   Dtype \n",
      "---  ------                          --------------   ----- \n",
      " 0   ano_eleicao                     498302 non-null  object\n",
      " 1   uf                              498302 non-null  object\n",
      " 2   cargo                           498302 non-null  object\n",
      " 3   n_sequencial                    498302 non-null  object\n",
      " 4   numero_urna                     498302 non-null  object\n",
      " 5   nome_completo                   498302 non-null  object\n",
      " 6   nome_urna                       498302 non-null  object\n",
      " 7   cpf                             498302 non-null  object\n",
      " 8   e_mail                          498302 non-null  object\n",
      " 9   situacao_candidatura            498302 non-null  object\n",
      " 10  partido_eleicao                 498302 non-null  object\n",
      " 11  nacionalidade                   498302 non-null  object\n",
      " 12  uf_nascimento                   498302 non-null  object\n",
      " 13  nome_municipio_nascimento       498302 non-null  object\n",
      " 14  data_nascimento                 498246 non-null  object\n",
      " 15  idade_data_posse                498246 non-null  object\n",
      " 16  titulo_eleitoral                498302 non-null  object\n",
      " 17  genero                          498302 non-null  object\n",
      " 18  grau_instrucao                  498302 non-null  object\n",
      " 19  estado_civil                    498302 non-null  object\n",
      " 20  cor_raca                        498302 non-null  object\n",
      " 21  ocupacao                        498302 non-null  object\n",
      " 22  despesa_max_campanha_informada  498302 non-null  object\n",
      " 23  situcao_eleicao                 498302 non-null  object\n",
      " 24  tentou_reeleicao                498302 non-null  object\n",
      " 25  declarou_bens                   498302 non-null  object\n",
      "dtypes: object(26)\n",
      "memory usage: 98.8+ MB\n"
     ]
    }
   ],
   "source": [
    "# Apaga as colunas que não serão usadas\n",
    "del candidatos_2016['DT_GERACAO']\n",
    "del candidatos_2016['HH_GERACAO']\n",
    "#del candidatos_2016['ANO_ELEICAO']\n",
    "del candidatos_2016['CD_TIPO_ELEICAO']\n",
    "del candidatos_2016['NM_TIPO_ELEICAO']\n",
    "del candidatos_2016['NR_TURNO']\n",
    "del candidatos_2016['CD_ELEICAO']\n",
    "del candidatos_2016['DS_ELEICAO']\n",
    "del candidatos_2016['DT_ELEICAO']\n",
    "del candidatos_2016['TP_ABRANGENCIA']\n",
    "del candidatos_2016['SG_UE']\n",
    "del candidatos_2016['NM_UE']\n",
    "del candidatos_2016['CD_CARGO']\n",
    "del candidatos_2016['CD_SITUACAO_CANDIDATURA']\n",
    "del candidatos_2016['CD_DETALHE_SITUACAO_CAND']\n",
    "del candidatos_2016['DS_DETALHE_SITUACAO_CAND']\n",
    "del candidatos_2016['TP_AGREMIACAO']\n",
    "del candidatos_2016['NR_PARTIDO']\n",
    "del candidatos_2016['NM_PARTIDO']\n",
    "del candidatos_2016['SQ_COLIGACAO']\n",
    "del candidatos_2016['NM_COLIGACAO']\n",
    "del candidatos_2016['DS_COMPOSICAO_COLIGACAO']\n",
    "del candidatos_2016['CD_NACIONALIDADE']\n",
    "#del candidatos_2016['DS_NACIONALIDADE']\n",
    "#del candidatos_2016['SG_UF_NASCIMENTO']\n",
    "del candidatos_2016['CD_MUNICIPIO_NASCIMENTO']\n",
    "#del candidatos_2016['NM_MUNICIPIO_NASCIMENTO']\n",
    "#del candidatos_2016['NR_IDADE_DATA_POSSE']\n",
    "#del candidatos_2016['NR_TITULO_ELEITORAL_CANDIDATO']\n",
    "del candidatos_2016['CD_GENERO']\n",
    "#del candidatos_2016['DS_GENERO']\n",
    "del candidatos_2016['CD_GRAU_INSTRUCAO']\n",
    "#del candidatos_2016['DS_GRAU_INSTRUCAO']\n",
    "del candidatos_2016['CD_ESTADO_CIVIL']\n",
    "#del candidatos_2016['DS_ESTADO_CIVIL']\n",
    "del candidatos_2016['CD_COR_RACA']\n",
    "#del candidatos_2016['DS_COR_RACA']\n",
    "del candidatos_2016['CD_OCUPACAO']\n",
    "#del candidatos_2016['NR_DESPESA_MAX_CAMPANHA']\n",
    "del candidatos_2016['CD_SIT_TOT_TURNO']\n",
    "#del candidatos_2016['DS_SIT_TOT_TURNO']\n",
    "del candidatos_2016['NR_PROTOCOLO_CANDIDATURA']\n",
    "del candidatos_2016['NR_PROCESSO ']\n",
    "del candidatos_2016['NM_SOCIAL_CANDIDATO']\n",
    "#del candidatos_2016['DS_SITUACAO_CANDIDATURA'] # opcional\n",
    "#del candidatos_2016['ST_REELEICAO'] # opcional\n",
    "#del candidatos_2016['ST_DECLARAR_BENS'] # opcional\n",
    "\n",
    "candidatos_2016.columns = ['ano_eleicao',\n",
    "'uf', \n",
    "'cargo', \n",
    "'n_sequencial', \n",
    "'numero_urna',\n",
    "'nome_completo', \n",
    "'nome_urna', \n",
    "'cpf', \n",
    "'e_mail', \n",
    "'situacao_candidatura', \n",
    "'partido_eleicao', \n",
    "'nacionalidade', \n",
    "'uf_nascimento', \n",
    "'nome_municipio_nascimento',  \n",
    "'data_nascimento', \n",
    "'idade_data_posse', \n",
    "'titulo_eleitoral', \n",
    "'genero', \n",
    "'grau_instrucao', \n",
    "'estado_civil', \n",
    "'cor_raca', \n",
    "'ocupacao', \n",
    "'despesa_max_campanha_informada', \n",
    "'situcao_eleicao', \n",
    "'tentou_reeleicao', \n",
    "'declarou_bens']\n",
    "\n",
    "candidatos_2016.info()"
   ]
  },
  {
   "cell_type": "code",
   "execution_count": null,
   "metadata": {},
   "outputs": [],
   "source": []
  },
  {
   "cell_type": "code",
   "execution_count": 24,
   "metadata": {},
   "outputs": [],
   "source": [
    "frames = [candidatos_2016, candidatos_2018]"
   ]
  },
  {
   "cell_type": "code",
   "execution_count": 25,
   "metadata": {},
   "outputs": [],
   "source": [
    "candidatos_2016_2018 = pd.concat(frames)"
   ]
  },
  {
   "cell_type": "code",
   "execution_count": 26,
   "metadata": {},
   "outputs": [],
   "source": [
    "candidatos_2016_2018 = candidatos_2016_2018.drop_duplicates(['cpf'], keep='last')"
   ]
  },
  {
   "cell_type": "code",
   "execution_count": 27,
   "metadata": {},
   "outputs": [],
   "source": [
    "candidatos_2016_2018['cpf_mascarado']='***'+candidatos_2016_2018['cpf'].str[3:9]+'**'"
   ]
  },
  {
   "cell_type": "code",
   "execution_count": 28,
   "metadata": {},
   "outputs": [
    {
     "data": {
      "text/html": [
       "<div>\n",
       "<style scoped>\n",
       "    .dataframe tbody tr th:only-of-type {\n",
       "        vertical-align: middle;\n",
       "    }\n",
       "\n",
       "    .dataframe tbody tr th {\n",
       "        vertical-align: top;\n",
       "    }\n",
       "\n",
       "    .dataframe thead th {\n",
       "        text-align: right;\n",
       "    }\n",
       "</style>\n",
       "<table border=\"1\" class=\"dataframe\">\n",
       "  <thead>\n",
       "    <tr style=\"text-align: right;\">\n",
       "      <th></th>\n",
       "      <th>nome_completo</th>\n",
       "      <th>cpf_mascarado</th>\n",
       "    </tr>\n",
       "  </thead>\n",
       "  <tbody>\n",
       "    <tr>\n",
       "      <th>0</th>\n",
       "      <td>DINIFER DE ALMEIDA SEHN</td>\n",
       "      <td>***689969**</td>\n",
       "    </tr>\n",
       "    <tr>\n",
       "      <th>1</th>\n",
       "      <td>DIEGO DIAS</td>\n",
       "      <td>***173330**</td>\n",
       "    </tr>\n",
       "    <tr>\n",
       "      <th>2</th>\n",
       "      <td>CLAUDEMIR TACÍLIO GONÇALVES</td>\n",
       "      <td>***327329**</td>\n",
       "    </tr>\n",
       "    <tr>\n",
       "      <th>4</th>\n",
       "      <td>IRACY AMARAL NEGRE</td>\n",
       "      <td>***308221**</td>\n",
       "    </tr>\n",
       "    <tr>\n",
       "      <th>5</th>\n",
       "      <td>GELSON LUIZ PETRY</td>\n",
       "      <td>***620609**</td>\n",
       "    </tr>\n",
       "  </tbody>\n",
       "</table>\n",
       "</div>"
      ],
      "text/plain": [
       "                 nome_completo cpf_mascarado\n",
       "0      DINIFER DE ALMEIDA SEHN   ***689969**\n",
       "1                   DIEGO DIAS   ***173330**\n",
       "2  CLAUDEMIR TACÍLIO GONÇALVES   ***327329**\n",
       "4           IRACY AMARAL NEGRE   ***308221**\n",
       "5            GELSON LUIZ PETRY   ***620609**"
      ]
     },
     "execution_count": 28,
     "metadata": {},
     "output_type": "execute_result"
    }
   ],
   "source": [
    "candidatos_2016_2018[['nome_completo','cpf_mascarado']].head()"
   ]
  },
  {
   "cell_type": "code",
   "execution_count": null,
   "metadata": {},
   "outputs": [],
   "source": []
  },
  {
   "cell_type": "code",
   "execution_count": 43,
   "metadata": {},
   "outputs": [],
   "source": [
    "# Verifica que empresas como sócios politicos brasileiros"
   ]
  },
  {
   "cell_type": "code",
   "execution_count": 29,
   "metadata": {},
   "outputs": [],
   "source": [
    "TextFileReader = pd.read_csv('../csv_dados_qsa_cnpj_28-05-20/cnpj_dados_socios_pj.csv',\\\n",
    "                             chunksize=1000,\\\n",
    "                             sep='#',\\\n",
    "                             converters={'cnpj': lambda x: str(x)},\\\n",
    "                             usecols=['cnpj',\n",
    "                                      'identificador_socio',\n",
    "                                      'nome_socio',\n",
    "                                      'cnpj_cpf_socio',\n",
    "                                      'cod_qualificacao_socio',\n",
    "                                      'data_entrada_sociedade',\n",
    "                                      'cpf_representante_legal',\n",
    "                                      'nome_representante'])"
   ]
  },
  {
   "cell_type": "code",
   "execution_count": 30,
   "metadata": {},
   "outputs": [
    {
     "name": "stdout",
     "output_type": "stream",
     "text": [
      "A extração começou às:  2020-05-28 08:27:43.051477\n",
      "A extração terminou às:  2020-05-28 11:15:26.088636\n"
     ]
    }
   ],
   "source": [
    "\n",
    "\n",
    "now = datetime.now()\n",
    "print(\"A extração começou às: \", now)\n",
    "\n",
    "conta = 0\n",
    "for df in TextFileReader:\n",
    "\n",
    "    socios_encontrados = pd.merge(candidatos_2016_2018, \\\n",
    "                                 df, \\\n",
    "                                 left_on=['nome_completo', 'cpf_mascarado'], \\\n",
    "                                 right_on=['nome_socio','cnpj_cpf_socio'])\n",
    "    \n",
    "    if socios_encontrados.empty is False:\n",
    "        if conta == 0:\n",
    "            df_procura_socio = socios_encontrados\n",
    "        else:\n",
    "            df_procura_socio = df_procura_socio.append(socios_encontrados)\n",
    "    \n",
    "        conta = conta + 1\n",
    "        \n",
    "now = datetime.now()\n",
    "print(\"A extração terminou às: \", now)\n",
    "\n"
   ]
  },
  {
   "cell_type": "code",
   "execution_count": 31,
   "metadata": {},
   "outputs": [
    {
     "data": {
      "text/plain": [
       "(171498, 35)"
      ]
     },
     "execution_count": 31,
     "metadata": {},
     "output_type": "execute_result"
    }
   ],
   "source": [
    "df_procura_socio.shape"
   ]
  },
  {
   "cell_type": "code",
   "execution_count": null,
   "metadata": {},
   "outputs": [],
   "source": []
  },
  {
   "cell_type": "code",
   "execution_count": 32,
   "metadata": {},
   "outputs": [],
   "source": [
    "TextFileReader = pd.read_csv('../csv_dados_qsa_cnpj_28-05-20/cnpj_dados_cadastrais_pj.csv',\\\n",
    "                             chunksize=1000,\\\n",
    "                             sep='#',\\\n",
    "                             converters={'cnpj': lambda x: str(x)},\\\n",
    "                             usecols=['cnpj',\n",
    "                                      'razao_social',\n",
    "                                      'nome_fantasia',\n",
    "                                      'situacao_cadastral',\n",
    "                                      'codigo_natureza_juridica',\n",
    "                                      'data_inicio_atividade',\n",
    "                                      'cnae_fiscal',\n",
    "                                      'uf', \n",
    "                                      'municipio'])"
   ]
  },
  {
   "cell_type": "code",
   "execution_count": 33,
   "metadata": {},
   "outputs": [
    {
     "name": "stdout",
     "output_type": "stream",
     "text": [
      "A extração começou às:  2020-05-28 11:19:19.360180\n",
      "A extração terminou às:  2020-05-28 13:55:53.164307\n"
     ]
    }
   ],
   "source": [
    "\n",
    "\n",
    "now = datetime.now()\n",
    "print(\"A extração começou às: \", now)\n",
    "\n",
    "conta = 0\n",
    "for df in TextFileReader:\n",
    "\n",
    "    # Caso deseja-se pegar o CNPJ raiz poderia criar uma nova coluna\n",
    "    #df['cnpj_raiz'] = df.cnpj.str[:8]\n",
    "    \n",
    "    # Faz merge dos dataframes pelo número do CNPJ\n",
    "    # Se por algum motivo no dataframe original existirem CNPJ duplicados faz um drop\n",
    "    empresas_encontradas_polit = pd.merge(df_procura_socio, \\\n",
    "                                 df, \\\n",
    "                                 left_on= 'cnpj', \\\n",
    "                                 right_on='cnpj')\n",
    "    \n",
    "    if empresas_encontradas_polit.empty is False:\n",
    "        if conta == 0:\n",
    "            df_procura_polit = empresas_encontradas_polit\n",
    "        else:\n",
    "            df_procura_polit = df_procura_polit.append(empresas_encontradas_polit)\n",
    "    \n",
    "        conta = conta + 1\n",
    "        \n",
    "now = datetime.now()\n",
    "print(\"A extração terminou às: \", now)\n",
    "\n"
   ]
  },
  {
   "cell_type": "code",
   "execution_count": 34,
   "metadata": {},
   "outputs": [
    {
     "data": {
      "text/plain": [
       "(171498, 43)"
      ]
     },
     "execution_count": 34,
     "metadata": {},
     "output_type": "execute_result"
    }
   ],
   "source": [
    "df_procura_polit.shape"
   ]
  },
  {
   "cell_type": "code",
   "execution_count": 35,
   "metadata": {},
   "outputs": [],
   "source": [
    "df_procura_polit.to_csv('resultados/empresas_politicos_candidatos_2016_2018_versao_28-05-20.csv', index=False)"
   ]
  },
  {
   "cell_type": "code",
   "execution_count": null,
   "metadata": {},
   "outputs": [],
   "source": []
  },
  {
   "cell_type": "code",
   "execution_count": null,
   "metadata": {},
   "outputs": [],
   "source": [
    "# Carrega arquivo de empresas de políticos já salvo"
   ]
  },
  {
   "cell_type": "code",
   "execution_count": 20,
   "metadata": {},
   "outputs": [],
   "source": [
    "kwargs = {'sep': ',', 'dtype': str, 'encoding': 'utf-8'}\n",
    "df_procura_polit = pd.read_csv(\"resultados/empresas_politicos_candidatos/empresas_politicos_candidatos_2016_2018_versao_28-05-20.csv\", **kwargs)"
   ]
  },
  {
   "cell_type": "code",
   "execution_count": null,
   "metadata": {},
   "outputs": [],
   "source": []
  },
  {
   "cell_type": "code",
   "execution_count": null,
   "metadata": {},
   "outputs": [],
   "source": []
  },
  {
   "cell_type": "code",
   "execution_count": 21,
   "metadata": {},
   "outputs": [],
   "source": [
    "# Verifica se há empresas de políticos entre os fornecedores da covid19"
   ]
  },
  {
   "cell_type": "code",
   "execution_count": 22,
   "metadata": {},
   "outputs": [],
   "source": [
    "empresas_encontradas_polit_covid19 = pd.merge(pagamentos_covid19.drop_duplicates('Código Favorecido_x'), \\\n",
    "                                 df_procura_polit, \\\n",
    "                                 left_on= 'Código Favorecido_x', \\\n",
    "                                 right_on='cnpj')"
   ]
  },
  {
   "cell_type": "code",
   "execution_count": 23,
   "metadata": {},
   "outputs": [
    {
     "data": {
      "text/plain": [
       "(13, 146)"
      ]
     },
     "execution_count": 23,
     "metadata": {},
     "output_type": "execute_result"
    }
   ],
   "source": [
    "empresas_encontradas_polit_covid19.shape"
   ]
  },
  {
   "cell_type": "code",
   "execution_count": 24,
   "metadata": {},
   "outputs": [
    {
     "data": {
      "text/html": [
       "<div>\n",
       "<style scoped>\n",
       "    .dataframe tbody tr th:only-of-type {\n",
       "        vertical-align: middle;\n",
       "    }\n",
       "\n",
       "    .dataframe tbody tr th {\n",
       "        vertical-align: top;\n",
       "    }\n",
       "\n",
       "    .dataframe thead th {\n",
       "        text-align: right;\n",
       "    }\n",
       "</style>\n",
       "<table border=\"1\" class=\"dataframe\">\n",
       "  <thead>\n",
       "    <tr style=\"text-align: right;\">\n",
       "      <th></th>\n",
       "      <th>uf_x</th>\n",
       "      <th>nome_urna</th>\n",
       "      <th>cargo</th>\n",
       "      <th>situcao_eleicao</th>\n",
       "      <th>Data Emissão_x</th>\n",
       "      <th>cod_empenho</th>\n",
       "      <th>id_empenho</th>\n",
       "      <th>Órgão_x</th>\n",
       "      <th>Unidade Gestora_x</th>\n",
       "      <th>Código Favorecido_x</th>\n",
       "      <th>Favorecido_x</th>\n",
       "      <th>Valor do Empenho Convertido pra R$</th>\n",
       "      <th>valor_pago_em_real</th>\n",
       "      <th>Valor Restos a Pagar Inscritos (R$)</th>\n",
       "      <th>Observação_x</th>\n",
       "      <th>Observação_y</th>\n",
       "      <th>Modalidade de Licitação</th>\n",
       "    </tr>\n",
       "  </thead>\n",
       "  <tbody>\n",
       "    <tr>\n",
       "      <th>0</th>\n",
       "      <td>AM</td>\n",
       "      <td>RADYR OLIVEIRA</td>\n",
       "      <td>DEPUTADO ESTADUAL</td>\n",
       "      <td>SUPLENTE</td>\n",
       "      <td>08/04/2020</td>\n",
       "      <td>160137000012020NE800064</td>\n",
       "      <td>177600344</td>\n",
       "      <td>Comando do Exército</td>\n",
       "      <td>3º BATALHAO DE INFANTARIA DE SELVA</td>\n",
       "      <td>02341467000120</td>\n",
       "      <td>AMAZONAS ENERGIA S.A</td>\n",
       "      <td>2500,00</td>\n",
       "      <td>106.34</td>\n",
       "      <td>0,00</td>\n",
       "      <td>ATENDER ACOES DE COMBATE AOS EFEITOS DO COVID ...</td>\n",
       "      <td>RETENCAO-LIQUIDACAO DAS FATURAS NFS ,29582878,...</td>\n",
       "      <td>Dispensa de Licitação</td>\n",
       "    </tr>\n",
       "    <tr>\n",
       "      <th>1</th>\n",
       "      <td>PR</td>\n",
       "      <td>ROSANA MONNEY RIBAS</td>\n",
       "      <td>DEPUTADO ESTADUAL</td>\n",
       "      <td>SUPLENTE</td>\n",
       "      <td>08/04/2020</td>\n",
       "      <td>155913264432020NE801608</td>\n",
       "      <td>183900342</td>\n",
       "      <td>Empresa Brasileira de Serviços Hospitalares</td>\n",
       "      <td>HOSP UNIV PROF POLYDORO ERNANI DE SÃO THIAGO</td>\n",
       "      <td>26164075000100</td>\n",
       "      <td>PROVIDER PRODUTOS HOSPITALARES E SANEANTES LTDA</td>\n",
       "      <td>3060,00</td>\n",
       "      <td>3,060.00</td>\n",
       "      <td>0,00</td>\n",
       "      <td>REEMPENHO DA SOLICITACAO 202002115, UTILIZANDO...</td>\n",
       "      <td>PAGAMENTO DA NF 1516, CONFORME SOLICITACAO DE ...</td>\n",
       "      <td>Pregão</td>\n",
       "    </tr>\n",
       "    <tr>\n",
       "      <th>2</th>\n",
       "      <td>TO</td>\n",
       "      <td>OGARI PACHECO</td>\n",
       "      <td>2º SUPLENTE</td>\n",
       "      <td>ELEITO</td>\n",
       "      <td>08/04/2020</td>\n",
       "      <td>155913264432020NE801615</td>\n",
       "      <td>174100368</td>\n",
       "      <td>Empresa Brasileira de Serviços Hospitalares</td>\n",
       "      <td>HOSP UNIV PROF POLYDORO ERNANI DE SÃO THIAGO</td>\n",
       "      <td>44734671000151</td>\n",
       "      <td>CRISTALIA PRODUTOS QUIMICOS FARMACEUTICOS LTDA</td>\n",
       "      <td>697,50</td>\n",
       "      <td>17.55</td>\n",
       "      <td>0,00</td>\n",
       "      <td>REEMPENHO DA SOLICITACAO 202002165, UTILIZANDO...</td>\n",
       "      <td>PAGAMENTO DAS NFS 2585102/2585508/2586176, CON...</td>\n",
       "      <td>Pregão</td>\n",
       "    </tr>\n",
       "    <tr>\n",
       "      <th>3</th>\n",
       "      <td>DF</td>\n",
       "      <td>FERNANDO MARQUES</td>\n",
       "      <td>SENADOR</td>\n",
       "      <td>NÃO ELEITO</td>\n",
       "      <td>08/04/2020</td>\n",
       "      <td>155913264432020NE801652</td>\n",
       "      <td>174200300</td>\n",
       "      <td>Empresa Brasileira de Serviços Hospitalares</td>\n",
       "      <td>HOSP UNIV PROF POLYDORO ERNANI DE SÃO THIAGO</td>\n",
       "      <td>60665981000975</td>\n",
       "      <td>UNIAO QUIMICA FARMACEUTICA NACIONAL S A</td>\n",
       "      <td>45000,00</td>\n",
       "      <td>990.00</td>\n",
       "      <td>0,00</td>\n",
       "      <td>REEMPENHO DA SOLICITACAO 202002362, UTILIZANDO...</td>\n",
       "      <td>PAGAMENTO DA NF 409155, CONFORME SOLICITACAO D...</td>\n",
       "      <td>Dispensa de Licitação</td>\n",
       "    </tr>\n",
       "    <tr>\n",
       "      <th>4</th>\n",
       "      <td>GO</td>\n",
       "      <td>LUIZ CARLOS</td>\n",
       "      <td>PREFEITO</td>\n",
       "      <td>NÃO ELEITO</td>\n",
       "      <td>04/05/2020</td>\n",
       "      <td>257001000012020NE818845</td>\n",
       "      <td>180201534</td>\n",
       "      <td>Ministério da Saúde - Unidades com vínculo di</td>\n",
       "      <td>DIRETORIA EXECUTIVA DO FUNDO NAC. DE SAUDE</td>\n",
       "      <td>08278113000165</td>\n",
       "      <td>FUNDO MUNICIPAL DE SAUDE DE RIO QUENTE</td>\n",
       "      <td>430000,00</td>\n",
       "      <td>430,000.00</td>\n",
       "      <td>0,00</td>\n",
       "      <td>EMPENHO PARA ATENDER A PORTARIA 999 DE 30/04/2...</td>\n",
       "      <td>PAGAMENTO DE 65740-CORONAVIRUS (COVID-19) PARC...</td>\n",
       "      <td>Não se Aplica</td>\n",
       "    </tr>\n",
       "    <tr>\n",
       "      <th>5</th>\n",
       "      <td>AM</td>\n",
       "      <td>BIAH</td>\n",
       "      <td>VEREADOR</td>\n",
       "      <td>SUPLENTE</td>\n",
       "      <td>04/05/2020</td>\n",
       "      <td>160005000012020NE800119</td>\n",
       "      <td>176401476</td>\n",
       "      <td>Comando do Exército</td>\n",
       "      <td>54 BATALHAO DE INFANTARIA DE SELVA</td>\n",
       "      <td>31783115000123</td>\n",
       "      <td>JHONATHAN MACIEL DE SOUZA EIRELI</td>\n",
       "      <td>2814,00</td>\n",
       "      <td>2,814.00</td>\n",
       "      <td>0,00</td>\n",
       "      <td>AQUISICAO DE MAT DE PROTECAO INDUVIDUAL PARA M...</td>\n",
       "      <td>OE04COVID00 PAGAMENTO REFERENTE A NFE-57242 AQ...</td>\n",
       "      <td>Dispensa de Licitação</td>\n",
       "    </tr>\n",
       "    <tr>\n",
       "      <th>6</th>\n",
       "      <td>RS</td>\n",
       "      <td>LEONARDO HOFF</td>\n",
       "      <td>PREFEITO</td>\n",
       "      <td>NÃO ELEITO</td>\n",
       "      <td>18/05/2020</td>\n",
       "      <td>160391000012020NE800140</td>\n",
       "      <td>175002246</td>\n",
       "      <td>Comando do Exército</td>\n",
       "      <td>CENTRO DE PREPARACAO OFICIAIS RESERVA/PA</td>\n",
       "      <td>08467115000100</td>\n",
       "      <td>COMPANHIA ESTADUAL DE DISTRIBUICAO DE ENERGIA ...</td>\n",
       "      <td>2000,00</td>\n",
       "      <td>956.53</td>\n",
       "      <td>0,00</td>\n",
       "      <td>ATENDE DESP. DE FORN. DE ENERGIA ELETRICA ENFR...</td>\n",
       "      <td>IR(1,2) 196,21 CSLL(1,0) 163,52 COFINS(3,0) 49...</td>\n",
       "      <td>Dispensa de Licitação</td>\n",
       "    </tr>\n",
       "    <tr>\n",
       "      <th>7</th>\n",
       "      <td>RS</td>\n",
       "      <td>LUCIO DO PRADO</td>\n",
       "      <td>DEPUTADO ESTADUAL</td>\n",
       "      <td>SUPLENTE</td>\n",
       "      <td>18/05/2020</td>\n",
       "      <td>160391000012020NE800140</td>\n",
       "      <td>175002246</td>\n",
       "      <td>Comando do Exército</td>\n",
       "      <td>CENTRO DE PREPARACAO OFICIAIS RESERVA/PA</td>\n",
       "      <td>08467115000100</td>\n",
       "      <td>COMPANHIA ESTADUAL DE DISTRIBUICAO DE ENERGIA ...</td>\n",
       "      <td>2000,00</td>\n",
       "      <td>956.53</td>\n",
       "      <td>0,00</td>\n",
       "      <td>ATENDE DESP. DE FORN. DE ENERGIA ELETRICA ENFR...</td>\n",
       "      <td>IR(1,2) 196,21 CSLL(1,0) 163,52 COFINS(3,0) 49...</td>\n",
       "      <td>Dispensa de Licitação</td>\n",
       "    </tr>\n",
       "    <tr>\n",
       "      <th>8</th>\n",
       "      <td>PI</td>\n",
       "      <td>EDENILTON</td>\n",
       "      <td>VEREADOR</td>\n",
       "      <td>NÃO ELEITO</td>\n",
       "      <td>24/04/2020</td>\n",
       "      <td>160100000012020NE800148</td>\n",
       "      <td>184901253</td>\n",
       "      <td>Comando do Exército</td>\n",
       "      <td>COMANDO DA 3A BDA DE INFANTARIA   MOTORIZADA</td>\n",
       "      <td>08990041000184</td>\n",
       "      <td>RIBEIRO E DINIZ COMERCIO DE PECAS E SERVICOS A...</td>\n",
       "      <td>1500,00</td>\n",
       "      <td>1,500.00</td>\n",
       "      <td>0,00</td>\n",
       "      <td>AQS MAT CONSUMO -DIEX REQ Nº35/PMT CIA C 24ABR...</td>\n",
       "      <td>DANFE NR 21945, 13 MAI  20 - MATERIAL P/ MANUT...</td>\n",
       "      <td>Pregão</td>\n",
       "    </tr>\n",
       "    <tr>\n",
       "      <th>9</th>\n",
       "      <td>SE</td>\n",
       "      <td>MILTON ANDRADE</td>\n",
       "      <td>GOVERNADOR</td>\n",
       "      <td>NÃO ELEITO</td>\n",
       "      <td>24/04/2020</td>\n",
       "      <td>200130000012020NE800157</td>\n",
       "      <td>182701174</td>\n",
       "      <td>Departamento de Polícia Rodoviária Federal</td>\n",
       "      <td>SUPERINTENDENCIA REG. POL. RODV. FEDERAL-SE</td>\n",
       "      <td>15610595000174</td>\n",
       "      <td>UNIDADE CARDIOTORACICA DE SERGIPE LTDA</td>\n",
       "      <td>63000,00</td>\n",
       "      <td>189.54</td>\n",
       "      <td>0,00</td>\n",
       "      <td>EMPENHO PARA POSSIBILITAR CONTRATACAO DE SERVI...</td>\n",
       "      <td>DARF DO PAGAMENTO DA NFS 2198, REFERENTE A SER...</td>\n",
       "      <td>Dispensa de Licitação</td>\n",
       "    </tr>\n",
       "    <tr>\n",
       "      <th>10</th>\n",
       "      <td>AM</td>\n",
       "      <td>LUIZ DO SIQUEIRA TUR</td>\n",
       "      <td>VEREADOR</td>\n",
       "      <td>SUPLENTE</td>\n",
       "      <td>21/05/2020</td>\n",
       "      <td>194045192082020NE800087</td>\n",
       "      <td>181302380</td>\n",
       "      <td>Fundação Nacional do Índio</td>\n",
       "      <td>FUNAI-COORDENAÇÃO REGIONAL DO MADEIRA/AM</td>\n",
       "      <td>05929516000139</td>\n",
       "      <td>SIQUEIRA TUR TRANSPORTE E TURISMO LTDA</td>\n",
       "      <td>2400,00</td>\n",
       "      <td>2,400.00</td>\n",
       "      <td>0,00</td>\n",
       "      <td>DESTINADO A COBRIR DESPESAS COM LOCACAO DE VEI...</td>\n",
       "      <td>DESTINADO A COBRIR DESPESAS COM LOCACAO DE VEI...</td>\n",
       "      <td>Dispensa de Licitação</td>\n",
       "    </tr>\n",
       "    <tr>\n",
       "      <th>11</th>\n",
       "      <td>CE</td>\n",
       "      <td>MIMI 90</td>\n",
       "      <td>VEREADOR</td>\n",
       "      <td>#NULO#</td>\n",
       "      <td>16/04/2020</td>\n",
       "      <td>194048192082020NE800066</td>\n",
       "      <td>179700716</td>\n",
       "      <td>Fundação Nacional do Índio</td>\n",
       "      <td>COORDENAçãO REGIONAL MEDIO PURUS/AM</td>\n",
       "      <td>14476150000180</td>\n",
       "      <td>VWX CONSTRUCOES E SERVICOS EIRELI</td>\n",
       "      <td>37887,96</td>\n",
       "      <td>7,565.68</td>\n",
       "      <td>0,00</td>\n",
       "      <td>COBRIR DESPESAS COM A PRESTACAO DE SERVICOS DE...</td>\n",
       "      <td>NF 159 -INSS</td>\n",
       "      <td>Pregão</td>\n",
       "    </tr>\n",
       "    <tr>\n",
       "      <th>12</th>\n",
       "      <td>PI</td>\n",
       "      <td>JESUS RODRIGUES</td>\n",
       "      <td>SENADOR</td>\n",
       "      <td>NÃO ELEITO</td>\n",
       "      <td>30/04/2020</td>\n",
       "      <td>135180222112020NE000005</td>\n",
       "      <td>186601736</td>\n",
       "      <td>Companhia Nacional de Abastecimento</td>\n",
       "      <td>UNID.ESTOQUE ESTRATEGICO/PI</td>\n",
       "      <td>97461214000105</td>\n",
       "      <td>TECNOLOGIA EM PLASTICOS INDUSTRIA, COMERCIO E ...</td>\n",
       "      <td>2121,75</td>\n",
       "      <td>2,121.75</td>\n",
       "      <td>0,00</td>\n",
       "      <td>AQUISICAO CAPA-FARDO DE POLIETILENO VIRGEM P/ ...</td>\n",
       "      <td>PAGTO. DO DANFE NR. 10211, REFERENTE AQUISICAO...</td>\n",
       "      <td>Dispensa de Licitação</td>\n",
       "    </tr>\n",
       "  </tbody>\n",
       "</table>\n",
       "</div>"
      ],
      "text/plain": [
       "   uf_x             nome_urna              cargo situcao_eleicao  \\\n",
       "0    AM        RADYR OLIVEIRA  DEPUTADO ESTADUAL        SUPLENTE   \n",
       "1    PR   ROSANA MONNEY RIBAS  DEPUTADO ESTADUAL        SUPLENTE   \n",
       "2    TO         OGARI PACHECO        2º SUPLENTE          ELEITO   \n",
       "3    DF      FERNANDO MARQUES            SENADOR      NÃO ELEITO   \n",
       "4    GO           LUIZ CARLOS           PREFEITO      NÃO ELEITO   \n",
       "5    AM                  BIAH           VEREADOR        SUPLENTE   \n",
       "6    RS         LEONARDO HOFF           PREFEITO      NÃO ELEITO   \n",
       "7    RS        LUCIO DO PRADO  DEPUTADO ESTADUAL        SUPLENTE   \n",
       "8    PI             EDENILTON           VEREADOR      NÃO ELEITO   \n",
       "9    SE        MILTON ANDRADE         GOVERNADOR      NÃO ELEITO   \n",
       "10   AM  LUIZ DO SIQUEIRA TUR           VEREADOR        SUPLENTE   \n",
       "11   CE               MIMI 90           VEREADOR          #NULO#   \n",
       "12   PI       JESUS RODRIGUES            SENADOR      NÃO ELEITO   \n",
       "\n",
       "   Data Emissão_x              cod_empenho id_empenho  \\\n",
       "0      08/04/2020  160137000012020NE800064  177600344   \n",
       "1      08/04/2020  155913264432020NE801608  183900342   \n",
       "2      08/04/2020  155913264432020NE801615  174100368   \n",
       "3      08/04/2020  155913264432020NE801652  174200300   \n",
       "4      04/05/2020  257001000012020NE818845  180201534   \n",
       "5      04/05/2020  160005000012020NE800119  176401476   \n",
       "6      18/05/2020  160391000012020NE800140  175002246   \n",
       "7      18/05/2020  160391000012020NE800140  175002246   \n",
       "8      24/04/2020  160100000012020NE800148  184901253   \n",
       "9      24/04/2020  200130000012020NE800157  182701174   \n",
       "10     21/05/2020  194045192082020NE800087  181302380   \n",
       "11     16/04/2020  194048192082020NE800066  179700716   \n",
       "12     30/04/2020  135180222112020NE000005  186601736   \n",
       "\n",
       "                                          Órgão_x  \\\n",
       "0                             Comando do Exército   \n",
       "1     Empresa Brasileira de Serviços Hospitalares   \n",
       "2     Empresa Brasileira de Serviços Hospitalares   \n",
       "3     Empresa Brasileira de Serviços Hospitalares   \n",
       "4   Ministério da Saúde - Unidades com vínculo di   \n",
       "5                             Comando do Exército   \n",
       "6                             Comando do Exército   \n",
       "7                             Comando do Exército   \n",
       "8                             Comando do Exército   \n",
       "9      Departamento de Polícia Rodoviária Federal   \n",
       "10                     Fundação Nacional do Índio   \n",
       "11                     Fundação Nacional do Índio   \n",
       "12            Companhia Nacional de Abastecimento   \n",
       "\n",
       "                               Unidade Gestora_x Código Favorecido_x  \\\n",
       "0             3º BATALHAO DE INFANTARIA DE SELVA      02341467000120   \n",
       "1   HOSP UNIV PROF POLYDORO ERNANI DE SÃO THIAGO      26164075000100   \n",
       "2   HOSP UNIV PROF POLYDORO ERNANI DE SÃO THIAGO      44734671000151   \n",
       "3   HOSP UNIV PROF POLYDORO ERNANI DE SÃO THIAGO      60665981000975   \n",
       "4     DIRETORIA EXECUTIVA DO FUNDO NAC. DE SAUDE      08278113000165   \n",
       "5             54 BATALHAO DE INFANTARIA DE SELVA      31783115000123   \n",
       "6       CENTRO DE PREPARACAO OFICIAIS RESERVA/PA      08467115000100   \n",
       "7       CENTRO DE PREPARACAO OFICIAIS RESERVA/PA      08467115000100   \n",
       "8   COMANDO DA 3A BDA DE INFANTARIA   MOTORIZADA      08990041000184   \n",
       "9    SUPERINTENDENCIA REG. POL. RODV. FEDERAL-SE      15610595000174   \n",
       "10      FUNAI-COORDENAÇÃO REGIONAL DO MADEIRA/AM      05929516000139   \n",
       "11           COORDENAçãO REGIONAL MEDIO PURUS/AM      14476150000180   \n",
       "12                   UNID.ESTOQUE ESTRATEGICO/PI      97461214000105   \n",
       "\n",
       "                                         Favorecido_x  \\\n",
       "0                                AMAZONAS ENERGIA S.A   \n",
       "1     PROVIDER PRODUTOS HOSPITALARES E SANEANTES LTDA   \n",
       "2      CRISTALIA PRODUTOS QUIMICOS FARMACEUTICOS LTDA   \n",
       "3             UNIAO QUIMICA FARMACEUTICA NACIONAL S A   \n",
       "4              FUNDO MUNICIPAL DE SAUDE DE RIO QUENTE   \n",
       "5                    JHONATHAN MACIEL DE SOUZA EIRELI   \n",
       "6   COMPANHIA ESTADUAL DE DISTRIBUICAO DE ENERGIA ...   \n",
       "7   COMPANHIA ESTADUAL DE DISTRIBUICAO DE ENERGIA ...   \n",
       "8   RIBEIRO E DINIZ COMERCIO DE PECAS E SERVICOS A...   \n",
       "9              UNIDADE CARDIOTORACICA DE SERGIPE LTDA   \n",
       "10             SIQUEIRA TUR TRANSPORTE E TURISMO LTDA   \n",
       "11                  VWX CONSTRUCOES E SERVICOS EIRELI   \n",
       "12  TECNOLOGIA EM PLASTICOS INDUSTRIA, COMERCIO E ...   \n",
       "\n",
       "   Valor do Empenho Convertido pra R$  valor_pago_em_real  \\\n",
       "0                             2500,00              106.34   \n",
       "1                             3060,00            3,060.00   \n",
       "2                              697,50               17.55   \n",
       "3                            45000,00              990.00   \n",
       "4                           430000,00          430,000.00   \n",
       "5                             2814,00            2,814.00   \n",
       "6                             2000,00              956.53   \n",
       "7                             2000,00              956.53   \n",
       "8                             1500,00            1,500.00   \n",
       "9                            63000,00              189.54   \n",
       "10                            2400,00            2,400.00   \n",
       "11                           37887,96            7,565.68   \n",
       "12                            2121,75            2,121.75   \n",
       "\n",
       "   Valor Restos a Pagar Inscritos (R$)  \\\n",
       "0                                 0,00   \n",
       "1                                 0,00   \n",
       "2                                 0,00   \n",
       "3                                 0,00   \n",
       "4                                 0,00   \n",
       "5                                 0,00   \n",
       "6                                 0,00   \n",
       "7                                 0,00   \n",
       "8                                 0,00   \n",
       "9                                 0,00   \n",
       "10                                0,00   \n",
       "11                                0,00   \n",
       "12                                0,00   \n",
       "\n",
       "                                         Observação_x  \\\n",
       "0   ATENDER ACOES DE COMBATE AOS EFEITOS DO COVID ...   \n",
       "1   REEMPENHO DA SOLICITACAO 202002115, UTILIZANDO...   \n",
       "2   REEMPENHO DA SOLICITACAO 202002165, UTILIZANDO...   \n",
       "3   REEMPENHO DA SOLICITACAO 202002362, UTILIZANDO...   \n",
       "4   EMPENHO PARA ATENDER A PORTARIA 999 DE 30/04/2...   \n",
       "5   AQUISICAO DE MAT DE PROTECAO INDUVIDUAL PARA M...   \n",
       "6   ATENDE DESP. DE FORN. DE ENERGIA ELETRICA ENFR...   \n",
       "7   ATENDE DESP. DE FORN. DE ENERGIA ELETRICA ENFR...   \n",
       "8   AQS MAT CONSUMO -DIEX REQ Nº35/PMT CIA C 24ABR...   \n",
       "9   EMPENHO PARA POSSIBILITAR CONTRATACAO DE SERVI...   \n",
       "10  DESTINADO A COBRIR DESPESAS COM LOCACAO DE VEI...   \n",
       "11  COBRIR DESPESAS COM A PRESTACAO DE SERVICOS DE...   \n",
       "12  AQUISICAO CAPA-FARDO DE POLIETILENO VIRGEM P/ ...   \n",
       "\n",
       "                                         Observação_y Modalidade de Licitação  \n",
       "0   RETENCAO-LIQUIDACAO DAS FATURAS NFS ,29582878,...   Dispensa de Licitação  \n",
       "1   PAGAMENTO DA NF 1516, CONFORME SOLICITACAO DE ...                  Pregão  \n",
       "2   PAGAMENTO DAS NFS 2585102/2585508/2586176, CON...                  Pregão  \n",
       "3   PAGAMENTO DA NF 409155, CONFORME SOLICITACAO D...   Dispensa de Licitação  \n",
       "4   PAGAMENTO DE 65740-CORONAVIRUS (COVID-19) PARC...           Não se Aplica  \n",
       "5   OE04COVID00 PAGAMENTO REFERENTE A NFE-57242 AQ...   Dispensa de Licitação  \n",
       "6   IR(1,2) 196,21 CSLL(1,0) 163,52 COFINS(3,0) 49...   Dispensa de Licitação  \n",
       "7   IR(1,2) 196,21 CSLL(1,0) 163,52 COFINS(3,0) 49...   Dispensa de Licitação  \n",
       "8   DANFE NR 21945, 13 MAI  20 - MATERIAL P/ MANUT...                  Pregão  \n",
       "9   DARF DO PAGAMENTO DA NFS 2198, REFERENTE A SER...   Dispensa de Licitação  \n",
       "10  DESTINADO A COBRIR DESPESAS COM LOCACAO DE VEI...   Dispensa de Licitação  \n",
       "11                                       NF 159 -INSS                  Pregão  \n",
       "12  PAGTO. DO DANFE NR. 10211, REFERENTE AQUISICAO...   Dispensa de Licitação  "
      ]
     },
     "execution_count": 24,
     "metadata": {},
     "output_type": "execute_result"
    }
   ],
   "source": [
    "empresas_encontradas_polit_covid19[[\"uf_x\", \"nome_urna\", \"cargo\", \"situcao_eleicao\", \"Data Emissão_x\",\"cod_empenho\", \"id_empenho\", \"Órgão_x\", \"Unidade Gestora_x\", \"Código Favorecido_x\", \"Favorecido_x\", \"Valor do Empenho Convertido pra R$\", \"valor_pago_em_real\", \"Valor Restos a Pagar Inscritos (R$)\", \"Observação_x\", \"Observação_y\",  \"Modalidade de Licitação\"]]"
   ]
  },
  {
   "cell_type": "code",
   "execution_count": 25,
   "metadata": {},
   "outputs": [],
   "source": [
    "empresas_encontradas_polit_covid19.to_csv('resultados/pagamentos_covid19_empresas_candidatos/pagamentos_feitos_de_empenhos_covid19_empresas_politicos_ate_03_jun_2020.csv', index=False)"
   ]
  },
  {
   "cell_type": "code",
   "execution_count": null,
   "metadata": {},
   "outputs": [],
   "source": []
  },
  {
   "cell_type": "code",
   "execution_count": 27,
   "metadata": {},
   "outputs": [],
   "source": [
    "# Checa no arquivo original de pagamentos e também para pegar os totais de cada"
   ]
  },
  {
   "cell_type": "code",
   "execution_count": 28,
   "metadata": {},
   "outputs": [],
   "source": [
    "# AMAZONAS ENERGIA S.A"
   ]
  },
  {
   "cell_type": "code",
   "execution_count": 29,
   "metadata": {},
   "outputs": [],
   "source": [
    "procura = pagamentos_covid19[(pagamentos_covid19['cod_empenho'] == '160137000012020NE800064') &  \n",
    "                           (pagamentos_covid19['id_empenho'] == '177600344')]"
   ]
  },
  {
   "cell_type": "code",
   "execution_count": 30,
   "metadata": {},
   "outputs": [
    {
     "data": {
      "text/html": [
       "<div>\n",
       "<style scoped>\n",
       "    .dataframe tbody tr th:only-of-type {\n",
       "        vertical-align: middle;\n",
       "    }\n",
       "\n",
       "    .dataframe tbody tr th {\n",
       "        vertical-align: top;\n",
       "    }\n",
       "\n",
       "    .dataframe thead th {\n",
       "        text-align: right;\n",
       "    }\n",
       "</style>\n",
       "<table border=\"1\" class=\"dataframe\">\n",
       "  <thead>\n",
       "    <tr style=\"text-align: right;\">\n",
       "      <th></th>\n",
       "      <th>Código Favorecido_x</th>\n",
       "      <th>Favorecido_x</th>\n",
       "      <th>valor_pago_em_real</th>\n",
       "    </tr>\n",
       "  </thead>\n",
       "  <tbody>\n",
       "    <tr>\n",
       "      <th>85</th>\n",
       "      <td>02341467000120</td>\n",
       "      <td>AMAZONAS ENERGIA S.A</td>\n",
       "      <td>106.34</td>\n",
       "    </tr>\n",
       "    <tr>\n",
       "      <th>86</th>\n",
       "      <td>02341467000120</td>\n",
       "      <td>AMAZONAS ENERGIA S.A</td>\n",
       "      <td>1,715.50</td>\n",
       "    </tr>\n",
       "  </tbody>\n",
       "</table>\n",
       "</div>"
      ],
      "text/plain": [
       "   Código Favorecido_x          Favorecido_x  valor_pago_em_real\n",
       "85      02341467000120  AMAZONAS ENERGIA S.A              106.34\n",
       "86      02341467000120  AMAZONAS ENERGIA S.A            1,715.50"
      ]
     },
     "execution_count": 30,
     "metadata": {},
     "output_type": "execute_result"
    }
   ],
   "source": [
    "procura[[\"Código Favorecido_x\", \"Favorecido_x\", \"valor_pago_em_real\"]]"
   ]
  },
  {
   "cell_type": "code",
   "execution_count": 31,
   "metadata": {},
   "outputs": [
    {
     "data": {
      "text/plain": [
       "1821.84"
      ]
     },
     "execution_count": 31,
     "metadata": {},
     "output_type": "execute_result"
    }
   ],
   "source": [
    "procura['valor_pago_em_real'].sum()"
   ]
  },
  {
   "cell_type": "code",
   "execution_count": null,
   "metadata": {},
   "outputs": [],
   "source": []
  },
  {
   "cell_type": "code",
   "execution_count": 32,
   "metadata": {},
   "outputs": [],
   "source": [
    "# PROVIDER PRODUTOS HOSPITALARES E SANEANTES LTDA"
   ]
  },
  {
   "cell_type": "code",
   "execution_count": 33,
   "metadata": {},
   "outputs": [],
   "source": [
    "procura = pagamentos_covid19[(pagamentos_covid19['cod_empenho'] == '155913264432020NE801608') &  \n",
    "                           (pagamentos_covid19['id_empenho'] == '183900342')]"
   ]
  },
  {
   "cell_type": "code",
   "execution_count": 34,
   "metadata": {},
   "outputs": [
    {
     "data": {
      "text/html": [
       "<div>\n",
       "<style scoped>\n",
       "    .dataframe tbody tr th:only-of-type {\n",
       "        vertical-align: middle;\n",
       "    }\n",
       "\n",
       "    .dataframe tbody tr th {\n",
       "        vertical-align: top;\n",
       "    }\n",
       "\n",
       "    .dataframe thead th {\n",
       "        text-align: right;\n",
       "    }\n",
       "</style>\n",
       "<table border=\"1\" class=\"dataframe\">\n",
       "  <thead>\n",
       "    <tr style=\"text-align: right;\">\n",
       "      <th></th>\n",
       "      <th>Código Favorecido_x</th>\n",
       "      <th>Favorecido_x</th>\n",
       "      <th>valor_pago_em_real</th>\n",
       "    </tr>\n",
       "  </thead>\n",
       "  <tbody>\n",
       "    <tr>\n",
       "      <th>332</th>\n",
       "      <td>26164075000100</td>\n",
       "      <td>PROVIDER PRODUTOS HOSPITALARES E SANEANTES LTDA</td>\n",
       "      <td>3,060.00</td>\n",
       "    </tr>\n",
       "  </tbody>\n",
       "</table>\n",
       "</div>"
      ],
      "text/plain": [
       "    Código Favorecido_x                                     Favorecido_x  \\\n",
       "332      26164075000100  PROVIDER PRODUTOS HOSPITALARES E SANEANTES LTDA   \n",
       "\n",
       "     valor_pago_em_real  \n",
       "332            3,060.00  "
      ]
     },
     "execution_count": 34,
     "metadata": {},
     "output_type": "execute_result"
    }
   ],
   "source": [
    "procura[[\"Código Favorecido_x\", \"Favorecido_x\", \"valor_pago_em_real\"]]"
   ]
  },
  {
   "cell_type": "code",
   "execution_count": null,
   "metadata": {},
   "outputs": [],
   "source": []
  },
  {
   "cell_type": "code",
   "execution_count": 35,
   "metadata": {},
   "outputs": [],
   "source": [
    "# CRISTALIA PRODUTOS QUIMICOS FARMACEUTICOS LTDA "
   ]
  },
  {
   "cell_type": "code",
   "execution_count": 36,
   "metadata": {},
   "outputs": [],
   "source": [
    "procura = pagamentos_covid19[(pagamentos_covid19['cod_empenho'] == '155913264432020NE801615') &  \n",
    "                           (pagamentos_covid19['id_empenho'] == '174100368')]"
   ]
  },
  {
   "cell_type": "code",
   "execution_count": 37,
   "metadata": {},
   "outputs": [
    {
     "data": {
      "text/html": [
       "<div>\n",
       "<style scoped>\n",
       "    .dataframe tbody tr th:only-of-type {\n",
       "        vertical-align: middle;\n",
       "    }\n",
       "\n",
       "    .dataframe tbody tr th {\n",
       "        vertical-align: top;\n",
       "    }\n",
       "\n",
       "    .dataframe thead th {\n",
       "        text-align: right;\n",
       "    }\n",
       "</style>\n",
       "<table border=\"1\" class=\"dataframe\">\n",
       "  <thead>\n",
       "    <tr style=\"text-align: right;\">\n",
       "      <th></th>\n",
       "      <th>Código Favorecido_x</th>\n",
       "      <th>Favorecido_x</th>\n",
       "      <th>valor_pago_em_real</th>\n",
       "    </tr>\n",
       "  </thead>\n",
       "  <tbody>\n",
       "    <tr>\n",
       "      <th>358</th>\n",
       "      <td>44734671000151</td>\n",
       "      <td>CRISTALIA PRODUTOS QUIMICOS FARMACEUTICOS LTDA</td>\n",
       "      <td>17.55</td>\n",
       "    </tr>\n",
       "    <tr>\n",
       "      <th>359</th>\n",
       "      <td>44734671000151</td>\n",
       "      <td>CRISTALIA PRODUTOS QUIMICOS FARMACEUTICOS LTDA</td>\n",
       "      <td>679.95</td>\n",
       "    </tr>\n",
       "  </tbody>\n",
       "</table>\n",
       "</div>"
      ],
      "text/plain": [
       "    Código Favorecido_x                                    Favorecido_x  \\\n",
       "358      44734671000151  CRISTALIA PRODUTOS QUIMICOS FARMACEUTICOS LTDA   \n",
       "359      44734671000151  CRISTALIA PRODUTOS QUIMICOS FARMACEUTICOS LTDA   \n",
       "\n",
       "     valor_pago_em_real  \n",
       "358               17.55  \n",
       "359              679.95  "
      ]
     },
     "execution_count": 37,
     "metadata": {},
     "output_type": "execute_result"
    }
   ],
   "source": [
    "procura[[\"Código Favorecido_x\", \"Favorecido_x\", \"valor_pago_em_real\"]]"
   ]
  },
  {
   "cell_type": "code",
   "execution_count": 38,
   "metadata": {},
   "outputs": [
    {
     "data": {
      "text/plain": [
       "697.5"
      ]
     },
     "execution_count": 38,
     "metadata": {},
     "output_type": "execute_result"
    }
   ],
   "source": [
    "procura['valor_pago_em_real'].sum()"
   ]
  },
  {
   "cell_type": "code",
   "execution_count": null,
   "metadata": {},
   "outputs": [],
   "source": []
  },
  {
   "cell_type": "code",
   "execution_count": 39,
   "metadata": {},
   "outputs": [],
   "source": [
    "# UNIAO QUIMICA FARMACEUTICA NACIONAL S A "
   ]
  },
  {
   "cell_type": "code",
   "execution_count": 40,
   "metadata": {},
   "outputs": [],
   "source": [
    "procura = pagamentos_covid19[(pagamentos_covid19['cod_empenho'] == '155913264432020NE801652') &  \n",
    "                           (pagamentos_covid19['id_empenho'] == '174200300')]"
   ]
  },
  {
   "cell_type": "code",
   "execution_count": 41,
   "metadata": {},
   "outputs": [
    {
     "data": {
      "text/html": [
       "<div>\n",
       "<style scoped>\n",
       "    .dataframe tbody tr th:only-of-type {\n",
       "        vertical-align: middle;\n",
       "    }\n",
       "\n",
       "    .dataframe tbody tr th {\n",
       "        vertical-align: top;\n",
       "    }\n",
       "\n",
       "    .dataframe thead th {\n",
       "        text-align: right;\n",
       "    }\n",
       "</style>\n",
       "<table border=\"1\" class=\"dataframe\">\n",
       "  <thead>\n",
       "    <tr style=\"text-align: right;\">\n",
       "      <th></th>\n",
       "      <th>Código Favorecido_x</th>\n",
       "      <th>Favorecido_x</th>\n",
       "      <th>valor_pago_em_real</th>\n",
       "    </tr>\n",
       "  </thead>\n",
       "  <tbody>\n",
       "    <tr>\n",
       "      <th>401</th>\n",
       "      <td>60665981000975</td>\n",
       "      <td>UNIAO QUIMICA FARMACEUTICA NACIONAL S A</td>\n",
       "      <td>990.00</td>\n",
       "    </tr>\n",
       "    <tr>\n",
       "      <th>402</th>\n",
       "      <td>60665981000975</td>\n",
       "      <td>UNIAO QUIMICA FARMACEUTICA NACIONAL S A</td>\n",
       "      <td>44,010.00</td>\n",
       "    </tr>\n",
       "  </tbody>\n",
       "</table>\n",
       "</div>"
      ],
      "text/plain": [
       "    Código Favorecido_x                             Favorecido_x  \\\n",
       "401      60665981000975  UNIAO QUIMICA FARMACEUTICA NACIONAL S A   \n",
       "402      60665981000975  UNIAO QUIMICA FARMACEUTICA NACIONAL S A   \n",
       "\n",
       "     valor_pago_em_real  \n",
       "401              990.00  \n",
       "402           44,010.00  "
      ]
     },
     "execution_count": 41,
     "metadata": {},
     "output_type": "execute_result"
    }
   ],
   "source": [
    "procura[[\"Código Favorecido_x\", \"Favorecido_x\", \"valor_pago_em_real\"]]"
   ]
  },
  {
   "cell_type": "code",
   "execution_count": 42,
   "metadata": {},
   "outputs": [
    {
     "data": {
      "text/plain": [
       "45000.0"
      ]
     },
     "execution_count": 42,
     "metadata": {},
     "output_type": "execute_result"
    }
   ],
   "source": [
    "procura['valor_pago_em_real'].sum()"
   ]
  },
  {
   "cell_type": "code",
   "execution_count": null,
   "metadata": {},
   "outputs": [],
   "source": []
  },
  {
   "cell_type": "code",
   "execution_count": 43,
   "metadata": {},
   "outputs": [],
   "source": [
    "# FUNDO MUNICIPAL DE SAUDE DE RIO QUENTE"
   ]
  },
  {
   "cell_type": "code",
   "execution_count": 44,
   "metadata": {},
   "outputs": [],
   "source": [
    "procura = pagamentos_covid19[(pagamentos_covid19['cod_empenho'] == '257001000012020NE818845') &  \n",
    "                           (pagamentos_covid19['id_empenho'] == '180201534')]"
   ]
  },
  {
   "cell_type": "code",
   "execution_count": 45,
   "metadata": {},
   "outputs": [
    {
     "data": {
      "text/html": [
       "<div>\n",
       "<style scoped>\n",
       "    .dataframe tbody tr th:only-of-type {\n",
       "        vertical-align: middle;\n",
       "    }\n",
       "\n",
       "    .dataframe tbody tr th {\n",
       "        vertical-align: top;\n",
       "    }\n",
       "\n",
       "    .dataframe thead th {\n",
       "        text-align: right;\n",
       "    }\n",
       "</style>\n",
       "<table border=\"1\" class=\"dataframe\">\n",
       "  <thead>\n",
       "    <tr style=\"text-align: right;\">\n",
       "      <th></th>\n",
       "      <th>Data Emissão_x</th>\n",
       "      <th>Código Favorecido_x</th>\n",
       "      <th>Favorecido_x</th>\n",
       "      <th>valor_pago_em_real</th>\n",
       "    </tr>\n",
       "  </thead>\n",
       "  <tbody>\n",
       "    <tr>\n",
       "      <th>2040</th>\n",
       "      <td>04/05/2020</td>\n",
       "      <td>08278113000165</td>\n",
       "      <td>FUNDO MUNICIPAL DE SAUDE DE RIO QUENTE</td>\n",
       "      <td>430,000.00</td>\n",
       "    </tr>\n",
       "  </tbody>\n",
       "</table>\n",
       "</div>"
      ],
      "text/plain": [
       "     Data Emissão_x Código Favorecido_x  \\\n",
       "2040     04/05/2020      08278113000165   \n",
       "\n",
       "                                Favorecido_x  valor_pago_em_real  \n",
       "2040  FUNDO MUNICIPAL DE SAUDE DE RIO QUENTE          430,000.00  "
      ]
     },
     "execution_count": 45,
     "metadata": {},
     "output_type": "execute_result"
    }
   ],
   "source": [
    "procura[[\"Data Emissão_x\", \"Código Favorecido_x\", \"Favorecido_x\", \"valor_pago_em_real\"]]"
   ]
  },
  {
   "cell_type": "code",
   "execution_count": null,
   "metadata": {},
   "outputs": [],
   "source": []
  },
  {
   "cell_type": "code",
   "execution_count": 46,
   "metadata": {},
   "outputs": [],
   "source": [
    "# COMPANHIA ESTADUAL DE DISTRIBUICAO DE ENERGIA ELETRICA"
   ]
  },
  {
   "cell_type": "code",
   "execution_count": 47,
   "metadata": {},
   "outputs": [],
   "source": [
    "procura = pagamentos_covid19[(pagamentos_covid19['cod_empenho'] == '160388000012020NE800142') &  \n",
    "                           (pagamentos_covid19['id_empenho'] == '174500711')]"
   ]
  },
  {
   "cell_type": "code",
   "execution_count": 48,
   "metadata": {},
   "outputs": [
    {
     "data": {
      "text/html": [
       "<div>\n",
       "<style scoped>\n",
       "    .dataframe tbody tr th:only-of-type {\n",
       "        vertical-align: middle;\n",
       "    }\n",
       "\n",
       "    .dataframe tbody tr th {\n",
       "        vertical-align: top;\n",
       "    }\n",
       "\n",
       "    .dataframe thead th {\n",
       "        text-align: right;\n",
       "    }\n",
       "</style>\n",
       "<table border=\"1\" class=\"dataframe\">\n",
       "  <thead>\n",
       "    <tr style=\"text-align: right;\">\n",
       "      <th></th>\n",
       "      <th>Código Favorecido_x</th>\n",
       "      <th>Favorecido_x</th>\n",
       "      <th>valor_pago_em_real</th>\n",
       "    </tr>\n",
       "  </thead>\n",
       "  <tbody>\n",
       "    <tr>\n",
       "      <th>6639</th>\n",
       "      <td>08467115000100</td>\n",
       "      <td>COMPANHIA ESTADUAL DE DISTRIBUICAO DE ENERGIA ...</td>\n",
       "      <td>10.37</td>\n",
       "    </tr>\n",
       "    <tr>\n",
       "      <th>6640</th>\n",
       "      <td>08467115000100</td>\n",
       "      <td>COMPANHIA ESTADUAL DE DISTRIBUICAO DE ENERGIA ...</td>\n",
       "      <td>166.90</td>\n",
       "    </tr>\n",
       "    <tr>\n",
       "      <th>6641</th>\n",
       "      <td>08467115000100</td>\n",
       "      <td>COMPANHIA ESTADUAL DE DISTRIBUICAO DE ENERGIA ...</td>\n",
       "      <td>6.20</td>\n",
       "    </tr>\n",
       "    <tr>\n",
       "      <th>6642</th>\n",
       "      <td>08467115000100</td>\n",
       "      <td>COMPANHIA ESTADUAL DE DISTRIBUICAO DE ENERGIA ...</td>\n",
       "      <td>100.10</td>\n",
       "    </tr>\n",
       "    <tr>\n",
       "      <th>6643</th>\n",
       "      <td>08467115000100</td>\n",
       "      <td>COMPANHIA ESTADUAL DE DISTRIBUICAO DE ENERGIA ...</td>\n",
       "      <td>74.80</td>\n",
       "    </tr>\n",
       "    <tr>\n",
       "      <th>6644</th>\n",
       "      <td>08467115000100</td>\n",
       "      <td>COMPANHIA ESTADUAL DE DISTRIBUICAO DE ENERGIA ...</td>\n",
       "      <td>1,204.27</td>\n",
       "    </tr>\n",
       "  </tbody>\n",
       "</table>\n",
       "</div>"
      ],
      "text/plain": [
       "     Código Favorecido_x                                       Favorecido_x  \\\n",
       "6639      08467115000100  COMPANHIA ESTADUAL DE DISTRIBUICAO DE ENERGIA ...   \n",
       "6640      08467115000100  COMPANHIA ESTADUAL DE DISTRIBUICAO DE ENERGIA ...   \n",
       "6641      08467115000100  COMPANHIA ESTADUAL DE DISTRIBUICAO DE ENERGIA ...   \n",
       "6642      08467115000100  COMPANHIA ESTADUAL DE DISTRIBUICAO DE ENERGIA ...   \n",
       "6643      08467115000100  COMPANHIA ESTADUAL DE DISTRIBUICAO DE ENERGIA ...   \n",
       "6644      08467115000100  COMPANHIA ESTADUAL DE DISTRIBUICAO DE ENERGIA ...   \n",
       "\n",
       "      valor_pago_em_real  \n",
       "6639               10.37  \n",
       "6640              166.90  \n",
       "6641                6.20  \n",
       "6642              100.10  \n",
       "6643               74.80  \n",
       "6644            1,204.27  "
      ]
     },
     "execution_count": 48,
     "metadata": {},
     "output_type": "execute_result"
    }
   ],
   "source": [
    "procura[[\"Código Favorecido_x\", \"Favorecido_x\", \"valor_pago_em_real\"]]"
   ]
  },
  {
   "cell_type": "code",
   "execution_count": 49,
   "metadata": {},
   "outputs": [
    {
     "data": {
      "text/plain": [
       "1562.6399999999999"
      ]
     },
     "execution_count": 49,
     "metadata": {},
     "output_type": "execute_result"
    }
   ],
   "source": [
    "procura['valor_pago_em_real'].sum()"
   ]
  },
  {
   "cell_type": "code",
   "execution_count": null,
   "metadata": {},
   "outputs": [],
   "source": []
  },
  {
   "cell_type": "code",
   "execution_count": 50,
   "metadata": {},
   "outputs": [],
   "source": [
    "# VWX CONSTRUCOES E SERVICOS EIRELI"
   ]
  },
  {
   "cell_type": "code",
   "execution_count": 51,
   "metadata": {},
   "outputs": [],
   "source": [
    "procura = pagamentos_covid19[(pagamentos_covid19['cod_empenho'] == '194048192082020NE800066') &  \n",
    "                           (pagamentos_covid19['id_empenho'] == '179700716')]"
   ]
  },
  {
   "cell_type": "code",
   "execution_count": 52,
   "metadata": {},
   "outputs": [
    {
     "data": {
      "text/html": [
       "<div>\n",
       "<style scoped>\n",
       "    .dataframe tbody tr th:only-of-type {\n",
       "        vertical-align: middle;\n",
       "    }\n",
       "\n",
       "    .dataframe tbody tr th {\n",
       "        vertical-align: top;\n",
       "    }\n",
       "\n",
       "    .dataframe thead th {\n",
       "        text-align: right;\n",
       "    }\n",
       "</style>\n",
       "<table border=\"1\" class=\"dataframe\">\n",
       "  <thead>\n",
       "    <tr style=\"text-align: right;\">\n",
       "      <th></th>\n",
       "      <th>Código Favorecido_x</th>\n",
       "      <th>Favorecido_x</th>\n",
       "      <th>valor_pago_em_real</th>\n",
       "    </tr>\n",
       "  </thead>\n",
       "  <tbody>\n",
       "    <tr>\n",
       "      <th>6767</th>\n",
       "      <td>14476150000180</td>\n",
       "      <td>VWX CONSTRUCOES E SERVICOS EIRELI</td>\n",
       "      <td>7,565.68</td>\n",
       "    </tr>\n",
       "    <tr>\n",
       "      <th>6768</th>\n",
       "      <td>14476150000180</td>\n",
       "      <td>VWX CONSTRUCOES E SERVICOS EIRELI</td>\n",
       "      <td>8,489.58</td>\n",
       "    </tr>\n",
       "    <tr>\n",
       "      <th>6769</th>\n",
       "      <td>14476150000180</td>\n",
       "      <td>VWX CONSTRUCOES E SERVICOS EIRELI</td>\n",
       "      <td>2,888.72</td>\n",
       "    </tr>\n",
       "  </tbody>\n",
       "</table>\n",
       "</div>"
      ],
      "text/plain": [
       "     Código Favorecido_x                       Favorecido_x  \\\n",
       "6767      14476150000180  VWX CONSTRUCOES E SERVICOS EIRELI   \n",
       "6768      14476150000180  VWX CONSTRUCOES E SERVICOS EIRELI   \n",
       "6769      14476150000180  VWX CONSTRUCOES E SERVICOS EIRELI   \n",
       "\n",
       "      valor_pago_em_real  \n",
       "6767            7,565.68  \n",
       "6768            8,489.58  \n",
       "6769            2,888.72  "
      ]
     },
     "execution_count": 52,
     "metadata": {},
     "output_type": "execute_result"
    }
   ],
   "source": [
    "procura[[\"Código Favorecido_x\", \"Favorecido_x\", \"valor_pago_em_real\"]]"
   ]
  },
  {
   "cell_type": "code",
   "execution_count": 53,
   "metadata": {},
   "outputs": [
    {
     "data": {
      "text/plain": [
       "18943.98"
      ]
     },
     "execution_count": 53,
     "metadata": {},
     "output_type": "execute_result"
    }
   ],
   "source": [
    "procura['valor_pago_em_real'].sum()"
   ]
  },
  {
   "cell_type": "code",
   "execution_count": null,
   "metadata": {},
   "outputs": [],
   "source": []
  },
  {
   "cell_type": "code",
   "execution_count": 54,
   "metadata": {},
   "outputs": [],
   "source": [
    "# RIBEIRO E DINIZ COMERCIO DE PECAS E SERVICOS AUTOMOTIVO"
   ]
  },
  {
   "cell_type": "code",
   "execution_count": 55,
   "metadata": {},
   "outputs": [],
   "source": [
    "procura = pagamentos_covid19[(pagamentos_covid19['cod_empenho'] == '160055000012020NE800042') &  \n",
    "                           (pagamentos_covid19['id_empenho'] == '144306058')]"
   ]
  },
  {
   "cell_type": "code",
   "execution_count": 56,
   "metadata": {},
   "outputs": [
    {
     "data": {
      "text/html": [
       "<div>\n",
       "<style scoped>\n",
       "    .dataframe tbody tr th:only-of-type {\n",
       "        vertical-align: middle;\n",
       "    }\n",
       "\n",
       "    .dataframe tbody tr th {\n",
       "        vertical-align: top;\n",
       "    }\n",
       "\n",
       "    .dataframe thead th {\n",
       "        text-align: right;\n",
       "    }\n",
       "</style>\n",
       "<table border=\"1\" class=\"dataframe\">\n",
       "  <thead>\n",
       "    <tr style=\"text-align: right;\">\n",
       "      <th></th>\n",
       "      <th>Data Emissão_x</th>\n",
       "      <th>Código Favorecido_x</th>\n",
       "      <th>Favorecido_x</th>\n",
       "      <th>valor_pago_em_real</th>\n",
       "    </tr>\n",
       "  </thead>\n",
       "  <tbody>\n",
       "    <tr>\n",
       "      <th>9492</th>\n",
       "      <td>13/03/2020</td>\n",
       "      <td>08990041000184</td>\n",
       "      <td>RIBEIRO E DINIZ COMERCIO DE PECAS E SERVICOS A...</td>\n",
       "      <td>499.29</td>\n",
       "    </tr>\n",
       "    <tr>\n",
       "      <th>9493</th>\n",
       "      <td>13/03/2020</td>\n",
       "      <td>08990041000184</td>\n",
       "      <td>RIBEIRO E DINIZ COMERCIO DE PECAS E SERVICOS A...</td>\n",
       "      <td>9,486.44</td>\n",
       "    </tr>\n",
       "  </tbody>\n",
       "</table>\n",
       "</div>"
      ],
      "text/plain": [
       "     Data Emissão_x Código Favorecido_x  \\\n",
       "9492     13/03/2020      08990041000184   \n",
       "9493     13/03/2020      08990041000184   \n",
       "\n",
       "                                           Favorecido_x  valor_pago_em_real  \n",
       "9492  RIBEIRO E DINIZ COMERCIO DE PECAS E SERVICOS A...              499.29  \n",
       "9493  RIBEIRO E DINIZ COMERCIO DE PECAS E SERVICOS A...            9,486.44  "
      ]
     },
     "execution_count": 56,
     "metadata": {},
     "output_type": "execute_result"
    }
   ],
   "source": [
    "procura[[\"Data Emissão_x\", \"Código Favorecido_x\", \"Favorecido_x\", \"valor_pago_em_real\"]]"
   ]
  },
  {
   "cell_type": "code",
   "execution_count": 57,
   "metadata": {},
   "outputs": [
    {
     "data": {
      "text/plain": [
       "9985.730000000001"
      ]
     },
     "execution_count": 57,
     "metadata": {},
     "output_type": "execute_result"
    }
   ],
   "source": [
    "procura['valor_pago_em_real'].sum()"
   ]
  },
  {
   "cell_type": "code",
   "execution_count": null,
   "metadata": {},
   "outputs": [],
   "source": []
  },
  {
   "cell_type": "code",
   "execution_count": 58,
   "metadata": {},
   "outputs": [
    {
     "data": {
      "text/html": [
       "<div>\n",
       "<style scoped>\n",
       "    .dataframe tbody tr th:only-of-type {\n",
       "        vertical-align: middle;\n",
       "    }\n",
       "\n",
       "    .dataframe tbody tr th {\n",
       "        vertical-align: top;\n",
       "    }\n",
       "\n",
       "    .dataframe thead th {\n",
       "        text-align: right;\n",
       "    }\n",
       "</style>\n",
       "<table border=\"1\" class=\"dataframe\">\n",
       "  <thead>\n",
       "    <tr style=\"text-align: right;\">\n",
       "      <th></th>\n",
       "      <th>Código Favorecido_x</th>\n",
       "      <th>Favorecido_x</th>\n",
       "      <th>valor_pago_em_real</th>\n",
       "    </tr>\n",
       "  </thead>\n",
       "  <tbody>\n",
       "    <tr>\n",
       "      <th>5586</th>\n",
       "      <td>05929516000139</td>\n",
       "      <td>SIQUEIRA TUR TRANSPORTE E TURISMO LTDA</td>\n",
       "      <td>2,400.00</td>\n",
       "    </tr>\n",
       "  </tbody>\n",
       "</table>\n",
       "</div>"
      ],
      "text/plain": [
       "     Código Favorecido_x                            Favorecido_x  \\\n",
       "5586      05929516000139  SIQUEIRA TUR TRANSPORTE E TURISMO LTDA   \n",
       "\n",
       "      valor_pago_em_real  \n",
       "5586            2,400.00  "
      ]
     },
     "execution_count": 58,
     "metadata": {},
     "output_type": "execute_result"
    }
   ],
   "source": [
    "# SIQUEIRA TUR TRANSPORTE E TURISMO LTDA\n",
    "procura = pagamentos_covid19[(pagamentos_covid19['cod_empenho'] == '194045192082020NE800087') &  \n",
    "                           (pagamentos_covid19['id_empenho'] == '181302380')]\n",
    "procura[[\"Código Favorecido_x\", \"Favorecido_x\", \"valor_pago_em_real\"]]"
   ]
  },
  {
   "cell_type": "code",
   "execution_count": 59,
   "metadata": {},
   "outputs": [
    {
     "data": {
      "text/plain": [
       "2400.0"
      ]
     },
     "execution_count": 59,
     "metadata": {},
     "output_type": "execute_result"
    }
   ],
   "source": [
    "procura['valor_pago_em_real'].sum()"
   ]
  },
  {
   "cell_type": "code",
   "execution_count": null,
   "metadata": {},
   "outputs": [],
   "source": []
  },
  {
   "cell_type": "code",
   "execution_count": 26,
   "metadata": {},
   "outputs": [],
   "source": [
    "# JHONATHAN MACIEL DE SOUZA EIRELI"
   ]
  },
  {
   "cell_type": "code",
   "execution_count": 27,
   "metadata": {},
   "outputs": [],
   "source": [
    "procura = pagamentos_covid19[(pagamentos_covid19['cod_empenho'] == '160005000012020NE800119') &  \n",
    "                           (pagamentos_covid19['id_empenho'] == '176401476')]"
   ]
  },
  {
   "cell_type": "code",
   "execution_count": 28,
   "metadata": {},
   "outputs": [
    {
     "data": {
      "text/html": [
       "<div>\n",
       "<style scoped>\n",
       "    .dataframe tbody tr th:only-of-type {\n",
       "        vertical-align: middle;\n",
       "    }\n",
       "\n",
       "    .dataframe tbody tr th {\n",
       "        vertical-align: top;\n",
       "    }\n",
       "\n",
       "    .dataframe thead th {\n",
       "        text-align: right;\n",
       "    }\n",
       "</style>\n",
       "<table border=\"1\" class=\"dataframe\">\n",
       "  <thead>\n",
       "    <tr style=\"text-align: right;\">\n",
       "      <th></th>\n",
       "      <th>Código Favorecido_x</th>\n",
       "      <th>Favorecido_x</th>\n",
       "      <th>valor_pago_em_real</th>\n",
       "    </tr>\n",
       "  </thead>\n",
       "  <tbody>\n",
       "    <tr>\n",
       "      <th>2455</th>\n",
       "      <td>31783115000123</td>\n",
       "      <td>JHONATHAN MACIEL DE SOUZA EIRELI</td>\n",
       "      <td>2,814.00</td>\n",
       "    </tr>\n",
       "  </tbody>\n",
       "</table>\n",
       "</div>"
      ],
      "text/plain": [
       "     Código Favorecido_x                      Favorecido_x  valor_pago_em_real\n",
       "2455      31783115000123  JHONATHAN MACIEL DE SOUZA EIRELI            2,814.00"
      ]
     },
     "execution_count": 28,
     "metadata": {},
     "output_type": "execute_result"
    }
   ],
   "source": [
    "procura[[\"Código Favorecido_x\", \"Favorecido_x\", \"valor_pago_em_real\"]]"
   ]
  },
  {
   "cell_type": "code",
   "execution_count": 29,
   "metadata": {},
   "outputs": [
    {
     "data": {
      "text/plain": [
       "2814.0"
      ]
     },
     "execution_count": 29,
     "metadata": {},
     "output_type": "execute_result"
    }
   ],
   "source": [
    "procura['valor_pago_em_real'].sum()"
   ]
  },
  {
   "cell_type": "code",
   "execution_count": null,
   "metadata": {},
   "outputs": [],
   "source": []
  },
  {
   "cell_type": "code",
   "execution_count": null,
   "metadata": {},
   "outputs": [],
   "source": []
  },
  {
   "cell_type": "code",
   "execution_count": 44,
   "metadata": {},
   "outputs": [],
   "source": [
    "# E também depois no site da Receita: https://servicos.receita.fazenda.gov.br/Servicos/cnpjreva/Cnpjreva_Solicitacao.asp"
   ]
  },
  {
   "cell_type": "code",
   "execution_count": null,
   "metadata": {},
   "outputs": [],
   "source": []
  },
  {
   "cell_type": "code",
   "execution_count": 60,
   "metadata": {},
   "outputs": [],
   "source": [
    "procura = pagamentos_covid19[(pagamentos_covid19['cod_empenho'] == '155913264432020NE801608') &  \n",
    "                           (pagamentos_covid19['id_empenho'] == '183900342')]"
   ]
  },
  {
   "cell_type": "code",
   "execution_count": 61,
   "metadata": {},
   "outputs": [
    {
     "data": {
      "text/html": [
       "<div>\n",
       "<style scoped>\n",
       "    .dataframe tbody tr th:only-of-type {\n",
       "        vertical-align: middle;\n",
       "    }\n",
       "\n",
       "    .dataframe tbody tr th {\n",
       "        vertical-align: top;\n",
       "    }\n",
       "\n",
       "    .dataframe thead th {\n",
       "        text-align: right;\n",
       "    }\n",
       "</style>\n",
       "<table border=\"1\" class=\"dataframe\">\n",
       "  <thead>\n",
       "    <tr style=\"text-align: right;\">\n",
       "      <th></th>\n",
       "      <th>Código Favorecido_x</th>\n",
       "      <th>Favorecido_x</th>\n",
       "      <th>valor_pago_em_real</th>\n",
       "    </tr>\n",
       "  </thead>\n",
       "  <tbody>\n",
       "    <tr>\n",
       "      <th>243</th>\n",
       "      <td>26164075000100</td>\n",
       "      <td>PROVIDER PRODUTOS HOSPITALARES E SANEANTES LTDA</td>\n",
       "      <td>3,060.00</td>\n",
       "    </tr>\n",
       "  </tbody>\n",
       "</table>\n",
       "</div>"
      ],
      "text/plain": [
       "    Código Favorecido_x                                     Favorecido_x  \\\n",
       "243      26164075000100  PROVIDER PRODUTOS HOSPITALARES E SANEANTES LTDA   \n",
       "\n",
       "     valor_pago_em_real  \n",
       "243            3,060.00  "
      ]
     },
     "execution_count": 61,
     "metadata": {},
     "output_type": "execute_result"
    }
   ],
   "source": [
    "procura[[\"Código Favorecido_x\", \"Favorecido_x\", \"valor_pago_em_real\"]]"
   ]
  },
  {
   "cell_type": "code",
   "execution_count": 62,
   "metadata": {},
   "outputs": [
    {
     "data": {
      "text/plain": [
       "3060.0"
      ]
     },
     "execution_count": 62,
     "metadata": {},
     "output_type": "execute_result"
    }
   ],
   "source": [
    "procura['valor_pago_em_real'].sum()"
   ]
  },
  {
   "cell_type": "code",
   "execution_count": null,
   "metadata": {},
   "outputs": [],
   "source": []
  },
  {
   "cell_type": "code",
   "execution_count": null,
   "metadata": {},
   "outputs": [],
   "source": []
  }
 ],
 "metadata": {
  "kernelspec": {
   "display_name": "Python 3",
   "language": "python",
   "name": "python3"
  },
  "language_info": {
   "codemirror_mode": {
    "name": "ipython",
    "version": 3
   },
   "file_extension": ".py",
   "mimetype": "text/x-python",
   "name": "python",
   "nbconvert_exporter": "python",
   "pygments_lexer": "ipython3",
   "version": "3.6.9"
  }
 },
 "nbformat": 4,
 "nbformat_minor": 4
}
